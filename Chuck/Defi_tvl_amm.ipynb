{
 "cells": [
  {
   "cell_type": "markdown",
   "metadata": {},
   "source": [
    "# DEFI PROJECT- "
   ]
  },
  {
   "cell_type": "markdown",
   "metadata": {},
   "source": [
    "##### Chakravarti Raghavan's Defi Total Value Locked and Automated Market Maker Trade data analysis"
   ]
  },
  {
   "cell_type": "markdown",
   "metadata": {},
   "source": [
    "#### Import libraries needed"
   ]
  },
  {
   "cell_type": "code",
   "execution_count": 1,
   "metadata": {},
   "outputs": [],
   "source": [
    "# Initial imports\n",
    "import os\n",
    "import requests\n",
    "import pandas as pd\n",
    "from dotenv import load_dotenv\n",
    "#import alpaca_trade_api as tradeapi\n",
    "#from MCForecastTools import MCSimulation\n",
    "from datetime import date, timedelta\n",
    "from cryptocmd import CmcScraper\n",
    "%matplotlib inline\n",
    "import matplotlib.pyplot as plt\n",
    "#import matplotlib.ticker as mticker\n"
   ]
  },
  {
   "cell_type": "code",
   "execution_count": 2,
   "metadata": {},
   "outputs": [],
   "source": [
    "pd.set_option('display.float_format', lambda x: '%.3f' % x)"
   ]
  },
  {
   "cell_type": "code",
   "execution_count": 3,
   "metadata": {},
   "outputs": [
    {
     "data": {
      "text/plain": [
       "True"
      ]
     },
     "execution_count": 3,
     "metadata": {},
     "output_type": "execute_result"
    }
   ],
   "source": [
    "# Load .env enviroment variables\n",
    "load_dotenv()"
   ]
  },
  {
   "cell_type": "markdown",
   "metadata": {},
   "source": [
    "#### Set API key"
   ]
  },
  {
   "cell_type": "code",
   "execution_count": 4,
   "metadata": {},
   "outputs": [],
   "source": [
    "defipulse_api_key = os.getenv(\"DATA_DEFI_PULSE_KEY\")"
   ]
  },
  {
   "cell_type": "code",
   "execution_count": 5,
   "metadata": {},
   "outputs": [],
   "source": [
    "#defipulse_api_key"
   ]
  },
  {
   "cell_type": "code",
   "execution_count": 6,
   "metadata": {},
   "outputs": [],
   "source": [
    "defipulse_url = f\"https://data-api.defipulse.com/api/v1/defipulse/api/MarketData?api-key={defipulse_api_key}\"\n",
    "defipulse_eth_gas_url2 = f\"https://data-api.defipulse.com/api/v1/egs/api/ethgasAPI.json?api-key={defipulse_api_key}\"\n",
    "defi_exchanges_url = f\"https://data-api.defipulse.com/api/v1/blocklytics/pools/v1/exchanges?api-key={defipulse_api_key}\"\n"
   ]
  },
  {
   "cell_type": "code",
   "execution_count": 7,
   "metadata": {},
   "outputs": [],
   "source": [
    "defi_history_response_data = requests.get(defipulse_url).json()\n",
    "defi_exchanges_response_data = requests.get(defi_exchanges_url).json()\n",
    "#defi_eth_gas_response_data = requests.get(defipulse_eth_gas_url2).json()\n",
    "#defi_history_response_data2 = requests.get(https://data-api.defipulse.com/api/v1/defipulse/api/GetHistory?"
   ]
  },
  {
   "cell_type": "markdown",
   "metadata": {},
   "source": [
    "#### This TVL history stopped working with Internal Error 500 since couple days. I had already taken the basic HVplots and also had fortunately downloaded the dataframe as file. So i could have used this file further for more better analysis if i had more time. "
   ]
  },
  {
   "cell_type": "markdown",
   "metadata": {},
   "source": [
    "#### i have posted this error in DeFiPulse Discord group and they were able to reproduce that error and they are looking into this."
   ]
  },
  {
   "cell_type": "code",
   "execution_count": 8,
   "metadata": {},
   "outputs": [],
   "source": [
    "tvl_history_url = f\"https://data-api.defipulse.com/api/v1/defipulse/api/GetHistory?api-key={defipulse_api_key}\"\n",
    "tvl_history_response_data = requests.get(tvl_history_url).json()"
   ]
  },
  {
   "cell_type": "code",
   "execution_count": 9,
   "metadata": {},
   "outputs": [],
   "source": [
    "#print(defi_history_response_data)\n",
    "#print(len(defi_history_response_data))\n",
    "#print(type(defi_history_response_data))"
   ]
  },
  {
   "cell_type": "code",
   "execution_count": 10,
   "metadata": {},
   "outputs": [
    {
     "name": "stdout",
     "output_type": "stream",
     "text": [
      "1\n"
     ]
    }
   ],
   "source": [
    "print(len(tvl_history_response_data))"
   ]
  },
  {
   "cell_type": "markdown",
   "metadata": {},
   "source": [
    "#### Check the Defi histoy Json"
   ]
  },
  {
   "cell_type": "code",
   "execution_count": 11,
   "metadata": {},
   "outputs": [
    {
     "name": "stdout",
     "output_type": "stream",
     "text": [
      "All\n",
      "     total\n",
      "       60160777608\n",
      "     dominance_name\n",
      "       Aave\n",
      "     dominance_value\n",
      "       9046957828\n",
      "     value\n",
      "       {'total': {'USD': {'value': 60160777608}, 'ETH': {'value': 8901557.128355142}, 'BTC': {'value': 174610.08021422997}}, 'balance': {'ERC20': {'DAI': {'value': 2717068469.5003977}}}, 'tvl': {'ETH': {'value': 23232315.365336563}}}\n",
      "     dominance_pct\n",
      "       15.037966907523753\n",
      "Lending\n",
      "     total\n",
      "       33263224357\n",
      "     dominance_name\n",
      "       Aave\n",
      "     dominance_value\n",
      "       9046957828\n",
      "     value\n",
      "       {'total': {'USD': {'value': 33263224357}, 'ETH': {'value': 6085875.767647001}, 'BTC': {'value': 105954.10162021}}, 'balance': {'ERC20': {'DAI': {'value': 1741857420.2634442}}}, 'tvl': {'ETH': {'value': 12845274.762987874}}}\n",
      "     dominance_pct\n",
      "       27.198078366976276\n",
      "DEXes\n",
      "     total\n",
      "       20460139921\n",
      "     dominance_name\n",
      "       Curve Finance\n",
      "     dominance_value\n",
      "       7439539302\n",
      "     value\n",
      "       {'total': {'USD': {'value': 20460139921}, 'ETH': {'value': 2494333.708832}, 'BTC': {'value': 41012.49597617}}, 'balance': {'ERC20': {'DAI': {'value': 865827212.2823708}}}, 'tvl': {'ETH': {'value': 7901101.713824516}}}\n",
      "     dominance_pct\n",
      "       36.361135997726784\n",
      "Derivatives\n",
      "     total\n",
      "       2289665432\n",
      "     dominance_name\n",
      "       Synthetix\n",
      "     dominance_value\n",
      "       1267724873\n",
      "     value\n",
      "       {'total': {'USD': {'value': 2289665432}, 'ETH': {'value': 217988.21878114194}, 'BTC': {'value': 1308.2041648499999}}, 'balance': {'ERC20': {'DAI': {'value': 27780507.71360359}}}, 'tvl': {'ETH': {'value': 884201.1608284129}}}\n",
      "     dominance_pct\n",
      "       55.367253891441024\n",
      "Payments\n",
      "     total\n",
      "       2269066147\n",
      "     dominance_name\n",
      "       Flexa\n",
      "     dominance_value\n",
      "       1083265372\n",
      "     value\n",
      "       {'total': {'USD': {'value': 2269066147}, 'ETH': {'value': 2934.982025}, 'BTC': {'value': 3241.777773}}, 'balance': {'ERC20': {'DAI': {'value': 43285807.41965473}}}, 'tvl': {'ETH': {'value': 876246.3253949558}}}\n",
      "     dominance_pct\n",
      "       47.74058144722741\n",
      "Assets\n",
      "     total\n",
      "       1878681751\n",
      "     dominance_name\n",
      "       Badger DAO\n",
      "     dominance_value\n",
      "       505606880\n",
      "     value\n",
      "       {'total': {'USD': {'value': 1878681751}, 'ETH': {'value': 100424.45107}, 'BTC': {'value': 23093.50067999999}}, 'balance': {'ERC20': {'DAI': {'value': 38317521.82132494}}}, 'tvl': {'ETH': {'value': 725491.4023008036}}}\n",
      "     dominance_pct\n",
      "       26.912854171861277\n"
     ]
    }
   ],
   "source": [
    "for k, v in defi_history_response_data.items():\n",
    "    print(k)\n",
    "#    print(type(k))\n",
    "    #for k1, v1 in k.items():\n",
    "    #    print(k1)\n",
    "    #    print(v1)\n",
    "#    print(v)\n",
    "#    print(type(v))\n",
    "    for k1, v1 in v.items():\n",
    "        print('    ', k1)\n",
    "        print('      ',v1)"
   ]
  },
  {
   "cell_type": "code",
   "execution_count": 12,
   "metadata": {},
   "outputs": [
    {
     "data": {
      "text/plain": [
       "{'error': 'Request failed with status code 500'}"
      ]
     },
     "execution_count": 12,
     "metadata": {},
     "output_type": "execute_result"
    }
   ],
   "source": [
    "tvl_history_response_data"
   ]
  },
  {
   "cell_type": "markdown",
   "metadata": {},
   "source": [
    "#### analyse the JSON. Since this one API link does not work anymore - Jupyter notebook has some errors now."
   ]
  },
  {
   "cell_type": "code",
   "execution_count": 11,
   "metadata": {},
   "outputs": [
    {
     "name": "stdout",
     "output_type": "stream",
     "text": [
      "<class 'dict'>\n",
      "1\n"
     ]
    },
    {
     "ename": "KeyError",
     "evalue": "0",
     "output_type": "error",
     "traceback": [
      "\u001b[1;31m---------------------------------------------------------------------------\u001b[0m",
      "\u001b[1;31mKeyError\u001b[0m                                  Traceback (most recent call last)",
      "\u001b[1;32m<ipython-input-11-ec7382d90057>\u001b[0m in \u001b[0;36m<module>\u001b[1;34m\u001b[0m\n\u001b[0;32m      1\u001b[0m \u001b[0mprint\u001b[0m\u001b[1;33m(\u001b[0m\u001b[0mtype\u001b[0m\u001b[1;33m(\u001b[0m\u001b[0mtvl_history_response_data\u001b[0m\u001b[1;33m)\u001b[0m\u001b[1;33m)\u001b[0m\u001b[1;33m\u001b[0m\u001b[1;33m\u001b[0m\u001b[0m\n\u001b[0;32m      2\u001b[0m \u001b[0mprint\u001b[0m\u001b[1;33m(\u001b[0m\u001b[0mlen\u001b[0m\u001b[1;33m(\u001b[0m\u001b[0mtvl_history_response_data\u001b[0m\u001b[1;33m)\u001b[0m\u001b[1;33m)\u001b[0m\u001b[1;33m\u001b[0m\u001b[1;33m\u001b[0m\u001b[0m\n\u001b[1;32m----> 3\u001b[1;33m \u001b[0mprint\u001b[0m\u001b[1;33m(\u001b[0m\u001b[0mtvl_history_response_data\u001b[0m\u001b[1;33m[\u001b[0m\u001b[1;36m0\u001b[0m\u001b[1;33m]\u001b[0m\u001b[1;33m)\u001b[0m\u001b[1;33m\u001b[0m\u001b[1;33m\u001b[0m\u001b[0m\n\u001b[0m\u001b[0;32m      4\u001b[0m \u001b[0mprint\u001b[0m\u001b[1;33m(\u001b[0m\u001b[0mtype\u001b[0m\u001b[1;33m(\u001b[0m\u001b[0mtvl_history_response_data\u001b[0m\u001b[1;33m)\u001b[0m\u001b[1;33m)\u001b[0m\u001b[1;33m\u001b[0m\u001b[1;33m\u001b[0m\u001b[0m\n\u001b[0;32m      5\u001b[0m \u001b[0mline1\u001b[0m \u001b[1;33m=\u001b[0m \u001b[0mtvl_history_response_data\u001b[0m\u001b[1;33m[\u001b[0m\u001b[1;36m0\u001b[0m\u001b[1;33m]\u001b[0m\u001b[1;33m\u001b[0m\u001b[1;33m\u001b[0m\u001b[0m\n",
      "\u001b[1;31mKeyError\u001b[0m: 0"
     ]
    }
   ],
   "source": [
    "print(type(tvl_history_response_data))\n",
    "print(len(tvl_history_response_data))\n",
    "print(tvl_history_response_data[0])\n",
    "print(type(tvl_history_response_data))\n",
    "line1 = tvl_history_response_data[0]"
   ]
  },
  {
   "cell_type": "code",
   "execution_count": 12,
   "metadata": {},
   "outputs": [
    {
     "ename": "NameError",
     "evalue": "name 'line1' is not defined",
     "output_type": "error",
     "traceback": [
      "\u001b[1;31m---------------------------------------------------------------------------\u001b[0m",
      "\u001b[1;31mNameError\u001b[0m                                 Traceback (most recent call last)",
      "\u001b[1;32m<ipython-input-12-4bec9558c09c>\u001b[0m in \u001b[0;36m<module>\u001b[1;34m\u001b[0m\n\u001b[1;32m----> 1\u001b[1;33m \u001b[0mprint\u001b[0m\u001b[1;33m(\u001b[0m\u001b[0mtype\u001b[0m\u001b[1;33m(\u001b[0m\u001b[0mline1\u001b[0m\u001b[1;33m)\u001b[0m\u001b[1;33m)\u001b[0m\u001b[1;33m\u001b[0m\u001b[1;33m\u001b[0m\u001b[0m\n\u001b[0m\u001b[0;32m      2\u001b[0m \u001b[1;31m# for k,v in line1.items():\u001b[0m\u001b[1;33m\u001b[0m\u001b[1;33m\u001b[0m\u001b[1;33m\u001b[0m\u001b[0m\n\u001b[0;32m      3\u001b[0m \u001b[1;31m#     prin\u001b[0m\u001b[1;33m\u001b[0m\u001b[1;33m\u001b[0m\u001b[1;33m\u001b[0m\u001b[0m\n",
      "\u001b[1;31mNameError\u001b[0m: name 'line1' is not defined"
     ]
    }
   ],
   "source": [
    "print(type(line1))\n",
    "# for k,v in line1.items():\n",
    "#     prin"
   ]
  },
  {
   "cell_type": "markdown",
   "metadata": {},
   "source": [
    "#### Analyse the timestamp from DefiPulse"
   ]
  },
  {
   "cell_type": "code",
   "execution_count": 15,
   "metadata": {},
   "outputs": [
    {
     "name": "stdout",
     "output_type": "stream",
     "text": [
      "1623031200\n",
      "<class 'str'>\n"
     ]
    }
   ],
   "source": [
    "print(line1['timestamp'])\n",
    "print(type(line1['timestamp']))"
   ]
  },
  {
   "cell_type": "markdown",
   "metadata": {},
   "source": [
    "#### convert to datetime"
   ]
  },
  {
   "cell_type": "code",
   "execution_count": 16,
   "metadata": {
    "tags": []
   },
   "outputs": [
    {
     "data": {
      "text/plain": [
       "Timestamp('2021-06-07 02:00:00')"
      ]
     },
     "execution_count": 16,
     "metadata": {},
     "output_type": "execute_result"
    }
   ],
   "source": [
    "line1_date = pd.to_datetime(line1['timestamp'],unit='s')\n",
    "line1_date"
   ]
  },
  {
   "cell_type": "code",
   "execution_count": 17,
   "metadata": {},
   "outputs": [
    {
     "name": "stdout",
     "output_type": "stream",
     "text": [
      "{'timestamp': '1623024000', 'tvlUSD': 66225076336, 'tvlETH': 24398134.483762216, 'BTC': 180756.59188391996, 'ETH': 9735790.586339144, 'DAI': 2777137879.5835214}\n",
      "2021-06-07 00:00:00\n"
     ]
    }
   ],
   "source": [
    "print(tvl_history_response_data[1])\n",
    "print(pd.to_datetime(tvl_history_response_data[1]['timestamp'],unit='s'))"
   ]
  },
  {
   "cell_type": "markdown",
   "metadata": {},
   "source": [
    "#### Construct the dataframe for TVL history"
   ]
  },
  {
   "cell_type": "code",
   "execution_count": 18,
   "metadata": {},
   "outputs": [],
   "source": [
    "tvl_hist = []\n",
    "for i in tvl_history_response_data:\n",
    "    #print(i)\n",
    "    new_dict = {}\n",
    "    for k, v in i.items():\n",
    "        if k == 'timestamp':\n",
    "            v = pd.to_datetime(v,unit='s')\n",
    "            #print('  ', k)\n",
    "            #print(type(v))\n",
    "            #print('     ',v)\n",
    "            new_dict[k] = v\n",
    "            #print(new_dict)\n",
    "            #tvl_history_response_data.set_value(k,'timestamp',v)\n",
    "            #print(new_dict)\n",
    "        else:\n",
    "            new_dict[k] = v\n",
    "            #print(new_dict)\n",
    "            #print('  ', k)\n",
    "            #print('     ',v)\n",
    "    tvl_hist.append(new_dict)\n",
    "    #print(new_dict)\n",
    "    #for k,v in new_dict"
   ]
  },
  {
   "cell_type": "code",
   "execution_count": 19,
   "metadata": {},
   "outputs": [],
   "source": [
    "#print(tvl_hist)"
   ]
  },
  {
   "cell_type": "markdown",
   "metadata": {},
   "source": [
    "#### Set index with datetime and sort it"
   ]
  },
  {
   "cell_type": "code",
   "execution_count": 52,
   "metadata": {},
   "outputs": [],
   "source": [
    "tvl_hist_df = pd.DataFrame(tvl_hist)\n",
    "tvl_hist_df.set_index(['timestamp'],inplace=True)"
   ]
  },
  {
   "cell_type": "code",
   "execution_count": 53,
   "metadata": {},
   "outputs": [
    {
     "data": {
      "text/html": [
       "<div>\n",
       "<style scoped>\n",
       "    .dataframe tbody tr th:only-of-type {\n",
       "        vertical-align: middle;\n",
       "    }\n",
       "\n",
       "    .dataframe tbody tr th {\n",
       "        vertical-align: top;\n",
       "    }\n",
       "\n",
       "    .dataframe thead th {\n",
       "        text-align: right;\n",
       "    }\n",
       "</style>\n",
       "<table border=\"1\" class=\"dataframe\">\n",
       "  <thead>\n",
       "    <tr style=\"text-align: right;\">\n",
       "      <th></th>\n",
       "      <th>DAI</th>\n",
       "      <th>ETH</th>\n",
       "      <th>tvlETH</th>\n",
       "      <th>tvlUSD</th>\n",
       "    </tr>\n",
       "    <tr>\n",
       "      <th>timestamp</th>\n",
       "      <th></th>\n",
       "      <th></th>\n",
       "      <th></th>\n",
       "      <th></th>\n",
       "    </tr>\n",
       "  </thead>\n",
       "  <tbody>\n",
       "    <tr>\n",
       "      <th>2017-08-02 00:00:00</th>\n",
       "      <td>0.000</td>\n",
       "      <td>0.000</td>\n",
       "      <td>0.000</td>\n",
       "      <td>0</td>\n",
       "    </tr>\n",
       "    <tr>\n",
       "      <th>2017-08-03 00:00:00</th>\n",
       "      <td>0.000</td>\n",
       "      <td>0.000</td>\n",
       "      <td>0.018</td>\n",
       "      <td>4</td>\n",
       "    </tr>\n",
       "    <tr>\n",
       "      <th>2017-08-04 00:00:00</th>\n",
       "      <td>0.000</td>\n",
       "      <td>0.000</td>\n",
       "      <td>0.018</td>\n",
       "      <td>4</td>\n",
       "    </tr>\n",
       "    <tr>\n",
       "      <th>2017-08-05 00:00:00</th>\n",
       "      <td>0.000</td>\n",
       "      <td>0.000</td>\n",
       "      <td>0.023</td>\n",
       "      <td>5</td>\n",
       "    </tr>\n",
       "    <tr>\n",
       "      <th>2017-08-06 00:00:00</th>\n",
       "      <td>0.000</td>\n",
       "      <td>0.000</td>\n",
       "      <td>0.020</td>\n",
       "      <td>5</td>\n",
       "    </tr>\n",
       "    <tr>\n",
       "      <th>2017-08-07 00:00:00</th>\n",
       "      <td>0.000</td>\n",
       "      <td>0.000</td>\n",
       "      <td>0.019</td>\n",
       "      <td>5</td>\n",
       "    </tr>\n",
       "    <tr>\n",
       "      <th>2017-08-08 00:00:00</th>\n",
       "      <td>0.000</td>\n",
       "      <td>0.000</td>\n",
       "      <td>0.019</td>\n",
       "      <td>5</td>\n",
       "    </tr>\n",
       "    <tr>\n",
       "      <th>2017-08-09 00:00:00</th>\n",
       "      <td>0.000</td>\n",
       "      <td>0.000</td>\n",
       "      <td>0.017</td>\n",
       "      <td>5</td>\n",
       "    </tr>\n",
       "    <tr>\n",
       "      <th>2017-08-10 00:00:00</th>\n",
       "      <td>0.000</td>\n",
       "      <td>0.000</td>\n",
       "      <td>0.017</td>\n",
       "      <td>5</td>\n",
       "    </tr>\n",
       "    <tr>\n",
       "      <th>2017-08-11 00:00:00</th>\n",
       "      <td>0.000</td>\n",
       "      <td>0.000</td>\n",
       "      <td>0.020</td>\n",
       "      <td>6</td>\n",
       "    </tr>\n",
       "    <tr>\n",
       "      <th>2017-08-12 00:00:00</th>\n",
       "      <td>0.000</td>\n",
       "      <td>0.000</td>\n",
       "      <td>0.019</td>\n",
       "      <td>6</td>\n",
       "    </tr>\n",
       "    <tr>\n",
       "      <th>2017-08-13 00:00:00</th>\n",
       "      <td>0.000</td>\n",
       "      <td>0.000</td>\n",
       "      <td>0.019</td>\n",
       "      <td>6</td>\n",
       "    </tr>\n",
       "    <tr>\n",
       "      <th>2017-08-14 00:00:00</th>\n",
       "      <td>0.000</td>\n",
       "      <td>0.000</td>\n",
       "      <td>0.020</td>\n",
       "      <td>6</td>\n",
       "    </tr>\n",
       "    <tr>\n",
       "      <th>2017-08-15 00:00:00</th>\n",
       "      <td>0.000</td>\n",
       "      <td>0.000</td>\n",
       "      <td>0.017</td>\n",
       "      <td>5</td>\n",
       "    </tr>\n",
       "    <tr>\n",
       "      <th>2017-08-16 00:00:00</th>\n",
       "      <td>0.000</td>\n",
       "      <td>0.000</td>\n",
       "      <td>0.021</td>\n",
       "      <td>6</td>\n",
       "    </tr>\n",
       "    <tr>\n",
       "      <th>2017-08-17 00:00:00</th>\n",
       "      <td>0.000</td>\n",
       "      <td>0.000</td>\n",
       "      <td>0.017</td>\n",
       "      <td>5</td>\n",
       "    </tr>\n",
       "    <tr>\n",
       "      <th>2017-08-18 00:00:00</th>\n",
       "      <td>0.000</td>\n",
       "      <td>0.000</td>\n",
       "      <td>0.017</td>\n",
       "      <td>5</td>\n",
       "    </tr>\n",
       "    <tr>\n",
       "      <th>2017-08-19 00:00:00</th>\n",
       "      <td>0.000</td>\n",
       "      <td>0.000</td>\n",
       "      <td>0.017</td>\n",
       "      <td>5</td>\n",
       "    </tr>\n",
       "    <tr>\n",
       "      <th>2017-08-20 00:00:00</th>\n",
       "      <td>0.000</td>\n",
       "      <td>0.000</td>\n",
       "      <td>0.017</td>\n",
       "      <td>5</td>\n",
       "    </tr>\n",
       "    <tr>\n",
       "      <th>2017-08-21 00:00:00</th>\n",
       "      <td>0.000</td>\n",
       "      <td>0.000</td>\n",
       "      <td>0.017</td>\n",
       "      <td>5</td>\n",
       "    </tr>\n",
       "    <tr>\n",
       "      <th>2017-08-22 00:00:00</th>\n",
       "      <td>0.000</td>\n",
       "      <td>0.000</td>\n",
       "      <td>0.019</td>\n",
       "      <td>6</td>\n",
       "    </tr>\n",
       "    <tr>\n",
       "      <th>2017-08-23 00:00:00</th>\n",
       "      <td>0.000</td>\n",
       "      <td>0.000</td>\n",
       "      <td>0.016</td>\n",
       "      <td>5</td>\n",
       "    </tr>\n",
       "    <tr>\n",
       "      <th>2017-08-24 00:00:00</th>\n",
       "      <td>0.000</td>\n",
       "      <td>0.000</td>\n",
       "      <td>4.367</td>\n",
       "      <td>1386</td>\n",
       "    </tr>\n",
       "    <tr>\n",
       "      <th>2017-08-25 00:00:00</th>\n",
       "      <td>0.000</td>\n",
       "      <td>0.000</td>\n",
       "      <td>4.166</td>\n",
       "      <td>1355</td>\n",
       "    </tr>\n",
       "    <tr>\n",
       "      <th>2017-08-26 00:00:00</th>\n",
       "      <td>0.000</td>\n",
       "      <td>0.000</td>\n",
       "      <td>3.939</td>\n",
       "      <td>1300</td>\n",
       "    </tr>\n",
       "    <tr>\n",
       "      <th>2017-08-27 00:00:00</th>\n",
       "      <td>0.000</td>\n",
       "      <td>0.000</td>\n",
       "      <td>4.101</td>\n",
       "      <td>1365</td>\n",
       "    </tr>\n",
       "    <tr>\n",
       "      <th>2017-08-28 00:00:00</th>\n",
       "      <td>0.000</td>\n",
       "      <td>0.000</td>\n",
       "      <td>4.372</td>\n",
       "      <td>1521</td>\n",
       "    </tr>\n",
       "    <tr>\n",
       "      <th>2017-08-29 00:00:00</th>\n",
       "      <td>0.000</td>\n",
       "      <td>0.000</td>\n",
       "      <td>4.404</td>\n",
       "      <td>1531</td>\n",
       "    </tr>\n",
       "    <tr>\n",
       "      <th>2017-08-30 00:00:00</th>\n",
       "      <td>0.000</td>\n",
       "      <td>0.000</td>\n",
       "      <td>4.273</td>\n",
       "      <td>1591</td>\n",
       "    </tr>\n",
       "    <tr>\n",
       "      <th>2017-08-31 00:00:00</th>\n",
       "      <td>0.000</td>\n",
       "      <td>0.000</td>\n",
       "      <td>4.291</td>\n",
       "      <td>1647</td>\n",
       "    </tr>\n",
       "    <tr>\n",
       "      <th>...</th>\n",
       "      <td>...</td>\n",
       "      <td>...</td>\n",
       "      <td>...</td>\n",
       "      <td>...</td>\n",
       "    </tr>\n",
       "    <tr>\n",
       "      <th>2021-05-10 00:00:00</th>\n",
       "      <td>2858513212.043</td>\n",
       "      <td>10297157.299</td>\n",
       "      <td>22193456.648</td>\n",
       "      <td>87042736974</td>\n",
       "    </tr>\n",
       "    <tr>\n",
       "      <th>2021-05-11 00:00:00</th>\n",
       "      <td>2911754991.498</td>\n",
       "      <td>10139975.304</td>\n",
       "      <td>21626890.388</td>\n",
       "      <td>85369554580</td>\n",
       "    </tr>\n",
       "    <tr>\n",
       "      <th>2021-05-12 00:00:00</th>\n",
       "      <td>2922586142.720</td>\n",
       "      <td>10118364.178</td>\n",
       "      <td>21276348.642</td>\n",
       "      <td>88905988725</td>\n",
       "    </tr>\n",
       "    <tr>\n",
       "      <th>2021-05-13 00:00:00</th>\n",
       "      <td>2867423174.999</td>\n",
       "      <td>10032334.840</td>\n",
       "      <td>21218389.178</td>\n",
       "      <td>80778407601</td>\n",
       "    </tr>\n",
       "    <tr>\n",
       "      <th>2021-05-14 00:00:00</th>\n",
       "      <td>2688059302.734</td>\n",
       "      <td>10081893.092</td>\n",
       "      <td>21649404.555</td>\n",
       "      <td>80536217934</td>\n",
       "    </tr>\n",
       "    <tr>\n",
       "      <th>2021-05-15 00:00:00</th>\n",
       "      <td>2779181771.469</td>\n",
       "      <td>10056546.635</td>\n",
       "      <td>21475655.759</td>\n",
       "      <td>87632272349</td>\n",
       "    </tr>\n",
       "    <tr>\n",
       "      <th>2021-05-16 00:00:00</th>\n",
       "      <td>2794927121.592</td>\n",
       "      <td>10048009.668</td>\n",
       "      <td>22091478.907</td>\n",
       "      <td>80519243235</td>\n",
       "    </tr>\n",
       "    <tr>\n",
       "      <th>2021-05-17 00:00:00</th>\n",
       "      <td>2849525640.995</td>\n",
       "      <td>10112764.688</td>\n",
       "      <td>22394729.176</td>\n",
       "      <td>80306379087</td>\n",
       "    </tr>\n",
       "    <tr>\n",
       "      <th>2021-05-18 00:00:00</th>\n",
       "      <td>2899693274.749</td>\n",
       "      <td>10256411.613</td>\n",
       "      <td>23256696.039</td>\n",
       "      <td>76389641511</td>\n",
       "    </tr>\n",
       "    <tr>\n",
       "      <th>2021-05-19 00:00:00</th>\n",
       "      <td>2943773383.674</td>\n",
       "      <td>10325220.152</td>\n",
       "      <td>23528351.242</td>\n",
       "      <td>79553120085</td>\n",
       "    </tr>\n",
       "    <tr>\n",
       "      <th>2021-05-20 00:00:00</th>\n",
       "      <td>2482267621.939</td>\n",
       "      <td>10213624.011</td>\n",
       "      <td>24450293.144</td>\n",
       "      <td>60088306922</td>\n",
       "    </tr>\n",
       "    <tr>\n",
       "      <th>2021-05-21 00:00:00</th>\n",
       "      <td>2314316648.959</td>\n",
       "      <td>9925464.587</td>\n",
       "      <td>23645388.967</td>\n",
       "      <td>65702496506</td>\n",
       "    </tr>\n",
       "    <tr>\n",
       "      <th>2021-05-22 00:00:00</th>\n",
       "      <td>2287746146.574</td>\n",
       "      <td>9961237.695</td>\n",
       "      <td>24248542.886</td>\n",
       "      <td>59072602781</td>\n",
       "    </tr>\n",
       "    <tr>\n",
       "      <th>2021-05-23 00:00:00</th>\n",
       "      <td>2304772354.050</td>\n",
       "      <td>9972761.627</td>\n",
       "      <td>24519893.798</td>\n",
       "      <td>56373442631</td>\n",
       "    </tr>\n",
       "    <tr>\n",
       "      <th>2021-05-24 00:00:00</th>\n",
       "      <td>2044854007.022</td>\n",
       "      <td>9662656.445</td>\n",
       "      <td>23959795.285</td>\n",
       "      <td>50408534105</td>\n",
       "    </tr>\n",
       "    <tr>\n",
       "      <th>2021-05-25 00:00:00</th>\n",
       "      <td>2240065301.494</td>\n",
       "      <td>9629132.021</td>\n",
       "      <td>22725535.672</td>\n",
       "      <td>60139948581</td>\n",
       "    </tr>\n",
       "    <tr>\n",
       "      <th>2021-05-26 00:00:00</th>\n",
       "      <td>2299609516.664</td>\n",
       "      <td>9610270.040</td>\n",
       "      <td>22754300.789</td>\n",
       "      <td>61540826827</td>\n",
       "    </tr>\n",
       "    <tr>\n",
       "      <th>2021-05-27 00:00:00</th>\n",
       "      <td>2393636651.613</td>\n",
       "      <td>9539289.614</td>\n",
       "      <td>23186873.179</td>\n",
       "      <td>66394452005</td>\n",
       "    </tr>\n",
       "    <tr>\n",
       "      <th>2021-05-28 00:00:00</th>\n",
       "      <td>2428102185.109</td>\n",
       "      <td>9570043.891</td>\n",
       "      <td>23802927.717</td>\n",
       "      <td>65195980988</td>\n",
       "    </tr>\n",
       "    <tr>\n",
       "      <th>2021-05-29 00:00:00</th>\n",
       "      <td>2447618771.481</td>\n",
       "      <td>9651764.647</td>\n",
       "      <td>24996985.251</td>\n",
       "      <td>60389466759</td>\n",
       "    </tr>\n",
       "    <tr>\n",
       "      <th>2021-05-30 00:00:00</th>\n",
       "      <td>2494564840.353</td>\n",
       "      <td>9577742.717</td>\n",
       "      <td>25117600.787</td>\n",
       "      <td>57234472210</td>\n",
       "    </tr>\n",
       "    <tr>\n",
       "      <th>2021-05-31 00:00:00</th>\n",
       "      <td>2483327480.946</td>\n",
       "      <td>9567284.064</td>\n",
       "      <td>25247931.496</td>\n",
       "      <td>60297614957</td>\n",
       "    </tr>\n",
       "    <tr>\n",
       "      <th>2021-06-01 00:00:00</th>\n",
       "      <td>2477409171.816</td>\n",
       "      <td>9582310.647</td>\n",
       "      <td>24275039.769</td>\n",
       "      <td>65779046264</td>\n",
       "    </tr>\n",
       "    <tr>\n",
       "      <th>2021-06-02 00:00:00</th>\n",
       "      <td>2476019243.215</td>\n",
       "      <td>9572769.824</td>\n",
       "      <td>24564826.364</td>\n",
       "      <td>64663957625</td>\n",
       "    </tr>\n",
       "    <tr>\n",
       "      <th>2021-06-03 00:00:00</th>\n",
       "      <td>2572555763.896</td>\n",
       "      <td>9704886.578</td>\n",
       "      <td>24610401.940</td>\n",
       "      <td>66677208080</td>\n",
       "    </tr>\n",
       "    <tr>\n",
       "      <th>2021-06-04 00:00:00</th>\n",
       "      <td>2692830305.599</td>\n",
       "      <td>9692450.055</td>\n",
       "      <td>24303452.750</td>\n",
       "      <td>69365456633</td>\n",
       "    </tr>\n",
       "    <tr>\n",
       "      <th>2021-06-05 00:00:00</th>\n",
       "      <td>2744148697.208</td>\n",
       "      <td>9707003.437</td>\n",
       "      <td>24466329.463</td>\n",
       "      <td>65825191440</td>\n",
       "    </tr>\n",
       "    <tr>\n",
       "      <th>2021-06-06 00:00:00</th>\n",
       "      <td>2758551251.907</td>\n",
       "      <td>9764515.751</td>\n",
       "      <td>24605432.747</td>\n",
       "      <td>64732710635</td>\n",
       "    </tr>\n",
       "    <tr>\n",
       "      <th>2021-06-07 00:00:00</th>\n",
       "      <td>2777137879.584</td>\n",
       "      <td>9735790.586</td>\n",
       "      <td>24398134.484</td>\n",
       "      <td>66225076336</td>\n",
       "    </tr>\n",
       "    <tr>\n",
       "      <th>2021-06-07 02:00:00</th>\n",
       "      <td>2780826953.891</td>\n",
       "      <td>9707758.566</td>\n",
       "      <td>24282119.867</td>\n",
       "      <td>67827973889</td>\n",
       "    </tr>\n",
       "  </tbody>\n",
       "</table>\n",
       "<p>1407 rows × 4 columns</p>\n",
       "</div>"
      ],
      "text/plain": [
       "                               DAI          ETH       tvlETH       tvlUSD\n",
       "timestamp                                                                \n",
       "2017-08-02 00:00:00          0.000        0.000        0.000            0\n",
       "2017-08-03 00:00:00          0.000        0.000        0.018            4\n",
       "2017-08-04 00:00:00          0.000        0.000        0.018            4\n",
       "2017-08-05 00:00:00          0.000        0.000        0.023            5\n",
       "2017-08-06 00:00:00          0.000        0.000        0.020            5\n",
       "2017-08-07 00:00:00          0.000        0.000        0.019            5\n",
       "2017-08-08 00:00:00          0.000        0.000        0.019            5\n",
       "2017-08-09 00:00:00          0.000        0.000        0.017            5\n",
       "2017-08-10 00:00:00          0.000        0.000        0.017            5\n",
       "2017-08-11 00:00:00          0.000        0.000        0.020            6\n",
       "2017-08-12 00:00:00          0.000        0.000        0.019            6\n",
       "2017-08-13 00:00:00          0.000        0.000        0.019            6\n",
       "2017-08-14 00:00:00          0.000        0.000        0.020            6\n",
       "2017-08-15 00:00:00          0.000        0.000        0.017            5\n",
       "2017-08-16 00:00:00          0.000        0.000        0.021            6\n",
       "2017-08-17 00:00:00          0.000        0.000        0.017            5\n",
       "2017-08-18 00:00:00          0.000        0.000        0.017            5\n",
       "2017-08-19 00:00:00          0.000        0.000        0.017            5\n",
       "2017-08-20 00:00:00          0.000        0.000        0.017            5\n",
       "2017-08-21 00:00:00          0.000        0.000        0.017            5\n",
       "2017-08-22 00:00:00          0.000        0.000        0.019            6\n",
       "2017-08-23 00:00:00          0.000        0.000        0.016            5\n",
       "2017-08-24 00:00:00          0.000        0.000        4.367         1386\n",
       "2017-08-25 00:00:00          0.000        0.000        4.166         1355\n",
       "2017-08-26 00:00:00          0.000        0.000        3.939         1300\n",
       "2017-08-27 00:00:00          0.000        0.000        4.101         1365\n",
       "2017-08-28 00:00:00          0.000        0.000        4.372         1521\n",
       "2017-08-29 00:00:00          0.000        0.000        4.404         1531\n",
       "2017-08-30 00:00:00          0.000        0.000        4.273         1591\n",
       "2017-08-31 00:00:00          0.000        0.000        4.291         1647\n",
       "...                            ...          ...          ...          ...\n",
       "2021-05-10 00:00:00 2858513212.043 10297157.299 22193456.648  87042736974\n",
       "2021-05-11 00:00:00 2911754991.498 10139975.304 21626890.388  85369554580\n",
       "2021-05-12 00:00:00 2922586142.720 10118364.178 21276348.642  88905988725\n",
       "2021-05-13 00:00:00 2867423174.999 10032334.840 21218389.178  80778407601\n",
       "2021-05-14 00:00:00 2688059302.734 10081893.092 21649404.555  80536217934\n",
       "2021-05-15 00:00:00 2779181771.469 10056546.635 21475655.759  87632272349\n",
       "2021-05-16 00:00:00 2794927121.592 10048009.668 22091478.907  80519243235\n",
       "2021-05-17 00:00:00 2849525640.995 10112764.688 22394729.176  80306379087\n",
       "2021-05-18 00:00:00 2899693274.749 10256411.613 23256696.039  76389641511\n",
       "2021-05-19 00:00:00 2943773383.674 10325220.152 23528351.242  79553120085\n",
       "2021-05-20 00:00:00 2482267621.939 10213624.011 24450293.144  60088306922\n",
       "2021-05-21 00:00:00 2314316648.959  9925464.587 23645388.967  65702496506\n",
       "2021-05-22 00:00:00 2287746146.574  9961237.695 24248542.886  59072602781\n",
       "2021-05-23 00:00:00 2304772354.050  9972761.627 24519893.798  56373442631\n",
       "2021-05-24 00:00:00 2044854007.022  9662656.445 23959795.285  50408534105\n",
       "2021-05-25 00:00:00 2240065301.494  9629132.021 22725535.672  60139948581\n",
       "2021-05-26 00:00:00 2299609516.664  9610270.040 22754300.789  61540826827\n",
       "2021-05-27 00:00:00 2393636651.613  9539289.614 23186873.179  66394452005\n",
       "2021-05-28 00:00:00 2428102185.109  9570043.891 23802927.717  65195980988\n",
       "2021-05-29 00:00:00 2447618771.481  9651764.647 24996985.251  60389466759\n",
       "2021-05-30 00:00:00 2494564840.353  9577742.717 25117600.787  57234472210\n",
       "2021-05-31 00:00:00 2483327480.946  9567284.064 25247931.496  60297614957\n",
       "2021-06-01 00:00:00 2477409171.816  9582310.647 24275039.769  65779046264\n",
       "2021-06-02 00:00:00 2476019243.215  9572769.824 24564826.364  64663957625\n",
       "2021-06-03 00:00:00 2572555763.896  9704886.578 24610401.940  66677208080\n",
       "2021-06-04 00:00:00 2692830305.599  9692450.055 24303452.750  69365456633\n",
       "2021-06-05 00:00:00 2744148697.208  9707003.437 24466329.463  65825191440\n",
       "2021-06-06 00:00:00 2758551251.907  9764515.751 24605432.747  64732710635\n",
       "2021-06-07 00:00:00 2777137879.584  9735790.586 24398134.484  66225076336\n",
       "2021-06-07 02:00:00 2780826953.891  9707758.566 24282119.867  67827973889\n",
       "\n",
       "[1407 rows x 4 columns]"
      ]
     },
     "execution_count": 53,
     "metadata": {},
     "output_type": "execute_result"
    }
   ],
   "source": [
    "tvl_hist_cross_df = tvl_hist_df.drop(columns=['BTC'])\n",
    "tvl_hist_cross_df.sort_index()"
   ]
  },
  {
   "cell_type": "markdown",
   "metadata": {},
   "source": [
    "#### Check nulls for cleanup"
   ]
  },
  {
   "cell_type": "code",
   "execution_count": 54,
   "metadata": {},
   "outputs": [
    {
     "data": {
      "text/plain": [
       "DAI       0\n",
       "ETH       0\n",
       "tvlETH    0\n",
       "tvlUSD    0\n",
       "dtype: int64"
      ]
     },
     "execution_count": 54,
     "metadata": {},
     "output_type": "execute_result"
    }
   ],
   "source": [
    "tvl_hist_cross_df.isna().sum()"
   ]
  },
  {
   "cell_type": "markdown",
   "metadata": {},
   "source": [
    "#### Write dataframe to file"
   ]
  },
  {
   "cell_type": "code",
   "execution_count": 55,
   "metadata": {},
   "outputs": [],
   "source": [
    "tvl_hist_cross_df.to_csv('tvl_history2.csv', encoding='utf-8')"
   ]
  },
  {
   "cell_type": "code",
   "execution_count": null,
   "metadata": {},
   "outputs": [],
   "source": [
    "#exchange_trades_file_df = pd.read_csv('exchange_trades_3.csv', parse_dates=True, infer_datetime_format=True, index_col='date')"
   ]
  },
  {
   "cell_type": "code",
   "execution_count": 56,
   "metadata": {},
   "outputs": [],
   "source": [
    "#tvl_hist_df['tvlETH'] = tvl_hist_df['tvlETH'] * 2500"
   ]
  },
  {
   "cell_type": "code",
   "execution_count": 57,
   "metadata": {},
   "outputs": [
    {
     "name": "stdout",
     "output_type": "stream",
     "text": [
      "                           BTC            DAI         ETH       tvlETH  \\\n",
      "timestamp                                                                \n",
      "2021-06-07 02:00:00 180948.141 2780826953.891 9707758.566 24282119.867   \n",
      "2021-06-07 00:00:00 180756.592 2777137879.584 9735790.586 24398134.484   \n",
      "2021-06-06 00:00:00 179383.293 2758551251.907 9764515.751 24605432.747   \n",
      "2021-06-05 00:00:00 178974.820 2744148697.208 9707003.437 24466329.463   \n",
      "2021-06-04 00:00:00 178397.578 2692830305.599 9692450.055 24303452.750   \n",
      "\n",
      "                          tvlUSD  \n",
      "timestamp                         \n",
      "2021-06-07 02:00:00  67827973889  \n",
      "2021-06-07 00:00:00  66225076336  \n",
      "2021-06-06 00:00:00  64732710635  \n",
      "2021-06-05 00:00:00  65825191440  \n",
      "2021-06-04 00:00:00  69365456633  \n",
      "            BTC   DAI   ETH  tvlETH  tvlUSD\n",
      "timestamp                                  \n",
      "2017-08-06  nan 0.000 0.000   0.020       5\n",
      "2017-08-05  nan 0.000 0.000   0.023       5\n",
      "2017-08-04  nan 0.000 0.000   0.018       4\n",
      "2017-08-03  nan 0.000 0.000   0.018       4\n",
      "2017-08-02  nan 0.000 0.000   0.000       0\n"
     ]
    }
   ],
   "source": [
    "print(tvl_hist_df.head())\n",
    "print(tvl_hist_df.tail())"
   ]
  },
  {
   "cell_type": "markdown",
   "metadata": {},
   "source": [
    "#### analyse the histories separately"
   ]
  },
  {
   "cell_type": "code",
   "execution_count": 61,
   "metadata": {},
   "outputs": [
    {
     "name": "stdout",
     "output_type": "stream",
     "text": [
      "                          tvlUSD\n",
      "timestamp                       \n",
      "2021-06-07 02:00:00  67827973889\n",
      "2021-06-07 00:00:00  66225076336\n",
      "2021-06-06 00:00:00  64732710635\n",
      "2021-06-05 00:00:00  65825191440\n",
      "2021-06-04 00:00:00  69365456633\n",
      "            tvlUSD\n",
      "timestamp         \n",
      "2017-08-06       5\n",
      "2017-08-05       5\n",
      "2017-08-04       4\n",
      "2017-08-03       4\n",
      "2017-08-02       0\n"
     ]
    }
   ],
   "source": [
    "tvl_usd_df = tvl_hist_df.drop(columns=['tvlETH', 'BTC', 'ETH', 'DAI'])\n",
    "tvl_eth_df = tvl_hist_df.drop(columns=['tvlUSD', 'BTC', 'ETH', 'DAI'])\n",
    "tvl_dai_df = tvl_hist_df.drop(columns=['tvlUSD', 'BTC', 'ETH', 'tvlETH'])\n",
    "eth_df = tvl_hist_df.drop(columns=['tvlUSD', 'BTC', 'DAI', 'tvlETH'])\n",
    "tvl_comb_df = tvl_hist_df.drop(columns=['BTC', 'ETH'])\n",
    "tvl_btc_df = tvl_hist_df['BTC']\n",
    "print(tvl_usd_df.head())\n",
    "print(tvl_usd_df.tail())\n",
    "tvl_btc_df.isna().sum()\n",
    "tvl_btc_df.dropna(inplace=True)"
   ]
  },
  {
   "cell_type": "markdown",
   "metadata": {},
   "source": [
    "#### suppress scientific notation"
   ]
  },
  {
   "cell_type": "code",
   "execution_count": 33,
   "metadata": {},
   "outputs": [
    {
     "data": {},
     "metadata": {},
     "output_type": "display_data"
    },
    {
     "data": {
      "application/vnd.holoviews_exec.v0+json": "",
      "text/html": [
       "<div id='1190'>\n",
       "\n",
       "\n",
       "\n",
       "\n",
       "\n",
       "  <div class=\"bk-root\" id=\"710d105a-e6b5-4a89-abac-718a82e5b2b7\" data-root-id=\"1190\"></div>\n",
       "</div>\n",
       "<script type=\"application/javascript\">(function(root) {\n",
       "  function embed_document(root) {\n",
       "    var docs_json = {\"ac21d960-705f-4ef1-8d26-407999bd2ee4\":{\"roots\":{\"references\":[{\"attributes\":{\"end\":97796587597.5,\"reset_end\":97796587597.5,\"reset_start\":-8890598872.5,\"start\":-8890598872.5,\"tags\":[[[\"tvlUSD\",\"tvlUSD\",null]]]},\"id\":\"1193\",\"type\":\"Range1d\"},{\"attributes\":{\"days\":[1,8,15,22]},\"id\":\"1251\",\"type\":\"DaysTicker\"},{\"attributes\":{\"months\":[0,2,4,6,8,10]},\"id\":\"1254\",\"type\":\"MonthsTicker\"},{\"attributes\":{},\"id\":\"1209\",\"type\":\"BasicTicker\"},{\"attributes\":{\"axis\":{\"id\":\"1208\"},\"dimension\":1,\"grid_line_color\":null,\"ticker\":null},\"id\":\"1211\",\"type\":\"Grid\"},{\"attributes\":{\"base\":24,\"mantissas\":[1,2,4,6,8,12],\"max_interval\":43200000.0,\"min_interval\":3600000.0,\"num_minor_ticks\":0},\"id\":\"1248\",\"type\":\"AdaptiveTicker\"},{\"attributes\":{\"months\":[0,4,8]},\"id\":\"1255\",\"type\":\"MonthsTicker\"},{\"attributes\":{\"active_drag\":\"auto\",\"active_inspect\":\"auto\",\"active_multi\":null,\"active_scroll\":\"auto\",\"active_tap\":\"auto\",\"tools\":[{\"id\":\"1194\"},{\"id\":\"1212\"},{\"id\":\"1213\"},{\"id\":\"1214\"},{\"id\":\"1215\"},{\"id\":\"1216\"}]},\"id\":\"1218\",\"type\":\"Toolbar\"},{\"attributes\":{\"source\":{\"id\":\"1225\"}},\"id\":\"1232\",\"type\":\"CDSView\"},{\"attributes\":{\"line_alpha\":0.1,\"line_color\":\"#30a2da\",\"line_width\":2,\"x\":{\"field\":\"timestamp\"},\"y\":{\"field\":\"tvlUSD\"}},\"id\":\"1229\",\"type\":\"Line\"},{\"attributes\":{},\"id\":\"1226\",\"type\":\"Selection\"},{\"attributes\":{\"days\":[1,2,3,4,5,6,7,8,9,10,11,12,13,14,15,16,17,18,19,20,21,22,23,24,25,26,27,28,29,30,31]},\"id\":\"1249\",\"type\":\"DaysTicker\"},{\"attributes\":{\"months\":[0,6]},\"id\":\"1256\",\"type\":\"MonthsTicker\"},{\"attributes\":{\"data_source\":{\"id\":\"1225\"},\"glyph\":{\"id\":\"1228\"},\"hover_glyph\":null,\"muted_glyph\":{\"id\":\"1230\"},\"nonselection_glyph\":{\"id\":\"1229\"},\"selection_glyph\":null,\"view\":{\"id\":\"1232\"}},\"id\":\"1231\",\"type\":\"GlyphRenderer\"},{\"attributes\":{\"children\":[{\"id\":\"1191\"},{\"id\":\"1195\"},{\"id\":\"1278\"}],\"margin\":[0,0,0,0],\"name\":\"Row01855\",\"tags\":[\"embedded\"]},\"id\":\"1190\",\"type\":\"Row\"},{\"attributes\":{\"bottom_units\":\"screen\",\"fill_alpha\":0.5,\"fill_color\":\"lightgrey\",\"left_units\":\"screen\",\"level\":\"overlay\",\"line_alpha\":1.0,\"line_color\":\"black\",\"line_dash\":[4,4],\"line_width\":2,\"right_units\":\"screen\",\"top_units\":\"screen\"},\"id\":\"1217\",\"type\":\"BoxAnnotation\"},{\"attributes\":{\"text\":\"Total Value Locked USD\",\"text_color\":{\"value\":\"black\"},\"text_font_size\":{\"value\":\"12pt\"}},\"id\":\"1196\",\"type\":\"Title\"},{\"attributes\":{},\"id\":\"1257\",\"type\":\"YearsTicker\"},{\"attributes\":{\"below\":[{\"id\":\"1204\"}],\"center\":[{\"id\":\"1207\"},{\"id\":\"1211\"}],\"left\":[{\"id\":\"1208\"}],\"margin\":[5,5,5,5],\"min_border_bottom\":10,\"min_border_left\":10,\"min_border_right\":10,\"min_border_top\":10,\"plot_height\":300,\"plot_width\":700,\"renderers\":[{\"id\":\"1231\"}],\"sizing_mode\":\"fixed\",\"title\":{\"id\":\"1196\"},\"toolbar\":{\"id\":\"1218\"},\"x_range\":{\"id\":\"1192\"},\"x_scale\":{\"id\":\"1200\"},\"y_range\":{\"id\":\"1193\"},\"y_scale\":{\"id\":\"1202\"}},\"id\":\"1195\",\"subtype\":\"Figure\",\"type\":\"Plot\"},{\"attributes\":{\"margin\":[5,5,5,5],\"name\":\"HSpacer01859\",\"sizing_mode\":\"stretch_width\"},\"id\":\"1191\",\"type\":\"Spacer\"},{\"attributes\":{\"margin\":[5,5,5,5],\"name\":\"HSpacer01860\",\"sizing_mode\":\"stretch_width\"},\"id\":\"1278\",\"type\":\"Spacer\"},{\"attributes\":{\"line_color\":\"#30a2da\",\"line_width\":2,\"x\":{\"field\":\"timestamp\"},\"y\":{\"field\":\"tvlUSD\"}},\"id\":\"1228\",\"type\":\"Line\"},{\"attributes\":{},\"id\":\"1234\",\"type\":\"DatetimeTickFormatter\"},{\"attributes\":{},\"id\":\"1212\",\"type\":\"SaveTool\"},{\"attributes\":{\"line_alpha\":0.2,\"line_color\":\"#30a2da\",\"line_width\":2,\"x\":{\"field\":\"timestamp\"},\"y\":{\"field\":\"tvlUSD\"}},\"id\":\"1230\",\"type\":\"Line\"},{\"attributes\":{},\"id\":\"1213\",\"type\":\"PanTool\"},{\"attributes\":{\"end\":1623031200000.0,\"reset_end\":1623031200000.0,\"reset_start\":1501632000000.0,\"start\":1501632000000.0,\"tags\":[[[\"timestamp\",\"timestamp\",null]]]},\"id\":\"1192\",\"type\":\"Range1d\"},{\"attributes\":{\"data\":{\"timestamp\":{\"__ndarray__\":\"AAAA3wPadUIAAMBEVtp1QgAAgKqo2nVCAABAEPvadUIAAAB2Tdt1QgAAwNuf23VCAACAQfLbdUIAAECnRNx1QgAAAA2X3HVCAADAcuncdUIAAIDYO911QgAAQD6O3XVCAAAApODddUIAAMAJM951QgAAgG+F3nVCAABA1dfedUIAAAA7Kt91QgAAwKB833VCAACABs/fdUIAAEBsIeB1QgAAANJz4HVCAADAN8bgdUIAAICdGOF1QgAAQANr4XVCAAAAab3hdUIAAMDOD+J1QgAAgDRi4nVCAABAmrTidUIAAAAAB+N1QgAAwGVZ43VCAACAy6vjdUIAAEAx/uN1QgAAAJdQ5HVCAADA/KLkdUIAAIBi9eR1QgAAQMhH5XVCAAAALprldUIAAMCT7OV1QgAAgPk+5nVCAABAX5HmdUIAAADF4+Z1QgAAwCo253VCAACAkIjndUIAAED22ud1QgAAAFwt6HVCAADAwX/odUIAAIAn0uh1QgAAQI0k6XVCAAAA83bpdUIAAMBYyel1QgAAgL4b6nVCAABAJG7qdUIAAACKwOp1QgAAwO8S63VCAACAVWXrdUIAAEC7t+t1QgAAACEK7HVCAADAhlzsdUIAAIDsrux1QgAAQFIB7XVCAAAAuFPtdUIAAMAdpu11QgAAgIP47XVCAABA6UrudUIAAABPne51QgAAwLTv7nVCAACAGkLvdUIAAECAlO91QgAAAObm73VCAADASznwdUIAAICxi/B1QgAAQBfe8HVCAAAAfTDxdUIAAMDigvF1QgAAgEjV8XVCAABArifydUIAAAAUevJ1QgAAwHnM8nVCAACA3x7zdUIAAEBFcfN1QgAAAKvD83VCAADAEBb0dUIAAIB2aPR1QgAAQNy69HVCAAAAQg31dUIAAMCnX/V1QgAAgA2y9XVCAABAcwT2dUIAAADZVvZ1QgAAwD6p9nVCAACApPv2dUIAAEAKTvd1QgAAAHCg93VCAADA1fL3dUIAAIA7Rfh1QgAAQKGX+HVCAAAAB+r4dUIAAMBsPPl1QgAAgNKO+XVCAABAOOH5dUIAAACeM/p1QgAAwAOG+nVCAACAadj6dUIAAEDPKvt1QgAAADV9+3VCAADAms/7dUIAAIAAIvx1QgAAQGZ0/HVCAAAAzMb8dUIAAMAxGf11QgAAgJdr/XVCAABA/b39dUIAAABjEP51QgAAwMhi/nVCAACALrX+dUIAAECUB/91QgAAAPpZ/3VCAADAX6z/dUIAAIDF/v91QgAAQCtRAHZCAAAAkaMAdkIAAMD29QB2QgAAgFxIAXZCAABAwpoBdkIAAAAo7QF2QgAAwI0/AnZCAACA85ECdkIAAEBZ5AJ2QgAAAL82A3ZCAADAJIkDdkIAAICK2wN2QgAAQPAtBHZCAAAAVoAEdkIAAMC70gR2QgAAgCElBXZCAABAh3cFdkIAAADtyQV2QgAAwFIcBnZCAACAuG4GdkIAAEAewQZ2QgAAAIQTB3ZCAADA6WUHdkIAAIBPuAd2QgAAQLUKCHZCAAAAG10IdkIAAMCArwh2QgAAgOYBCXZCAABATFQJdkIAAACypgl2QgAAwBf5CXZCAACAfUsKdkIAAEDjnQp2QgAAAEnwCnZCAADArkILdkIAAIAUlQt2QgAAQHrnC3ZCAAAA4DkMdkIAAMBFjAx2QgAAgKveDHZCAABAETENdkIAAAB3gw12QgAAwNzVDXZCAACAQigOdkIAAECoeg52QgAAAA7NDnZCAADAcx8PdkIAAIDZcQ92QgAAQD/ED3ZCAAAApRYQdkIAAMAKaRB2QgAAgHC7EHZCAABA1g0RdkIAAAA8YBF2QgAAwKGyEXZCAACABwUSdkIAAEBtVxJ2QgAAANOpEnZCAADAOPwSdkIAAICeThN2QgAAQAShE3ZCAAAAavMTdkIAAMDPRRR2QgAAgDWYFHZCAABAm+oUdkIAAAABPRV2QgAAwGaPFXZCAACAzOEVdkIAAEAyNBZ2QgAAAJiGFnZCAADA/dgWdkIAAIBjKxd2QgAAQMl9F3ZCAAAAL9AXdkIAAMCUIhh2QgAAgPp0GHZCAABAYMcYdkIAAADGGRl2QgAAwCtsGXZCAACAkb4ZdkIAAED3EBp2QgAAAF1jGnZCAADAwrUadkIAAIAoCBt2QgAAQI5aG3ZCAAAA9KwbdkIAAMBZ/xt2QgAAgL9RHHZCAABAJaQcdkIAAACL9hx2QgAAwPBIHXZCAACAVpsddkIAAEC87R12QgAAACJAHnZCAADAh5IedkIAAIDt5B52QgAAQFM3H3ZCAAAAuYkfdkIAAMAe3B92QgAAgIQuIHZCAABA6oAgdkIAAABQ0yB2QgAAwLUlIXZCAACAG3ghdkIAAECByiF2QgAAAOccInZCAADATG8idkIAAICywSJ2QgAAQBgUI3ZCAAAAfmYjdkIAAMDjuCN2QgAAgEkLJHZCAABAr10kdkIAAAAVsCR2QgAAwHoCJXZCAACA4FQldkIAAEBGpyV2QgAAAKz5JXZCAADAEUwmdkIAAIB3niZ2QgAAQN3wJnZCAAAAQ0MndkIAAMColSd2QgAAgA7oJ3ZCAABAdDoodkIAAADajCh2QgAAwD/fKHZCAACApTEpdkIAAEALhCl2QgAAAHHWKXZCAADA1igqdkIAAIA8eyp2QgAAQKLNKnZCAAAACCArdkIAAMBtcit2QgAAgNPEK3ZCAABAORcsdkIAAACfaSx2QgAAwAS8LHZCAACAag4tdkIAAEDQYC12QgAAADazLXZCAADAmwUudkIAAIABWC52QgAAQGeqLnZCAAAAzfwudkIAAMAyTy92QgAAgJihL3ZCAABA/vMvdkIAAABkRjB2QgAAwMmYMHZCAACAL+swdkIAAECVPTF2QgAAAPuPMXZCAADAYOIxdkIAAIDGNDJ2QgAAQCyHMnZCAAAAktkydkIAAMD3KzN2QgAAgF1+M3ZCAABAw9AzdkIAAAApIzR2QgAAwI51NHZCAACA9Mc0dkIAAEBaGjV2QgAAAMBsNXZCAADAJb81dkIAAICLETZ2QgAAQPFjNnZCAAAAV7Y2dkIAAMC8CDd2QgAAgCJbN3ZCAABAiK03dkIAAADu/zd2QgAAwFNSOHZCAACAuaQ4dkIAAEAf9zh2QgAAAIVJOXZCAADA6ps5dkIAAIBQ7jl2QgAAQLZAOnZCAAAAHJM6dkIAAMCB5Tp2QgAAgOc3O3ZCAABATYo7dkIAAACz3Dt2QgAAwBgvPHZCAACAfoE8dkIAAEDk0zx2QgAAAEomPXZCAADAr3g9dkIAAIAVyz12QgAAQHsdPnZCAAAA4W8+dkIAAMBGwj52QgAAgKwUP3ZCAABAEmc/dkIAAAB4uT92QgAAwN0LQHZCAACAQ15AdkIAAECpsEB2QgAAAA8DQXZCAADAdFVBdkIAAIDap0F2QgAAQED6QXZCAAAApkxCdkIAAMALn0J2QgAAgHHxQnZCAABA10NDdkIAAAA9lkN2QgAAwKLoQ3ZCAACACDtEdkIAAEBujUR2QgAAANTfRHZCAADAOTJFdkIAAICfhEV2QgAAQAXXRXZCAAAAaylGdkIAAMDQe0Z2QgAAgDbORnZCAABAnCBHdkIAAAACc0d2QgAAwGfFR3ZCAACAzRdIdkIAAEAzakh2QgAAAJm8SHZCAADA/g5JdkIAAIBkYUl2QgAAQMqzSXZCAAAAMAZKdkIAAMCVWEp2QgAAgPuqSnZCAABAYf1KdkIAAADHT0t2QgAAwCyiS3ZCAACAkvRLdkIAAED4Rkx2QgAAAF6ZTHZCAADAw+tMdkIAAIApPk12QgAAQI+QTXZCAAAA9eJNdkIAAMBaNU52QgAAgMCHTnZCAABAJtpOdkIAAACMLE92QgAAwPF+T3ZCAACAV9FPdkIAAEC9I1B2QgAAACN2UHZCAADAiMhQdkIAAIDuGlF2QgAAQFRtUXZCAAAAur9RdkIAAMAfElJ2QgAAgIVkUnZCAABA67ZSdkIAAABRCVN2QgAAwLZbU3ZCAACAHK5TdkIAAECCAFR2QgAAAOhSVHZCAADATaVUdkIAAICz91R2QgAAQBlKVXZCAAAAf5xVdkIAAMDk7lV2QgAAgEpBVnZCAABAsJNWdkIAAAAW5lZ2QgAAwHs4V3ZCAACA4YpXdkIAAEBH3Vd2QgAAAK0vWHZCAADAEoJYdkIAAIB41Fh2QgAAQN4mWXZCAAAARHlZdkIAAMCpy1l2QgAAgA8eWnZCAABAdXBadkIAAADbwlp2QgAAwEAVW3ZCAACApmdbdkIAAEAMult2QgAAAHIMXHZCAADA115cdkIAAIA9sVx2QgAAQKMDXXZCAAAACVZddkIAAMBuqF12QgAAgNT6XXZCAABAOk1edkIAAACgn152QgAAwAXyXnZCAACAa0RfdkIAAEDRll92QgAAADfpX3ZCAADAnDtgdkIAAIACjmB2QgAAQGjgYHZCAAAAzjJhdkIAAMAzhWF2QgAAgJnXYXZCAABA/ylidkIAAABlfGJ2QgAAwMrOYnZCAACAMCFjdkIAAECWc2N2QgAAAPzFY3ZCAADAYRhkdkIAAIDHamR2QgAAQC29ZHZCAAAAkw9ldkIAAMD4YWV2QgAAgF60ZXZCAABAxAZmdkIAAAAqWWZ2QgAAwI+rZnZCAACA9f1mdkIAAEBbUGd2QgAAAMGiZ3ZCAADAJvVndkIAAICMR2h2QgAAQPKZaHZCAAAAWOxodkIAAMC9Pml2QgAAgCORaXZCAABAieNpdkIAAADvNWp2QgAAwFSIanZCAACAutpqdkIAAEAgLWt2QgAAAIZ/a3ZCAADA69FrdkIAAIBRJGx2QgAAQLd2bHZCAAAAHclsdkIAAMCCG212QgAAgOhtbXZCAABATsBtdkIAAAC0Em52QgAAwBllbnZCAACAf7dudkIAAEDlCW92QgAAAEtcb3ZCAADAsK5vdkIAAIAWAXB2QgAAQHxTcHZCAAAA4qVwdkIAAMBH+HB2QgAAgK1KcXZCAABAE51xdkIAAAB573F2QgAAwN5BcnZCAACARJRydkIAAECq5nJ2QgAAABA5c3ZCAADAdYtzdkIAAIDb3XN2QgAAQEEwdHZCAAAAp4J0dkIAAMAM1XR2QgAAgHIndXZCAABA2Hl1dkIAAAA+zHV2QgAAwKMednZCAACACXF2dkIAAEBvw3Z2QgAAANUVd3ZCAADAOmh3dkIAAICgund2QgAAQAYNeHZCAAAAbF94dkIAAMDRsXh2QgAAgDcEeXZCAABAnVZ5dkIAAAADqXl2QgAAwGj7eXZCAACAzk16dkIAAEA0oHp2QgAAAJryenZCAADA/0R7dkIAAIBll3t2QgAAQMvpe3ZCAAAAMTx8dkIAAMCWjnx2QgAAgPzgfHZCAABAYjN9dkIAAADIhX12QgAAwC3YfXZCAACAkyp+dkIAAED5fH52QgAAAF/PfnZCAADAxCF/dkIAAIAqdH92QgAAQJDGf3ZCAAAA9hiAdkIAAMBba4B2QgAAgMG9gHZCAABAJxCBdkIAAACNYoF2QgAAwPK0gXZCAACAWAeCdkIAAEC+WYJ2QgAAACSsgnZCAADAif6CdkIAAIDvUIN2QgAAQFWjg3ZCAAAAu/WDdkIAAMAgSIR2QgAAgIaahHZCAABA7OyEdkIAAABSP4V2QgAAwLeRhXZCAACAHeSFdkIAAECDNoZ2QgAAAOmIhnZCAADATtuGdkIAAIC0LYd2QgAAQBqAh3ZCAAAAgNKHdkIAAMDlJIh2QgAAgEt3iHZCAABAscmIdkIAAAAXHIl2QgAAwHxuiXZCAACA4sCJdkIAAEBIE4p2QgAAAK5linZCAADAE7iKdkIAAIB5Cot2QgAAQN9ci3ZCAAAARa+LdkIAAMCqAYx2QgAAgBBUjHZCAABAdqaMdkIAAADc+Ix2QgAAwEFLjXZCAACAp52NdkIAAEAN8I12QgAAAHNCjnZCAADA2JSOdkIAAIA+5452QgAAQKQ5j3ZCAAAACoyPdkIAAMBv3o92QgAAgNUwkHZCAABAO4OQdkIAAACh1ZB2QgAAwAYokXZCAACAbHqRdkIAAEDSzJF2QgAAADgfknZCAADAnXGSdkIAAIADxJJ2QgAAQGkWk3ZCAAAAz2iTdkIAAMA0u5N2QgAAgJoNlHZCAABAAGCUdkIAAABmspR2QgAAwMsElXZCAACAMVeVdkIAAECXqZV2QgAAAP37lXZCAADAYk6WdkIAAIDIoJZ2QgAAQC7zlnZCAAAAlEWXdkIAAMD5l5d2QgAAgF/ql3ZCAABAxTyYdkIAAAArj5h2QgAAwJDhmHZCAACA9jOZdkIAAEBchpl2QgAAAMLYmXZCAADAJyuadkIAAICNfZp2QgAAQPPPmnZCAAAAWSKbdkIAAMC+dJt2QgAAgCTHm3ZCAABAihmcdkIAAADwa5x2QgAAwFW+nHZCAACAuxCddkIAAEAhY512QgAAAIe1nXZCAADA7AeedkIAAIBSWp52QgAAQLisnnZCAAAAHv+edkIAAMCDUZ92QgAAgOmjn3ZCAABAT/afdkIAAAC1SKB2QgAAwBqboHZCAACAgO2gdkIAAEDmP6F2QgAAAEySoXZCAADAseShdkIAAIAXN6J2QgAAQH2JonZCAAAA49uidkIAAMBILqN2QgAAgK6Ao3ZCAABAFNOjdkIAAAB6JaR2QgAAwN93pHZCAACARcqkdkIAAECrHKV2QgAAABFvpXZCAADAdsGldkIAAIDcE6Z2QgAAQEJmpnZCAAAAqLimdkIAAMANC6d2QgAAgHNdp3ZCAABA2a+ndkIAAAA/Aqh2QgAAwKRUqHZCAACACqeodkIAAEBw+ah2QgAAANZLqXZCAADAO56pdkIAAICh8Kl2QgAAQAdDqnZCAAAAbZWqdkIAAMDS56p2QgAAgDg6q3ZCAABAnoyrdkIAAAAE36t2QgAAwGkxrHZCAACAz4OsdkIAAEA11qx2QgAAAJsorXZCAADAAHutdkIAAIBmza12QgAAQMwfrnZCAAAAMnKudkIAAMCXxK52QgAAgP0Wr3ZCAABAY2mvdkIAAADJu692QgAAwC4OsHZCAACAlGCwdkIAAED6srB2QgAAAGAFsXZCAADAxVexdkIAAIArqrF2QgAAQJH8sXZCAAAA906ydkIAAMBcobJ2QgAAgMLzsnZCAABAKEazdkIAAACOmLN2QgAAwPPqs3ZCAACAWT20dkIAAEC/j7R2QgAAACXitHZCAADAijS1dkIAAIDwhrV2QgAAQFbZtXZCAAAAvCu2dkIAAMAhfrZ2QgAAgIfQtnZCAABA7SK3dkIAAABTdbd2QgAAwLjHt3ZCAACAHhq4dkIAAECEbLh2QgAAAOq+uHZCAADATxG5dkIAAIC1Y7l2QgAAQBu2uXZCAAAAgQi6dkIAAMDmWrp2QgAAgEytunZCAABAsv+6dkIAAAAYUrt2QgAAwH2ku3ZCAACA4/a7dkIAAEBJSbx2QgAAAK+bvHZCAADAFO68dkIAAIB6QL12QgAAQOCSvXZCAAAARuW9dkIAAMCrN752QgAAgBGKvnZCAABAd9y+dkIAAADdLr92QgAAwEKBv3ZCAACAqNO/dkIAAEAOJsB2QgAAAHR4wHZCAADA2crAdkIAAIA/HcF2QgAAQKVvwXZCAAAAC8LBdkIAAMBwFMJ2QgAAgNZmwnZCAABAPLnCdkIAAACiC8N2QgAAwAdew3ZCAACAbbDDdkIAAEDTAsR2QgAAADlVxHZCAADAnqfEdkIAAIAE+sR2QgAAQGpMxXZCAAAA0J7FdkIAAMA18cV2QgAAgJtDxnZCAABAAZbGdkIAAABn6MZ2QgAAwMw6x3ZCAACAMo3HdkIAAECY38d2QgAAAP4xyHZCAADAY4TIdkIAAIDJ1sh2QgAAQC8pyXZCAAAAlXvJdkIAAMD6zcl2QgAAgGAgynZCAABAxnLKdkIAAAAsxcp2QgAAwJEXy3ZCAACA92nLdkIAAEBdvMt2QgAAAMMOzHZCAADAKGHMdkIAAICOs8x2QgAAQPQFzXZCAAAAWljNdkIAAMC/qs12QgAAgCX9zXZCAABAi0/OdkIAAADxoc52QgAAwFb0znZCAACAvEbPdkIAAEAimc92QgAAAIjrz3ZCAADA7T3QdkIAAIBTkNB2QgAAQLni0HZCAAAAHzXRdkIAAMCEh9F2QgAAgOrZ0XZCAABAUCzSdkIAAAC2ftJ2QgAAwBvR0nZCAACAgSPTdkIAAEDnddN2QgAAAE3I03ZCAADAshrUdkIAAIAYbdR2QgAAQH6/1HZCAAAA5BHVdkIAAMBJZNV2QgAAgK+21XZCAABAFQnWdkIAAAB7W9Z2QgAAwOCt1nZCAACARgDXdkIAAECsUtd2QgAAABKl13ZCAADAd/fXdkIAAIDdSdh2QgAAQEOc2HZCAAAAqe7YdkIAAMAOQdl2QgAAgHST2XZCAABA2uXZdkIAAABAONp2QgAAwKWK2nZCAACAC93adkIAAEBxL9t2QgAAANeB23ZCAADAPNTbdkIAAICiJtx2QgAAQAh53HZCAAAAbsvcdkIAAMDTHd12QgAAgDlw3XZCAABAn8LddkIAAAAFFd52QgAAwGpn3nZCAACA0LnedkIAAEA2DN92QgAAAJxe33ZCAADAAbHfdkIAAIBnA+B2QgAAQM1V4HZCAAAAM6jgdkIAAMCY+uB2QgAAgP5M4XZCAABAZJ/hdkIAAADK8eF2QgAAwC9E4nZCAACAlZbidkIAAED76OJ2QgAAAGE743ZCAADAxo3jdkIAAIAs4ON2QgAAQJIy5HZCAAAA+ITkdkIAAMBd1+R2QgAAgMMp5XZCAABAKXzldkIAAACPzuV2QgAAwPQg5nZCAACAWnPmdkIAAEDAxeZ2QgAAACYY53ZCAADAi2rndkIAAIDxvOd2QgAAQFcP6HZCAAAAvWHodkIAAMAitOh2QgAAgIgG6XZCAABA7ljpdkIAAABUq+l2QgAAwLn96XZCAACAH1DqdkIAAECFoup2QgAAAOv06nZCAADAUEfrdkIAAIC2met2QgAAQBzs63ZCAAAAgj7sdkIAAMDnkOx2QgAAgE3j7HZCAABAszXtdkIAAAAZiO12QgAAwH7a7XZCAACA5CzudkIAAEBKf+52QgAAALDR7nZCAADAFSTvdkIAAIB7du92QgAAQOHI73ZCAAAARxvwdkIAAMCsbfB2QgAAgBLA8HZCAABAeBLxdkIAAADeZPF2QgAAwEO38XZCAACAqQnydkIAAEAPXPJ2QgAAAHWu8nZCAADA2gDzdkIAAIBAU/N2QgAAQKal83ZCAAAADPjzdkIAAMBxSvR2QgAAgNec9HZCAABAPe/0dkIAAACjQfV2QgAAwAiU9XZCAACAbub1dkIAAEDUOPZ2QgAAADqL9nZCAADAn932dkIAAIAFMPd2QgAAQGuC93ZCAAAA0dT3dkIAAMA2J/h2QgAAgJx5+HZCAABAAsz4dkIAAABoHvl2QgAAwM1w+XZCAACAM8P5dkIAAECZFfp2QgAAAP9n+nZCAADAZLr6dkIAAIDKDPt2QgAAQDBf+3ZCAAAAlrH7dkIAAMD7A/x2QgAAgGFW/HZCAABAx6j8dkIAAAAt+/x2QgAAwJJN/XZCAACA+J/9dkIAAEBe8v12QgAAAMRE/nZCAADAKZf+dkIAAICP6f52QgAAQPU7/3ZCAAAAW47/dkIAAMDA4P92QgAAgCYzAHdCAABAjIUAd0IAAADy1wB3QgAAwFcqAXdCAACAvXwBd0IAAEAjzwF3QgAAAIkhAndCAADA7nMCd0IAAIBUxgJ3QgAAQLoYA3dCAAAAIGsDd0IAAMCFvQN3QgAAgOsPBHdCAABAUWIEd0IAAAC3tAR3QgAAwBwHBXdCAACAglkFd0IAAEDoqwV3QgAAAE7+BXdCAADAs1AGd0IAAIAZowZ3QgAAQH/1BndCAAAA5UcHd0IAAMBKmgd3QgAAgLDsB3dCAABAFj8Id0IAAAB8kQh3QgAAwOHjCHdCAACARzYJd0IAAECtiAl3QgAAABPbCXdCAADAeC0Kd0IAAIDefwp3QgAAQETSCndCAAAAqiQLd0IAAMAPdwt3QgAAgHXJC3dCAABA2xsMd0IAAABBbgx3QgAAwKbADHdCAACADBMNd0IAAEByZQ13QgAAANi3DXdCAADAPQoOd0IAAICjXA53QgAAQAmvDndCAAAAbwEPd0IAAMDUUw93QgAAgDqmD3dCAABAoPgPd0IAAAAGSxB3QgAAwGudEHdCAACA0e8Qd0IAAEA3QhF3QgAAAJ2UEXdCAADAAucRd0IAAIBoORJ3QgAAQM6LEndCAAAANN4Sd0IAAMCZMBN3QgAAgP+CE3dCAABAZdUTd0IAAADLJxR3QgAAwDB6FHdCAACAlswUd0IAAED8HhV3QgAAAGJxFXdCAADAx8MVd0IAAIAtFhZ3QgAAQJNoFndCAAAA+boWd0IAAMBeDRd3QgAAgMRfF3dCAABAKrIXd0IAAACQBBh3QgAAwPVWGHdCAACAW6kYd0IAAEDB+xh3QgAAACdOGXdCAADAjKAZd0IAAIDy8hl3QgAAQFhFGndCAAAAvpcad0IAAMAj6hp3QgAAgIk8G3dCAABA744bd0IAAABV4Rt3QgAAwLozHHdCAACAIIYcd0IAAECG2Bx3QgAAAOwqHXdCAADAUX0dd0IAAIC3zx13QgAAQB0iHndCAAAAg3Qed0IAAMDoxh53QgAAgE4ZH3dCAABAtGsfd0IAAAAavh93QgAAwH8QIHdCAACA5WIgd0IAAEBLtSB3QgAAALEHIXdCAADAFlohd0IAAIB8rCF3QgAAQOL+IXdCAAAASFEid0IAAMCtoyJ3QgAAgBP2IndCAABAeUgjd0IAAADfmiN3QgAAwETtI3dCAACAqj8kd0IAAEAQkiR3QgAAAHbkJHdCAADA2zYld0IAAIBBiSV3QgAAQKfbJXdCAAAADS4md0IAAMBygCZ3QgAAgNjSJndCAABAPiUnd0IAAACkdyd3QgAAwAnKJ3dCAACAbxwod0IAAEDVbih3QgAAADvBKHdCAADAoBMpd0IAAIAGZil3QgAAQGy4KXdCAAAA0goqd0IAAMA3XSp3QgAAgJ2vKndCAABAAwIrd0IAAABpVCt3QgAAwM6mK3dCAACANPkrd0IAAECaSyx3QgAAAACeLHdCAADAZfAsd0IAAIDLQi13QgAAQDGVLXdCAAAAl+ctd0IAAMD8OS53QgAAgGKMLndCAABAyN4ud0IAAAAuMS93QgAAwJODL3dCAACA+dUvd0IAAEBfKDB3QgAAAMV6MHdCAADAKs0wd0IAAICQHzF3QgAAQPZxMXdCAAAAXMQxd0IAAMDBFjJ3QgAAgCdpMndCAABAjbsyd0IAAADzDTN3QgAAwFhgM3dCAACAvrIzd0IAAEAkBTR3QgAAAIpXNHdCAADA76k0d0IAAIBV/DR3QgAAQLtONXdCAAAAIaE1d0IAAMCG8zV3QgAAgOxFNndCAABAUpg2d0IAAAC46jZ3QgAAwB09N3dCAACAg483d0IAAEDp4Td3QgAAAE80OHdCAADAtIY4d0IAAIAa2Th3QgAAQIArOXdCAAAA5n05d0IAAMBL0Dl3QgAAgLEiOndCAABAF3U6d0IAAAB9xzp3QgAAwOIZO3dCAACASGw7d0IAAECuvjt3QgAAABQRPHdCAADAeWM8d0IAAIDftTx3QgAAQEUIPXdCAAAAq1o9d0IAAMAQrT13QgAAgHb/PXdCAABA3FE+d0IAAABCpD53QgAAwKf2PndCAACADUk/d0IAAEBzmz93QgAAANntP3dCAADAPkBAd0IAAICkkkB3QgAAQArlQHdCAAAAcDdBd0IAAMDViUF3QgAAgDvcQXdCAABAoS5Cd0IAAAAHgUJ3QgAAwGzTQndCAACA0iVDd0IAAEA4eEN3QgAAAJ7KQ3dCAADAAx1Ed0IAAIBpb0R3QgAAQM/BRHdCAAAANRRFd0IAAMCaZkV3QgAAgAC5RXdCAABAZgtGd0IAAADMXUZ3QgAAwDGwRndCAACAlwJHd0IAAED9VEd3QgAAAGOnR3dCAADAyPlHd0IAAIAuTEh3QgAAQJSeSHdCAAAA+vBId0IAAMBfQ0l3QgAAgMWVSXdCAABAK+hJd0IAAACROkp3QgAAwPaMSndCAACAXN9Kd0IAAEDCMUt3QgAAACiES3dCAADAjdZLd0IAAIDzKEx3QgAAQFl7THdCAAAAv81Md0IAAMAkIE13QgAAgIpyTXdCAABA8MRNd0IAAABWF053QgAAwLtpTndCAACAIbxOd0IAAECHDk93QgAAAO1gT3dCAADAUrNPd0IAAIC4BVB3QgAAQB5YUHdCAAAAhKpQd0IAAMDp/FB3QgAAgE9PUXdCAABAtaFRd0IAAAAb9FF3QgAAwIBGUndCAACA5phSd0IAAEBM61J3QgAAALI9U3dCAADAF5BTd0IAAIB94lN3QgAAQOM0VHdCAAAASYdUd0IAAMCu2VR3QgAAgBQsVXdCAABAen5Vd0IAAADg0FV3QgAAwEUjVndCAACAq3VWd0IAAEARyFZ3QgAAAHcaV3dCAADA3GxXd0IAAIBCv1d3QgAAQKgRWHdCAAAADmRYd0IAAMBztlh3QgAAgNkIWXdCAABAP1tZd0IAAAClrVl3QgAAwAoAWndCAACAcFJad0IAAEDWpFp3QgAAADz3WndCAADAoUlbd0IAAIAHnFt3QgAAQG3uW3dCAAAA00Bcd0IAAMA4k1x3QgAAgJ7lXHdCAABABDhdd0IAAABqil13QgAAwM/cXXdCAACANS9ed0IAAECbgV53QgAAAAHUXndCAADAZiZfd0IAAIDMeF93QgAAQDLLX3dCAAAAmB1gd0IAAMD9b2B3QgAAgGPCYHdCAABAyRRhd0IAAAAvZ2F3QgAAwJS5YXdCAACA+gtid0IAAEBgXmJ3QgAAAMawYndCAADAKwNjd0IAAICRVWN3QgAAQPenY3dCAAAAXfpjd0IAAMDCTGR3QgAAgCifZHdCAABAjvFkd0IAAAD0Q2V3QgAAwFmWZXdCAACAv+hld0IAAEAlO2Z3QgAAAIuNZndCAADA8N9md0IAAIBWMmd3QgAAQLyEZ3dCAAAAItdnd0IAAMCHKWh3QgAAgO17aHdCAABAU85od0IAAAC5IGl3QgAAwB5zaXdCAACAhMVpd0IAAEDqF2p3QgAAAFBqandCAADAtbxqd0IAAIAbD2t3QgAAQIFha3dCAAAA57Nrd0IAAMBMBmx3QgAAgLJYbHdCAABAGKtsd0IAAAB+/Wx3QgAAwONPbXdCAACASaJtd0IAAECv9G13QgAAABVHbndCAADAeplud0IAAIDg6253QgAAQEY+b3dCAAAArJBvd0IAAMAR4293QgAAgHc1cHdCAABA3Ydwd0IAAABD2nB3QgAAwKgscXdCAACADn9xd0IAAEB00XF3QgAAANojcndCAADAP3Zyd0IAAIClyHJ3QgAAQAsbc3dCAAAAcW1zd0IAAMDWv3N3QgAAgDwSdHdCAABAomR0d0IAAAAIt3R3QgAAwG0JdXdCAACA01t1d0IAAEA5rnV3QgAAAJ8AdndCAADABFN2d0IAAIBqpXZ3QgAAQND3dndCAAAANkp3d0IAAMCbnHd3QgAAgAHvd3dCAABAZ0F4d0IAAADNk3h3QgAAwDLmeHdCAACAmDh5d0IAAED+inl3QgAAAGTdeXdCAADAyS96d0IAAIAvgnp3QgAAQJXUendCAAAA+yZ7d0IAAMBgeXt3QgAAgMbLe3dCAABALB58d0IAAACScHx3QgAAwPfCfHdCAACAXRV9d0IAAEDDZ313QgAAACm6fXdCAADAjgx+d0IAAID0Xn53QgAAQFqxfndCAAAAwAN/d0IAAMAlVn93QgAAgIuof3dCAABA8fp/d0IAAABXTYB3QgAAwLyfgHdCAACAIvKAd0IAAECIRIF3QgAAAO6WgXdCAADAU+mBd0IAAIC5O4J3QgAAQB+OgndCAAAAheCCd0IAAMDqMoN3QgAAgFCFg3dCAABAtteDd0IAAAAcKoR3QgAAwIF8hHdCAACA586Ed0IAAEBNIYV3QgAAALNzhXdCAADAGMaFd0IAAIB+GIZ3QgAAQORqhndCAAAASr2Gd0IAAMCvD4d3QgAAgBVih3dCAABAe7SHd0IAAADhBoh3QgAAwEZZiHdCAACArKuId0IAAEAS/oh3QgAAAHhQiXdCAADA3aKJd0IAAIBD9Yl3QgAAQKlHindCAAAAD5qKd0IAAMB07Ip3QgAAgNo+i3dCAABAQJGLd0IAAACm44t3QgAAwAs2jHdCAACAcYiMd0IAAEDX2ox3QgAAAD0tjXdCAADAon+Nd0IAAIAI0o13QgAAQG4kjndCAAAA1HaOd0IAAMA5yY53QgAAgJ8bj3dCAABABW6Pd0IAAABrwI93QgAAwNASkHdCAACANmWQd0IAAECct5B3QgAAAAIKkXdCAADAZ1yRd0IAAIDNrpF3QgAAQDMBkndCAAAAmVOSd0IAAMD+pZJ3QgAAgGT4kndCAABAykqTd0IAAAAwnZN3QgAAwJXvk3dCAACA+0GUd0IAAEBhlJR3QgAAAMfmlHdCAADALDmVd0IAAICSi5V3QgAAQPjdlXdCAAAAXjCWd0IAAMDDgpZ3QgAAgCnVlndCAABAjyeXd0IAAAD1eZd3QgAAwFrMl3dCAACAwB6Yd0IAAEAmcZh3QgAAAIzDmHdCAADA8RWZd0IAAIBXaJl3QgAAQL26mXdCAAAAIw2ad0IAAMCIX5p3QgAAgO6xmndCAABAVASbd0IAAAC6Vpt3QgAAwB+pm3dCAACAhfubd0IAAEDrTZx3QgAAAFGgnHdCAADAtvKcd0IAAIAcRZ13QgAAQIKXnXdCAAAA6Omdd0IAAMBNPJ53QgAAkCtDnndC\",\"dtype\":\"float64\",\"order\":\"little\",\"shape\":[1407]},\"tvlUSD\":[0,4,4,5,5,5,5,5,5,6,6,6,6,5,6,5,5,5,5,5,6,5,1386,1355,1300,1365,1521,1531,1591,1647,1652,1516,1451,1141,684,723,745,698,679,649,632,2100574,2187923,1761431,1322049,1395519,1299343,1406269,1492881,1346872,1375273,1197336,1208691,1363800,1322087,1332142,1340764,1230081,1406365,1616384,2627295,1406890,1340804,1266586,4200506,4227210,1529506,1721351,1230356,1157661,1779275,2368811,2184832,1803655,1348483,4538303,4392076,4105398,3765240,3727645,3614010,3372824,3167783,2976913,3130369,3077011,2495857,2586193,2599813,2620378,2660420,2615404,2498818,2182976,2250921,2383687,2278501,2369142,2604644,2452697,2819162,2312229,1727079,1550713,1917241,1871145,1706140,6908299,6848192,7163984,7178571,7304792,7127275,7817731,8023171,8983722,8758371,8939618,8832017,8824505,8697058,8845547,9168312,8998308,9276538,9739269,11582730,10984395,10195547,10571618,11046204,10339780,11630174,13343930,13612594,13219941,13715902,14600775,15797364,20846431,24685057,29386938,30312295,28096734,30291023,31646081,40972890,41765822,43007119,44371099,48578456,45320142,48518175,50815621,56942145,63044139,71301491,73542908,78593372,87758898,89677700,103410300,95293222,88712830,98858837,103374935,99806389,88219997,71399412,74326033,75238286,78054938,85638433,77716764,75026171,75850735,80973666,79242602,78831535,82983347,89232298,83475721,77008937,78328314,72945655,68896116,71789512,61988724,57176760,65971481,65300967,70451708,82222365,79665163,77833965,82064851,82113672,90268949,96519516,98604963,102220287,97714894,99891414,93045466,88301085,85610279,90910790,89373648,92536272,98691300,99825253,98820460,103545997,103379499,102696576,104005391,100856136,96154942,89827949,83526322,85325813,82163637,85584130,83466548,81671089,76177207,77954914,77939406,72706836,69588405,74687687,75110273,76202390,74375836,74822899,72123558,72197504,67563427,64699277,64534583,60454750,67573072,66446158,65404640,68179506,72630318,69024749,70107146,68881346,71698905,74549899,75411934,79684901,85994827,101142114,102124287,104559325,109596066,106490164,106473264,113028841,123097085,133184099,130767036,134757182,142534136,152877574,140011691,149241031,152781395,163311364,163161811,156692266,157696272,162812040,178900895,180360136,186855019,180996674,174224263,176495675,176948323,172153067,163087860,165517449,177209232,176716559,171567791,172654087,165801316,172424873,174593522,178318713,172713587,159396651,141856366,149066738,145703377,146378643,143366445,134721771,155577525,153590379,160486751,161289757,165106770,172141386,165564313,170668400,170954358,170572303,168541466,164785463,147222751,154199817,145404054,143859403,154973225,146701753,149123768,148708599,154271507,159855247,160513659,155782164,140079561,142552371,156839697,156738044,148676936,152731150,151404933,181331022,189629827,192261833,206330008,201199595,201148116,199678657,200200600,206439565,207255771,187821325,174692638,183518500,178199538,180564600,184306210,191639918,205774418,213345335,207517242,202893479,195704666,201035235,200162073,198639099,209302726,205908268,203415278,206634790,206570838,206034861,196046601,192232034,187488159,183822817,186439572,182816751,184078439,182019699,169799074,169052859,175480266,163822820,164880229,166267346,156896201,155522792,158364913,162157007,181852154,166901716,169444920,157624090,164107148,157258194,162000470,168357612,167438517,165799021,174458547,179977135,175821755,172760720,171377063,181561342,180999875,175215901,172350784,140767634,137659327,139095514,138545111,145792039,153777841,153120229,156799495,180436801,179784064,191092152,189954707,174033502,184954799,186510085,199701062,218694935,213461887,216910076,203238993,200575746,197355567,211470309,206094673,215060917,216040494,214580839,210227627,206396608,208877812,215258867,212425901,214795892,218960888,217455566,215063358,186613086,195462606,198863758,195444806,212088456,211771222,210334396,205913739,206748910,209229203,208993243,208692331,215999701,216489610,215371503,218351107,218186015,220165891,213380009,214469213,216448995,218135619,220859553,219888118,231760311,230786515,246894599,245438936,240758670,239176614,243834855,243300308,243529044,239703938,216654257,225621365,224917674,226068387,229221134,203121694,190681809,204057328,192834147,189353694,175845372,188414029,179869155,188936063,210763069,203029686,195796440,205729915,202133410,189303822,192878314,178599540,156083721,170128132,168339797,175122523,168190301,164813011,169947043,161642292,156881409,157752572,160444942,178523156,192120961,192159715,222237115,213005836,235869769,265143814,285277636,266821048,272386300,241436593,287967333,286900209,294581517,278755910,297587827,326640689,312652923,324572717,321889391,325792494,311758666,309527921,310172054,264393363,262781300,260922294,243335651,275855578,258569204,267910305,269616997,263802444,273633372,265592138,262072735,265056057,262298185,266206886,262193696,263670089,254536736,241213188,239944383,250471747,246818257,247330943,258948027,250183650,250008160,250228890,246419956,246886955,279439092,281982195,295435767,282916380,288094787,288764397,285187962,288383383,291600945,316882999,343714660,339524744,350017714,344267830,352963369,377511078,317572284,332426187,329468769,327144622,328138758,330819928,326480410,320202212,311854663,339449294,342923905,341640576,335645873,344958872,340696141,335249182,337195858,333848969,334328790,347116639,356512085,357396814,354610067,356524013,358196406,345087753,345301426,348773944,343960301,339181961,340376817,354775401,350988892,364413816,363086678,361064699,361256789,417143436,406531576,400031974,422976743,423124254,448789212,460580036,447496548,454428246,421973616,421514142,420163860,430929780,407718579,423489945,425716790,440451395,439497630,431889596,422704911,426775170,422384528,411310332,382287581,390641959,391863742,389143369,382488931,402248404,394081858,397034610,409356608,400088648,396159319,416219227,405694930,408935761,404735666,407503681,447518010,443709734,459068306,504787826,566246757,554899630,512587183,493353986,547473542,523785518,523169506,499349257,502716060,511902647,513166043,544544791,542977816,525861322,520950511,491921379,519727431,512772975,522172090,486890806,471940607,481922645,486952139,490075672,479840700,457357205,487431461,483540597,516668487,500895485,517188921,525886221,526577473,536540410,519389663,527430312,531683534,576727160,602485157,593190887,598136409,599201244,619011282,549833460,576257128,587562183,537335676,549612227,547626768,572610526,540077799,549194944,550751550,582097072,595581776,587077937,551892827,517786278,529195796,518094082,443924440,454296766,405132408,444193718,474906502,464863529,481374082,476461714,447575049,430389311,438580250,442374894,447763113,424372889,432857986,435305189,434841768,451505408,448428584,449981885,459535203,461130122,480402014,458339412,462259896,452593660,459785756,456390854,476602244,466159528,467035857,430142188,447176689,443144252,450518428,470571344,489380402,479377516,463253813,474467609,480407442,472489904,464582778,470058229,473821574,449330513,444367971,450623982,459097022,457109646,474905369,478613209,475743455,472558661,460825375,480461702,491314238,490216567,489366612,487723836,498931164,499913210,514898633,524186462,541586986,564190322,572173540,595158869,586444306,581134367,574625977,546286330,463717373,477766969,480298553,506080337,509244674,497609106,517469016,507280627,524576978,507044279,513733444,520965106,498887282,520459046,527886328,563754037,564573153,535724309,540767112,544826508,556040121,537070823,528301302,541377818,528592003,533219451,541979431,541592522,534979761,531908415,537500541,597827719,588166412,607225068,602120951,627568139,608453110,603222878,608241372,613575903,606986934,627312991,636208659,649638108,639520840,635347603,643692654,644316836,640056359,646838731,647706053,638491398,630787883,642289206,662081300,645653288,654243548,663534586,626691673,621022607,636490280,610085869,644294076,651298193,675982983,667319679,676371557,672508129,653705687,656737943,662765380,647344367,651881659,659433755,667114055,673966173,671389589,656526697,660209141,661877208,669018461,664334386,665648277,650122438,615614346,666463425,656365891,671524239,674648072,689629094,670103188,667890290,663526464,659542632,666689956,674216415,698060798,680473465,676711576,692394389,663921359,690185059,695947054,698091546,702791843,720186489,698771355,683129610,717130766,697092415,719761837,737068081,814610804,814214565,815971883,847718137,859364921,832284059,823509201,843451570,843235063,813535481,810056455,813467939,842111186,862794790,899361759,882788843,933959893,914516509,931708248,937926654,940480794,955486232,1012257872,1039262420,1059474880,1063895740,1059409939,1052946117,1116772204,1206240644,1206287655,1281460278,1193988981,1181941852,1211647963,1249172042,1098756879,1094308574,1125342646,1116375942,1177825505,1125855262,1062425017,983131306,1019808862,1016499328,995615193,970935652,1031424023,991524443,1011743440,1011413111,1066463771,1046707279,907487817,949663654,930522988,910309813,571059402,674179247,607787311,596833794,545683538,556271979,571481532,634372039,622741452,666865409,589159976,634333638,654883475,648744654,671883699,650493786,651888516,634470099,637592799,675558238,691490769,711229828,712616880,724967894,721701988,799852211,768956650,789728862,779397193,736494899,742926614,748443516,739882554,752536156,728145463,795826838,793192421,844707361,809980464,779628137,778094328,821063381,807440287,819634398,837334134,837073358,867556748,868321309,939794668,889488122,909754430,929883486,924378231,914572447,919174024,928917737,954472731,961537818,960924425,895343839,877852977,884634007,903714134,914358435,888998053,908718434,924256518,950689421,956642628,953008778,918557670,969331319,961555174,941701954,949775485,944145351,956004246,987295455,992675652,1071645076,1040259209,1071519075,1052324382,1095955257,1122015297,1140427395,1146726173,1140689024,1129755841,1102743234,1099777623,1088753239,1127852921,1117797652,1096179268,1101177840,1177405848,1257298062,1386992091,1493315861,1573866176,1660032672,1661456504,1721869111,1767240194,1847450408,1860901233,1858139592,1875290873,1886239522,1831246576,1972827261,1979317335,2087085887,2130401307,2146955370,2255588149,2288018664,2415286839,2395449305,2421146662,2487982989,2492310711,2465752854,2522539139,2562899275,2567556402,2595366029,2668277228,2810275198,2990082722,3082849424,3372045766,3606690535,3711196429,3948716354,3698622709,3585487844,3652657367,3747203804,3872059040,4002640023,4213405687,4189819641,4294813827,4368060633,4555003584,4526547243,4475626655,4632251581,4690885591,4840248183,4703935852,4727091910,5028245384,5771420681,5916839819,6259329564,6420572464,6390949872,6451326812,6824013881,6625668953,6929627194,6900383578,6987513490,7027821156,7414779385,7261479356,7790107889,8097608826,8560465016,8640740525,9563427079,9384650122,8714642713,8864452921,7958375217,8434406599,8562069155,8336343175,9006057680,9715579446,10034172139,10484085305,10261635662,10408530048,10139321325,10048713852,10788621438,10780770197,10623229601,10350921727,9925315933,10106328471,10166001812,10609278969,10913589634,11082860793,11124180261,11240069402,11161492903,11086409132,11096982466,10928860429,11098534776,11143842600,10989940238,10615594642,10497364678,10846216596,11171169613,11334456971,11473326373,11638985607,11502349438,11537265555,11542383964,11393101850,11438607788,11574188858,11485538000,11345891442,11804792858,12071205789,12058278428,12176718891,12147129635,10923488934,11141968039,10870977281,10642897222,10563896415,10672915723,10777860199,10510159482,10548437820,10762912846,11139739548,11707573904,11359049364,11777211588,11998193738,12417842237,12634848763,12549518508,12968860005,12754307694,12480449696,12744417105,12407383202,12501569372,12383855652,12896199714,13043244757,13113477055,13003486911,12946101988,12562066757,11832766069,11743533780,12165616418,12645352367,13462658840,13063290064,13463081645,13764278973,13092046615,13680389481,13830488786,14009001085,13354405213,13647496932,13391495880,13145203014,13586612806,13959259377,14117521558,14306686660,14648915115,14761236727,14973610251,15518934519,15184497171,14857803332,15389359916,14717656741,15095194566,15432047321,15577303220,15861654988,16300961253,16552600562,15828134526,15888306508,16192057240,16890943010,19081838517,19638102635,21330582159,22593501686,22909256656,23108396003,24326583025,24066367067,21699932580,21632885625,23527936092,24431907232,23560940455,24415708349,24948020534,25453252191,26068122568,26393773687,22806776887,24885610595,25424780733,27776226604,27246562226,28035605510,26486142874,28554599094,29291649227,30092083927,29315970389,30391501279,32330715830,34940857008,35857298703,38679924799,37886803134,37098683761,40341726292,42216302985,42053996699,43950844547,45148715226,44147069699,43770976064,43316340459,43325522292,44584374241,45339653475,45819423838,46169862638,46615990886,43933376144,39033166076,40720487174,38414941359,37605115217,38313230391,37712681415,40805628348,40703191982,42897468225,41724132915,41712065122,42769736300,41041780375,42896663074,44402396951,43413186146,43933945540,44778157424,48129752529,46871052602,45087665225,45404786839,46539484021,45611718633,46906797614,47451792741,46462788497,44215793191,43679340653,41747356103,42082659217,44811798698,44558330967,44303139092,47013531766,48735455928,49273608726,50298697447,52891752416,52010090778,54002130887,55465160838,55493466364,52743129096,55109658165,54700400245,55669586199,55628792406,56470993877,59278560559,61783809784,64579677494,64043935447,62524862244,59840600973,57794851082,60010572374,59967155814,60421198381,58660722790,55834130735,57618973133,63347091830,66891283091,68063619316,69697221407,70603451438,72917176908,72406032881,79702825297,75327652786,79934589026,80673757398,81372826094,86519867740,87042736974,85369554580,88905988725,80778407601,80536217934,87632272349,80519243235,80306379087,76389641511,79553120085,60088306922,65702496506,59072602781,56373442631,50408534105,60139948581,61540826827,66394452005,65195980988,60389466759,57234472210,60297614957,65779046264,64663957625,66677208080,69365456633,65825191440,64732710635,66225076336,67827973889]},\"selected\":{\"id\":\"1226\"},\"selection_policy\":{\"id\":\"1245\"}},\"id\":\"1225\",\"type\":\"ColumnDataSource\"},{\"attributes\":{},\"id\":\"1216\",\"type\":\"ResetTool\"},{\"attributes\":{\"base\":60,\"mantissas\":[1,2,5,10,15,20,30],\"max_interval\":1800000.0,\"min_interval\":1000.0,\"num_minor_ticks\":0},\"id\":\"1247\",\"type\":\"AdaptiveTicker\"},{\"attributes\":{},\"id\":\"1214\",\"type\":\"WheelZoomTool\"},{\"attributes\":{},\"id\":\"1202\",\"type\":\"LinearScale\"},{\"attributes\":{\"format\":\"%.0f\"},\"id\":\"1233\",\"type\":\"PrintfTickFormatter\"},{\"attributes\":{\"overlay\":{\"id\":\"1217\"}},\"id\":\"1215\",\"type\":\"BoxZoomTool\"},{\"attributes\":{\"months\":[0,1,2,3,4,5,6,7,8,9,10,11]},\"id\":\"1253\",\"type\":\"MonthsTicker\"},{\"attributes\":{\"axis_label\":\"timestamp\",\"bounds\":\"auto\",\"formatter\":{\"id\":\"1234\"},\"major_label_orientation\":\"horizontal\",\"ticker\":{\"id\":\"1205\"}},\"id\":\"1204\",\"type\":\"DatetimeAxis\"},{\"attributes\":{\"days\":[1,15]},\"id\":\"1252\",\"type\":\"DaysTicker\"},{\"attributes\":{},\"id\":\"1200\",\"type\":\"LinearScale\"},{\"attributes\":{\"callback\":null,\"formatters\":{\"@{timestamp}\":\"datetime\"},\"renderers\":[{\"id\":\"1231\"}],\"tags\":[\"hv_created\"],\"tooltips\":[[\"timestamp\",\"@{timestamp}{%F %T}\"],[\"tvlUSD\",\"@{tvlUSD}\"]]},\"id\":\"1194\",\"type\":\"HoverTool\"},{\"attributes\":{\"axis_label\":\"tvlUSD\",\"bounds\":\"auto\",\"formatter\":{\"id\":\"1233\"},\"major_label_orientation\":\"horizontal\",\"ticker\":{\"id\":\"1209\"}},\"id\":\"1208\",\"type\":\"LinearAxis\"},{\"attributes\":{},\"id\":\"1245\",\"type\":\"UnionRenderers\"},{\"attributes\":{\"num_minor_ticks\":5,\"tickers\":[{\"id\":\"1246\"},{\"id\":\"1247\"},{\"id\":\"1248\"},{\"id\":\"1249\"},{\"id\":\"1250\"},{\"id\":\"1251\"},{\"id\":\"1252\"},{\"id\":\"1253\"},{\"id\":\"1254\"},{\"id\":\"1255\"},{\"id\":\"1256\"},{\"id\":\"1257\"}]},\"id\":\"1205\",\"type\":\"DatetimeTicker\"},{\"attributes\":{\"mantissas\":[1,2,5],\"max_interval\":500.0,\"num_minor_ticks\":0},\"id\":\"1246\",\"type\":\"AdaptiveTicker\"},{\"attributes\":{\"axis\":{\"id\":\"1204\"},\"grid_line_color\":null,\"ticker\":null},\"id\":\"1207\",\"type\":\"Grid\"},{\"attributes\":{\"days\":[1,4,7,10,13,16,19,22,25,28]},\"id\":\"1250\",\"type\":\"DaysTicker\"}],\"root_ids\":[\"1190\"]},\"title\":\"Bokeh Application\",\"version\":\"2.2.3\"}};\n",
       "    var render_items = [{\"docid\":\"ac21d960-705f-4ef1-8d26-407999bd2ee4\",\"root_ids\":[\"1190\"],\"roots\":{\"1190\":\"710d105a-e6b5-4a89-abac-718a82e5b2b7\"}}];\n",
       "    root.Bokeh.embed.embed_items_notebook(docs_json, render_items);\n",
       "  }\n",
       "  if (root.Bokeh !== undefined && root.Bokeh.Panel !== undefined) {\n",
       "    embed_document(root);\n",
       "  } else {\n",
       "    var attempts = 0;\n",
       "    var timer = setInterval(function(root) {\n",
       "      if (root.Bokeh !== undefined && root.Bokeh.Panel !== undefined) {\n",
       "        clearInterval(timer);\n",
       "        embed_document(root);\n",
       "      } else if (document.readyState == \"complete\") {\n",
       "        attempts++;\n",
       "        if (attempts > 100) {\n",
       "          clearInterval(timer);\n",
       "          console.log(\"Bokeh: ERROR: Unable to run BokehJS code because BokehJS library is missing\");\n",
       "        }\n",
       "      }\n",
       "    }, 10, root)\n",
       "  }\n",
       "})(window);</script>"
      ],
      "text/plain": [
       ":Curve   [timestamp]   (tvlUSD)"
      ]
     },
     "execution_count": 33,
     "metadata": {
      "application/vnd.holoviews_exec.v0+json": {
       "id": "1190"
      }
     },
     "output_type": "execute_result"
    }
   ],
   "source": [
    "pd.set_option('display.float_format', lambda x: '%.3f' % x)\n",
    "tvl_usd_df.hvplot(figsize=(20,10), title = 'Total Value Locked USD',yformatter='%.0f')\n",
    "                  #yformatter=BasicTickFormatter(use_scientific=False))\n",
    "#useOffset=False, style='plain'\n",
    "#plot \n",
    "# fig, ax = plt.subplots()\n",
    "# ax.semilogy(tvl_usd_df.index, tvl_usd_df['tvlUSD'], 'o-')\n",
    "# ax.set_xlabel(\"date\")\n",
    "# ax.set_ylabel(\"USD TVL\")\n",
    "# ax.set_title(\"Total Value Locked USD\")\n",
    "# ax.yaxis.set_major_formatter(mticker.ScalarFormatter())\n",
    "# ax.yaxis.get_major_formatter().set_scientific(False)\n",
    "# ax.yaxis.get_major_formatter().set_useOffset(False)\n",
    "# plt.rcParams[\"figure.figsize\"] = (20,10)\n",
    "# fig.tight_layout()\n",
    "# #plt.show()"
   ]
  },
  {
   "cell_type": "markdown",
   "metadata": {
    "tags": []
   },
   "source": [
    "#### Generate basic HV plots"
   ]
  },
  {
   "cell_type": "markdown",
   "metadata": {},
   "source": [
    "#### i have attached the plot images on Gitlab - for each of these"
   ]
  },
  {
   "cell_type": "code",
   "execution_count": null,
   "metadata": {},
   "outputs": [],
   "source": []
  },
  {
   "cell_type": "code",
   "execution_count": 35,
   "metadata": {},
   "outputs": [
    {
     "data": {},
     "metadata": {},
     "output_type": "display_data"
    },
    {
     "data": {
      "application/vnd.holoviews_exec.v0+json": "",
      "text/html": [
       "<div id='1375'>\n",
       "\n",
       "\n",
       "\n",
       "\n",
       "\n",
       "  <div class=\"bk-root\" id=\"f2bdb346-4bf9-4bc4-891f-98cd5462b9c7\" data-root-id=\"1375\"></div>\n",
       "</div>\n",
       "<script type=\"application/javascript\">(function(root) {\n",
       "  function embed_document(root) {\n",
       "    var docs_json = {\"815b74a7-9c40-4505-a2ee-dbe77aebc5e9\":{\"roots\":{\"references\":[{\"attributes\":{\"line_color\":\"#30a2da\",\"line_width\":2,\"x\":{\"field\":\"timestamp\"},\"y\":{\"field\":\"tvlETH\"}},\"id\":\"1413\",\"type\":\"Line\"},{\"attributes\":{},\"id\":\"1399\",\"type\":\"WheelZoomTool\"},{\"attributes\":{\"base\":24,\"mantissas\":[1,2,4,6,8,12],\"max_interval\":43200000.0,\"min_interval\":3600000.0,\"num_minor_ticks\":0},\"id\":\"1433\",\"type\":\"AdaptiveTicker\"},{\"attributes\":{},\"id\":\"1401\",\"type\":\"ResetTool\"},{\"attributes\":{},\"id\":\"1411\",\"type\":\"Selection\"},{\"attributes\":{},\"id\":\"1398\",\"type\":\"PanTool\"},{\"attributes\":{\"months\":[0,4,8]},\"id\":\"1440\",\"type\":\"MonthsTicker\"},{\"attributes\":{},\"id\":\"1442\",\"type\":\"YearsTicker\"},{\"attributes\":{},\"id\":\"1397\",\"type\":\"SaveTool\"},{\"attributes\":{\"months\":[0,6]},\"id\":\"1441\",\"type\":\"MonthsTicker\"},{\"attributes\":{\"source\":{\"id\":\"1410\"}},\"id\":\"1417\",\"type\":\"CDSView\"},{\"attributes\":{\"line_alpha\":0.2,\"line_color\":\"#30a2da\",\"line_width\":2,\"x\":{\"field\":\"timestamp\"},\"y\":{\"field\":\"tvlETH\"}},\"id\":\"1415\",\"type\":\"Line\"},{\"attributes\":{\"margin\":[5,5,5,5],\"name\":\"HSpacer02037\",\"sizing_mode\":\"stretch_width\"},\"id\":\"1463\",\"type\":\"Spacer\"},{\"attributes\":{\"text\":\"Total Value Locked ETH\",\"text_color\":{\"value\":\"black\"},\"text_font_size\":{\"value\":\"12pt\"}},\"id\":\"1381\",\"type\":\"Title\"},{\"attributes\":{\"months\":[0,2,4,6,8,10]},\"id\":\"1439\",\"type\":\"MonthsTicker\"},{\"attributes\":{},\"id\":\"1387\",\"type\":\"LinearScale\"},{\"attributes\":{\"line_alpha\":0.1,\"line_color\":\"#30a2da\",\"line_width\":2,\"x\":{\"field\":\"timestamp\"},\"y\":{\"field\":\"tvlETH\"}},\"id\":\"1414\",\"type\":\"Line\"},{\"attributes\":{\"axis_label\":\"tvlETH\",\"bounds\":\"auto\",\"formatter\":{\"id\":\"1418\"},\"major_label_orientation\":\"horizontal\",\"ticker\":{\"id\":\"1394\"}},\"id\":\"1393\",\"type\":\"LinearAxis\"},{\"attributes\":{\"end\":35149247.843837276,\"reset_end\":35149247.843837276,\"reset_start\":-3195386.167621571,\"start\":-3195386.167621571,\"tags\":[[[\"tvlETH\",\"tvlETH\",null]]]},\"id\":\"1378\",\"type\":\"Range1d\"},{\"attributes\":{\"callback\":null,\"formatters\":{\"@{timestamp}\":\"datetime\"},\"renderers\":[{\"id\":\"1416\"}],\"tags\":[\"hv_created\"],\"tooltips\":[[\"timestamp\",\"@{timestamp}{%F %T}\"],[\"tvlETH\",\"@{tvlETH}\"]]},\"id\":\"1379\",\"type\":\"HoverTool\"},{\"attributes\":{\"below\":[{\"id\":\"1389\"}],\"center\":[{\"id\":\"1392\"},{\"id\":\"1396\"}],\"left\":[{\"id\":\"1393\"}],\"margin\":[5,5,5,5],\"min_border_bottom\":10,\"min_border_left\":10,\"min_border_right\":10,\"min_border_top\":10,\"plot_height\":300,\"plot_width\":700,\"renderers\":[{\"id\":\"1416\"}],\"sizing_mode\":\"fixed\",\"title\":{\"id\":\"1381\"},\"toolbar\":{\"id\":\"1403\"},\"x_range\":{\"id\":\"1377\"},\"x_scale\":{\"id\":\"1385\"},\"y_range\":{\"id\":\"1378\"},\"y_scale\":{\"id\":\"1387\"}},\"id\":\"1380\",\"subtype\":\"Figure\",\"type\":\"Plot\"},{\"attributes\":{\"format\":\"%.0f\"},\"id\":\"1418\",\"type\":\"PrintfTickFormatter\"},{\"attributes\":{},\"id\":\"1394\",\"type\":\"BasicTicker\"},{\"attributes\":{\"days\":[1,15]},\"id\":\"1437\",\"type\":\"DaysTicker\"},{\"attributes\":{\"days\":[1,2,3,4,5,6,7,8,9,10,11,12,13,14,15,16,17,18,19,20,21,22,23,24,25,26,27,28,29,30,31]},\"id\":\"1434\",\"type\":\"DaysTicker\"},{\"attributes\":{\"bottom_units\":\"screen\",\"fill_alpha\":0.5,\"fill_color\":\"lightgrey\",\"left_units\":\"screen\",\"level\":\"overlay\",\"line_alpha\":1.0,\"line_color\":\"black\",\"line_dash\":[4,4],\"line_width\":2,\"right_units\":\"screen\",\"top_units\":\"screen\"},\"id\":\"1402\",\"type\":\"BoxAnnotation\"},{\"attributes\":{\"axis\":{\"id\":\"1393\"},\"dimension\":1,\"grid_line_color\":null,\"ticker\":null},\"id\":\"1396\",\"type\":\"Grid\"},{\"attributes\":{\"days\":[1,8,15,22]},\"id\":\"1436\",\"type\":\"DaysTicker\"},{\"attributes\":{\"end\":1623031200000.0,\"reset_end\":1623031200000.0,\"reset_start\":1501632000000.0,\"start\":1501632000000.0,\"tags\":[[[\"timestamp\",\"timestamp\",null]]]},\"id\":\"1377\",\"type\":\"Range1d\"},{\"attributes\":{\"children\":[{\"id\":\"1376\"},{\"id\":\"1380\"},{\"id\":\"1463\"}],\"margin\":[0,0,0,0],\"name\":\"Row02032\",\"tags\":[\"embedded\"]},\"id\":\"1375\",\"type\":\"Row\"},{\"attributes\":{\"axis\":{\"id\":\"1389\"},\"grid_line_color\":null,\"ticker\":null},\"id\":\"1392\",\"type\":\"Grid\"},{\"attributes\":{\"data_source\":{\"id\":\"1410\"},\"glyph\":{\"id\":\"1413\"},\"hover_glyph\":null,\"muted_glyph\":{\"id\":\"1415\"},\"nonselection_glyph\":{\"id\":\"1414\"},\"selection_glyph\":null,\"view\":{\"id\":\"1417\"}},\"id\":\"1416\",\"type\":\"GlyphRenderer\"},{\"attributes\":{\"months\":[0,1,2,3,4,5,6,7,8,9,10,11]},\"id\":\"1438\",\"type\":\"MonthsTicker\"},{\"attributes\":{\"num_minor_ticks\":5,\"tickers\":[{\"id\":\"1431\"},{\"id\":\"1432\"},{\"id\":\"1433\"},{\"id\":\"1434\"},{\"id\":\"1435\"},{\"id\":\"1436\"},{\"id\":\"1437\"},{\"id\":\"1438\"},{\"id\":\"1439\"},{\"id\":\"1440\"},{\"id\":\"1441\"},{\"id\":\"1442\"}]},\"id\":\"1390\",\"type\":\"DatetimeTicker\"},{\"attributes\":{\"days\":[1,4,7,10,13,16,19,22,25,28]},\"id\":\"1435\",\"type\":\"DaysTicker\"},{\"attributes\":{\"active_drag\":\"auto\",\"active_inspect\":\"auto\",\"active_multi\":null,\"active_scroll\":\"auto\",\"active_tap\":\"auto\",\"tools\":[{\"id\":\"1379\"},{\"id\":\"1397\"},{\"id\":\"1398\"},{\"id\":\"1399\"},{\"id\":\"1400\"},{\"id\":\"1401\"}]},\"id\":\"1403\",\"type\":\"Toolbar\"},{\"attributes\":{\"overlay\":{\"id\":\"1402\"}},\"id\":\"1400\",\"type\":\"BoxZoomTool\"},{\"attributes\":{},\"id\":\"1385\",\"type\":\"LinearScale\"},{\"attributes\":{},\"id\":\"1419\",\"type\":\"DatetimeTickFormatter\"},{\"attributes\":{},\"id\":\"1430\",\"type\":\"UnionRenderers\"},{\"attributes\":{\"base\":60,\"mantissas\":[1,2,5,10,15,20,30],\"max_interval\":1800000.0,\"min_interval\":1000.0,\"num_minor_ticks\":0},\"id\":\"1432\",\"type\":\"AdaptiveTicker\"},{\"attributes\":{\"margin\":[5,5,5,5],\"name\":\"HSpacer02036\",\"sizing_mode\":\"stretch_width\"},\"id\":\"1376\",\"type\":\"Spacer\"},{\"attributes\":{\"axis_label\":\"timestamp\",\"bounds\":\"auto\",\"formatter\":{\"id\":\"1419\"},\"major_label_orientation\":\"horizontal\",\"ticker\":{\"id\":\"1390\"}},\"id\":\"1389\",\"type\":\"DatetimeAxis\"},{\"attributes\":{\"data\":{\"timestamp\":{\"__ndarray__\":\"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\",\"dtype\":\"float64\",\"order\":\"little\",\"shape\":[1407]},\"tvlETH\":{\"__ndarray__\":\"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\",\"dtype\":\"float64\",\"order\":\"little\",\"shape\":[1407]}},\"selected\":{\"id\":\"1411\"},\"selection_policy\":{\"id\":\"1430\"}},\"id\":\"1410\",\"type\":\"ColumnDataSource\"},{\"attributes\":{\"mantissas\":[1,2,5],\"max_interval\":500.0,\"num_minor_ticks\":0},\"id\":\"1431\",\"type\":\"AdaptiveTicker\"}],\"root_ids\":[\"1375\"]},\"title\":\"Bokeh Application\",\"version\":\"2.2.3\"}};\n",
       "    var render_items = [{\"docid\":\"815b74a7-9c40-4505-a2ee-dbe77aebc5e9\",\"root_ids\":[\"1375\"],\"roots\":{\"1375\":\"f2bdb346-4bf9-4bc4-891f-98cd5462b9c7\"}}];\n",
       "    root.Bokeh.embed.embed_items_notebook(docs_json, render_items);\n",
       "  }\n",
       "  if (root.Bokeh !== undefined && root.Bokeh.Panel !== undefined) {\n",
       "    embed_document(root);\n",
       "  } else {\n",
       "    var attempts = 0;\n",
       "    var timer = setInterval(function(root) {\n",
       "      if (root.Bokeh !== undefined && root.Bokeh.Panel !== undefined) {\n",
       "        clearInterval(timer);\n",
       "        embed_document(root);\n",
       "      } else if (document.readyState == \"complete\") {\n",
       "        attempts++;\n",
       "        if (attempts > 100) {\n",
       "          clearInterval(timer);\n",
       "          console.log(\"Bokeh: ERROR: Unable to run BokehJS code because BokehJS library is missing\");\n",
       "        }\n",
       "      }\n",
       "    }, 10, root)\n",
       "  }\n",
       "})(window);</script>"
      ],
      "text/plain": [
       ":Curve   [timestamp]   (tvlETH)"
      ]
     },
     "execution_count": 35,
     "metadata": {
      "application/vnd.holoviews_exec.v0+json": {
       "id": "1375"
      }
     },
     "output_type": "execute_result"
    }
   ],
   "source": [
    "tvl_eth_df.hvplot(figsize=(20,10), title = 'Total Value Locked ETH',yformatter='%.0f')"
   ]
  },
  {
   "cell_type": "code",
   "execution_count": 38,
   "metadata": {},
   "outputs": [
    {
     "data": {},
     "metadata": {},
     "output_type": "display_data"
    },
    {
     "data": {
      "application/vnd.holoviews_exec.v0+json": "",
      "text/html": [
       "<div id='1745'>\n",
       "\n",
       "\n",
       "\n",
       "\n",
       "\n",
       "  <div class=\"bk-root\" id=\"1da7e657-7350-4295-951c-97812d252cb2\" data-root-id=\"1745\"></div>\n",
       "</div>\n",
       "<script type=\"application/javascript\">(function(root) {\n",
       "  function embed_document(root) {\n",
       "    var docs_json = {\"300e092f-82f1-4a4f-b5e6-59b260cb2ccf\":{\"roots\":{\"references\":[{\"attributes\":{\"source\":{\"id\":\"1780\"}},\"id\":\"1787\",\"type\":\"CDSView\"},{\"attributes\":{\"months\":[0,6]},\"id\":\"1811\",\"type\":\"MonthsTicker\"},{\"attributes\":{\"margin\":[5,5,5,5],\"name\":\"HSpacer02390\",\"sizing_mode\":\"stretch_width\"},\"id\":\"1746\",\"type\":\"Spacer\"},{\"attributes\":{\"text\":\"Total Value Locked DAI\",\"text_color\":{\"value\":\"black\"},\"text_font_size\":{\"value\":\"12pt\"}},\"id\":\"1751\",\"type\":\"Title\"},{\"attributes\":{\"months\":[0,4,8]},\"id\":\"1810\",\"type\":\"MonthsTicker\"},{\"attributes\":{\"below\":[{\"id\":\"1759\"}],\"center\":[{\"id\":\"1762\"},{\"id\":\"1766\"}],\"left\":[{\"id\":\"1763\"}],\"margin\":[5,5,5,5],\"min_border_bottom\":10,\"min_border_left\":10,\"min_border_right\":10,\"min_border_top\":10,\"plot_height\":300,\"plot_width\":700,\"renderers\":[{\"id\":\"1786\"}],\"sizing_mode\":\"fixed\",\"title\":{\"id\":\"1751\"},\"toolbar\":{\"id\":\"1773\"},\"x_range\":{\"id\":\"1747\"},\"x_scale\":{\"id\":\"1755\"},\"y_range\":{\"id\":\"1748\"},\"y_scale\":{\"id\":\"1757\"}},\"id\":\"1750\",\"subtype\":\"Figure\",\"type\":\"Plot\"},{\"attributes\":{\"format\":\"%.0f\"},\"id\":\"1788\",\"type\":\"PrintfTickFormatter\"},{\"attributes\":{\"line_color\":\"#30a2da\",\"line_width\":2,\"x\":{\"field\":\"timestamp\"},\"y\":{\"field\":\"DAI\"}},\"id\":\"1783\",\"type\":\"Line\"},{\"attributes\":{\"line_alpha\":0.2,\"line_color\":\"#30a2da\",\"line_width\":2,\"x\":{\"field\":\"timestamp\"},\"y\":{\"field\":\"DAI\"}},\"id\":\"1785\",\"type\":\"Line\"},{\"attributes\":{},\"id\":\"1812\",\"type\":\"YearsTicker\"},{\"attributes\":{\"data_source\":{\"id\":\"1780\"},\"glyph\":{\"id\":\"1783\"},\"hover_glyph\":null,\"muted_glyph\":{\"id\":\"1785\"},\"nonselection_glyph\":{\"id\":\"1784\"},\"selection_glyph\":null,\"view\":{\"id\":\"1787\"}},\"id\":\"1786\",\"type\":\"GlyphRenderer\"},{\"attributes\":{},\"id\":\"1767\",\"type\":\"SaveTool\"},{\"attributes\":{\"bottom_units\":\"screen\",\"fill_alpha\":0.5,\"fill_color\":\"lightgrey\",\"left_units\":\"screen\",\"level\":\"overlay\",\"line_alpha\":1.0,\"line_color\":\"black\",\"line_dash\":[4,4],\"line_width\":2,\"right_units\":\"screen\",\"top_units\":\"screen\"},\"id\":\"1772\",\"type\":\"BoxAnnotation\"},{\"attributes\":{},\"id\":\"1768\",\"type\":\"PanTool\"},{\"attributes\":{\"base\":60,\"mantissas\":[1,2,5,10,15,20,30],\"max_interval\":1800000.0,\"min_interval\":1000.0,\"num_minor_ticks\":0},\"id\":\"1802\",\"type\":\"AdaptiveTicker\"},{\"attributes\":{\"margin\":[5,5,5,5],\"name\":\"HSpacer02391\",\"sizing_mode\":\"stretch_width\"},\"id\":\"1833\",\"type\":\"Spacer\"},{\"attributes\":{},\"id\":\"1771\",\"type\":\"ResetTool\"},{\"attributes\":{\"data\":{\"DAI\":{\"__ndarray__\":\"AAAAAAAAAAAAAAAAAAAAAAAAAAAAAAAAAAAAAAAAAAAAAAAAAAAAAAAAAAAAAAAAAAAAAAAAAAAAAAAAAAAAAAAAAAAAAAAAAAAAAAAAAAAAAAAAAAAAAAAAAAAAAAAAAAAAAAAAAAAAAAAAAAAAAAAAAAAAAAAAAAAAAAAAAAAAAAAAAAAAAAAAAAAAAAAAAAAAAAAAAAAAAAAAAAAAAAAAAAAAAAAAAAAAAAAAAAAAAAAAAAAAAAAAAAAAAAAAAAAAAAAAAAAAAAAAAAAAAAAAAAAAAAAAAAAAAAAAAAAAAAAAAAAAAAAAAAAAAAAAAAAAAAAAAAAAAAAAAAAAAAAAAAAAAAAAAAAAAAAAAAAAAAAAAAAAAAAAAAAAAAAAAAAAAAAAAAAAAAAAAAAAAAAAAAAAAAAAAAAAAAAAAAAAAAAAAAAAAAAAAAAAAAAAAAAAAAAAAAAAAAAAAAAAAAAAAAAAAAAAAAAAAAAAAAAAAAAAAAAAAAAAAAAAAAAAAAAAAAAAAAAAAAAAAAAAAAAAAAAAAAAAAAAAAAAAAAAAAAAAAAAAAAAAAAAAAAAAAAAAAAAAAAAAAAAAAAAAAAAAAAAAAAAAAAAAAAAAAAAAAAAAAAAAAAAAAAAAAAAAAAAAAAAAAAAAAAAAAAAAAAAAAAAAAAAAAAAAAAAAAAAAAAAAAAAAAAAAAAAAAAAAAAAAAAAAAAAAAAAAAAAAAAAAAAAAAAAAAAAAAAAAAAAAAAAAAAAAAAAAAAAAAAAAAAAAAAAAAAAAAAAAAAAAAAAAAAAAAAAAAAAAAAAAAAAAAAAAAAAAAAAAAAAAAAAAAAAAAAAAAAAAAAAAAAAAAAAAAAAAAAAAAAAAAAAAAAAAAAAAAAAAAAAAAAAAAAAAAAAAAAAAAAAAAAAAAAAAAAAAAAAAAAAAAAAAAAAAAAAAAAAAAAAAAAAAAAAAAAAAAAAAAAAAAAAAAAAAAAAAAAAAAAAAAAAAAAAAAAAAAAAAAAAAAAAAAAAAAAAAAAAAAAAAAAAAAAAAAAAAAAAAAAAAAAAAAAAAAAAAAAAAAAAAAAAAAAAAAAAAAAAAAAAAAAAAAAAAAAAAAAAAAAAAAAAAAAAAAAAAAAAAAAAAAAAAAAAAAAAAAAAAAAAAAAAAAAAAAAAAAAAAAAAAAAAAAAAAAAAAAAAAAAAAAAAAAAAAAAAAAAAAAAAAAAAAAAAAAAAAAAAAAAAAAAAAAAAAAAAAAAAAAAAAAAAAAAAAAAAAAAAAAAAAAAAAAAAAAAAAAAAAAAAAAAAAAAAAAAAAAAAAAAAAAAAAAAAAAAAAAAAAAAAAAAAAAAAAAAAAAAAAAAAAAAAAAAAAAAAAAAAAAAAAAAAAAAAAAAAAAAAAAAAAAAAAAAAAAAAAAAAAAAAAAAAAAAAAAAAAAAAAAAAAAAAAAAAAAAAAAAAAAAAAAAAAAAAAAAAAAAAAAAAAAAAAws4ni68I8D/v77oeTx7wPzMTKoaUFPA/3rgMiUk98D/q7tk6gTfwP4srOpOnRfA/CZnW8PU48D8Yx5Xykj7wPx5TWcadZfA/MXC7Nq1G8D9FuJqUQVvwP+m0IKtKPPA/kANpnbUm8D/cno+XVjzwPzN1r8DEYfA/DvEf9Ot08D+sPhxC41bwP8ar69HNbvA/PghyKdZ88D8+xseseIXwP0bvzPMEq/A/9xD+1cSi8D9qYBfFs3/wP3FsH+3dcfA/m3ikTReO8D875fh5eHDwP1dDWAjINvA/RrCOdNeUEkHN35DJCcUSQb9VH+9n9hJBPTje9ND4EkGt+5UH6u0TQZzytUHcAxVBA5VxQwhlFEFXYR7+KBcTQZclpdzILRNBFfWRLKN5EkHvcoS/VI8RQVweRCW35hFBioDYq/SZEEELsROamI4NQcNhylhtfA9BjBwBq9UjD0H6qoJ2KhQQQT5pDawkrhBBXASpAFx4EEHUnJIk0jcQQdZ7j6+3mxFBlMunnYReEUF7Gb0esB0SQaLA68K1NRJBzJN6yLpPEkENP7t9kKMSQSuEEJaqRBJBbwwsl8FoEkE6Y5TRF7cRQXYHzjGVQhFBBWTr6ZObEEHig2x3oPIQQZhIS/3atRBBTktieFfPEEFLkhOs7BERQdHjDwX7GxFBkbRG4KTCEEHaHHWiKh0RQcLetT1w/xBBdBcmKmr2EEGE4vocBuwQQeMIiRHP0hBBxHmq9JdpEEHQ08vqFFIPQaztQZP5aQ1BHew5EYe9DUFNGvOZih0NQUskKaAS1g1BGIVf/48ZDUFqbtLFiM4MQTo0Nq+LEAtByEJHTE1zCkHBb/VH22gKQUyqcg+GKQlBZcB8pKXKCEFv07tWSVEJQVjoHXYHqQlBigEz9V/ZCUEA07mx7zUJQVC1d7F0gAlB4aogCItPCUFdnILui04JQftAHAbHIAhBLXd8NclMB0F2Y/tZKVgHQSwDMg+k5wVB2b+BHanhBUGTyd+kBg0GQeYzdpzvfwVBs/2NY7HMBUG2aLlj32wGQQxSllZJywVBziMU0aARBkGed5U353sFQep00m418gVBWJJpu8BrBkFUUAIE6EIGQeFDRcCd4QZBQc0wYMDKB0Goi8M8EFwJQSijZSCvbwlBKsRwcunDCUGs4LI2vTwKQbukGk64DwpBpzyxFqLhCUEPySr/SZIKQV/AymqgygtBpmv2qukUDUFbls88rd4MQXu6QgpRMw1Bclg7bx9bDkEO6fGt3yQQQW5aCeoUpg5BfbIdbWPRD0E51LRJd58PQVc3V7WzRxBB92xy/XcpEEE4v6dgd7UPQZNOXow3zw9BkVYxRTMlEEGzoPh9gfoQQentBSGa4hBBjH0lbgZXEUGiWsfkhAoRQfwed/YwshBB3U3rga6wEEEeDx2XEd4QQTn4vPDpnhBB8tk0+1TFD0Gc/DnjELYPQe0AHZ0qfRBB+F2oZyKAEEF7/mADdRwQQeaozo45FhBB9kXSV1ykD0Fcnus/kx4QQS4jCUs9KhBBFnd6q4KDEEF3dBx2LCsQQZBbrxhfBQ9BaO8mMWFiDUE/XpQAjhUOQa3BTp6MYw1ByR+X651fDUFlKt1YiCQNQa6pchutBQxBtudeb9qgDUEq6yRzUoYNQXfPfRjzOA5BTT/5WRktDkFvoO/pn90OQaTFGzewQg9BGyvd7iqdDkHyvi+/RuUOQTCo/UDX8A5BIXzwwCCcDkHohfSPQKsOQf1l4r3Uew5B5fsG2wpqDEGST0BN1q0MQUcyTCx2gQtBs13LtojwCkHDIvYPAEcMQdFkbrhAYwtBoNZWWX+ZC0E/tDuyZYALQdr+H66MLgxBrwZNF+iADEFcPjK3IqsMQYfDZg8OAgxBaB/izGttCkElEx/FMs4KQa3TAWlCPgpB1soYXi6LCkG13btj3bAJQUCH2iywyQlBF6E4l4o4CUG24EFAfaoJQWQSdI2oEwpBz6bjz1E4CkHjEO9/xsQKQTxHbOxamQpBXtc1dlPMCkEoE13bZJwKQVBaV8JWywpBsm+1MLnwCkGgc4IegjQLQZDAwlvM4ApBkMDCW8zgCkHzNnmoGt8KQUEogZgVkgpBHfqtNn7FCkGmf24Su+EKQYvgYDNXQQtBi1eqdMJlDEF/+zwecgoNQTYlHv6BRgxBLPoZOzmoDEFbMxuBBdMLQWNPgXHLuwxB+zywTDqfDEHRJo7COUEMQRnsWgMTJA1BkkiLrcEtDUFNKQg6OacMQSR3LiTC9wxBOUewYp4tDUGPB03/ThkNQae+v7ky6wxBRkBcr9cZDEGlTfvqJpALQUeIcCRXRQtB2cRnayFYC0Excxvbig4LQSnzY5rQVwtBrJw+qFcUC0EH45BwdoEKQZJ6c/KkcwlBWd81p2sZCkHakM/459QIQbDf58XV0AdBWZ4gBWT7B0Hp9r+0grYGQfd6/iQvdwZBy/IIh/W1BkFzAHZM/PkGQaPnwl+dUwhBvhexpLSlB0Eo1ZSF394HQZopSdYr1wZBoEO8OLt+B0HFxGp68RYHQULTY4yYWAdBVZQsbLudB0HutTO9HI4HQU7quRpEVgdBr9mGgtXYB0E+l6rU9m8IQaOBhi7QKQhBGQ5alErtB0EFFqApq/IHQRKQV4W+YwhBTi4oUQ9yCEEyKffBrE0IQfuWt8bpFQhBaU/mF42tBUFnmLLXHsUFQQy7/dwhOQVBTO9oi/BcBEHmXAgL4zUEQb5nrZmSiQRBB5OHrgdNBEEMlv4Qti8EQeLgcu866gVBYbTp24q+BUGGMrAYIjwGQWsfOa1KLgZBZTcJ95QHBUEkNsU5ha4FQdRF6+pqsgVBPrptjOJ0BkG0dgj8+WQHQffe6PJ18QZBkludFrE5B0FqRcpCkY4GQflr4h8QKQZBCo1RFRQ+BkE2zWa6T8YGQRI1s3yJgAZBDc+tNXn0BkGhNIKfhwUHQY0JDQ661AZBvNaJwzfJBkFxY0kbKWwGQYRmdq2aowZBjcDqEha9BkHGfMr5YaUGQdcNcSTFmgZBFgregV/rBkEQ8yf1bcwGQeFyx2rVuQZBfG6/1YDqBEFIDU1cOmwFQbATsWbP6AVB2hIOV4QfB0H+2AlFTpwHQXhnmy8pVwdB/7Q2J0aFB0H+JupgWnQHQaXWzn+XXwdBkXRWzemlB0EQ3Q5LCegIQbLY+v8GxQhBqaLo+DDlCEE9+bHa9JYKQewUtlaCpwpBVJXC+MCVCkERXDoPGbYKQXQXMIKQ9QpBCnFD+VcnDEF2+kb8KUQMQR4WmxfRlAxBJkYugeyREUFeI3CmZa4RQW3sl3OJpxFBpnMZ4GvMEUEricrFNsURQZKqKCT+mRFBjOHfXyazEUF6QSkdSesQQYliK8PjrQpBvh+4vz7mCkEtSJVei0AMQXLgM8Y2SAxBCPzERDQwC0G2AVLxjAMNQYWJbTx6tgxBkl8O79EXDEGRBQqvO3EPQQgVqM9vmg9BiLsYKGR7DUFjZvk1+9YRQWVjY95MShJBjsZJLbzCEUF0x38tnowRQYOdpueilA1BAO98B/rPCkH5lL/W21UKQbezFwSaBQtBbgVHqIgGD0FC8QEY0RgQQcn6uOSccRNB6kH9D/TEE0HLyPgdtMQTQaU6Vg6mDRRBFBfHHDrNFEFHBXXO3loVQcoYR/eZpxRBpuFr+mmGEUFQXRvxd+4TQbMzKy1TPxRBYBVI42CYEEFm4ZMcSnsQQSSJhTx0iBJBR8fZhAvqEkFPJIHgi+4SQVkbe94MtBZBp4PX4w6wFkFNWeVhK3kVQc8Qh6s7zBFBaj5ZghNcEEFGu7NURDESQYwX7THDhRFBemT829zcEUF6B0rqIPwRQRr4kz4NUxJBlnbaiR5gCkF2hlmfUKkKQXlJUlTSpAtBWxrBmQAWDUGZXLuSvVAPQZYIIlXwmQ9B1VmzboVXEEH3lMmsbK8SQdB/8rMSWxFBQinVBtflE0HE2tAR7GATQbEcRkEGjhNBAqz7AI/nE0E09jsLMboVQa2kKV07wBVBainINbrRFEGGQKfmkWIWQTIRv+mBFxRBVvpFmphLFkF4M5jKJ2sVQZ0tjWKIaxVBLjTLzE4IF0FgiB2wgmcWQTxXFq0uaxhBwWL+3NuOGEEQX6kueh8aQWxU/Z2ZVxdBSbr3YVCtF0FhSaA5QFoXQeDKyHUjrxdBKFjiOMhkFUE7ogECpEQVQbyqbPmuWhdB1ml06fa+F0FwAwjgNeMWQQAJlFv9WxZB60M/b4vkFkH9Bgke4xMWQQnQQJVG3RVBhEIYRwNUFkGqzcQmfBMXQQTvo49YWxhBqDrPSZKoGEE1o1eucQkZQV+4WoHS1xhBcmXb5lOMGUHp3d83v6gXQf4alrazrhhBtoygXY1CHUFkxRp9E34gQYcUoPPHuyBBQBnjHVYZIEGmDDimpeUgQdbN/3XJcCJB/q700JOHJEE4n5frsyInQbKgiMzLNChBI7sKosTgJkFZjecUvhsrQUSH/rwBFytBMBXCY0QVLEEaN04homEsQcbayEAFtCxBMY/grbjuLEFaTdvfEN8vQXbHpH1P1S5B1I4r9J6bMEGsi9xYGXExQVxlFCzm0zFBuZP3qNh5MUGU6ys7oVUwQXs5m4sWIjFBmDK4xn36MEEQEvg7GlcxQb4O2Z/8dTFB/5nPXZqCMUFojGiL1JYxQahGZJJyxzJBei330FNIM0EVBNNCQ+4zQWwM0X+hJTRBcJ3vRiqdNEHfo3X8FpY0QYPG1yjQrTRB3SfNAMk6N0F2jr5jaiIzQV2ztSIkBzNBUq38QQ84M0FMP9x+5bIzQXAqSh0DuDNB2hHLBH9GNEE7i/avlWE0QV4pbMdzgDRB6ls8H9h9NEGGxGHbJN01QbuYap8jOjVBL2RhrqQ7NUFGt6hYfqY1QfjrepRVsjVB5mMOde4oNkH3WySR0gw2QbwsswXAfjdB6V6hshPtN0Ey5layZOY3QUqBPTpSfThB8V9uENBEN0E+emP0SQ05QSqb8C2VYDdBfdCz/A0IOEH6rOovxDo4QT6OTYTgjDlBy2nqg+UyOkEcShmxjEE6QbqOj488+jhBLwd6kYMBQkF4X8ZhmbtBQRq9PBv+1kFBDTZUlJFWQUFszxZNVr5BQf+58Qz5ckFB+3naFsZEQUECbi+3z19AQbBz/Do+dUBBKZu6xh7GOUEmR8jgLzQ6QVfeIMGKU0FBX90MVj5dQUFwdb6lMldBQYQYMsPSh0FBw/aQWq6DQEHu7zAo3eU+QcoWGTfmBT9BfIA6aw52QEE48++6SyxAQWPhYiElC0BBpw31utfeQEG9khcfA3NBQUCuAfvYYkBB0/sa6yF3QUELOjxSPSBCQS9vfHdUCENBbBETSAd7Q0H0XX7fMIZDQeRthwptvkNBacjkJr7FQ0ELbgDjL7pDQbw4PqiJXDxBMrI3OwW2QEEQ3aOk1+A/QbjjN5mc3UBBCCU1GWDeQEH0og7Tj0M8Qe5NFYCb+T5B3B9hP6nVPkG2PE20zs0+QdINq8BcuDlBEvsRXZXqPUEmBMh0ys46QdpfcbMLcEJBneUAOj+cQEFiZuFxvdFBQWpmx7y2BkFBm1nX337tQEEoaveMKLtBQZDyR4d9uEFB76qmieK9QUF7G74h6PNCQYqlEj92blJBCkraYjfeREFNApNKy/FEQRS8Bnpy+ktB0tMoYvnMTUErmEtyNP5OQW464UhEtUxBpKnVpW9oTUEX9aAwg3FOQcEA6RHonktBmNbcADnITUHsUsAUH+JKQQon03yA1EFBYAR0OxjZR0GIrWBqW61EQdz7awVz/0xBwQIXFn06SUFwayZDH59FQZXn46y/SUhBtt6szp1ZSEFmYPvcfhZHQRxnKp45/0hBlGX1lwf7RUFsj/xUdRlDQSvzTCbt8ERBOoR9rOmIREGsEpROzepIQUmzq53cak1B0bRNNoibTUF8Mgp2Yo5MQXKyT8oMLU1Biqdk5ysCSkF8E8wS4F1LQXNK74vkLkdBGtIzcSceSEHWdEwaZPhNQexlE0RNPFBByLfOmwsSUEFO+AimaZ9LQZYcSWmpPE1B6M+p+DI4S0GK2cHEfVtKQXohOJWdAk5BWDFIXTmpUEEC0/rPvCZRQch/2tWrJExBrs1+XVrXS0FOxDBIUwdJQTkQKb7eiEZBkL1hjNaPR0GighZzAdVHQTCKbVKpy0ZBVvNLSvcbSUGu3mTuaA5IQaB3mW+xVkdB5HO05l60RUEPNaCuMhJGQd4mx1B0rEZBqi+7VzPYRkHvN9wBgANIQSQIUtEJokhBeiyKC1qzSEELdBVbxV5JQUDy6HXjSUhBcn9SZmxJSEFcH7h8sEpIQezWI07FTEhBmgD5AOBjR0G+z6dulwpHQaSIEW78ZEhBfkRudBPmSEHI2/w/clVIQXltf2Y0cUpBfK7YC82KSkE4nLFJ7BBKQel4DHYai0RBYji4PgihS0Ge9sTRN/RMQSqF65k9SEpB4nPcxfuMTkGwdun3YAZPQc7/68Sdzk9B1FUzl5ZdTkFWDtMSnTJQQUe/MWA+zk9B+kvQpEGzT0HOPEdu4rRLQUHbSV8ET0xBDZ+4SEdfUEHSXbB0W81KQcaSNX0TXFBBRF/P/Q1zTkF8DjKTngJPQaFChFodK1BBQy79cDpfUkEeMegtEBhSQYkznt5ve1JBpnzJf88PUkGfMIz+hRlTQQT7kYuUyVFBxL4qJU7VUkH6SHn9cvZSQX4DO2eAPFNB7rgEOpFXU0F8A0OmhxxTQRSEtwoS+FJBrEk1YhrCUkEGA5vkRvNVQWqegvdPIlVBrlvsz9dMVkHm0/5zUZtWQdCjjP/67VdB4zoVjWwAV0FsYKYUQ/dWQWX9zFoT0FZBjZB87u4iVEGsyvDMWL1UQSfmigOlrlVBCO+PA+dmWUHGk9OHq5JUQYDMUrwQV1RB7e/RBoIRVEH9AbFEcVpUQWrbblBmEFNBfhUFsqbQU0Hr2uBDB0BUQeQF9/LPMFRBiDWebGpGU0EuNslf5+lTQYyQroxsRlVBiatPNoS/VEH0Fgekw2lXQYN6BHBP81dBHv2qArC7VUGM0xJsJ3lWQZ1rILD5fFZBdkK6c0pyVkFIHKJWoC1WQarda0qVTlZBVp1CDusUV0FGIooVg/lVQY1jhR5EOVZBekkAKpe2VkE1lGIz1i5XQf7WW3/9lVdBqTU2tnryWEFBBpBnLltXQRlcHJzDbldBAucyanTUVkFMitmDHHdWQZr9luh4qFZBC9jTJZaXWkF791QxdlRaQZtee1HmlFdBBSgjvR8/WEHYiFidPPVYQQSnPiM3LFhBqM0y/Ey2WkFWOQrZXN1cQezf8tNQul5BOc9jWhYXX0F6DXGKEstbQQLljTKAqF5BPq3yDDYwXUHRqeg4pxReQb0cWyxWFF5Blh5wHKtIW0EdmTuE5xdZQdn3zUu61ldBULWEgLvOVUER7MPIJsFVQUSy5FQrNVdBIG9q+/1lXEGYGpZ6kchdQR27Sc9eLF1Bma8ZNuWDY0GYdjlZUFhoQVAbG0tuD2lBtQ2PdwpBZkEXhmy1e2JlQdwekDjrlWdBeriJRoMAaUErCv1c4iZlQdYvMjf1E3FBIOu/8QvucEFzVA9ITjlwQQpAhgCmk21Bs1LE3U+1b0HCGC9mTbNxQfwlTkLmg3RBWuF6EitXdEFpKAJRB4x1QbfaB2jq03ZBYJOvKLTLd0FH2qwozfF7QTJ7FZJK5ntB8BfPxIlDfEEgswZSfq98QXNRUHGLI31BUHH52qdffkG0fRFjaMt9QQiqIiL4FIBB3/jECF21gEF6cBIXlS2EQSD7/nd+DYRB3ZYfAOduhEGLwD2KT0aFQRFQhGCbj4VBuzNQ/6nWhUGWbQCQpAGGQf/clqHPE4dBZHbUYZcDh0HmU8njJZKHQTsDMygg+YZBq180nO3Mh0GuQRRXCDyIQZF561kvrohB306rpUf5iEHgH8DhdXWJQXD/1cGmxIlBtdT6i3zYiUERJZ5OkjeLQSVxSaQBqYpBM7Jq72RHikENcLJA5xaLQfjIyp4ccohBYJ/pjH5jiUHcimSa40iKQcyuJG0QOItB1PNXBbxVi0HKqocDHiaMQYaemxgHyY5BZZ5rUNfpjUHUFNemh8GOQQquC0ZLsotBOBOe+imyjEG9G2SxadCMQS692ynFwoxBRPDuLrS/jUGtdZcWhHWOQRIa39spR49BKMYobJNikEHCKlkHcyGRQSZZji60tZFBqc2+FsQtkkFX4wFqTCOSQailK6xP2JFB6Hgp4If4kUHI78YF4OmRQRHMsRbEEpNBeAlj8yDUkkFfaR6gAYmTQUOLg8lIMZRBq32FyW9zlEH+Zw+JQNKTQWnyK6QcupNBv2LtkloJlEE1kd2IDryUQT+szMxNXJVByH4h/rrGlUECh2eVh6iVQSsZJIBWfpZBhrn+Hh9xlkH1g7EV0FaUQaCdCYg/gJRBDfniCFhOlEE5hD1okfSTQYX8gshbW5RBYjrvzBCZlEHyFyayMeyUQSEfZzXHHZZBdnrCetfSmkEeNLUATPKZQWl7kL2TVpRBoWZ1fuGfk0ElkhgD0JKTQYdq/Z8egJNB5aFJGn/ukkGtXu/mcOaTQV8xx+JFwJNBlVNh33xDlEHFuLb/ByWUQQbyj+8aQZRBX5g8t/OWk0E1fklZKuiTQT3+VtxgBpNBap2rs89yjkGi8L1qg5uIQSrrQeC6U4hBlbfJRQwnh0Hwe82+FnmEQXSxZuVUoYZBNmoB3Eh4hkGo2b/0NMiFQRuV34D96oVBswPDuxVnhkHtHPZPQdKGQUwWfg80n4dBOGLCjhQ5iEH1EnRWBCKFQWPbPSvwmohB510x4MiBiEHnBHHsxd2HQTkxUn3L3oRBqUV4MSw0ckHgfuNxhkaEQZwR4DCyioNBvWtGly9jg0GcX/3tJ2yDQWtez+o6y4NBAAv3A7zRg0HByrymCJeCQfu1GXfTHX9BktdRsHjDfUFZS1G0M1d9QU2qhJEWB3xBnv8ya6FXekHv9g05izB7QaR648M4r3tBFEgIXZAWe0GUrefpCSt7QYX2M4XzJntBN1RneXBpe0Gy5TSvItx5Qbz3H1cHEnlB4SydO9uvdEFK1E/PPlR1QTBR+LFk53VBUmrqSvJhfkEC6kOe2p5+QWFBDZqgqX1BS821z6kRfUHMEXuzaA98QZZvhmfhCXxBOCX4d6XCfEGaBZ7PQd17QWGIf6EKOnpBjJvaOF67gUEeNYiazfOBQYaPObBB/4BBhsUP9fU1gUHlToBpwAKBQXu7t6cK1oBByDA72/cYgUGkiB6HfeSAQcX5/hXPN4FB6MFs1MJugUHnw6pwWMaAQa6uA3z0wIBB2swIXQ9EgEEePIhd2DyAQX6iSrG6KYBB5nKVj8WrgEGccmI5KBCBQeEdUx40kYFBQoFy4i+YgUEs9IX+YTqBQd6cKTJfJoJBx/oBwt4FgUFSUUkudWWAQT3NsQLLS4VBQsJ0FA6phUEJtO8HRi2GQSKYdH1dAYZB2eKOoWX3hUFVF1ojI+eBQcAEQ9o7TIFBTL0BW2IEgkFL1qKi3xuAQYjVPa8zdoVBAgJptCCGhEGE3gNpmjGFQZSUbMCJzIRBYEH074wHh0H2UMNx4reCQcfG9+OKO4NBNDbPvq8Eg0EQf7LuEbqDQScDkCI2OoRB/sBprr3mgUH9wEKxUyOBQTek1aFdi4FBGSL/E68ahEE0D+x4mm+FQblqqta0DYZB9JFjTTnRhUES2EZp7xKGQaCqzzQsUYFBmB5ei/fYf0Ep92dDBYeMQRr8XjpjepNB105G7OwglkG3s8x1ys+WQQTed8NTkZdB3gmvL27nmEHnIrQBazKaQQKrLtsdKppBd8Nfj4UPnkGQcCql7PieQT4ZfZ+6CaFBrTeNkoZjokG18nDA5kSjQb79/Cfyt6NB17F3Y497pEGoHE90/OulQTkFhCiON6VBaCEk2GrNokF1lotZ6WehQQx5RSLtz59B4HC74SiIn0FR1iiBB4KgQfANbslkd6JBd84aL69op0EjlAfwua2uQZXRCY7mF7BBn3jt2CyasUHnC3ZKp4KxQc23SYRrsLBB95+tFgjBskGmFJhHk8izQcM5JvdGILZBhsuZqDZktkHT5S0Qxse3QcoTvsU78rdBvrrP1Xi1t0HyOKBDTNC5QWUGSTY8JrtB4pQtWaA/vEGgyMuHvmS+QSUZaYtbP75BuRiKjTOGv0GV6r5zcRC/QUBsd9e9brxB6ENcC/U3u0FOm8QnbSm8QQRE5SHLY7xB2RLEgeDfu0H5fadLniy+QWids7PkAr9BxdB1bpAKv0F8/xoSCJ6/QZKHj8wsjMBBhZbjx5qlv0E+mQNu2i3BQUzJYRL6EcJB20AcoJ9EwkEnTycmC1LCQXyfI2XJKsNBN6jjRLdcw0G+w+lSsEbCQavRJJTrI8JB/hPrLlnFv0E1KV2ErD3BQeBGPMDv+r1B0EsAA5V4vUF99NzOKK2/QdHapU0Se79BeMc8RIjEu0FY/WEYRJC7Qdq4e1hLSbpBAN5Q5E7Su0EC+xwo1t2/QTHEZlUOtLtBJj6h8TrLvEEZoQI97dO7QVbuJjbDVLtB6CqbS9ydu0G642x0h5S7QYSCcyzeQLhBv8xHDI5fvkFyjozfeWy/QVN6cG18K8FBLNGdoQ+IxEHmQFiBKiTGQRb9T8hKL8RB7DOyOMgpxEFHD7xu3AbFQYJ1tPMjrsdBWQpCbdEWykGXx1YopLfKQXZk3wlNUctBZlISo5FkzUEzp9fmdyTPQZjD3T+FQc9BjL9Fdzhgz0EhKHcPggLPQYFXgSB0Rs5BVfwEK8v5zUHta1kYuDXNQVXRDlXUTcxBOk1vpmGTy0FE7cHFcOjLQcHgXMWoDcxBt8ohCR/9y0GTyLD1Z4rMQdbnw/4AIMxBQnV7N1eozEHyFtr6aZPNQZsbtTBAoM1BhG1iVJP7zUGdmvIj0UvOQWJjBjvdMs9B0xeZ+EVfz0Evhf/Sx4nPQRjzzQGAus9B0Uc9AQ6tz0FnzkhAU5zPQRya9J7UAc9B1kVA6IRTz0F8GIAYWsnPQXmzeD4kc9BB52f4uqs30UEAyNOjFyjRQSSPh1SUCNFB4Xu7JvJOz0F7Gk1VkGfOQeaR5CSIJc1BbNuu7gxWy0HOesIn8yDLQR46MhtM/8pBJslv0cd1y0FwELFlqwnMQf+k3pOtdcxB4Y7PA59dzEFANEh4/brMQVx3e/s9+sxBjH/Tmo11zEFs0BN/dmTMQWxbkF+sl85B9n+5+ZWqz0GXHN2oM+LQQZ6HHWBhydBBrYvUXvrr0EHogDsHGqfQQd7Vkzk5jtBBR5Vxdo9l0EEtzIN6IU/QQe2WwYnOOtBBg12cnA55z0FFjbyytNrPQcyEgJfrXs5BPEboM1c5zkEbFb+n4VHOQWM8l84LuM5BmciAH+/YzkESHkMAGTbOQdYJnPQbTM5BAZiKNO3gzkEfWDTGQwvPQWejyOhLB89BHBzBwEx1zkHWfZn+Vy7NQfqgSzr1QM5BdreCVqkyzUF5P0xkHp7NQScJHlW4F85BC2mskXJ0zkEithYOPKPOQSDeuR7w5M5BmhR6wbruzkHWUWuuXWvOQQBpRQnR9M9BZGNqaV1Fz0G3c4R/nEPPQdbRSy2QWM9B1KzI8uybz0ExuEpgTbfOQfHI24uces5BvvX0fn55z0F/AuVMPvbNQfR9X8tQGc5BwrjXDobxzUEf9XbPx7vNQRhv1/UDTcxB2uKMBMvZzEFcwjMCt8nFQcJo4SirB8RBCOxL46R6w0FwaKmpx47DQVFW2tpdSMFBrB8f4JHQwEHZ0/+w4fi/QcrAHRX6EL9BSmKuNhWev0HY2BoiLcLFQc03GlJThcZBijM3yg3exkEuYmwo5SbHQYGQryorP8hB3InWQJFnx0G8mbc7HuvGQfQOAHGeWsVBvNLNErdPxUHogxlJ0K7FQdMrRLnbmMNBt7JB/N13wkG4kl7BUDrFQcKHMTsrzMVBdJ85dLVAxkHow4xzHlzGQfI4e6SLw8ZBXPaIHBflxkFmXJDbGtDHQXZqAWcy78hB8qP6HQFRykGuPPo79VvLQRnGapHSHsxB0sKLHCT3y0FWtj/487LLQaz007R348tBV46noDFuzUH6IZVTeAvNQYbmdmURN81Bde5Q6bMUzUGbV7L96OjNQRxMyldIhc5BExnXTHkk0EEvsh5yXT7QQSwa7sb3ZM5B88pgZv8Zz0EiWEbTDyjQQW7+FeueR9BB5/rlwd8U0UHUQ8LC1YDRQYWrLw2GfNFB4BXCL7v80EHkC7AGLcHRQYo6bokObdNBeL9CeC/S00E1+A9p+eHWQcKvdsA1ctZBrgkdBFuj1kEVw9UMC7DWQWf+lYGXadVB/qsMOHQZ00E9LDtZsSvUQbV5Qhw76dNBZhWhUbjS00HzlySCuL7TQWlf1AjgjtRBx7UXYS801kGlo1PCYOLWQdxCLijvHddB0rZy09gw10EidFSGc/TWQdPkD6ZrqtdBt/TURRBP2EEvbDG0l8PYQaVCmRwFT9hBxgHtWGO110GlG4ERYb7XQfSDyQ0EytdBwP4dlWHz10GA7BYAKOXXQe7TVnkn59dBA/Rai7iL2EFRyQS1Bd3YQaNM2t+5ydhBLzO6VmvS2EFP5xHP8IzYQe+FFYJmN9hBnTswDtdF2EFMhai3cwnYQb5vhJ/BsNdBDdAOr+xq2EHZ0FGSY+3YQVpFhZM939hBxlKIxXEu2kHwJsKJHSPbQeJWUC0TqNtBMMaC3P8x20FIFYJ5vQPcQQpYVT2zWt1BsoPYJtnO3UG7rGbdcqbdQV4dBoMTXd5BrSQNSecn3kFNBB3nV7PcQQjqNzHJ1NtBDpKGr7as20GyCGT6NvLbQf0+p/5Nf9tBjP+pOcZ+3UFH2nLHG+HcQZSaOIjWnN1B9uEvzpkL3kEWiGkSGyfgQZoXfINiWOBBVWXdtkAM4EGetVC90pHfQQyBqForPd9BOBLI7cKP30F9gPwU69ffQZSQNjp7iN9B7+ELY+X430Ff7YEyYS7gQZ8MwP/AquBBZVPo0jHw4EEcYX6sidLgQc5wZAJsM+FBDvwnc3mI4UFxDBzuLLPhQTSKvNSWKeJBI0HMTels4kHdVZ093ZriQfVg4llfRONBY+Kstm1q5EGxdoLE9dLkQXJeVWNMkORBE12BZy5M5UEW7O9du7HlQQ0N1wNkxuVBXfjf+Cxd5UEUetf0EAfkQRcCb1netORBBvUygubS5EEg0x/xCTvlQa/5V9u5muVBUZP1WM3u5UFRDL68jH7iQU+uHm01PuFBXGFSjIcL4UFKmUEgASzhQXhmwb1/eN5B9Myv4pWw4EH3QZU1KCLhQcqec+V/1eFBIX8jxTwX4kEoY29adjziQfNICz0BluJBTEMeP5KA4kHHH3pySHXiQUblZsWhcuJBAax8vsIq40FgKzOMKhDkQUOnJlsMcuRBXAZ92oSN5EE1rPJa+LDkQdOAPKkBuORB\",\"dtype\":\"float64\",\"order\":\"little\",\"shape\":[1407]},\"timestamp\":{\"__ndarray__\":\"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\",\"dtype\":\"float64\",\"order\":\"little\",\"shape\":[1407]}},\"selected\":{\"id\":\"1781\"},\"selection_policy\":{\"id\":\"1800\"}},\"id\":\"1780\",\"type\":\"ColumnDataSource\"},{\"attributes\":{},\"id\":\"1789\",\"type\":\"DatetimeTickFormatter\"},{\"attributes\":{},\"id\":\"1769\",\"type\":\"WheelZoomTool\"},{\"attributes\":{},\"id\":\"1800\",\"type\":\"UnionRenderers\"},{\"attributes\":{\"mantissas\":[1,2,5],\"max_interval\":500.0,\"num_minor_ticks\":0},\"id\":\"1801\",\"type\":\"AdaptiveTicker\"},{\"attributes\":{\"days\":[1,2,3,4,5,6,7,8,9,10,11,12,13,14,15,16,17,18,19,20,21,22,23,24,25,26,27,28,29,30,31]},\"id\":\"1804\",\"type\":\"DaysTicker\"},{\"attributes\":{\"overlay\":{\"id\":\"1772\"}},\"id\":\"1770\",\"type\":\"BoxZoomTool\"},{\"attributes\":{\"base\":24,\"mantissas\":[1,2,4,6,8,12],\"max_interval\":43200000.0,\"min_interval\":3600000.0,\"num_minor_ticks\":0},\"id\":\"1803\",\"type\":\"AdaptiveTicker\"},{\"attributes\":{},\"id\":\"1757\",\"type\":\"LinearScale\"},{\"attributes\":{\"days\":[1,4,7,10,13,16,19,22,25,28]},\"id\":\"1805\",\"type\":\"DaysTicker\"},{\"attributes\":{\"axis_label\":\"timestamp\",\"bounds\":\"auto\",\"formatter\":{\"id\":\"1789\"},\"major_label_orientation\":\"horizontal\",\"ticker\":{\"id\":\"1760\"}},\"id\":\"1759\",\"type\":\"DatetimeAxis\"},{\"attributes\":{},\"id\":\"1755\",\"type\":\"LinearScale\"},{\"attributes\":{\"callback\":null,\"formatters\":{\"@{timestamp}\":\"datetime\"},\"renderers\":[{\"id\":\"1786\"}],\"tags\":[\"hv_created\"],\"tooltips\":[[\"timestamp\",\"@{timestamp}{%F %T}\"],[\"DAI\",\"@{DAI}\"]]},\"id\":\"1749\",\"type\":\"HoverTool\"},{\"attributes\":{\"months\":[0,1,2,3,4,5,6,7,8,9,10,11]},\"id\":\"1808\",\"type\":\"MonthsTicker\"},{\"attributes\":{\"num_minor_ticks\":5,\"tickers\":[{\"id\":\"1801\"},{\"id\":\"1802\"},{\"id\":\"1803\"},{\"id\":\"1804\"},{\"id\":\"1805\"},{\"id\":\"1806\"},{\"id\":\"1807\"},{\"id\":\"1808\"},{\"id\":\"1809\"},{\"id\":\"1810\"},{\"id\":\"1811\"},{\"id\":\"1812\"}]},\"id\":\"1760\",\"type\":\"DatetimeTicker\"},{\"attributes\":{\"days\":[1,8,15,22]},\"id\":\"1806\",\"type\":\"DaysTicker\"},{\"attributes\":{},\"id\":\"1764\",\"type\":\"BasicTicker\"},{\"attributes\":{\"days\":[1,15]},\"id\":\"1807\",\"type\":\"DaysTicker\"},{\"attributes\":{\"axis\":{\"id\":\"1759\"},\"grid_line_color\":null,\"ticker\":null},\"id\":\"1762\",\"type\":\"Grid\"},{\"attributes\":{\"active_drag\":\"auto\",\"active_inspect\":\"auto\",\"active_multi\":null,\"active_scroll\":\"auto\",\"active_tap\":\"auto\",\"tools\":[{\"id\":\"1749\"},{\"id\":\"1767\"},{\"id\":\"1768\"},{\"id\":\"1769\"},{\"id\":\"1770\"},{\"id\":\"1771\"}]},\"id\":\"1773\",\"type\":\"Toolbar\"},{\"attributes\":{\"end\":3238150722.0416565,\"reset_end\":3238150722.0416565,\"reset_start\":-294377338.3674233,\"start\":-294377338.3674233,\"tags\":[[[\"DAI\",\"DAI\",null]]]},\"id\":\"1748\",\"type\":\"Range1d\"},{\"attributes\":{\"months\":[0,2,4,6,8,10]},\"id\":\"1809\",\"type\":\"MonthsTicker\"},{\"attributes\":{\"children\":[{\"id\":\"1746\"},{\"id\":\"1750\"},{\"id\":\"1833\"}],\"margin\":[0,0,0,0],\"name\":\"Row02386\",\"tags\":[\"embedded\"]},\"id\":\"1745\",\"type\":\"Row\"},{\"attributes\":{\"axis\":{\"id\":\"1763\"},\"dimension\":1,\"grid_line_color\":null,\"ticker\":null},\"id\":\"1766\",\"type\":\"Grid\"},{\"attributes\":{\"end\":1623031200000.0,\"reset_end\":1623031200000.0,\"reset_start\":1501632000000.0,\"start\":1501632000000.0,\"tags\":[[[\"timestamp\",\"timestamp\",null]]]},\"id\":\"1747\",\"type\":\"Range1d\"},{\"attributes\":{\"axis_label\":\"DAI\",\"bounds\":\"auto\",\"formatter\":{\"id\":\"1788\"},\"major_label_orientation\":\"horizontal\",\"ticker\":{\"id\":\"1764\"}},\"id\":\"1763\",\"type\":\"LinearAxis\"},{\"attributes\":{\"line_alpha\":0.1,\"line_color\":\"#30a2da\",\"line_width\":2,\"x\":{\"field\":\"timestamp\"},\"y\":{\"field\":\"DAI\"}},\"id\":\"1784\",\"type\":\"Line\"},{\"attributes\":{},\"id\":\"1781\",\"type\":\"Selection\"}],\"root_ids\":[\"1745\"]},\"title\":\"Bokeh Application\",\"version\":\"2.2.3\"}};\n",
       "    var render_items = [{\"docid\":\"300e092f-82f1-4a4f-b5e6-59b260cb2ccf\",\"root_ids\":[\"1745\"],\"roots\":{\"1745\":\"1da7e657-7350-4295-951c-97812d252cb2\"}}];\n",
       "    root.Bokeh.embed.embed_items_notebook(docs_json, render_items);\n",
       "  }\n",
       "  if (root.Bokeh !== undefined && root.Bokeh.Panel !== undefined) {\n",
       "    embed_document(root);\n",
       "  } else {\n",
       "    var attempts = 0;\n",
       "    var timer = setInterval(function(root) {\n",
       "      if (root.Bokeh !== undefined && root.Bokeh.Panel !== undefined) {\n",
       "        clearInterval(timer);\n",
       "        embed_document(root);\n",
       "      } else if (document.readyState == \"complete\") {\n",
       "        attempts++;\n",
       "        if (attempts > 100) {\n",
       "          clearInterval(timer);\n",
       "          console.log(\"Bokeh: ERROR: Unable to run BokehJS code because BokehJS library is missing\");\n",
       "        }\n",
       "      }\n",
       "    }, 10, root)\n",
       "  }\n",
       "})(window);</script>"
      ],
      "text/plain": [
       ":Curve   [timestamp]   (DAI)"
      ]
     },
     "execution_count": 38,
     "metadata": {
      "application/vnd.holoviews_exec.v0+json": {
       "id": "1745"
      }
     },
     "output_type": "execute_result"
    }
   ],
   "source": [
    "tvl_dai_df.hvplot(figsize=(20,10), title = 'Total Value Locked DAI',yformatter='%.0f')"
   ]
  },
  {
   "cell_type": "code",
   "execution_count": 59,
   "metadata": {},
   "outputs": [
    {
     "data": {},
     "metadata": {},
     "output_type": "display_data"
    },
    {
     "data": {
      "application/vnd.holoviews_exec.v0+json": "",
      "text/html": [
       "<div id='2578'>\n",
       "\n",
       "\n",
       "\n",
       "\n",
       "\n",
       "  <div class=\"bk-root\" id=\"54adee0d-2a9e-430f-8dd1-c461b88243f6\" data-root-id=\"2578\"></div>\n",
       "</div>\n",
       "<script type=\"application/javascript\">(function(root) {\n",
       "  function embed_document(root) {\n",
       "    var docs_json = {\"04ff4c8b-e7d9-40dc-8e33-563aae045a46\":{\"roots\":{\"references\":[{\"attributes\":{},\"id\":\"2590\",\"type\":\"LinearScale\"},{\"attributes\":{\"days\":[1,4,7,10,13,16,19,22,25,28]},\"id\":\"2638\",\"type\":\"DaysTicker\"},{\"attributes\":{},\"id\":\"2622\",\"type\":\"DatetimeTickFormatter\"},{\"attributes\":{},\"id\":\"2604\",\"type\":\"ResetTool\"},{\"attributes\":{\"months\":[0,1,2,3,4,5,6,7,8,9,10,11]},\"id\":\"2641\",\"type\":\"MonthsTicker\"},{\"attributes\":{},\"id\":\"2597\",\"type\":\"BasicTicker\"},{\"attributes\":{},\"id\":\"2588\",\"type\":\"LinearScale\"},{\"attributes\":{\"callback\":null,\"formatters\":{\"@{timestamp}\":\"datetime\"},\"renderers\":[{\"id\":\"2619\"}],\"tags\":[\"hv_created\"],\"tooltips\":[[\"timestamp\",\"@{timestamp}{%F %T}\"],[\"BTC\",\"@{BTC}\"]]},\"id\":\"2582\",\"type\":\"HoverTool\"},{\"attributes\":{\"days\":[1,8,15,22]},\"id\":\"2639\",\"type\":\"DaysTicker\"},{\"attributes\":{\"days\":[1,15]},\"id\":\"2640\",\"type\":\"DaysTicker\"},{\"attributes\":{\"axis\":{\"id\":\"2596\"},\"dimension\":1,\"grid_line_color\":null,\"ticker\":null},\"id\":\"2599\",\"type\":\"Grid\"},{\"attributes\":{\"num_minor_ticks\":5,\"tickers\":[{\"id\":\"2634\"},{\"id\":\"2635\"},{\"id\":\"2636\"},{\"id\":\"2637\"},{\"id\":\"2638\"},{\"id\":\"2639\"},{\"id\":\"2640\"},{\"id\":\"2641\"},{\"id\":\"2642\"},{\"id\":\"2643\"},{\"id\":\"2644\"},{\"id\":\"2645\"}]},\"id\":\"2593\",\"type\":\"DatetimeTicker\"},{\"attributes\":{\"axis_label\":\"timestamp\",\"bounds\":\"auto\",\"formatter\":{\"id\":\"2622\"},\"major_label_orientation\":\"horizontal\",\"ticker\":{\"id\":\"2593\"}},\"id\":\"2592\",\"type\":\"DatetimeAxis\"},{\"attributes\":{\"axis\":{\"id\":\"2592\"},\"grid_line_color\":null,\"ticker\":null},\"id\":\"2595\",\"type\":\"Grid\"},{\"attributes\":{\"end\":1485600.5851011686,\"reset_end\":1485600.5851011686,\"reset_start\":-135054.5986455608,\"start\":-135054.5986455608,\"tags\":[[[\"BTC\",\"BTC\",null]]]},\"id\":\"2581\",\"type\":\"Range1d\"},{\"attributes\":{\"line_alpha\":0.2,\"line_color\":\"#30a2da\",\"line_width\":2,\"x\":{\"field\":\"timestamp\"},\"y\":{\"field\":\"BTC\"}},\"id\":\"2618\",\"type\":\"Line\"},{\"attributes\":{\"base\":24,\"mantissas\":[1,2,4,6,8,12],\"max_interval\":43200000.0,\"min_interval\":3600000.0,\"num_minor_ticks\":0},\"id\":\"2636\",\"type\":\"AdaptiveTicker\"},{\"attributes\":{\"months\":[0,2,4,6,8,10]},\"id\":\"2642\",\"type\":\"MonthsTicker\"},{\"attributes\":{\"active_drag\":\"auto\",\"active_inspect\":\"auto\",\"active_multi\":null,\"active_scroll\":\"auto\",\"active_tap\":\"auto\",\"tools\":[{\"id\":\"2582\"},{\"id\":\"2600\"},{\"id\":\"2601\"},{\"id\":\"2602\"},{\"id\":\"2603\"},{\"id\":\"2604\"}]},\"id\":\"2606\",\"type\":\"Toolbar\"},{\"attributes\":{\"source\":{\"id\":\"2613\"}},\"id\":\"2620\",\"type\":\"CDSView\"},{\"attributes\":{\"children\":[{\"id\":\"2579\"},{\"id\":\"2583\"},{\"id\":\"2666\"}],\"margin\":[0,0,0,0],\"name\":\"Row03342\",\"tags\":[\"embedded\"]},\"id\":\"2578\",\"type\":\"Row\"},{\"attributes\":{\"months\":[0,4,8]},\"id\":\"2643\",\"type\":\"MonthsTicker\"},{\"attributes\":{\"line_color\":\"#30a2da\",\"line_width\":2,\"x\":{\"field\":\"timestamp\"},\"y\":{\"field\":\"BTC\"}},\"id\":\"2616\",\"type\":\"Line\"},{\"attributes\":{},\"id\":\"2614\",\"type\":\"Selection\"},{\"attributes\":{\"bottom_units\":\"screen\",\"fill_alpha\":0.5,\"fill_color\":\"lightgrey\",\"left_units\":\"screen\",\"level\":\"overlay\",\"line_alpha\":1.0,\"line_color\":\"black\",\"line_dash\":[4,4],\"line_width\":2,\"right_units\":\"screen\",\"top_units\":\"screen\"},\"id\":\"2605\",\"type\":\"BoxAnnotation\"},{\"attributes\":{\"months\":[0,6]},\"id\":\"2644\",\"type\":\"MonthsTicker\"},{\"attributes\":{\"line_alpha\":0.1,\"line_color\":\"#30a2da\",\"line_width\":2,\"x\":{\"field\":\"timestamp\"},\"y\":{\"field\":\"BTC\"}},\"id\":\"2617\",\"type\":\"Line\"},{\"attributes\":{\"margin\":[5,5,5,5],\"name\":\"HSpacer03347\",\"sizing_mode\":\"stretch_width\"},\"id\":\"2666\",\"type\":\"Spacer\"},{\"attributes\":{\"data_source\":{\"id\":\"2613\"},\"glyph\":{\"id\":\"2616\"},\"hover_glyph\":null,\"muted_glyph\":{\"id\":\"2618\"},\"nonselection_glyph\":{\"id\":\"2617\"},\"selection_glyph\":null,\"view\":{\"id\":\"2620\"}},\"id\":\"2619\",\"type\":\"GlyphRenderer\"},{\"attributes\":{\"margin\":[5,5,5,5],\"name\":\"HSpacer03346\",\"sizing_mode\":\"stretch_width\"},\"id\":\"2579\",\"type\":\"Spacer\"},{\"attributes\":{\"text\":\"BTC\",\"text_color\":{\"value\":\"black\"},\"text_font_size\":{\"value\":\"12pt\"}},\"id\":\"2584\",\"type\":\"Title\"},{\"attributes\":{\"end\":1623031200000.0,\"reset_end\":1623031200000.0,\"reset_start\":1505174400000.0,\"start\":1505174400000.0,\"tags\":[[[\"timestamp\",\"timestamp\",null]]]},\"id\":\"2580\",\"type\":\"Range1d\"},{\"attributes\":{\"format\":\"%.0f\"},\"id\":\"2621\",\"type\":\"PrintfTickFormatter\"},{\"attributes\":{},\"id\":\"2645\",\"type\":\"YearsTicker\"},{\"attributes\":{\"below\":[{\"id\":\"2592\"}],\"center\":[{\"id\":\"2595\"},{\"id\":\"2599\"}],\"left\":[{\"id\":\"2596\"}],\"margin\":[5,5,5,5],\"min_border_bottom\":10,\"min_border_left\":10,\"min_border_right\":10,\"min_border_top\":10,\"plot_height\":300,\"plot_width\":700,\"renderers\":[{\"id\":\"2619\"}],\"sizing_mode\":\"fixed\",\"title\":{\"id\":\"2584\"},\"toolbar\":{\"id\":\"2606\"},\"x_range\":{\"id\":\"2580\"},\"x_scale\":{\"id\":\"2588\"},\"y_range\":{\"id\":\"2581\"},\"y_scale\":{\"id\":\"2590\"}},\"id\":\"2583\",\"subtype\":\"Figure\",\"type\":\"Plot\"},{\"attributes\":{},\"id\":\"2600\",\"type\":\"SaveTool\"},{\"attributes\":{\"data\":{\"BTC\":{\"__ndarray__\":\"AAAAAAAAAAAAAAAAAAAAAAAAAAAAAAAAAAAAAAAAAAAAAAAAAAAAAAAAAAAAAAAAAAAAAAAAAAAAAAAAAAAAAAAAAAAAAAAAAAAAAAAAAAAAAAAAAAAAAAAAAAAAAAAAAAAAAAAAAAAAAAAAAAAAAAAAAAAAAAAAAAAAAAAAAAAAAAAAAAAAAAAAAAAAAAAAAAAAAAAAAAAAAAAAAAAAAAAAAAAAAAAAAAAAAAAAAAAAAAAAAAAAAAAAAAAAAAAAAAAAAAAAAAAAAAAAAAAAAAAAAAAAAAAAAAAAAAAAAAAAAAAAAAAAAAAAAAAAAAAAAAAAAAAAAAAAAAAAAAAAAAAAAAAAAAAAAAAAAAAAAAAAAAAAAAAAAAAAAAAAAAAAAAAAAAAAAAAAAAAAAAAAAAAAAAAAAAAAAAAAAAAAAAAAAAAAAAAAAAAAAAAAAAAAAAAAAAAAAAAAAAAAAAAAAAAAAAAAAAAAAAAAAAAAAAAAAAAAAAAAAAAAAAAAAAAAAAAAAAAAAAAAAAAAAAAAAAAAAAAAAAAAAAAAAAAAAAAAAAAAAAAAAAAAAAAAAAAAAAAAAAAAAAAAAAAAAAAAAAAAAAAAAAAAAAAAAAAAAAAAAAAAAAAAAAAAAAAAAAAAAAAAAAAAAAAAAAAAAAAAAAAAAAAAAAAAAAAAAAAAAAAAAAAAAAAAAAAAAAAAAAAAAAAAAAAAAAAAAAAAAAAAAAAAAAAAAAAAAAAAAAAAAAAAAAAAAAAAAAAAAAAAAAAAAAAAAAAAAAAAAAAAAAAAAAAAAAAAAAAAAAAAAAAAAAAAAAAAAAAAAAAAAAAAAAAAAAAAAAAAAAAAAAAAAAAAAAAAAAAAAAAAAAAAAAAAAAAAAAAAAAAAAAAAAAAAAAAAAAAAAAAAAAAAAAAAAAAAAAAAAAAAAAAAAAAAAAAAAAAAAAAAAAAAAAAAAAAAAAAAAAAAAAAAAAAAAAAAAAAAAAAAAAAAAAAAAAAAAAAAAAAAAAAAAAAAAAAAAAAAAAAAAAAAAAAAAAAAAAAAAAAAAAAAAAAAAAAAAAAAAAAAAAAAAAAAAAAAAAAAAAAAAAAAAAAAAAAAAAAAAAAAAAAAAAAAAAAAAAAAAAAAAAAAAAAAAAAAAAAAAAAAAAAAAAAAAAAAAAAAAAAAAAAAAAAAAAAAAAAAAAAAAAAAAAAAAAAAAAAAAAAAAAAAAAAAAAAAAAAAAAAAAAAAAAAAAAAAAAAAAAAAAAAAAAAAAAAAAAAAAAAAAAAAAAAAAAAAAAAAAAAAAAAAAAAAAAAAAAAAAAAAAAAAAAAAAAAAAAAAAAAAAAAAAAAAAAAAAAAAAAAAAAAAAAAAAAAAAAAAAAAAAAAAAAAAAAAAAAAAAAAAAAD0GOWZl2sNQM9aiPyRmzRBocD53CLjDkCl1sHi7O0PQKKofYSrIRBABd2g7uqqEEDPyihcsKgQQPj8DzSP7RFAHaVcK+tkFUB3xcabgNcVQAIHWbuS/RVANj/+0qJOFkBWaeYk718WQAPVeTPuehZAg8rPeOgwF0A7ScLXOokXQDj6NeVMYxdAsT/9JbHJFkC2E6Ho7A4XQEpm7Z1uHBNAYxq4yclYEkClWpdcvWkSQHospme0iBJALnttkQ9hEkDgKx0gVhsQQIwdpuCdIhBArvxsw6zQDUDMxveDifgKQPAzLhwIKQtAeewllUI7EECGKqnRszoPQEPbnBBbFg9AaN67F6mBD0BHrwYoDQERQFD3Ksee4BFAomX23LZBEkCLFgOY8GsSQEGgjiLGZhJAKpQihfRgEkDXfIWaW/QRQBlQ0nCIOBJA/4bcTlMeEECSFplGtCEPQBnMHQWhVw9ARvTGpBoBD0A6biFdpr0LQGt3F0HGsAlApRLg7L3NCEArbyYqRD0KQJXAQdauZAtAi5DTOh7BEECgKUNu6QESQEoue+lYNxNAZ0do0yrBFEABwocSLfkUQBUbFEnL4xRAl0L3FwckFUBczCrHv84VQEYQIY2OOBhAZa26cf8rG0AJPXLWbQUcQOIM1f//mB9ALSnSWFYRIUBoR8OMnVIiQDqrqjwm4yFAN8nqsYgYIkBzcJ8L2aciQLkE2C4KkCJATSQkFFN0JUCuQ+Tsj9gzQWgw/Jbv8ydAnTD+CXAYKEDHndLB+pEoQC6gxKUyiChAG+8z02LzKUBoTsn/BcwpQO9Nmbx92ypA8dUSG8HEK0AtqcHR4WksQGNJFLWP+ixAlo3WanKrMEAVjM4iqa4wQEf+wwp1VTBAmQmO5FVfMEBrcmNAF6AwQKqtAd+nLTFAaV8O9ZpvMED67OMVRg0wQPbv+sxZBDBAB/JHrCBqMEAi8qfXd5QwQDF4PT1bAjFAeob0BFfmMEB6hvQEV+YwQHqG9ARX5jBAumWoBnHvMEDhdYG7gf4wQJ0g+2pYTzFAjqTNBtPEMUDt1H18GfQxQJmW3FExQDJAhfzgOs5rMkDHxN5ykmYyQIfu5YBVdTJAdLGKs/mRMkCtC4nFuaoyQK/BkA9Z3zJAI2Z6sjC1MkCX4g3dqsoyQCXPUDer7jJA4CZIEb4YM0BCTgyHrYAzQJ+Ljv2PgTNASRxo9FmnM0CBcj7pAgY0QKBkWc3GXDRA3bMR/C2pNED1vDwZ89Y0QFyiBhVN3TRATmZZgznjNEA1oou4xu40QEIX/Tb+IzVAYdCVSnBgNUDXGsa0odY1QCDwwADCNDZAiNH3QwFxNkDwpyEFqjk1QDN/lvjtGzVAO9O2J2m6NUAm0zY48LA0QC/1d9/GTTZAL/V338ZNNkAgYmJ3qiQ1QDW/s6CkJzVAlWOyuP9sNUBg3PQEFcA0QEQ3uecSpzRARUOM+Mq6NEBW+67n7zg1QJXd5YXo7TVAdrfbw5g4N0BQkLfgNYc3QNjZyirwpDdA62Ee6FcSN0CrjqAhsYk3QO1AQjl21zdA3WOnJ0UxOEALSk2SGRE4QEg3wqIiWDdA2oB8x/g/N0DgAr/8BO43QI07jOZURDlABj9YY1w7OkC0kcqYqyc6QE8nVbLOwjpANzXQfM4WO0DPabM9vPo7QMYuOCCVMD1AqdgcELbNPUCe/GnlVqk+QCniGdm6e0BA8s8t8OwYQ0AeWr/0UfFGQGiu9Fa0VktAKRd0jPXrS0ClEAzsA9sOQQPrOH4oRVFAtMePIVVaUUBGwb5jGS5SQC43GOqwZVJAxVYS0ZZZU0DwYmn5ZP1TQP6R0DNJj1RADiRauE3vVUBd1u2BkGBXQPFl5CT7W1lA0TblpwSKWkDqPmPTiPFbQPMzefMpe1xAVQNBPnClXEBvSS/m/sxSQAb0gIG5AFNAWNX9KXb7UkBhuEJxautUQFVEuI89CldAFVFVmdBbV0BthdmZPBhXQD/tKoPu6VZA2AjMXAOOV0AuvYljFZhXQHjfCL1EiVdAwXdZG/xyV0DTUEBmqYJXQJ5cUyAzRldAJpON5szlVkCPO2NnI9VWQAEvlpYP1lZA7pYFj0ZYU0AqcT7xc81TQMgz3D7zGFRAnnvNegoXVECYSoH9fi9UQLHmtjMCZlRAJvbYr56BVEA58dWOIo1UQFEeq86JTVRArpprweCcVEAQ+sL5TqJUQP3ssiUM21RAI3REfO8DVUBFVivRYTNVQLgZVSOHEFVA+X3mSWUjVUB4RY2VmkJWQCfw84QK7FZArP5r7fvlVkBLAvXi20JXQGKR9KOAjVdAy55GUvkNWEDYYdAy4IpYQBc1DF17Ss1A2tSz/5pJzUB8LLcTCSHOQNJuFUDTK85AG0zk/jNBzkAOCJ2lpzzOQKmvGSaKus1Ah1IYZ36/zUB9iusx97rNQJSQQGrkfs1Aw8nLVBWCzUD/+s836G7RQDsflvQFd9FAZjm/V/FS0UDxfmB34VzRQAP4fhXf6NBA53Mo4lpd0EBTpRQRq1zQQL2piiFZVdBAO24Z7FHhz0AcYZOtPJXPQP+snjiefc9AlhIXOhukzUDv9BCuqePJQMCxiF1y4clAYVPnUdqDyUAddr4jkl/JQFd2f0T8X8lAhJUSGxBfyUCH9yTJ0EbJQHUdDdRoVclAvTLSf9cfyEBpqLTysVjEQNDocQyrccRArb4d1atzxECfxEr5x4nEQHCR3mTQb8BAhDHYQ6CAwECfL8VufFHAQDwFbTAvjcBA0Ft+2HW9wEBwMVikBZoDQeup1a8hQwNBVao8mDKBA0HWi1/gZXYDQYBkOozWXgNBkmW5C09qA0G4YUY2AUkDQcKKpv2mUgNB6/C+N43aA0HUFIXuenkDQeTNM5GWfgNBKrXV1OMfA0ErR3U4SDYDQZCuLTdmEwNBUI7hpSITA0EqY3RnvToDQXA+txi1vgdBs/kLL4kJA0GD9gtSV/QCQT9wGcB00gJBJJk4Jm3wAkEd+Q9bDgUDQUjGnC1E/AJBOVo4RQTaAkHArGkZdLoCQVAKJZmXxv9ASCN+KZMCAEHPqApnfigAQYIVbom27v9Ae8vNDlkEAEGd/6q1fvMAQQ6DEpn2XQFBgWw4MAOCAUH+gxacVdkAQY2qNupR3wBBiJbh3KfxAEFPHrtwRf0AQec4dWUPyQBBvtMy3P5oAEHsBH9gys8BQQWOBAKjuAFBzXXgxeO9AUFjU/AsS4IBQRugsPsuE/dA+J5np2kmAUG2mCPkGDEBQWqI6OdvVAFBVoZQsZKFA0EoVXh7M9cBQUK2brOwBAJBtr8v7YDUAUEhU8JEmsMBQROl1uZZtAFBuUdGUaesAUEt6c11djgCQZkz0zT6NAJBebhXzXc8AkE7i3uXA/4BQc+1FvN26QFBWc6UJCXvAUHB+7JdzukBQUqNt8qY8AFBkMvZ/7zaAUFFsLvy19oBQWERy5+UsgFBYuSnycHnAUHmKpI+9/UBQWfAH0fSJAJBiBa4iAyoAkF6fcW+nYUCQTFXae9JxwJBP1reXeQPA0G8/7CBjRMDQbP3wWU/CARBhWmEW1UMBEE6DLXXUR8EQVhLrtj5HARBvJBh168CBEFDt3+JbtQDQejLXkhfDQRBzLipWbJHBEG6IxiGJV4EQeGe3zaQdgRBVRqMpMosBEFDhYck73kEQT5A1r/peQRBeyVeqCyvBEETMHjIjAQGQcEVu1OaMQVB0mibYMsmBUExKrqXwMoFQTHZyzgvXAVBpOgNqXwPBUGunjhFcWgEQUBVfU1ebwRBVE/uUENlBEHzw8ZENjsFQS1/8CcZnAVBLG5IABO4BUHexU5y8IIFQXFydR5gmQVBXLwfz53QBUGShb9pha8FQQah1eyQtgVBxv8VoOzGBUFcAPmO9tgFQc/mOFe65QVB+qItvKQQBkEn1SUgoRYGQQ==\",\"dtype\":\"float64\",\"order\":\"little\",\"shape\":[500]},\"timestamp\":{\"__ndarray__\":\"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\",\"dtype\":\"float64\",\"order\":\"little\",\"shape\":[500]}},\"selected\":{\"id\":\"2614\"},\"selection_policy\":{\"id\":\"2633\"}},\"id\":\"2613\",\"type\":\"ColumnDataSource\"},{\"attributes\":{},\"id\":\"2601\",\"type\":\"PanTool\"},{\"attributes\":{},\"id\":\"2602\",\"type\":\"WheelZoomTool\"},{\"attributes\":{\"days\":[1,2,3,4,5,6,7,8,9,10,11,12,13,14,15,16,17,18,19,20,21,22,23,24,25,26,27,28,29,30,31]},\"id\":\"2637\",\"type\":\"DaysTicker\"},{\"attributes\":{\"base\":60,\"mantissas\":[1,2,5,10,15,20,30],\"max_interval\":1800000.0,\"min_interval\":1000.0,\"num_minor_ticks\":0},\"id\":\"2635\",\"type\":\"AdaptiveTicker\"},{\"attributes\":{\"axis_label\":\"\",\"bounds\":\"auto\",\"formatter\":{\"id\":\"2621\"},\"major_label_orientation\":\"horizontal\",\"ticker\":{\"id\":\"2597\"}},\"id\":\"2596\",\"type\":\"LinearAxis\"},{\"attributes\":{\"mantissas\":[1,2,5],\"max_interval\":500.0,\"num_minor_ticks\":0},\"id\":\"2634\",\"type\":\"AdaptiveTicker\"},{\"attributes\":{},\"id\":\"2633\",\"type\":\"UnionRenderers\"},{\"attributes\":{\"overlay\":{\"id\":\"2605\"}},\"id\":\"2603\",\"type\":\"BoxZoomTool\"}],\"root_ids\":[\"2578\"]},\"title\":\"Bokeh Application\",\"version\":\"2.2.3\"}};\n",
       "    var render_items = [{\"docid\":\"04ff4c8b-e7d9-40dc-8e33-563aae045a46\",\"root_ids\":[\"2578\"],\"roots\":{\"2578\":\"54adee0d-2a9e-430f-8dd1-c461b88243f6\"}}];\n",
       "    root.Bokeh.embed.embed_items_notebook(docs_json, render_items);\n",
       "  }\n",
       "  if (root.Bokeh !== undefined && root.Bokeh.Panel !== undefined) {\n",
       "    embed_document(root);\n",
       "  } else {\n",
       "    var attempts = 0;\n",
       "    var timer = setInterval(function(root) {\n",
       "      if (root.Bokeh !== undefined && root.Bokeh.Panel !== undefined) {\n",
       "        clearInterval(timer);\n",
       "        embed_document(root);\n",
       "      } else if (document.readyState == \"complete\") {\n",
       "        attempts++;\n",
       "        if (attempts > 100) {\n",
       "          clearInterval(timer);\n",
       "          console.log(\"Bokeh: ERROR: Unable to run BokehJS code because BokehJS library is missing\");\n",
       "        }\n",
       "      }\n",
       "    }, 10, root)\n",
       "  }\n",
       "})(window);</script>"
      ],
      "text/plain": [
       ":Curve   [timestamp]   (BTC)"
      ]
     },
     "execution_count": 59,
     "metadata": {
      "application/vnd.holoviews_exec.v0+json": {
       "id": "2578"
      }
     },
     "output_type": "execute_result"
    }
   ],
   "source": [
    "tvl_btc_df.hvplot(figsize=(20,10),yformatter='%.0f')"
   ]
  },
  {
   "cell_type": "code",
   "execution_count": 62,
   "metadata": {},
   "outputs": [
    {
     "data": {},
     "metadata": {},
     "output_type": "display_data"
    },
    {
     "data": {
      "application/vnd.holoviews_exec.v0+json": "",
      "text/html": [
       "<div id='3350'>\n",
       "\n",
       "\n",
       "\n",
       "\n",
       "\n",
       "  <div class=\"bk-root\" id=\"69808b39-a5db-410e-8210-adb6c04f899d\" data-root-id=\"3350\"></div>\n",
       "</div>\n",
       "<script type=\"application/javascript\">(function(root) {\n",
       "  function embed_document(root) {\n",
       "    var docs_json = {\"203f459c-7d8f-497a-8296-943817f24220\":{\"roots\":{\"references\":[{\"attributes\":{\"line_alpha\":0.1,\"line_color\":\"#30a2da\",\"line_width\":2,\"x\":{\"field\":\"timestamp\"},\"y\":{\"field\":\"ETH\"}},\"id\":\"3389\",\"type\":\"Line\"},{\"attributes\":{\"format\":\"%.0f\"},\"id\":\"3393\",\"type\":\"PrintfTickFormatter\"},{\"attributes\":{\"months\":[0,2,4,6,8,10]},\"id\":\"3414\",\"type\":\"MonthsTicker\"},{\"attributes\":{\"bottom_units\":\"screen\",\"fill_alpha\":0.5,\"fill_color\":\"lightgrey\",\"left_units\":\"screen\",\"level\":\"overlay\",\"line_alpha\":1.0,\"line_color\":\"black\",\"line_dash\":[4,4],\"line_width\":2,\"right_units\":\"screen\",\"top_units\":\"screen\"},\"id\":\"3377\",\"type\":\"BoxAnnotation\"},{\"attributes\":{\"children\":[{\"id\":\"3351\"},{\"id\":\"3355\"},{\"id\":\"3438\"}],\"margin\":[0,0,0,0],\"name\":\"Row04435\",\"tags\":[\"embedded\"]},\"id\":\"3350\",\"type\":\"Row\"},{\"attributes\":{\"axis\":{\"id\":\"3368\"},\"dimension\":1,\"grid_line_color\":null,\"ticker\":null},\"id\":\"3371\",\"type\":\"Grid\"},{\"attributes\":{\"line_alpha\":0.2,\"line_color\":\"#30a2da\",\"line_width\":2,\"x\":{\"field\":\"timestamp\"},\"y\":{\"field\":\"ETH\"}},\"id\":\"3390\",\"type\":\"Line\"},{\"attributes\":{\"callback\":null,\"formatters\":{\"@{timestamp}\":\"datetime\"},\"renderers\":[{\"id\":\"3391\"}],\"tags\":[\"hv_created\"],\"tooltips\":[[\"timestamp\",\"@{timestamp}{%F %T}\"],[\"ETH\",\"@{ETH}\"]]},\"id\":\"3354\",\"type\":\"HoverTool\"},{\"attributes\":{},\"id\":\"3394\",\"type\":\"DatetimeTickFormatter\"},{\"attributes\":{\"months\":[0,4,8]},\"id\":\"3415\",\"type\":\"MonthsTicker\"},{\"attributes\":{\"months\":[0,6]},\"id\":\"3416\",\"type\":\"MonthsTicker\"},{\"attributes\":{\"data_source\":{\"id\":\"3385\"},\"glyph\":{\"id\":\"3388\"},\"hover_glyph\":null,\"muted_glyph\":{\"id\":\"3390\"},\"nonselection_glyph\":{\"id\":\"3389\"},\"selection_glyph\":null,\"view\":{\"id\":\"3392\"}},\"id\":\"3391\",\"type\":\"GlyphRenderer\"},{\"attributes\":{\"margin\":[5,5,5,5],\"name\":\"HSpacer04439\",\"sizing_mode\":\"stretch_width\"},\"id\":\"3351\",\"type\":\"Spacer\"},{\"attributes\":{\"text\":\"ETH\",\"text_color\":{\"value\":\"black\"},\"text_font_size\":{\"value\":\"12pt\"}},\"id\":\"3356\",\"type\":\"Title\"},{\"attributes\":{\"below\":[{\"id\":\"3364\"}],\"center\":[{\"id\":\"3367\"},{\"id\":\"3371\"}],\"left\":[{\"id\":\"3368\"}],\"margin\":[5,5,5,5],\"min_border_bottom\":10,\"min_border_left\":10,\"min_border_right\":10,\"min_border_top\":10,\"plot_height\":300,\"plot_width\":700,\"renderers\":[{\"id\":\"3391\"}],\"sizing_mode\":\"fixed\",\"title\":{\"id\":\"3356\"},\"toolbar\":{\"id\":\"3378\"},\"x_range\":{\"id\":\"3352\"},\"x_scale\":{\"id\":\"3360\"},\"y_range\":{\"id\":\"3353\"},\"y_scale\":{\"id\":\"3362\"}},\"id\":\"3355\",\"subtype\":\"Figure\",\"type\":\"Plot\"},{\"attributes\":{},\"id\":\"3417\",\"type\":\"YearsTicker\"},{\"attributes\":{},\"id\":\"3372\",\"type\":\"SaveTool\"},{\"attributes\":{\"line_color\":\"#30a2da\",\"line_width\":2,\"x\":{\"field\":\"timestamp\"},\"y\":{\"field\":\"ETH\"}},\"id\":\"3388\",\"type\":\"Line\"},{\"attributes\":{\"axis_label\":\"ETH\",\"bounds\":\"auto\",\"formatter\":{\"id\":\"3393\"},\"major_label_orientation\":\"horizontal\",\"ticker\":{\"id\":\"3369\"}},\"id\":\"3368\",\"type\":\"LinearAxis\"},{\"attributes\":{},\"id\":\"3373\",\"type\":\"PanTool\"},{\"attributes\":{},\"id\":\"3376\",\"type\":\"ResetTool\"},{\"attributes\":{},\"id\":\"3374\",\"type\":\"WheelZoomTool\"},{\"attributes\":{},\"id\":\"3386\",\"type\":\"Selection\"},{\"attributes\":{\"days\":[1,2,3,4,5,6,7,8,9,10,11,12,13,14,15,16,17,18,19,20,21,22,23,24,25,26,27,28,29,30,31]},\"id\":\"3409\",\"type\":\"DaysTicker\"},{\"attributes\":{\"base\":60,\"mantissas\":[1,2,5,10,15,20,30],\"max_interval\":1800000.0,\"min_interval\":1000.0,\"num_minor_ticks\":0},\"id\":\"3407\",\"type\":\"AdaptiveTicker\"},{\"attributes\":{\"overlay\":{\"id\":\"3377\"}},\"id\":\"3375\",\"type\":\"BoxZoomTool\"},{\"attributes\":{},\"id\":\"3405\",\"type\":\"UnionRenderers\"},{\"attributes\":{\"mantissas\":[1,2,5],\"max_interval\":500.0,\"num_minor_ticks\":0},\"id\":\"3406\",\"type\":\"AdaptiveTicker\"},{\"attributes\":{\"source\":{\"id\":\"3385\"}},\"id\":\"3392\",\"type\":\"CDSView\"},{\"attributes\":{\"base\":24,\"mantissas\":[1,2,4,6,8,12],\"max_interval\":43200000.0,\"min_interval\":3600000.0,\"num_minor_ticks\":0},\"id\":\"3408\",\"type\":\"AdaptiveTicker\"},{\"attributes\":{},\"id\":\"3362\",\"type\":\"LinearScale\"},{\"attributes\":{\"end\":1623031200000.0,\"reset_end\":1623031200000.0,\"reset_start\":1501632000000.0,\"start\":1501632000000.0,\"tags\":[[[\"timestamp\",\"timestamp\",null]]]},\"id\":\"3352\",\"type\":\"Range1d\"},{\"attributes\":{\"days\":[1,4,7,10,13,16,19,22,25,28]},\"id\":\"3410\",\"type\":\"DaysTicker\"},{\"attributes\":{\"end\":12210823.457678067,\"reset_end\":12210823.457678067,\"reset_start\":-1110074.8597889151,\"start\":-1110074.8597889151,\"tags\":[[[\"ETH\",\"ETH\",null]]]},\"id\":\"3353\",\"type\":\"Range1d\"},{\"attributes\":{\"axis_label\":\"timestamp\",\"bounds\":\"auto\",\"formatter\":{\"id\":\"3394\"},\"major_label_orientation\":\"horizontal\",\"ticker\":{\"id\":\"3365\"}},\"id\":\"3364\",\"type\":\"DatetimeAxis\"},{\"attributes\":{},\"id\":\"3360\",\"type\":\"LinearScale\"},{\"attributes\":{\"data\":{\"ETH\":{\"__ndarray__\":\"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\",\"dtype\":\"float64\",\"order\":\"little\",\"shape\":[1407]},\"timestamp\":{\"__ndarray__\":\"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\",\"dtype\":\"float64\",\"order\":\"little\",\"shape\":[1407]}},\"selected\":{\"id\":\"3386\"},\"selection_policy\":{\"id\":\"3405\"}},\"id\":\"3385\",\"type\":\"ColumnDataSource\"},{\"attributes\":{\"months\":[0,1,2,3,4,5,6,7,8,9,10,11]},\"id\":\"3413\",\"type\":\"MonthsTicker\"},{\"attributes\":{\"num_minor_ticks\":5,\"tickers\":[{\"id\":\"3406\"},{\"id\":\"3407\"},{\"id\":\"3408\"},{\"id\":\"3409\"},{\"id\":\"3410\"},{\"id\":\"3411\"},{\"id\":\"3412\"},{\"id\":\"3413\"},{\"id\":\"3414\"},{\"id\":\"3415\"},{\"id\":\"3416\"},{\"id\":\"3417\"}]},\"id\":\"3365\",\"type\":\"DatetimeTicker\"},{\"attributes\":{\"days\":[1,8,15,22]},\"id\":\"3411\",\"type\":\"DaysTicker\"},{\"attributes\":{\"active_drag\":\"auto\",\"active_inspect\":\"auto\",\"active_multi\":null,\"active_scroll\":\"auto\",\"active_tap\":\"auto\",\"tools\":[{\"id\":\"3354\"},{\"id\":\"3372\"},{\"id\":\"3373\"},{\"id\":\"3374\"},{\"id\":\"3375\"},{\"id\":\"3376\"}]},\"id\":\"3378\",\"type\":\"Toolbar\"},{\"attributes\":{},\"id\":\"3369\",\"type\":\"BasicTicker\"},{\"attributes\":{\"days\":[1,15]},\"id\":\"3412\",\"type\":\"DaysTicker\"},{\"attributes\":{\"axis\":{\"id\":\"3364\"},\"grid_line_color\":null,\"ticker\":null},\"id\":\"3367\",\"type\":\"Grid\"},{\"attributes\":{\"margin\":[5,5,5,5],\"name\":\"HSpacer04440\",\"sizing_mode\":\"stretch_width\"},\"id\":\"3438\",\"type\":\"Spacer\"}],\"root_ids\":[\"3350\"]},\"title\":\"Bokeh Application\",\"version\":\"2.2.3\"}};\n",
       "    var render_items = [{\"docid\":\"203f459c-7d8f-497a-8296-943817f24220\",\"root_ids\":[\"3350\"],\"roots\":{\"3350\":\"69808b39-a5db-410e-8210-adb6c04f899d\"}}];\n",
       "    root.Bokeh.embed.embed_items_notebook(docs_json, render_items);\n",
       "  }\n",
       "  if (root.Bokeh !== undefined && root.Bokeh.Panel !== undefined) {\n",
       "    embed_document(root);\n",
       "  } else {\n",
       "    var attempts = 0;\n",
       "    var timer = setInterval(function(root) {\n",
       "      if (root.Bokeh !== undefined && root.Bokeh.Panel !== undefined) {\n",
       "        clearInterval(timer);\n",
       "        embed_document(root);\n",
       "      } else if (document.readyState == \"complete\") {\n",
       "        attempts++;\n",
       "        if (attempts > 100) {\n",
       "          clearInterval(timer);\n",
       "          console.log(\"Bokeh: ERROR: Unable to run BokehJS code because BokehJS library is missing\");\n",
       "        }\n",
       "      }\n",
       "    }, 10, root)\n",
       "  }\n",
       "})(window);</script>"
      ],
      "text/plain": [
       ":Curve   [timestamp]   (ETH)"
      ]
     },
     "execution_count": 62,
     "metadata": {
      "application/vnd.holoviews_exec.v0+json": {
       "id": "3350"
      }
     },
     "output_type": "execute_result"
    }
   ],
   "source": [
    "eth_df.hvplot(figsize=(20,10), title = 'ETH',yformatter='%.0f')"
   ]
  },
  {
   "cell_type": "code",
   "execution_count": 40,
   "metadata": {},
   "outputs": [
    {
     "data": {},
     "metadata": {},
     "output_type": "display_data"
    },
    {
     "data": {
      "application/vnd.holoviews_exec.v0+json": "",
      "text/html": [
       "<div id='1930'>\n",
       "\n",
       "\n",
       "\n",
       "\n",
       "\n",
       "  <div class=\"bk-root\" id=\"e3cfb6d0-7d41-43d5-a8f2-4494afb569ab\" data-root-id=\"1930\"></div>\n",
       "</div>\n",
       "<script type=\"application/javascript\">(function(root) {\n",
       "  function embed_document(root) {\n",
       "    var docs_json = {\"056424e6-da1c-4bc6-bd83-a505d425f467\":{\"roots\":{\"references\":[{\"attributes\":{\"end\":1623031200000.0,\"reset_end\":1623031200000.0,\"reset_start\":1501632000000.0,\"start\":1501632000000.0,\"tags\":[[[\"timestamp\",\"timestamp\",null]]]},\"id\":\"1932\",\"type\":\"Range1d\"},{\"attributes\":{\"days\":[1,2,3,4,5,6,7,8,9,10,11,12,13,14,15,16,17,18,19,20,21,22,23,24,25,26,27,28,29,30,31]},\"id\":\"1991\",\"type\":\"DaysTicker\"},{\"attributes\":{\"mantissas\":[1,2,5],\"max_interval\":500.0,\"num_minor_ticks\":0},\"id\":\"1988\",\"type\":\"AdaptiveTicker\"},{\"attributes\":{\"base\":60,\"mantissas\":[1,2,5,10,15,20,30],\"max_interval\":1800000.0,\"min_interval\":1000.0,\"num_minor_ticks\":0},\"id\":\"1989\",\"type\":\"AdaptiveTicker\"},{\"attributes\":{},\"id\":\"1944\",\"type\":\"LinearScale\"},{\"attributes\":{\"base\":24,\"mantissas\":[1,2,4,6,8,12],\"max_interval\":43200000.0,\"min_interval\":3600000.0,\"num_minor_ticks\":0},\"id\":\"1990\",\"type\":\"AdaptiveTicker\"},{\"attributes\":{},\"id\":\"1975\",\"type\":\"Selection\"},{\"attributes\":{\"axis_label\":\"\",\"bounds\":\"auto\",\"formatter\":{\"id\":\"1967\"},\"major_label_orientation\":\"horizontal\",\"ticker\":{\"id\":\"1951\"}},\"id\":\"1950\",\"type\":\"LinearAxis\"},{\"attributes\":{\"line_color\":\"#fc4f30\",\"line_width\":2,\"x\":{\"field\":\"timestamp\"},\"y\":{\"field\":\"value\"}},\"id\":\"2006\",\"type\":\"Line\"},{\"attributes\":{},\"id\":\"1968\",\"type\":\"DatetimeTickFormatter\"},{\"attributes\":{\"days\":[1,4,7,10,13,16,19,22,25,28]},\"id\":\"1992\",\"type\":\"DaysTicker\"},{\"attributes\":{\"line_alpha\":0.1,\"line_color\":\"#e5ae38\",\"line_width\":2,\"x\":{\"field\":\"timestamp\"},\"y\":{\"field\":\"value\"}},\"id\":\"2037\",\"type\":\"Line\"},{\"attributes\":{\"months\":[0,1,2,3,4,5,6,7,8,9,10,11]},\"id\":\"1995\",\"type\":\"MonthsTicker\"},{\"attributes\":{\"days\":[1,8,15,22]},\"id\":\"1993\",\"type\":\"DaysTicker\"},{\"attributes\":{\"format\":\"%.0f\"},\"id\":\"1967\",\"type\":\"PrintfTickFormatter\"},{\"attributes\":{\"days\":[1,15]},\"id\":\"1994\",\"type\":\"DaysTicker\"},{\"attributes\":{\"line_alpha\":0.1,\"line_color\":\"#fc4f30\",\"line_width\":2,\"x\":{\"field\":\"timestamp\"},\"y\":{\"field\":\"value\"}},\"id\":\"2007\",\"type\":\"Line\"},{\"attributes\":{\"text\":\"Total Value Locked\",\"text_color\":{\"value\":\"black\"},\"text_font_size\":{\"value\":\"12pt\"}},\"id\":\"1938\",\"type\":\"Title\"},{\"attributes\":{\"line_color\":\"#30a2da\",\"line_width\":2,\"x\":{\"field\":\"timestamp\"},\"y\":{\"field\":\"value\"}},\"id\":\"1977\",\"type\":\"Line\"},{\"attributes\":{\"line_alpha\":0.2,\"line_color\":\"#e5ae38\",\"line_width\":2,\"x\":{\"field\":\"timestamp\"},\"y\":{\"field\":\"value\"}},\"id\":\"2038\",\"type\":\"Line\"},{\"attributes\":{\"months\":[0,2,4,6,8,10]},\"id\":\"1996\",\"type\":\"MonthsTicker\"},{\"attributes\":{\"line_alpha\":0.2,\"line_color\":\"#30a2da\",\"line_width\":2,\"x\":{\"field\":\"timestamp\"},\"y\":{\"field\":\"value\"}},\"id\":\"1979\",\"type\":\"Line\"},{\"attributes\":{\"data_source\":{\"id\":\"1974\"},\"glyph\":{\"id\":\"1977\"},\"hover_glyph\":null,\"muted_glyph\":{\"id\":\"1979\"},\"nonselection_glyph\":{\"id\":\"1978\"},\"selection_glyph\":null,\"view\":{\"id\":\"1981\"}},\"id\":\"1980\",\"type\":\"GlyphRenderer\"},{\"attributes\":{\"axis_label\":\"timestamp\",\"bounds\":\"auto\",\"formatter\":{\"id\":\"1968\"},\"major_label_orientation\":\"horizontal\",\"ticker\":{\"id\":\"1947\"}},\"id\":\"1946\",\"type\":\"DatetimeAxis\"},{\"attributes\":{\"months\":[0,4,8]},\"id\":\"1997\",\"type\":\"MonthsTicker\"},{\"attributes\":{\"data_source\":{\"id\":\"2003\"},\"glyph\":{\"id\":\"2006\"},\"hover_glyph\":null,\"muted_glyph\":{\"id\":\"2008\"},\"nonselection_glyph\":{\"id\":\"2007\"},\"selection_glyph\":null,\"view\":{\"id\":\"2010\"}},\"id\":\"2009\",\"type\":\"GlyphRenderer\"},{\"attributes\":{},\"id\":\"1942\",\"type\":\"LinearScale\"},{\"attributes\":{\"num_minor_ticks\":5,\"tickers\":[{\"id\":\"1988\"},{\"id\":\"1989\"},{\"id\":\"1990\"},{\"id\":\"1991\"},{\"id\":\"1992\"},{\"id\":\"1993\"},{\"id\":\"1994\"},{\"id\":\"1995\"},{\"id\":\"1996\"},{\"id\":\"1997\"},{\"id\":\"1998\"},{\"id\":\"1999\"}]},\"id\":\"1947\",\"type\":\"DatetimeTicker\"},{\"attributes\":{\"months\":[0,6]},\"id\":\"1998\",\"type\":\"MonthsTicker\"},{\"attributes\":{\"children\":[{\"id\":\"1931\"},{\"id\":\"1937\"},{\"id\":\"2272\"}],\"margin\":[0,0,0,0],\"name\":\"Row02610\",\"tags\":[\"embedded\"]},\"id\":\"1930\",\"type\":\"Row\"},{\"attributes\":{},\"id\":\"1987\",\"type\":\"UnionRenderers\"},{\"attributes\":{\"axis\":{\"id\":\"1946\"},\"grid_line_color\":null,\"ticker\":null},\"id\":\"1949\",\"type\":\"Grid\"},{\"attributes\":{\"source\":{\"id\":\"1974\"}},\"id\":\"1981\",\"type\":\"CDSView\"},{\"attributes\":{\"label\":{\"value\":\"tvlUSD\"},\"renderers\":[{\"id\":\"2039\"}]},\"id\":\"2064\",\"type\":\"LegendItem\"},{\"attributes\":{\"line_alpha\":0.1,\"line_color\":\"#30a2da\",\"line_width\":2,\"x\":{\"field\":\"timestamp\"},\"y\":{\"field\":\"value\"}},\"id\":\"1978\",\"type\":\"Line\"},{\"attributes\":{\"axis\":{\"id\":\"1950\"},\"dimension\":1,\"grid_line_color\":null,\"ticker\":null},\"id\":\"1953\",\"type\":\"Grid\"},{\"attributes\":{\"line_alpha\":0.2,\"line_color\":\"#fc4f30\",\"line_width\":2,\"x\":{\"field\":\"timestamp\"},\"y\":{\"field\":\"value\"}},\"id\":\"2008\",\"type\":\"Line\"},{\"attributes\":{},\"id\":\"1999\",\"type\":\"YearsTicker\"},{\"attributes\":{\"click_policy\":\"mute\",\"items\":[{\"id\":\"2002\"},{\"id\":\"2032\"},{\"id\":\"2064\"}],\"location\":[0,0],\"title\":\"Variable\"},\"id\":\"2001\",\"type\":\"Legend\"},{\"attributes\":{},\"id\":\"1951\",\"type\":\"BasicTicker\"},{\"attributes\":{\"margin\":[5,5,5,5],\"name\":\"HSpacer02614\",\"sizing_mode\":\"stretch_width\"},\"id\":\"1931\",\"type\":\"Spacer\"},{\"attributes\":{},\"id\":\"2004\",\"type\":\"Selection\"},{\"attributes\":{\"source\":{\"id\":\"2003\"}},\"id\":\"2010\",\"type\":\"CDSView\"},{\"attributes\":{\"callback\":null,\"formatters\":{\"@{timestamp}\":\"datetime\"},\"renderers\":[{\"id\":\"1980\"},{\"id\":\"2009\"},{\"id\":\"2039\"}],\"tags\":[\"hv_created\"],\"tooltips\":[[\"Variable\",\"@{Variable}\"],[\"timestamp\",\"@{timestamp}{%F %T}\"],[\"value\",\"@{value}\"]]},\"id\":\"1934\",\"type\":\"HoverTool\"},{\"attributes\":{\"label\":{\"value\":\"DAI\"},\"renderers\":[{\"id\":\"1980\"}]},\"id\":\"2002\",\"type\":\"LegendItem\"},{\"attributes\":{},\"id\":\"2018\",\"type\":\"UnionRenderers\"},{\"attributes\":{\"line_color\":\"#e5ae38\",\"line_width\":2,\"x\":{\"field\":\"timestamp\"},\"y\":{\"field\":\"value\"}},\"id\":\"2036\",\"type\":\"Line\"},{\"attributes\":{\"data_source\":{\"id\":\"2033\"},\"glyph\":{\"id\":\"2036\"},\"hover_glyph\":null,\"muted_glyph\":{\"id\":\"2038\"},\"nonselection_glyph\":{\"id\":\"2037\"},\"selection_glyph\":null,\"view\":{\"id\":\"2040\"}},\"id\":\"2039\",\"type\":\"GlyphRenderer\"},{\"attributes\":{\"label\":{\"value\":\"tvlETH\"},\"renderers\":[{\"id\":\"2009\"}]},\"id\":\"2032\",\"type\":\"LegendItem\"},{\"attributes\":{},\"id\":\"1954\",\"type\":\"SaveTool\"},{\"attributes\":{},\"id\":\"1955\",\"type\":\"PanTool\"},{\"attributes\":{\"below\":[{\"id\":\"1946\"}],\"center\":[{\"id\":\"1949\"},{\"id\":\"1953\"}],\"left\":[{\"id\":\"1950\"}],\"margin\":[5,5,5,5],\"min_border_bottom\":10,\"min_border_left\":10,\"min_border_right\":10,\"min_border_top\":10,\"plot_height\":300,\"plot_width\":700,\"renderers\":[{\"id\":\"1980\"},{\"id\":\"2009\"},{\"id\":\"2039\"}],\"right\":[{\"id\":\"2001\"}],\"sizing_mode\":\"fixed\",\"title\":{\"id\":\"1938\"},\"toolbar\":{\"id\":\"1960\"},\"x_range\":{\"id\":\"1932\"},\"x_scale\":{\"id\":\"1942\"},\"y_range\":{\"id\":\"1933\"},\"y_scale\":{\"id\":\"1944\"}},\"id\":\"1937\",\"subtype\":\"Figure\",\"type\":\"Plot\"},{\"attributes\":{\"data\":{\"Variable\":[\"tvlUSD\",\"tvlUSD\",\"tvlUSD\",\"tvlUSD\",\"tvlUSD\",\"tvlUSD\",\"tvlUSD\",\"tvlUSD\",\"tvlUSD\",\"tvlUSD\",\"tvlUSD\",\"tvlUSD\",\"tvlUSD\",\"tvlUSD\",\"tvlUSD\",\"tvlUSD\",\"tvlUSD\",\"tvlUSD\",\"tvlUSD\",\"tvlUSD\",\"tvlUSD\",\"tvlUSD\",\"tvlUSD\",\"tvlUSD\",\"tvlUSD\",\"tvlUSD\",\"tvlUSD\",\"tvlUSD\",\"tvlUSD\",\"tvlUSD\",\"tvlUSD\",\"tvlUSD\",\"tvlUSD\",\"tvlUSD\",\"tvlUSD\",\"tvlUSD\",\"tvlUSD\",\"tvlUSD\",\"tvlUSD\",\"tvlUSD\",\"tvlUSD\",\"tvlUSD\",\"tvlUSD\",\"tvlUSD\",\"tvlUSD\",\"tvlUSD\",\"tvlUSD\",\"tvlUSD\",\"tvlUSD\",\"tvlUSD\",\"tvlUSD\",\"tvlUSD\",\"tvlUSD\",\"tvlUSD\",\"tvlUSD\",\"tvlUSD\",\"tvlUSD\",\"tvlUSD\",\"tvlUSD\",\"tvlUSD\",\"tvlUSD\",\"tvlUSD\",\"tvlUSD\",\"tvlUSD\",\"tvlUSD\",\"tvlUSD\",\"tvlUSD\",\"tvlUSD\",\"tvlUSD\",\"tvlUSD\",\"tvlUSD\",\"tvlUSD\",\"tvlUSD\",\"tvlUSD\",\"tvlUSD\",\"tvlUSD\",\"tvlUSD\",\"tvlUSD\",\"tvlUSD\",\"tvlUSD\",\"tvlUSD\",\"tvlUSD\",\"tvlUSD\",\"tvlUSD\",\"tvlUSD\",\"tvlUSD\",\"tvlUSD\",\"tvlUSD\",\"tvlUSD\",\"tvlUSD\",\"tvlUSD\",\"tvlUSD\",\"tvlUSD\",\"tvlUSD\",\"tvlUSD\",\"tvlUSD\",\"tvlUSD\",\"tvlUSD\",\"tvlUSD\",\"tvlUSD\",\"tvlUSD\",\"tvlUSD\",\"tvlUSD\",\"tvlUSD\",\"tvlUSD\",\"tvlUSD\",\"tvlUSD\",\"tvlUSD\",\"tvlUSD\",\"tvlUSD\",\"tvlUSD\",\"tvlUSD\",\"tvlUSD\",\"tvlUSD\",\"tvlUSD\",\"tvlUSD\",\"tvlUSD\",\"tvlUSD\",\"tvlUSD\",\"tvlUSD\",\"tvlUSD\",\"tvlUSD\",\"tvlUSD\",\"tvlUSD\",\"tvlUSD\",\"tvlUSD\",\"tvlUSD\",\"tvlUSD\",\"tvlUSD\",\"tvlUSD\",\"tvlUSD\",\"tvlUSD\",\"tvlUSD\",\"tvlUSD\",\"tvlUSD\",\"tvlUSD\",\"tvlUSD\",\"tvlUSD\",\"tvlUSD\",\"tvlUSD\",\"tvlUSD\",\"tvlUSD\",\"tvlUSD\",\"tvlUSD\",\"tvlUSD\",\"tvlUSD\",\"tvlUSD\",\"tvlUSD\",\"tvlUSD\",\"tvlUSD\",\"tvlUSD\",\"tvlUSD\",\"tvlUSD\",\"tvlUSD\",\"tvlUSD\",\"tvlUSD\",\"tvlUSD\",\"tvlUSD\",\"tvlUSD\",\"tvlUSD\",\"tvlUSD\",\"tvlUSD\",\"tvlUSD\",\"tvlUSD\",\"tvlUSD\",\"tvlUSD\",\"tvlUSD\",\"tvlUSD\",\"tvlUSD\",\"tvlUSD\",\"tvlUSD\",\"tvlUSD\",\"tvlUSD\",\"tvlUSD\",\"tvlUSD\",\"tvlUSD\",\"tvlUSD\",\"tvlUSD\",\"tvlUSD\",\"tvlUSD\",\"tvlUSD\",\"tvlUSD\",\"tvlUSD\",\"tvlUSD\",\"tvlUSD\",\"tvlUSD\",\"tvlUSD\",\"tvlUSD\",\"tvlUSD\",\"tvlUSD\",\"tvlUSD\",\"tvlUSD\",\"tvlUSD\",\"tvlUSD\",\"tvlUSD\",\"tvlUSD\",\"tvlUSD\",\"tvlUSD\",\"tvlUSD\",\"tvlUSD\",\"tvlUSD\",\"tvlUSD\",\"tvlUSD\",\"tvlUSD\",\"tvlUSD\",\"tvlUSD\",\"tvlUSD\",\"tvlUSD\",\"tvlUSD\",\"tvlUSD\",\"tvlUSD\",\"tvlUSD\",\"tvlUSD\",\"tvlUSD\",\"tvlUSD\",\"tvlUSD\",\"tvlUSD\",\"tvlUSD\",\"tvlUSD\",\"tvlUSD\",\"tvlUSD\",\"tvlUSD\",\"tvlUSD\",\"tvlUSD\",\"tvlUSD\",\"tvlUSD\",\"tvlUSD\",\"tvlUSD\",\"tvlUSD\",\"tvlUSD\",\"tvlUSD\",\"tvlUSD\",\"tvlUSD\",\"tvlUSD\",\"tvlUSD\",\"tvlUSD\",\"tvlUSD\",\"tvlUSD\",\"tvlUSD\",\"tvlUSD\",\"tvlUSD\",\"tvlUSD\",\"tvlUSD\",\"tvlUSD\",\"tvlUSD\",\"tvlUSD\",\"tvlUSD\",\"tvlUSD\",\"tvlUSD\",\"tvlUSD\",\"tvlUSD\",\"tvlUSD\",\"tvlUSD\",\"tvlUSD\",\"tvlUSD\",\"tvlUSD\",\"tvlUSD\",\"tvlUSD\",\"tvlUSD\",\"tvlUSD\",\"tvlUSD\",\"tvlUSD\",\"tvlUSD\",\"tvlUSD\",\"tvlUSD\",\"tvlUSD\",\"tvlUSD\",\"tvlUSD\",\"tvlUSD\",\"tvlUSD\",\"tvlUSD\",\"tvlUSD\",\"tvlUSD\",\"tvlUSD\",\"tvlUSD\",\"tvlUSD\",\"tvlUSD\",\"tvlUSD\",\"tvlUSD\",\"tvlUSD\",\"tvlUSD\",\"tvlUSD\",\"tvlUSD\",\"tvlUSD\",\"tvlUSD\",\"tvlUSD\",\"tvlUSD\",\"tvlUSD\",\"tvlUSD\",\"tvlUSD\",\"tvlUSD\",\"tvlUSD\",\"tvlUSD\",\"tvlUSD\",\"tvlUSD\",\"tvlUSD\",\"tvlUSD\",\"tvlUSD\",\"tvlUSD\",\"tvlUSD\",\"tvlUSD\",\"tvlUSD\",\"tvlUSD\",\"tvlUSD\",\"tvlUSD\",\"tvlUSD\",\"tvlUSD\",\"tvlUSD\",\"tvlUSD\",\"tvlUSD\",\"tvlUSD\",\"tvlUSD\",\"tvlUSD\",\"tvlUSD\",\"tvlUSD\",\"tvlUSD\",\"tvlUSD\",\"tvlUSD\",\"tvlUSD\",\"tvlUSD\",\"tvlUSD\",\"tvlUSD\",\"tvlUSD\",\"tvlUSD\",\"tvlUSD\",\"tvlUSD\",\"tvlUSD\",\"tvlUSD\",\"tvlUSD\",\"tvlUSD\",\"tvlUSD\",\"tvlUSD\",\"tvlUSD\",\"tvlUSD\",\"tvlUSD\",\"tvlUSD\",\"tvlUSD\",\"tvlUSD\",\"tvlUSD\",\"tvlUSD\",\"tvlUSD\",\"tvlUSD\",\"tvlUSD\",\"tvlUSD\",\"tvlUSD\",\"tvlUSD\",\"tvlUSD\",\"tvlUSD\",\"tvlUSD\",\"tvlUSD\",\"tvlUSD\",\"tvlUSD\",\"tvlUSD\",\"tvlUSD\",\"tvlUSD\",\"tvlUSD\",\"tvlUSD\",\"tvlUSD\",\"tvlUSD\",\"tvlUSD\",\"tvlUSD\",\"tvlUSD\",\"tvlUSD\",\"tvlUSD\",\"tvlUSD\",\"tvlUSD\",\"tvlUSD\",\"tvlUSD\",\"tvlUSD\",\"tvlUSD\",\"tvlUSD\",\"tvlUSD\",\"tvlUSD\",\"tvlUSD\",\"tvlUSD\",\"tvlUSD\",\"tvlUSD\",\"tvlUSD\",\"tvlUSD\",\"tvlUSD\",\"tvlUSD\",\"tvlUSD\",\"tvlUSD\",\"tvlUSD\",\"tvlUSD\",\"tvlUSD\",\"tvlUSD\",\"tvlUSD\",\"tvlUSD\",\"tvlUSD\",\"tvlUSD\",\"tvlUSD\",\"tvlUSD\",\"tvlUSD\",\"tvlUSD\",\"tvlUSD\",\"tvlUSD\",\"tvlUSD\",\"tvlUSD\",\"tvlUSD\",\"tvlUSD\",\"tvlUSD\",\"tvlUSD\",\"tvlUSD\",\"tvlUSD\",\"tvlUSD\",\"tvlUSD\",\"tvlUSD\",\"tvlUSD\",\"tvlUSD\",\"tvlUSD\",\"tvlUSD\",\"tvlUSD\",\"tvlUSD\",\"tvlUSD\",\"tvlUSD\",\"tvlUSD\",\"tvlUSD\",\"tvlUSD\",\"tvlUSD\",\"tvlUSD\",\"tvlUSD\",\"tvlUSD\",\"tvlUSD\",\"tvlUSD\",\"tvlUSD\",\"tvlUSD\",\"tvlUSD\",\"tvlUSD\",\"tvlUSD\",\"tvlUSD\",\"tvlUSD\",\"tvlUSD\",\"tvlUSD\",\"tvlUSD\",\"tvlUSD\",\"tvlUSD\",\"tvlUSD\",\"tvlUSD\",\"tvlUSD\",\"tvlUSD\",\"tvlUSD\",\"tvlUSD\",\"tvlUSD\",\"tvlUSD\",\"tvlUSD\",\"tvlUSD\",\"tvlUSD\",\"tvlUSD\",\"tvlUSD\",\"tvlUSD\",\"tvlUSD\",\"tvlUSD\",\"tvlUSD\",\"tvlUSD\",\"tvlUSD\",\"tvlUSD\",\"tvlUSD\",\"tvlUSD\",\"tvlUSD\",\"tvlUSD\",\"tvlUSD\",\"tvlUSD\",\"tvlUSD\",\"tvlUSD\",\"tvlUSD\",\"tvlUSD\",\"tvlUSD\",\"tvlUSD\",\"tvlUSD\",\"tvlUSD\",\"tvlUSD\",\"tvlUSD\",\"tvlUSD\",\"tvlUSD\",\"tvlUSD\",\"tvlUSD\",\"tvlUSD\",\"tvlUSD\",\"tvlUSD\",\"tvlUSD\",\"tvlUSD\",\"tvlUSD\",\"tvlUSD\",\"tvlUSD\",\"tvlUSD\",\"tvlUSD\",\"tvlUSD\",\"tvlUSD\",\"tvlUSD\",\"tvlUSD\",\"tvlUSD\",\"tvlUSD\",\"tvlUSD\",\"tvlUSD\",\"tvlUSD\",\"tvlUSD\",\"tvlUSD\",\"tvlUSD\",\"tvlUSD\",\"tvlUSD\",\"tvlUSD\",\"tvlUSD\",\"tvlUSD\",\"tvlUSD\",\"tvlUSD\",\"tvlUSD\",\"tvlUSD\",\"tvlUSD\",\"tvlUSD\",\"tvlUSD\",\"tvlUSD\",\"tvlUSD\",\"tvlUSD\",\"tvlUSD\",\"tvlUSD\",\"tvlUSD\",\"tvlUSD\",\"tvlUSD\",\"tvlUSD\",\"tvlUSD\",\"tvlUSD\",\"tvlUSD\",\"tvlUSD\",\"tvlUSD\",\"tvlUSD\",\"tvlUSD\",\"tvlUSD\",\"tvlUSD\",\"tvlUSD\",\"tvlUSD\",\"tvlUSD\",\"tvlUSD\",\"tvlUSD\",\"tvlUSD\",\"tvlUSD\",\"tvlUSD\",\"tvlUSD\",\"tvlUSD\",\"tvlUSD\",\"tvlUSD\",\"tvlUSD\",\"tvlUSD\",\"tvlUSD\",\"tvlUSD\",\"tvlUSD\",\"tvlUSD\",\"tvlUSD\",\"tvlUSD\",\"tvlUSD\",\"tvlUSD\",\"tvlUSD\",\"tvlUSD\",\"tvlUSD\",\"tvlUSD\",\"tvlUSD\",\"tvlUSD\",\"tvlUSD\",\"tvlUSD\",\"tvlUSD\",\"tvlUSD\",\"tvlUSD\",\"tvlUSD\",\"tvlUSD\",\"tvlUSD\",\"tvlUSD\",\"tvlUSD\",\"tvlUSD\",\"tvlUSD\",\"tvlUSD\",\"tvlUSD\",\"tvlUSD\",\"tvlUSD\",\"tvlUSD\",\"tvlUSD\",\"tvlUSD\",\"tvlUSD\",\"tvlUSD\",\"tvlUSD\",\"tvlUSD\",\"tvlUSD\",\"tvlUSD\",\"tvlUSD\",\"tvlUSD\",\"tvlUSD\",\"tvlUSD\",\"tvlUSD\",\"tvlUSD\",\"tvlUSD\",\"tvlUSD\",\"tvlUSD\",\"tvlUSD\",\"tvlUSD\",\"tvlUSD\",\"tvlUSD\",\"tvlUSD\",\"tvlUSD\",\"tvlUSD\",\"tvlUSD\",\"tvlUSD\",\"tvlUSD\",\"tvlUSD\",\"tvlUSD\",\"tvlUSD\",\"tvlUSD\",\"tvlUSD\",\"tvlUSD\",\"tvlUSD\",\"tvlUSD\",\"tvlUSD\",\"tvlUSD\",\"tvlUSD\",\"tvlUSD\",\"tvlUSD\",\"tvlUSD\",\"tvlUSD\",\"tvlUSD\",\"tvlUSD\",\"tvlUSD\",\"tvlUSD\",\"tvlUSD\",\"tvlUSD\",\"tvlUSD\",\"tvlUSD\",\"tvlUSD\",\"tvlUSD\",\"tvlUSD\",\"tvlUSD\",\"tvlUSD\",\"tvlUSD\",\"tvlUSD\",\"tvlUSD\",\"tvlUSD\",\"tvlUSD\",\"tvlUSD\",\"tvlUSD\",\"tvlUSD\",\"tvlUSD\",\"tvlUSD\",\"tvlUSD\",\"tvlUSD\",\"tvlUSD\",\"tvlUSD\",\"tvlUSD\",\"tvlUSD\",\"tvlUSD\",\"tvlUSD\",\"tvlUSD\",\"tvlUSD\",\"tvlUSD\",\"tvlUSD\",\"tvlUSD\",\"tvlUSD\",\"tvlUSD\",\"tvlUSD\",\"tvlUSD\",\"tvlUSD\",\"tvlUSD\",\"tvlUSD\",\"tvlUSD\",\"tvlUSD\",\"tvlUSD\",\"tvlUSD\",\"tvlUSD\",\"tvlUSD\",\"tvlUSD\",\"tvlUSD\",\"tvlUSD\",\"tvlUSD\",\"tvlUSD\",\"tvlUSD\",\"tvlUSD\",\"tvlUSD\",\"tvlUSD\",\"tvlUSD\",\"tvlUSD\",\"tvlUSD\",\"tvlUSD\",\"tvlUSD\",\"tvlUSD\",\"tvlUSD\",\"tvlUSD\",\"tvlUSD\",\"tvlUSD\",\"tvlUSD\",\"tvlUSD\",\"tvlUSD\",\"tvlUSD\",\"tvlUSD\",\"tvlUSD\",\"tvlUSD\",\"tvlUSD\",\"tvlUSD\",\"tvlUSD\",\"tvlUSD\",\"tvlUSD\",\"tvlUSD\",\"tvlUSD\",\"tvlUSD\",\"tvlUSD\",\"tvlUSD\",\"tvlUSD\",\"tvlUSD\",\"tvlUSD\",\"tvlUSD\",\"tvlUSD\",\"tvlUSD\",\"tvlUSD\",\"tvlUSD\",\"tvlUSD\",\"tvlUSD\",\"tvlUSD\",\"tvlUSD\",\"tvlUSD\",\"tvlUSD\",\"tvlUSD\",\"tvlUSD\",\"tvlUSD\",\"tvlUSD\",\"tvlUSD\",\"tvlUSD\",\"tvlUSD\",\"tvlUSD\",\"tvlUSD\",\"tvlUSD\",\"tvlUSD\",\"tvlUSD\",\"tvlUSD\",\"tvlUSD\",\"tvlUSD\",\"tvlUSD\",\"tvlUSD\",\"tvlUSD\",\"tvlUSD\",\"tvlUSD\",\"tvlUSD\",\"tvlUSD\",\"tvlUSD\",\"tvlUSD\",\"tvlUSD\",\"tvlUSD\",\"tvlUSD\",\"tvlUSD\",\"tvlUSD\",\"tvlUSD\",\"tvlUSD\",\"tvlUSD\",\"tvlUSD\",\"tvlUSD\",\"tvlUSD\",\"tvlUSD\",\"tvlUSD\",\"tvlUSD\",\"tvlUSD\",\"tvlUSD\",\"tvlUSD\",\"tvlUSD\",\"tvlUSD\",\"tvlUSD\",\"tvlUSD\",\"tvlUSD\",\"tvlUSD\",\"tvlUSD\",\"tvlUSD\",\"tvlUSD\",\"tvlUSD\",\"tvlUSD\",\"tvlUSD\",\"tvlUSD\",\"tvlUSD\",\"tvlUSD\",\"tvlUSD\",\"tvlUSD\",\"tvlUSD\",\"tvlUSD\",\"tvlUSD\",\"tvlUSD\",\"tvlUSD\",\"tvlUSD\",\"tvlUSD\",\"tvlUSD\",\"tvlUSD\",\"tvlUSD\",\"tvlUSD\",\"tvlUSD\",\"tvlUSD\",\"tvlUSD\",\"tvlUSD\",\"tvlUSD\",\"tvlUSD\",\"tvlUSD\",\"tvlUSD\",\"tvlUSD\",\"tvlUSD\",\"tvlUSD\",\"tvlUSD\",\"tvlUSD\",\"tvlUSD\",\"tvlUSD\",\"tvlUSD\",\"tvlUSD\",\"tvlUSD\",\"tvlUSD\",\"tvlUSD\",\"tvlUSD\",\"tvlUSD\",\"tvlUSD\",\"tvlUSD\",\"tvlUSD\",\"tvlUSD\",\"tvlUSD\",\"tvlUSD\",\"tvlUSD\",\"tvlUSD\",\"tvlUSD\",\"tvlUSD\",\"tvlUSD\",\"tvlUSD\",\"tvlUSD\",\"tvlUSD\",\"tvlUSD\",\"tvlUSD\",\"tvlUSD\",\"tvlUSD\",\"tvlUSD\",\"tvlUSD\",\"tvlUSD\",\"tvlUSD\",\"tvlUSD\",\"tvlUSD\",\"tvlUSD\",\"tvlUSD\",\"tvlUSD\",\"tvlUSD\",\"tvlUSD\",\"tvlUSD\",\"tvlUSD\",\"tvlUSD\",\"tvlUSD\",\"tvlUSD\",\"tvlUSD\",\"tvlUSD\",\"tvlUSD\",\"tvlUSD\",\"tvlUSD\",\"tvlUSD\",\"tvlUSD\",\"tvlUSD\",\"tvlUSD\",\"tvlUSD\",\"tvlUSD\",\"tvlUSD\",\"tvlUSD\",\"tvlUSD\",\"tvlUSD\",\"tvlUSD\",\"tvlUSD\",\"tvlUSD\",\"tvlUSD\",\"tvlUSD\",\"tvlUSD\",\"tvlUSD\",\"tvlUSD\",\"tvlUSD\",\"tvlUSD\",\"tvlUSD\",\"tvlUSD\",\"tvlUSD\",\"tvlUSD\",\"tvlUSD\",\"tvlUSD\",\"tvlUSD\",\"tvlUSD\",\"tvlUSD\",\"tvlUSD\",\"tvlUSD\",\"tvlUSD\",\"tvlUSD\",\"tvlUSD\",\"tvlUSD\",\"tvlUSD\",\"tvlUSD\",\"tvlUSD\",\"tvlUSD\",\"tvlUSD\",\"tvlUSD\",\"tvlUSD\",\"tvlUSD\",\"tvlUSD\",\"tvlUSD\",\"tvlUSD\",\"tvlUSD\",\"tvlUSD\",\"tvlUSD\",\"tvlUSD\",\"tvlUSD\",\"tvlUSD\",\"tvlUSD\",\"tvlUSD\",\"tvlUSD\",\"tvlUSD\",\"tvlUSD\",\"tvlUSD\",\"tvlUSD\",\"tvlUSD\",\"tvlUSD\",\"tvlUSD\",\"tvlUSD\",\"tvlUSD\",\"tvlUSD\",\"tvlUSD\",\"tvlUSD\",\"tvlUSD\",\"tvlUSD\",\"tvlUSD\",\"tvlUSD\",\"tvlUSD\",\"tvlUSD\",\"tvlUSD\",\"tvlUSD\",\"tvlUSD\",\"tvlUSD\",\"tvlUSD\",\"tvlUSD\",\"tvlUSD\",\"tvlUSD\",\"tvlUSD\",\"tvlUSD\",\"tvlUSD\",\"tvlUSD\",\"tvlUSD\",\"tvlUSD\",\"tvlUSD\",\"tvlUSD\",\"tvlUSD\",\"tvlUSD\",\"tvlUSD\",\"tvlUSD\",\"tvlUSD\",\"tvlUSD\",\"tvlUSD\",\"tvlUSD\",\"tvlUSD\",\"tvlUSD\",\"tvlUSD\",\"tvlUSD\",\"tvlUSD\",\"tvlUSD\",\"tvlUSD\",\"tvlUSD\",\"tvlUSD\",\"tvlUSD\",\"tvlUSD\",\"tvlUSD\",\"tvlUSD\",\"tvlUSD\",\"tvlUSD\",\"tvlUSD\",\"tvlUSD\",\"tvlUSD\",\"tvlUSD\",\"tvlUSD\",\"tvlUSD\",\"tvlUSD\",\"tvlUSD\",\"tvlUSD\",\"tvlUSD\",\"tvlUSD\",\"tvlUSD\",\"tvlUSD\",\"tvlUSD\",\"tvlUSD\",\"tvlUSD\",\"tvlUSD\",\"tvlUSD\",\"tvlUSD\",\"tvlUSD\",\"tvlUSD\",\"tvlUSD\",\"tvlUSD\",\"tvlUSD\",\"tvlUSD\",\"tvlUSD\",\"tvlUSD\",\"tvlUSD\",\"tvlUSD\",\"tvlUSD\",\"tvlUSD\",\"tvlUSD\",\"tvlUSD\",\"tvlUSD\",\"tvlUSD\",\"tvlUSD\",\"tvlUSD\",\"tvlUSD\",\"tvlUSD\",\"tvlUSD\",\"tvlUSD\",\"tvlUSD\",\"tvlUSD\",\"tvlUSD\",\"tvlUSD\",\"tvlUSD\",\"tvlUSD\",\"tvlUSD\",\"tvlUSD\",\"tvlUSD\",\"tvlUSD\",\"tvlUSD\",\"tvlUSD\",\"tvlUSD\",\"tvlUSD\",\"tvlUSD\",\"tvlUSD\",\"tvlUSD\",\"tvlUSD\",\"tvlUSD\",\"tvlUSD\",\"tvlUSD\",\"tvlUSD\",\"tvlUSD\",\"tvlUSD\",\"tvlUSD\",\"tvlUSD\",\"tvlUSD\",\"tvlUSD\",\"tvlUSD\",\"tvlUSD\",\"tvlUSD\",\"tvlUSD\",\"tvlUSD\",\"tvlUSD\",\"tvlUSD\",\"tvlUSD\",\"tvlUSD\",\"tvlUSD\",\"tvlUSD\",\"tvlUSD\",\"tvlUSD\",\"tvlUSD\",\"tvlUSD\",\"tvlUSD\",\"tvlUSD\",\"tvlUSD\",\"tvlUSD\",\"tvlUSD\",\"tvlUSD\",\"tvlUSD\",\"tvlUSD\",\"tvlUSD\",\"tvlUSD\",\"tvlUSD\",\"tvlUSD\",\"tvlUSD\",\"tvlUSD\",\"tvlUSD\",\"tvlUSD\",\"tvlUSD\",\"tvlUSD\",\"tvlUSD\",\"tvlUSD\",\"tvlUSD\",\"tvlUSD\",\"tvlUSD\",\"tvlUSD\",\"tvlUSD\",\"tvlUSD\",\"tvlUSD\",\"tvlUSD\",\"tvlUSD\",\"tvlUSD\",\"tvlUSD\",\"tvlUSD\",\"tvlUSD\",\"tvlUSD\",\"tvlUSD\",\"tvlUSD\",\"tvlUSD\",\"tvlUSD\",\"tvlUSD\",\"tvlUSD\",\"tvlUSD\",\"tvlUSD\",\"tvlUSD\",\"tvlUSD\",\"tvlUSD\",\"tvlUSD\",\"tvlUSD\",\"tvlUSD\",\"tvlUSD\",\"tvlUSD\",\"tvlUSD\",\"tvlUSD\",\"tvlUSD\",\"tvlUSD\",\"tvlUSD\",\"tvlUSD\",\"tvlUSD\",\"tvlUSD\",\"tvlUSD\",\"tvlUSD\",\"tvlUSD\",\"tvlUSD\",\"tvlUSD\",\"tvlUSD\",\"tvlUSD\",\"tvlUSD\",\"tvlUSD\",\"tvlUSD\",\"tvlUSD\",\"tvlUSD\",\"tvlUSD\",\"tvlUSD\",\"tvlUSD\",\"tvlUSD\",\"tvlUSD\",\"tvlUSD\",\"tvlUSD\",\"tvlUSD\",\"tvlUSD\",\"tvlUSD\",\"tvlUSD\",\"tvlUSD\",\"tvlUSD\",\"tvlUSD\",\"tvlUSD\",\"tvlUSD\",\"tvlUSD\",\"tvlUSD\",\"tvlUSD\",\"tvlUSD\",\"tvlUSD\",\"tvlUSD\",\"tvlUSD\",\"tvlUSD\",\"tvlUSD\",\"tvlUSD\",\"tvlUSD\",\"tvlUSD\",\"tvlUSD\",\"tvlUSD\",\"tvlUSD\",\"tvlUSD\",\"tvlUSD\",\"tvlUSD\",\"tvlUSD\",\"tvlUSD\",\"tvlUSD\",\"tvlUSD\",\"tvlUSD\",\"tvlUSD\",\"tvlUSD\",\"tvlUSD\",\"tvlUSD\",\"tvlUSD\",\"tvlUSD\",\"tvlUSD\",\"tvlUSD\",\"tvlUSD\",\"tvlUSD\",\"tvlUSD\",\"tvlUSD\",\"tvlUSD\",\"tvlUSD\",\"tvlUSD\",\"tvlUSD\",\"tvlUSD\",\"tvlUSD\",\"tvlUSD\",\"tvlUSD\",\"tvlUSD\",\"tvlUSD\",\"tvlUSD\",\"tvlUSD\",\"tvlUSD\",\"tvlUSD\",\"tvlUSD\",\"tvlUSD\",\"tvlUSD\",\"tvlUSD\",\"tvlUSD\",\"tvlUSD\",\"tvlUSD\",\"tvlUSD\",\"tvlUSD\",\"tvlUSD\",\"tvlUSD\",\"tvlUSD\",\"tvlUSD\",\"tvlUSD\",\"tvlUSD\",\"tvlUSD\",\"tvlUSD\",\"tvlUSD\",\"tvlUSD\",\"tvlUSD\",\"tvlUSD\",\"tvlUSD\",\"tvlUSD\",\"tvlUSD\",\"tvlUSD\",\"tvlUSD\",\"tvlUSD\",\"tvlUSD\",\"tvlUSD\",\"tvlUSD\",\"tvlUSD\",\"tvlUSD\",\"tvlUSD\",\"tvlUSD\",\"tvlUSD\",\"tvlUSD\",\"tvlUSD\",\"tvlUSD\",\"tvlUSD\",\"tvlUSD\",\"tvlUSD\",\"tvlUSD\",\"tvlUSD\",\"tvlUSD\",\"tvlUSD\",\"tvlUSD\",\"tvlUSD\",\"tvlUSD\",\"tvlUSD\",\"tvlUSD\",\"tvlUSD\",\"tvlUSD\",\"tvlUSD\",\"tvlUSD\",\"tvlUSD\",\"tvlUSD\",\"tvlUSD\",\"tvlUSD\",\"tvlUSD\",\"tvlUSD\",\"tvlUSD\",\"tvlUSD\",\"tvlUSD\",\"tvlUSD\",\"tvlUSD\",\"tvlUSD\",\"tvlUSD\",\"tvlUSD\",\"tvlUSD\",\"tvlUSD\",\"tvlUSD\",\"tvlUSD\",\"tvlUSD\",\"tvlUSD\",\"tvlUSD\",\"tvlUSD\",\"tvlUSD\",\"tvlUSD\",\"tvlUSD\",\"tvlUSD\",\"tvlUSD\",\"tvlUSD\",\"tvlUSD\",\"tvlUSD\",\"tvlUSD\",\"tvlUSD\",\"tvlUSD\",\"tvlUSD\",\"tvlUSD\",\"tvlUSD\",\"tvlUSD\",\"tvlUSD\",\"tvlUSD\",\"tvlUSD\",\"tvlUSD\",\"tvlUSD\",\"tvlUSD\",\"tvlUSD\",\"tvlUSD\",\"tvlUSD\",\"tvlUSD\",\"tvlUSD\",\"tvlUSD\",\"tvlUSD\",\"tvlUSD\",\"tvlUSD\",\"tvlUSD\",\"tvlUSD\",\"tvlUSD\",\"tvlUSD\",\"tvlUSD\",\"tvlUSD\",\"tvlUSD\",\"tvlUSD\",\"tvlUSD\",\"tvlUSD\",\"tvlUSD\",\"tvlUSD\",\"tvlUSD\",\"tvlUSD\",\"tvlUSD\",\"tvlUSD\",\"tvlUSD\",\"tvlUSD\",\"tvlUSD\",\"tvlUSD\",\"tvlUSD\",\"tvlUSD\",\"tvlUSD\",\"tvlUSD\",\"tvlUSD\",\"tvlUSD\",\"tvlUSD\",\"tvlUSD\",\"tvlUSD\",\"tvlUSD\",\"tvlUSD\",\"tvlUSD\",\"tvlUSD\",\"tvlUSD\",\"tvlUSD\",\"tvlUSD\",\"tvlUSD\",\"tvlUSD\",\"tvlUSD\",\"tvlUSD\",\"tvlUSD\",\"tvlUSD\",\"tvlUSD\",\"tvlUSD\",\"tvlUSD\",\"tvlUSD\",\"tvlUSD\",\"tvlUSD\",\"tvlUSD\",\"tvlUSD\",\"tvlUSD\",\"tvlUSD\",\"tvlUSD\",\"tvlUSD\",\"tvlUSD\",\"tvlUSD\",\"tvlUSD\",\"tvlUSD\",\"tvlUSD\",\"tvlUSD\",\"tvlUSD\",\"tvlUSD\",\"tvlUSD\",\"tvlUSD\",\"tvlUSD\",\"tvlUSD\",\"tvlUSD\",\"tvlUSD\",\"tvlUSD\",\"tvlUSD\",\"tvlUSD\",\"tvlUSD\",\"tvlUSD\",\"tvlUSD\",\"tvlUSD\",\"tvlUSD\",\"tvlUSD\",\"tvlUSD\",\"tvlUSD\",\"tvlUSD\",\"tvlUSD\",\"tvlUSD\",\"tvlUSD\",\"tvlUSD\",\"tvlUSD\",\"tvlUSD\",\"tvlUSD\",\"tvlUSD\",\"tvlUSD\",\"tvlUSD\",\"tvlUSD\",\"tvlUSD\",\"tvlUSD\",\"tvlUSD\",\"tvlUSD\",\"tvlUSD\",\"tvlUSD\",\"tvlUSD\",\"tvlUSD\",\"tvlUSD\",\"tvlUSD\",\"tvlUSD\",\"tvlUSD\",\"tvlUSD\",\"tvlUSD\",\"tvlUSD\",\"tvlUSD\",\"tvlUSD\",\"tvlUSD\",\"tvlUSD\",\"tvlUSD\",\"tvlUSD\",\"tvlUSD\",\"tvlUSD\",\"tvlUSD\",\"tvlUSD\",\"tvlUSD\",\"tvlUSD\",\"tvlUSD\",\"tvlUSD\",\"tvlUSD\",\"tvlUSD\",\"tvlUSD\",\"tvlUSD\",\"tvlUSD\"],\"timestamp\":{\"__ndarray__\":\"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\",\"dtype\":\"float64\",\"order\":\"little\",\"shape\":[1407]},\"value\":[0,4,4,5,5,5,5,5,5,6,6,6,6,5,6,5,5,5,5,5,6,5,1386,1355,1300,1365,1521,1531,1591,1647,1652,1516,1451,1141,684,723,745,698,679,649,632,2100574,2187923,1761431,1322049,1395519,1299343,1406269,1492881,1346872,1375273,1197336,1208691,1363800,1322087,1332142,1340764,1230081,1406365,1616384,2627295,1406890,1340804,1266586,4200506,4227210,1529506,1721351,1230356,1157661,1779275,2368811,2184832,1803655,1348483,4538303,4392076,4105398,3765240,3727645,3614010,3372824,3167783,2976913,3130369,3077011,2495857,2586193,2599813,2620378,2660420,2615404,2498818,2182976,2250921,2383687,2278501,2369142,2604644,2452697,2819162,2312229,1727079,1550713,1917241,1871145,1706140,6908299,6848192,7163984,7178571,7304792,7127275,7817731,8023171,8983722,8758371,8939618,8832017,8824505,8697058,8845547,9168312,8998308,9276538,9739269,11582730,10984395,10195547,10571618,11046204,10339780,11630174,13343930,13612594,13219941,13715902,14600775,15797364,20846431,24685057,29386938,30312295,28096734,30291023,31646081,40972890,41765822,43007119,44371099,48578456,45320142,48518175,50815621,56942145,63044139,71301491,73542908,78593372,87758898,89677700,103410300,95293222,88712830,98858837,103374935,99806389,88219997,71399412,74326033,75238286,78054938,85638433,77716764,75026171,75850735,80973666,79242602,78831535,82983347,89232298,83475721,77008937,78328314,72945655,68896116,71789512,61988724,57176760,65971481,65300967,70451708,82222365,79665163,77833965,82064851,82113672,90268949,96519516,98604963,102220287,97714894,99891414,93045466,88301085,85610279,90910790,89373648,92536272,98691300,99825253,98820460,103545997,103379499,102696576,104005391,100856136,96154942,89827949,83526322,85325813,82163637,85584130,83466548,81671089,76177207,77954914,77939406,72706836,69588405,74687687,75110273,76202390,74375836,74822899,72123558,72197504,67563427,64699277,64534583,60454750,67573072,66446158,65404640,68179506,72630318,69024749,70107146,68881346,71698905,74549899,75411934,79684901,85994827,101142114,102124287,104559325,109596066,106490164,106473264,113028841,123097085,133184099,130767036,134757182,142534136,152877574,140011691,149241031,152781395,163311364,163161811,156692266,157696272,162812040,178900895,180360136,186855019,180996674,174224263,176495675,176948323,172153067,163087860,165517449,177209232,176716559,171567791,172654087,165801316,172424873,174593522,178318713,172713587,159396651,141856366,149066738,145703377,146378643,143366445,134721771,155577525,153590379,160486751,161289757,165106770,172141386,165564313,170668400,170954358,170572303,168541466,164785463,147222751,154199817,145404054,143859403,154973225,146701753,149123768,148708599,154271507,159855247,160513659,155782164,140079561,142552371,156839697,156738044,148676936,152731150,151404933,181331022,189629827,192261833,206330008,201199595,201148116,199678657,200200600,206439565,207255771,187821325,174692638,183518500,178199538,180564600,184306210,191639918,205774418,213345335,207517242,202893479,195704666,201035235,200162073,198639099,209302726,205908268,203415278,206634790,206570838,206034861,196046601,192232034,187488159,183822817,186439572,182816751,184078439,182019699,169799074,169052859,175480266,163822820,164880229,166267346,156896201,155522792,158364913,162157007,181852154,166901716,169444920,157624090,164107148,157258194,162000470,168357612,167438517,165799021,174458547,179977135,175821755,172760720,171377063,181561342,180999875,175215901,172350784,140767634,137659327,139095514,138545111,145792039,153777841,153120229,156799495,180436801,179784064,191092152,189954707,174033502,184954799,186510085,199701062,218694935,213461887,216910076,203238993,200575746,197355567,211470309,206094673,215060917,216040494,214580839,210227627,206396608,208877812,215258867,212425901,214795892,218960888,217455566,215063358,186613086,195462606,198863758,195444806,212088456,211771222,210334396,205913739,206748910,209229203,208993243,208692331,215999701,216489610,215371503,218351107,218186015,220165891,213380009,214469213,216448995,218135619,220859553,219888118,231760311,230786515,246894599,245438936,240758670,239176614,243834855,243300308,243529044,239703938,216654257,225621365,224917674,226068387,229221134,203121694,190681809,204057328,192834147,189353694,175845372,188414029,179869155,188936063,210763069,203029686,195796440,205729915,202133410,189303822,192878314,178599540,156083721,170128132,168339797,175122523,168190301,164813011,169947043,161642292,156881409,157752572,160444942,178523156,192120961,192159715,222237115,213005836,235869769,265143814,285277636,266821048,272386300,241436593,287967333,286900209,294581517,278755910,297587827,326640689,312652923,324572717,321889391,325792494,311758666,309527921,310172054,264393363,262781300,260922294,243335651,275855578,258569204,267910305,269616997,263802444,273633372,265592138,262072735,265056057,262298185,266206886,262193696,263670089,254536736,241213188,239944383,250471747,246818257,247330943,258948027,250183650,250008160,250228890,246419956,246886955,279439092,281982195,295435767,282916380,288094787,288764397,285187962,288383383,291600945,316882999,343714660,339524744,350017714,344267830,352963369,377511078,317572284,332426187,329468769,327144622,328138758,330819928,326480410,320202212,311854663,339449294,342923905,341640576,335645873,344958872,340696141,335249182,337195858,333848969,334328790,347116639,356512085,357396814,354610067,356524013,358196406,345087753,345301426,348773944,343960301,339181961,340376817,354775401,350988892,364413816,363086678,361064699,361256789,417143436,406531576,400031974,422976743,423124254,448789212,460580036,447496548,454428246,421973616,421514142,420163860,430929780,407718579,423489945,425716790,440451395,439497630,431889596,422704911,426775170,422384528,411310332,382287581,390641959,391863742,389143369,382488931,402248404,394081858,397034610,409356608,400088648,396159319,416219227,405694930,408935761,404735666,407503681,447518010,443709734,459068306,504787826,566246757,554899630,512587183,493353986,547473542,523785518,523169506,499349257,502716060,511902647,513166043,544544791,542977816,525861322,520950511,491921379,519727431,512772975,522172090,486890806,471940607,481922645,486952139,490075672,479840700,457357205,487431461,483540597,516668487,500895485,517188921,525886221,526577473,536540410,519389663,527430312,531683534,576727160,602485157,593190887,598136409,599201244,619011282,549833460,576257128,587562183,537335676,549612227,547626768,572610526,540077799,549194944,550751550,582097072,595581776,587077937,551892827,517786278,529195796,518094082,443924440,454296766,405132408,444193718,474906502,464863529,481374082,476461714,447575049,430389311,438580250,442374894,447763113,424372889,432857986,435305189,434841768,451505408,448428584,449981885,459535203,461130122,480402014,458339412,462259896,452593660,459785756,456390854,476602244,466159528,467035857,430142188,447176689,443144252,450518428,470571344,489380402,479377516,463253813,474467609,480407442,472489904,464582778,470058229,473821574,449330513,444367971,450623982,459097022,457109646,474905369,478613209,475743455,472558661,460825375,480461702,491314238,490216567,489366612,487723836,498931164,499913210,514898633,524186462,541586986,564190322,572173540,595158869,586444306,581134367,574625977,546286330,463717373,477766969,480298553,506080337,509244674,497609106,517469016,507280627,524576978,507044279,513733444,520965106,498887282,520459046,527886328,563754037,564573153,535724309,540767112,544826508,556040121,537070823,528301302,541377818,528592003,533219451,541979431,541592522,534979761,531908415,537500541,597827719,588166412,607225068,602120951,627568139,608453110,603222878,608241372,613575903,606986934,627312991,636208659,649638108,639520840,635347603,643692654,644316836,640056359,646838731,647706053,638491398,630787883,642289206,662081300,645653288,654243548,663534586,626691673,621022607,636490280,610085869,644294076,651298193,675982983,667319679,676371557,672508129,653705687,656737943,662765380,647344367,651881659,659433755,667114055,673966173,671389589,656526697,660209141,661877208,669018461,664334386,665648277,650122438,615614346,666463425,656365891,671524239,674648072,689629094,670103188,667890290,663526464,659542632,666689956,674216415,698060798,680473465,676711576,692394389,663921359,690185059,695947054,698091546,702791843,720186489,698771355,683129610,717130766,697092415,719761837,737068081,814610804,814214565,815971883,847718137,859364921,832284059,823509201,843451570,843235063,813535481,810056455,813467939,842111186,862794790,899361759,882788843,933959893,914516509,931708248,937926654,940480794,955486232,1012257872,1039262420,1059474880,1063895740,1059409939,1052946117,1116772204,1206240644,1206287655,1281460278,1193988981,1181941852,1211647963,1249172042,1098756879,1094308574,1125342646,1116375942,1177825505,1125855262,1062425017,983131306,1019808862,1016499328,995615193,970935652,1031424023,991524443,1011743440,1011413111,1066463771,1046707279,907487817,949663654,930522988,910309813,571059402,674179247,607787311,596833794,545683538,556271979,571481532,634372039,622741452,666865409,589159976,634333638,654883475,648744654,671883699,650493786,651888516,634470099,637592799,675558238,691490769,711229828,712616880,724967894,721701988,799852211,768956650,789728862,779397193,736494899,742926614,748443516,739882554,752536156,728145463,795826838,793192421,844707361,809980464,779628137,778094328,821063381,807440287,819634398,837334134,837073358,867556748,868321309,939794668,889488122,909754430,929883486,924378231,914572447,919174024,928917737,954472731,961537818,960924425,895343839,877852977,884634007,903714134,914358435,888998053,908718434,924256518,950689421,956642628,953008778,918557670,969331319,961555174,941701954,949775485,944145351,956004246,987295455,992675652,1071645076,1040259209,1071519075,1052324382,1095955257,1122015297,1140427395,1146726173,1140689024,1129755841,1102743234,1099777623,1088753239,1127852921,1117797652,1096179268,1101177840,1177405848,1257298062,1386992091,1493315861,1573866176,1660032672,1661456504,1721869111,1767240194,1847450408,1860901233,1858139592,1875290873,1886239522,1831246576,1972827261,1979317335,2087085887,2130401307,2146955370,2255588149,2288018664,2415286839,2395449305,2421146662,2487982989,2492310711,2465752854,2522539139,2562899275,2567556402,2595366029,2668277228,2810275198,2990082722,3082849424,3372045766,3606690535,3711196429,3948716354,3698622709,3585487844,3652657367,3747203804,3872059040,4002640023,4213405687,4189819641,4294813827,4368060633,4555003584,4526547243,4475626655,4632251581,4690885591,4840248183,4703935852,4727091910,5028245384,5771420681,5916839819,6259329564,6420572464,6390949872,6451326812,6824013881,6625668953,6929627194,6900383578,6987513490,7027821156,7414779385,7261479356,7790107889,8097608826,8560465016,8640740525,9563427079,9384650122,8714642713,8864452921,7958375217,8434406599,8562069155,8336343175,9006057680,9715579446,10034172139,10484085305,10261635662,10408530048,10139321325,10048713852,10788621438,10780770197,10623229601,10350921727,9925315933,10106328471,10166001812,10609278969,10913589634,11082860793,11124180261,11240069402,11161492903,11086409132,11096982466,10928860429,11098534776,11143842600,10989940238,10615594642,10497364678,10846216596,11171169613,11334456971,11473326373,11638985607,11502349438,11537265555,11542383964,11393101850,11438607788,11574188858,11485538000,11345891442,11804792858,12071205789,12058278428,12176718891,12147129635,10923488934,11141968039,10870977281,10642897222,10563896415,10672915723,10777860199,10510159482,10548437820,10762912846,11139739548,11707573904,11359049364,11777211588,11998193738,12417842237,12634848763,12549518508,12968860005,12754307694,12480449696,12744417105,12407383202,12501569372,12383855652,12896199714,13043244757,13113477055,13003486911,12946101988,12562066757,11832766069,11743533780,12165616418,12645352367,13462658840,13063290064,13463081645,13764278973,13092046615,13680389481,13830488786,14009001085,13354405213,13647496932,13391495880,13145203014,13586612806,13959259377,14117521558,14306686660,14648915115,14761236727,14973610251,15518934519,15184497171,14857803332,15389359916,14717656741,15095194566,15432047321,15577303220,15861654988,16300961253,16552600562,15828134526,15888306508,16192057240,16890943010,19081838517,19638102635,21330582159,22593501686,22909256656,23108396003,24326583025,24066367067,21699932580,21632885625,23527936092,24431907232,23560940455,24415708349,24948020534,25453252191,26068122568,26393773687,22806776887,24885610595,25424780733,27776226604,27246562226,28035605510,26486142874,28554599094,29291649227,30092083927,29315970389,30391501279,32330715830,34940857008,35857298703,38679924799,37886803134,37098683761,40341726292,42216302985,42053996699,43950844547,45148715226,44147069699,43770976064,43316340459,43325522292,44584374241,45339653475,45819423838,46169862638,46615990886,43933376144,39033166076,40720487174,38414941359,37605115217,38313230391,37712681415,40805628348,40703191982,42897468225,41724132915,41712065122,42769736300,41041780375,42896663074,44402396951,43413186146,43933945540,44778157424,48129752529,46871052602,45087665225,45404786839,46539484021,45611718633,46906797614,47451792741,46462788497,44215793191,43679340653,41747356103,42082659217,44811798698,44558330967,44303139092,47013531766,48735455928,49273608726,50298697447,52891752416,52010090778,54002130887,55465160838,55493466364,52743129096,55109658165,54700400245,55669586199,55628792406,56470993877,59278560559,61783809784,64579677494,64043935447,62524862244,59840600973,57794851082,60010572374,59967155814,60421198381,58660722790,55834130735,57618973133,63347091830,66891283091,68063619316,69697221407,70603451438,72917176908,72406032881,79702825297,75327652786,79934589026,80673757398,81372826094,86519867740,87042736974,85369554580,88905988725,80778407601,80536217934,87632272349,80519243235,80306379087,76389641511,79553120085,60088306922,65702496506,59072602781,56373442631,50408534105,60139948581,61540826827,66394452005,65195980988,60389466759,57234472210,60297614957,65779046264,64663957625,66677208080,69365456633,65825191440,64732710635,66225076336,67827973889]},\"selected\":{\"id\":\"2034\"},\"selection_policy\":{\"id\":\"2050\"}},\"id\":\"2033\",\"type\":\"ColumnDataSource\"},{\"attributes\":{},\"id\":\"1958\",\"type\":\"ResetTool\"},{\"attributes\":{\"end\":97796587597.5,\"reset_end\":97796587597.5,\"reset_start\":-8890598872.5,\"start\":-8890598872.5,\"tags\":[[[\"value\",\"value\",null]]]},\"id\":\"1933\",\"type\":\"Range1d\"},{\"attributes\":{},\"id\":\"1956\",\"type\":\"WheelZoomTool\"},{\"attributes\":{},\"id\":\"2050\",\"type\":\"UnionRenderers\"},{\"attributes\":{},\"id\":\"2034\",\"type\":\"Selection\"},{\"attributes\":{\"overlay\":{\"id\":\"1959\"}},\"id\":\"1957\",\"type\":\"BoxZoomTool\"},{\"attributes\":{\"source\":{\"id\":\"2033\"}},\"id\":\"2040\",\"type\":\"CDSView\"},{\"attributes\":{\"bottom_units\":\"screen\",\"fill_alpha\":0.5,\"fill_color\":\"lightgrey\",\"left_units\":\"screen\",\"level\":\"overlay\",\"line_alpha\":1.0,\"line_color\":\"black\",\"line_dash\":[4,4],\"line_width\":2,\"right_units\":\"screen\",\"top_units\":\"screen\"},\"id\":\"1959\",\"type\":\"BoxAnnotation\"},{\"attributes\":{\"data\":{\"Variable\":[\"tvlETH\",\"tvlETH\",\"tvlETH\",\"tvlETH\",\"tvlETH\",\"tvlETH\",\"tvlETH\",\"tvlETH\",\"tvlETH\",\"tvlETH\",\"tvlETH\",\"tvlETH\",\"tvlETH\",\"tvlETH\",\"tvlETH\",\"tvlETH\",\"tvlETH\",\"tvlETH\",\"tvlETH\",\"tvlETH\",\"tvlETH\",\"tvlETH\",\"tvlETH\",\"tvlETH\",\"tvlETH\",\"tvlETH\",\"tvlETH\",\"tvlETH\",\"tvlETH\",\"tvlETH\",\"tvlETH\",\"tvlETH\",\"tvlETH\",\"tvlETH\",\"tvlETH\",\"tvlETH\",\"tvlETH\",\"tvlETH\",\"tvlETH\",\"tvlETH\",\"tvlETH\",\"tvlETH\",\"tvlETH\",\"tvlETH\",\"tvlETH\",\"tvlETH\",\"tvlETH\",\"tvlETH\",\"tvlETH\",\"tvlETH\",\"tvlETH\",\"tvlETH\",\"tvlETH\",\"tvlETH\",\"tvlETH\",\"tvlETH\",\"tvlETH\",\"tvlETH\",\"tvlETH\",\"tvlETH\",\"tvlETH\",\"tvlETH\",\"tvlETH\",\"tvlETH\",\"tvlETH\",\"tvlETH\",\"tvlETH\",\"tvlETH\",\"tvlETH\",\"tvlETH\",\"tvlETH\",\"tvlETH\",\"tvlETH\",\"tvlETH\",\"tvlETH\",\"tvlETH\",\"tvlETH\",\"tvlETH\",\"tvlETH\",\"tvlETH\",\"tvlETH\",\"tvlETH\",\"tvlETH\",\"tvlETH\",\"tvlETH\",\"tvlETH\",\"tvlETH\",\"tvlETH\",\"tvlETH\",\"tvlETH\",\"tvlETH\",\"tvlETH\",\"tvlETH\",\"tvlETH\",\"tvlETH\",\"tvlETH\",\"tvlETH\",\"tvlETH\",\"tvlETH\",\"tvlETH\",\"tvlETH\",\"tvlETH\",\"tvlETH\",\"tvlETH\",\"tvlETH\",\"tvlETH\",\"tvlETH\",\"tvlETH\",\"tvlETH\",\"tvlETH\",\"tvlETH\",\"tvlETH\",\"tvlETH\",\"tvlETH\",\"tvlETH\",\"tvlETH\",\"tvlETH\",\"tvlETH\",\"tvlETH\",\"tvlETH\",\"tvlETH\",\"tvlETH\",\"tvlETH\",\"tvlETH\",\"tvlETH\",\"tvlETH\",\"tvlETH\",\"tvlETH\",\"tvlETH\",\"tvlETH\",\"tvlETH\",\"tvlETH\",\"tvlETH\",\"tvlETH\",\"tvlETH\",\"tvlETH\",\"tvlETH\",\"tvlETH\",\"tvlETH\",\"tvlETH\",\"tvlETH\",\"tvlETH\",\"tvlETH\",\"tvlETH\",\"tvlETH\",\"tvlETH\",\"tvlETH\",\"tvlETH\",\"tvlETH\",\"tvlETH\",\"tvlETH\",\"tvlETH\",\"tvlETH\",\"tvlETH\",\"tvlETH\",\"tvlETH\",\"tvlETH\",\"tvlETH\",\"tvlETH\",\"tvlETH\",\"tvlETH\",\"tvlETH\",\"tvlETH\",\"tvlETH\",\"tvlETH\",\"tvlETH\",\"tvlETH\",\"tvlETH\",\"tvlETH\",\"tvlETH\",\"tvlETH\",\"tvlETH\",\"tvlETH\",\"tvlETH\",\"tvlETH\",\"tvlETH\",\"tvlETH\",\"tvlETH\",\"tvlETH\",\"tvlETH\",\"tvlETH\",\"tvlETH\",\"tvlETH\",\"tvlETH\",\"tvlETH\",\"tvlETH\",\"tvlETH\",\"tvlETH\",\"tvlETH\",\"tvlETH\",\"tvlETH\",\"tvlETH\",\"tvlETH\",\"tvlETH\",\"tvlETH\",\"tvlETH\",\"tvlETH\",\"tvlETH\",\"tvlETH\",\"tvlETH\",\"tvlETH\",\"tvlETH\",\"tvlETH\",\"tvlETH\",\"tvlETH\",\"tvlETH\",\"tvlETH\",\"tvlETH\",\"tvlETH\",\"tvlETH\",\"tvlETH\",\"tvlETH\",\"tvlETH\",\"tvlETH\",\"tvlETH\",\"tvlETH\",\"tvlETH\",\"tvlETH\",\"tvlETH\",\"tvlETH\",\"tvlETH\",\"tvlETH\",\"tvlETH\",\"tvlETH\",\"tvlETH\",\"tvlETH\",\"tvlETH\",\"tvlETH\",\"tvlETH\",\"tvlETH\",\"tvlETH\",\"tvlETH\",\"tvlETH\",\"tvlETH\",\"tvlETH\",\"tvlETH\",\"tvlETH\",\"tvlETH\",\"tvlETH\",\"tvlETH\",\"tvlETH\",\"tvlETH\",\"tvlETH\",\"tvlETH\",\"tvlETH\",\"tvlETH\",\"tvlETH\",\"tvlETH\",\"tvlETH\",\"tvlETH\",\"tvlETH\",\"tvlETH\",\"tvlETH\",\"tvlETH\",\"tvlETH\",\"tvlETH\",\"tvlETH\",\"tvlETH\",\"tvlETH\",\"tvlETH\",\"tvlETH\",\"tvlETH\",\"tvlETH\",\"tvlETH\",\"tvlETH\",\"tvlETH\",\"tvlETH\",\"tvlETH\",\"tvlETH\",\"tvlETH\",\"tvlETH\",\"tvlETH\",\"tvlETH\",\"tvlETH\",\"tvlETH\",\"tvlETH\",\"tvlETH\",\"tvlETH\",\"tvlETH\",\"tvlETH\",\"tvlETH\",\"tvlETH\",\"tvlETH\",\"tvlETH\",\"tvlETH\",\"tvlETH\",\"tvlETH\",\"tvlETH\",\"tvlETH\",\"tvlETH\",\"tvlETH\",\"tvlETH\",\"tvlETH\",\"tvlETH\",\"tvlETH\",\"tvlETH\",\"tvlETH\",\"tvlETH\",\"tvlETH\",\"tvlETH\",\"tvlETH\",\"tvlETH\",\"tvlETH\",\"tvlETH\",\"tvlETH\",\"tvlETH\",\"tvlETH\",\"tvlETH\",\"tvlETH\",\"tvlETH\",\"tvlETH\",\"tvlETH\",\"tvlETH\",\"tvlETH\",\"tvlETH\",\"tvlETH\",\"tvlETH\",\"tvlETH\",\"tvlETH\",\"tvlETH\",\"tvlETH\",\"tvlETH\",\"tvlETH\",\"tvlETH\",\"tvlETH\",\"tvlETH\",\"tvlETH\",\"tvlETH\",\"tvlETH\",\"tvlETH\",\"tvlETH\",\"tvlETH\",\"tvlETH\",\"tvlETH\",\"tvlETH\",\"tvlETH\",\"tvlETH\",\"tvlETH\",\"tvlETH\",\"tvlETH\",\"tvlETH\",\"tvlETH\",\"tvlETH\",\"tvlETH\",\"tvlETH\",\"tvlETH\",\"tvlETH\",\"tvlETH\",\"tvlETH\",\"tvlETH\",\"tvlETH\",\"tvlETH\",\"tvlETH\",\"tvlETH\",\"tvlETH\",\"tvlETH\",\"tvlETH\",\"tvlETH\",\"tvlETH\",\"tvlETH\",\"tvlETH\",\"tvlETH\",\"tvlETH\",\"tvlETH\",\"tvlETH\",\"tvlETH\",\"tvlETH\",\"tvlETH\",\"tvlETH\",\"tvlETH\",\"tvlETH\",\"tvlETH\",\"tvlETH\",\"tvlETH\",\"tvlETH\",\"tvlETH\",\"tvlETH\",\"tvlETH\",\"tvlETH\",\"tvlETH\",\"tvlETH\",\"tvlETH\",\"tvlETH\",\"tvlETH\",\"tvlETH\",\"tvlETH\",\"tvlETH\",\"tvlETH\",\"tvlETH\",\"tvlETH\",\"tvlETH\",\"tvlETH\",\"tvlETH\",\"tvlETH\",\"tvlETH\",\"tvlETH\",\"tvlETH\",\"tvlETH\",\"tvlETH\",\"tvlETH\",\"tvlETH\",\"tvlETH\",\"tvlETH\",\"tvlETH\",\"tvlETH\",\"tvlETH\",\"tvlETH\",\"tvlETH\",\"tvlETH\",\"tvlETH\",\"tvlETH\",\"tvlETH\",\"tvlETH\",\"tvlETH\",\"tvlETH\",\"tvlETH\",\"tvlETH\",\"tvlETH\",\"tvlETH\",\"tvlETH\",\"tvlETH\",\"tvlETH\",\"tvlETH\",\"tvlETH\",\"tvlETH\",\"tvlETH\",\"tvlETH\",\"tvlETH\",\"tvlETH\",\"tvlETH\",\"tvlETH\",\"tvlETH\",\"tvlETH\",\"tvlETH\",\"tvlETH\",\"tvlETH\",\"tvlETH\",\"tvlETH\",\"tvlETH\",\"tvlETH\",\"tvlETH\",\"tvlETH\",\"tvlETH\",\"tvlETH\",\"tvlETH\",\"tvlETH\",\"tvlETH\",\"tvlETH\",\"tvlETH\",\"tvlETH\",\"tvlETH\",\"tvlETH\",\"tvlETH\",\"tvlETH\",\"tvlETH\",\"tvlETH\",\"tvlETH\",\"tvlETH\",\"tvlETH\",\"tvlETH\",\"tvlETH\",\"tvlETH\",\"tvlETH\",\"tvlETH\",\"tvlETH\",\"tvlETH\",\"tvlETH\",\"tvlETH\",\"tvlETH\",\"tvlETH\",\"tvlETH\",\"tvlETH\",\"tvlETH\",\"tvlETH\",\"tvlETH\",\"tvlETH\",\"tvlETH\",\"tvlETH\",\"tvlETH\",\"tvlETH\",\"tvlETH\",\"tvlETH\",\"tvlETH\",\"tvlETH\",\"tvlETH\",\"tvlETH\",\"tvlETH\",\"tvlETH\",\"tvlETH\",\"tvlETH\",\"tvlETH\",\"tvlETH\",\"tvlETH\",\"tvlETH\",\"tvlETH\",\"tvlETH\",\"tvlETH\",\"tvlETH\",\"tvlETH\",\"tvlETH\",\"tvlETH\",\"tvlETH\",\"tvlETH\",\"tvlETH\",\"tvlETH\",\"tvlETH\",\"tvlETH\",\"tvlETH\",\"tvlETH\",\"tvlETH\",\"tvlETH\",\"tvlETH\",\"tvlETH\",\"tvlETH\",\"tvlETH\",\"tvlETH\",\"tvlETH\",\"tvlETH\",\"tvlETH\",\"tvlETH\",\"tvlETH\",\"tvlETH\",\"tvlETH\",\"tvlETH\",\"tvlETH\",\"tvlETH\",\"tvlETH\",\"tvlETH\",\"tvlETH\",\"tvlETH\",\"tvlETH\",\"tvlETH\",\"tvlETH\",\"tvlETH\",\"tvlETH\",\"tvlETH\",\"tvlETH\",\"tvlETH\",\"tvlETH\",\"tvlETH\",\"tvlETH\",\"tvlETH\",\"tvlETH\",\"tvlETH\",\"tvlETH\",\"tvlETH\",\"tvlETH\",\"tvlETH\",\"tvlETH\",\"tvlETH\",\"tvlETH\",\"tvlETH\",\"tvlETH\",\"tvlETH\",\"tvlETH\",\"tvlETH\",\"tvlETH\",\"tvlETH\",\"tvlETH\",\"tvlETH\",\"tvlETH\",\"tvlETH\",\"tvlETH\",\"tvlETH\",\"tvlETH\",\"tvlETH\",\"tvlETH\",\"tvlETH\",\"tvlETH\",\"tvlETH\",\"tvlETH\",\"tvlETH\",\"tvlETH\",\"tvlETH\",\"tvlETH\",\"tvlETH\",\"tvlETH\",\"tvlETH\",\"tvlETH\",\"tvlETH\",\"tvlETH\",\"tvlETH\",\"tvlETH\",\"tvlETH\",\"tvlETH\",\"tvlETH\",\"tvlETH\",\"tvlETH\",\"tvlETH\",\"tvlETH\",\"tvlETH\",\"tvlETH\",\"tvlETH\",\"tvlETH\",\"tvlETH\",\"tvlETH\",\"tvlETH\",\"tvlETH\",\"tvlETH\",\"tvlETH\",\"tvlETH\",\"tvlETH\",\"tvlETH\",\"tvlETH\",\"tvlETH\",\"tvlETH\",\"tvlETH\",\"tvlETH\",\"tvlETH\",\"tvlETH\",\"tvlETH\",\"tvlETH\",\"tvlETH\",\"tvlETH\",\"tvlETH\",\"tvlETH\",\"tvlETH\",\"tvlETH\",\"tvlETH\",\"tvlETH\",\"tvlETH\",\"tvlETH\",\"tvlETH\",\"tvlETH\",\"tvlETH\",\"tvlETH\",\"tvlETH\",\"tvlETH\",\"tvlETH\",\"tvlETH\",\"tvlETH\",\"tvlETH\",\"tvlETH\",\"tvlETH\",\"tvlETH\",\"tvlETH\",\"tvlETH\",\"tvlETH\",\"tvlETH\",\"tvlETH\",\"tvlETH\",\"tvlETH\",\"tvlETH\",\"tvlETH\",\"tvlETH\",\"tvlETH\",\"tvlETH\",\"tvlETH\",\"tvlETH\",\"tvlETH\",\"tvlETH\",\"tvlETH\",\"tvlETH\",\"tvlETH\",\"tvlETH\",\"tvlETH\",\"tvlETH\",\"tvlETH\",\"tvlETH\",\"tvlETH\",\"tvlETH\",\"tvlETH\",\"tvlETH\",\"tvlETH\",\"tvlETH\",\"tvlETH\",\"tvlETH\",\"tvlETH\",\"tvlETH\",\"tvlETH\",\"tvlETH\",\"tvlETH\",\"tvlETH\",\"tvlETH\",\"tvlETH\",\"tvlETH\",\"tvlETH\",\"tvlETH\",\"tvlETH\",\"tvlETH\",\"tvlETH\",\"tvlETH\",\"tvlETH\",\"tvlETH\",\"tvlETH\",\"tvlETH\",\"tvlETH\",\"tvlETH\",\"tvlETH\",\"tvlETH\",\"tvlETH\",\"tvlETH\",\"tvlETH\",\"tvlETH\",\"tvlETH\",\"tvlETH\",\"tvlETH\",\"tvlETH\",\"tvlETH\",\"tvlETH\",\"tvlETH\",\"tvlETH\",\"tvlETH\",\"tvlETH\",\"tvlETH\",\"tvlETH\",\"tvlETH\",\"tvlETH\",\"tvlETH\",\"tvlETH\",\"tvlETH\",\"tvlETH\",\"tvlETH\",\"tvlETH\",\"tvlETH\",\"tvlETH\",\"tvlETH\",\"tvlETH\",\"tvlETH\",\"tvlETH\",\"tvlETH\",\"tvlETH\",\"tvlETH\",\"tvlETH\",\"tvlETH\",\"tvlETH\",\"tvlETH\",\"tvlETH\",\"tvlETH\",\"tvlETH\",\"tvlETH\",\"tvlETH\",\"tvlETH\",\"tvlETH\",\"tvlETH\",\"tvlETH\",\"tvlETH\",\"tvlETH\",\"tvlETH\",\"tvlETH\",\"tvlETH\",\"tvlETH\",\"tvlETH\",\"tvlETH\",\"tvlETH\",\"tvlETH\",\"tvlETH\",\"tvlETH\",\"tvlETH\",\"tvlETH\",\"tvlETH\",\"tvlETH\",\"tvlETH\",\"tvlETH\",\"tvlETH\",\"tvlETH\",\"tvlETH\",\"tvlETH\",\"tvlETH\",\"tvlETH\",\"tvlETH\",\"tvlETH\",\"tvlETH\",\"tvlETH\",\"tvlETH\",\"tvlETH\",\"tvlETH\",\"tvlETH\",\"tvlETH\",\"tvlETH\",\"tvlETH\",\"tvlETH\",\"tvlETH\",\"tvlETH\",\"tvlETH\",\"tvlETH\",\"tvlETH\",\"tvlETH\",\"tvlETH\",\"tvlETH\",\"tvlETH\",\"tvlETH\",\"tvlETH\",\"tvlETH\",\"tvlETH\",\"tvlETH\",\"tvlETH\",\"tvlETH\",\"tvlETH\",\"tvlETH\",\"tvlETH\",\"tvlETH\",\"tvlETH\",\"tvlETH\",\"tvlETH\",\"tvlETH\",\"tvlETH\",\"tvlETH\",\"tvlETH\",\"tvlETH\",\"tvlETH\",\"tvlETH\",\"tvlETH\",\"tvlETH\",\"tvlETH\",\"tvlETH\",\"tvlETH\",\"tvlETH\",\"tvlETH\",\"tvlETH\",\"tvlETH\",\"tvlETH\",\"tvlETH\",\"tvlETH\",\"tvlETH\",\"tvlETH\",\"tvlETH\",\"tvlETH\",\"tvlETH\",\"tvlETH\",\"tvlETH\",\"tvlETH\",\"tvlETH\",\"tvlETH\",\"tvlETH\",\"tvlETH\",\"tvlETH\",\"tvlETH\",\"tvlETH\",\"tvlETH\",\"tvlETH\",\"tvlETH\",\"tvlETH\",\"tvlETH\",\"tvlETH\",\"tvlETH\",\"tvlETH\",\"tvlETH\",\"tvlETH\",\"tvlETH\",\"tvlETH\",\"tvlETH\",\"tvlETH\",\"tvlETH\",\"tvlETH\",\"tvlETH\",\"tvlETH\",\"tvlETH\",\"tvlETH\",\"tvlETH\",\"tvlETH\",\"tvlETH\",\"tvlETH\",\"tvlETH\",\"tvlETH\",\"tvlETH\",\"tvlETH\",\"tvlETH\",\"tvlETH\",\"tvlETH\",\"tvlETH\",\"tvlETH\",\"tvlETH\",\"tvlETH\",\"tvlETH\",\"tvlETH\",\"tvlETH\",\"tvlETH\",\"tvlETH\",\"tvlETH\",\"tvlETH\",\"tvlETH\",\"tvlETH\",\"tvlETH\",\"tvlETH\",\"tvlETH\",\"tvlETH\",\"tvlETH\",\"tvlETH\",\"tvlETH\",\"tvlETH\",\"tvlETH\",\"tvlETH\",\"tvlETH\",\"tvlETH\",\"tvlETH\",\"tvlETH\",\"tvlETH\",\"tvlETH\",\"tvlETH\",\"tvlETH\",\"tvlETH\",\"tvlETH\",\"tvlETH\",\"tvlETH\",\"tvlETH\",\"tvlETH\",\"tvlETH\",\"tvlETH\",\"tvlETH\",\"tvlETH\",\"tvlETH\",\"tvlETH\",\"tvlETH\",\"tvlETH\",\"tvlETH\",\"tvlETH\",\"tvlETH\",\"tvlETH\",\"tvlETH\",\"tvlETH\",\"tvlETH\",\"tvlETH\",\"tvlETH\",\"tvlETH\",\"tvlETH\",\"tvlETH\",\"tvlETH\",\"tvlETH\",\"tvlETH\",\"tvlETH\",\"tvlETH\",\"tvlETH\",\"tvlETH\",\"tvlETH\",\"tvlETH\",\"tvlETH\",\"tvlETH\",\"tvlETH\",\"tvlETH\",\"tvlETH\",\"tvlETH\",\"tvlETH\",\"tvlETH\",\"tvlETH\",\"tvlETH\",\"tvlETH\",\"tvlETH\",\"tvlETH\",\"tvlETH\",\"tvlETH\",\"tvlETH\",\"tvlETH\",\"tvlETH\",\"tvlETH\",\"tvlETH\",\"tvlETH\",\"tvlETH\",\"tvlETH\",\"tvlETH\",\"tvlETH\",\"tvlETH\",\"tvlETH\",\"tvlETH\",\"tvlETH\",\"tvlETH\",\"tvlETH\",\"tvlETH\",\"tvlETH\",\"tvlETH\",\"tvlETH\",\"tvlETH\",\"tvlETH\",\"tvlETH\",\"tvlETH\",\"tvlETH\",\"tvlETH\",\"tvlETH\",\"tvlETH\",\"tvlETH\",\"tvlETH\",\"tvlETH\",\"tvlETH\",\"tvlETH\",\"tvlETH\",\"tvlETH\",\"tvlETH\",\"tvlETH\",\"tvlETH\",\"tvlETH\",\"tvlETH\",\"tvlETH\",\"tvlETH\",\"tvlETH\",\"tvlETH\",\"tvlETH\",\"tvlETH\",\"tvlETH\",\"tvlETH\",\"tvlETH\",\"tvlETH\",\"tvlETH\",\"tvlETH\",\"tvlETH\",\"tvlETH\",\"tvlETH\",\"tvlETH\",\"tvlETH\",\"tvlETH\",\"tvlETH\",\"tvlETH\",\"tvlETH\",\"tvlETH\",\"tvlETH\",\"tvlETH\",\"tvlETH\",\"tvlETH\",\"tvlETH\",\"tvlETH\",\"tvlETH\",\"tvlETH\",\"tvlETH\",\"tvlETH\",\"tvlETH\",\"tvlETH\",\"tvlETH\",\"tvlETH\",\"tvlETH\",\"tvlETH\",\"tvlETH\",\"tvlETH\",\"tvlETH\",\"tvlETH\",\"tvlETH\",\"tvlETH\",\"tvlETH\",\"tvlETH\",\"tvlETH\",\"tvlETH\",\"tvlETH\",\"tvlETH\",\"tvlETH\",\"tvlETH\",\"tvlETH\",\"tvlETH\",\"tvlETH\",\"tvlETH\",\"tvlETH\",\"tvlETH\",\"tvlETH\",\"tvlETH\",\"tvlETH\",\"tvlETH\",\"tvlETH\",\"tvlETH\",\"tvlETH\",\"tvlETH\",\"tvlETH\",\"tvlETH\",\"tvlETH\",\"tvlETH\",\"tvlETH\",\"tvlETH\",\"tvlETH\",\"tvlETH\",\"tvlETH\",\"tvlETH\",\"tvlETH\",\"tvlETH\",\"tvlETH\",\"tvlETH\",\"tvlETH\",\"tvlETH\",\"tvlETH\",\"tvlETH\",\"tvlETH\",\"tvlETH\",\"tvlETH\",\"tvlETH\",\"tvlETH\",\"tvlETH\",\"tvlETH\",\"tvlETH\",\"tvlETH\",\"tvlETH\",\"tvlETH\",\"tvlETH\",\"tvlETH\",\"tvlETH\",\"tvlETH\",\"tvlETH\",\"tvlETH\",\"tvlETH\",\"tvlETH\",\"tvlETH\",\"tvlETH\",\"tvlETH\",\"tvlETH\",\"tvlETH\",\"tvlETH\",\"tvlETH\",\"tvlETH\",\"tvlETH\",\"tvlETH\",\"tvlETH\",\"tvlETH\",\"tvlETH\",\"tvlETH\",\"tvlETH\",\"tvlETH\",\"tvlETH\",\"tvlETH\",\"tvlETH\",\"tvlETH\",\"tvlETH\",\"tvlETH\",\"tvlETH\",\"tvlETH\",\"tvlETH\",\"tvlETH\",\"tvlETH\",\"tvlETH\",\"tvlETH\",\"tvlETH\",\"tvlETH\",\"tvlETH\",\"tvlETH\",\"tvlETH\",\"tvlETH\",\"tvlETH\",\"tvlETH\",\"tvlETH\",\"tvlETH\",\"tvlETH\",\"tvlETH\",\"tvlETH\",\"tvlETH\",\"tvlETH\",\"tvlETH\",\"tvlETH\",\"tvlETH\",\"tvlETH\",\"tvlETH\",\"tvlETH\",\"tvlETH\",\"tvlETH\",\"tvlETH\",\"tvlETH\",\"tvlETH\",\"tvlETH\",\"tvlETH\",\"tvlETH\",\"tvlETH\",\"tvlETH\",\"tvlETH\",\"tvlETH\",\"tvlETH\",\"tvlETH\",\"tvlETH\",\"tvlETH\",\"tvlETH\",\"tvlETH\",\"tvlETH\",\"tvlETH\",\"tvlETH\",\"tvlETH\",\"tvlETH\",\"tvlETH\",\"tvlETH\",\"tvlETH\",\"tvlETH\",\"tvlETH\",\"tvlETH\",\"tvlETH\",\"tvlETH\",\"tvlETH\",\"tvlETH\",\"tvlETH\",\"tvlETH\",\"tvlETH\",\"tvlETH\",\"tvlETH\",\"tvlETH\",\"tvlETH\",\"tvlETH\",\"tvlETH\",\"tvlETH\",\"tvlETH\",\"tvlETH\",\"tvlETH\",\"tvlETH\",\"tvlETH\",\"tvlETH\",\"tvlETH\",\"tvlETH\",\"tvlETH\",\"tvlETH\",\"tvlETH\",\"tvlETH\",\"tvlETH\",\"tvlETH\",\"tvlETH\",\"tvlETH\",\"tvlETH\",\"tvlETH\",\"tvlETH\",\"tvlETH\",\"tvlETH\",\"tvlETH\",\"tvlETH\",\"tvlETH\",\"tvlETH\",\"tvlETH\",\"tvlETH\",\"tvlETH\",\"tvlETH\",\"tvlETH\",\"tvlETH\",\"tvlETH\",\"tvlETH\",\"tvlETH\",\"tvlETH\",\"tvlETH\",\"tvlETH\",\"tvlETH\",\"tvlETH\",\"tvlETH\",\"tvlETH\",\"tvlETH\",\"tvlETH\",\"tvlETH\",\"tvlETH\",\"tvlETH\",\"tvlETH\",\"tvlETH\",\"tvlETH\",\"tvlETH\",\"tvlETH\",\"tvlETH\",\"tvlETH\",\"tvlETH\",\"tvlETH\",\"tvlETH\",\"tvlETH\",\"tvlETH\",\"tvlETH\",\"tvlETH\",\"tvlETH\",\"tvlETH\",\"tvlETH\",\"tvlETH\",\"tvlETH\",\"tvlETH\",\"tvlETH\",\"tvlETH\",\"tvlETH\",\"tvlETH\",\"tvlETH\",\"tvlETH\",\"tvlETH\",\"tvlETH\",\"tvlETH\",\"tvlETH\",\"tvlETH\",\"tvlETH\",\"tvlETH\",\"tvlETH\",\"tvlETH\",\"tvlETH\",\"tvlETH\",\"tvlETH\",\"tvlETH\",\"tvlETH\",\"tvlETH\",\"tvlETH\",\"tvlETH\",\"tvlETH\",\"tvlETH\",\"tvlETH\",\"tvlETH\",\"tvlETH\",\"tvlETH\",\"tvlETH\",\"tvlETH\",\"tvlETH\",\"tvlETH\",\"tvlETH\",\"tvlETH\",\"tvlETH\",\"tvlETH\",\"tvlETH\",\"tvlETH\",\"tvlETH\",\"tvlETH\",\"tvlETH\",\"tvlETH\",\"tvlETH\",\"tvlETH\",\"tvlETH\",\"tvlETH\",\"tvlETH\",\"tvlETH\",\"tvlETH\",\"tvlETH\",\"tvlETH\",\"tvlETH\",\"tvlETH\",\"tvlETH\",\"tvlETH\",\"tvlETH\",\"tvlETH\",\"tvlETH\",\"tvlETH\",\"tvlETH\",\"tvlETH\",\"tvlETH\",\"tvlETH\",\"tvlETH\",\"tvlETH\",\"tvlETH\",\"tvlETH\",\"tvlETH\",\"tvlETH\",\"tvlETH\",\"tvlETH\",\"tvlETH\",\"tvlETH\",\"tvlETH\",\"tvlETH\",\"tvlETH\",\"tvlETH\",\"tvlETH\",\"tvlETH\",\"tvlETH\",\"tvlETH\",\"tvlETH\",\"tvlETH\",\"tvlETH\",\"tvlETH\",\"tvlETH\",\"tvlETH\",\"tvlETH\",\"tvlETH\",\"tvlETH\",\"tvlETH\",\"tvlETH\",\"tvlETH\",\"tvlETH\",\"tvlETH\",\"tvlETH\",\"tvlETH\",\"tvlETH\",\"tvlETH\",\"tvlETH\",\"tvlETH\",\"tvlETH\",\"tvlETH\",\"tvlETH\",\"tvlETH\",\"tvlETH\",\"tvlETH\",\"tvlETH\",\"tvlETH\",\"tvlETH\",\"tvlETH\",\"tvlETH\",\"tvlETH\",\"tvlETH\",\"tvlETH\",\"tvlETH\",\"tvlETH\",\"tvlETH\",\"tvlETH\",\"tvlETH\",\"tvlETH\",\"tvlETH\",\"tvlETH\",\"tvlETH\",\"tvlETH\",\"tvlETH\",\"tvlETH\",\"tvlETH\",\"tvlETH\",\"tvlETH\",\"tvlETH\",\"tvlETH\",\"tvlETH\",\"tvlETH\",\"tvlETH\",\"tvlETH\",\"tvlETH\",\"tvlETH\",\"tvlETH\",\"tvlETH\",\"tvlETH\",\"tvlETH\",\"tvlETH\",\"tvlETH\",\"tvlETH\",\"tvlETH\",\"tvlETH\",\"tvlETH\",\"tvlETH\",\"tvlETH\",\"tvlETH\",\"tvlETH\",\"tvlETH\",\"tvlETH\",\"tvlETH\",\"tvlETH\",\"tvlETH\",\"tvlETH\",\"tvlETH\",\"tvlETH\",\"tvlETH\",\"tvlETH\",\"tvlETH\"],\"timestamp\":{\"__ndarray__\":\"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\",\"dtype\":\"float64\",\"order\":\"little\",\"shape\":[1407]},\"value\":{\"__ndarray__\":\"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\",\"dtype\":\"float64\",\"order\":\"little\",\"shape\":[1407]}},\"selected\":{\"id\":\"2004\"},\"selection_policy\":{\"id\":\"2018\"}},\"id\":\"2003\",\"type\":\"ColumnDataSource\"},{\"attributes\":{\"margin\":[5,5,5,5],\"name\":\"HSpacer02615\",\"sizing_mode\":\"stretch_width\"},\"id\":\"2272\",\"type\":\"Spacer\"},{\"attributes\":{\"active_drag\":\"auto\",\"active_inspect\":\"auto\",\"active_multi\":null,\"active_scroll\":\"auto\",\"active_tap\":\"auto\",\"tools\":[{\"id\":\"1934\"},{\"id\":\"1954\"},{\"id\":\"1955\"},{\"id\":\"1956\"},{\"id\":\"1957\"},{\"id\":\"1958\"}]},\"id\":\"1960\",\"type\":\"Toolbar\"},{\"attributes\":{\"data\":{\"Variable\":[\"DAI\",\"DAI\",\"DAI\",\"DAI\",\"DAI\",\"DAI\",\"DAI\",\"DAI\",\"DAI\",\"DAI\",\"DAI\",\"DAI\",\"DAI\",\"DAI\",\"DAI\",\"DAI\",\"DAI\",\"DAI\",\"DAI\",\"DAI\",\"DAI\",\"DAI\",\"DAI\",\"DAI\",\"DAI\",\"DAI\",\"DAI\",\"DAI\",\"DAI\",\"DAI\",\"DAI\",\"DAI\",\"DAI\",\"DAI\",\"DAI\",\"DAI\",\"DAI\",\"DAI\",\"DAI\",\"DAI\",\"DAI\",\"DAI\",\"DAI\",\"DAI\",\"DAI\",\"DAI\",\"DAI\",\"DAI\",\"DAI\",\"DAI\",\"DAI\",\"DAI\",\"DAI\",\"DAI\",\"DAI\",\"DAI\",\"DAI\",\"DAI\",\"DAI\",\"DAI\",\"DAI\",\"DAI\",\"DAI\",\"DAI\",\"DAI\",\"DAI\",\"DAI\",\"DAI\",\"DAI\",\"DAI\",\"DAI\",\"DAI\",\"DAI\",\"DAI\",\"DAI\",\"DAI\",\"DAI\",\"DAI\",\"DAI\",\"DAI\",\"DAI\",\"DAI\",\"DAI\",\"DAI\",\"DAI\",\"DAI\",\"DAI\",\"DAI\",\"DAI\",\"DAI\",\"DAI\",\"DAI\",\"DAI\",\"DAI\",\"DAI\",\"DAI\",\"DAI\",\"DAI\",\"DAI\",\"DAI\",\"DAI\",\"DAI\",\"DAI\",\"DAI\",\"DAI\",\"DAI\",\"DAI\",\"DAI\",\"DAI\",\"DAI\",\"DAI\",\"DAI\",\"DAI\",\"DAI\",\"DAI\",\"DAI\",\"DAI\",\"DAI\",\"DAI\",\"DAI\",\"DAI\",\"DAI\",\"DAI\",\"DAI\",\"DAI\",\"DAI\",\"DAI\",\"DAI\",\"DAI\",\"DAI\",\"DAI\",\"DAI\",\"DAI\",\"DAI\",\"DAI\",\"DAI\",\"DAI\",\"DAI\",\"DAI\",\"DAI\",\"DAI\",\"DAI\",\"DAI\",\"DAI\",\"DAI\",\"DAI\",\"DAI\",\"DAI\",\"DAI\",\"DAI\",\"DAI\",\"DAI\",\"DAI\",\"DAI\",\"DAI\",\"DAI\",\"DAI\",\"DAI\",\"DAI\",\"DAI\",\"DAI\",\"DAI\",\"DAI\",\"DAI\",\"DAI\",\"DAI\",\"DAI\",\"DAI\",\"DAI\",\"DAI\",\"DAI\",\"DAI\",\"DAI\",\"DAI\",\"DAI\",\"DAI\",\"DAI\",\"DAI\",\"DAI\",\"DAI\",\"DAI\",\"DAI\",\"DAI\",\"DAI\",\"DAI\",\"DAI\",\"DAI\",\"DAI\",\"DAI\",\"DAI\",\"DAI\",\"DAI\",\"DAI\",\"DAI\",\"DAI\",\"DAI\",\"DAI\",\"DAI\",\"DAI\",\"DAI\",\"DAI\",\"DAI\",\"DAI\",\"DAI\",\"DAI\",\"DAI\",\"DAI\",\"DAI\",\"DAI\",\"DAI\",\"DAI\",\"DAI\",\"DAI\",\"DAI\",\"DAI\",\"DAI\",\"DAI\",\"DAI\",\"DAI\",\"DAI\",\"DAI\",\"DAI\",\"DAI\",\"DAI\",\"DAI\",\"DAI\",\"DAI\",\"DAI\",\"DAI\",\"DAI\",\"DAI\",\"DAI\",\"DAI\",\"DAI\",\"DAI\",\"DAI\",\"DAI\",\"DAI\",\"DAI\",\"DAI\",\"DAI\",\"DAI\",\"DAI\",\"DAI\",\"DAI\",\"DAI\",\"DAI\",\"DAI\",\"DAI\",\"DAI\",\"DAI\",\"DAI\",\"DAI\",\"DAI\",\"DAI\",\"DAI\",\"DAI\",\"DAI\",\"DAI\",\"DAI\",\"DAI\",\"DAI\",\"DAI\",\"DAI\",\"DAI\",\"DAI\",\"DAI\",\"DAI\",\"DAI\",\"DAI\",\"DAI\",\"DAI\",\"DAI\",\"DAI\",\"DAI\",\"DAI\",\"DAI\",\"DAI\",\"DAI\",\"DAI\",\"DAI\",\"DAI\",\"DAI\",\"DAI\",\"DAI\",\"DAI\",\"DAI\",\"DAI\",\"DAI\",\"DAI\",\"DAI\",\"DAI\",\"DAI\",\"DAI\",\"DAI\",\"DAI\",\"DAI\",\"DAI\",\"DAI\",\"DAI\",\"DAI\",\"DAI\",\"DAI\",\"DAI\",\"DAI\",\"DAI\",\"DAI\",\"DAI\",\"DAI\",\"DAI\",\"DAI\",\"DAI\",\"DAI\",\"DAI\",\"DAI\",\"DAI\",\"DAI\",\"DAI\",\"DAI\",\"DAI\",\"DAI\",\"DAI\",\"DAI\",\"DAI\",\"DAI\",\"DAI\",\"DAI\",\"DAI\",\"DAI\",\"DAI\",\"DAI\",\"DAI\",\"DAI\",\"DAI\",\"DAI\",\"DAI\",\"DAI\",\"DAI\",\"DAI\",\"DAI\",\"DAI\",\"DAI\",\"DAI\",\"DAI\",\"DAI\",\"DAI\",\"DAI\",\"DAI\",\"DAI\",\"DAI\",\"DAI\",\"DAI\",\"DAI\",\"DAI\",\"DAI\",\"DAI\",\"DAI\",\"DAI\",\"DAI\",\"DAI\",\"DAI\",\"DAI\",\"DAI\",\"DAI\",\"DAI\",\"DAI\",\"DAI\",\"DAI\",\"DAI\",\"DAI\",\"DAI\",\"DAI\",\"DAI\",\"DAI\",\"DAI\",\"DAI\",\"DAI\",\"DAI\",\"DAI\",\"DAI\",\"DAI\",\"DAI\",\"DAI\",\"DAI\",\"DAI\",\"DAI\",\"DAI\",\"DAI\",\"DAI\",\"DAI\",\"DAI\",\"DAI\",\"DAI\",\"DAI\",\"DAI\",\"DAI\",\"DAI\",\"DAI\",\"DAI\",\"DAI\",\"DAI\",\"DAI\",\"DAI\",\"DAI\",\"DAI\",\"DAI\",\"DAI\",\"DAI\",\"DAI\",\"DAI\",\"DAI\",\"DAI\",\"DAI\",\"DAI\",\"DAI\",\"DAI\",\"DAI\",\"DAI\",\"DAI\",\"DAI\",\"DAI\",\"DAI\",\"DAI\",\"DAI\",\"DAI\",\"DAI\",\"DAI\",\"DAI\",\"DAI\",\"DAI\",\"DAI\",\"DAI\",\"DAI\",\"DAI\",\"DAI\",\"DAI\",\"DAI\",\"DAI\",\"DAI\",\"DAI\",\"DAI\",\"DAI\",\"DAI\",\"DAI\",\"DAI\",\"DAI\",\"DAI\",\"DAI\",\"DAI\",\"DAI\",\"DAI\",\"DAI\",\"DAI\",\"DAI\",\"DAI\",\"DAI\",\"DAI\",\"DAI\",\"DAI\",\"DAI\",\"DAI\",\"DAI\",\"DAI\",\"DAI\",\"DAI\",\"DAI\",\"DAI\",\"DAI\",\"DAI\",\"DAI\",\"DAI\",\"DAI\",\"DAI\",\"DAI\",\"DAI\",\"DAI\",\"DAI\",\"DAI\",\"DAI\",\"DAI\",\"DAI\",\"DAI\",\"DAI\",\"DAI\",\"DAI\",\"DAI\",\"DAI\",\"DAI\",\"DAI\",\"DAI\",\"DAI\",\"DAI\",\"DAI\",\"DAI\",\"DAI\",\"DAI\",\"DAI\",\"DAI\",\"DAI\",\"DAI\",\"DAI\",\"DAI\",\"DAI\",\"DAI\",\"DAI\",\"DAI\",\"DAI\",\"DAI\",\"DAI\",\"DAI\",\"DAI\",\"DAI\",\"DAI\",\"DAI\",\"DAI\",\"DAI\",\"DAI\",\"DAI\",\"DAI\",\"DAI\",\"DAI\",\"DAI\",\"DAI\",\"DAI\",\"DAI\",\"DAI\",\"DAI\",\"DAI\",\"DAI\",\"DAI\",\"DAI\",\"DAI\",\"DAI\",\"DAI\",\"DAI\",\"DAI\",\"DAI\",\"DAI\",\"DAI\",\"DAI\",\"DAI\",\"DAI\",\"DAI\",\"DAI\",\"DAI\",\"DAI\",\"DAI\",\"DAI\",\"DAI\",\"DAI\",\"DAI\",\"DAI\",\"DAI\",\"DAI\",\"DAI\",\"DAI\",\"DAI\",\"DAI\",\"DAI\",\"DAI\",\"DAI\",\"DAI\",\"DAI\",\"DAI\",\"DAI\",\"DAI\",\"DAI\",\"DAI\",\"DAI\",\"DAI\",\"DAI\",\"DAI\",\"DAI\",\"DAI\",\"DAI\",\"DAI\",\"DAI\",\"DAI\",\"DAI\",\"DAI\",\"DAI\",\"DAI\",\"DAI\",\"DAI\",\"DAI\",\"DAI\",\"DAI\",\"DAI\",\"DAI\",\"DAI\",\"DAI\",\"DAI\",\"DAI\",\"DAI\",\"DAI\",\"DAI\",\"DAI\",\"DAI\",\"DAI\",\"DAI\",\"DAI\",\"DAI\",\"DAI\",\"DAI\",\"DAI\",\"DAI\",\"DAI\",\"DAI\",\"DAI\",\"DAI\",\"DAI\",\"DAI\",\"DAI\",\"DAI\",\"DAI\",\"DAI\",\"DAI\",\"DAI\",\"DAI\",\"DAI\",\"DAI\",\"DAI\",\"DAI\",\"DAI\",\"DAI\",\"DAI\",\"DAI\",\"DAI\",\"DAI\",\"DAI\",\"DAI\",\"DAI\",\"DAI\",\"DAI\",\"DAI\",\"DAI\",\"DAI\",\"DAI\",\"DAI\",\"DAI\",\"DAI\",\"DAI\",\"DAI\",\"DAI\",\"DAI\",\"DAI\",\"DAI\",\"DAI\",\"DAI\",\"DAI\",\"DAI\",\"DAI\",\"DAI\",\"DAI\",\"DAI\",\"DAI\",\"DAI\",\"DAI\",\"DAI\",\"DAI\",\"DAI\",\"DAI\",\"DAI\",\"DAI\",\"DAI\",\"DAI\",\"DAI\",\"DAI\",\"DAI\",\"DAI\",\"DAI\",\"DAI\",\"DAI\",\"DAI\",\"DAI\",\"DAI\",\"DAI\",\"DAI\",\"DAI\",\"DAI\",\"DAI\",\"DAI\",\"DAI\",\"DAI\",\"DAI\",\"DAI\",\"DAI\",\"DAI\",\"DAI\",\"DAI\",\"DAI\",\"DAI\",\"DAI\",\"DAI\",\"DAI\",\"DAI\",\"DAI\",\"DAI\",\"DAI\",\"DAI\",\"DAI\",\"DAI\",\"DAI\",\"DAI\",\"DAI\",\"DAI\",\"DAI\",\"DAI\",\"DAI\",\"DAI\",\"DAI\",\"DAI\",\"DAI\",\"DAI\",\"DAI\",\"DAI\",\"DAI\",\"DAI\",\"DAI\",\"DAI\",\"DAI\",\"DAI\",\"DAI\",\"DAI\",\"DAI\",\"DAI\",\"DAI\",\"DAI\",\"DAI\",\"DAI\",\"DAI\",\"DAI\",\"DAI\",\"DAI\",\"DAI\",\"DAI\",\"DAI\",\"DAI\",\"DAI\",\"DAI\",\"DAI\",\"DAI\",\"DAI\",\"DAI\",\"DAI\",\"DAI\",\"DAI\",\"DAI\",\"DAI\",\"DAI\",\"DAI\",\"DAI\",\"DAI\",\"DAI\",\"DAI\",\"DAI\",\"DAI\",\"DAI\",\"DAI\",\"DAI\",\"DAI\",\"DAI\",\"DAI\",\"DAI\",\"DAI\",\"DAI\",\"DAI\",\"DAI\",\"DAI\",\"DAI\",\"DAI\",\"DAI\",\"DAI\",\"DAI\",\"DAI\",\"DAI\",\"DAI\",\"DAI\",\"DAI\",\"DAI\",\"DAI\",\"DAI\",\"DAI\",\"DAI\",\"DAI\",\"DAI\",\"DAI\",\"DAI\",\"DAI\",\"DAI\",\"DAI\",\"DAI\",\"DAI\",\"DAI\",\"DAI\",\"DAI\",\"DAI\",\"DAI\",\"DAI\",\"DAI\",\"DAI\",\"DAI\",\"DAI\",\"DAI\",\"DAI\",\"DAI\",\"DAI\",\"DAI\",\"DAI\",\"DAI\",\"DAI\",\"DAI\",\"DAI\",\"DAI\",\"DAI\",\"DAI\",\"DAI\",\"DAI\",\"DAI\",\"DAI\",\"DAI\",\"DAI\",\"DAI\",\"DAI\",\"DAI\",\"DAI\",\"DAI\",\"DAI\",\"DAI\",\"DAI\",\"DAI\",\"DAI\",\"DAI\",\"DAI\",\"DAI\",\"DAI\",\"DAI\",\"DAI\",\"DAI\",\"DAI\",\"DAI\",\"DAI\",\"DAI\",\"DAI\",\"DAI\",\"DAI\",\"DAI\",\"DAI\",\"DAI\",\"DAI\",\"DAI\",\"DAI\",\"DAI\",\"DAI\",\"DAI\",\"DAI\",\"DAI\",\"DAI\",\"DAI\",\"DAI\",\"DAI\",\"DAI\",\"DAI\",\"DAI\",\"DAI\",\"DAI\",\"DAI\",\"DAI\",\"DAI\",\"DAI\",\"DAI\",\"DAI\",\"DAI\",\"DAI\",\"DAI\",\"DAI\",\"DAI\",\"DAI\",\"DAI\",\"DAI\",\"DAI\",\"DAI\",\"DAI\",\"DAI\",\"DAI\",\"DAI\",\"DAI\",\"DAI\",\"DAI\",\"DAI\",\"DAI\",\"DAI\",\"DAI\",\"DAI\",\"DAI\",\"DAI\",\"DAI\",\"DAI\",\"DAI\",\"DAI\",\"DAI\",\"DAI\",\"DAI\",\"DAI\",\"DAI\",\"DAI\",\"DAI\",\"DAI\",\"DAI\",\"DAI\",\"DAI\",\"DAI\",\"DAI\",\"DAI\",\"DAI\",\"DAI\",\"DAI\",\"DAI\",\"DAI\",\"DAI\",\"DAI\",\"DAI\",\"DAI\",\"DAI\",\"DAI\",\"DAI\",\"DAI\",\"DAI\",\"DAI\",\"DAI\",\"DAI\",\"DAI\",\"DAI\",\"DAI\",\"DAI\",\"DAI\",\"DAI\",\"DAI\",\"DAI\",\"DAI\",\"DAI\",\"DAI\",\"DAI\",\"DAI\",\"DAI\",\"DAI\",\"DAI\",\"DAI\",\"DAI\",\"DAI\",\"DAI\",\"DAI\",\"DAI\",\"DAI\",\"DAI\",\"DAI\",\"DAI\",\"DAI\",\"DAI\",\"DAI\",\"DAI\",\"DAI\",\"DAI\",\"DAI\",\"DAI\",\"DAI\",\"DAI\",\"DAI\",\"DAI\",\"DAI\",\"DAI\",\"DAI\",\"DAI\",\"DAI\",\"DAI\",\"DAI\",\"DAI\",\"DAI\",\"DAI\",\"DAI\",\"DAI\",\"DAI\",\"DAI\",\"DAI\",\"DAI\",\"DAI\",\"DAI\",\"DAI\",\"DAI\",\"DAI\",\"DAI\",\"DAI\",\"DAI\",\"DAI\",\"DAI\",\"DAI\",\"DAI\",\"DAI\",\"DAI\",\"DAI\",\"DAI\",\"DAI\",\"DAI\",\"DAI\",\"DAI\",\"DAI\",\"DAI\",\"DAI\",\"DAI\",\"DAI\",\"DAI\",\"DAI\",\"DAI\",\"DAI\",\"DAI\",\"DAI\",\"DAI\",\"DAI\",\"DAI\",\"DAI\",\"DAI\",\"DAI\",\"DAI\",\"DAI\",\"DAI\",\"DAI\",\"DAI\",\"DAI\",\"DAI\",\"DAI\",\"DAI\",\"DAI\",\"DAI\",\"DAI\",\"DAI\",\"DAI\",\"DAI\",\"DAI\",\"DAI\",\"DAI\",\"DAI\",\"DAI\",\"DAI\",\"DAI\",\"DAI\",\"DAI\",\"DAI\",\"DAI\",\"DAI\",\"DAI\",\"DAI\",\"DAI\",\"DAI\",\"DAI\",\"DAI\",\"DAI\",\"DAI\",\"DAI\",\"DAI\",\"DAI\",\"DAI\",\"DAI\",\"DAI\",\"DAI\",\"DAI\",\"DAI\",\"DAI\",\"DAI\",\"DAI\",\"DAI\",\"DAI\",\"DAI\",\"DAI\",\"DAI\",\"DAI\",\"DAI\",\"DAI\",\"DAI\",\"DAI\",\"DAI\",\"DAI\",\"DAI\",\"DAI\",\"DAI\",\"DAI\",\"DAI\",\"DAI\",\"DAI\",\"DAI\",\"DAI\",\"DAI\",\"DAI\",\"DAI\",\"DAI\",\"DAI\",\"DAI\",\"DAI\",\"DAI\",\"DAI\",\"DAI\",\"DAI\",\"DAI\",\"DAI\",\"DAI\",\"DAI\",\"DAI\",\"DAI\",\"DAI\",\"DAI\",\"DAI\",\"DAI\",\"DAI\",\"DAI\",\"DAI\",\"DAI\",\"DAI\",\"DAI\",\"DAI\",\"DAI\",\"DAI\",\"DAI\",\"DAI\",\"DAI\",\"DAI\",\"DAI\",\"DAI\",\"DAI\",\"DAI\",\"DAI\",\"DAI\",\"DAI\",\"DAI\",\"DAI\",\"DAI\",\"DAI\",\"DAI\",\"DAI\",\"DAI\",\"DAI\",\"DAI\",\"DAI\",\"DAI\",\"DAI\",\"DAI\",\"DAI\",\"DAI\",\"DAI\",\"DAI\",\"DAI\",\"DAI\",\"DAI\",\"DAI\",\"DAI\",\"DAI\",\"DAI\",\"DAI\",\"DAI\",\"DAI\",\"DAI\",\"DAI\",\"DAI\",\"DAI\",\"DAI\",\"DAI\",\"DAI\",\"DAI\",\"DAI\",\"DAI\",\"DAI\",\"DAI\",\"DAI\",\"DAI\",\"DAI\",\"DAI\",\"DAI\",\"DAI\",\"DAI\",\"DAI\",\"DAI\",\"DAI\",\"DAI\",\"DAI\",\"DAI\",\"DAI\",\"DAI\",\"DAI\",\"DAI\",\"DAI\",\"DAI\",\"DAI\",\"DAI\",\"DAI\",\"DAI\",\"DAI\",\"DAI\",\"DAI\",\"DAI\",\"DAI\",\"DAI\",\"DAI\",\"DAI\",\"DAI\",\"DAI\",\"DAI\",\"DAI\",\"DAI\",\"DAI\",\"DAI\",\"DAI\",\"DAI\",\"DAI\",\"DAI\",\"DAI\",\"DAI\",\"DAI\",\"DAI\",\"DAI\",\"DAI\",\"DAI\",\"DAI\",\"DAI\",\"DAI\",\"DAI\",\"DAI\",\"DAI\",\"DAI\",\"DAI\",\"DAI\",\"DAI\",\"DAI\",\"DAI\",\"DAI\",\"DAI\",\"DAI\",\"DAI\",\"DAI\",\"DAI\",\"DAI\",\"DAI\",\"DAI\",\"DAI\",\"DAI\",\"DAI\",\"DAI\",\"DAI\",\"DAI\",\"DAI\",\"DAI\",\"DAI\",\"DAI\",\"DAI\",\"DAI\",\"DAI\",\"DAI\",\"DAI\",\"DAI\",\"DAI\",\"DAI\",\"DAI\",\"DAI\",\"DAI\",\"DAI\",\"DAI\",\"DAI\",\"DAI\",\"DAI\",\"DAI\",\"DAI\",\"DAI\",\"DAI\",\"DAI\",\"DAI\",\"DAI\",\"DAI\",\"DAI\",\"DAI\",\"DAI\",\"DAI\",\"DAI\",\"DAI\",\"DAI\",\"DAI\",\"DAI\",\"DAI\",\"DAI\",\"DAI\",\"DAI\",\"DAI\",\"DAI\",\"DAI\",\"DAI\",\"DAI\",\"DAI\",\"DAI\",\"DAI\",\"DAI\",\"DAI\",\"DAI\",\"DAI\",\"DAI\",\"DAI\",\"DAI\",\"DAI\",\"DAI\",\"DAI\",\"DAI\",\"DAI\",\"DAI\",\"DAI\",\"DAI\",\"DAI\",\"DAI\",\"DAI\",\"DAI\",\"DAI\",\"DAI\",\"DAI\",\"DAI\",\"DAI\",\"DAI\",\"DAI\",\"DAI\",\"DAI\",\"DAI\",\"DAI\",\"DAI\",\"DAI\",\"DAI\",\"DAI\",\"DAI\",\"DAI\",\"DAI\",\"DAI\",\"DAI\",\"DAI\",\"DAI\",\"DAI\",\"DAI\",\"DAI\",\"DAI\",\"DAI\",\"DAI\",\"DAI\",\"DAI\",\"DAI\",\"DAI\",\"DAI\",\"DAI\",\"DAI\",\"DAI\",\"DAI\",\"DAI\",\"DAI\",\"DAI\",\"DAI\",\"DAI\",\"DAI\",\"DAI\",\"DAI\",\"DAI\",\"DAI\",\"DAI\",\"DAI\",\"DAI\",\"DAI\",\"DAI\",\"DAI\",\"DAI\",\"DAI\",\"DAI\",\"DAI\",\"DAI\",\"DAI\",\"DAI\",\"DAI\",\"DAI\",\"DAI\",\"DAI\",\"DAI\",\"DAI\",\"DAI\",\"DAI\",\"DAI\",\"DAI\",\"DAI\",\"DAI\",\"DAI\",\"DAI\",\"DAI\",\"DAI\",\"DAI\",\"DAI\",\"DAI\",\"DAI\",\"DAI\",\"DAI\",\"DAI\",\"DAI\",\"DAI\",\"DAI\",\"DAI\",\"DAI\",\"DAI\",\"DAI\",\"DAI\",\"DAI\",\"DAI\"],\"timestamp\":{\"__ndarray__\":\"AAAA3wPadUIAAMBEVtp1QgAAgKqo2nVCAABAEPvadUIAAAB2Tdt1QgAAwNuf23VCAACAQfLbdUIAAECnRNx1QgAAAA2X3HVCAADAcuncdUIAAIDYO911QgAAQD6O3XVCAAAApODddUIAAMAJM951QgAAgG+F3nVCAABA1dfedUIAAAA7Kt91QgAAwKB833VCAACABs/fdUIAAEBsIeB1QgAAANJz4HVCAADAN8bgdUIAAICdGOF1QgAAQANr4XVCAAAAab3hdUIAAMDOD+J1QgAAgDRi4nVCAABAmrTidUIAAAAAB+N1QgAAwGVZ43VCAACAy6vjdUIAAEAx/uN1QgAAAJdQ5HVCAADA/KLkdUIAAIBi9eR1QgAAQMhH5XVCAAAALprldUIAAMCT7OV1QgAAgPk+5nVCAABAX5HmdUIAAADF4+Z1QgAAwCo253VCAACAkIjndUIAAED22ud1QgAAAFwt6HVCAADAwX/odUIAAIAn0uh1QgAAQI0k6XVCAAAA83bpdUIAAMBYyel1QgAAgL4b6nVCAABAJG7qdUIAAACKwOp1QgAAwO8S63VCAACAVWXrdUIAAEC7t+t1QgAAACEK7HVCAADAhlzsdUIAAIDsrux1QgAAQFIB7XVCAAAAuFPtdUIAAMAdpu11QgAAgIP47XVCAABA6UrudUIAAABPne51QgAAwLTv7nVCAACAGkLvdUIAAECAlO91QgAAAObm73VCAADASznwdUIAAICxi/B1QgAAQBfe8HVCAAAAfTDxdUIAAMDigvF1QgAAgEjV8XVCAABArifydUIAAAAUevJ1QgAAwHnM8nVCAACA3x7zdUIAAEBFcfN1QgAAAKvD83VCAADAEBb0dUIAAIB2aPR1QgAAQNy69HVCAAAAQg31dUIAAMCnX/V1QgAAgA2y9XVCAABAcwT2dUIAAADZVvZ1QgAAwD6p9nVCAACApPv2dUIAAEAKTvd1QgAAAHCg93VCAADA1fL3dUIAAIA7Rfh1QgAAQKGX+HVCAAAAB+r4dUIAAMBsPPl1QgAAgNKO+XVCAABAOOH5dUIAAACeM/p1QgAAwAOG+nVCAACAadj6dUIAAEDPKvt1QgAAADV9+3VCAADAms/7dUIAAIAAIvx1QgAAQGZ0/HVCAAAAzMb8dUIAAMAxGf11QgAAgJdr/XVCAABA/b39dUIAAABjEP51QgAAwMhi/nVCAACALrX+dUIAAECUB/91QgAAAPpZ/3VCAADAX6z/dUIAAIDF/v91QgAAQCtRAHZCAAAAkaMAdkIAAMD29QB2QgAAgFxIAXZCAABAwpoBdkIAAAAo7QF2QgAAwI0/AnZCAACA85ECdkIAAEBZ5AJ2QgAAAL82A3ZCAADAJIkDdkIAAICK2wN2QgAAQPAtBHZCAAAAVoAEdkIAAMC70gR2QgAAgCElBXZCAABAh3cFdkIAAADtyQV2QgAAwFIcBnZCAACAuG4GdkIAAEAewQZ2QgAAAIQTB3ZCAADA6WUHdkIAAIBPuAd2QgAAQLUKCHZCAAAAG10IdkIAAMCArwh2QgAAgOYBCXZCAABATFQJdkIAAACypgl2QgAAwBf5CXZCAACAfUsKdkIAAEDjnQp2QgAAAEnwCnZCAADArkILdkIAAIAUlQt2QgAAQHrnC3ZCAAAA4DkMdkIAAMBFjAx2QgAAgKveDHZCAABAETENdkIAAAB3gw12QgAAwNzVDXZCAACAQigOdkIAAECoeg52QgAAAA7NDnZCAADAcx8PdkIAAIDZcQ92QgAAQD/ED3ZCAAAApRYQdkIAAMAKaRB2QgAAgHC7EHZCAABA1g0RdkIAAAA8YBF2QgAAwKGyEXZCAACABwUSdkIAAEBtVxJ2QgAAANOpEnZCAADAOPwSdkIAAICeThN2QgAAQAShE3ZCAAAAavMTdkIAAMDPRRR2QgAAgDWYFHZCAABAm+oUdkIAAAABPRV2QgAAwGaPFXZCAACAzOEVdkIAAEAyNBZ2QgAAAJiGFnZCAADA/dgWdkIAAIBjKxd2QgAAQMl9F3ZCAAAAL9AXdkIAAMCUIhh2QgAAgPp0GHZCAABAYMcYdkIAAADGGRl2QgAAwCtsGXZCAACAkb4ZdkIAAED3EBp2QgAAAF1jGnZCAADAwrUadkIAAIAoCBt2QgAAQI5aG3ZCAAAA9KwbdkIAAMBZ/xt2QgAAgL9RHHZCAABAJaQcdkIAAACL9hx2QgAAwPBIHXZCAACAVpsddkIAAEC87R12QgAAACJAHnZCAADAh5IedkIAAIDt5B52QgAAQFM3H3ZCAAAAuYkfdkIAAMAe3B92QgAAgIQuIHZCAABA6oAgdkIAAABQ0yB2QgAAwLUlIXZCAACAG3ghdkIAAECByiF2QgAAAOccInZCAADATG8idkIAAICywSJ2QgAAQBgUI3ZCAAAAfmYjdkIAAMDjuCN2QgAAgEkLJHZCAABAr10kdkIAAAAVsCR2QgAAwHoCJXZCAACA4FQldkIAAEBGpyV2QgAAAKz5JXZCAADAEUwmdkIAAIB3niZ2QgAAQN3wJnZCAAAAQ0MndkIAAMColSd2QgAAgA7oJ3ZCAABAdDoodkIAAADajCh2QgAAwD/fKHZCAACApTEpdkIAAEALhCl2QgAAAHHWKXZCAADA1igqdkIAAIA8eyp2QgAAQKLNKnZCAAAACCArdkIAAMBtcit2QgAAgNPEK3ZCAABAORcsdkIAAACfaSx2QgAAwAS8LHZCAACAag4tdkIAAEDQYC12QgAAADazLXZCAADAmwUudkIAAIABWC52QgAAQGeqLnZCAAAAzfwudkIAAMAyTy92QgAAgJihL3ZCAABA/vMvdkIAAABkRjB2QgAAwMmYMHZCAACAL+swdkIAAECVPTF2QgAAAPuPMXZCAADAYOIxdkIAAIDGNDJ2QgAAQCyHMnZCAAAAktkydkIAAMD3KzN2QgAAgF1+M3ZCAABAw9AzdkIAAAApIzR2QgAAwI51NHZCAACA9Mc0dkIAAEBaGjV2QgAAAMBsNXZCAADAJb81dkIAAICLETZ2QgAAQPFjNnZCAAAAV7Y2dkIAAMC8CDd2QgAAgCJbN3ZCAABAiK03dkIAAADu/zd2QgAAwFNSOHZCAACAuaQ4dkIAAEAf9zh2QgAAAIVJOXZCAADA6ps5dkIAAIBQ7jl2QgAAQLZAOnZCAAAAHJM6dkIAAMCB5Tp2QgAAgOc3O3ZCAABATYo7dkIAAACz3Dt2QgAAwBgvPHZCAACAfoE8dkIAAEDk0zx2QgAAAEomPXZCAADAr3g9dkIAAIAVyz12QgAAQHsdPnZCAAAA4W8+dkIAAMBGwj52QgAAgKwUP3ZCAABAEmc/dkIAAAB4uT92QgAAwN0LQHZCAACAQ15AdkIAAECpsEB2QgAAAA8DQXZCAADAdFVBdkIAAIDap0F2QgAAQED6QXZCAAAApkxCdkIAAMALn0J2QgAAgHHxQnZCAABA10NDdkIAAAA9lkN2QgAAwKLoQ3ZCAACACDtEdkIAAEBujUR2QgAAANTfRHZCAADAOTJFdkIAAICfhEV2QgAAQAXXRXZCAAAAaylGdkIAAMDQe0Z2QgAAgDbORnZCAABAnCBHdkIAAAACc0d2QgAAwGfFR3ZCAACAzRdIdkIAAEAzakh2QgAAAJm8SHZCAADA/g5JdkIAAIBkYUl2QgAAQMqzSXZCAAAAMAZKdkIAAMCVWEp2QgAAgPuqSnZCAABAYf1KdkIAAADHT0t2QgAAwCyiS3ZCAACAkvRLdkIAAED4Rkx2QgAAAF6ZTHZCAADAw+tMdkIAAIApPk12QgAAQI+QTXZCAAAA9eJNdkIAAMBaNU52QgAAgMCHTnZCAABAJtpOdkIAAACMLE92QgAAwPF+T3ZCAACAV9FPdkIAAEC9I1B2QgAAACN2UHZCAADAiMhQdkIAAIDuGlF2QgAAQFRtUXZCAAAAur9RdkIAAMAfElJ2QgAAgIVkUnZCAABA67ZSdkIAAABRCVN2QgAAwLZbU3ZCAACAHK5TdkIAAECCAFR2QgAAAOhSVHZCAADATaVUdkIAAICz91R2QgAAQBlKVXZCAAAAf5xVdkIAAMDk7lV2QgAAgEpBVnZCAABAsJNWdkIAAAAW5lZ2QgAAwHs4V3ZCAACA4YpXdkIAAEBH3Vd2QgAAAK0vWHZCAADAEoJYdkIAAIB41Fh2QgAAQN4mWXZCAAAARHlZdkIAAMCpy1l2QgAAgA8eWnZCAABAdXBadkIAAADbwlp2QgAAwEAVW3ZCAACApmdbdkIAAEAMult2QgAAAHIMXHZCAADA115cdkIAAIA9sVx2QgAAQKMDXXZCAAAACVZddkIAAMBuqF12QgAAgNT6XXZCAABAOk1edkIAAACgn152QgAAwAXyXnZCAACAa0RfdkIAAEDRll92QgAAADfpX3ZCAADAnDtgdkIAAIACjmB2QgAAQGjgYHZCAAAAzjJhdkIAAMAzhWF2QgAAgJnXYXZCAABA/ylidkIAAABlfGJ2QgAAwMrOYnZCAACAMCFjdkIAAECWc2N2QgAAAPzFY3ZCAADAYRhkdkIAAIDHamR2QgAAQC29ZHZCAAAAkw9ldkIAAMD4YWV2QgAAgF60ZXZCAABAxAZmdkIAAAAqWWZ2QgAAwI+rZnZCAACA9f1mdkIAAEBbUGd2QgAAAMGiZ3ZCAADAJvVndkIAAICMR2h2QgAAQPKZaHZCAAAAWOxodkIAAMC9Pml2QgAAgCORaXZCAABAieNpdkIAAADvNWp2QgAAwFSIanZCAACAutpqdkIAAEAgLWt2QgAAAIZ/a3ZCAADA69FrdkIAAIBRJGx2QgAAQLd2bHZCAAAAHclsdkIAAMCCG212QgAAgOhtbXZCAABATsBtdkIAAAC0Em52QgAAwBllbnZCAACAf7dudkIAAEDlCW92QgAAAEtcb3ZCAADAsK5vdkIAAIAWAXB2QgAAQHxTcHZCAAAA4qVwdkIAAMBH+HB2QgAAgK1KcXZCAABAE51xdkIAAAB573F2QgAAwN5BcnZCAACARJRydkIAAECq5nJ2QgAAABA5c3ZCAADAdYtzdkIAAIDb3XN2QgAAQEEwdHZCAAAAp4J0dkIAAMAM1XR2QgAAgHIndXZCAABA2Hl1dkIAAAA+zHV2QgAAwKMednZCAACACXF2dkIAAEBvw3Z2QgAAANUVd3ZCAADAOmh3dkIAAICgund2QgAAQAYNeHZCAAAAbF94dkIAAMDRsXh2QgAAgDcEeXZCAABAnVZ5dkIAAAADqXl2QgAAwGj7eXZCAACAzk16dkIAAEA0oHp2QgAAAJryenZCAADA/0R7dkIAAIBll3t2QgAAQMvpe3ZCAAAAMTx8dkIAAMCWjnx2QgAAgPzgfHZCAABAYjN9dkIAAADIhX12QgAAwC3YfXZCAACAkyp+dkIAAED5fH52QgAAAF/PfnZCAADAxCF/dkIAAIAqdH92QgAAQJDGf3ZCAAAA9hiAdkIAAMBba4B2QgAAgMG9gHZCAABAJxCBdkIAAACNYoF2QgAAwPK0gXZCAACAWAeCdkIAAEC+WYJ2QgAAACSsgnZCAADAif6CdkIAAIDvUIN2QgAAQFWjg3ZCAAAAu/WDdkIAAMAgSIR2QgAAgIaahHZCAABA7OyEdkIAAABSP4V2QgAAwLeRhXZCAACAHeSFdkIAAECDNoZ2QgAAAOmIhnZCAADATtuGdkIAAIC0LYd2QgAAQBqAh3ZCAAAAgNKHdkIAAMDlJIh2QgAAgEt3iHZCAABAscmIdkIAAAAXHIl2QgAAwHxuiXZCAACA4sCJdkIAAEBIE4p2QgAAAK5linZCAADAE7iKdkIAAIB5Cot2QgAAQN9ci3ZCAAAARa+LdkIAAMCqAYx2QgAAgBBUjHZCAABAdqaMdkIAAADc+Ix2QgAAwEFLjXZCAACAp52NdkIAAEAN8I12QgAAAHNCjnZCAADA2JSOdkIAAIA+5452QgAAQKQ5j3ZCAAAACoyPdkIAAMBv3o92QgAAgNUwkHZCAABAO4OQdkIAAACh1ZB2QgAAwAYokXZCAACAbHqRdkIAAEDSzJF2QgAAADgfknZCAADAnXGSdkIAAIADxJJ2QgAAQGkWk3ZCAAAAz2iTdkIAAMA0u5N2QgAAgJoNlHZCAABAAGCUdkIAAABmspR2QgAAwMsElXZCAACAMVeVdkIAAECXqZV2QgAAAP37lXZCAADAYk6WdkIAAIDIoJZ2QgAAQC7zlnZCAAAAlEWXdkIAAMD5l5d2QgAAgF/ql3ZCAABAxTyYdkIAAAArj5h2QgAAwJDhmHZCAACA9jOZdkIAAEBchpl2QgAAAMLYmXZCAADAJyuadkIAAICNfZp2QgAAQPPPmnZCAAAAWSKbdkIAAMC+dJt2QgAAgCTHm3ZCAABAihmcdkIAAADwa5x2QgAAwFW+nHZCAACAuxCddkIAAEAhY512QgAAAIe1nXZCAADA7AeedkIAAIBSWp52QgAAQLisnnZCAAAAHv+edkIAAMCDUZ92QgAAgOmjn3ZCAABAT/afdkIAAAC1SKB2QgAAwBqboHZCAACAgO2gdkIAAEDmP6F2QgAAAEySoXZCAADAseShdkIAAIAXN6J2QgAAQH2JonZCAAAA49uidkIAAMBILqN2QgAAgK6Ao3ZCAABAFNOjdkIAAAB6JaR2QgAAwN93pHZCAACARcqkdkIAAECrHKV2QgAAABFvpXZCAADAdsGldkIAAIDcE6Z2QgAAQEJmpnZCAAAAqLimdkIAAMANC6d2QgAAgHNdp3ZCAABA2a+ndkIAAAA/Aqh2QgAAwKRUqHZCAACACqeodkIAAEBw+ah2QgAAANZLqXZCAADAO56pdkIAAICh8Kl2QgAAQAdDqnZCAAAAbZWqdkIAAMDS56p2QgAAgDg6q3ZCAABAnoyrdkIAAAAE36t2QgAAwGkxrHZCAACAz4OsdkIAAEA11qx2QgAAAJsorXZCAADAAHutdkIAAIBmza12QgAAQMwfrnZCAAAAMnKudkIAAMCXxK52QgAAgP0Wr3ZCAABAY2mvdkIAAADJu692QgAAwC4OsHZCAACAlGCwdkIAAED6srB2QgAAAGAFsXZCAADAxVexdkIAAIArqrF2QgAAQJH8sXZCAAAA906ydkIAAMBcobJ2QgAAgMLzsnZCAABAKEazdkIAAACOmLN2QgAAwPPqs3ZCAACAWT20dkIAAEC/j7R2QgAAACXitHZCAADAijS1dkIAAIDwhrV2QgAAQFbZtXZCAAAAvCu2dkIAAMAhfrZ2QgAAgIfQtnZCAABA7SK3dkIAAABTdbd2QgAAwLjHt3ZCAACAHhq4dkIAAECEbLh2QgAAAOq+uHZCAADATxG5dkIAAIC1Y7l2QgAAQBu2uXZCAAAAgQi6dkIAAMDmWrp2QgAAgEytunZCAABAsv+6dkIAAAAYUrt2QgAAwH2ku3ZCAACA4/a7dkIAAEBJSbx2QgAAAK+bvHZCAADAFO68dkIAAIB6QL12QgAAQOCSvXZCAAAARuW9dkIAAMCrN752QgAAgBGKvnZCAABAd9y+dkIAAADdLr92QgAAwEKBv3ZCAACAqNO/dkIAAEAOJsB2QgAAAHR4wHZCAADA2crAdkIAAIA/HcF2QgAAQKVvwXZCAAAAC8LBdkIAAMBwFMJ2QgAAgNZmwnZCAABAPLnCdkIAAACiC8N2QgAAwAdew3ZCAACAbbDDdkIAAEDTAsR2QgAAADlVxHZCAADAnqfEdkIAAIAE+sR2QgAAQGpMxXZCAAAA0J7FdkIAAMA18cV2QgAAgJtDxnZCAABAAZbGdkIAAABn6MZ2QgAAwMw6x3ZCAACAMo3HdkIAAECY38d2QgAAAP4xyHZCAADAY4TIdkIAAIDJ1sh2QgAAQC8pyXZCAAAAlXvJdkIAAMD6zcl2QgAAgGAgynZCAABAxnLKdkIAAAAsxcp2QgAAwJEXy3ZCAACA92nLdkIAAEBdvMt2QgAAAMMOzHZCAADAKGHMdkIAAICOs8x2QgAAQPQFzXZCAAAAWljNdkIAAMC/qs12QgAAgCX9zXZCAABAi0/OdkIAAADxoc52QgAAwFb0znZCAACAvEbPdkIAAEAimc92QgAAAIjrz3ZCAADA7T3QdkIAAIBTkNB2QgAAQLni0HZCAAAAHzXRdkIAAMCEh9F2QgAAgOrZ0XZCAABAUCzSdkIAAAC2ftJ2QgAAwBvR0nZCAACAgSPTdkIAAEDnddN2QgAAAE3I03ZCAADAshrUdkIAAIAYbdR2QgAAQH6/1HZCAAAA5BHVdkIAAMBJZNV2QgAAgK+21XZCAABAFQnWdkIAAAB7W9Z2QgAAwOCt1nZCAACARgDXdkIAAECsUtd2QgAAABKl13ZCAADAd/fXdkIAAIDdSdh2QgAAQEOc2HZCAAAAqe7YdkIAAMAOQdl2QgAAgHST2XZCAABA2uXZdkIAAABAONp2QgAAwKWK2nZCAACAC93adkIAAEBxL9t2QgAAANeB23ZCAADAPNTbdkIAAICiJtx2QgAAQAh53HZCAAAAbsvcdkIAAMDTHd12QgAAgDlw3XZCAABAn8LddkIAAAAFFd52QgAAwGpn3nZCAACA0LnedkIAAEA2DN92QgAAAJxe33ZCAADAAbHfdkIAAIBnA+B2QgAAQM1V4HZCAAAAM6jgdkIAAMCY+uB2QgAAgP5M4XZCAABAZJ/hdkIAAADK8eF2QgAAwC9E4nZCAACAlZbidkIAAED76OJ2QgAAAGE743ZCAADAxo3jdkIAAIAs4ON2QgAAQJIy5HZCAAAA+ITkdkIAAMBd1+R2QgAAgMMp5XZCAABAKXzldkIAAACPzuV2QgAAwPQg5nZCAACAWnPmdkIAAEDAxeZ2QgAAACYY53ZCAADAi2rndkIAAIDxvOd2QgAAQFcP6HZCAAAAvWHodkIAAMAitOh2QgAAgIgG6XZCAABA7ljpdkIAAABUq+l2QgAAwLn96XZCAACAH1DqdkIAAECFoup2QgAAAOv06nZCAADAUEfrdkIAAIC2met2QgAAQBzs63ZCAAAAgj7sdkIAAMDnkOx2QgAAgE3j7HZCAABAszXtdkIAAAAZiO12QgAAwH7a7XZCAACA5CzudkIAAEBKf+52QgAAALDR7nZCAADAFSTvdkIAAIB7du92QgAAQOHI73ZCAAAARxvwdkIAAMCsbfB2QgAAgBLA8HZCAABAeBLxdkIAAADeZPF2QgAAwEO38XZCAACAqQnydkIAAEAPXPJ2QgAAAHWu8nZCAADA2gDzdkIAAIBAU/N2QgAAQKal83ZCAAAADPjzdkIAAMBxSvR2QgAAgNec9HZCAABAPe/0dkIAAACjQfV2QgAAwAiU9XZCAACAbub1dkIAAEDUOPZ2QgAAADqL9nZCAADAn932dkIAAIAFMPd2QgAAQGuC93ZCAAAA0dT3dkIAAMA2J/h2QgAAgJx5+HZCAABAAsz4dkIAAABoHvl2QgAAwM1w+XZCAACAM8P5dkIAAECZFfp2QgAAAP9n+nZCAADAZLr6dkIAAIDKDPt2QgAAQDBf+3ZCAAAAlrH7dkIAAMD7A/x2QgAAgGFW/HZCAABAx6j8dkIAAAAt+/x2QgAAwJJN/XZCAACA+J/9dkIAAEBe8v12QgAAAMRE/nZCAADAKZf+dkIAAICP6f52QgAAQPU7/3ZCAAAAW47/dkIAAMDA4P92QgAAgCYzAHdCAABAjIUAd0IAAADy1wB3QgAAwFcqAXdCAACAvXwBd0IAAEAjzwF3QgAAAIkhAndCAADA7nMCd0IAAIBUxgJ3QgAAQLoYA3dCAAAAIGsDd0IAAMCFvQN3QgAAgOsPBHdCAABAUWIEd0IAAAC3tAR3QgAAwBwHBXdCAACAglkFd0IAAEDoqwV3QgAAAE7+BXdCAADAs1AGd0IAAIAZowZ3QgAAQH/1BndCAAAA5UcHd0IAAMBKmgd3QgAAgLDsB3dCAABAFj8Id0IAAAB8kQh3QgAAwOHjCHdCAACARzYJd0IAAECtiAl3QgAAABPbCXdCAADAeC0Kd0IAAIDefwp3QgAAQETSCndCAAAAqiQLd0IAAMAPdwt3QgAAgHXJC3dCAABA2xsMd0IAAABBbgx3QgAAwKbADHdCAACADBMNd0IAAEByZQ13QgAAANi3DXdCAADAPQoOd0IAAICjXA53QgAAQAmvDndCAAAAbwEPd0IAAMDUUw93QgAAgDqmD3dCAABAoPgPd0IAAAAGSxB3QgAAwGudEHdCAACA0e8Qd0IAAEA3QhF3QgAAAJ2UEXdCAADAAucRd0IAAIBoORJ3QgAAQM6LEndCAAAANN4Sd0IAAMCZMBN3QgAAgP+CE3dCAABAZdUTd0IAAADLJxR3QgAAwDB6FHdCAACAlswUd0IAAED8HhV3QgAAAGJxFXdCAADAx8MVd0IAAIAtFhZ3QgAAQJNoFndCAAAA+boWd0IAAMBeDRd3QgAAgMRfF3dCAABAKrIXd0IAAACQBBh3QgAAwPVWGHdCAACAW6kYd0IAAEDB+xh3QgAAACdOGXdCAADAjKAZd0IAAIDy8hl3QgAAQFhFGndCAAAAvpcad0IAAMAj6hp3QgAAgIk8G3dCAABA744bd0IAAABV4Rt3QgAAwLozHHdCAACAIIYcd0IAAECG2Bx3QgAAAOwqHXdCAADAUX0dd0IAAIC3zx13QgAAQB0iHndCAAAAg3Qed0IAAMDoxh53QgAAgE4ZH3dCAABAtGsfd0IAAAAavh93QgAAwH8QIHdCAACA5WIgd0IAAEBLtSB3QgAAALEHIXdCAADAFlohd0IAAIB8rCF3QgAAQOL+IXdCAAAASFEid0IAAMCtoyJ3QgAAgBP2IndCAABAeUgjd0IAAADfmiN3QgAAwETtI3dCAACAqj8kd0IAAEAQkiR3QgAAAHbkJHdCAADA2zYld0IAAIBBiSV3QgAAQKfbJXdCAAAADS4md0IAAMBygCZ3QgAAgNjSJndCAABAPiUnd0IAAACkdyd3QgAAwAnKJ3dCAACAbxwod0IAAEDVbih3QgAAADvBKHdCAADAoBMpd0IAAIAGZil3QgAAQGy4KXdCAAAA0goqd0IAAMA3XSp3QgAAgJ2vKndCAABAAwIrd0IAAABpVCt3QgAAwM6mK3dCAACANPkrd0IAAECaSyx3QgAAAACeLHdCAADAZfAsd0IAAIDLQi13QgAAQDGVLXdCAAAAl+ctd0IAAMD8OS53QgAAgGKMLndCAABAyN4ud0IAAAAuMS93QgAAwJODL3dCAACA+dUvd0IAAEBfKDB3QgAAAMV6MHdCAADAKs0wd0IAAICQHzF3QgAAQPZxMXdCAAAAXMQxd0IAAMDBFjJ3QgAAgCdpMndCAABAjbsyd0IAAADzDTN3QgAAwFhgM3dCAACAvrIzd0IAAEAkBTR3QgAAAIpXNHdCAADA76k0d0IAAIBV/DR3QgAAQLtONXdCAAAAIaE1d0IAAMCG8zV3QgAAgOxFNndCAABAUpg2d0IAAAC46jZ3QgAAwB09N3dCAACAg483d0IAAEDp4Td3QgAAAE80OHdCAADAtIY4d0IAAIAa2Th3QgAAQIArOXdCAAAA5n05d0IAAMBL0Dl3QgAAgLEiOndCAABAF3U6d0IAAAB9xzp3QgAAwOIZO3dCAACASGw7d0IAAECuvjt3QgAAABQRPHdCAADAeWM8d0IAAIDftTx3QgAAQEUIPXdCAAAAq1o9d0IAAMAQrT13QgAAgHb/PXdCAABA3FE+d0IAAABCpD53QgAAwKf2PndCAACADUk/d0IAAEBzmz93QgAAANntP3dCAADAPkBAd0IAAICkkkB3QgAAQArlQHdCAAAAcDdBd0IAAMDViUF3QgAAgDvcQXdCAABAoS5Cd0IAAAAHgUJ3QgAAwGzTQndCAACA0iVDd0IAAEA4eEN3QgAAAJ7KQ3dCAADAAx1Ed0IAAIBpb0R3QgAAQM/BRHdCAAAANRRFd0IAAMCaZkV3QgAAgAC5RXdCAABAZgtGd0IAAADMXUZ3QgAAwDGwRndCAACAlwJHd0IAAED9VEd3QgAAAGOnR3dCAADAyPlHd0IAAIAuTEh3QgAAQJSeSHdCAAAA+vBId0IAAMBfQ0l3QgAAgMWVSXdCAABAK+hJd0IAAACROkp3QgAAwPaMSndCAACAXN9Kd0IAAEDCMUt3QgAAACiES3dCAADAjdZLd0IAAIDzKEx3QgAAQFl7THdCAAAAv81Md0IAAMAkIE13QgAAgIpyTXdCAABA8MRNd0IAAABWF053QgAAwLtpTndCAACAIbxOd0IAAECHDk93QgAAAO1gT3dCAADAUrNPd0IAAIC4BVB3QgAAQB5YUHdCAAAAhKpQd0IAAMDp/FB3QgAAgE9PUXdCAABAtaFRd0IAAAAb9FF3QgAAwIBGUndCAACA5phSd0IAAEBM61J3QgAAALI9U3dCAADAF5BTd0IAAIB94lN3QgAAQOM0VHdCAAAASYdUd0IAAMCu2VR3QgAAgBQsVXdCAABAen5Vd0IAAADg0FV3QgAAwEUjVndCAACAq3VWd0IAAEARyFZ3QgAAAHcaV3dCAADA3GxXd0IAAIBCv1d3QgAAQKgRWHdCAAAADmRYd0IAAMBztlh3QgAAgNkIWXdCAABAP1tZd0IAAAClrVl3QgAAwAoAWndCAACAcFJad0IAAEDWpFp3QgAAADz3WndCAADAoUlbd0IAAIAHnFt3QgAAQG3uW3dCAAAA00Bcd0IAAMA4k1x3QgAAgJ7lXHdCAABABDhdd0IAAABqil13QgAAwM/cXXdCAACANS9ed0IAAECbgV53QgAAAAHUXndCAADAZiZfd0IAAIDMeF93QgAAQDLLX3dCAAAAmB1gd0IAAMD9b2B3QgAAgGPCYHdCAABAyRRhd0IAAAAvZ2F3QgAAwJS5YXdCAACA+gtid0IAAEBgXmJ3QgAAAMawYndCAADAKwNjd0IAAICRVWN3QgAAQPenY3dCAAAAXfpjd0IAAMDCTGR3QgAAgCifZHdCAABAjvFkd0IAAAD0Q2V3QgAAwFmWZXdCAACAv+hld0IAAEAlO2Z3QgAAAIuNZndCAADA8N9md0IAAIBWMmd3QgAAQLyEZ3dCAAAAItdnd0IAAMCHKWh3QgAAgO17aHdCAABAU85od0IAAAC5IGl3QgAAwB5zaXdCAACAhMVpd0IAAEDqF2p3QgAAAFBqandCAADAtbxqd0IAAIAbD2t3QgAAQIFha3dCAAAA57Nrd0IAAMBMBmx3QgAAgLJYbHdCAABAGKtsd0IAAAB+/Wx3QgAAwONPbXdCAACASaJtd0IAAECv9G13QgAAABVHbndCAADAeplud0IAAIDg6253QgAAQEY+b3dCAAAArJBvd0IAAMAR4293QgAAgHc1cHdCAABA3Ydwd0IAAABD2nB3QgAAwKgscXdCAACADn9xd0IAAEB00XF3QgAAANojcndCAADAP3Zyd0IAAIClyHJ3QgAAQAsbc3dCAAAAcW1zd0IAAMDWv3N3QgAAgDwSdHdCAABAomR0d0IAAAAIt3R3QgAAwG0JdXdCAACA01t1d0IAAEA5rnV3QgAAAJ8AdndCAADABFN2d0IAAIBqpXZ3QgAAQND3dndCAAAANkp3d0IAAMCbnHd3QgAAgAHvd3dCAABAZ0F4d0IAAADNk3h3QgAAwDLmeHdCAACAmDh5d0IAAED+inl3QgAAAGTdeXdCAADAyS96d0IAAIAvgnp3QgAAQJXUendCAAAA+yZ7d0IAAMBgeXt3QgAAgMbLe3dCAABALB58d0IAAACScHx3QgAAwPfCfHdCAACAXRV9d0IAAEDDZ313QgAAACm6fXdCAADAjgx+d0IAAID0Xn53QgAAQFqxfndCAAAAwAN/d0IAAMAlVn93QgAAgIuof3dCAABA8fp/d0IAAABXTYB3QgAAwLyfgHdCAACAIvKAd0IAAECIRIF3QgAAAO6WgXdCAADAU+mBd0IAAIC5O4J3QgAAQB+OgndCAAAAheCCd0IAAMDqMoN3QgAAgFCFg3dCAABAtteDd0IAAAAcKoR3QgAAwIF8hHdCAACA586Ed0IAAEBNIYV3QgAAALNzhXdCAADAGMaFd0IAAIB+GIZ3QgAAQORqhndCAAAASr2Gd0IAAMCvD4d3QgAAgBVih3dCAABAe7SHd0IAAADhBoh3QgAAwEZZiHdCAACArKuId0IAAEAS/oh3QgAAAHhQiXdCAADA3aKJd0IAAIBD9Yl3QgAAQKlHindCAAAAD5qKd0IAAMB07Ip3QgAAgNo+i3dCAABAQJGLd0IAAACm44t3QgAAwAs2jHdCAACAcYiMd0IAAEDX2ox3QgAAAD0tjXdCAADAon+Nd0IAAIAI0o13QgAAQG4kjndCAAAA1HaOd0IAAMA5yY53QgAAgJ8bj3dCAABABW6Pd0IAAABrwI93QgAAwNASkHdCAACANmWQd0IAAECct5B3QgAAAAIKkXdCAADAZ1yRd0IAAIDNrpF3QgAAQDMBkndCAAAAmVOSd0IAAMD+pZJ3QgAAgGT4kndCAABAykqTd0IAAAAwnZN3QgAAwJXvk3dCAACA+0GUd0IAAEBhlJR3QgAAAMfmlHdCAADALDmVd0IAAICSi5V3QgAAQPjdlXdCAAAAXjCWd0IAAMDDgpZ3QgAAgCnVlndCAABAjyeXd0IAAAD1eZd3QgAAwFrMl3dCAACAwB6Yd0IAAEAmcZh3QgAAAIzDmHdCAADA8RWZd0IAAIBXaJl3QgAAQL26mXdCAAAAIw2ad0IAAMCIX5p3QgAAgO6xmndCAABAVASbd0IAAAC6Vpt3QgAAwB+pm3dCAACAhfubd0IAAEDrTZx3QgAAAFGgnHdCAADAtvKcd0IAAIAcRZ13QgAAQIKXnXdCAAAA6Omdd0IAAMBNPJ53QgAAkCtDnndC\",\"dtype\":\"float64\",\"order\":\"little\",\"shape\":[1407]},\"value\":{\"__ndarray__\":\"AAAAAAAAAAAAAAAAAAAAAAAAAAAAAAAAAAAAAAAAAAAAAAAAAAAAAAAAAAAAAAAAAAAAAAAAAAAAAAAAAAAAAAAAAAAAAAAAAAAAAAAAAAAAAAAAAAAAAAAAAAAAAAAAAAAAAAAAAAAAAAAAAAAAAAAAAAAAAAAAAAAAAAAAAAAAAAAAAAAAAAAAAAAAAAAAAAAAAAAAAAAAAAAAAAAAAAAAAAAAAAAAAAAAAAAAAAAAAAAAAAAAAAAAAAAAAAAAAAAAAAAAAAAAAAAAAAAAAAAAAAAAAAAAAAAAAAAAAAAAAAAAAAAAAAAAAAAAAAAAAAAAAAAAAAAAAAAAAAAAAAAAAAAAAAAAAAAAAAAAAAAAAAAAAAAAAAAAAAAAAAAAAAAAAAAAAAAAAAAAAAAAAAAAAAAAAAAAAAAAAAAAAAAAAAAAAAAAAAAAAAAAAAAAAAAAAAAAAAAAAAAAAAAAAAAAAAAAAAAAAAAAAAAAAAAAAAAAAAAAAAAAAAAAAAAAAAAAAAAAAAAAAAAAAAAAAAAAAAAAAAAAAAAAAAAAAAAAAAAAAAAAAAAAAAAAAAAAAAAAAAAAAAAAAAAAAAAAAAAAAAAAAAAAAAAAAAAAAAAAAAAAAAAAAAAAAAAAAAAAAAAAAAAAAAAAAAAAAAAAAAAAAAAAAAAAAAAAAAAAAAAAAAAAAAAAAAAAAAAAAAAAAAAAAAAAAAAAAAAAAAAAAAAAAAAAAAAAAAAAAAAAAAAAAAAAAAAAAAAAAAAAAAAAAAAAAAAAAAAAAAAAAAAAAAAAAAAAAAAAAAAAAAAAAAAAAAAAAAAAAAAAAAAAAAAAAAAAAAAAAAAAAAAAAAAAAAAAAAAAAAAAAAAAAAAAAAAAAAAAAAAAAAAAAAAAAAAAAAAAAAAAAAAAAAAAAAAAAAAAAAAAAAAAAAAAAAAAAAAAAAAAAAAAAAAAAAAAAAAAAAAAAAAAAAAAAAAAAAAAAAAAAAAAAAAAAAAAAAAAAAAAAAAAAAAAAAAAAAAAAAAAAAAAAAAAAAAAAAAAAAAAAAAAAAAAAAAAAAAAAAAAAAAAAAAAAAAAAAAAAAAAAAAAAAAAAAAAAAAAAAAAAAAAAAAAAAAAAAAAAAAAAAAAAAAAAAAAAAAAAAAAAAAAAAAAAAAAAAAAAAAAAAAAAAAAAAAAAAAAAAAAAAAAAAAAAAAAAAAAAAAAAAAAAAAAAAAAAAAAAAAAAAAAAAAAAAAAAAAAAAAAAAAAAAAAAAAAAAAAAAAAAAAAAAAAAAAAAAAAAAAAAAAAAAAAAAAAAAAAAAAAAAAAAAAAAAAAAAAAAAAAAAAAAAAAAAAAAAAAAAAAAAAAAAAAAAAAAAAAAAAAAAAAAAAAAAAAAAAAAAAAAAAAAAAAAAAAAAAAAAAAAAAAAAAAAAAAAAAAAAAAAAAAAAAAAAAAAAAAAAAAAAAAAAAAAAAAAAAAAAAAAAAAAAAAws4ni68I8D/v77oeTx7wPzMTKoaUFPA/3rgMiUk98D/q7tk6gTfwP4srOpOnRfA/CZnW8PU48D8Yx5Xykj7wPx5TWcadZfA/MXC7Nq1G8D9FuJqUQVvwP+m0IKtKPPA/kANpnbUm8D/cno+XVjzwPzN1r8DEYfA/DvEf9Ot08D+sPhxC41bwP8ar69HNbvA/PghyKdZ88D8+xseseIXwP0bvzPMEq/A/9xD+1cSi8D9qYBfFs3/wP3FsH+3dcfA/m3ikTReO8D875fh5eHDwP1dDWAjINvA/RrCOdNeUEkHN35DJCcUSQb9VH+9n9hJBPTje9ND4EkGt+5UH6u0TQZzytUHcAxVBA5VxQwhlFEFXYR7+KBcTQZclpdzILRNBFfWRLKN5EkHvcoS/VI8RQVweRCW35hFBioDYq/SZEEELsROamI4NQcNhylhtfA9BjBwBq9UjD0H6qoJ2KhQQQT5pDawkrhBBXASpAFx4EEHUnJIk0jcQQdZ7j6+3mxFBlMunnYReEUF7Gb0esB0SQaLA68K1NRJBzJN6yLpPEkENP7t9kKMSQSuEEJaqRBJBbwwsl8FoEkE6Y5TRF7cRQXYHzjGVQhFBBWTr6ZObEEHig2x3oPIQQZhIS/3atRBBTktieFfPEEFLkhOs7BERQdHjDwX7GxFBkbRG4KTCEEHaHHWiKh0RQcLetT1w/xBBdBcmKmr2EEGE4vocBuwQQeMIiRHP0hBBxHmq9JdpEEHQ08vqFFIPQaztQZP5aQ1BHew5EYe9DUFNGvOZih0NQUskKaAS1g1BGIVf/48ZDUFqbtLFiM4MQTo0Nq+LEAtByEJHTE1zCkHBb/VH22gKQUyqcg+GKQlBZcB8pKXKCEFv07tWSVEJQVjoHXYHqQlBigEz9V/ZCUEA07mx7zUJQVC1d7F0gAlB4aogCItPCUFdnILui04JQftAHAbHIAhBLXd8NclMB0F2Y/tZKVgHQSwDMg+k5wVB2b+BHanhBUGTyd+kBg0GQeYzdpzvfwVBs/2NY7HMBUG2aLlj32wGQQxSllZJywVBziMU0aARBkGed5U353sFQep00m418gVBWJJpu8BrBkFUUAIE6EIGQeFDRcCd4QZBQc0wYMDKB0Goi8M8EFwJQSijZSCvbwlBKsRwcunDCUGs4LI2vTwKQbukGk64DwpBpzyxFqLhCUEPySr/SZIKQV/AymqgygtBpmv2qukUDUFbls88rd4MQXu6QgpRMw1Bclg7bx9bDkEO6fGt3yQQQW5aCeoUpg5BfbIdbWPRD0E51LRJd58PQVc3V7WzRxBB92xy/XcpEEE4v6dgd7UPQZNOXow3zw9BkVYxRTMlEEGzoPh9gfoQQentBSGa4hBBjH0lbgZXEUGiWsfkhAoRQfwed/YwshBB3U3rga6wEEEeDx2XEd4QQTn4vPDpnhBB8tk0+1TFD0Gc/DnjELYPQe0AHZ0qfRBB+F2oZyKAEEF7/mADdRwQQeaozo45FhBB9kXSV1ykD0Fcnus/kx4QQS4jCUs9KhBBFnd6q4KDEEF3dBx2LCsQQZBbrxhfBQ9BaO8mMWFiDUE/XpQAjhUOQa3BTp6MYw1ByR+X651fDUFlKt1YiCQNQa6pchutBQxBtudeb9qgDUEq6yRzUoYNQXfPfRjzOA5BTT/5WRktDkFvoO/pn90OQaTFGzewQg9BGyvd7iqdDkHyvi+/RuUOQTCo/UDX8A5BIXzwwCCcDkHohfSPQKsOQf1l4r3Uew5B5fsG2wpqDEGST0BN1q0MQUcyTCx2gQtBs13LtojwCkHDIvYPAEcMQdFkbrhAYwtBoNZWWX+ZC0E/tDuyZYALQdr+H66MLgxBrwZNF+iADEFcPjK3IqsMQYfDZg8OAgxBaB/izGttCkElEx/FMs4KQa3TAWlCPgpB1soYXi6LCkG13btj3bAJQUCH2iywyQlBF6E4l4o4CUG24EFAfaoJQWQSdI2oEwpBz6bjz1E4CkHjEO9/xsQKQTxHbOxamQpBXtc1dlPMCkEoE13bZJwKQVBaV8JWywpBsm+1MLnwCkGgc4IegjQLQZDAwlvM4ApBkMDCW8zgCkHzNnmoGt8KQUEogZgVkgpBHfqtNn7FCkGmf24Su+EKQYvgYDNXQQtBi1eqdMJlDEF/+zwecgoNQTYlHv6BRgxBLPoZOzmoDEFbMxuBBdMLQWNPgXHLuwxB+zywTDqfDEHRJo7COUEMQRnsWgMTJA1BkkiLrcEtDUFNKQg6OacMQSR3LiTC9wxBOUewYp4tDUGPB03/ThkNQae+v7ky6wxBRkBcr9cZDEGlTfvqJpALQUeIcCRXRQtB2cRnayFYC0Excxvbig4LQSnzY5rQVwtBrJw+qFcUC0EH45BwdoEKQZJ6c/KkcwlBWd81p2sZCkHakM/459QIQbDf58XV0AdBWZ4gBWT7B0Hp9r+0grYGQfd6/iQvdwZBy/IIh/W1BkFzAHZM/PkGQaPnwl+dUwhBvhexpLSlB0Eo1ZSF394HQZopSdYr1wZBoEO8OLt+B0HFxGp68RYHQULTY4yYWAdBVZQsbLudB0HutTO9HI4HQU7quRpEVgdBr9mGgtXYB0E+l6rU9m8IQaOBhi7QKQhBGQ5alErtB0EFFqApq/IHQRKQV4W+YwhBTi4oUQ9yCEEyKffBrE0IQfuWt8bpFQhBaU/mF42tBUFnmLLXHsUFQQy7/dwhOQVBTO9oi/BcBEHmXAgL4zUEQb5nrZmSiQRBB5OHrgdNBEEMlv4Qti8EQeLgcu866gVBYbTp24q+BUGGMrAYIjwGQWsfOa1KLgZBZTcJ95QHBUEkNsU5ha4FQdRF6+pqsgVBPrptjOJ0BkG0dgj8+WQHQffe6PJ18QZBkludFrE5B0FqRcpCkY4GQflr4h8QKQZBCo1RFRQ+BkE2zWa6T8YGQRI1s3yJgAZBDc+tNXn0BkGhNIKfhwUHQY0JDQ661AZBvNaJwzfJBkFxY0kbKWwGQYRmdq2aowZBjcDqEha9BkHGfMr5YaUGQdcNcSTFmgZBFgregV/rBkEQ8yf1bcwGQeFyx2rVuQZBfG6/1YDqBEFIDU1cOmwFQbATsWbP6AVB2hIOV4QfB0H+2AlFTpwHQXhnmy8pVwdB/7Q2J0aFB0H+JupgWnQHQaXWzn+XXwdBkXRWzemlB0EQ3Q5LCegIQbLY+v8GxQhBqaLo+DDlCEE9+bHa9JYKQewUtlaCpwpBVJXC+MCVCkERXDoPGbYKQXQXMIKQ9QpBCnFD+VcnDEF2+kb8KUQMQR4WmxfRlAxBJkYugeyREUFeI3CmZa4RQW3sl3OJpxFBpnMZ4GvMEUEricrFNsURQZKqKCT+mRFBjOHfXyazEUF6QSkdSesQQYliK8PjrQpBvh+4vz7mCkEtSJVei0AMQXLgM8Y2SAxBCPzERDQwC0G2AVLxjAMNQYWJbTx6tgxBkl8O79EXDEGRBQqvO3EPQQgVqM9vmg9BiLsYKGR7DUFjZvk1+9YRQWVjY95MShJBjsZJLbzCEUF0x38tnowRQYOdpueilA1BAO98B/rPCkH5lL/W21UKQbezFwSaBQtBbgVHqIgGD0FC8QEY0RgQQcn6uOSccRNB6kH9D/TEE0HLyPgdtMQTQaU6Vg6mDRRBFBfHHDrNFEFHBXXO3loVQcoYR/eZpxRBpuFr+mmGEUFQXRvxd+4TQbMzKy1TPxRBYBVI42CYEEFm4ZMcSnsQQSSJhTx0iBJBR8fZhAvqEkFPJIHgi+4SQVkbe94MtBZBp4PX4w6wFkFNWeVhK3kVQc8Qh6s7zBFBaj5ZghNcEEFGu7NURDESQYwX7THDhRFBemT829zcEUF6B0rqIPwRQRr4kz4NUxJBlnbaiR5gCkF2hlmfUKkKQXlJUlTSpAtBWxrBmQAWDUGZXLuSvVAPQZYIIlXwmQ9B1VmzboVXEEH3lMmsbK8SQdB/8rMSWxFBQinVBtflE0HE2tAR7GATQbEcRkEGjhNBAqz7AI/nE0E09jsLMboVQa2kKV07wBVBainINbrRFEGGQKfmkWIWQTIRv+mBFxRBVvpFmphLFkF4M5jKJ2sVQZ0tjWKIaxVBLjTLzE4IF0FgiB2wgmcWQTxXFq0uaxhBwWL+3NuOGEEQX6kueh8aQWxU/Z2ZVxdBSbr3YVCtF0FhSaA5QFoXQeDKyHUjrxdBKFjiOMhkFUE7ogECpEQVQbyqbPmuWhdB1ml06fa+F0FwAwjgNeMWQQAJlFv9WxZB60M/b4vkFkH9Bgke4xMWQQnQQJVG3RVBhEIYRwNUFkGqzcQmfBMXQQTvo49YWxhBqDrPSZKoGEE1o1eucQkZQV+4WoHS1xhBcmXb5lOMGUHp3d83v6gXQf4alrazrhhBtoygXY1CHUFkxRp9E34gQYcUoPPHuyBBQBnjHVYZIEGmDDimpeUgQdbN/3XJcCJB/q700JOHJEE4n5frsyInQbKgiMzLNChBI7sKosTgJkFZjecUvhsrQUSH/rwBFytBMBXCY0QVLEEaN04homEsQcbayEAFtCxBMY/grbjuLEFaTdvfEN8vQXbHpH1P1S5B1I4r9J6bMEGsi9xYGXExQVxlFCzm0zFBuZP3qNh5MUGU6ys7oVUwQXs5m4sWIjFBmDK4xn36MEEQEvg7GlcxQb4O2Z/8dTFB/5nPXZqCMUFojGiL1JYxQahGZJJyxzJBei330FNIM0EVBNNCQ+4zQWwM0X+hJTRBcJ3vRiqdNEHfo3X8FpY0QYPG1yjQrTRB3SfNAMk6N0F2jr5jaiIzQV2ztSIkBzNBUq38QQ84M0FMP9x+5bIzQXAqSh0DuDNB2hHLBH9GNEE7i/avlWE0QV4pbMdzgDRB6ls8H9h9NEGGxGHbJN01QbuYap8jOjVBL2RhrqQ7NUFGt6hYfqY1QfjrepRVsjVB5mMOde4oNkH3WySR0gw2QbwsswXAfjdB6V6hshPtN0Ey5layZOY3QUqBPTpSfThB8V9uENBEN0E+emP0SQ05QSqb8C2VYDdBfdCz/A0IOEH6rOovxDo4QT6OTYTgjDlBy2nqg+UyOkEcShmxjEE6QbqOj488+jhBLwd6kYMBQkF4X8ZhmbtBQRq9PBv+1kFBDTZUlJFWQUFszxZNVr5BQf+58Qz5ckFB+3naFsZEQUECbi+3z19AQbBz/Do+dUBBKZu6xh7GOUEmR8jgLzQ6QVfeIMGKU0FBX90MVj5dQUFwdb6lMldBQYQYMsPSh0FBw/aQWq6DQEHu7zAo3eU+QcoWGTfmBT9BfIA6aw52QEE48++6SyxAQWPhYiElC0BBpw31utfeQEG9khcfA3NBQUCuAfvYYkBB0/sa6yF3QUELOjxSPSBCQS9vfHdUCENBbBETSAd7Q0H0XX7fMIZDQeRthwptvkNBacjkJr7FQ0ELbgDjL7pDQbw4PqiJXDxBMrI3OwW2QEEQ3aOk1+A/QbjjN5mc3UBBCCU1GWDeQEH0og7Tj0M8Qe5NFYCb+T5B3B9hP6nVPkG2PE20zs0+QdINq8BcuDlBEvsRXZXqPUEmBMh0ys46QdpfcbMLcEJBneUAOj+cQEFiZuFxvdFBQWpmx7y2BkFBm1nX337tQEEoaveMKLtBQZDyR4d9uEFB76qmieK9QUF7G74h6PNCQYqlEj92blJBCkraYjfeREFNApNKy/FEQRS8Bnpy+ktB0tMoYvnMTUErmEtyNP5OQW464UhEtUxBpKnVpW9oTUEX9aAwg3FOQcEA6RHonktBmNbcADnITUHsUsAUH+JKQQon03yA1EFBYAR0OxjZR0GIrWBqW61EQdz7awVz/0xBwQIXFn06SUFwayZDH59FQZXn46y/SUhBtt6szp1ZSEFmYPvcfhZHQRxnKp45/0hBlGX1lwf7RUFsj/xUdRlDQSvzTCbt8ERBOoR9rOmIREGsEpROzepIQUmzq53cak1B0bRNNoibTUF8Mgp2Yo5MQXKyT8oMLU1Biqdk5ysCSkF8E8wS4F1LQXNK74vkLkdBGtIzcSceSEHWdEwaZPhNQexlE0RNPFBByLfOmwsSUEFO+AimaZ9LQZYcSWmpPE1B6M+p+DI4S0GK2cHEfVtKQXohOJWdAk5BWDFIXTmpUEEC0/rPvCZRQch/2tWrJExBrs1+XVrXS0FOxDBIUwdJQTkQKb7eiEZBkL1hjNaPR0GighZzAdVHQTCKbVKpy0ZBVvNLSvcbSUGu3mTuaA5IQaB3mW+xVkdB5HO05l60RUEPNaCuMhJGQd4mx1B0rEZBqi+7VzPYRkHvN9wBgANIQSQIUtEJokhBeiyKC1qzSEELdBVbxV5JQUDy6HXjSUhBcn9SZmxJSEFcH7h8sEpIQezWI07FTEhBmgD5AOBjR0G+z6dulwpHQaSIEW78ZEhBfkRudBPmSEHI2/w/clVIQXltf2Y0cUpBfK7YC82KSkE4nLFJ7BBKQel4DHYai0RBYji4PgihS0Ge9sTRN/RMQSqF65k9SEpB4nPcxfuMTkGwdun3YAZPQc7/68Sdzk9B1FUzl5ZdTkFWDtMSnTJQQUe/MWA+zk9B+kvQpEGzT0HOPEdu4rRLQUHbSV8ET0xBDZ+4SEdfUEHSXbB0W81KQcaSNX0TXFBBRF/P/Q1zTkF8DjKTngJPQaFChFodK1BBQy79cDpfUkEeMegtEBhSQYkznt5ve1JBpnzJf88PUkGfMIz+hRlTQQT7kYuUyVFBxL4qJU7VUkH6SHn9cvZSQX4DO2eAPFNB7rgEOpFXU0F8A0OmhxxTQRSEtwoS+FJBrEk1YhrCUkEGA5vkRvNVQWqegvdPIlVBrlvsz9dMVkHm0/5zUZtWQdCjjP/67VdB4zoVjWwAV0FsYKYUQ/dWQWX9zFoT0FZBjZB87u4iVEGsyvDMWL1UQSfmigOlrlVBCO+PA+dmWUHGk9OHq5JUQYDMUrwQV1RB7e/RBoIRVEH9AbFEcVpUQWrbblBmEFNBfhUFsqbQU0Hr2uBDB0BUQeQF9/LPMFRBiDWebGpGU0EuNslf5+lTQYyQroxsRlVBiatPNoS/VEH0Fgekw2lXQYN6BHBP81dBHv2qArC7VUGM0xJsJ3lWQZ1rILD5fFZBdkK6c0pyVkFIHKJWoC1WQarda0qVTlZBVp1CDusUV0FGIooVg/lVQY1jhR5EOVZBekkAKpe2VkE1lGIz1i5XQf7WW3/9lVdBqTU2tnryWEFBBpBnLltXQRlcHJzDbldBAucyanTUVkFMitmDHHdWQZr9luh4qFZBC9jTJZaXWkF791QxdlRaQZtee1HmlFdBBSgjvR8/WEHYiFidPPVYQQSnPiM3LFhBqM0y/Ey2WkFWOQrZXN1cQezf8tNQul5BOc9jWhYXX0F6DXGKEstbQQLljTKAqF5BPq3yDDYwXUHRqeg4pxReQb0cWyxWFF5Blh5wHKtIW0EdmTuE5xdZQdn3zUu61ldBULWEgLvOVUER7MPIJsFVQUSy5FQrNVdBIG9q+/1lXEGYGpZ6kchdQR27Sc9eLF1Bma8ZNuWDY0GYdjlZUFhoQVAbG0tuD2lBtQ2PdwpBZkEXhmy1e2JlQdwekDjrlWdBeriJRoMAaUErCv1c4iZlQdYvMjf1E3FBIOu/8QvucEFzVA9ITjlwQQpAhgCmk21Bs1LE3U+1b0HCGC9mTbNxQfwlTkLmg3RBWuF6EitXdEFpKAJRB4x1QbfaB2jq03ZBYJOvKLTLd0FH2qwozfF7QTJ7FZJK5ntB8BfPxIlDfEEgswZSfq98QXNRUHGLI31BUHH52qdffkG0fRFjaMt9QQiqIiL4FIBB3/jECF21gEF6cBIXlS2EQSD7/nd+DYRB3ZYfAOduhEGLwD2KT0aFQRFQhGCbj4VBuzNQ/6nWhUGWbQCQpAGGQf/clqHPE4dBZHbUYZcDh0HmU8njJZKHQTsDMygg+YZBq180nO3Mh0GuQRRXCDyIQZF561kvrohB306rpUf5iEHgH8DhdXWJQXD/1cGmxIlBtdT6i3zYiUERJZ5OkjeLQSVxSaQBqYpBM7Jq72RHikENcLJA5xaLQfjIyp4ccohBYJ/pjH5jiUHcimSa40iKQcyuJG0QOItB1PNXBbxVi0HKqocDHiaMQYaemxgHyY5BZZ5rUNfpjUHUFNemh8GOQQquC0ZLsotBOBOe+imyjEG9G2SxadCMQS692ynFwoxBRPDuLrS/jUGtdZcWhHWOQRIa39spR49BKMYobJNikEHCKlkHcyGRQSZZji60tZFBqc2+FsQtkkFX4wFqTCOSQailK6xP2JFB6Hgp4If4kUHI78YF4OmRQRHMsRbEEpNBeAlj8yDUkkFfaR6gAYmTQUOLg8lIMZRBq32FyW9zlEH+Zw+JQNKTQWnyK6QcupNBv2LtkloJlEE1kd2IDryUQT+szMxNXJVByH4h/rrGlUECh2eVh6iVQSsZJIBWfpZBhrn+Hh9xlkH1g7EV0FaUQaCdCYg/gJRBDfniCFhOlEE5hD1okfSTQYX8gshbW5RBYjrvzBCZlEHyFyayMeyUQSEfZzXHHZZBdnrCetfSmkEeNLUATPKZQWl7kL2TVpRBoWZ1fuGfk0ElkhgD0JKTQYdq/Z8egJNB5aFJGn/ukkGtXu/mcOaTQV8xx+JFwJNBlVNh33xDlEHFuLb/ByWUQQbyj+8aQZRBX5g8t/OWk0E1fklZKuiTQT3+VtxgBpNBap2rs89yjkGi8L1qg5uIQSrrQeC6U4hBlbfJRQwnh0Hwe82+FnmEQXSxZuVUoYZBNmoB3Eh4hkGo2b/0NMiFQRuV34D96oVBswPDuxVnhkHtHPZPQdKGQUwWfg80n4dBOGLCjhQ5iEH1EnRWBCKFQWPbPSvwmohB510x4MiBiEHnBHHsxd2HQTkxUn3L3oRBqUV4MSw0ckHgfuNxhkaEQZwR4DCyioNBvWtGly9jg0GcX/3tJ2yDQWtez+o6y4NBAAv3A7zRg0HByrymCJeCQfu1GXfTHX9BktdRsHjDfUFZS1G0M1d9QU2qhJEWB3xBnv8ya6FXekHv9g05izB7QaR648M4r3tBFEgIXZAWe0GUrefpCSt7QYX2M4XzJntBN1RneXBpe0Gy5TSvItx5Qbz3H1cHEnlB4SydO9uvdEFK1E/PPlR1QTBR+LFk53VBUmrqSvJhfkEC6kOe2p5+QWFBDZqgqX1BS821z6kRfUHMEXuzaA98QZZvhmfhCXxBOCX4d6XCfEGaBZ7PQd17QWGIf6EKOnpBjJvaOF67gUEeNYiazfOBQYaPObBB/4BBhsUP9fU1gUHlToBpwAKBQXu7t6cK1oBByDA72/cYgUGkiB6HfeSAQcX5/hXPN4FB6MFs1MJugUHnw6pwWMaAQa6uA3z0wIBB2swIXQ9EgEEePIhd2DyAQX6iSrG6KYBB5nKVj8WrgEGccmI5KBCBQeEdUx40kYFBQoFy4i+YgUEs9IX+YTqBQd6cKTJfJoJBx/oBwt4FgUFSUUkudWWAQT3NsQLLS4VBQsJ0FA6phUEJtO8HRi2GQSKYdH1dAYZB2eKOoWX3hUFVF1ojI+eBQcAEQ9o7TIFBTL0BW2IEgkFL1qKi3xuAQYjVPa8zdoVBAgJptCCGhEGE3gNpmjGFQZSUbMCJzIRBYEH074wHh0H2UMNx4reCQcfG9+OKO4NBNDbPvq8Eg0EQf7LuEbqDQScDkCI2OoRB/sBprr3mgUH9wEKxUyOBQTek1aFdi4FBGSL/E68ahEE0D+x4mm+FQblqqta0DYZB9JFjTTnRhUES2EZp7xKGQaCqzzQsUYFBmB5ei/fYf0Ep92dDBYeMQRr8XjpjepNB105G7OwglkG3s8x1ys+WQQTed8NTkZdB3gmvL27nmEHnIrQBazKaQQKrLtsdKppBd8Nfj4UPnkGQcCql7PieQT4ZfZ+6CaFBrTeNkoZjokG18nDA5kSjQb79/Cfyt6NB17F3Y497pEGoHE90/OulQTkFhCiON6VBaCEk2GrNokF1lotZ6WehQQx5RSLtz59B4HC74SiIn0FR1iiBB4KgQfANbslkd6JBd84aL69op0EjlAfwua2uQZXRCY7mF7BBn3jt2CyasUHnC3ZKp4KxQc23SYRrsLBB95+tFgjBskGmFJhHk8izQcM5JvdGILZBhsuZqDZktkHT5S0Qxse3QcoTvsU78rdBvrrP1Xi1t0HyOKBDTNC5QWUGSTY8JrtB4pQtWaA/vEGgyMuHvmS+QSUZaYtbP75BuRiKjTOGv0GV6r5zcRC/QUBsd9e9brxB6ENcC/U3u0FOm8QnbSm8QQRE5SHLY7xB2RLEgeDfu0H5fadLniy+QWids7PkAr9BxdB1bpAKv0F8/xoSCJ6/QZKHj8wsjMBBhZbjx5qlv0E+mQNu2i3BQUzJYRL6EcJB20AcoJ9EwkEnTycmC1LCQXyfI2XJKsNBN6jjRLdcw0G+w+lSsEbCQavRJJTrI8JB/hPrLlnFv0E1KV2ErD3BQeBGPMDv+r1B0EsAA5V4vUF99NzOKK2/QdHapU0Se79BeMc8RIjEu0FY/WEYRJC7Qdq4e1hLSbpBAN5Q5E7Su0EC+xwo1t2/QTHEZlUOtLtBJj6h8TrLvEEZoQI97dO7QVbuJjbDVLtB6CqbS9ydu0G642x0h5S7QYSCcyzeQLhBv8xHDI5fvkFyjozfeWy/QVN6cG18K8FBLNGdoQ+IxEHmQFiBKiTGQRb9T8hKL8RB7DOyOMgpxEFHD7xu3AbFQYJ1tPMjrsdBWQpCbdEWykGXx1YopLfKQXZk3wlNUctBZlISo5FkzUEzp9fmdyTPQZjD3T+FQc9BjL9Fdzhgz0EhKHcPggLPQYFXgSB0Rs5BVfwEK8v5zUHta1kYuDXNQVXRDlXUTcxBOk1vpmGTy0FE7cHFcOjLQcHgXMWoDcxBt8ohCR/9y0GTyLD1Z4rMQdbnw/4AIMxBQnV7N1eozEHyFtr6aZPNQZsbtTBAoM1BhG1iVJP7zUGdmvIj0UvOQWJjBjvdMs9B0xeZ+EVfz0Evhf/Sx4nPQRjzzQGAus9B0Uc9AQ6tz0FnzkhAU5zPQRya9J7UAc9B1kVA6IRTz0F8GIAYWsnPQXmzeD4kc9BB52f4uqs30UEAyNOjFyjRQSSPh1SUCNFB4Xu7JvJOz0F7Gk1VkGfOQeaR5CSIJc1BbNuu7gxWy0HOesIn8yDLQR46MhtM/8pBJslv0cd1y0FwELFlqwnMQf+k3pOtdcxB4Y7PA59dzEFANEh4/brMQVx3e/s9+sxBjH/Tmo11zEFs0BN/dmTMQWxbkF+sl85B9n+5+ZWqz0GXHN2oM+LQQZ6HHWBhydBBrYvUXvrr0EHogDsHGqfQQd7Vkzk5jtBBR5Vxdo9l0EEtzIN6IU/QQe2WwYnOOtBBg12cnA55z0FFjbyytNrPQcyEgJfrXs5BPEboM1c5zkEbFb+n4VHOQWM8l84LuM5BmciAH+/YzkESHkMAGTbOQdYJnPQbTM5BAZiKNO3gzkEfWDTGQwvPQWejyOhLB89BHBzBwEx1zkHWfZn+Vy7NQfqgSzr1QM5BdreCVqkyzUF5P0xkHp7NQScJHlW4F85BC2mskXJ0zkEithYOPKPOQSDeuR7w5M5BmhR6wbruzkHWUWuuXWvOQQBpRQnR9M9BZGNqaV1Fz0G3c4R/nEPPQdbRSy2QWM9B1KzI8uybz0ExuEpgTbfOQfHI24uces5BvvX0fn55z0F/AuVMPvbNQfR9X8tQGc5BwrjXDobxzUEf9XbPx7vNQRhv1/UDTcxB2uKMBMvZzEFcwjMCt8nFQcJo4SirB8RBCOxL46R6w0FwaKmpx47DQVFW2tpdSMFBrB8f4JHQwEHZ0/+w4fi/QcrAHRX6EL9BSmKuNhWev0HY2BoiLcLFQc03GlJThcZBijM3yg3exkEuYmwo5SbHQYGQryorP8hB3InWQJFnx0G8mbc7HuvGQfQOAHGeWsVBvNLNErdPxUHogxlJ0K7FQdMrRLnbmMNBt7JB/N13wkG4kl7BUDrFQcKHMTsrzMVBdJ85dLVAxkHow4xzHlzGQfI4e6SLw8ZBXPaIHBflxkFmXJDbGtDHQXZqAWcy78hB8qP6HQFRykGuPPo79VvLQRnGapHSHsxB0sKLHCT3y0FWtj/487LLQaz007R348tBV46noDFuzUH6IZVTeAvNQYbmdmURN81Bde5Q6bMUzUGbV7L96OjNQRxMyldIhc5BExnXTHkk0EEvsh5yXT7QQSwa7sb3ZM5B88pgZv8Zz0EiWEbTDyjQQW7+FeueR9BB5/rlwd8U0UHUQ8LC1YDRQYWrLw2GfNFB4BXCL7v80EHkC7AGLcHRQYo6bokObdNBeL9CeC/S00E1+A9p+eHWQcKvdsA1ctZBrgkdBFuj1kEVw9UMC7DWQWf+lYGXadVB/qsMOHQZ00E9LDtZsSvUQbV5Qhw76dNBZhWhUbjS00HzlySCuL7TQWlf1AjgjtRBx7UXYS801kGlo1PCYOLWQdxCLijvHddB0rZy09gw10EidFSGc/TWQdPkD6ZrqtdBt/TURRBP2EEvbDG0l8PYQaVCmRwFT9hBxgHtWGO110GlG4ERYb7XQfSDyQ0EytdBwP4dlWHz10GA7BYAKOXXQe7TVnkn59dBA/Rai7iL2EFRyQS1Bd3YQaNM2t+5ydhBLzO6VmvS2EFP5xHP8IzYQe+FFYJmN9hBnTswDtdF2EFMhai3cwnYQb5vhJ/BsNdBDdAOr+xq2EHZ0FGSY+3YQVpFhZM939hBxlKIxXEu2kHwJsKJHSPbQeJWUC0TqNtBMMaC3P8x20FIFYJ5vQPcQQpYVT2zWt1BsoPYJtnO3UG7rGbdcqbdQV4dBoMTXd5BrSQNSecn3kFNBB3nV7PcQQjqNzHJ1NtBDpKGr7as20GyCGT6NvLbQf0+p/5Nf9tBjP+pOcZ+3UFH2nLHG+HcQZSaOIjWnN1B9uEvzpkL3kEWiGkSGyfgQZoXfINiWOBBVWXdtkAM4EGetVC90pHfQQyBqForPd9BOBLI7cKP30F9gPwU69ffQZSQNjp7iN9B7+ELY+X430Ff7YEyYS7gQZ8MwP/AquBBZVPo0jHw4EEcYX6sidLgQc5wZAJsM+FBDvwnc3mI4UFxDBzuLLPhQTSKvNSWKeJBI0HMTels4kHdVZ093ZriQfVg4llfRONBY+Kstm1q5EGxdoLE9dLkQXJeVWNMkORBE12BZy5M5UEW7O9du7HlQQ0N1wNkxuVBXfjf+Cxd5UEUetf0EAfkQRcCb1netORBBvUygubS5EEg0x/xCTvlQa/5V9u5muVBUZP1WM3u5UFRDL68jH7iQU+uHm01PuFBXGFSjIcL4UFKmUEgASzhQXhmwb1/eN5B9Myv4pWw4EH3QZU1KCLhQcqec+V/1eFBIX8jxTwX4kEoY29adjziQfNICz0BluJBTEMeP5KA4kHHH3pySHXiQUblZsWhcuJBAax8vsIq40FgKzOMKhDkQUOnJlsMcuRBXAZ92oSN5EE1rPJa+LDkQdOAPKkBuORB\",\"dtype\":\"float64\",\"order\":\"little\",\"shape\":[1407]}},\"selected\":{\"id\":\"1975\"},\"selection_policy\":{\"id\":\"1987\"}},\"id\":\"1974\",\"type\":\"ColumnDataSource\"}],\"root_ids\":[\"1930\"]},\"title\":\"Bokeh Application\",\"version\":\"2.2.3\"}};\n",
       "    var render_items = [{\"docid\":\"056424e6-da1c-4bc6-bd83-a505d425f467\",\"root_ids\":[\"1930\"],\"roots\":{\"1930\":\"e3cfb6d0-7d41-43d5-a8f2-4494afb569ab\"}}];\n",
       "    root.Bokeh.embed.embed_items_notebook(docs_json, render_items);\n",
       "  }\n",
       "  if (root.Bokeh !== undefined && root.Bokeh.Panel !== undefined) {\n",
       "    embed_document(root);\n",
       "  } else {\n",
       "    var attempts = 0;\n",
       "    var timer = setInterval(function(root) {\n",
       "      if (root.Bokeh !== undefined && root.Bokeh.Panel !== undefined) {\n",
       "        clearInterval(timer);\n",
       "        embed_document(root);\n",
       "      } else if (document.readyState == \"complete\") {\n",
       "        attempts++;\n",
       "        if (attempts > 100) {\n",
       "          clearInterval(timer);\n",
       "          console.log(\"Bokeh: ERROR: Unable to run BokehJS code because BokehJS library is missing\");\n",
       "        }\n",
       "      }\n",
       "    }, 10, root)\n",
       "  }\n",
       "})(window);</script>"
      ],
      "text/plain": [
       ":NdOverlay   [Variable]\n",
       "   :Curve   [timestamp]   (value)"
      ]
     },
     "execution_count": 40,
     "metadata": {
      "application/vnd.holoviews_exec.v0+json": {
       "id": "1930"
      }
     },
     "output_type": "execute_result"
    }
   ],
   "source": [
    "tvl_comb_df.hvplot(figsize=(20,10), title = 'Total Value Locked',yformatter='%.0f')"
   ]
  },
  {
   "cell_type": "code",
   "execution_count": 63,
   "metadata": {},
   "outputs": [
    {
     "data": {},
     "metadata": {},
     "output_type": "display_data"
    },
    {
     "data": {
      "application/vnd.holoviews_exec.v0+json": "",
      "text/html": [
       "<div id='3535'>\n",
       "\n",
       "\n",
       "\n",
       "\n",
       "\n",
       "  <div class=\"bk-root\" id=\"53505a77-735a-42cf-bf72-fb6de59a68ba\" data-root-id=\"3535\"></div>\n",
       "</div>\n",
       "<script type=\"application/javascript\">(function(root) {\n",
       "  function embed_document(root) {\n",
       "    var docs_json = {\"07515f70-f9ed-4d9a-a09f-6353c9d19fbc\":{\"roots\":{\"references\":[{\"attributes\":{\"axis\":{\"id\":\"3557\"},\"dimension\":1,\"grid_line_color\":null,\"ticker\":null},\"id\":\"3560\",\"type\":\"Grid\"},{\"attributes\":{\"data\":{\"Variable\":[\"tvlETH\",\"tvlETH\",\"tvlETH\",\"tvlETH\",\"tvlETH\",\"tvlETH\",\"tvlETH\",\"tvlETH\",\"tvlETH\",\"tvlETH\",\"tvlETH\",\"tvlETH\",\"tvlETH\",\"tvlETH\",\"tvlETH\",\"tvlETH\",\"tvlETH\",\"tvlETH\",\"tvlETH\",\"tvlETH\",\"tvlETH\",\"tvlETH\",\"tvlETH\",\"tvlETH\",\"tvlETH\",\"tvlETH\",\"tvlETH\",\"tvlETH\",\"tvlETH\",\"tvlETH\",\"tvlETH\",\"tvlETH\",\"tvlETH\",\"tvlETH\",\"tvlETH\",\"tvlETH\",\"tvlETH\",\"tvlETH\",\"tvlETH\",\"tvlETH\",\"tvlETH\",\"tvlETH\",\"tvlETH\",\"tvlETH\",\"tvlETH\",\"tvlETH\",\"tvlETH\",\"tvlETH\",\"tvlETH\",\"tvlETH\",\"tvlETH\",\"tvlETH\",\"tvlETH\",\"tvlETH\",\"tvlETH\",\"tvlETH\",\"tvlETH\",\"tvlETH\",\"tvlETH\",\"tvlETH\",\"tvlETH\",\"tvlETH\",\"tvlETH\",\"tvlETH\",\"tvlETH\",\"tvlETH\",\"tvlETH\",\"tvlETH\",\"tvlETH\",\"tvlETH\",\"tvlETH\",\"tvlETH\",\"tvlETH\",\"tvlETH\",\"tvlETH\",\"tvlETH\",\"tvlETH\",\"tvlETH\",\"tvlETH\",\"tvlETH\",\"tvlETH\",\"tvlETH\",\"tvlETH\",\"tvlETH\",\"tvlETH\",\"tvlETH\",\"tvlETH\",\"tvlETH\",\"tvlETH\",\"tvlETH\",\"tvlETH\",\"tvlETH\",\"tvlETH\",\"tvlETH\",\"tvlETH\",\"tvlETH\",\"tvlETH\",\"tvlETH\",\"tvlETH\",\"tvlETH\",\"tvlETH\",\"tvlETH\",\"tvlETH\",\"tvlETH\",\"tvlETH\",\"tvlETH\",\"tvlETH\",\"tvlETH\",\"tvlETH\",\"tvlETH\",\"tvlETH\",\"tvlETH\",\"tvlETH\",\"tvlETH\",\"tvlETH\",\"tvlETH\",\"tvlETH\",\"tvlETH\",\"tvlETH\",\"tvlETH\",\"tvlETH\",\"tvlETH\",\"tvlETH\",\"tvlETH\",\"tvlETH\",\"tvlETH\",\"tvlETH\",\"tvlETH\",\"tvlETH\",\"tvlETH\",\"tvlETH\",\"tvlETH\",\"tvlETH\",\"tvlETH\",\"tvlETH\",\"tvlETH\",\"tvlETH\",\"tvlETH\",\"tvlETH\",\"tvlETH\",\"tvlETH\",\"tvlETH\",\"tvlETH\",\"tvlETH\",\"tvlETH\",\"tvlETH\",\"tvlETH\",\"tvlETH\",\"tvlETH\",\"tvlETH\",\"tvlETH\",\"tvlETH\",\"tvlETH\",\"tvlETH\",\"tvlETH\",\"tvlETH\",\"tvlETH\",\"tvlETH\",\"tvlETH\",\"tvlETH\",\"tvlETH\",\"tvlETH\",\"tvlETH\",\"tvlETH\",\"tvlETH\",\"tvlETH\",\"tvlETH\",\"tvlETH\",\"tvlETH\",\"tvlETH\",\"tvlETH\",\"tvlETH\",\"tvlETH\",\"tvlETH\",\"tvlETH\",\"tvlETH\",\"tvlETH\",\"tvlETH\",\"tvlETH\",\"tvlETH\",\"tvlETH\",\"tvlETH\",\"tvlETH\",\"tvlETH\",\"tvlETH\",\"tvlETH\",\"tvlETH\",\"tvlETH\",\"tvlETH\",\"tvlETH\",\"tvlETH\",\"tvlETH\",\"tvlETH\",\"tvlETH\",\"tvlETH\",\"tvlETH\",\"tvlETH\",\"tvlETH\",\"tvlETH\",\"tvlETH\",\"tvlETH\",\"tvlETH\",\"tvlETH\",\"tvlETH\",\"tvlETH\",\"tvlETH\",\"tvlETH\",\"tvlETH\",\"tvlETH\",\"tvlETH\",\"tvlETH\",\"tvlETH\",\"tvlETH\",\"tvlETH\",\"tvlETH\",\"tvlETH\",\"tvlETH\",\"tvlETH\",\"tvlETH\",\"tvlETH\",\"tvlETH\",\"tvlETH\",\"tvlETH\",\"tvlETH\",\"tvlETH\",\"tvlETH\",\"tvlETH\",\"tvlETH\",\"tvlETH\",\"tvlETH\",\"tvlETH\",\"tvlETH\",\"tvlETH\",\"tvlETH\",\"tvlETH\",\"tvlETH\",\"tvlETH\",\"tvlETH\",\"tvlETH\",\"tvlETH\",\"tvlETH\",\"tvlETH\",\"tvlETH\",\"tvlETH\",\"tvlETH\",\"tvlETH\",\"tvlETH\",\"tvlETH\",\"tvlETH\",\"tvlETH\",\"tvlETH\",\"tvlETH\",\"tvlETH\",\"tvlETH\",\"tvlETH\",\"tvlETH\",\"tvlETH\",\"tvlETH\",\"tvlETH\",\"tvlETH\",\"tvlETH\",\"tvlETH\",\"tvlETH\",\"tvlETH\",\"tvlETH\",\"tvlETH\",\"tvlETH\",\"tvlETH\",\"tvlETH\",\"tvlETH\",\"tvlETH\",\"tvlETH\",\"tvlETH\",\"tvlETH\",\"tvlETH\",\"tvlETH\",\"tvlETH\",\"tvlETH\",\"tvlETH\",\"tvlETH\",\"tvlETH\",\"tvlETH\",\"tvlETH\",\"tvlETH\",\"tvlETH\",\"tvlETH\",\"tvlETH\",\"tvlETH\",\"tvlETH\",\"tvlETH\",\"tvlETH\",\"tvlETH\",\"tvlETH\",\"tvlETH\",\"tvlETH\",\"tvlETH\",\"tvlETH\",\"tvlETH\",\"tvlETH\",\"tvlETH\",\"tvlETH\",\"tvlETH\",\"tvlETH\",\"tvlETH\",\"tvlETH\",\"tvlETH\",\"tvlETH\",\"tvlETH\",\"tvlETH\",\"tvlETH\",\"tvlETH\",\"tvlETH\",\"tvlETH\",\"tvlETH\",\"tvlETH\",\"tvlETH\",\"tvlETH\",\"tvlETH\",\"tvlETH\",\"tvlETH\",\"tvlETH\",\"tvlETH\",\"tvlETH\",\"tvlETH\",\"tvlETH\",\"tvlETH\",\"tvlETH\",\"tvlETH\",\"tvlETH\",\"tvlETH\",\"tvlETH\",\"tvlETH\",\"tvlETH\",\"tvlETH\",\"tvlETH\",\"tvlETH\",\"tvlETH\",\"tvlETH\",\"tvlETH\",\"tvlETH\",\"tvlETH\",\"tvlETH\",\"tvlETH\",\"tvlETH\",\"tvlETH\",\"tvlETH\",\"tvlETH\",\"tvlETH\",\"tvlETH\",\"tvlETH\",\"tvlETH\",\"tvlETH\",\"tvlETH\",\"tvlETH\",\"tvlETH\",\"tvlETH\",\"tvlETH\",\"tvlETH\",\"tvlETH\",\"tvlETH\",\"tvlETH\",\"tvlETH\",\"tvlETH\",\"tvlETH\",\"tvlETH\",\"tvlETH\",\"tvlETH\",\"tvlETH\",\"tvlETH\",\"tvlETH\",\"tvlETH\",\"tvlETH\",\"tvlETH\",\"tvlETH\",\"tvlETH\",\"tvlETH\",\"tvlETH\",\"tvlETH\",\"tvlETH\",\"tvlETH\",\"tvlETH\",\"tvlETH\",\"tvlETH\",\"tvlETH\",\"tvlETH\",\"tvlETH\",\"tvlETH\",\"tvlETH\",\"tvlETH\",\"tvlETH\",\"tvlETH\",\"tvlETH\",\"tvlETH\",\"tvlETH\",\"tvlETH\",\"tvlETH\",\"tvlETH\",\"tvlETH\",\"tvlETH\",\"tvlETH\",\"tvlETH\",\"tvlETH\",\"tvlETH\",\"tvlETH\",\"tvlETH\",\"tvlETH\",\"tvlETH\",\"tvlETH\",\"tvlETH\",\"tvlETH\",\"tvlETH\",\"tvlETH\",\"tvlETH\",\"tvlETH\",\"tvlETH\",\"tvlETH\",\"tvlETH\",\"tvlETH\",\"tvlETH\",\"tvlETH\",\"tvlETH\",\"tvlETH\",\"tvlETH\",\"tvlETH\",\"tvlETH\",\"tvlETH\",\"tvlETH\",\"tvlETH\",\"tvlETH\",\"tvlETH\",\"tvlETH\",\"tvlETH\",\"tvlETH\",\"tvlETH\",\"tvlETH\",\"tvlETH\",\"tvlETH\",\"tvlETH\",\"tvlETH\",\"tvlETH\",\"tvlETH\",\"tvlETH\",\"tvlETH\",\"tvlETH\",\"tvlETH\",\"tvlETH\",\"tvlETH\",\"tvlETH\",\"tvlETH\",\"tvlETH\",\"tvlETH\",\"tvlETH\",\"tvlETH\",\"tvlETH\",\"tvlETH\",\"tvlETH\",\"tvlETH\",\"tvlETH\",\"tvlETH\",\"tvlETH\",\"tvlETH\",\"tvlETH\",\"tvlETH\",\"tvlETH\",\"tvlETH\",\"tvlETH\",\"tvlETH\",\"tvlETH\",\"tvlETH\",\"tvlETH\",\"tvlETH\",\"tvlETH\",\"tvlETH\",\"tvlETH\",\"tvlETH\",\"tvlETH\",\"tvlETH\",\"tvlETH\",\"tvlETH\",\"tvlETH\",\"tvlETH\",\"tvlETH\",\"tvlETH\",\"tvlETH\",\"tvlETH\",\"tvlETH\",\"tvlETH\",\"tvlETH\",\"tvlETH\",\"tvlETH\",\"tvlETH\",\"tvlETH\",\"tvlETH\",\"tvlETH\",\"tvlETH\",\"tvlETH\",\"tvlETH\",\"tvlETH\",\"tvlETH\",\"tvlETH\",\"tvlETH\",\"tvlETH\",\"tvlETH\",\"tvlETH\",\"tvlETH\",\"tvlETH\",\"tvlETH\",\"tvlETH\",\"tvlETH\",\"tvlETH\",\"tvlETH\",\"tvlETH\",\"tvlETH\",\"tvlETH\",\"tvlETH\",\"tvlETH\",\"tvlETH\",\"tvlETH\",\"tvlETH\",\"tvlETH\",\"tvlETH\",\"tvlETH\",\"tvlETH\",\"tvlETH\",\"tvlETH\",\"tvlETH\",\"tvlETH\",\"tvlETH\",\"tvlETH\",\"tvlETH\",\"tvlETH\",\"tvlETH\",\"tvlETH\",\"tvlETH\",\"tvlETH\",\"tvlETH\",\"tvlETH\",\"tvlETH\",\"tvlETH\",\"tvlETH\",\"tvlETH\",\"tvlETH\",\"tvlETH\",\"tvlETH\",\"tvlETH\",\"tvlETH\",\"tvlETH\",\"tvlETH\",\"tvlETH\",\"tvlETH\",\"tvlETH\",\"tvlETH\",\"tvlETH\",\"tvlETH\",\"tvlETH\",\"tvlETH\",\"tvlETH\",\"tvlETH\",\"tvlETH\",\"tvlETH\",\"tvlETH\",\"tvlETH\",\"tvlETH\",\"tvlETH\",\"tvlETH\",\"tvlETH\",\"tvlETH\",\"tvlETH\",\"tvlETH\",\"tvlETH\",\"tvlETH\",\"tvlETH\",\"tvlETH\",\"tvlETH\",\"tvlETH\",\"tvlETH\",\"tvlETH\",\"tvlETH\",\"tvlETH\",\"tvlETH\",\"tvlETH\",\"tvlETH\",\"tvlETH\",\"tvlETH\",\"tvlETH\",\"tvlETH\",\"tvlETH\",\"tvlETH\",\"tvlETH\",\"tvlETH\",\"tvlETH\",\"tvlETH\",\"tvlETH\",\"tvlETH\",\"tvlETH\",\"tvlETH\",\"tvlETH\",\"tvlETH\",\"tvlETH\",\"tvlETH\",\"tvlETH\",\"tvlETH\",\"tvlETH\",\"tvlETH\",\"tvlETH\",\"tvlETH\",\"tvlETH\",\"tvlETH\",\"tvlETH\",\"tvlETH\",\"tvlETH\",\"tvlETH\",\"tvlETH\",\"tvlETH\",\"tvlETH\",\"tvlETH\",\"tvlETH\",\"tvlETH\",\"tvlETH\",\"tvlETH\",\"tvlETH\",\"tvlETH\",\"tvlETH\",\"tvlETH\",\"tvlETH\",\"tvlETH\",\"tvlETH\",\"tvlETH\",\"tvlETH\",\"tvlETH\",\"tvlETH\",\"tvlETH\",\"tvlETH\",\"tvlETH\",\"tvlETH\",\"tvlETH\",\"tvlETH\",\"tvlETH\",\"tvlETH\",\"tvlETH\",\"tvlETH\",\"tvlETH\",\"tvlETH\",\"tvlETH\",\"tvlETH\",\"tvlETH\",\"tvlETH\",\"tvlETH\",\"tvlETH\",\"tvlETH\",\"tvlETH\",\"tvlETH\",\"tvlETH\",\"tvlETH\",\"tvlETH\",\"tvlETH\",\"tvlETH\",\"tvlETH\",\"tvlETH\",\"tvlETH\",\"tvlETH\",\"tvlETH\",\"tvlETH\",\"tvlETH\",\"tvlETH\",\"tvlETH\",\"tvlETH\",\"tvlETH\",\"tvlETH\",\"tvlETH\",\"tvlETH\",\"tvlETH\",\"tvlETH\",\"tvlETH\",\"tvlETH\",\"tvlETH\",\"tvlETH\",\"tvlETH\",\"tvlETH\",\"tvlETH\",\"tvlETH\",\"tvlETH\",\"tvlETH\",\"tvlETH\",\"tvlETH\",\"tvlETH\",\"tvlETH\",\"tvlETH\",\"tvlETH\",\"tvlETH\",\"tvlETH\",\"tvlETH\",\"tvlETH\",\"tvlETH\",\"tvlETH\",\"tvlETH\",\"tvlETH\",\"tvlETH\",\"tvlETH\",\"tvlETH\",\"tvlETH\",\"tvlETH\",\"tvlETH\",\"tvlETH\",\"tvlETH\",\"tvlETH\",\"tvlETH\",\"tvlETH\",\"tvlETH\",\"tvlETH\",\"tvlETH\",\"tvlETH\",\"tvlETH\",\"tvlETH\",\"tvlETH\",\"tvlETH\",\"tvlETH\",\"tvlETH\",\"tvlETH\",\"tvlETH\",\"tvlETH\",\"tvlETH\",\"tvlETH\",\"tvlETH\",\"tvlETH\",\"tvlETH\",\"tvlETH\",\"tvlETH\",\"tvlETH\",\"tvlETH\",\"tvlETH\",\"tvlETH\",\"tvlETH\",\"tvlETH\",\"tvlETH\",\"tvlETH\",\"tvlETH\",\"tvlETH\",\"tvlETH\",\"tvlETH\",\"tvlETH\",\"tvlETH\",\"tvlETH\",\"tvlETH\",\"tvlETH\",\"tvlETH\",\"tvlETH\",\"tvlETH\",\"tvlETH\",\"tvlETH\",\"tvlETH\",\"tvlETH\",\"tvlETH\",\"tvlETH\",\"tvlETH\",\"tvlETH\",\"tvlETH\",\"tvlETH\",\"tvlETH\",\"tvlETH\",\"tvlETH\",\"tvlETH\",\"tvlETH\",\"tvlETH\",\"tvlETH\",\"tvlETH\",\"tvlETH\",\"tvlETH\",\"tvlETH\",\"tvlETH\",\"tvlETH\",\"tvlETH\",\"tvlETH\",\"tvlETH\",\"tvlETH\",\"tvlETH\",\"tvlETH\",\"tvlETH\",\"tvlETH\",\"tvlETH\",\"tvlETH\",\"tvlETH\",\"tvlETH\",\"tvlETH\",\"tvlETH\",\"tvlETH\",\"tvlETH\",\"tvlETH\",\"tvlETH\",\"tvlETH\",\"tvlETH\",\"tvlETH\",\"tvlETH\",\"tvlETH\",\"tvlETH\",\"tvlETH\",\"tvlETH\",\"tvlETH\",\"tvlETH\",\"tvlETH\",\"tvlETH\",\"tvlETH\",\"tvlETH\",\"tvlETH\",\"tvlETH\",\"tvlETH\",\"tvlETH\",\"tvlETH\",\"tvlETH\",\"tvlETH\",\"tvlETH\",\"tvlETH\",\"tvlETH\",\"tvlETH\",\"tvlETH\",\"tvlETH\",\"tvlETH\",\"tvlETH\",\"tvlETH\",\"tvlETH\",\"tvlETH\",\"tvlETH\",\"tvlETH\",\"tvlETH\",\"tvlETH\",\"tvlETH\",\"tvlETH\",\"tvlETH\",\"tvlETH\",\"tvlETH\",\"tvlETH\",\"tvlETH\",\"tvlETH\",\"tvlETH\",\"tvlETH\",\"tvlETH\",\"tvlETH\",\"tvlETH\",\"tvlETH\",\"tvlETH\",\"tvlETH\",\"tvlETH\",\"tvlETH\",\"tvlETH\",\"tvlETH\",\"tvlETH\",\"tvlETH\",\"tvlETH\",\"tvlETH\",\"tvlETH\",\"tvlETH\",\"tvlETH\",\"tvlETH\",\"tvlETH\",\"tvlETH\",\"tvlETH\",\"tvlETH\",\"tvlETH\",\"tvlETH\",\"tvlETH\",\"tvlETH\",\"tvlETH\",\"tvlETH\",\"tvlETH\",\"tvlETH\",\"tvlETH\",\"tvlETH\",\"tvlETH\",\"tvlETH\",\"tvlETH\",\"tvlETH\",\"tvlETH\",\"tvlETH\",\"tvlETH\",\"tvlETH\",\"tvlETH\",\"tvlETH\",\"tvlETH\",\"tvlETH\",\"tvlETH\",\"tvlETH\",\"tvlETH\",\"tvlETH\",\"tvlETH\",\"tvlETH\",\"tvlETH\",\"tvlETH\",\"tvlETH\",\"tvlETH\",\"tvlETH\",\"tvlETH\",\"tvlETH\",\"tvlETH\",\"tvlETH\",\"tvlETH\",\"tvlETH\",\"tvlETH\",\"tvlETH\",\"tvlETH\",\"tvlETH\",\"tvlETH\",\"tvlETH\",\"tvlETH\",\"tvlETH\",\"tvlETH\",\"tvlETH\",\"tvlETH\",\"tvlETH\",\"tvlETH\",\"tvlETH\",\"tvlETH\",\"tvlETH\",\"tvlETH\",\"tvlETH\",\"tvlETH\",\"tvlETH\",\"tvlETH\",\"tvlETH\",\"tvlETH\",\"tvlETH\",\"tvlETH\",\"tvlETH\",\"tvlETH\",\"tvlETH\",\"tvlETH\",\"tvlETH\",\"tvlETH\",\"tvlETH\",\"tvlETH\",\"tvlETH\",\"tvlETH\",\"tvlETH\",\"tvlETH\",\"tvlETH\",\"tvlETH\",\"tvlETH\",\"tvlETH\",\"tvlETH\",\"tvlETH\",\"tvlETH\",\"tvlETH\",\"tvlETH\",\"tvlETH\",\"tvlETH\",\"tvlETH\",\"tvlETH\",\"tvlETH\",\"tvlETH\",\"tvlETH\",\"tvlETH\",\"tvlETH\",\"tvlETH\",\"tvlETH\",\"tvlETH\",\"tvlETH\",\"tvlETH\",\"tvlETH\",\"tvlETH\",\"tvlETH\",\"tvlETH\",\"tvlETH\",\"tvlETH\",\"tvlETH\",\"tvlETH\",\"tvlETH\",\"tvlETH\",\"tvlETH\",\"tvlETH\",\"tvlETH\",\"tvlETH\",\"tvlETH\",\"tvlETH\",\"tvlETH\",\"tvlETH\",\"tvlETH\",\"tvlETH\",\"tvlETH\",\"tvlETH\",\"tvlETH\",\"tvlETH\",\"tvlETH\",\"tvlETH\",\"tvlETH\",\"tvlETH\",\"tvlETH\",\"tvlETH\",\"tvlETH\",\"tvlETH\",\"tvlETH\",\"tvlETH\",\"tvlETH\",\"tvlETH\",\"tvlETH\",\"tvlETH\",\"tvlETH\",\"tvlETH\",\"tvlETH\",\"tvlETH\",\"tvlETH\",\"tvlETH\",\"tvlETH\",\"tvlETH\",\"tvlETH\",\"tvlETH\",\"tvlETH\",\"tvlETH\",\"tvlETH\",\"tvlETH\",\"tvlETH\",\"tvlETH\",\"tvlETH\",\"tvlETH\",\"tvlETH\",\"tvlETH\",\"tvlETH\",\"tvlETH\",\"tvlETH\",\"tvlETH\",\"tvlETH\",\"tvlETH\",\"tvlETH\",\"tvlETH\",\"tvlETH\",\"tvlETH\",\"tvlETH\",\"tvlETH\",\"tvlETH\",\"tvlETH\",\"tvlETH\",\"tvlETH\",\"tvlETH\",\"tvlETH\",\"tvlETH\",\"tvlETH\",\"tvlETH\",\"tvlETH\",\"tvlETH\",\"tvlETH\",\"tvlETH\",\"tvlETH\",\"tvlETH\",\"tvlETH\",\"tvlETH\",\"tvlETH\",\"tvlETH\",\"tvlETH\",\"tvlETH\",\"tvlETH\",\"tvlETH\",\"tvlETH\",\"tvlETH\",\"tvlETH\",\"tvlETH\",\"tvlETH\",\"tvlETH\",\"tvlETH\",\"tvlETH\",\"tvlETH\",\"tvlETH\",\"tvlETH\",\"tvlETH\",\"tvlETH\",\"tvlETH\",\"tvlETH\",\"tvlETH\",\"tvlETH\",\"tvlETH\",\"tvlETH\",\"tvlETH\",\"tvlETH\",\"tvlETH\",\"tvlETH\",\"tvlETH\",\"tvlETH\",\"tvlETH\",\"tvlETH\",\"tvlETH\",\"tvlETH\",\"tvlETH\",\"tvlETH\",\"tvlETH\",\"tvlETH\",\"tvlETH\",\"tvlETH\",\"tvlETH\",\"tvlETH\",\"tvlETH\",\"tvlETH\",\"tvlETH\",\"tvlETH\",\"tvlETH\",\"tvlETH\",\"tvlETH\",\"tvlETH\",\"tvlETH\",\"tvlETH\",\"tvlETH\",\"tvlETH\",\"tvlETH\",\"tvlETH\",\"tvlETH\",\"tvlETH\",\"tvlETH\",\"tvlETH\",\"tvlETH\",\"tvlETH\",\"tvlETH\",\"tvlETH\",\"tvlETH\",\"tvlETH\",\"tvlETH\",\"tvlETH\",\"tvlETH\",\"tvlETH\",\"tvlETH\",\"tvlETH\",\"tvlETH\",\"tvlETH\",\"tvlETH\",\"tvlETH\",\"tvlETH\",\"tvlETH\",\"tvlETH\",\"tvlETH\",\"tvlETH\",\"tvlETH\",\"tvlETH\",\"tvlETH\",\"tvlETH\",\"tvlETH\",\"tvlETH\",\"tvlETH\",\"tvlETH\",\"tvlETH\",\"tvlETH\",\"tvlETH\",\"tvlETH\",\"tvlETH\",\"tvlETH\",\"tvlETH\",\"tvlETH\",\"tvlETH\",\"tvlETH\",\"tvlETH\",\"tvlETH\",\"tvlETH\",\"tvlETH\",\"tvlETH\",\"tvlETH\",\"tvlETH\",\"tvlETH\",\"tvlETH\",\"tvlETH\",\"tvlETH\",\"tvlETH\",\"tvlETH\",\"tvlETH\",\"tvlETH\",\"tvlETH\",\"tvlETH\",\"tvlETH\",\"tvlETH\",\"tvlETH\",\"tvlETH\",\"tvlETH\",\"tvlETH\",\"tvlETH\",\"tvlETH\",\"tvlETH\",\"tvlETH\",\"tvlETH\",\"tvlETH\",\"tvlETH\",\"tvlETH\",\"tvlETH\",\"tvlETH\",\"tvlETH\",\"tvlETH\",\"tvlETH\",\"tvlETH\",\"tvlETH\",\"tvlETH\",\"tvlETH\",\"tvlETH\",\"tvlETH\",\"tvlETH\",\"tvlETH\",\"tvlETH\",\"tvlETH\",\"tvlETH\",\"tvlETH\",\"tvlETH\",\"tvlETH\",\"tvlETH\",\"tvlETH\",\"tvlETH\",\"tvlETH\",\"tvlETH\",\"tvlETH\",\"tvlETH\",\"tvlETH\",\"tvlETH\",\"tvlETH\",\"tvlETH\",\"tvlETH\",\"tvlETH\",\"tvlETH\",\"tvlETH\",\"tvlETH\",\"tvlETH\",\"tvlETH\",\"tvlETH\",\"tvlETH\",\"tvlETH\",\"tvlETH\",\"tvlETH\",\"tvlETH\",\"tvlETH\",\"tvlETH\",\"tvlETH\",\"tvlETH\",\"tvlETH\",\"tvlETH\",\"tvlETH\",\"tvlETH\",\"tvlETH\",\"tvlETH\",\"tvlETH\",\"tvlETH\",\"tvlETH\",\"tvlETH\",\"tvlETH\",\"tvlETH\",\"tvlETH\",\"tvlETH\",\"tvlETH\",\"tvlETH\",\"tvlETH\",\"tvlETH\",\"tvlETH\",\"tvlETH\",\"tvlETH\",\"tvlETH\",\"tvlETH\",\"tvlETH\",\"tvlETH\",\"tvlETH\",\"tvlETH\",\"tvlETH\",\"tvlETH\",\"tvlETH\",\"tvlETH\",\"tvlETH\",\"tvlETH\",\"tvlETH\",\"tvlETH\",\"tvlETH\",\"tvlETH\",\"tvlETH\",\"tvlETH\",\"tvlETH\",\"tvlETH\",\"tvlETH\",\"tvlETH\",\"tvlETH\",\"tvlETH\",\"tvlETH\",\"tvlETH\",\"tvlETH\",\"tvlETH\",\"tvlETH\",\"tvlETH\",\"tvlETH\",\"tvlETH\",\"tvlETH\",\"tvlETH\",\"tvlETH\",\"tvlETH\",\"tvlETH\",\"tvlETH\",\"tvlETH\",\"tvlETH\",\"tvlETH\",\"tvlETH\",\"tvlETH\",\"tvlETH\",\"tvlETH\",\"tvlETH\",\"tvlETH\",\"tvlETH\",\"tvlETH\",\"tvlETH\",\"tvlETH\",\"tvlETH\",\"tvlETH\",\"tvlETH\",\"tvlETH\",\"tvlETH\",\"tvlETH\",\"tvlETH\",\"tvlETH\",\"tvlETH\",\"tvlETH\",\"tvlETH\",\"tvlETH\",\"tvlETH\",\"tvlETH\",\"tvlETH\",\"tvlETH\",\"tvlETH\",\"tvlETH\",\"tvlETH\",\"tvlETH\",\"tvlETH\",\"tvlETH\",\"tvlETH\",\"tvlETH\",\"tvlETH\",\"tvlETH\",\"tvlETH\",\"tvlETH\",\"tvlETH\",\"tvlETH\",\"tvlETH\",\"tvlETH\",\"tvlETH\",\"tvlETH\",\"tvlETH\",\"tvlETH\",\"tvlETH\",\"tvlETH\",\"tvlETH\",\"tvlETH\",\"tvlETH\",\"tvlETH\",\"tvlETH\",\"tvlETH\",\"tvlETH\",\"tvlETH\",\"tvlETH\",\"tvlETH\",\"tvlETH\",\"tvlETH\",\"tvlETH\",\"tvlETH\",\"tvlETH\",\"tvlETH\",\"tvlETH\",\"tvlETH\",\"tvlETH\",\"tvlETH\",\"tvlETH\",\"tvlETH\",\"tvlETH\",\"tvlETH\",\"tvlETH\",\"tvlETH\",\"tvlETH\",\"tvlETH\",\"tvlETH\",\"tvlETH\",\"tvlETH\",\"tvlETH\",\"tvlETH\",\"tvlETH\",\"tvlETH\",\"tvlETH\",\"tvlETH\",\"tvlETH\",\"tvlETH\",\"tvlETH\",\"tvlETH\",\"tvlETH\",\"tvlETH\",\"tvlETH\",\"tvlETH\",\"tvlETH\",\"tvlETH\",\"tvlETH\",\"tvlETH\",\"tvlETH\",\"tvlETH\",\"tvlETH\",\"tvlETH\",\"tvlETH\",\"tvlETH\",\"tvlETH\",\"tvlETH\",\"tvlETH\",\"tvlETH\",\"tvlETH\",\"tvlETH\",\"tvlETH\",\"tvlETH\",\"tvlETH\",\"tvlETH\",\"tvlETH\",\"tvlETH\",\"tvlETH\",\"tvlETH\",\"tvlETH\",\"tvlETH\",\"tvlETH\",\"tvlETH\",\"tvlETH\",\"tvlETH\",\"tvlETH\"],\"timestamp\":{\"__ndarray__\":\"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\",\"dtype\":\"float64\",\"order\":\"little\",\"shape\":[1407]},\"value\":{\"__ndarray__\":\"AAAAAAAAAAAeiordVceSP/k0274BQZI/6ay5IJ01lz/Vz2GC3jqUP+MeE9tWWpM/x+dk+Jj3kj/bd2LhfUSRP4/jY8CBV5E/sqmRzRyZlD9abDup6NyTP/druaVe8pM/CsdbdZ+2lD9vR2+bVR2RPyvt/CGLcZU/3XvJnA/9kD/ibfWzswyRP+POsKFBf5E/eSe3SiR5kT9WnyB2cCuRP/Trl4TyFpM/Fp1r06hWkD9K6CD8h3cRQDiVTwieqRBAQ+vOg2mCD0BhalQwPmcQQOlrnkohfRFAi5qu0GqdEUD2C/wEaRcRQCAMyxGaKRFA5P9gZjYEEUCBgh0QEPwOQMlW/EnBiBBAFG6hyxHmCUC+8LhGjQQCQPkbzzsuMQJAT6KkT9SVAUBc3bnjd6YAQJLCuyrAtQFABf7AnjsXAUBZaNw/2OUAQAgB2MQWirtAJ8G5cmIPvUAv7kG/svG4QN5HtFPAJLdA3gg5tUUAtUDYo2CRrPGzQBqgkq03QrVAm/v215SZs0BBqDLYQ5eyQNGX1FEG8rJADyaIY/okskAexW/81PSxQI8BA8gynrJAJ7tLRkxGskCGY7iIa6WxQMC6/asbJbJAhYNfR8YAr0Alhdma/iSyQB9vypCWlLVASyr+hMPywECKUqhdsBSyQBZ7UalhpbFAdQC8knL0sEDX33rLiSDMQMrYkW4B/ctABcm9Fp1gs0CMudBtRJq1QL8BqXDcDq9AP5j8dAJ1rkDZAs7lhEm3QJls2NJ4jb5A1VXFDEktvECNs2gQy+q0QLS9tQMdGK9Agw6+GspVykBSWDuEcKrJQGiCdJoBXclAujgGv2Z0x0A/z+Vk/K7HQKITc4IjSsdAGW9obNH9xUC3ntEc1grFQE+2Kxe2YcRAoRvAU96exEDaeJ7dg0fEQNTY/GWJfsBAvnpmiB0LwUChQw+/jE/BQETM/+VD1cBA357clcHvwEADeJKs5NLAQGWG1dbw3MBA0GqML7ftvUCPZoPG8d+8QCz5xZKfCb9ASSBc6usLvkAhfXobvy2/QAnuI7hzbsFA7ecVpiQsv0CngKHnfDnBQDkB21L0bL5AXkwexzl4tUBaEVe8W8uzQI5XbtI3zrdAwMXECi7WtUCO4ziOYx+0QMgDY2N9bNRARhLwsx8p1EDXihBAlS7UQJji/Q4JxNNA9x0Qh2hm00DPPYCJW07TQKzN1N0IDNRA0l2qmS1G00DRWB8ag6bSQGZeGulcadJAq/JpSpGO0kDw2jI9eSbSQK+LdVO9e9JARO6nHWHg00BjHhMHB9jTQPk4kNq4ZdNAu6i2Tysw00A0aTyhy5HTQI0o7OaFXtRAm3ktoLfq2EC9x7ysVWXZQBCAXvPQqddAm575LvvZ1kBDz99M59bWQBu7JWVwIddA1fMgZsAf1kD2ZOOxT9nTQK4xPRX4A9NAJA8rQRyd0kAISx5pdpTTQCF9u4lomNRAU1w/TIt+1UDQQGlFHOXZQDHxjfNmq91AYEczWHr04UACkeKb9L/iQJh9jS8R2+RAOEqdn7Yd5UCOk1MTBtvmQFLakSh2qutAWZegPjAR60B73ak/Z2HsQLa2cKnkOu5ABbxCDiEJ8EBtNfsqv+7vQFjJZV6V9+9AVGOFGBVo8EAEPhONxyDwQPLNl1pPW/BAMhUGOY5s8kD21UDCppDyQOJ5NcHMEPNA9MsaNB4r80AuTLPnX0XzQMIHeXYklfNAFxvd66Cg8kCEkRZ7iwLzQFlHRxyXI/NANPm51N048kACNYVZyOzxQNCW4RT/1/BArCMLs+mY8ECpuf9yhLTxQJihWgovIvJA2S7NQb1e8kABWF1tPSzyQItgSbICFvJAGTZt6k5S8kC52C/yZ8/yQIC/O2cmn/JAHT/sUS998kDGtOostVryQHwLnJVcRPJAMxF2oGGw8UCS6YTdZmvxQKBq/oGHrPFA+EmLJ0I18UDnW3V0v1rxQF4RkHBZVfJAhOGWxXcN8kCdfLAMgFDyQKU53tFsFfRABXrEo2+D9EB3r4H8SDT1QIJkNCJeJPVAkvcu5znf9kAr92cA69r2QJK5kHYLbfdAmaN0W58n90D2P6S+dNb3QAyUNRWr8/dAnjnRQNtk+UDR1dBzuKr5QDQEoLUPmvlA5QM3XIwa+kCcFV9SM/P5QF+KNRkmp/lAfTE/FImo+UCMsZmG+/n5QJeMzrDb9/lARzXGf8Mt+kC4Zy9S2OL6QAQriz1XxftA1B1Mo0X2+0CQeyYAaVX8QHQwJnoEEP1A4Tp8dq5//UDOC2NbW039QIZVeBSJW/1AEYODVKX7/EC5ny4N+Mf8QEUvAqdmMv1AWUWXdjEu/UAxqBc53Kn8QMIMdB1ZZv1A5dk5tVwB/UCwu4lRcjz9QEwalCUs5vxAI92JrPFU/kAtZbkgjSr/QC2q0N+Fr/9A6y3+7KUkAEElz+dee53/QITVq3I5aQBB26Y3Q7BxAEEdGdSNDJ0AQeN0kbwI0QBBh1pCeXTLAEHHUyKR7uwAQZb9hOAm2gBBEjoy5Rr3AEH4BQMxOJkBQc3+oLR4qgFBA/HNKlU4A0HSdg9T2vEEQTxzm+k4lQRBL49Cfv8SBUHYxrKEp6IFQcsAt/PrUAVBCeFDiJ1ABkEwMjaLxm8GQTJmvegutAZBuOl6xgS8BkEDbXsBv7UGQS4tsfAGEgdB8W/1TvxmB0Gxl17/9WMIQexITsXO/ghBFbNI6cIvCUHOGazxsWIJQQsMLtO0CwlBm18F8tVnCUGzG8PCftYJQVWH5yDtPQpBq1fjFXZ9CkFsfRedsFcKQfIADSaZYApBjDM9Uqh5CkF0Si8JDQMLQVYKWgfnhwpBzFMENjysC0Gvv/HJRYsLQaUn5XzW/wxBKqsCBO8vDUF0ukzE+OQMQenP5Lz4iwxBb/5J61qyDEHDPl6/vPAMQYEC5Dv2EwxBewM3pFsTDEHUXCJdvO4LQebIylEl9AtBFGfG30hEDEE2AiFiuM8MQRVqAxpiwAxBbTL2eHAKDUECYL1ZLF8NQRFR9AMAjg1B8vAfXuCoDUFc9HtP26cNQY+fhcgOrg1BI8eeuJbSDUGWwkOEqkcOQa2CBOLmWA5BA1Me75WeDkEGAlHuA3AOQff9AKKdQg5BSg1QbXFZDkGu0SedugIOQeC75uWfMQ5BNUfzgVxqDkGyRsEEOoEOQdZH5EX4uA5B96s3KyQPEEEktsCykcEQQeWX02WZ0xBBreaJfjT4EEFr14ENhQARQejZ/kybEBFBKC1X2An5EEG5cCQt7xYRQbKGwDGRIBFBYkzBQq01EUGGSmeZWzkRQX+X+BxlKBFBosx2B2LzEEEh0PNR4h8RQcviQ4EkuBFBRTxe9CLyEUGZy9wcTW8SQbgQc5UrMhJBijIYAOJdEkFj2khBLE4SQTA8uFGzRBJBDr+DS8kwEkE5M0WRwR4SQdrdmKnBRRJBAFKkGdkVEkGqLjMt5n8SQa4PZPFUWRJBXfvUWQUHFUFQ8/GFytkUQUyjKijjGxVB2eqdkjQaFUFkDRx9QPcVQWJ2kK1vbRlBX81yb9mGGUFc66S7zvYZQe/Rv32rbBpBKkkbAryXGkFHZbNjU0caQUrINMgJERpBQvitsZgAGkGiX5qYiO8ZQX85CDK2BBpBQ0MVp3VQGEFKbfj/YKQYQV7MNEY8IxlBq2DQb5k9GUE5bYEU5HsZQcMB7f5s7xlBNmXIoskDGkHhWe2fCDsaQbpqBXCZFxpBweYLE8xwGkFazmEfj2waQVgGQurcnBpBzuoeGD2dGkE6mvZP5bEaQe1vUtvd9hpB53Il8p6mGkHTF8HVCaoaQYCUPeIg3xpBJfGMpQraGkGQWnc9ougaQQqLCuBk+RpB6r4gsl01GkEr3PXaUSkbQfGZIF8qQRtB/sizJEpPG0E4c6ohhj8bQTUIPTkCbBtBfsGYBB98G0FF7hpkO28bQWjTG9rsaxtBf/uJZ8cEHUEAxLfuyXYdQRofsTlEKB5BQ8ugXa6lH0FdO2HyMOQfQY3wBR+S2yBBgXa7vLYNIUF3/OaILi8hQS9nWwAyQSFBkSrg4Lh5IUG/wUm1UEYhQaZJons5QiFBdib3iRTEIUEfrxFKetAhQZf3cWk8wCFB1+2a9W/sIUHlCP4Xm0IiQeSNjjjnaCJBWl5bOzhyIkGSQ2ePKXwiQQVew0d5lSJBtZiUhGaWIkFu0F+L7o0iQWy5EJC2kSJBip3YCXDCIkEXTZqbGrkiQQH0iawUgSJB1vLw5rdwIkHW+9hEv9EiQb3WFgDkTCJB0qtcwg27I0FL5hdvwXwlQdXk38WFsyZBrdW6zWbOJ0G9k1G8/DwpQRhFTM3eJCpBxrjZsFMQKkECUSlzlEQqQW8EQMVWUCpBsvjij99VKkEC+GS3gRcrQSr6bD/rFStBfbnQWOUhK0EAAe4IeB0rQfh8BS308SpBVVnxhh4OK0GHjVDHgBErQeSFbvJ/NitBVsLYrLbsK0HbQ1pbzB0sQVL8vLCgKyxBkVaFCSxjLEHBM+l0X18sQRovvuBNWCxBKRoEX1dcLEFKJK5L+HUsQYIzzrJsoixBpmmapqq+LEHtIV42KNMsQag+HaNg3CxB8pa79bQMLUG/Uh9iQiMtQf1HX1HlKy1BxxcWzNsiLUFaaSRsGwAuQUJHtbdFcC5BnJP0aYltLkHSxojquJYuQUjDsnBAtC5BIpD+FCa+LkFv4L/tZusuQdY5SWCYCC9BX+WA00QaL0GEPgQ9kCIvQYUJU6agJS9BKMXY5eZHL0HvxL1yHS4wQYEJQyZDRzBBYJdfUsNUMEEG4KtKAGIwQUOkNPrQajBB3gpj3mJ9MEFGL82TzaMwQQlSaNaLrTBB/7fUiHWxMEFClCspsL8wQfSXZmzGwzBBrntR2RnSMEGoru23SrwwQYq6iKALyzBBCrrPY8QoMUFn1cAiHC0xQcgsEEEOYzFBoYDVO+5tMUEW5GAy844xQWzoZklViTFBu0mIUYagMUG6//GC47cxQc5cg0G1FzJB6H6IkH72MkELzcEBFKEzQXmNvvTCzDNBgzCBAA+zM0EUeobJJuk0QaHi/QUxQTZBeq3Xeo3PNkFnhJgRRpI3Qf4bq+p7azdBBlLKhb7MN0HZFfvXyKM4QaSzL7uCNDlB4oviw5coOkFWVRU/+is6QbYbUmLOXjpBsVQmijN4OkEJ2BhttX06QZQq0yqEmDpBqWGpQWCwOkGBEGovmcw6QeIVjLK01DpBAjNyCkFWOkGdt2YURrs7QXn1CGhaFzxBPNILhv5MPEF4ws1Vlks8QazDfpjDjzxB15LC+MylPEEB7b5r5Iw8Qbyo8dgliDxBhGwks3WQPEGWtbVptqs8QU4QlJ6/ijxBlDyiqfidPEGsJvDgPiM9QRrTzZ0ZID1BYUB/QdWyPUGe026RcGg+QXHQmjOXwD5B+aJIxZjmPkEW1NRi3RQ/Qe2TVWuYVz9BH6IM6B6QP0HOI2YVVHI/QUXFdl9y4j9By4x3WADOP0F6De2rF90/Qf/nwHVp1D9BCB+m0FPVP0HMemCQg+w/QRc1o/08vT9BgET000NwP0EUH1Kgn1c/QYw62iMmRz9Bw4orKfFBP0FZciCU4U4/QW3hgdcqhz9BLiEslGyIP0Fwm5iVCaQ/Qd+/fNra2j9BeVjyNcU4QEFOLGOkIEZAQf4D+M8EmkBBgBh4wVmgQEHupWFxXLFAQbbPloGouEBBg8ops9UcQUENXnimXyFBQQ8S5wDv+UBBcWH572kFQUFycLNfdkFBQbXRlTCtQUFBZoP9AOVKQUHf+67yF0xBQRHAh+p6TUFBRRonQOd5QUGvtAp9c4ZBQREoN0HvnUFBKuZHHmShQUGKfNaNYMxBQfshkYLIzUFBJ0wKScvXQUHfmn9Wi9pBQWtZB9qi/UFBRDUdczYPQkFFdjASk9dBQWBM4uBMAkJBaKPoGt3yQUEbeiBjx99BQVvrmoV67EFBHMdxHC0DQkFGksteFQFCQY8scmMJCEJBC58pUpUMQkH3J4S3HQFCQd8vPGdv5UFB7JT+sVfwQUEix/jOCeVBQQprUnIj8kFBZUVB83oRQkGjlpK3UA9CQZsoQnzqKEJBgy8an1U+QkHP/qNz7FRCQdMsQm9EXEJBhsYDg3FeQkHtE+TCvYlCQbA9SEBknUJBg5Fe0V2eQkFvDh2XndFCQcezauuwxkJB6DA61EHkQkHfZ2OTj+9CQQ+YaMbwDENBvYT2GsEJQ0GDwT9/5A9DQUaS9c9GJ0NBVJct80glQ0FoKEY5NClDQZ68GYi7MUNB7WbhDvo9Q0HUCTSIrzJDQR5KqxdIg0NBUo5Ov7SIQ0G3ShFdFoFDQRqrJr9RfUNBbDiroiFqQ0EHia6/Y0NDQcK+7AmLUUNBsE+wTxJEQ0HDbrs8PlFDQY203Qp4VkNBi4rN01BNQ0FSMqAUk1lDQT0mm1ClQENBdcZ8eBRVQ0GrTW1aR1hDQa7hDxAgbkNB1gCyhN9LQ0ENOTR8Nj5DQf3gRF3TTkNBfTrZJwBlQ0EKWhKOBGpDQeQanPaLgENBZFvg6lpoQ0FZJxu3jV1DQd8AzFhpi0NBIqedsLJ7Q0H7ITfd2opDQSFU7e+8e0NB2Mlb2K59Q0HU2eQNuGdDQSJs86nVW0NBukQCilByQ0G36WuQAz9DQSW6T12dQUNBU9W4bAPxQkGUUwyi4+9CQdKFQGgo/0JBQ3w2caHvQkGmxq9ev/BCQZQ7lmTA6kJBa+k10jnWQkH0TPJpsLBCQWICXr70p0JBTdq/C06nQkGJLpG7iJBCQejCcoylkEJBEtjJ3JKGQkFbR8d3ZmdCQdsV6hDGZkJB1w9N3hVnQkGrRg3lWDJCQau5cOeHJkJB3kpr75IfQkHEGoANegNCQQ4Tku179kFBIdgHYZvSQUG/Jzy2O/9BQS/RxgI460FBo9soRMjDQUGdxPGfTnRBQfSLhUIeAkBBkcpoQ8kMQEF/m7lb7BlAQVoRt6uGCUBBdV3X9TG3P0HqFg0s4WU/QbJAUksQQj9BenalyVZKP0Ea/HZHS1Q/QQedR0pXPz9BKx94d1clP0HguU37VIU+QWQJ1jAflz1BxW+/kXSGPUHeOTCoeXU9Qeb21y71nj1BMZhKVP6TPUE8kUe5z509QcpWtGsfrD1BZ/aTyXnaPUGO6DVtcOA9QaIQMPJ53z1B+zoEQVH+PUFROWm69gs+QTy7g3eeIz5BTbOFuZ4cPkFraWmJzyM+QbvVgmmADT5BXCIlESoBPkGazucHwfk9QcTNYVc66j1BCCUztJX4PUFsPwLYmPM9QSFV9zOD8j1BBtX63Y/5PUF0hIGNTd49QbLhnouMvj1BbwienyuiPUGkJm2UMVo9QTDZ6gmPVz1BCh1XrirxPEFLBU8rzk88Qcb9E4ylbzxBjDgq9spEPEGWGJ8y6CM8QZR0tT/TQjxBw89RrZh2PEFTFn+p86U8QepSOPbF7DxBKiQbwsIQPUEhdyFudi49QbJ3SZIDJj1BsUhc0hAOPUEIQJOBcQw9QZW1WVbeFz1BvDrWNYQvPUHYeIU/Z2U9QXDAEjO+ZT1BmovxZdldPUHWWMQkFu89QeYQczbAXD5Bqbil6x4gP0H8jo6p7wZAQZqJkZd7C0BBZ7qYuBIFQEGnpLWlgApAQQ/FtUC2IUBBCq15SshqP0E1y8oM5+0+QaW9wlJ/2T5Bd7R5n/m8PkHILO9L1Rg/QRpxXloHOD9BOXUc6ipFP0FpDmwqYnc/QXg2vKyUiT9BqDo+tUiCP0HtAUQ3kmM/QSGhGIg3hD9BO5eF6ZOKP0EbNEFta5Q/QW2ik0hjbz9BpIovuXfsPkEar/W5iSo/QVOuC4RAIz9BQmMcobSoQEEidHoYm9tAQSGbtHbnwEBBw0sdjo/YQEH7++ms1g9BQUF+/FCDj0FBuM+Lw4ESQkEi5ui7EzRCQbzzKz9pdUJBRuWFMZtfQkHl8psmxWBCQahqJ36kkkJBcxgAMbvWQkHUtGVJfe9CQYY77Ro0wEJBnO48W2vIQkFlcPUGT+RCQbRTyUxNAUNBMDzM0O8sQ0HpAXkekrZDQemNLUM/+ENBL2audzxLREFMJXocHSBEQQNuBSvwQ0RBJHLwv9A7REHgwNaphltEQbOvvf38qURB303fzVWhREG8alGB969EQSEJ4G/HbkRBCqdZAOGCREFm5ITh55hEQVkgMNyWnkRBRmpp7jXAREHILbJqn/FEQUN4yQ3L6kRBHViDII6mREEB+hHKXc1EQQp4asRUtERBLvcuqdaNREG40VyVEKJEQUnMBHgRdURBLlWIKvthREFwx8/4w2hEQXoP2ZNrjkRBJwIPaYGIREHep5BxeSpFQeOSMw78SEVBG7GkC+ftRUE0sGhnQe1FQbGO1gTm+0VBJ+y5GFsJRkHwioi6q69FQWjWuNDM1EVBLOazN/zmRUGljnLgwOZFQdWcBKKxEUZBLeIQXLD9RUExpTiILAZGQZlMrYAN4EVBd2tZqygRRkEnU+514CBGQavGHmPZO0ZBAbDPS0VsRkGtgUwF9WlGQRj4XoxPi0ZB4L7c95VmRkFrz6PVHnlGQRMinSYKq0ZB4P0lhS3qRkE+DNT4fw5HQYGpWkI7M0dBE1415UE3R0Fv7T+agmhHQVMVE5GhjEdBv6cU9yTOSEFt9jApJxlJQdC1+V+ZA0lBiktuGdPqSEET72kpUxlJQTB7QXlpIklBtRi4jEkASUHAtgexaShJQSK2jhrQIElBDKGU1BwdSUHlMtdLrDRJQZcJknnNJUlBwd9oNC6VSUG2vWEPEYRJQfSAl2eqwElBYd6xTUn/SUE9ktsCXERKQXQ4s0lDQUpBcqzjydbTSUH69CPamkxKQeMlXMkQRkpBnlwsTX0bSkEfCQmYozVKQZkUUNPMl0pBxhSfvVqMSkHLt/p/MCRLQV25qO5GfEtBAeopcjc4TEG5fWV1f81MQaoQsW1tlE1B8Q3BY8VZT0GeaGwOOoVPQXA1fMiZaVBBBAVCJRC3UEFK+Y1t+7BQQUI3oAYsulBBxCqtxQjDUEEUxVOKWJZQQesMzKwtxFBBKQstCMVrUEH8lgqXD7dQQZwbQM/eClFBimJfu1HkUEH7SxLBQrhQQdjTAgG41lBB/Z7WKmgRUUHxDphf7+ZQQRuEiAWZTFFB7QU2EnYMUUGIvKnVSmBRQR7XtSaMSlFBZ5s5zUmCUUGFuc5wSKRRQUK0ZB/noVFBUuJF6C56UkHrh0xbcSJTQVKxtmziDlNBI1M4jsZlU0GZvMzBU8pTQTlqJ+jez1NBBugcY+TGU0FSU+2BXNZTQZLkPrOgw1NB95XZFLINVEEUYjymBupTQYUgt7Qy91NBpCjp0j7eU0Gl9a1nqJJTQdMSeNM2jlNBVzgH8lutU0FCmh+4suFTQRjdzJBrq1NBpw9xCIKCU0Focbr7+5lTQQWX6Uj+gVNBeOYC/RaFUkE3mCKftC9TQd7/vC0E6FJB/JOM5TjUUkHop0OA19NSQTb3MEPamFJBuw6WCOitUkHnrzw903tTQbs4/ROdvFJBsza+dAivUkH4X0fjh+1SQXKdzrHdClNBCm7S6jvLUkGOtEQHNPpSQZ3o2DYlylJBMbfbFVn8UkG2h6ZNAQRTQRtnmhmuAVNBDCkNdlDpUkForeJUOylTQZqiW27YGVNBStFRqzpfU0GbweyGnIlTQbhnXKxuYVNBZtX+VDlTU0FZ+Zy5rmpTQdHK83ayXlNB8eK14fT9UkFOzJ1+zupSQYuz2h6lRlNBeUzSICz0UkH+tQefEKFSQZW3kEjyIVJB86hNtKQzUkEvtgSfp7VRQSk0V5SFClJBVmxbke73UUHJXFADylBRQeJebf/KKFFBWJIQ8pUfUUGTdA00rTJRQW0A6zFCZVFBlGlez2NEUUGm+8Vvvd9QQXY1uI0SI1BBEL18igEkUEEkXz7m/BVQQcq24MIFFFBBMUytv/9QUEHws+jfKBJQQfkssj9+UFBBZ9tmZdenUEHNDdQmJuhQQagqGU/s31BBG+vxNWgRUUENGQzL4b9QQfFsy9PKylBBFs6A0J/AUEHlbtQ+nPZQQTR1weqixVBB8WIz8MN2UEGsL2AUcZhQQUJt3GcbLlFBGt215HHDUUE3oM2SIpBRQb0NNMT7plFBs2cBVU/tU0HLRpCFFepSQX4XteYor1JBkF9dyXQOUkGAcfBlO4xSQTv/LCLCMVJBiyk4tOEyUkFwVC1Xy5pRQfcFLIAUu1FBPR9XuT8LU0FC95ddUB1SQYtNDoCFmlFBPvs1r17bUUEJ48H86wNSQSoDFXcAR1JBi6yu0xGlUkGNUXzhsMVSQWu0wH5/LFNBJfonnq9LUkGTatnSYSlTQcF38AM5VFNBKeMC8BggU0Ex3o8/JS5TQVBZcKZKFVNBQDWXj8wjU0FJj2qvbchRQbb021F2xVFBECoYo69hUUFkqYh/7HZRQYQwbI17v1FB4MFc6/28UUHQWMo6m+dRQdQDlbMF7VFBsaI9dYjLUUH+vngRSsRRQSgzLyDYfVFBQ9Do8sOFUUF16GO1SwdRQaI47Edp9FBBKNtoG7wlUUGDLTrtlxxRQfYs090VCFFBycaDwd2kUEFJ5BABCLFQQSZ7pJbJcVBBzbvxBklAUEE68emie99QQSmAZCkW4VBBBHOC6dywUEF1yM33/2hQQc+joe/sUFBBw2wC7SGiUEF/t5eT2cFQQZdG6QZs2VBBEeSD+bYUUUHcXUqTt9RRQdufSYjTPlFBg91ItndmUUGHUKgZ44JRQS7Lsiy2IVJBlX8YP03sUUFEGL4x8JdRQbZphHiUOVFBWaw2ayEyUUF66XKGmmFRQadHOzY0Q1FBT3UpwdsRUUEYE0ZLge5QQdS/SJ3UElFB4Vl+1fpHUUFtpybsRm1RQcxifnR1qVFBqIeXUGeCUUFCSYWmIXRRQSl2k+Ypi1FBGnEk22C6UUHHtmpsIpRRQVdws9j6OFFB0CYUEwtAUUFSMSSMCc1QQdPUen5LI1FBwvqLZum9UEE21k9ZGexQQUgYCBCTNlFBMrPGs/SsUUHi93Tp7hxSQdLcVOjxJFJByS0ahDHbUUE3EWSrIYBRQUnGohrIPlFBYP5b5soUUUFA2SJxjPtRQbINtU70DlJBMn98GzX0UUHNM2zxfPhRQWKrflKyMVJBtiGaVW8dU0HXhOMPHJZUQWfsYvXK5VZBuTGXsaTIWEERI9Hz5hdaQc8zVodtj1tBvOFNNX40WkH7UL1hhQdbQR3U5i9ZklxBgsDR9wwHXkGYGLScnbZeQR+7T42JyV9BYkM8zzyYX0HGDUquX45fQcX6w95Qw15BtwF2C8woYEGuvHltwJhgQVNtZgCYhmFB/xDwwiyQYUFDc9ZA0N1hQQI54q1H32FBkMapP0M6YkGSsmskALViQVR8qUNH4GJBv2KwxdwgY0Hwe1LJQ85jQXs5IKl8nmNB6pd0xPWXY0EIa5oJSQVkQbpw5yahemRBz15l7nDdZEHDSA9411plQWAuYacGi2VBNTk38GKDZkGCYH4IwhpoQZUKCzgWBGhBIfYje8d9aEG6d6/iORFpQf6/wmnLc2lBUKWgwtP0aEGmFTU85MFmQfwH7DF8VmVB6j15fxkKZkGnJf1Mzm9mQasajYhVE2ZBU2ZY3O4IZkGe0Gc7bcZkQTuka9S0gWVB3Ovg1NQwZUEYpA6wt2xlQW2NtSECxGVB2afmd2rwZUF4GQce94BmQaCQ1+WGcWZB9J+6NbfzZkGCLvVsklxnQaHnJHADo2dB1Ar/RiJDZ0Hvt9ndq8NmQdCiJt6PRWlBiaELtv0oakEYRfQNwOFrQZL9dDAOamxBBtHW1Xu6bEEgKxXSQzFuQc/2Kl1SSW9BItbwkdZFcEFyxCH8R7ZwQZfkmYfhznBBPSVXR6VNcEF2Op2eGFxxQbjfUt1iMnJBZ2H4bWYEckGh0YnaPLdyQcWemmnsO3NB0I+Zb8kLc0GTN9ZDZPxyQdnhIACMRHNBQGi+weFNdEG9D+0hNWx1QV0KR6ACwXVBoj3I//B1dkGLHKkAYJ92QVNeYcP9H3dBoOnk6554d0G0CCJlfkN4QXgTXD+4/HhBW0PLdoBreUHdPq9z05t5QWHkZuXyfnpBiychFGM8ekF9+lVBrHx6QfodmrSPOnpBBlqmGsBvekEjPx6Ioq96QcJs6U7SRHpB9GHfEvGFekE760sV66d7QSHI2YgO0ntBjvW+c6G/fUHZDRKSd918QSd6RX8+VH1BQmtIe0utfUGOobMI4p99QUGxtt07LX5BNy7jd0eLfUFqGpgpD0V9Qfrdk1Dp3n1BIdc7XmIKfkGQx9FaPHl+QXdYYIJqH35BsDZ2oXDBfUH2ts5506V9QdQjKJexVX1B++sQV191fUEFVy+zvi99QeQMxMq1NX1BzbE1r5tKfUHg1WyHDd58QSl9VPPA3nxBSRB8gW4rfUFeSSsjg3R9QVtg31kXvX1BTh8Oc8CZfUEH95v/RU19QXLZpD14An1B+rCX1nx8fUF9F/4x3e98QQCnSccW5HtBk1QaiEspfEENPTGQkF98QScotYQDh3xBkicPjG99ekG2qIFULXx6QeKNL4jMt3pBweyi+a1gekHH7P4faHF6QeZiyjd7aHpBRmaLSnQnekE0yDuT4R56QSeRyqKfHXpBM2iuQIC1eUHqLbndULV5Qdag6h4shHhBY8ojECDYeEFuGbbc4dZ4QTQSMSf9zHlBLNbvxWJ1ekExOh8B/gt6QaH0gb+b73lB3AmDwhEZekGwE+ps5Il6QcjNqJgou3pBdWlZt9ClekHmK/Fawcl4QX8T+DV/AHlBCbq1yhwteUHZssq4m2h4QSqP7oPlrnZBGMO36JdTdkGLAuKmVHt0QZrWcZwhiHRBiFdAEfj7dEFxBs7V/L11QcB7UoIIaXVBDkDLDil+dUHs3JYGDtZ0QfVO4OAi8HRBLiDYK+tGdUFwqgcfUJZ1QWZ8aV9wZnVBgrVLRJvedUG9UXCBNvh1Qd6ZQzNPJ3ZBALFjkcmfdkFzb3EKatB2Qe1gjhxfuHZBez9yOkG/dkF+jPMF8PR2QVS1X7J6tnZBwEqsZyKPdkFN+w1G6gF3QYkDBnzFOXdBlG+70W8YdkEHJDHHoQN2QeR1B1T+OnZBTOnez+nFdkEykSCOY+V2QTbYgJFtX3dBsPxhq29Td0GV/+MAp611QZsdvX/hgXdB8TtTU1KCd0HHMsDyjl53QZMwaewNJXZBjjYEMAlSdUF7V5BcF5V1QUQrklDdEXRB4M4JkbSMdEFLXrydoyt1QRY07R/A4XRBO+GLUieqckEsubRWZBRyQQG3sEIhfHJBM+vhlUXRcUEDcCmKh75xQaqkxYUfHHJBEDA7fRoickF1NqjbQENyQQy+VlKWBnNBk0kbgVunc0HQua6qk9pzQcirgaLbAnNB81OZFEoqc0EFK59YdO9yQVzgPOpITXNBkXXT0oFKc0ETm7DELx5yQSUquCy4RXJBh2UTt4p8c0HPilG7Oy9zQagw01WCp3NBkw5eygscc0EQE9Tw965zQbn+l4EYlXNB083rBxQ8dEGQg6lzs3h0QRIMbmMzPnRBGUwcQGLTdEEHnyinZUZ1QTecUfhuE3VBQBK4RMdcdEE/GT7F/wV0Qe+Bla/KZXVBtOw4Jw9ydUGA7pE58YN1QVNqVwu46HVBk7x/cQ/9dUG4VJqFJrN2QRDsAG7qAHdBDw66q0Fxd0Go6OhSalN3QQMAo8mkK3dB0iJXEfshd0G2aOcStDZ3Qe7VO5o6LHdBFdbvORn3dkEzVnl73EV2QXQGMs/WUXZBLWshMxnudkHaOGKLYvJ2QfLOwwgajHdBWnILGQGcd0E1Dwy6k+Z3QUtgVT6z0nhBq2Qj+ZPQeEGHX/V4HgJ5QYGiJb0JVXlBmGVaScHGeEFdM7Q8Ngx6QQAiAy/PCHpBIzJpfa3XeUFqPNrIWQR6QXLL+If6snhB9mJnEWiwdkH/PYTP+Vd2QXFx+Lz5onZB9prdKDQLd0F7eZEoJu92QRck2rE8K3hBn+HPd8Lid0FfgcMWayx4Qev9fe+h/3dBYjZncMT9d0EZqaTHu1Z4QYXomrede3hBbusLVK22eEFsqJk1HhR5QcbqM1bg0nhBHWZTboMEeUE6I3pBbPB4Qbdus1a9IHlBs41+bShEeUHyb9Io0CZ5QVEu2//PzXhBW1O9qN0MeUE/ffJMnKx4QZWMBcb5P3lBsYNlyteCeEEEF0/VVl94QaoYcuhinndBo58RawuseEGMDTFATdR4Qd7m3bKxInlB58IQwv0NeUEPggbGcaV5QW4DcdYLRHlB7grzVhs+eUHM+D3ZRuN4QcohU9h5rnhBDbxkrwgweUHuC6SkZpV4QUkgXSiQOXhBLKrfZGd6eEGsG4hqQyV5QVLvnmLapHlBlqBkPghpeUFel+C59HV5QcJKZpr+hXhBvDT/sZ47eEFPL+gBevZ3QQpfzca8n3dBpUZCHAP8d0Fgryp9zqx3QS9kMhRA1HdBXNk+pM7sd0EZ87RLHpx3Qareitv/FnhBkBgvZRpAeEF5aj8sQ5x3Qbcq+Ez3Y3dBxIZVY+AqdkEglp1d2CF2QXNNdGIlnnVBko/Hph0odkGBWZcrDUh2QVlZvs+2KnVBscZeClMqdUEDeTWmAKB0Qc+6RMprSnRBBnjZUkU8dEGhuOLIf6V0QfgGI3wUe3RB5wuDbm0RdUHx+s6Sdlt1QV9EoIDnLXZBH7/e8zlwdkGU/U1ST1F3QfFKd8/MjHZByEUt7g0gd0GXv8JcTWJ3QQDokDSP2XZBVpXA+jmsdUE/XJ7MP7N1QQ0I3pLbHHZBkHN5+0KzdkHqOQWUx9Z3QfHMmAw69HdBHvjutwsUeEFeWk78hSZ3QZZl1KVFbXdBrSUKH2Z4d0GimQHMdS13QafJZ5c5VXdBipj1iy93d0Fzfb1nk0R3QRWS4H1AKHdB\",\"dtype\":\"float64\",\"order\":\"little\",\"shape\":[1407]}},\"selected\":{\"id\":\"3673\"},\"selection_policy\":{\"id\":\"3691\"}},\"id\":\"3672\",\"type\":\"ColumnDataSource\"},{\"attributes\":{\"data_source\":{\"id\":\"3640\"},\"glyph\":{\"id\":\"3643\"},\"hover_glyph\":null,\"muted_glyph\":{\"id\":\"3645\"},\"nonselection_glyph\":{\"id\":\"3644\"},\"selection_glyph\":null,\"view\":{\"id\":\"3647\"}},\"id\":\"3646\",\"type\":\"GlyphRenderer\"},{\"attributes\":{\"line_alpha\":0.1,\"line_color\":\"#e5ae38\",\"line_width\":2,\"x\":{\"field\":\"timestamp\"},\"y\":{\"field\":\"value\"}},\"id\":\"3644\",\"type\":\"Line\"},{\"attributes\":{\"data_source\":{\"id\":\"3581\"},\"glyph\":{\"id\":\"3584\"},\"hover_glyph\":null,\"muted_glyph\":{\"id\":\"3586\"},\"nonselection_glyph\":{\"id\":\"3585\"},\"selection_glyph\":null,\"view\":{\"id\":\"3588\"}},\"id\":\"3587\",\"type\":\"GlyphRenderer\"},{\"attributes\":{\"source\":{\"id\":\"3706\"}},\"id\":\"3713\",\"type\":\"CDSView\"},{\"attributes\":{\"line_alpha\":0.2,\"line_color\":\"#e5ae38\",\"line_width\":2,\"x\":{\"field\":\"timestamp\"},\"y\":{\"field\":\"value\"}},\"id\":\"3645\",\"type\":\"Line\"},{\"attributes\":{\"source\":{\"id\":\"3672\"}},\"id\":\"3679\",\"type\":\"CDSView\"},{\"attributes\":{\"margin\":[5,5,5,5],\"name\":\"HSpacer04712\",\"sizing_mode\":\"stretch_width\"},\"id\":\"3985\",\"type\":\"Spacer\"},{\"attributes\":{\"line_alpha\":0.2,\"line_color\":\"#8b8b8b\",\"line_width\":2,\"x\":{\"field\":\"timestamp\"},\"y\":{\"field\":\"value\"}},\"id\":\"3711\",\"type\":\"Line\"},{\"attributes\":{\"line_alpha\":0.2,\"line_color\":\"#6d904f\",\"line_width\":2,\"x\":{\"field\":\"timestamp\"},\"y\":{\"field\":\"value\"}},\"id\":\"3677\",\"type\":\"Line\"},{\"attributes\":{},\"id\":\"3561\",\"type\":\"SaveTool\"},{\"attributes\":{},\"id\":\"3562\",\"type\":\"PanTool\"},{\"attributes\":{\"line_alpha\":0.1,\"line_color\":\"#8b8b8b\",\"line_width\":2,\"x\":{\"field\":\"timestamp\"},\"y\":{\"field\":\"value\"}},\"id\":\"3710\",\"type\":\"Line\"},{\"attributes\":{},\"id\":\"3565\",\"type\":\"ResetTool\"},{\"attributes\":{\"line_alpha\":0.1,\"line_color\":\"#6d904f\",\"line_width\":2,\"x\":{\"field\":\"timestamp\"},\"y\":{\"field\":\"value\"}},\"id\":\"3676\",\"type\":\"Line\"},{\"attributes\":{},\"id\":\"3563\",\"type\":\"WheelZoomTool\"},{\"attributes\":{},\"id\":\"3551\",\"type\":\"LinearScale\"},{\"attributes\":{\"line_alpha\":0.1,\"line_color\":\"#fc4f30\",\"line_width\":2,\"x\":{\"field\":\"timestamp\"},\"y\":{\"field\":\"value\"}},\"id\":\"3614\",\"type\":\"Line\"},{\"attributes\":{\"data_source\":{\"id\":\"3706\"},\"glyph\":{\"id\":\"3709\"},\"hover_glyph\":null,\"muted_glyph\":{\"id\":\"3711\"},\"nonselection_glyph\":{\"id\":\"3710\"},\"selection_glyph\":null,\"view\":{\"id\":\"3713\"}},\"id\":\"3712\",\"type\":\"GlyphRenderer\"},{\"attributes\":{},\"id\":\"3625\",\"type\":\"UnionRenderers\"},{\"attributes\":{\"overlay\":{\"id\":\"3566\"}},\"id\":\"3564\",\"type\":\"BoxZoomTool\"},{\"attributes\":{\"data_source\":{\"id\":\"3672\"},\"glyph\":{\"id\":\"3675\"},\"hover_glyph\":null,\"muted_glyph\":{\"id\":\"3677\"},\"nonselection_glyph\":{\"id\":\"3676\"},\"selection_glyph\":null,\"view\":{\"id\":\"3679\"}},\"id\":\"3678\",\"type\":\"GlyphRenderer\"},{\"attributes\":{\"line_alpha\":0.2,\"line_color\":\"#fc4f30\",\"line_width\":2,\"x\":{\"field\":\"timestamp\"},\"y\":{\"field\":\"value\"}},\"id\":\"3615\",\"type\":\"Line\"},{\"attributes\":{\"data\":{\"Variable\":[\"ETH\",\"ETH\",\"ETH\",\"ETH\",\"ETH\",\"ETH\",\"ETH\",\"ETH\",\"ETH\",\"ETH\",\"ETH\",\"ETH\",\"ETH\",\"ETH\",\"ETH\",\"ETH\",\"ETH\",\"ETH\",\"ETH\",\"ETH\",\"ETH\",\"ETH\",\"ETH\",\"ETH\",\"ETH\",\"ETH\",\"ETH\",\"ETH\",\"ETH\",\"ETH\",\"ETH\",\"ETH\",\"ETH\",\"ETH\",\"ETH\",\"ETH\",\"ETH\",\"ETH\",\"ETH\",\"ETH\",\"ETH\",\"ETH\",\"ETH\",\"ETH\",\"ETH\",\"ETH\",\"ETH\",\"ETH\",\"ETH\",\"ETH\",\"ETH\",\"ETH\",\"ETH\",\"ETH\",\"ETH\",\"ETH\",\"ETH\",\"ETH\",\"ETH\",\"ETH\",\"ETH\",\"ETH\",\"ETH\",\"ETH\",\"ETH\",\"ETH\",\"ETH\",\"ETH\",\"ETH\",\"ETH\",\"ETH\",\"ETH\",\"ETH\",\"ETH\",\"ETH\",\"ETH\",\"ETH\",\"ETH\",\"ETH\",\"ETH\",\"ETH\",\"ETH\",\"ETH\",\"ETH\",\"ETH\",\"ETH\",\"ETH\",\"ETH\",\"ETH\",\"ETH\",\"ETH\",\"ETH\",\"ETH\",\"ETH\",\"ETH\",\"ETH\",\"ETH\",\"ETH\",\"ETH\",\"ETH\",\"ETH\",\"ETH\",\"ETH\",\"ETH\",\"ETH\",\"ETH\",\"ETH\",\"ETH\",\"ETH\",\"ETH\",\"ETH\",\"ETH\",\"ETH\",\"ETH\",\"ETH\",\"ETH\",\"ETH\",\"ETH\",\"ETH\",\"ETH\",\"ETH\",\"ETH\",\"ETH\",\"ETH\",\"ETH\",\"ETH\",\"ETH\",\"ETH\",\"ETH\",\"ETH\",\"ETH\",\"ETH\",\"ETH\",\"ETH\",\"ETH\",\"ETH\",\"ETH\",\"ETH\",\"ETH\",\"ETH\",\"ETH\",\"ETH\",\"ETH\",\"ETH\",\"ETH\",\"ETH\",\"ETH\",\"ETH\",\"ETH\",\"ETH\",\"ETH\",\"ETH\",\"ETH\",\"ETH\",\"ETH\",\"ETH\",\"ETH\",\"ETH\",\"ETH\",\"ETH\",\"ETH\",\"ETH\",\"ETH\",\"ETH\",\"ETH\",\"ETH\",\"ETH\",\"ETH\",\"ETH\",\"ETH\",\"ETH\",\"ETH\",\"ETH\",\"ETH\",\"ETH\",\"ETH\",\"ETH\",\"ETH\",\"ETH\",\"ETH\",\"ETH\",\"ETH\",\"ETH\",\"ETH\",\"ETH\",\"ETH\",\"ETH\",\"ETH\",\"ETH\",\"ETH\",\"ETH\",\"ETH\",\"ETH\",\"ETH\",\"ETH\",\"ETH\",\"ETH\",\"ETH\",\"ETH\",\"ETH\",\"ETH\",\"ETH\",\"ETH\",\"ETH\",\"ETH\",\"ETH\",\"ETH\",\"ETH\",\"ETH\",\"ETH\",\"ETH\",\"ETH\",\"ETH\",\"ETH\",\"ETH\",\"ETH\",\"ETH\",\"ETH\",\"ETH\",\"ETH\",\"ETH\",\"ETH\",\"ETH\",\"ETH\",\"ETH\",\"ETH\",\"ETH\",\"ETH\",\"ETH\",\"ETH\",\"ETH\",\"ETH\",\"ETH\",\"ETH\",\"ETH\",\"ETH\",\"ETH\",\"ETH\",\"ETH\",\"ETH\",\"ETH\",\"ETH\",\"ETH\",\"ETH\",\"ETH\",\"ETH\",\"ETH\",\"ETH\",\"ETH\",\"ETH\",\"ETH\",\"ETH\",\"ETH\",\"ETH\",\"ETH\",\"ETH\",\"ETH\",\"ETH\",\"ETH\",\"ETH\",\"ETH\",\"ETH\",\"ETH\",\"ETH\",\"ETH\",\"ETH\",\"ETH\",\"ETH\",\"ETH\",\"ETH\",\"ETH\",\"ETH\",\"ETH\",\"ETH\",\"ETH\",\"ETH\",\"ETH\",\"ETH\",\"ETH\",\"ETH\",\"ETH\",\"ETH\",\"ETH\",\"ETH\",\"ETH\",\"ETH\",\"ETH\",\"ETH\",\"ETH\",\"ETH\",\"ETH\",\"ETH\",\"ETH\",\"ETH\",\"ETH\",\"ETH\",\"ETH\",\"ETH\",\"ETH\",\"ETH\",\"ETH\",\"ETH\",\"ETH\",\"ETH\",\"ETH\",\"ETH\",\"ETH\",\"ETH\",\"ETH\",\"ETH\",\"ETH\",\"ETH\",\"ETH\",\"ETH\",\"ETH\",\"ETH\",\"ETH\",\"ETH\",\"ETH\",\"ETH\",\"ETH\",\"ETH\",\"ETH\",\"ETH\",\"ETH\",\"ETH\",\"ETH\",\"ETH\",\"ETH\",\"ETH\",\"ETH\",\"ETH\",\"ETH\",\"ETH\",\"ETH\",\"ETH\",\"ETH\",\"ETH\",\"ETH\",\"ETH\",\"ETH\",\"ETH\",\"ETH\",\"ETH\",\"ETH\",\"ETH\",\"ETH\",\"ETH\",\"ETH\",\"ETH\",\"ETH\",\"ETH\",\"ETH\",\"ETH\",\"ETH\",\"ETH\",\"ETH\",\"ETH\",\"ETH\",\"ETH\",\"ETH\",\"ETH\",\"ETH\",\"ETH\",\"ETH\",\"ETH\",\"ETH\",\"ETH\",\"ETH\",\"ETH\",\"ETH\",\"ETH\",\"ETH\",\"ETH\",\"ETH\",\"ETH\",\"ETH\",\"ETH\",\"ETH\",\"ETH\",\"ETH\",\"ETH\",\"ETH\",\"ETH\",\"ETH\",\"ETH\",\"ETH\",\"ETH\",\"ETH\",\"ETH\",\"ETH\",\"ETH\",\"ETH\",\"ETH\",\"ETH\",\"ETH\",\"ETH\",\"ETH\",\"ETH\",\"ETH\",\"ETH\",\"ETH\",\"ETH\",\"ETH\",\"ETH\",\"ETH\",\"ETH\",\"ETH\",\"ETH\",\"ETH\",\"ETH\",\"ETH\",\"ETH\",\"ETH\",\"ETH\",\"ETH\",\"ETH\",\"ETH\",\"ETH\",\"ETH\",\"ETH\",\"ETH\",\"ETH\",\"ETH\",\"ETH\",\"ETH\",\"ETH\",\"ETH\",\"ETH\",\"ETH\",\"ETH\",\"ETH\",\"ETH\",\"ETH\",\"ETH\",\"ETH\",\"ETH\",\"ETH\",\"ETH\",\"ETH\",\"ETH\",\"ETH\",\"ETH\",\"ETH\",\"ETH\",\"ETH\",\"ETH\",\"ETH\",\"ETH\",\"ETH\",\"ETH\",\"ETH\",\"ETH\",\"ETH\",\"ETH\",\"ETH\",\"ETH\",\"ETH\",\"ETH\",\"ETH\",\"ETH\",\"ETH\",\"ETH\",\"ETH\",\"ETH\",\"ETH\",\"ETH\",\"ETH\",\"ETH\",\"ETH\",\"ETH\",\"ETH\",\"ETH\",\"ETH\",\"ETH\",\"ETH\",\"ETH\",\"ETH\",\"ETH\",\"ETH\",\"ETH\",\"ETH\",\"ETH\",\"ETH\",\"ETH\",\"ETH\",\"ETH\",\"ETH\",\"ETH\",\"ETH\",\"ETH\",\"ETH\",\"ETH\",\"ETH\",\"ETH\",\"ETH\",\"ETH\",\"ETH\",\"ETH\",\"ETH\",\"ETH\",\"ETH\",\"ETH\",\"ETH\",\"ETH\",\"ETH\",\"ETH\",\"ETH\",\"ETH\",\"ETH\",\"ETH\",\"ETH\",\"ETH\",\"ETH\",\"ETH\",\"ETH\",\"ETH\",\"ETH\",\"ETH\",\"ETH\",\"ETH\",\"ETH\",\"ETH\",\"ETH\",\"ETH\",\"ETH\",\"ETH\",\"ETH\",\"ETH\",\"ETH\",\"ETH\",\"ETH\",\"ETH\",\"ETH\",\"ETH\",\"ETH\",\"ETH\",\"ETH\",\"ETH\",\"ETH\",\"ETH\",\"ETH\",\"ETH\",\"ETH\",\"ETH\",\"ETH\",\"ETH\",\"ETH\",\"ETH\",\"ETH\",\"ETH\",\"ETH\",\"ETH\",\"ETH\",\"ETH\",\"ETH\",\"ETH\",\"ETH\",\"ETH\",\"ETH\",\"ETH\",\"ETH\",\"ETH\",\"ETH\",\"ETH\",\"ETH\",\"ETH\",\"ETH\",\"ETH\",\"ETH\",\"ETH\",\"ETH\",\"ETH\",\"ETH\",\"ETH\",\"ETH\",\"ETH\",\"ETH\",\"ETH\",\"ETH\",\"ETH\",\"ETH\",\"ETH\",\"ETH\",\"ETH\",\"ETH\",\"ETH\",\"ETH\",\"ETH\",\"ETH\",\"ETH\",\"ETH\",\"ETH\",\"ETH\",\"ETH\",\"ETH\",\"ETH\",\"ETH\",\"ETH\",\"ETH\",\"ETH\",\"ETH\",\"ETH\",\"ETH\",\"ETH\",\"ETH\",\"ETH\",\"ETH\",\"ETH\",\"ETH\",\"ETH\",\"ETH\",\"ETH\",\"ETH\",\"ETH\",\"ETH\",\"ETH\",\"ETH\",\"ETH\",\"ETH\",\"ETH\",\"ETH\",\"ETH\",\"ETH\",\"ETH\",\"ETH\",\"ETH\",\"ETH\",\"ETH\",\"ETH\",\"ETH\",\"ETH\",\"ETH\",\"ETH\",\"ETH\",\"ETH\",\"ETH\",\"ETH\",\"ETH\",\"ETH\",\"ETH\",\"ETH\",\"ETH\",\"ETH\",\"ETH\",\"ETH\",\"ETH\",\"ETH\",\"ETH\",\"ETH\",\"ETH\",\"ETH\",\"ETH\",\"ETH\",\"ETH\",\"ETH\",\"ETH\",\"ETH\",\"ETH\",\"ETH\",\"ETH\",\"ETH\",\"ETH\",\"ETH\",\"ETH\",\"ETH\",\"ETH\",\"ETH\",\"ETH\",\"ETH\",\"ETH\",\"ETH\",\"ETH\",\"ETH\",\"ETH\",\"ETH\",\"ETH\",\"ETH\",\"ETH\",\"ETH\",\"ETH\",\"ETH\",\"ETH\",\"ETH\",\"ETH\",\"ETH\",\"ETH\",\"ETH\",\"ETH\",\"ETH\",\"ETH\",\"ETH\",\"ETH\",\"ETH\",\"ETH\",\"ETH\",\"ETH\",\"ETH\",\"ETH\",\"ETH\",\"ETH\",\"ETH\",\"ETH\",\"ETH\",\"ETH\",\"ETH\",\"ETH\",\"ETH\",\"ETH\",\"ETH\",\"ETH\",\"ETH\",\"ETH\",\"ETH\",\"ETH\",\"ETH\",\"ETH\",\"ETH\",\"ETH\",\"ETH\",\"ETH\",\"ETH\",\"ETH\",\"ETH\",\"ETH\",\"ETH\",\"ETH\",\"ETH\",\"ETH\",\"ETH\",\"ETH\",\"ETH\",\"ETH\",\"ETH\",\"ETH\",\"ETH\",\"ETH\",\"ETH\",\"ETH\",\"ETH\",\"ETH\",\"ETH\",\"ETH\",\"ETH\",\"ETH\",\"ETH\",\"ETH\",\"ETH\",\"ETH\",\"ETH\",\"ETH\",\"ETH\",\"ETH\",\"ETH\",\"ETH\",\"ETH\",\"ETH\",\"ETH\",\"ETH\",\"ETH\",\"ETH\",\"ETH\",\"ETH\",\"ETH\",\"ETH\",\"ETH\",\"ETH\",\"ETH\",\"ETH\",\"ETH\",\"ETH\",\"ETH\",\"ETH\",\"ETH\",\"ETH\",\"ETH\",\"ETH\",\"ETH\",\"ETH\",\"ETH\",\"ETH\",\"ETH\",\"ETH\",\"ETH\",\"ETH\",\"ETH\",\"ETH\",\"ETH\",\"ETH\",\"ETH\",\"ETH\",\"ETH\",\"ETH\",\"ETH\",\"ETH\",\"ETH\",\"ETH\",\"ETH\",\"ETH\",\"ETH\",\"ETH\",\"ETH\",\"ETH\",\"ETH\",\"ETH\",\"ETH\",\"ETH\",\"ETH\",\"ETH\",\"ETH\",\"ETH\",\"ETH\",\"ETH\",\"ETH\",\"ETH\",\"ETH\",\"ETH\",\"ETH\",\"ETH\",\"ETH\",\"ETH\",\"ETH\",\"ETH\",\"ETH\",\"ETH\",\"ETH\",\"ETH\",\"ETH\",\"ETH\",\"ETH\",\"ETH\",\"ETH\",\"ETH\",\"ETH\",\"ETH\",\"ETH\",\"ETH\",\"ETH\",\"ETH\",\"ETH\",\"ETH\",\"ETH\",\"ETH\",\"ETH\",\"ETH\",\"ETH\",\"ETH\",\"ETH\",\"ETH\",\"ETH\",\"ETH\",\"ETH\",\"ETH\",\"ETH\",\"ETH\",\"ETH\",\"ETH\",\"ETH\",\"ETH\",\"ETH\",\"ETH\",\"ETH\",\"ETH\",\"ETH\",\"ETH\",\"ETH\",\"ETH\",\"ETH\",\"ETH\",\"ETH\",\"ETH\",\"ETH\",\"ETH\",\"ETH\",\"ETH\",\"ETH\",\"ETH\",\"ETH\",\"ETH\",\"ETH\",\"ETH\",\"ETH\",\"ETH\",\"ETH\",\"ETH\",\"ETH\",\"ETH\",\"ETH\",\"ETH\",\"ETH\",\"ETH\",\"ETH\",\"ETH\",\"ETH\",\"ETH\",\"ETH\",\"ETH\",\"ETH\",\"ETH\",\"ETH\",\"ETH\",\"ETH\",\"ETH\",\"ETH\",\"ETH\",\"ETH\",\"ETH\",\"ETH\",\"ETH\",\"ETH\",\"ETH\",\"ETH\",\"ETH\",\"ETH\",\"ETH\",\"ETH\",\"ETH\",\"ETH\",\"ETH\",\"ETH\",\"ETH\",\"ETH\",\"ETH\",\"ETH\",\"ETH\",\"ETH\",\"ETH\",\"ETH\",\"ETH\",\"ETH\",\"ETH\",\"ETH\",\"ETH\",\"ETH\",\"ETH\",\"ETH\",\"ETH\",\"ETH\",\"ETH\",\"ETH\",\"ETH\",\"ETH\",\"ETH\",\"ETH\",\"ETH\",\"ETH\",\"ETH\",\"ETH\",\"ETH\",\"ETH\",\"ETH\",\"ETH\",\"ETH\",\"ETH\",\"ETH\",\"ETH\",\"ETH\",\"ETH\",\"ETH\",\"ETH\",\"ETH\",\"ETH\",\"ETH\",\"ETH\",\"ETH\",\"ETH\",\"ETH\",\"ETH\",\"ETH\",\"ETH\",\"ETH\",\"ETH\",\"ETH\",\"ETH\",\"ETH\",\"ETH\",\"ETH\",\"ETH\",\"ETH\",\"ETH\",\"ETH\",\"ETH\",\"ETH\",\"ETH\",\"ETH\",\"ETH\",\"ETH\",\"ETH\",\"ETH\",\"ETH\",\"ETH\",\"ETH\",\"ETH\",\"ETH\",\"ETH\",\"ETH\",\"ETH\",\"ETH\",\"ETH\",\"ETH\",\"ETH\",\"ETH\",\"ETH\",\"ETH\",\"ETH\",\"ETH\",\"ETH\",\"ETH\",\"ETH\",\"ETH\",\"ETH\",\"ETH\",\"ETH\",\"ETH\",\"ETH\",\"ETH\",\"ETH\",\"ETH\",\"ETH\",\"ETH\",\"ETH\",\"ETH\",\"ETH\",\"ETH\",\"ETH\",\"ETH\",\"ETH\",\"ETH\",\"ETH\",\"ETH\",\"ETH\",\"ETH\",\"ETH\",\"ETH\",\"ETH\",\"ETH\",\"ETH\",\"ETH\",\"ETH\",\"ETH\",\"ETH\",\"ETH\",\"ETH\",\"ETH\",\"ETH\",\"ETH\",\"ETH\",\"ETH\",\"ETH\",\"ETH\",\"ETH\",\"ETH\",\"ETH\",\"ETH\",\"ETH\",\"ETH\",\"ETH\",\"ETH\",\"ETH\",\"ETH\",\"ETH\",\"ETH\",\"ETH\",\"ETH\",\"ETH\",\"ETH\",\"ETH\",\"ETH\",\"ETH\",\"ETH\",\"ETH\",\"ETH\",\"ETH\",\"ETH\",\"ETH\",\"ETH\",\"ETH\",\"ETH\",\"ETH\",\"ETH\",\"ETH\",\"ETH\",\"ETH\",\"ETH\",\"ETH\",\"ETH\",\"ETH\",\"ETH\",\"ETH\",\"ETH\",\"ETH\",\"ETH\",\"ETH\",\"ETH\",\"ETH\",\"ETH\",\"ETH\",\"ETH\",\"ETH\",\"ETH\",\"ETH\",\"ETH\",\"ETH\",\"ETH\",\"ETH\",\"ETH\",\"ETH\",\"ETH\",\"ETH\",\"ETH\",\"ETH\",\"ETH\",\"ETH\",\"ETH\",\"ETH\",\"ETH\",\"ETH\",\"ETH\",\"ETH\",\"ETH\",\"ETH\",\"ETH\",\"ETH\",\"ETH\",\"ETH\",\"ETH\",\"ETH\",\"ETH\",\"ETH\",\"ETH\",\"ETH\",\"ETH\",\"ETH\",\"ETH\",\"ETH\",\"ETH\",\"ETH\",\"ETH\",\"ETH\",\"ETH\",\"ETH\",\"ETH\",\"ETH\",\"ETH\",\"ETH\",\"ETH\",\"ETH\",\"ETH\",\"ETH\",\"ETH\",\"ETH\",\"ETH\",\"ETH\",\"ETH\",\"ETH\",\"ETH\",\"ETH\",\"ETH\",\"ETH\",\"ETH\",\"ETH\",\"ETH\",\"ETH\",\"ETH\",\"ETH\",\"ETH\",\"ETH\",\"ETH\",\"ETH\",\"ETH\",\"ETH\",\"ETH\",\"ETH\",\"ETH\",\"ETH\",\"ETH\",\"ETH\",\"ETH\",\"ETH\",\"ETH\",\"ETH\",\"ETH\",\"ETH\",\"ETH\",\"ETH\",\"ETH\",\"ETH\",\"ETH\",\"ETH\",\"ETH\",\"ETH\",\"ETH\",\"ETH\",\"ETH\",\"ETH\",\"ETH\",\"ETH\",\"ETH\",\"ETH\",\"ETH\",\"ETH\",\"ETH\",\"ETH\",\"ETH\",\"ETH\",\"ETH\",\"ETH\",\"ETH\",\"ETH\",\"ETH\",\"ETH\",\"ETH\",\"ETH\",\"ETH\",\"ETH\",\"ETH\",\"ETH\",\"ETH\",\"ETH\",\"ETH\",\"ETH\",\"ETH\",\"ETH\",\"ETH\",\"ETH\",\"ETH\",\"ETH\",\"ETH\",\"ETH\",\"ETH\",\"ETH\",\"ETH\",\"ETH\",\"ETH\",\"ETH\",\"ETH\",\"ETH\",\"ETH\",\"ETH\",\"ETH\",\"ETH\",\"ETH\",\"ETH\",\"ETH\",\"ETH\",\"ETH\",\"ETH\",\"ETH\",\"ETH\",\"ETH\",\"ETH\",\"ETH\",\"ETH\",\"ETH\",\"ETH\",\"ETH\",\"ETH\",\"ETH\",\"ETH\",\"ETH\",\"ETH\",\"ETH\",\"ETH\",\"ETH\",\"ETH\",\"ETH\",\"ETH\",\"ETH\",\"ETH\",\"ETH\",\"ETH\",\"ETH\",\"ETH\",\"ETH\",\"ETH\",\"ETH\",\"ETH\",\"ETH\",\"ETH\",\"ETH\",\"ETH\",\"ETH\",\"ETH\",\"ETH\",\"ETH\",\"ETH\",\"ETH\",\"ETH\",\"ETH\",\"ETH\",\"ETH\",\"ETH\",\"ETH\",\"ETH\",\"ETH\",\"ETH\",\"ETH\",\"ETH\",\"ETH\",\"ETH\",\"ETH\",\"ETH\",\"ETH\",\"ETH\",\"ETH\",\"ETH\",\"ETH\",\"ETH\",\"ETH\",\"ETH\",\"ETH\",\"ETH\",\"ETH\",\"ETH\",\"ETH\",\"ETH\",\"ETH\",\"ETH\",\"ETH\",\"ETH\",\"ETH\",\"ETH\",\"ETH\",\"ETH\",\"ETH\",\"ETH\",\"ETH\",\"ETH\",\"ETH\",\"ETH\",\"ETH\",\"ETH\",\"ETH\",\"ETH\",\"ETH\",\"ETH\",\"ETH\",\"ETH\",\"ETH\",\"ETH\",\"ETH\",\"ETH\",\"ETH\",\"ETH\",\"ETH\",\"ETH\",\"ETH\",\"ETH\",\"ETH\",\"ETH\",\"ETH\",\"ETH\",\"ETH\",\"ETH\",\"ETH\",\"ETH\",\"ETH\",\"ETH\",\"ETH\",\"ETH\",\"ETH\",\"ETH\",\"ETH\",\"ETH\",\"ETH\",\"ETH\",\"ETH\",\"ETH\",\"ETH\",\"ETH\",\"ETH\",\"ETH\",\"ETH\",\"ETH\",\"ETH\",\"ETH\",\"ETH\",\"ETH\",\"ETH\",\"ETH\",\"ETH\",\"ETH\",\"ETH\",\"ETH\",\"ETH\",\"ETH\",\"ETH\",\"ETH\",\"ETH\",\"ETH\",\"ETH\",\"ETH\",\"ETH\",\"ETH\",\"ETH\",\"ETH\",\"ETH\",\"ETH\",\"ETH\",\"ETH\",\"ETH\",\"ETH\",\"ETH\",\"ETH\",\"ETH\",\"ETH\",\"ETH\"],\"timestamp\":{\"__ndarray__\":\"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\",\"dtype\":\"float64\",\"order\":\"little\",\"shape\":[1407]},\"value\":{\"__ndarray__\":\"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\",\"dtype\":\"float64\",\"order\":\"little\",\"shape\":[1407]}},\"selected\":{\"id\":\"3641\"},\"selection_policy\":{\"id\":\"3657\"}},\"id\":\"3640\",\"type\":\"ColumnDataSource\"},{\"attributes\":{},\"id\":\"3611\",\"type\":\"Selection\"},{\"attributes\":{},\"id\":\"3575\",\"type\":\"DatetimeTickFormatter\"},{\"attributes\":{\"axis_label\":\"\",\"bounds\":\"auto\",\"formatter\":{\"id\":\"3574\"},\"major_label_orientation\":\"horizontal\",\"ticker\":{\"id\":\"3558\"}},\"id\":\"3557\",\"type\":\"LinearAxis\"},{\"attributes\":{\"days\":[1,8,15,22]},\"id\":\"3600\",\"type\":\"DaysTicker\"},{\"attributes\":{\"months\":[0,4,8]},\"id\":\"3604\",\"type\":\"MonthsTicker\"},{\"attributes\":{\"months\":[0,6]},\"id\":\"3605\",\"type\":\"MonthsTicker\"},{\"attributes\":{\"format\":\"%.0f\"},\"id\":\"3574\",\"type\":\"PrintfTickFormatter\"},{\"attributes\":{},\"id\":\"3641\",\"type\":\"Selection\"},{\"attributes\":{\"months\":[0,1,2,3,4,5,6,7,8,9,10,11]},\"id\":\"3602\",\"type\":\"MonthsTicker\"},{\"attributes\":{\"months\":[0,2,4,6,8,10]},\"id\":\"3603\",\"type\":\"MonthsTicker\"},{\"attributes\":{\"active_drag\":\"auto\",\"active_inspect\":\"auto\",\"active_multi\":null,\"active_scroll\":\"auto\",\"active_tap\":\"auto\",\"tools\":[{\"id\":\"3539\"},{\"id\":\"3561\"},{\"id\":\"3562\"},{\"id\":\"3563\"},{\"id\":\"3564\"},{\"id\":\"3565\"}]},\"id\":\"3567\",\"type\":\"Toolbar\"},{\"attributes\":{},\"id\":\"3673\",\"type\":\"Selection\"},{\"attributes\":{\"data\":{\"Variable\":[\"tvlUSD\",\"tvlUSD\",\"tvlUSD\",\"tvlUSD\",\"tvlUSD\",\"tvlUSD\",\"tvlUSD\",\"tvlUSD\",\"tvlUSD\",\"tvlUSD\",\"tvlUSD\",\"tvlUSD\",\"tvlUSD\",\"tvlUSD\",\"tvlUSD\",\"tvlUSD\",\"tvlUSD\",\"tvlUSD\",\"tvlUSD\",\"tvlUSD\",\"tvlUSD\",\"tvlUSD\",\"tvlUSD\",\"tvlUSD\",\"tvlUSD\",\"tvlUSD\",\"tvlUSD\",\"tvlUSD\",\"tvlUSD\",\"tvlUSD\",\"tvlUSD\",\"tvlUSD\",\"tvlUSD\",\"tvlUSD\",\"tvlUSD\",\"tvlUSD\",\"tvlUSD\",\"tvlUSD\",\"tvlUSD\",\"tvlUSD\",\"tvlUSD\",\"tvlUSD\",\"tvlUSD\",\"tvlUSD\",\"tvlUSD\",\"tvlUSD\",\"tvlUSD\",\"tvlUSD\",\"tvlUSD\",\"tvlUSD\",\"tvlUSD\",\"tvlUSD\",\"tvlUSD\",\"tvlUSD\",\"tvlUSD\",\"tvlUSD\",\"tvlUSD\",\"tvlUSD\",\"tvlUSD\",\"tvlUSD\",\"tvlUSD\",\"tvlUSD\",\"tvlUSD\",\"tvlUSD\",\"tvlUSD\",\"tvlUSD\",\"tvlUSD\",\"tvlUSD\",\"tvlUSD\",\"tvlUSD\",\"tvlUSD\",\"tvlUSD\",\"tvlUSD\",\"tvlUSD\",\"tvlUSD\",\"tvlUSD\",\"tvlUSD\",\"tvlUSD\",\"tvlUSD\",\"tvlUSD\",\"tvlUSD\",\"tvlUSD\",\"tvlUSD\",\"tvlUSD\",\"tvlUSD\",\"tvlUSD\",\"tvlUSD\",\"tvlUSD\",\"tvlUSD\",\"tvlUSD\",\"tvlUSD\",\"tvlUSD\",\"tvlUSD\",\"tvlUSD\",\"tvlUSD\",\"tvlUSD\",\"tvlUSD\",\"tvlUSD\",\"tvlUSD\",\"tvlUSD\",\"tvlUSD\",\"tvlUSD\",\"tvlUSD\",\"tvlUSD\",\"tvlUSD\",\"tvlUSD\",\"tvlUSD\",\"tvlUSD\",\"tvlUSD\",\"tvlUSD\",\"tvlUSD\",\"tvlUSD\",\"tvlUSD\",\"tvlUSD\",\"tvlUSD\",\"tvlUSD\",\"tvlUSD\",\"tvlUSD\",\"tvlUSD\",\"tvlUSD\",\"tvlUSD\",\"tvlUSD\",\"tvlUSD\",\"tvlUSD\",\"tvlUSD\",\"tvlUSD\",\"tvlUSD\",\"tvlUSD\",\"tvlUSD\",\"tvlUSD\",\"tvlUSD\",\"tvlUSD\",\"tvlUSD\",\"tvlUSD\",\"tvlUSD\",\"tvlUSD\",\"tvlUSD\",\"tvlUSD\",\"tvlUSD\",\"tvlUSD\",\"tvlUSD\",\"tvlUSD\",\"tvlUSD\",\"tvlUSD\",\"tvlUSD\",\"tvlUSD\",\"tvlUSD\",\"tvlUSD\",\"tvlUSD\",\"tvlUSD\",\"tvlUSD\",\"tvlUSD\",\"tvlUSD\",\"tvlUSD\",\"tvlUSD\",\"tvlUSD\",\"tvlUSD\",\"tvlUSD\",\"tvlUSD\",\"tvlUSD\",\"tvlUSD\",\"tvlUSD\",\"tvlUSD\",\"tvlUSD\",\"tvlUSD\",\"tvlUSD\",\"tvlUSD\",\"tvlUSD\",\"tvlUSD\",\"tvlUSD\",\"tvlUSD\",\"tvlUSD\",\"tvlUSD\",\"tvlUSD\",\"tvlUSD\",\"tvlUSD\",\"tvlUSD\",\"tvlUSD\",\"tvlUSD\",\"tvlUSD\",\"tvlUSD\",\"tvlUSD\",\"tvlUSD\",\"tvlUSD\",\"tvlUSD\",\"tvlUSD\",\"tvlUSD\",\"tvlUSD\",\"tvlUSD\",\"tvlUSD\",\"tvlUSD\",\"tvlUSD\",\"tvlUSD\",\"tvlUSD\",\"tvlUSD\",\"tvlUSD\",\"tvlUSD\",\"tvlUSD\",\"tvlUSD\",\"tvlUSD\",\"tvlUSD\",\"tvlUSD\",\"tvlUSD\",\"tvlUSD\",\"tvlUSD\",\"tvlUSD\",\"tvlUSD\",\"tvlUSD\",\"tvlUSD\",\"tvlUSD\",\"tvlUSD\",\"tvlUSD\",\"tvlUSD\",\"tvlUSD\",\"tvlUSD\",\"tvlUSD\",\"tvlUSD\",\"tvlUSD\",\"tvlUSD\",\"tvlUSD\",\"tvlUSD\",\"tvlUSD\",\"tvlUSD\",\"tvlUSD\",\"tvlUSD\",\"tvlUSD\",\"tvlUSD\",\"tvlUSD\",\"tvlUSD\",\"tvlUSD\",\"tvlUSD\",\"tvlUSD\",\"tvlUSD\",\"tvlUSD\",\"tvlUSD\",\"tvlUSD\",\"tvlUSD\",\"tvlUSD\",\"tvlUSD\",\"tvlUSD\",\"tvlUSD\",\"tvlUSD\",\"tvlUSD\",\"tvlUSD\",\"tvlUSD\",\"tvlUSD\",\"tvlUSD\",\"tvlUSD\",\"tvlUSD\",\"tvlUSD\",\"tvlUSD\",\"tvlUSD\",\"tvlUSD\",\"tvlUSD\",\"tvlUSD\",\"tvlUSD\",\"tvlUSD\",\"tvlUSD\",\"tvlUSD\",\"tvlUSD\",\"tvlUSD\",\"tvlUSD\",\"tvlUSD\",\"tvlUSD\",\"tvlUSD\",\"tvlUSD\",\"tvlUSD\",\"tvlUSD\",\"tvlUSD\",\"tvlUSD\",\"tvlUSD\",\"tvlUSD\",\"tvlUSD\",\"tvlUSD\",\"tvlUSD\",\"tvlUSD\",\"tvlUSD\",\"tvlUSD\",\"tvlUSD\",\"tvlUSD\",\"tvlUSD\",\"tvlUSD\",\"tvlUSD\",\"tvlUSD\",\"tvlUSD\",\"tvlUSD\",\"tvlUSD\",\"tvlUSD\",\"tvlUSD\",\"tvlUSD\",\"tvlUSD\",\"tvlUSD\",\"tvlUSD\",\"tvlUSD\",\"tvlUSD\",\"tvlUSD\",\"tvlUSD\",\"tvlUSD\",\"tvlUSD\",\"tvlUSD\",\"tvlUSD\",\"tvlUSD\",\"tvlUSD\",\"tvlUSD\",\"tvlUSD\",\"tvlUSD\",\"tvlUSD\",\"tvlUSD\",\"tvlUSD\",\"tvlUSD\",\"tvlUSD\",\"tvlUSD\",\"tvlUSD\",\"tvlUSD\",\"tvlUSD\",\"tvlUSD\",\"tvlUSD\",\"tvlUSD\",\"tvlUSD\",\"tvlUSD\",\"tvlUSD\",\"tvlUSD\",\"tvlUSD\",\"tvlUSD\",\"tvlUSD\",\"tvlUSD\",\"tvlUSD\",\"tvlUSD\",\"tvlUSD\",\"tvlUSD\",\"tvlUSD\",\"tvlUSD\",\"tvlUSD\",\"tvlUSD\",\"tvlUSD\",\"tvlUSD\",\"tvlUSD\",\"tvlUSD\",\"tvlUSD\",\"tvlUSD\",\"tvlUSD\",\"tvlUSD\",\"tvlUSD\",\"tvlUSD\",\"tvlUSD\",\"tvlUSD\",\"tvlUSD\",\"tvlUSD\",\"tvlUSD\",\"tvlUSD\",\"tvlUSD\",\"tvlUSD\",\"tvlUSD\",\"tvlUSD\",\"tvlUSD\",\"tvlUSD\",\"tvlUSD\",\"tvlUSD\",\"tvlUSD\",\"tvlUSD\",\"tvlUSD\",\"tvlUSD\",\"tvlUSD\",\"tvlUSD\",\"tvlUSD\",\"tvlUSD\",\"tvlUSD\",\"tvlUSD\",\"tvlUSD\",\"tvlUSD\",\"tvlUSD\",\"tvlUSD\",\"tvlUSD\",\"tvlUSD\",\"tvlUSD\",\"tvlUSD\",\"tvlUSD\",\"tvlUSD\",\"tvlUSD\",\"tvlUSD\",\"tvlUSD\",\"tvlUSD\",\"tvlUSD\",\"tvlUSD\",\"tvlUSD\",\"tvlUSD\",\"tvlUSD\",\"tvlUSD\",\"tvlUSD\",\"tvlUSD\",\"tvlUSD\",\"tvlUSD\",\"tvlUSD\",\"tvlUSD\",\"tvlUSD\",\"tvlUSD\",\"tvlUSD\",\"tvlUSD\",\"tvlUSD\",\"tvlUSD\",\"tvlUSD\",\"tvlUSD\",\"tvlUSD\",\"tvlUSD\",\"tvlUSD\",\"tvlUSD\",\"tvlUSD\",\"tvlUSD\",\"tvlUSD\",\"tvlUSD\",\"tvlUSD\",\"tvlUSD\",\"tvlUSD\",\"tvlUSD\",\"tvlUSD\",\"tvlUSD\",\"tvlUSD\",\"tvlUSD\",\"tvlUSD\",\"tvlUSD\",\"tvlUSD\",\"tvlUSD\",\"tvlUSD\",\"tvlUSD\",\"tvlUSD\",\"tvlUSD\",\"tvlUSD\",\"tvlUSD\",\"tvlUSD\",\"tvlUSD\",\"tvlUSD\",\"tvlUSD\",\"tvlUSD\",\"tvlUSD\",\"tvlUSD\",\"tvlUSD\",\"tvlUSD\",\"tvlUSD\",\"tvlUSD\",\"tvlUSD\",\"tvlUSD\",\"tvlUSD\",\"tvlUSD\",\"tvlUSD\",\"tvlUSD\",\"tvlUSD\",\"tvlUSD\",\"tvlUSD\",\"tvlUSD\",\"tvlUSD\",\"tvlUSD\",\"tvlUSD\",\"tvlUSD\",\"tvlUSD\",\"tvlUSD\",\"tvlUSD\",\"tvlUSD\",\"tvlUSD\",\"tvlUSD\",\"tvlUSD\",\"tvlUSD\",\"tvlUSD\",\"tvlUSD\",\"tvlUSD\",\"tvlUSD\",\"tvlUSD\",\"tvlUSD\",\"tvlUSD\",\"tvlUSD\",\"tvlUSD\",\"tvlUSD\",\"tvlUSD\",\"tvlUSD\",\"tvlUSD\",\"tvlUSD\",\"tvlUSD\",\"tvlUSD\",\"tvlUSD\",\"tvlUSD\",\"tvlUSD\",\"tvlUSD\",\"tvlUSD\",\"tvlUSD\",\"tvlUSD\",\"tvlUSD\",\"tvlUSD\",\"tvlUSD\",\"tvlUSD\",\"tvlUSD\",\"tvlUSD\",\"tvlUSD\",\"tvlUSD\",\"tvlUSD\",\"tvlUSD\",\"tvlUSD\",\"tvlUSD\",\"tvlUSD\",\"tvlUSD\",\"tvlUSD\",\"tvlUSD\",\"tvlUSD\",\"tvlUSD\",\"tvlUSD\",\"tvlUSD\",\"tvlUSD\",\"tvlUSD\",\"tvlUSD\",\"tvlUSD\",\"tvlUSD\",\"tvlUSD\",\"tvlUSD\",\"tvlUSD\",\"tvlUSD\",\"tvlUSD\",\"tvlUSD\",\"tvlUSD\",\"tvlUSD\",\"tvlUSD\",\"tvlUSD\",\"tvlUSD\",\"tvlUSD\",\"tvlUSD\",\"tvlUSD\",\"tvlUSD\",\"tvlUSD\",\"tvlUSD\",\"tvlUSD\",\"tvlUSD\",\"tvlUSD\",\"tvlUSD\",\"tvlUSD\",\"tvlUSD\",\"tvlUSD\",\"tvlUSD\",\"tvlUSD\",\"tvlUSD\",\"tvlUSD\",\"tvlUSD\",\"tvlUSD\",\"tvlUSD\",\"tvlUSD\",\"tvlUSD\",\"tvlUSD\",\"tvlUSD\",\"tvlUSD\",\"tvlUSD\",\"tvlUSD\",\"tvlUSD\",\"tvlUSD\",\"tvlUSD\",\"tvlUSD\",\"tvlUSD\",\"tvlUSD\",\"tvlUSD\",\"tvlUSD\",\"tvlUSD\",\"tvlUSD\",\"tvlUSD\",\"tvlUSD\",\"tvlUSD\",\"tvlUSD\",\"tvlUSD\",\"tvlUSD\",\"tvlUSD\",\"tvlUSD\",\"tvlUSD\",\"tvlUSD\",\"tvlUSD\",\"tvlUSD\",\"tvlUSD\",\"tvlUSD\",\"tvlUSD\",\"tvlUSD\",\"tvlUSD\",\"tvlUSD\",\"tvlUSD\",\"tvlUSD\",\"tvlUSD\",\"tvlUSD\",\"tvlUSD\",\"tvlUSD\",\"tvlUSD\",\"tvlUSD\",\"tvlUSD\",\"tvlUSD\",\"tvlUSD\",\"tvlUSD\",\"tvlUSD\",\"tvlUSD\",\"tvlUSD\",\"tvlUSD\",\"tvlUSD\",\"tvlUSD\",\"tvlUSD\",\"tvlUSD\",\"tvlUSD\",\"tvlUSD\",\"tvlUSD\",\"tvlUSD\",\"tvlUSD\",\"tvlUSD\",\"tvlUSD\",\"tvlUSD\",\"tvlUSD\",\"tvlUSD\",\"tvlUSD\",\"tvlUSD\",\"tvlUSD\",\"tvlUSD\",\"tvlUSD\",\"tvlUSD\",\"tvlUSD\",\"tvlUSD\",\"tvlUSD\",\"tvlUSD\",\"tvlUSD\",\"tvlUSD\",\"tvlUSD\",\"tvlUSD\",\"tvlUSD\",\"tvlUSD\",\"tvlUSD\",\"tvlUSD\",\"tvlUSD\",\"tvlUSD\",\"tvlUSD\",\"tvlUSD\",\"tvlUSD\",\"tvlUSD\",\"tvlUSD\",\"tvlUSD\",\"tvlUSD\",\"tvlUSD\",\"tvlUSD\",\"tvlUSD\",\"tvlUSD\",\"tvlUSD\",\"tvlUSD\",\"tvlUSD\",\"tvlUSD\",\"tvlUSD\",\"tvlUSD\",\"tvlUSD\",\"tvlUSD\",\"tvlUSD\",\"tvlUSD\",\"tvlUSD\",\"tvlUSD\",\"tvlUSD\",\"tvlUSD\",\"tvlUSD\",\"tvlUSD\",\"tvlUSD\",\"tvlUSD\",\"tvlUSD\",\"tvlUSD\",\"tvlUSD\",\"tvlUSD\",\"tvlUSD\",\"tvlUSD\",\"tvlUSD\",\"tvlUSD\",\"tvlUSD\",\"tvlUSD\",\"tvlUSD\",\"tvlUSD\",\"tvlUSD\",\"tvlUSD\",\"tvlUSD\",\"tvlUSD\",\"tvlUSD\",\"tvlUSD\",\"tvlUSD\",\"tvlUSD\",\"tvlUSD\",\"tvlUSD\",\"tvlUSD\",\"tvlUSD\",\"tvlUSD\",\"tvlUSD\",\"tvlUSD\",\"tvlUSD\",\"tvlUSD\",\"tvlUSD\",\"tvlUSD\",\"tvlUSD\",\"tvlUSD\",\"tvlUSD\",\"tvlUSD\",\"tvlUSD\",\"tvlUSD\",\"tvlUSD\",\"tvlUSD\",\"tvlUSD\",\"tvlUSD\",\"tvlUSD\",\"tvlUSD\",\"tvlUSD\",\"tvlUSD\",\"tvlUSD\",\"tvlUSD\",\"tvlUSD\",\"tvlUSD\",\"tvlUSD\",\"tvlUSD\",\"tvlUSD\",\"tvlUSD\",\"tvlUSD\",\"tvlUSD\",\"tvlUSD\",\"tvlUSD\",\"tvlUSD\",\"tvlUSD\",\"tvlUSD\",\"tvlUSD\",\"tvlUSD\",\"tvlUSD\",\"tvlUSD\",\"tvlUSD\",\"tvlUSD\",\"tvlUSD\",\"tvlUSD\",\"tvlUSD\",\"tvlUSD\",\"tvlUSD\",\"tvlUSD\",\"tvlUSD\",\"tvlUSD\",\"tvlUSD\",\"tvlUSD\",\"tvlUSD\",\"tvlUSD\",\"tvlUSD\",\"tvlUSD\",\"tvlUSD\",\"tvlUSD\",\"tvlUSD\",\"tvlUSD\",\"tvlUSD\",\"tvlUSD\",\"tvlUSD\",\"tvlUSD\",\"tvlUSD\",\"tvlUSD\",\"tvlUSD\",\"tvlUSD\",\"tvlUSD\",\"tvlUSD\",\"tvlUSD\",\"tvlUSD\",\"tvlUSD\",\"tvlUSD\",\"tvlUSD\",\"tvlUSD\",\"tvlUSD\",\"tvlUSD\",\"tvlUSD\",\"tvlUSD\",\"tvlUSD\",\"tvlUSD\",\"tvlUSD\",\"tvlUSD\",\"tvlUSD\",\"tvlUSD\",\"tvlUSD\",\"tvlUSD\",\"tvlUSD\",\"tvlUSD\",\"tvlUSD\",\"tvlUSD\",\"tvlUSD\",\"tvlUSD\",\"tvlUSD\",\"tvlUSD\",\"tvlUSD\",\"tvlUSD\",\"tvlUSD\",\"tvlUSD\",\"tvlUSD\",\"tvlUSD\",\"tvlUSD\",\"tvlUSD\",\"tvlUSD\",\"tvlUSD\",\"tvlUSD\",\"tvlUSD\",\"tvlUSD\",\"tvlUSD\",\"tvlUSD\",\"tvlUSD\",\"tvlUSD\",\"tvlUSD\",\"tvlUSD\",\"tvlUSD\",\"tvlUSD\",\"tvlUSD\",\"tvlUSD\",\"tvlUSD\",\"tvlUSD\",\"tvlUSD\",\"tvlUSD\",\"tvlUSD\",\"tvlUSD\",\"tvlUSD\",\"tvlUSD\",\"tvlUSD\",\"tvlUSD\",\"tvlUSD\",\"tvlUSD\",\"tvlUSD\",\"tvlUSD\",\"tvlUSD\",\"tvlUSD\",\"tvlUSD\",\"tvlUSD\",\"tvlUSD\",\"tvlUSD\",\"tvlUSD\",\"tvlUSD\",\"tvlUSD\",\"tvlUSD\",\"tvlUSD\",\"tvlUSD\",\"tvlUSD\",\"tvlUSD\",\"tvlUSD\",\"tvlUSD\",\"tvlUSD\",\"tvlUSD\",\"tvlUSD\",\"tvlUSD\",\"tvlUSD\",\"tvlUSD\",\"tvlUSD\",\"tvlUSD\",\"tvlUSD\",\"tvlUSD\",\"tvlUSD\",\"tvlUSD\",\"tvlUSD\",\"tvlUSD\",\"tvlUSD\",\"tvlUSD\",\"tvlUSD\",\"tvlUSD\",\"tvlUSD\",\"tvlUSD\",\"tvlUSD\",\"tvlUSD\",\"tvlUSD\",\"tvlUSD\",\"tvlUSD\",\"tvlUSD\",\"tvlUSD\",\"tvlUSD\",\"tvlUSD\",\"tvlUSD\",\"tvlUSD\",\"tvlUSD\",\"tvlUSD\",\"tvlUSD\",\"tvlUSD\",\"tvlUSD\",\"tvlUSD\",\"tvlUSD\",\"tvlUSD\",\"tvlUSD\",\"tvlUSD\",\"tvlUSD\",\"tvlUSD\",\"tvlUSD\",\"tvlUSD\",\"tvlUSD\",\"tvlUSD\",\"tvlUSD\",\"tvlUSD\",\"tvlUSD\",\"tvlUSD\",\"tvlUSD\",\"tvlUSD\",\"tvlUSD\",\"tvlUSD\",\"tvlUSD\",\"tvlUSD\",\"tvlUSD\",\"tvlUSD\",\"tvlUSD\",\"tvlUSD\",\"tvlUSD\",\"tvlUSD\",\"tvlUSD\",\"tvlUSD\",\"tvlUSD\",\"tvlUSD\",\"tvlUSD\",\"tvlUSD\",\"tvlUSD\",\"tvlUSD\",\"tvlUSD\",\"tvlUSD\",\"tvlUSD\",\"tvlUSD\",\"tvlUSD\",\"tvlUSD\",\"tvlUSD\",\"tvlUSD\",\"tvlUSD\",\"tvlUSD\",\"tvlUSD\",\"tvlUSD\",\"tvlUSD\",\"tvlUSD\",\"tvlUSD\",\"tvlUSD\",\"tvlUSD\",\"tvlUSD\",\"tvlUSD\",\"tvlUSD\",\"tvlUSD\",\"tvlUSD\",\"tvlUSD\",\"tvlUSD\",\"tvlUSD\",\"tvlUSD\",\"tvlUSD\",\"tvlUSD\",\"tvlUSD\",\"tvlUSD\",\"tvlUSD\",\"tvlUSD\",\"tvlUSD\",\"tvlUSD\",\"tvlUSD\",\"tvlUSD\",\"tvlUSD\",\"tvlUSD\",\"tvlUSD\",\"tvlUSD\",\"tvlUSD\",\"tvlUSD\",\"tvlUSD\",\"tvlUSD\",\"tvlUSD\",\"tvlUSD\",\"tvlUSD\",\"tvlUSD\",\"tvlUSD\",\"tvlUSD\",\"tvlUSD\",\"tvlUSD\",\"tvlUSD\",\"tvlUSD\",\"tvlUSD\",\"tvlUSD\",\"tvlUSD\",\"tvlUSD\",\"tvlUSD\",\"tvlUSD\",\"tvlUSD\",\"tvlUSD\",\"tvlUSD\",\"tvlUSD\",\"tvlUSD\",\"tvlUSD\",\"tvlUSD\",\"tvlUSD\",\"tvlUSD\",\"tvlUSD\",\"tvlUSD\",\"tvlUSD\",\"tvlUSD\",\"tvlUSD\",\"tvlUSD\",\"tvlUSD\",\"tvlUSD\",\"tvlUSD\",\"tvlUSD\",\"tvlUSD\",\"tvlUSD\",\"tvlUSD\",\"tvlUSD\",\"tvlUSD\",\"tvlUSD\",\"tvlUSD\",\"tvlUSD\",\"tvlUSD\",\"tvlUSD\",\"tvlUSD\",\"tvlUSD\",\"tvlUSD\",\"tvlUSD\",\"tvlUSD\",\"tvlUSD\",\"tvlUSD\",\"tvlUSD\",\"tvlUSD\",\"tvlUSD\",\"tvlUSD\",\"tvlUSD\",\"tvlUSD\",\"tvlUSD\",\"tvlUSD\",\"tvlUSD\",\"tvlUSD\",\"tvlUSD\",\"tvlUSD\",\"tvlUSD\",\"tvlUSD\",\"tvlUSD\",\"tvlUSD\",\"tvlUSD\",\"tvlUSD\",\"tvlUSD\",\"tvlUSD\",\"tvlUSD\",\"tvlUSD\",\"tvlUSD\",\"tvlUSD\",\"tvlUSD\",\"tvlUSD\",\"tvlUSD\",\"tvlUSD\",\"tvlUSD\",\"tvlUSD\",\"tvlUSD\",\"tvlUSD\",\"tvlUSD\",\"tvlUSD\",\"tvlUSD\",\"tvlUSD\",\"tvlUSD\",\"tvlUSD\",\"tvlUSD\",\"tvlUSD\",\"tvlUSD\",\"tvlUSD\",\"tvlUSD\",\"tvlUSD\",\"tvlUSD\",\"tvlUSD\",\"tvlUSD\",\"tvlUSD\",\"tvlUSD\",\"tvlUSD\",\"tvlUSD\",\"tvlUSD\",\"tvlUSD\",\"tvlUSD\",\"tvlUSD\",\"tvlUSD\",\"tvlUSD\",\"tvlUSD\",\"tvlUSD\",\"tvlUSD\",\"tvlUSD\",\"tvlUSD\",\"tvlUSD\",\"tvlUSD\",\"tvlUSD\",\"tvlUSD\",\"tvlUSD\",\"tvlUSD\",\"tvlUSD\",\"tvlUSD\",\"tvlUSD\",\"tvlUSD\",\"tvlUSD\",\"tvlUSD\",\"tvlUSD\",\"tvlUSD\",\"tvlUSD\",\"tvlUSD\",\"tvlUSD\",\"tvlUSD\",\"tvlUSD\",\"tvlUSD\",\"tvlUSD\",\"tvlUSD\",\"tvlUSD\",\"tvlUSD\",\"tvlUSD\",\"tvlUSD\",\"tvlUSD\",\"tvlUSD\",\"tvlUSD\",\"tvlUSD\",\"tvlUSD\",\"tvlUSD\",\"tvlUSD\",\"tvlUSD\",\"tvlUSD\",\"tvlUSD\",\"tvlUSD\",\"tvlUSD\",\"tvlUSD\",\"tvlUSD\",\"tvlUSD\",\"tvlUSD\",\"tvlUSD\",\"tvlUSD\",\"tvlUSD\",\"tvlUSD\",\"tvlUSD\",\"tvlUSD\",\"tvlUSD\",\"tvlUSD\",\"tvlUSD\",\"tvlUSD\",\"tvlUSD\",\"tvlUSD\",\"tvlUSD\",\"tvlUSD\",\"tvlUSD\",\"tvlUSD\",\"tvlUSD\",\"tvlUSD\",\"tvlUSD\",\"tvlUSD\",\"tvlUSD\",\"tvlUSD\",\"tvlUSD\",\"tvlUSD\",\"tvlUSD\",\"tvlUSD\",\"tvlUSD\",\"tvlUSD\",\"tvlUSD\",\"tvlUSD\",\"tvlUSD\",\"tvlUSD\",\"tvlUSD\",\"tvlUSD\",\"tvlUSD\",\"tvlUSD\",\"tvlUSD\",\"tvlUSD\",\"tvlUSD\",\"tvlUSD\",\"tvlUSD\",\"tvlUSD\",\"tvlUSD\",\"tvlUSD\",\"tvlUSD\",\"tvlUSD\",\"tvlUSD\",\"tvlUSD\",\"tvlUSD\",\"tvlUSD\",\"tvlUSD\",\"tvlUSD\",\"tvlUSD\",\"tvlUSD\",\"tvlUSD\",\"tvlUSD\",\"tvlUSD\",\"tvlUSD\",\"tvlUSD\",\"tvlUSD\",\"tvlUSD\",\"tvlUSD\",\"tvlUSD\",\"tvlUSD\",\"tvlUSD\",\"tvlUSD\",\"tvlUSD\",\"tvlUSD\",\"tvlUSD\",\"tvlUSD\",\"tvlUSD\",\"tvlUSD\",\"tvlUSD\",\"tvlUSD\",\"tvlUSD\",\"tvlUSD\",\"tvlUSD\",\"tvlUSD\",\"tvlUSD\",\"tvlUSD\",\"tvlUSD\",\"tvlUSD\",\"tvlUSD\",\"tvlUSD\",\"tvlUSD\",\"tvlUSD\",\"tvlUSD\",\"tvlUSD\",\"tvlUSD\",\"tvlUSD\",\"tvlUSD\",\"tvlUSD\",\"tvlUSD\",\"tvlUSD\",\"tvlUSD\",\"tvlUSD\",\"tvlUSD\",\"tvlUSD\",\"tvlUSD\",\"tvlUSD\",\"tvlUSD\",\"tvlUSD\",\"tvlUSD\",\"tvlUSD\",\"tvlUSD\",\"tvlUSD\",\"tvlUSD\",\"tvlUSD\",\"tvlUSD\",\"tvlUSD\",\"tvlUSD\",\"tvlUSD\",\"tvlUSD\",\"tvlUSD\",\"tvlUSD\",\"tvlUSD\",\"tvlUSD\",\"tvlUSD\",\"tvlUSD\",\"tvlUSD\",\"tvlUSD\",\"tvlUSD\",\"tvlUSD\",\"tvlUSD\",\"tvlUSD\",\"tvlUSD\",\"tvlUSD\",\"tvlUSD\",\"tvlUSD\",\"tvlUSD\",\"tvlUSD\",\"tvlUSD\",\"tvlUSD\",\"tvlUSD\",\"tvlUSD\",\"tvlUSD\",\"tvlUSD\",\"tvlUSD\",\"tvlUSD\",\"tvlUSD\",\"tvlUSD\",\"tvlUSD\",\"tvlUSD\",\"tvlUSD\",\"tvlUSD\",\"tvlUSD\",\"tvlUSD\",\"tvlUSD\",\"tvlUSD\",\"tvlUSD\",\"tvlUSD\",\"tvlUSD\",\"tvlUSD\",\"tvlUSD\",\"tvlUSD\",\"tvlUSD\",\"tvlUSD\",\"tvlUSD\",\"tvlUSD\",\"tvlUSD\",\"tvlUSD\",\"tvlUSD\",\"tvlUSD\",\"tvlUSD\",\"tvlUSD\",\"tvlUSD\",\"tvlUSD\",\"tvlUSD\",\"tvlUSD\",\"tvlUSD\",\"tvlUSD\",\"tvlUSD\",\"tvlUSD\",\"tvlUSD\",\"tvlUSD\",\"tvlUSD\",\"tvlUSD\",\"tvlUSD\",\"tvlUSD\",\"tvlUSD\",\"tvlUSD\",\"tvlUSD\",\"tvlUSD\",\"tvlUSD\",\"tvlUSD\",\"tvlUSD\",\"tvlUSD\",\"tvlUSD\",\"tvlUSD\",\"tvlUSD\",\"tvlUSD\",\"tvlUSD\",\"tvlUSD\",\"tvlUSD\",\"tvlUSD\",\"tvlUSD\",\"tvlUSD\",\"tvlUSD\",\"tvlUSD\",\"tvlUSD\",\"tvlUSD\",\"tvlUSD\",\"tvlUSD\",\"tvlUSD\",\"tvlUSD\",\"tvlUSD\",\"tvlUSD\",\"tvlUSD\",\"tvlUSD\",\"tvlUSD\",\"tvlUSD\",\"tvlUSD\",\"tvlUSD\",\"tvlUSD\",\"tvlUSD\",\"tvlUSD\",\"tvlUSD\",\"tvlUSD\",\"tvlUSD\",\"tvlUSD\",\"tvlUSD\",\"tvlUSD\",\"tvlUSD\",\"tvlUSD\",\"tvlUSD\",\"tvlUSD\",\"tvlUSD\",\"tvlUSD\",\"tvlUSD\",\"tvlUSD\",\"tvlUSD\",\"tvlUSD\",\"tvlUSD\",\"tvlUSD\",\"tvlUSD\",\"tvlUSD\",\"tvlUSD\",\"tvlUSD\",\"tvlUSD\",\"tvlUSD\",\"tvlUSD\",\"tvlUSD\",\"tvlUSD\",\"tvlUSD\",\"tvlUSD\",\"tvlUSD\",\"tvlUSD\",\"tvlUSD\",\"tvlUSD\",\"tvlUSD\",\"tvlUSD\",\"tvlUSD\",\"tvlUSD\",\"tvlUSD\",\"tvlUSD\",\"tvlUSD\",\"tvlUSD\",\"tvlUSD\",\"tvlUSD\",\"tvlUSD\",\"tvlUSD\",\"tvlUSD\",\"tvlUSD\",\"tvlUSD\",\"tvlUSD\",\"tvlUSD\",\"tvlUSD\",\"tvlUSD\",\"tvlUSD\",\"tvlUSD\",\"tvlUSD\",\"tvlUSD\",\"tvlUSD\",\"tvlUSD\",\"tvlUSD\",\"tvlUSD\",\"tvlUSD\",\"tvlUSD\",\"tvlUSD\",\"tvlUSD\",\"tvlUSD\",\"tvlUSD\",\"tvlUSD\",\"tvlUSD\",\"tvlUSD\",\"tvlUSD\",\"tvlUSD\",\"tvlUSD\",\"tvlUSD\",\"tvlUSD\",\"tvlUSD\",\"tvlUSD\",\"tvlUSD\",\"tvlUSD\",\"tvlUSD\",\"tvlUSD\",\"tvlUSD\",\"tvlUSD\",\"tvlUSD\",\"tvlUSD\",\"tvlUSD\",\"tvlUSD\",\"tvlUSD\",\"tvlUSD\",\"tvlUSD\",\"tvlUSD\",\"tvlUSD\",\"tvlUSD\",\"tvlUSD\"],\"timestamp\":{\"__ndarray__\":\"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\",\"dtype\":\"float64\",\"order\":\"little\",\"shape\":[1407]},\"value\":[0,4,4,5,5,5,5,5,5,6,6,6,6,5,6,5,5,5,5,5,6,5,1386,1355,1300,1365,1521,1531,1591,1647,1652,1516,1451,1141,684,723,745,698,679,649,632,2100574,2187923,1761431,1322049,1395519,1299343,1406269,1492881,1346872,1375273,1197336,1208691,1363800,1322087,1332142,1340764,1230081,1406365,1616384,2627295,1406890,1340804,1266586,4200506,4227210,1529506,1721351,1230356,1157661,1779275,2368811,2184832,1803655,1348483,4538303,4392076,4105398,3765240,3727645,3614010,3372824,3167783,2976913,3130369,3077011,2495857,2586193,2599813,2620378,2660420,2615404,2498818,2182976,2250921,2383687,2278501,2369142,2604644,2452697,2819162,2312229,1727079,1550713,1917241,1871145,1706140,6908299,6848192,7163984,7178571,7304792,7127275,7817731,8023171,8983722,8758371,8939618,8832017,8824505,8697058,8845547,9168312,8998308,9276538,9739269,11582730,10984395,10195547,10571618,11046204,10339780,11630174,13343930,13612594,13219941,13715902,14600775,15797364,20846431,24685057,29386938,30312295,28096734,30291023,31646081,40972890,41765822,43007119,44371099,48578456,45320142,48518175,50815621,56942145,63044139,71301491,73542908,78593372,87758898,89677700,103410300,95293222,88712830,98858837,103374935,99806389,88219997,71399412,74326033,75238286,78054938,85638433,77716764,75026171,75850735,80973666,79242602,78831535,82983347,89232298,83475721,77008937,78328314,72945655,68896116,71789512,61988724,57176760,65971481,65300967,70451708,82222365,79665163,77833965,82064851,82113672,90268949,96519516,98604963,102220287,97714894,99891414,93045466,88301085,85610279,90910790,89373648,92536272,98691300,99825253,98820460,103545997,103379499,102696576,104005391,100856136,96154942,89827949,83526322,85325813,82163637,85584130,83466548,81671089,76177207,77954914,77939406,72706836,69588405,74687687,75110273,76202390,74375836,74822899,72123558,72197504,67563427,64699277,64534583,60454750,67573072,66446158,65404640,68179506,72630318,69024749,70107146,68881346,71698905,74549899,75411934,79684901,85994827,101142114,102124287,104559325,109596066,106490164,106473264,113028841,123097085,133184099,130767036,134757182,142534136,152877574,140011691,149241031,152781395,163311364,163161811,156692266,157696272,162812040,178900895,180360136,186855019,180996674,174224263,176495675,176948323,172153067,163087860,165517449,177209232,176716559,171567791,172654087,165801316,172424873,174593522,178318713,172713587,159396651,141856366,149066738,145703377,146378643,143366445,134721771,155577525,153590379,160486751,161289757,165106770,172141386,165564313,170668400,170954358,170572303,168541466,164785463,147222751,154199817,145404054,143859403,154973225,146701753,149123768,148708599,154271507,159855247,160513659,155782164,140079561,142552371,156839697,156738044,148676936,152731150,151404933,181331022,189629827,192261833,206330008,201199595,201148116,199678657,200200600,206439565,207255771,187821325,174692638,183518500,178199538,180564600,184306210,191639918,205774418,213345335,207517242,202893479,195704666,201035235,200162073,198639099,209302726,205908268,203415278,206634790,206570838,206034861,196046601,192232034,187488159,183822817,186439572,182816751,184078439,182019699,169799074,169052859,175480266,163822820,164880229,166267346,156896201,155522792,158364913,162157007,181852154,166901716,169444920,157624090,164107148,157258194,162000470,168357612,167438517,165799021,174458547,179977135,175821755,172760720,171377063,181561342,180999875,175215901,172350784,140767634,137659327,139095514,138545111,145792039,153777841,153120229,156799495,180436801,179784064,191092152,189954707,174033502,184954799,186510085,199701062,218694935,213461887,216910076,203238993,200575746,197355567,211470309,206094673,215060917,216040494,214580839,210227627,206396608,208877812,215258867,212425901,214795892,218960888,217455566,215063358,186613086,195462606,198863758,195444806,212088456,211771222,210334396,205913739,206748910,209229203,208993243,208692331,215999701,216489610,215371503,218351107,218186015,220165891,213380009,214469213,216448995,218135619,220859553,219888118,231760311,230786515,246894599,245438936,240758670,239176614,243834855,243300308,243529044,239703938,216654257,225621365,224917674,226068387,229221134,203121694,190681809,204057328,192834147,189353694,175845372,188414029,179869155,188936063,210763069,203029686,195796440,205729915,202133410,189303822,192878314,178599540,156083721,170128132,168339797,175122523,168190301,164813011,169947043,161642292,156881409,157752572,160444942,178523156,192120961,192159715,222237115,213005836,235869769,265143814,285277636,266821048,272386300,241436593,287967333,286900209,294581517,278755910,297587827,326640689,312652923,324572717,321889391,325792494,311758666,309527921,310172054,264393363,262781300,260922294,243335651,275855578,258569204,267910305,269616997,263802444,273633372,265592138,262072735,265056057,262298185,266206886,262193696,263670089,254536736,241213188,239944383,250471747,246818257,247330943,258948027,250183650,250008160,250228890,246419956,246886955,279439092,281982195,295435767,282916380,288094787,288764397,285187962,288383383,291600945,316882999,343714660,339524744,350017714,344267830,352963369,377511078,317572284,332426187,329468769,327144622,328138758,330819928,326480410,320202212,311854663,339449294,342923905,341640576,335645873,344958872,340696141,335249182,337195858,333848969,334328790,347116639,356512085,357396814,354610067,356524013,358196406,345087753,345301426,348773944,343960301,339181961,340376817,354775401,350988892,364413816,363086678,361064699,361256789,417143436,406531576,400031974,422976743,423124254,448789212,460580036,447496548,454428246,421973616,421514142,420163860,430929780,407718579,423489945,425716790,440451395,439497630,431889596,422704911,426775170,422384528,411310332,382287581,390641959,391863742,389143369,382488931,402248404,394081858,397034610,409356608,400088648,396159319,416219227,405694930,408935761,404735666,407503681,447518010,443709734,459068306,504787826,566246757,554899630,512587183,493353986,547473542,523785518,523169506,499349257,502716060,511902647,513166043,544544791,542977816,525861322,520950511,491921379,519727431,512772975,522172090,486890806,471940607,481922645,486952139,490075672,479840700,457357205,487431461,483540597,516668487,500895485,517188921,525886221,526577473,536540410,519389663,527430312,531683534,576727160,602485157,593190887,598136409,599201244,619011282,549833460,576257128,587562183,537335676,549612227,547626768,572610526,540077799,549194944,550751550,582097072,595581776,587077937,551892827,517786278,529195796,518094082,443924440,454296766,405132408,444193718,474906502,464863529,481374082,476461714,447575049,430389311,438580250,442374894,447763113,424372889,432857986,435305189,434841768,451505408,448428584,449981885,459535203,461130122,480402014,458339412,462259896,452593660,459785756,456390854,476602244,466159528,467035857,430142188,447176689,443144252,450518428,470571344,489380402,479377516,463253813,474467609,480407442,472489904,464582778,470058229,473821574,449330513,444367971,450623982,459097022,457109646,474905369,478613209,475743455,472558661,460825375,480461702,491314238,490216567,489366612,487723836,498931164,499913210,514898633,524186462,541586986,564190322,572173540,595158869,586444306,581134367,574625977,546286330,463717373,477766969,480298553,506080337,509244674,497609106,517469016,507280627,524576978,507044279,513733444,520965106,498887282,520459046,527886328,563754037,564573153,535724309,540767112,544826508,556040121,537070823,528301302,541377818,528592003,533219451,541979431,541592522,534979761,531908415,537500541,597827719,588166412,607225068,602120951,627568139,608453110,603222878,608241372,613575903,606986934,627312991,636208659,649638108,639520840,635347603,643692654,644316836,640056359,646838731,647706053,638491398,630787883,642289206,662081300,645653288,654243548,663534586,626691673,621022607,636490280,610085869,644294076,651298193,675982983,667319679,676371557,672508129,653705687,656737943,662765380,647344367,651881659,659433755,667114055,673966173,671389589,656526697,660209141,661877208,669018461,664334386,665648277,650122438,615614346,666463425,656365891,671524239,674648072,689629094,670103188,667890290,663526464,659542632,666689956,674216415,698060798,680473465,676711576,692394389,663921359,690185059,695947054,698091546,702791843,720186489,698771355,683129610,717130766,697092415,719761837,737068081,814610804,814214565,815971883,847718137,859364921,832284059,823509201,843451570,843235063,813535481,810056455,813467939,842111186,862794790,899361759,882788843,933959893,914516509,931708248,937926654,940480794,955486232,1012257872,1039262420,1059474880,1063895740,1059409939,1052946117,1116772204,1206240644,1206287655,1281460278,1193988981,1181941852,1211647963,1249172042,1098756879,1094308574,1125342646,1116375942,1177825505,1125855262,1062425017,983131306,1019808862,1016499328,995615193,970935652,1031424023,991524443,1011743440,1011413111,1066463771,1046707279,907487817,949663654,930522988,910309813,571059402,674179247,607787311,596833794,545683538,556271979,571481532,634372039,622741452,666865409,589159976,634333638,654883475,648744654,671883699,650493786,651888516,634470099,637592799,675558238,691490769,711229828,712616880,724967894,721701988,799852211,768956650,789728862,779397193,736494899,742926614,748443516,739882554,752536156,728145463,795826838,793192421,844707361,809980464,779628137,778094328,821063381,807440287,819634398,837334134,837073358,867556748,868321309,939794668,889488122,909754430,929883486,924378231,914572447,919174024,928917737,954472731,961537818,960924425,895343839,877852977,884634007,903714134,914358435,888998053,908718434,924256518,950689421,956642628,953008778,918557670,969331319,961555174,941701954,949775485,944145351,956004246,987295455,992675652,1071645076,1040259209,1071519075,1052324382,1095955257,1122015297,1140427395,1146726173,1140689024,1129755841,1102743234,1099777623,1088753239,1127852921,1117797652,1096179268,1101177840,1177405848,1257298062,1386992091,1493315861,1573866176,1660032672,1661456504,1721869111,1767240194,1847450408,1860901233,1858139592,1875290873,1886239522,1831246576,1972827261,1979317335,2087085887,2130401307,2146955370,2255588149,2288018664,2415286839,2395449305,2421146662,2487982989,2492310711,2465752854,2522539139,2562899275,2567556402,2595366029,2668277228,2810275198,2990082722,3082849424,3372045766,3606690535,3711196429,3948716354,3698622709,3585487844,3652657367,3747203804,3872059040,4002640023,4213405687,4189819641,4294813827,4368060633,4555003584,4526547243,4475626655,4632251581,4690885591,4840248183,4703935852,4727091910,5028245384,5771420681,5916839819,6259329564,6420572464,6390949872,6451326812,6824013881,6625668953,6929627194,6900383578,6987513490,7027821156,7414779385,7261479356,7790107889,8097608826,8560465016,8640740525,9563427079,9384650122,8714642713,8864452921,7958375217,8434406599,8562069155,8336343175,9006057680,9715579446,10034172139,10484085305,10261635662,10408530048,10139321325,10048713852,10788621438,10780770197,10623229601,10350921727,9925315933,10106328471,10166001812,10609278969,10913589634,11082860793,11124180261,11240069402,11161492903,11086409132,11096982466,10928860429,11098534776,11143842600,10989940238,10615594642,10497364678,10846216596,11171169613,11334456971,11473326373,11638985607,11502349438,11537265555,11542383964,11393101850,11438607788,11574188858,11485538000,11345891442,11804792858,12071205789,12058278428,12176718891,12147129635,10923488934,11141968039,10870977281,10642897222,10563896415,10672915723,10777860199,10510159482,10548437820,10762912846,11139739548,11707573904,11359049364,11777211588,11998193738,12417842237,12634848763,12549518508,12968860005,12754307694,12480449696,12744417105,12407383202,12501569372,12383855652,12896199714,13043244757,13113477055,13003486911,12946101988,12562066757,11832766069,11743533780,12165616418,12645352367,13462658840,13063290064,13463081645,13764278973,13092046615,13680389481,13830488786,14009001085,13354405213,13647496932,13391495880,13145203014,13586612806,13959259377,14117521558,14306686660,14648915115,14761236727,14973610251,15518934519,15184497171,14857803332,15389359916,14717656741,15095194566,15432047321,15577303220,15861654988,16300961253,16552600562,15828134526,15888306508,16192057240,16890943010,19081838517,19638102635,21330582159,22593501686,22909256656,23108396003,24326583025,24066367067,21699932580,21632885625,23527936092,24431907232,23560940455,24415708349,24948020534,25453252191,26068122568,26393773687,22806776887,24885610595,25424780733,27776226604,27246562226,28035605510,26486142874,28554599094,29291649227,30092083927,29315970389,30391501279,32330715830,34940857008,35857298703,38679924799,37886803134,37098683761,40341726292,42216302985,42053996699,43950844547,45148715226,44147069699,43770976064,43316340459,43325522292,44584374241,45339653475,45819423838,46169862638,46615990886,43933376144,39033166076,40720487174,38414941359,37605115217,38313230391,37712681415,40805628348,40703191982,42897468225,41724132915,41712065122,42769736300,41041780375,42896663074,44402396951,43413186146,43933945540,44778157424,48129752529,46871052602,45087665225,45404786839,46539484021,45611718633,46906797614,47451792741,46462788497,44215793191,43679340653,41747356103,42082659217,44811798698,44558330967,44303139092,47013531766,48735455928,49273608726,50298697447,52891752416,52010090778,54002130887,55465160838,55493466364,52743129096,55109658165,54700400245,55669586199,55628792406,56470993877,59278560559,61783809784,64579677494,64043935447,62524862244,59840600973,57794851082,60010572374,59967155814,60421198381,58660722790,55834130735,57618973133,63347091830,66891283091,68063619316,69697221407,70603451438,72917176908,72406032881,79702825297,75327652786,79934589026,80673757398,81372826094,86519867740,87042736974,85369554580,88905988725,80778407601,80536217934,87632272349,80519243235,80306379087,76389641511,79553120085,60088306922,65702496506,59072602781,56373442631,50408534105,60139948581,61540826827,66394452005,65195980988,60389466759,57234472210,60297614957,65779046264,64663957625,66677208080,69365456633,65825191440,64732710635,66225076336,67827973889]},\"selected\":{\"id\":\"3707\"},\"selection_policy\":{\"id\":\"3727\"}},\"id\":\"3706\",\"type\":\"ColumnDataSource\"},{\"attributes\":{\"line_color\":\"#e5ae38\",\"line_width\":2,\"x\":{\"field\":\"timestamp\"},\"y\":{\"field\":\"value\"}},\"id\":\"3643\",\"type\":\"Line\"},{\"attributes\":{\"days\":[1,4,7,10,13,16,19,22,25,28]},\"id\":\"3599\",\"type\":\"DaysTicker\"},{\"attributes\":{\"bottom_units\":\"screen\",\"fill_alpha\":0.5,\"fill_color\":\"lightgrey\",\"left_units\":\"screen\",\"level\":\"overlay\",\"line_alpha\":1.0,\"line_color\":\"black\",\"line_dash\":[4,4],\"line_width\":2,\"right_units\":\"screen\",\"top_units\":\"screen\"},\"id\":\"3566\",\"type\":\"BoxAnnotation\"},{\"attributes\":{\"line_color\":\"#6d904f\",\"line_width\":2,\"x\":{\"field\":\"timestamp\"},\"y\":{\"field\":\"value\"}},\"id\":\"3675\",\"type\":\"Line\"},{\"attributes\":{\"line_color\":\"#8b8b8b\",\"line_width\":2,\"x\":{\"field\":\"timestamp\"},\"y\":{\"field\":\"value\"}},\"id\":\"3709\",\"type\":\"Line\"},{\"attributes\":{\"source\":{\"id\":\"3640\"}},\"id\":\"3647\",\"type\":\"CDSView\"},{\"attributes\":{\"source\":{\"id\":\"3610\"}},\"id\":\"3617\",\"type\":\"CDSView\"},{\"attributes\":{\"label\":{\"value\":\"tvlETH\"},\"renderers\":[{\"id\":\"3678\"}]},\"id\":\"3705\",\"type\":\"LegendItem\"},{\"attributes\":{\"children\":[{\"id\":\"3536\"},{\"id\":\"3544\"},{\"id\":\"3985\"}],\"margin\":[0,0,0,0],\"name\":\"Row04707\",\"tags\":[\"embedded\"]},\"id\":\"3535\",\"type\":\"Row\"},{\"attributes\":{},\"id\":\"3657\",\"type\":\"UnionRenderers\"},{\"attributes\":{\"end\":97796587597.5,\"reset_end\":97796587597.5,\"reset_start\":-8890598872.5,\"start\":-8890598872.5,\"tags\":[[[\"value\",\"value\",null]]]},\"id\":\"3538\",\"type\":\"Range1d\"},{\"attributes\":{\"line_color\":\"#30a2da\",\"line_width\":2,\"x\":{\"field\":\"timestamp\"},\"y\":{\"field\":\"value\"}},\"id\":\"3584\",\"type\":\"Line\"},{\"attributes\":{},\"id\":\"3691\",\"type\":\"UnionRenderers\"},{\"attributes\":{\"line_alpha\":0.2,\"line_color\":\"#30a2da\",\"line_width\":2,\"x\":{\"field\":\"timestamp\"},\"y\":{\"field\":\"value\"}},\"id\":\"3586\",\"type\":\"Line\"},{\"attributes\":{\"line_alpha\":0.1,\"line_color\":\"#30a2da\",\"line_width\":2,\"x\":{\"field\":\"timestamp\"},\"y\":{\"field\":\"value\"}},\"id\":\"3585\",\"type\":\"Line\"},{\"attributes\":{\"data\":{\"Variable\":[\"DAI\",\"DAI\",\"DAI\",\"DAI\",\"DAI\",\"DAI\",\"DAI\",\"DAI\",\"DAI\",\"DAI\",\"DAI\",\"DAI\",\"DAI\",\"DAI\",\"DAI\",\"DAI\",\"DAI\",\"DAI\",\"DAI\",\"DAI\",\"DAI\",\"DAI\",\"DAI\",\"DAI\",\"DAI\",\"DAI\",\"DAI\",\"DAI\",\"DAI\",\"DAI\",\"DAI\",\"DAI\",\"DAI\",\"DAI\",\"DAI\",\"DAI\",\"DAI\",\"DAI\",\"DAI\",\"DAI\",\"DAI\",\"DAI\",\"DAI\",\"DAI\",\"DAI\",\"DAI\",\"DAI\",\"DAI\",\"DAI\",\"DAI\",\"DAI\",\"DAI\",\"DAI\",\"DAI\",\"DAI\",\"DAI\",\"DAI\",\"DAI\",\"DAI\",\"DAI\",\"DAI\",\"DAI\",\"DAI\",\"DAI\",\"DAI\",\"DAI\",\"DAI\",\"DAI\",\"DAI\",\"DAI\",\"DAI\",\"DAI\",\"DAI\",\"DAI\",\"DAI\",\"DAI\",\"DAI\",\"DAI\",\"DAI\",\"DAI\",\"DAI\",\"DAI\",\"DAI\",\"DAI\",\"DAI\",\"DAI\",\"DAI\",\"DAI\",\"DAI\",\"DAI\",\"DAI\",\"DAI\",\"DAI\",\"DAI\",\"DAI\",\"DAI\",\"DAI\",\"DAI\",\"DAI\",\"DAI\",\"DAI\",\"DAI\",\"DAI\",\"DAI\",\"DAI\",\"DAI\",\"DAI\",\"DAI\",\"DAI\",\"DAI\",\"DAI\",\"DAI\",\"DAI\",\"DAI\",\"DAI\",\"DAI\",\"DAI\",\"DAI\",\"DAI\",\"DAI\",\"DAI\",\"DAI\",\"DAI\",\"DAI\",\"DAI\",\"DAI\",\"DAI\",\"DAI\",\"DAI\",\"DAI\",\"DAI\",\"DAI\",\"DAI\",\"DAI\",\"DAI\",\"DAI\",\"DAI\",\"DAI\",\"DAI\",\"DAI\",\"DAI\",\"DAI\",\"DAI\",\"DAI\",\"DAI\",\"DAI\",\"DAI\",\"DAI\",\"DAI\",\"DAI\",\"DAI\",\"DAI\",\"DAI\",\"DAI\",\"DAI\",\"DAI\",\"DAI\",\"DAI\",\"DAI\",\"DAI\",\"DAI\",\"DAI\",\"DAI\",\"DAI\",\"DAI\",\"DAI\",\"DAI\",\"DAI\",\"DAI\",\"DAI\",\"DAI\",\"DAI\",\"DAI\",\"DAI\",\"DAI\",\"DAI\",\"DAI\",\"DAI\",\"DAI\",\"DAI\",\"DAI\",\"DAI\",\"DAI\",\"DAI\",\"DAI\",\"DAI\",\"DAI\",\"DAI\",\"DAI\",\"DAI\",\"DAI\",\"DAI\",\"DAI\",\"DAI\",\"DAI\",\"DAI\",\"DAI\",\"DAI\",\"DAI\",\"DAI\",\"DAI\",\"DAI\",\"DAI\",\"DAI\",\"DAI\",\"DAI\",\"DAI\",\"DAI\",\"DAI\",\"DAI\",\"DAI\",\"DAI\",\"DAI\",\"DAI\",\"DAI\",\"DAI\",\"DAI\",\"DAI\",\"DAI\",\"DAI\",\"DAI\",\"DAI\",\"DAI\",\"DAI\",\"DAI\",\"DAI\",\"DAI\",\"DAI\",\"DAI\",\"DAI\",\"DAI\",\"DAI\",\"DAI\",\"DAI\",\"DAI\",\"DAI\",\"DAI\",\"DAI\",\"DAI\",\"DAI\",\"DAI\",\"DAI\",\"DAI\",\"DAI\",\"DAI\",\"DAI\",\"DAI\",\"DAI\",\"DAI\",\"DAI\",\"DAI\",\"DAI\",\"DAI\",\"DAI\",\"DAI\",\"DAI\",\"DAI\",\"DAI\",\"DAI\",\"DAI\",\"DAI\",\"DAI\",\"DAI\",\"DAI\",\"DAI\",\"DAI\",\"DAI\",\"DAI\",\"DAI\",\"DAI\",\"DAI\",\"DAI\",\"DAI\",\"DAI\",\"DAI\",\"DAI\",\"DAI\",\"DAI\",\"DAI\",\"DAI\",\"DAI\",\"DAI\",\"DAI\",\"DAI\",\"DAI\",\"DAI\",\"DAI\",\"DAI\",\"DAI\",\"DAI\",\"DAI\",\"DAI\",\"DAI\",\"DAI\",\"DAI\",\"DAI\",\"DAI\",\"DAI\",\"DAI\",\"DAI\",\"DAI\",\"DAI\",\"DAI\",\"DAI\",\"DAI\",\"DAI\",\"DAI\",\"DAI\",\"DAI\",\"DAI\",\"DAI\",\"DAI\",\"DAI\",\"DAI\",\"DAI\",\"DAI\",\"DAI\",\"DAI\",\"DAI\",\"DAI\",\"DAI\",\"DAI\",\"DAI\",\"DAI\",\"DAI\",\"DAI\",\"DAI\",\"DAI\",\"DAI\",\"DAI\",\"DAI\",\"DAI\",\"DAI\",\"DAI\",\"DAI\",\"DAI\",\"DAI\",\"DAI\",\"DAI\",\"DAI\",\"DAI\",\"DAI\",\"DAI\",\"DAI\",\"DAI\",\"DAI\",\"DAI\",\"DAI\",\"DAI\",\"DAI\",\"DAI\",\"DAI\",\"DAI\",\"DAI\",\"DAI\",\"DAI\",\"DAI\",\"DAI\",\"DAI\",\"DAI\",\"DAI\",\"DAI\",\"DAI\",\"DAI\",\"DAI\",\"DAI\",\"DAI\",\"DAI\",\"DAI\",\"DAI\",\"DAI\",\"DAI\",\"DAI\",\"DAI\",\"DAI\",\"DAI\",\"DAI\",\"DAI\",\"DAI\",\"DAI\",\"DAI\",\"DAI\",\"DAI\",\"DAI\",\"DAI\",\"DAI\",\"DAI\",\"DAI\",\"DAI\",\"DAI\",\"DAI\",\"DAI\",\"DAI\",\"DAI\",\"DAI\",\"DAI\",\"DAI\",\"DAI\",\"DAI\",\"DAI\",\"DAI\",\"DAI\",\"DAI\",\"DAI\",\"DAI\",\"DAI\",\"DAI\",\"DAI\",\"DAI\",\"DAI\",\"DAI\",\"DAI\",\"DAI\",\"DAI\",\"DAI\",\"DAI\",\"DAI\",\"DAI\",\"DAI\",\"DAI\",\"DAI\",\"DAI\",\"DAI\",\"DAI\",\"DAI\",\"DAI\",\"DAI\",\"DAI\",\"DAI\",\"DAI\",\"DAI\",\"DAI\",\"DAI\",\"DAI\",\"DAI\",\"DAI\",\"DAI\",\"DAI\",\"DAI\",\"DAI\",\"DAI\",\"DAI\",\"DAI\",\"DAI\",\"DAI\",\"DAI\",\"DAI\",\"DAI\",\"DAI\",\"DAI\",\"DAI\",\"DAI\",\"DAI\",\"DAI\",\"DAI\",\"DAI\",\"DAI\",\"DAI\",\"DAI\",\"DAI\",\"DAI\",\"DAI\",\"DAI\",\"DAI\",\"DAI\",\"DAI\",\"DAI\",\"DAI\",\"DAI\",\"DAI\",\"DAI\",\"DAI\",\"DAI\",\"DAI\",\"DAI\",\"DAI\",\"DAI\",\"DAI\",\"DAI\",\"DAI\",\"DAI\",\"DAI\",\"DAI\",\"DAI\",\"DAI\",\"DAI\",\"DAI\",\"DAI\",\"DAI\",\"DAI\",\"DAI\",\"DAI\",\"DAI\",\"DAI\",\"DAI\",\"DAI\",\"DAI\",\"DAI\",\"DAI\",\"DAI\",\"DAI\",\"DAI\",\"DAI\",\"DAI\",\"DAI\",\"DAI\",\"DAI\",\"DAI\",\"DAI\",\"DAI\",\"DAI\",\"DAI\",\"DAI\",\"DAI\",\"DAI\",\"DAI\",\"DAI\",\"DAI\",\"DAI\",\"DAI\",\"DAI\",\"DAI\",\"DAI\",\"DAI\",\"DAI\",\"DAI\",\"DAI\",\"DAI\",\"DAI\",\"DAI\",\"DAI\",\"DAI\",\"DAI\",\"DAI\",\"DAI\",\"DAI\",\"DAI\",\"DAI\",\"DAI\",\"DAI\",\"DAI\",\"DAI\",\"DAI\",\"DAI\",\"DAI\",\"DAI\",\"DAI\",\"DAI\",\"DAI\",\"DAI\",\"DAI\",\"DAI\",\"DAI\",\"DAI\",\"DAI\",\"DAI\",\"DAI\",\"DAI\",\"DAI\",\"DAI\",\"DAI\",\"DAI\",\"DAI\",\"DAI\",\"DAI\",\"DAI\",\"DAI\",\"DAI\",\"DAI\",\"DAI\",\"DAI\",\"DAI\",\"DAI\",\"DAI\",\"DAI\",\"DAI\",\"DAI\",\"DAI\",\"DAI\",\"DAI\",\"DAI\",\"DAI\",\"DAI\",\"DAI\",\"DAI\",\"DAI\",\"DAI\",\"DAI\",\"DAI\",\"DAI\",\"DAI\",\"DAI\",\"DAI\",\"DAI\",\"DAI\",\"DAI\",\"DAI\",\"DAI\",\"DAI\",\"DAI\",\"DAI\",\"DAI\",\"DAI\",\"DAI\",\"DAI\",\"DAI\",\"DAI\",\"DAI\",\"DAI\",\"DAI\",\"DAI\",\"DAI\",\"DAI\",\"DAI\",\"DAI\",\"DAI\",\"DAI\",\"DAI\",\"DAI\",\"DAI\",\"DAI\",\"DAI\",\"DAI\",\"DAI\",\"DAI\",\"DAI\",\"DAI\",\"DAI\",\"DAI\",\"DAI\",\"DAI\",\"DAI\",\"DAI\",\"DAI\",\"DAI\",\"DAI\",\"DAI\",\"DAI\",\"DAI\",\"DAI\",\"DAI\",\"DAI\",\"DAI\",\"DAI\",\"DAI\",\"DAI\",\"DAI\",\"DAI\",\"DAI\",\"DAI\",\"DAI\",\"DAI\",\"DAI\",\"DAI\",\"DAI\",\"DAI\",\"DAI\",\"DAI\",\"DAI\",\"DAI\",\"DAI\",\"DAI\",\"DAI\",\"DAI\",\"DAI\",\"DAI\",\"DAI\",\"DAI\",\"DAI\",\"DAI\",\"DAI\",\"DAI\",\"DAI\",\"DAI\",\"DAI\",\"DAI\",\"DAI\",\"DAI\",\"DAI\",\"DAI\",\"DAI\",\"DAI\",\"DAI\",\"DAI\",\"DAI\",\"DAI\",\"DAI\",\"DAI\",\"DAI\",\"DAI\",\"DAI\",\"DAI\",\"DAI\",\"DAI\",\"DAI\",\"DAI\",\"DAI\",\"DAI\",\"DAI\",\"DAI\",\"DAI\",\"DAI\",\"DAI\",\"DAI\",\"DAI\",\"DAI\",\"DAI\",\"DAI\",\"DAI\",\"DAI\",\"DAI\",\"DAI\",\"DAI\",\"DAI\",\"DAI\",\"DAI\",\"DAI\",\"DAI\",\"DAI\",\"DAI\",\"DAI\",\"DAI\",\"DAI\",\"DAI\",\"DAI\",\"DAI\",\"DAI\",\"DAI\",\"DAI\",\"DAI\",\"DAI\",\"DAI\",\"DAI\",\"DAI\",\"DAI\",\"DAI\",\"DAI\",\"DAI\",\"DAI\",\"DAI\",\"DAI\",\"DAI\",\"DAI\",\"DAI\",\"DAI\",\"DAI\",\"DAI\",\"DAI\",\"DAI\",\"DAI\",\"DAI\",\"DAI\",\"DAI\",\"DAI\",\"DAI\",\"DAI\",\"DAI\",\"DAI\",\"DAI\",\"DAI\",\"DAI\",\"DAI\",\"DAI\",\"DAI\",\"DAI\",\"DAI\",\"DAI\",\"DAI\",\"DAI\",\"DAI\",\"DAI\",\"DAI\",\"DAI\",\"DAI\",\"DAI\",\"DAI\",\"DAI\",\"DAI\",\"DAI\",\"DAI\",\"DAI\",\"DAI\",\"DAI\",\"DAI\",\"DAI\",\"DAI\",\"DAI\",\"DAI\",\"DAI\",\"DAI\",\"DAI\",\"DAI\",\"DAI\",\"DAI\",\"DAI\",\"DAI\",\"DAI\",\"DAI\",\"DAI\",\"DAI\",\"DAI\",\"DAI\",\"DAI\",\"DAI\",\"DAI\",\"DAI\",\"DAI\",\"DAI\",\"DAI\",\"DAI\",\"DAI\",\"DAI\",\"DAI\",\"DAI\",\"DAI\",\"DAI\",\"DAI\",\"DAI\",\"DAI\",\"DAI\",\"DAI\",\"DAI\",\"DAI\",\"DAI\",\"DAI\",\"DAI\",\"DAI\",\"DAI\",\"DAI\",\"DAI\",\"DAI\",\"DAI\",\"DAI\",\"DAI\",\"DAI\",\"DAI\",\"DAI\",\"DAI\",\"DAI\",\"DAI\",\"DAI\",\"DAI\",\"DAI\",\"DAI\",\"DAI\",\"DAI\",\"DAI\",\"DAI\",\"DAI\",\"DAI\",\"DAI\",\"DAI\",\"DAI\",\"DAI\",\"DAI\",\"DAI\",\"DAI\",\"DAI\",\"DAI\",\"DAI\",\"DAI\",\"DAI\",\"DAI\",\"DAI\",\"DAI\",\"DAI\",\"DAI\",\"DAI\",\"DAI\",\"DAI\",\"DAI\",\"DAI\",\"DAI\",\"DAI\",\"DAI\",\"DAI\",\"DAI\",\"DAI\",\"DAI\",\"DAI\",\"DAI\",\"DAI\",\"DAI\",\"DAI\",\"DAI\",\"DAI\",\"DAI\",\"DAI\",\"DAI\",\"DAI\",\"DAI\",\"DAI\",\"DAI\",\"DAI\",\"DAI\",\"DAI\",\"DAI\",\"DAI\",\"DAI\",\"DAI\",\"DAI\",\"DAI\",\"DAI\",\"DAI\",\"DAI\",\"DAI\",\"DAI\",\"DAI\",\"DAI\",\"DAI\",\"DAI\",\"DAI\",\"DAI\",\"DAI\",\"DAI\",\"DAI\",\"DAI\",\"DAI\",\"DAI\",\"DAI\",\"DAI\",\"DAI\",\"DAI\",\"DAI\",\"DAI\",\"DAI\",\"DAI\",\"DAI\",\"DAI\",\"DAI\",\"DAI\",\"DAI\",\"DAI\",\"DAI\",\"DAI\",\"DAI\",\"DAI\",\"DAI\",\"DAI\",\"DAI\",\"DAI\",\"DAI\",\"DAI\",\"DAI\",\"DAI\",\"DAI\",\"DAI\",\"DAI\",\"DAI\",\"DAI\",\"DAI\",\"DAI\",\"DAI\",\"DAI\",\"DAI\",\"DAI\",\"DAI\",\"DAI\",\"DAI\",\"DAI\",\"DAI\",\"DAI\",\"DAI\",\"DAI\",\"DAI\",\"DAI\",\"DAI\",\"DAI\",\"DAI\",\"DAI\",\"DAI\",\"DAI\",\"DAI\",\"DAI\",\"DAI\",\"DAI\",\"DAI\",\"DAI\",\"DAI\",\"DAI\",\"DAI\",\"DAI\",\"DAI\",\"DAI\",\"DAI\",\"DAI\",\"DAI\",\"DAI\",\"DAI\",\"DAI\",\"DAI\",\"DAI\",\"DAI\",\"DAI\",\"DAI\",\"DAI\",\"DAI\",\"DAI\",\"DAI\",\"DAI\",\"DAI\",\"DAI\",\"DAI\",\"DAI\",\"DAI\",\"DAI\",\"DAI\",\"DAI\",\"DAI\",\"DAI\",\"DAI\",\"DAI\",\"DAI\",\"DAI\",\"DAI\",\"DAI\",\"DAI\",\"DAI\",\"DAI\",\"DAI\",\"DAI\",\"DAI\",\"DAI\",\"DAI\",\"DAI\",\"DAI\",\"DAI\",\"DAI\",\"DAI\",\"DAI\",\"DAI\",\"DAI\",\"DAI\",\"DAI\",\"DAI\",\"DAI\",\"DAI\",\"DAI\",\"DAI\",\"DAI\",\"DAI\",\"DAI\",\"DAI\",\"DAI\",\"DAI\",\"DAI\",\"DAI\",\"DAI\",\"DAI\",\"DAI\",\"DAI\",\"DAI\",\"DAI\",\"DAI\",\"DAI\",\"DAI\",\"DAI\",\"DAI\",\"DAI\",\"DAI\",\"DAI\",\"DAI\",\"DAI\",\"DAI\",\"DAI\",\"DAI\",\"DAI\",\"DAI\",\"DAI\",\"DAI\",\"DAI\",\"DAI\",\"DAI\",\"DAI\",\"DAI\",\"DAI\",\"DAI\",\"DAI\",\"DAI\",\"DAI\",\"DAI\",\"DAI\",\"DAI\",\"DAI\",\"DAI\",\"DAI\",\"DAI\",\"DAI\",\"DAI\",\"DAI\",\"DAI\",\"DAI\",\"DAI\",\"DAI\",\"DAI\",\"DAI\",\"DAI\",\"DAI\",\"DAI\",\"DAI\",\"DAI\",\"DAI\",\"DAI\",\"DAI\",\"DAI\",\"DAI\",\"DAI\",\"DAI\",\"DAI\",\"DAI\",\"DAI\",\"DAI\",\"DAI\",\"DAI\",\"DAI\",\"DAI\",\"DAI\",\"DAI\",\"DAI\",\"DAI\",\"DAI\",\"DAI\",\"DAI\",\"DAI\",\"DAI\",\"DAI\",\"DAI\",\"DAI\",\"DAI\",\"DAI\",\"DAI\",\"DAI\",\"DAI\",\"DAI\",\"DAI\",\"DAI\",\"DAI\",\"DAI\",\"DAI\",\"DAI\",\"DAI\",\"DAI\",\"DAI\",\"DAI\",\"DAI\",\"DAI\",\"DAI\",\"DAI\",\"DAI\",\"DAI\",\"DAI\",\"DAI\",\"DAI\",\"DAI\",\"DAI\",\"DAI\",\"DAI\",\"DAI\",\"DAI\",\"DAI\",\"DAI\",\"DAI\",\"DAI\",\"DAI\",\"DAI\",\"DAI\",\"DAI\",\"DAI\",\"DAI\",\"DAI\",\"DAI\",\"DAI\",\"DAI\",\"DAI\",\"DAI\",\"DAI\",\"DAI\",\"DAI\",\"DAI\",\"DAI\",\"DAI\",\"DAI\",\"DAI\",\"DAI\",\"DAI\",\"DAI\",\"DAI\",\"DAI\",\"DAI\",\"DAI\",\"DAI\",\"DAI\",\"DAI\",\"DAI\",\"DAI\",\"DAI\",\"DAI\",\"DAI\",\"DAI\",\"DAI\",\"DAI\",\"DAI\",\"DAI\",\"DAI\",\"DAI\",\"DAI\",\"DAI\",\"DAI\",\"DAI\",\"DAI\",\"DAI\",\"DAI\",\"DAI\",\"DAI\",\"DAI\",\"DAI\",\"DAI\",\"DAI\",\"DAI\",\"DAI\",\"DAI\",\"DAI\",\"DAI\",\"DAI\",\"DAI\",\"DAI\",\"DAI\",\"DAI\",\"DAI\",\"DAI\",\"DAI\",\"DAI\",\"DAI\",\"DAI\",\"DAI\",\"DAI\",\"DAI\",\"DAI\",\"DAI\",\"DAI\",\"DAI\",\"DAI\",\"DAI\",\"DAI\",\"DAI\",\"DAI\",\"DAI\",\"DAI\",\"DAI\",\"DAI\",\"DAI\",\"DAI\",\"DAI\",\"DAI\",\"DAI\",\"DAI\",\"DAI\",\"DAI\",\"DAI\",\"DAI\",\"DAI\",\"DAI\",\"DAI\",\"DAI\",\"DAI\",\"DAI\",\"DAI\",\"DAI\",\"DAI\",\"DAI\",\"DAI\",\"DAI\",\"DAI\",\"DAI\",\"DAI\",\"DAI\",\"DAI\",\"DAI\",\"DAI\",\"DAI\",\"DAI\",\"DAI\",\"DAI\",\"DAI\",\"DAI\",\"DAI\",\"DAI\",\"DAI\",\"DAI\",\"DAI\",\"DAI\",\"DAI\",\"DAI\",\"DAI\",\"DAI\",\"DAI\",\"DAI\",\"DAI\",\"DAI\",\"DAI\",\"DAI\",\"DAI\",\"DAI\",\"DAI\",\"DAI\",\"DAI\",\"DAI\",\"DAI\",\"DAI\",\"DAI\",\"DAI\",\"DAI\",\"DAI\",\"DAI\",\"DAI\",\"DAI\",\"DAI\",\"DAI\",\"DAI\",\"DAI\",\"DAI\",\"DAI\",\"DAI\",\"DAI\",\"DAI\",\"DAI\",\"DAI\",\"DAI\",\"DAI\",\"DAI\",\"DAI\",\"DAI\",\"DAI\",\"DAI\",\"DAI\",\"DAI\",\"DAI\",\"DAI\",\"DAI\",\"DAI\",\"DAI\",\"DAI\",\"DAI\",\"DAI\",\"DAI\",\"DAI\",\"DAI\",\"DAI\",\"DAI\",\"DAI\",\"DAI\",\"DAI\",\"DAI\",\"DAI\",\"DAI\",\"DAI\",\"DAI\",\"DAI\",\"DAI\",\"DAI\",\"DAI\",\"DAI\",\"DAI\",\"DAI\",\"DAI\",\"DAI\",\"DAI\",\"DAI\",\"DAI\",\"DAI\",\"DAI\",\"DAI\",\"DAI\",\"DAI\",\"DAI\",\"DAI\",\"DAI\",\"DAI\",\"DAI\",\"DAI\",\"DAI\",\"DAI\",\"DAI\",\"DAI\",\"DAI\",\"DAI\",\"DAI\",\"DAI\",\"DAI\",\"DAI\",\"DAI\",\"DAI\",\"DAI\",\"DAI\",\"DAI\",\"DAI\",\"DAI\",\"DAI\",\"DAI\",\"DAI\",\"DAI\",\"DAI\",\"DAI\",\"DAI\",\"DAI\",\"DAI\",\"DAI\"],\"timestamp\":{\"__ndarray__\":\"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\",\"dtype\":\"float64\",\"order\":\"little\",\"shape\":[1407]},\"value\":{\"__ndarray__\":\"AAAAAAAAAAAAAAAAAAAAAAAAAAAAAAAAAAAAAAAAAAAAAAAAAAAAAAAAAAAAAAAAAAAAAAAAAAAAAAAAAAAAAAAAAAAAAAAAAAAAAAAAAAAAAAAAAAAAAAAAAAAAAAAAAAAAAAAAAAAAAAAAAAAAAAAAAAAAAAAAAAAAAAAAAAAAAAAAAAAAAAAAAAAAAAAAAAAAAAAAAAAAAAAAAAAAAAAAAAAAAAAAAAAAAAAAAAAAAAAAAAAAAAAAAAAAAAAAAAAAAAAAAAAAAAAAAAAAAAAAAAAAAAAAAAAAAAAAAAAAAAAAAAAAAAAAAAAAAAAAAAAAAAAAAAAAAAAAAAAAAAAAAAAAAAAAAAAAAAAAAAAAAAAAAAAAAAAAAAAAAAAAAAAAAAAAAAAAAAAAAAAAAAAAAAAAAAAAAAAAAAAAAAAAAAAAAAAAAAAAAAAAAAAAAAAAAAAAAAAAAAAAAAAAAAAAAAAAAAAAAAAAAAAAAAAAAAAAAAAAAAAAAAAAAAAAAAAAAAAAAAAAAAAAAAAAAAAAAAAAAAAAAAAAAAAAAAAAAAAAAAAAAAAAAAAAAAAAAAAAAAAAAAAAAAAAAAAAAAAAAAAAAAAAAAAAAAAAAAAAAAAAAAAAAAAAAAAAAAAAAAAAAAAAAAAAAAAAAAAAAAAAAAAAAAAAAAAAAAAAAAAAAAAAAAAAAAAAAAAAAAAAAAAAAAAAAAAAAAAAAAAAAAAAAAAAAAAAAAAAAAAAAAAAAAAAAAAAAAAAAAAAAAAAAAAAAAAAAAAAAAAAAAAAAAAAAAAAAAAAAAAAAAAAAAAAAAAAAAAAAAAAAAAAAAAAAAAAAAAAAAAAAAAAAAAAAAAAAAAAAAAAAAAAAAAAAAAAAAAAAAAAAAAAAAAAAAAAAAAAAAAAAAAAAAAAAAAAAAAAAAAAAAAAAAAAAAAAAAAAAAAAAAAAAAAAAAAAAAAAAAAAAAAAAAAAAAAAAAAAAAAAAAAAAAAAAAAAAAAAAAAAAAAAAAAAAAAAAAAAAAAAAAAAAAAAAAAAAAAAAAAAAAAAAAAAAAAAAAAAAAAAAAAAAAAAAAAAAAAAAAAAAAAAAAAAAAAAAAAAAAAAAAAAAAAAAAAAAAAAAAAAAAAAAAAAAAAAAAAAAAAAAAAAAAAAAAAAAAAAAAAAAAAAAAAAAAAAAAAAAAAAAAAAAAAAAAAAAAAAAAAAAAAAAAAAAAAAAAAAAAAAAAAAAAAAAAAAAAAAAAAAAAAAAAAAAAAAAAAAAAAAAAAAAAAAAAAAAAAAAAAAAAAAAAAAAAAAAAAAAAAAAAAAAAAAAAAAAAAAAAAAAAAAAAAAAAAAAAAAAAAAAAAAAAAAAAAAAAAAAAAAAAAAAAAAAAAAAAAAAAAAAAAAAAAAAAAAAAAAAAAAAAAAAAAAAAAAAAAAAAAAAAAAAAAAAAAAAAAAAAAAAAAAAAAAAAAAAAAAAAAAAAAAAAAAws4ni68I8D/v77oeTx7wPzMTKoaUFPA/3rgMiUk98D/q7tk6gTfwP4srOpOnRfA/CZnW8PU48D8Yx5Xykj7wPx5TWcadZfA/MXC7Nq1G8D9FuJqUQVvwP+m0IKtKPPA/kANpnbUm8D/cno+XVjzwPzN1r8DEYfA/DvEf9Ot08D+sPhxC41bwP8ar69HNbvA/PghyKdZ88D8+xseseIXwP0bvzPMEq/A/9xD+1cSi8D9qYBfFs3/wP3FsH+3dcfA/m3ikTReO8D875fh5eHDwP1dDWAjINvA/RrCOdNeUEkHN35DJCcUSQb9VH+9n9hJBPTje9ND4EkGt+5UH6u0TQZzytUHcAxVBA5VxQwhlFEFXYR7+KBcTQZclpdzILRNBFfWRLKN5EkHvcoS/VI8RQVweRCW35hFBioDYq/SZEEELsROamI4NQcNhylhtfA9BjBwBq9UjD0H6qoJ2KhQQQT5pDawkrhBBXASpAFx4EEHUnJIk0jcQQdZ7j6+3mxFBlMunnYReEUF7Gb0esB0SQaLA68K1NRJBzJN6yLpPEkENP7t9kKMSQSuEEJaqRBJBbwwsl8FoEkE6Y5TRF7cRQXYHzjGVQhFBBWTr6ZObEEHig2x3oPIQQZhIS/3atRBBTktieFfPEEFLkhOs7BERQdHjDwX7GxFBkbRG4KTCEEHaHHWiKh0RQcLetT1w/xBBdBcmKmr2EEGE4vocBuwQQeMIiRHP0hBBxHmq9JdpEEHQ08vqFFIPQaztQZP5aQ1BHew5EYe9DUFNGvOZih0NQUskKaAS1g1BGIVf/48ZDUFqbtLFiM4MQTo0Nq+LEAtByEJHTE1zCkHBb/VH22gKQUyqcg+GKQlBZcB8pKXKCEFv07tWSVEJQVjoHXYHqQlBigEz9V/ZCUEA07mx7zUJQVC1d7F0gAlB4aogCItPCUFdnILui04JQftAHAbHIAhBLXd8NclMB0F2Y/tZKVgHQSwDMg+k5wVB2b+BHanhBUGTyd+kBg0GQeYzdpzvfwVBs/2NY7HMBUG2aLlj32wGQQxSllZJywVBziMU0aARBkGed5U353sFQep00m418gVBWJJpu8BrBkFUUAIE6EIGQeFDRcCd4QZBQc0wYMDKB0Goi8M8EFwJQSijZSCvbwlBKsRwcunDCUGs4LI2vTwKQbukGk64DwpBpzyxFqLhCUEPySr/SZIKQV/AymqgygtBpmv2qukUDUFbls88rd4MQXu6QgpRMw1Bclg7bx9bDkEO6fGt3yQQQW5aCeoUpg5BfbIdbWPRD0E51LRJd58PQVc3V7WzRxBB92xy/XcpEEE4v6dgd7UPQZNOXow3zw9BkVYxRTMlEEGzoPh9gfoQQentBSGa4hBBjH0lbgZXEUGiWsfkhAoRQfwed/YwshBB3U3rga6wEEEeDx2XEd4QQTn4vPDpnhBB8tk0+1TFD0Gc/DnjELYPQe0AHZ0qfRBB+F2oZyKAEEF7/mADdRwQQeaozo45FhBB9kXSV1ykD0Fcnus/kx4QQS4jCUs9KhBBFnd6q4KDEEF3dBx2LCsQQZBbrxhfBQ9BaO8mMWFiDUE/XpQAjhUOQa3BTp6MYw1ByR+X651fDUFlKt1YiCQNQa6pchutBQxBtudeb9qgDUEq6yRzUoYNQXfPfRjzOA5BTT/5WRktDkFvoO/pn90OQaTFGzewQg9BGyvd7iqdDkHyvi+/RuUOQTCo/UDX8A5BIXzwwCCcDkHohfSPQKsOQf1l4r3Uew5B5fsG2wpqDEGST0BN1q0MQUcyTCx2gQtBs13LtojwCkHDIvYPAEcMQdFkbrhAYwtBoNZWWX+ZC0E/tDuyZYALQdr+H66MLgxBrwZNF+iADEFcPjK3IqsMQYfDZg8OAgxBaB/izGttCkElEx/FMs4KQa3TAWlCPgpB1soYXi6LCkG13btj3bAJQUCH2iywyQlBF6E4l4o4CUG24EFAfaoJQWQSdI2oEwpBz6bjz1E4CkHjEO9/xsQKQTxHbOxamQpBXtc1dlPMCkEoE13bZJwKQVBaV8JWywpBsm+1MLnwCkGgc4IegjQLQZDAwlvM4ApBkMDCW8zgCkHzNnmoGt8KQUEogZgVkgpBHfqtNn7FCkGmf24Su+EKQYvgYDNXQQtBi1eqdMJlDEF/+zwecgoNQTYlHv6BRgxBLPoZOzmoDEFbMxuBBdMLQWNPgXHLuwxB+zywTDqfDEHRJo7COUEMQRnsWgMTJA1BkkiLrcEtDUFNKQg6OacMQSR3LiTC9wxBOUewYp4tDUGPB03/ThkNQae+v7ky6wxBRkBcr9cZDEGlTfvqJpALQUeIcCRXRQtB2cRnayFYC0Excxvbig4LQSnzY5rQVwtBrJw+qFcUC0EH45BwdoEKQZJ6c/KkcwlBWd81p2sZCkHakM/459QIQbDf58XV0AdBWZ4gBWT7B0Hp9r+0grYGQfd6/iQvdwZBy/IIh/W1BkFzAHZM/PkGQaPnwl+dUwhBvhexpLSlB0Eo1ZSF394HQZopSdYr1wZBoEO8OLt+B0HFxGp68RYHQULTY4yYWAdBVZQsbLudB0HutTO9HI4HQU7quRpEVgdBr9mGgtXYB0E+l6rU9m8IQaOBhi7QKQhBGQ5alErtB0EFFqApq/IHQRKQV4W+YwhBTi4oUQ9yCEEyKffBrE0IQfuWt8bpFQhBaU/mF42tBUFnmLLXHsUFQQy7/dwhOQVBTO9oi/BcBEHmXAgL4zUEQb5nrZmSiQRBB5OHrgdNBEEMlv4Qti8EQeLgcu866gVBYbTp24q+BUGGMrAYIjwGQWsfOa1KLgZBZTcJ95QHBUEkNsU5ha4FQdRF6+pqsgVBPrptjOJ0BkG0dgj8+WQHQffe6PJ18QZBkludFrE5B0FqRcpCkY4GQflr4h8QKQZBCo1RFRQ+BkE2zWa6T8YGQRI1s3yJgAZBDc+tNXn0BkGhNIKfhwUHQY0JDQ661AZBvNaJwzfJBkFxY0kbKWwGQYRmdq2aowZBjcDqEha9BkHGfMr5YaUGQdcNcSTFmgZBFgregV/rBkEQ8yf1bcwGQeFyx2rVuQZBfG6/1YDqBEFIDU1cOmwFQbATsWbP6AVB2hIOV4QfB0H+2AlFTpwHQXhnmy8pVwdB/7Q2J0aFB0H+JupgWnQHQaXWzn+XXwdBkXRWzemlB0EQ3Q5LCegIQbLY+v8GxQhBqaLo+DDlCEE9+bHa9JYKQewUtlaCpwpBVJXC+MCVCkERXDoPGbYKQXQXMIKQ9QpBCnFD+VcnDEF2+kb8KUQMQR4WmxfRlAxBJkYugeyREUFeI3CmZa4RQW3sl3OJpxFBpnMZ4GvMEUEricrFNsURQZKqKCT+mRFBjOHfXyazEUF6QSkdSesQQYliK8PjrQpBvh+4vz7mCkEtSJVei0AMQXLgM8Y2SAxBCPzERDQwC0G2AVLxjAMNQYWJbTx6tgxBkl8O79EXDEGRBQqvO3EPQQgVqM9vmg9BiLsYKGR7DUFjZvk1+9YRQWVjY95MShJBjsZJLbzCEUF0x38tnowRQYOdpueilA1BAO98B/rPCkH5lL/W21UKQbezFwSaBQtBbgVHqIgGD0FC8QEY0RgQQcn6uOSccRNB6kH9D/TEE0HLyPgdtMQTQaU6Vg6mDRRBFBfHHDrNFEFHBXXO3loVQcoYR/eZpxRBpuFr+mmGEUFQXRvxd+4TQbMzKy1TPxRBYBVI42CYEEFm4ZMcSnsQQSSJhTx0iBJBR8fZhAvqEkFPJIHgi+4SQVkbe94MtBZBp4PX4w6wFkFNWeVhK3kVQc8Qh6s7zBFBaj5ZghNcEEFGu7NURDESQYwX7THDhRFBemT829zcEUF6B0rqIPwRQRr4kz4NUxJBlnbaiR5gCkF2hlmfUKkKQXlJUlTSpAtBWxrBmQAWDUGZXLuSvVAPQZYIIlXwmQ9B1VmzboVXEEH3lMmsbK8SQdB/8rMSWxFBQinVBtflE0HE2tAR7GATQbEcRkEGjhNBAqz7AI/nE0E09jsLMboVQa2kKV07wBVBainINbrRFEGGQKfmkWIWQTIRv+mBFxRBVvpFmphLFkF4M5jKJ2sVQZ0tjWKIaxVBLjTLzE4IF0FgiB2wgmcWQTxXFq0uaxhBwWL+3NuOGEEQX6kueh8aQWxU/Z2ZVxdBSbr3YVCtF0FhSaA5QFoXQeDKyHUjrxdBKFjiOMhkFUE7ogECpEQVQbyqbPmuWhdB1ml06fa+F0FwAwjgNeMWQQAJlFv9WxZB60M/b4vkFkH9Bgke4xMWQQnQQJVG3RVBhEIYRwNUFkGqzcQmfBMXQQTvo49YWxhBqDrPSZKoGEE1o1eucQkZQV+4WoHS1xhBcmXb5lOMGUHp3d83v6gXQf4alrazrhhBtoygXY1CHUFkxRp9E34gQYcUoPPHuyBBQBnjHVYZIEGmDDimpeUgQdbN/3XJcCJB/q700JOHJEE4n5frsyInQbKgiMzLNChBI7sKosTgJkFZjecUvhsrQUSH/rwBFytBMBXCY0QVLEEaN04homEsQcbayEAFtCxBMY/grbjuLEFaTdvfEN8vQXbHpH1P1S5B1I4r9J6bMEGsi9xYGXExQVxlFCzm0zFBuZP3qNh5MUGU6ys7oVUwQXs5m4sWIjFBmDK4xn36MEEQEvg7GlcxQb4O2Z/8dTFB/5nPXZqCMUFojGiL1JYxQahGZJJyxzJBei330FNIM0EVBNNCQ+4zQWwM0X+hJTRBcJ3vRiqdNEHfo3X8FpY0QYPG1yjQrTRB3SfNAMk6N0F2jr5jaiIzQV2ztSIkBzNBUq38QQ84M0FMP9x+5bIzQXAqSh0DuDNB2hHLBH9GNEE7i/avlWE0QV4pbMdzgDRB6ls8H9h9NEGGxGHbJN01QbuYap8jOjVBL2RhrqQ7NUFGt6hYfqY1QfjrepRVsjVB5mMOde4oNkH3WySR0gw2QbwsswXAfjdB6V6hshPtN0Ey5layZOY3QUqBPTpSfThB8V9uENBEN0E+emP0SQ05QSqb8C2VYDdBfdCz/A0IOEH6rOovxDo4QT6OTYTgjDlBy2nqg+UyOkEcShmxjEE6QbqOj488+jhBLwd6kYMBQkF4X8ZhmbtBQRq9PBv+1kFBDTZUlJFWQUFszxZNVr5BQf+58Qz5ckFB+3naFsZEQUECbi+3z19AQbBz/Do+dUBBKZu6xh7GOUEmR8jgLzQ6QVfeIMGKU0FBX90MVj5dQUFwdb6lMldBQYQYMsPSh0FBw/aQWq6DQEHu7zAo3eU+QcoWGTfmBT9BfIA6aw52QEE48++6SyxAQWPhYiElC0BBpw31utfeQEG9khcfA3NBQUCuAfvYYkBB0/sa6yF3QUELOjxSPSBCQS9vfHdUCENBbBETSAd7Q0H0XX7fMIZDQeRthwptvkNBacjkJr7FQ0ELbgDjL7pDQbw4PqiJXDxBMrI3OwW2QEEQ3aOk1+A/QbjjN5mc3UBBCCU1GWDeQEH0og7Tj0M8Qe5NFYCb+T5B3B9hP6nVPkG2PE20zs0+QdINq8BcuDlBEvsRXZXqPUEmBMh0ys46QdpfcbMLcEJBneUAOj+cQEFiZuFxvdFBQWpmx7y2BkFBm1nX337tQEEoaveMKLtBQZDyR4d9uEFB76qmieK9QUF7G74h6PNCQYqlEj92blJBCkraYjfeREFNApNKy/FEQRS8Bnpy+ktB0tMoYvnMTUErmEtyNP5OQW464UhEtUxBpKnVpW9oTUEX9aAwg3FOQcEA6RHonktBmNbcADnITUHsUsAUH+JKQQon03yA1EFBYAR0OxjZR0GIrWBqW61EQdz7awVz/0xBwQIXFn06SUFwayZDH59FQZXn46y/SUhBtt6szp1ZSEFmYPvcfhZHQRxnKp45/0hBlGX1lwf7RUFsj/xUdRlDQSvzTCbt8ERBOoR9rOmIREGsEpROzepIQUmzq53cak1B0bRNNoibTUF8Mgp2Yo5MQXKyT8oMLU1Biqdk5ysCSkF8E8wS4F1LQXNK74vkLkdBGtIzcSceSEHWdEwaZPhNQexlE0RNPFBByLfOmwsSUEFO+AimaZ9LQZYcSWmpPE1B6M+p+DI4S0GK2cHEfVtKQXohOJWdAk5BWDFIXTmpUEEC0/rPvCZRQch/2tWrJExBrs1+XVrXS0FOxDBIUwdJQTkQKb7eiEZBkL1hjNaPR0GighZzAdVHQTCKbVKpy0ZBVvNLSvcbSUGu3mTuaA5IQaB3mW+xVkdB5HO05l60RUEPNaCuMhJGQd4mx1B0rEZBqi+7VzPYRkHvN9wBgANIQSQIUtEJokhBeiyKC1qzSEELdBVbxV5JQUDy6HXjSUhBcn9SZmxJSEFcH7h8sEpIQezWI07FTEhBmgD5AOBjR0G+z6dulwpHQaSIEW78ZEhBfkRudBPmSEHI2/w/clVIQXltf2Y0cUpBfK7YC82KSkE4nLFJ7BBKQel4DHYai0RBYji4PgihS0Ge9sTRN/RMQSqF65k9SEpB4nPcxfuMTkGwdun3YAZPQc7/68Sdzk9B1FUzl5ZdTkFWDtMSnTJQQUe/MWA+zk9B+kvQpEGzT0HOPEdu4rRLQUHbSV8ET0xBDZ+4SEdfUEHSXbB0W81KQcaSNX0TXFBBRF/P/Q1zTkF8DjKTngJPQaFChFodK1BBQy79cDpfUkEeMegtEBhSQYkznt5ve1JBpnzJf88PUkGfMIz+hRlTQQT7kYuUyVFBxL4qJU7VUkH6SHn9cvZSQX4DO2eAPFNB7rgEOpFXU0F8A0OmhxxTQRSEtwoS+FJBrEk1YhrCUkEGA5vkRvNVQWqegvdPIlVBrlvsz9dMVkHm0/5zUZtWQdCjjP/67VdB4zoVjWwAV0FsYKYUQ/dWQWX9zFoT0FZBjZB87u4iVEGsyvDMWL1UQSfmigOlrlVBCO+PA+dmWUHGk9OHq5JUQYDMUrwQV1RB7e/RBoIRVEH9AbFEcVpUQWrbblBmEFNBfhUFsqbQU0Hr2uBDB0BUQeQF9/LPMFRBiDWebGpGU0EuNslf5+lTQYyQroxsRlVBiatPNoS/VEH0Fgekw2lXQYN6BHBP81dBHv2qArC7VUGM0xJsJ3lWQZ1rILD5fFZBdkK6c0pyVkFIHKJWoC1WQarda0qVTlZBVp1CDusUV0FGIooVg/lVQY1jhR5EOVZBekkAKpe2VkE1lGIz1i5XQf7WW3/9lVdBqTU2tnryWEFBBpBnLltXQRlcHJzDbldBAucyanTUVkFMitmDHHdWQZr9luh4qFZBC9jTJZaXWkF791QxdlRaQZtee1HmlFdBBSgjvR8/WEHYiFidPPVYQQSnPiM3LFhBqM0y/Ey2WkFWOQrZXN1cQezf8tNQul5BOc9jWhYXX0F6DXGKEstbQQLljTKAqF5BPq3yDDYwXUHRqeg4pxReQb0cWyxWFF5Blh5wHKtIW0EdmTuE5xdZQdn3zUu61ldBULWEgLvOVUER7MPIJsFVQUSy5FQrNVdBIG9q+/1lXEGYGpZ6kchdQR27Sc9eLF1Bma8ZNuWDY0GYdjlZUFhoQVAbG0tuD2lBtQ2PdwpBZkEXhmy1e2JlQdwekDjrlWdBeriJRoMAaUErCv1c4iZlQdYvMjf1E3FBIOu/8QvucEFzVA9ITjlwQQpAhgCmk21Bs1LE3U+1b0HCGC9mTbNxQfwlTkLmg3RBWuF6EitXdEFpKAJRB4x1QbfaB2jq03ZBYJOvKLTLd0FH2qwozfF7QTJ7FZJK5ntB8BfPxIlDfEEgswZSfq98QXNRUHGLI31BUHH52qdffkG0fRFjaMt9QQiqIiL4FIBB3/jECF21gEF6cBIXlS2EQSD7/nd+DYRB3ZYfAOduhEGLwD2KT0aFQRFQhGCbj4VBuzNQ/6nWhUGWbQCQpAGGQf/clqHPE4dBZHbUYZcDh0HmU8njJZKHQTsDMygg+YZBq180nO3Mh0GuQRRXCDyIQZF561kvrohB306rpUf5iEHgH8DhdXWJQXD/1cGmxIlBtdT6i3zYiUERJZ5OkjeLQSVxSaQBqYpBM7Jq72RHikENcLJA5xaLQfjIyp4ccohBYJ/pjH5jiUHcimSa40iKQcyuJG0QOItB1PNXBbxVi0HKqocDHiaMQYaemxgHyY5BZZ5rUNfpjUHUFNemh8GOQQquC0ZLsotBOBOe+imyjEG9G2SxadCMQS692ynFwoxBRPDuLrS/jUGtdZcWhHWOQRIa39spR49BKMYobJNikEHCKlkHcyGRQSZZji60tZFBqc2+FsQtkkFX4wFqTCOSQailK6xP2JFB6Hgp4If4kUHI78YF4OmRQRHMsRbEEpNBeAlj8yDUkkFfaR6gAYmTQUOLg8lIMZRBq32FyW9zlEH+Zw+JQNKTQWnyK6QcupNBv2LtkloJlEE1kd2IDryUQT+szMxNXJVByH4h/rrGlUECh2eVh6iVQSsZJIBWfpZBhrn+Hh9xlkH1g7EV0FaUQaCdCYg/gJRBDfniCFhOlEE5hD1okfSTQYX8gshbW5RBYjrvzBCZlEHyFyayMeyUQSEfZzXHHZZBdnrCetfSmkEeNLUATPKZQWl7kL2TVpRBoWZ1fuGfk0ElkhgD0JKTQYdq/Z8egJNB5aFJGn/ukkGtXu/mcOaTQV8xx+JFwJNBlVNh33xDlEHFuLb/ByWUQQbyj+8aQZRBX5g8t/OWk0E1fklZKuiTQT3+VtxgBpNBap2rs89yjkGi8L1qg5uIQSrrQeC6U4hBlbfJRQwnh0Hwe82+FnmEQXSxZuVUoYZBNmoB3Eh4hkGo2b/0NMiFQRuV34D96oVBswPDuxVnhkHtHPZPQdKGQUwWfg80n4dBOGLCjhQ5iEH1EnRWBCKFQWPbPSvwmohB510x4MiBiEHnBHHsxd2HQTkxUn3L3oRBqUV4MSw0ckHgfuNxhkaEQZwR4DCyioNBvWtGly9jg0GcX/3tJ2yDQWtez+o6y4NBAAv3A7zRg0HByrymCJeCQfu1GXfTHX9BktdRsHjDfUFZS1G0M1d9QU2qhJEWB3xBnv8ya6FXekHv9g05izB7QaR648M4r3tBFEgIXZAWe0GUrefpCSt7QYX2M4XzJntBN1RneXBpe0Gy5TSvItx5Qbz3H1cHEnlB4SydO9uvdEFK1E/PPlR1QTBR+LFk53VBUmrqSvJhfkEC6kOe2p5+QWFBDZqgqX1BS821z6kRfUHMEXuzaA98QZZvhmfhCXxBOCX4d6XCfEGaBZ7PQd17QWGIf6EKOnpBjJvaOF67gUEeNYiazfOBQYaPObBB/4BBhsUP9fU1gUHlToBpwAKBQXu7t6cK1oBByDA72/cYgUGkiB6HfeSAQcX5/hXPN4FB6MFs1MJugUHnw6pwWMaAQa6uA3z0wIBB2swIXQ9EgEEePIhd2DyAQX6iSrG6KYBB5nKVj8WrgEGccmI5KBCBQeEdUx40kYFBQoFy4i+YgUEs9IX+YTqBQd6cKTJfJoJBx/oBwt4FgUFSUUkudWWAQT3NsQLLS4VBQsJ0FA6phUEJtO8HRi2GQSKYdH1dAYZB2eKOoWX3hUFVF1ojI+eBQcAEQ9o7TIFBTL0BW2IEgkFL1qKi3xuAQYjVPa8zdoVBAgJptCCGhEGE3gNpmjGFQZSUbMCJzIRBYEH074wHh0H2UMNx4reCQcfG9+OKO4NBNDbPvq8Eg0EQf7LuEbqDQScDkCI2OoRB/sBprr3mgUH9wEKxUyOBQTek1aFdi4FBGSL/E68ahEE0D+x4mm+FQblqqta0DYZB9JFjTTnRhUES2EZp7xKGQaCqzzQsUYFBmB5ei/fYf0Ep92dDBYeMQRr8XjpjepNB105G7OwglkG3s8x1ys+WQQTed8NTkZdB3gmvL27nmEHnIrQBazKaQQKrLtsdKppBd8Nfj4UPnkGQcCql7PieQT4ZfZ+6CaFBrTeNkoZjokG18nDA5kSjQb79/Cfyt6NB17F3Y497pEGoHE90/OulQTkFhCiON6VBaCEk2GrNokF1lotZ6WehQQx5RSLtz59B4HC74SiIn0FR1iiBB4KgQfANbslkd6JBd84aL69op0EjlAfwua2uQZXRCY7mF7BBn3jt2CyasUHnC3ZKp4KxQc23SYRrsLBB95+tFgjBskGmFJhHk8izQcM5JvdGILZBhsuZqDZktkHT5S0Qxse3QcoTvsU78rdBvrrP1Xi1t0HyOKBDTNC5QWUGSTY8JrtB4pQtWaA/vEGgyMuHvmS+QSUZaYtbP75BuRiKjTOGv0GV6r5zcRC/QUBsd9e9brxB6ENcC/U3u0FOm8QnbSm8QQRE5SHLY7xB2RLEgeDfu0H5fadLniy+QWids7PkAr9BxdB1bpAKv0F8/xoSCJ6/QZKHj8wsjMBBhZbjx5qlv0E+mQNu2i3BQUzJYRL6EcJB20AcoJ9EwkEnTycmC1LCQXyfI2XJKsNBN6jjRLdcw0G+w+lSsEbCQavRJJTrI8JB/hPrLlnFv0E1KV2ErD3BQeBGPMDv+r1B0EsAA5V4vUF99NzOKK2/QdHapU0Se79BeMc8RIjEu0FY/WEYRJC7Qdq4e1hLSbpBAN5Q5E7Su0EC+xwo1t2/QTHEZlUOtLtBJj6h8TrLvEEZoQI97dO7QVbuJjbDVLtB6CqbS9ydu0G642x0h5S7QYSCcyzeQLhBv8xHDI5fvkFyjozfeWy/QVN6cG18K8FBLNGdoQ+IxEHmQFiBKiTGQRb9T8hKL8RB7DOyOMgpxEFHD7xu3AbFQYJ1tPMjrsdBWQpCbdEWykGXx1YopLfKQXZk3wlNUctBZlISo5FkzUEzp9fmdyTPQZjD3T+FQc9BjL9Fdzhgz0EhKHcPggLPQYFXgSB0Rs5BVfwEK8v5zUHta1kYuDXNQVXRDlXUTcxBOk1vpmGTy0FE7cHFcOjLQcHgXMWoDcxBt8ohCR/9y0GTyLD1Z4rMQdbnw/4AIMxBQnV7N1eozEHyFtr6aZPNQZsbtTBAoM1BhG1iVJP7zUGdmvIj0UvOQWJjBjvdMs9B0xeZ+EVfz0Evhf/Sx4nPQRjzzQGAus9B0Uc9AQ6tz0FnzkhAU5zPQRya9J7UAc9B1kVA6IRTz0F8GIAYWsnPQXmzeD4kc9BB52f4uqs30UEAyNOjFyjRQSSPh1SUCNFB4Xu7JvJOz0F7Gk1VkGfOQeaR5CSIJc1BbNuu7gxWy0HOesIn8yDLQR46MhtM/8pBJslv0cd1y0FwELFlqwnMQf+k3pOtdcxB4Y7PA59dzEFANEh4/brMQVx3e/s9+sxBjH/Tmo11zEFs0BN/dmTMQWxbkF+sl85B9n+5+ZWqz0GXHN2oM+LQQZ6HHWBhydBBrYvUXvrr0EHogDsHGqfQQd7Vkzk5jtBBR5Vxdo9l0EEtzIN6IU/QQe2WwYnOOtBBg12cnA55z0FFjbyytNrPQcyEgJfrXs5BPEboM1c5zkEbFb+n4VHOQWM8l84LuM5BmciAH+/YzkESHkMAGTbOQdYJnPQbTM5BAZiKNO3gzkEfWDTGQwvPQWejyOhLB89BHBzBwEx1zkHWfZn+Vy7NQfqgSzr1QM5BdreCVqkyzUF5P0xkHp7NQScJHlW4F85BC2mskXJ0zkEithYOPKPOQSDeuR7w5M5BmhR6wbruzkHWUWuuXWvOQQBpRQnR9M9BZGNqaV1Fz0G3c4R/nEPPQdbRSy2QWM9B1KzI8uybz0ExuEpgTbfOQfHI24uces5BvvX0fn55z0F/AuVMPvbNQfR9X8tQGc5BwrjXDobxzUEf9XbPx7vNQRhv1/UDTcxB2uKMBMvZzEFcwjMCt8nFQcJo4SirB8RBCOxL46R6w0FwaKmpx47DQVFW2tpdSMFBrB8f4JHQwEHZ0/+w4fi/QcrAHRX6EL9BSmKuNhWev0HY2BoiLcLFQc03GlJThcZBijM3yg3exkEuYmwo5SbHQYGQryorP8hB3InWQJFnx0G8mbc7HuvGQfQOAHGeWsVBvNLNErdPxUHogxlJ0K7FQdMrRLnbmMNBt7JB/N13wkG4kl7BUDrFQcKHMTsrzMVBdJ85dLVAxkHow4xzHlzGQfI4e6SLw8ZBXPaIHBflxkFmXJDbGtDHQXZqAWcy78hB8qP6HQFRykGuPPo79VvLQRnGapHSHsxB0sKLHCT3y0FWtj/487LLQaz007R348tBV46noDFuzUH6IZVTeAvNQYbmdmURN81Bde5Q6bMUzUGbV7L96OjNQRxMyldIhc5BExnXTHkk0EEvsh5yXT7QQSwa7sb3ZM5B88pgZv8Zz0EiWEbTDyjQQW7+FeueR9BB5/rlwd8U0UHUQ8LC1YDRQYWrLw2GfNFB4BXCL7v80EHkC7AGLcHRQYo6bokObdNBeL9CeC/S00E1+A9p+eHWQcKvdsA1ctZBrgkdBFuj1kEVw9UMC7DWQWf+lYGXadVB/qsMOHQZ00E9LDtZsSvUQbV5Qhw76dNBZhWhUbjS00HzlySCuL7TQWlf1AjgjtRBx7UXYS801kGlo1PCYOLWQdxCLijvHddB0rZy09gw10EidFSGc/TWQdPkD6ZrqtdBt/TURRBP2EEvbDG0l8PYQaVCmRwFT9hBxgHtWGO110GlG4ERYb7XQfSDyQ0EytdBwP4dlWHz10GA7BYAKOXXQe7TVnkn59dBA/Rai7iL2EFRyQS1Bd3YQaNM2t+5ydhBLzO6VmvS2EFP5xHP8IzYQe+FFYJmN9hBnTswDtdF2EFMhai3cwnYQb5vhJ/BsNdBDdAOr+xq2EHZ0FGSY+3YQVpFhZM939hBxlKIxXEu2kHwJsKJHSPbQeJWUC0TqNtBMMaC3P8x20FIFYJ5vQPcQQpYVT2zWt1BsoPYJtnO3UG7rGbdcqbdQV4dBoMTXd5BrSQNSecn3kFNBB3nV7PcQQjqNzHJ1NtBDpKGr7as20GyCGT6NvLbQf0+p/5Nf9tBjP+pOcZ+3UFH2nLHG+HcQZSaOIjWnN1B9uEvzpkL3kEWiGkSGyfgQZoXfINiWOBBVWXdtkAM4EGetVC90pHfQQyBqForPd9BOBLI7cKP30F9gPwU69ffQZSQNjp7iN9B7+ELY+X430Ff7YEyYS7gQZ8MwP/AquBBZVPo0jHw4EEcYX6sidLgQc5wZAJsM+FBDvwnc3mI4UFxDBzuLLPhQTSKvNSWKeJBI0HMTels4kHdVZ093ZriQfVg4llfRONBY+Kstm1q5EGxdoLE9dLkQXJeVWNMkORBE12BZy5M5UEW7O9du7HlQQ0N1wNkxuVBXfjf+Cxd5UEUetf0EAfkQRcCb1netORBBvUygubS5EEg0x/xCTvlQa/5V9u5muVBUZP1WM3u5UFRDL68jH7iQU+uHm01PuFBXGFSjIcL4UFKmUEgASzhQXhmwb1/eN5B9Myv4pWw4EH3QZU1KCLhQcqec+V/1eFBIX8jxTwX4kEoY29adjziQfNICz0BluJBTEMeP5KA4kHHH3pySHXiQUblZsWhcuJBAax8vsIq40FgKzOMKhDkQUOnJlsMcuRBXAZ92oSN5EE1rPJa+LDkQdOAPKkBuORB\",\"dtype\":\"float64\",\"order\":\"little\",\"shape\":[1407]}},\"selected\":{\"id\":\"3611\"},\"selection_policy\":{\"id\":\"3625\"}},\"id\":\"3610\",\"type\":\"ColumnDataSource\"},{\"attributes\":{\"days\":[1,2,3,4,5,6,7,8,9,10,11,12,13,14,15,16,17,18,19,20,21,22,23,24,25,26,27,28,29,30,31]},\"id\":\"3598\",\"type\":\"DaysTicker\"},{\"attributes\":{},\"id\":\"3707\",\"type\":\"Selection\"},{\"attributes\":{\"margin\":[5,5,5,5],\"name\":\"HSpacer04711\",\"sizing_mode\":\"stretch_width\"},\"id\":\"3536\",\"type\":\"Spacer\"},{\"attributes\":{\"callback\":null,\"formatters\":{\"@{timestamp}\":\"datetime\"},\"renderers\":[{\"id\":\"3587\"},{\"id\":\"3616\"},{\"id\":\"3646\"},{\"id\":\"3678\"},{\"id\":\"3712\"}],\"tags\":[\"hv_created\"],\"tooltips\":[[\"Variable\",\"@{Variable}\"],[\"timestamp\",\"@{timestamp}{%F %T}\"],[\"value\",\"@{value}\"]]},\"id\":\"3539\",\"type\":\"HoverTool\"},{\"attributes\":{\"data_source\":{\"id\":\"3610\"},\"glyph\":{\"id\":\"3613\"},\"hover_glyph\":null,\"muted_glyph\":{\"id\":\"3615\"},\"nonselection_glyph\":{\"id\":\"3614\"},\"selection_glyph\":null,\"view\":{\"id\":\"3617\"}},\"id\":\"3616\",\"type\":\"GlyphRenderer\"},{\"attributes\":{\"mantissas\":[1,2,5],\"max_interval\":500.0,\"num_minor_ticks\":0},\"id\":\"3595\",\"type\":\"AdaptiveTicker\"},{\"attributes\":{\"data\":{\"Variable\":[\"BTC\",\"BTC\",\"BTC\",\"BTC\",\"BTC\",\"BTC\",\"BTC\",\"BTC\",\"BTC\",\"BTC\",\"BTC\",\"BTC\",\"BTC\",\"BTC\",\"BTC\",\"BTC\",\"BTC\",\"BTC\",\"BTC\",\"BTC\",\"BTC\",\"BTC\",\"BTC\",\"BTC\",\"BTC\",\"BTC\",\"BTC\",\"BTC\",\"BTC\",\"BTC\",\"BTC\",\"BTC\",\"BTC\",\"BTC\",\"BTC\",\"BTC\",\"BTC\",\"BTC\",\"BTC\",\"BTC\",\"BTC\",\"BTC\",\"BTC\",\"BTC\",\"BTC\",\"BTC\",\"BTC\",\"BTC\",\"BTC\",\"BTC\",\"BTC\",\"BTC\",\"BTC\",\"BTC\",\"BTC\",\"BTC\",\"BTC\",\"BTC\",\"BTC\",\"BTC\",\"BTC\",\"BTC\",\"BTC\",\"BTC\",\"BTC\",\"BTC\",\"BTC\",\"BTC\",\"BTC\",\"BTC\",\"BTC\",\"BTC\",\"BTC\",\"BTC\",\"BTC\",\"BTC\",\"BTC\",\"BTC\",\"BTC\",\"BTC\",\"BTC\",\"BTC\",\"BTC\",\"BTC\",\"BTC\",\"BTC\",\"BTC\",\"BTC\",\"BTC\",\"BTC\",\"BTC\",\"BTC\",\"BTC\",\"BTC\",\"BTC\",\"BTC\",\"BTC\",\"BTC\",\"BTC\",\"BTC\",\"BTC\",\"BTC\",\"BTC\",\"BTC\",\"BTC\",\"BTC\",\"BTC\",\"BTC\",\"BTC\",\"BTC\",\"BTC\",\"BTC\",\"BTC\",\"BTC\",\"BTC\",\"BTC\",\"BTC\",\"BTC\",\"BTC\",\"BTC\",\"BTC\",\"BTC\",\"BTC\",\"BTC\",\"BTC\",\"BTC\",\"BTC\",\"BTC\",\"BTC\",\"BTC\",\"BTC\",\"BTC\",\"BTC\",\"BTC\",\"BTC\",\"BTC\",\"BTC\",\"BTC\",\"BTC\",\"BTC\",\"BTC\",\"BTC\",\"BTC\",\"BTC\",\"BTC\",\"BTC\",\"BTC\",\"BTC\",\"BTC\",\"BTC\",\"BTC\",\"BTC\",\"BTC\",\"BTC\",\"BTC\",\"BTC\",\"BTC\",\"BTC\",\"BTC\",\"BTC\",\"BTC\",\"BTC\",\"BTC\",\"BTC\",\"BTC\",\"BTC\",\"BTC\",\"BTC\",\"BTC\",\"BTC\",\"BTC\",\"BTC\",\"BTC\",\"BTC\",\"BTC\",\"BTC\",\"BTC\",\"BTC\",\"BTC\",\"BTC\",\"BTC\",\"BTC\",\"BTC\",\"BTC\",\"BTC\",\"BTC\",\"BTC\",\"BTC\",\"BTC\",\"BTC\",\"BTC\",\"BTC\",\"BTC\",\"BTC\",\"BTC\",\"BTC\",\"BTC\",\"BTC\",\"BTC\",\"BTC\",\"BTC\",\"BTC\",\"BTC\",\"BTC\",\"BTC\",\"BTC\",\"BTC\",\"BTC\",\"BTC\",\"BTC\",\"BTC\",\"BTC\",\"BTC\",\"BTC\",\"BTC\",\"BTC\",\"BTC\",\"BTC\",\"BTC\",\"BTC\",\"BTC\",\"BTC\",\"BTC\",\"BTC\",\"BTC\",\"BTC\",\"BTC\",\"BTC\",\"BTC\",\"BTC\",\"BTC\",\"BTC\",\"BTC\",\"BTC\",\"BTC\",\"BTC\",\"BTC\",\"BTC\",\"BTC\",\"BTC\",\"BTC\",\"BTC\",\"BTC\",\"BTC\",\"BTC\",\"BTC\",\"BTC\",\"BTC\",\"BTC\",\"BTC\",\"BTC\",\"BTC\",\"BTC\",\"BTC\",\"BTC\",\"BTC\",\"BTC\",\"BTC\",\"BTC\",\"BTC\",\"BTC\",\"BTC\",\"BTC\",\"BTC\",\"BTC\",\"BTC\",\"BTC\",\"BTC\",\"BTC\",\"BTC\",\"BTC\",\"BTC\",\"BTC\",\"BTC\",\"BTC\",\"BTC\",\"BTC\",\"BTC\",\"BTC\",\"BTC\",\"BTC\",\"BTC\",\"BTC\",\"BTC\",\"BTC\",\"BTC\",\"BTC\",\"BTC\",\"BTC\",\"BTC\",\"BTC\",\"BTC\",\"BTC\",\"BTC\",\"BTC\",\"BTC\",\"BTC\",\"BTC\",\"BTC\",\"BTC\",\"BTC\",\"BTC\",\"BTC\",\"BTC\",\"BTC\",\"BTC\",\"BTC\",\"BTC\",\"BTC\",\"BTC\",\"BTC\",\"BTC\",\"BTC\",\"BTC\",\"BTC\",\"BTC\",\"BTC\",\"BTC\",\"BTC\",\"BTC\",\"BTC\",\"BTC\",\"BTC\",\"BTC\",\"BTC\",\"BTC\",\"BTC\",\"BTC\",\"BTC\",\"BTC\",\"BTC\",\"BTC\",\"BTC\",\"BTC\",\"BTC\",\"BTC\",\"BTC\",\"BTC\",\"BTC\",\"BTC\",\"BTC\",\"BTC\",\"BTC\",\"BTC\",\"BTC\",\"BTC\",\"BTC\",\"BTC\",\"BTC\",\"BTC\",\"BTC\",\"BTC\",\"BTC\",\"BTC\",\"BTC\",\"BTC\",\"BTC\",\"BTC\",\"BTC\",\"BTC\",\"BTC\",\"BTC\",\"BTC\",\"BTC\",\"BTC\",\"BTC\",\"BTC\",\"BTC\",\"BTC\",\"BTC\",\"BTC\",\"BTC\",\"BTC\",\"BTC\",\"BTC\",\"BTC\",\"BTC\",\"BTC\",\"BTC\",\"BTC\",\"BTC\",\"BTC\",\"BTC\",\"BTC\",\"BTC\",\"BTC\",\"BTC\",\"BTC\",\"BTC\",\"BTC\",\"BTC\",\"BTC\",\"BTC\",\"BTC\",\"BTC\",\"BTC\",\"BTC\",\"BTC\",\"BTC\",\"BTC\",\"BTC\",\"BTC\",\"BTC\",\"BTC\",\"BTC\",\"BTC\",\"BTC\",\"BTC\",\"BTC\",\"BTC\",\"BTC\",\"BTC\",\"BTC\",\"BTC\",\"BTC\",\"BTC\",\"BTC\",\"BTC\",\"BTC\",\"BTC\",\"BTC\",\"BTC\",\"BTC\",\"BTC\",\"BTC\",\"BTC\",\"BTC\",\"BTC\",\"BTC\",\"BTC\",\"BTC\",\"BTC\",\"BTC\",\"BTC\",\"BTC\",\"BTC\",\"BTC\",\"BTC\",\"BTC\",\"BTC\",\"BTC\",\"BTC\",\"BTC\",\"BTC\",\"BTC\",\"BTC\",\"BTC\",\"BTC\",\"BTC\",\"BTC\",\"BTC\",\"BTC\",\"BTC\",\"BTC\",\"BTC\",\"BTC\",\"BTC\",\"BTC\",\"BTC\",\"BTC\",\"BTC\",\"BTC\",\"BTC\",\"BTC\",\"BTC\",\"BTC\",\"BTC\",\"BTC\",\"BTC\",\"BTC\",\"BTC\",\"BTC\",\"BTC\",\"BTC\",\"BTC\",\"BTC\",\"BTC\",\"BTC\",\"BTC\",\"BTC\",\"BTC\",\"BTC\",\"BTC\",\"BTC\",\"BTC\",\"BTC\",\"BTC\",\"BTC\",\"BTC\",\"BTC\",\"BTC\",\"BTC\",\"BTC\",\"BTC\",\"BTC\",\"BTC\",\"BTC\",\"BTC\",\"BTC\",\"BTC\",\"BTC\",\"BTC\",\"BTC\",\"BTC\",\"BTC\",\"BTC\",\"BTC\",\"BTC\",\"BTC\",\"BTC\",\"BTC\",\"BTC\",\"BTC\",\"BTC\",\"BTC\",\"BTC\",\"BTC\",\"BTC\",\"BTC\",\"BTC\",\"BTC\",\"BTC\",\"BTC\",\"BTC\",\"BTC\",\"BTC\",\"BTC\",\"BTC\",\"BTC\",\"BTC\",\"BTC\",\"BTC\",\"BTC\",\"BTC\",\"BTC\",\"BTC\",\"BTC\",\"BTC\",\"BTC\",\"BTC\",\"BTC\",\"BTC\",\"BTC\",\"BTC\",\"BTC\",\"BTC\",\"BTC\",\"BTC\",\"BTC\",\"BTC\",\"BTC\",\"BTC\",\"BTC\",\"BTC\",\"BTC\",\"BTC\",\"BTC\",\"BTC\",\"BTC\",\"BTC\",\"BTC\",\"BTC\",\"BTC\",\"BTC\",\"BTC\",\"BTC\",\"BTC\",\"BTC\",\"BTC\",\"BTC\",\"BTC\",\"BTC\",\"BTC\",\"BTC\",\"BTC\",\"BTC\",\"BTC\",\"BTC\",\"BTC\",\"BTC\",\"BTC\",\"BTC\",\"BTC\",\"BTC\",\"BTC\",\"BTC\",\"BTC\",\"BTC\",\"BTC\",\"BTC\",\"BTC\",\"BTC\",\"BTC\",\"BTC\",\"BTC\",\"BTC\",\"BTC\",\"BTC\",\"BTC\",\"BTC\",\"BTC\",\"BTC\",\"BTC\",\"BTC\",\"BTC\",\"BTC\",\"BTC\",\"BTC\",\"BTC\",\"BTC\",\"BTC\",\"BTC\",\"BTC\",\"BTC\",\"BTC\",\"BTC\",\"BTC\",\"BTC\",\"BTC\",\"BTC\",\"BTC\",\"BTC\",\"BTC\",\"BTC\",\"BTC\",\"BTC\",\"BTC\",\"BTC\",\"BTC\",\"BTC\",\"BTC\",\"BTC\",\"BTC\",\"BTC\",\"BTC\",\"BTC\",\"BTC\",\"BTC\",\"BTC\",\"BTC\",\"BTC\",\"BTC\",\"BTC\",\"BTC\",\"BTC\",\"BTC\",\"BTC\",\"BTC\",\"BTC\",\"BTC\",\"BTC\",\"BTC\",\"BTC\",\"BTC\",\"BTC\",\"BTC\",\"BTC\",\"BTC\",\"BTC\",\"BTC\",\"BTC\",\"BTC\",\"BTC\",\"BTC\",\"BTC\",\"BTC\",\"BTC\",\"BTC\",\"BTC\",\"BTC\",\"BTC\",\"BTC\",\"BTC\",\"BTC\",\"BTC\",\"BTC\",\"BTC\",\"BTC\",\"BTC\",\"BTC\",\"BTC\",\"BTC\",\"BTC\",\"BTC\",\"BTC\",\"BTC\",\"BTC\",\"BTC\",\"BTC\",\"BTC\",\"BTC\",\"BTC\",\"BTC\",\"BTC\",\"BTC\",\"BTC\",\"BTC\",\"BTC\",\"BTC\",\"BTC\",\"BTC\",\"BTC\",\"BTC\",\"BTC\",\"BTC\",\"BTC\",\"BTC\",\"BTC\",\"BTC\",\"BTC\",\"BTC\",\"BTC\",\"BTC\",\"BTC\",\"BTC\",\"BTC\",\"BTC\",\"BTC\",\"BTC\",\"BTC\",\"BTC\",\"BTC\",\"BTC\",\"BTC\",\"BTC\",\"BTC\",\"BTC\",\"BTC\",\"BTC\",\"BTC\",\"BTC\",\"BTC\",\"BTC\",\"BTC\",\"BTC\",\"BTC\",\"BTC\",\"BTC\",\"BTC\",\"BTC\",\"BTC\",\"BTC\",\"BTC\",\"BTC\",\"BTC\",\"BTC\",\"BTC\",\"BTC\",\"BTC\",\"BTC\",\"BTC\",\"BTC\",\"BTC\",\"BTC\",\"BTC\",\"BTC\",\"BTC\",\"BTC\",\"BTC\",\"BTC\",\"BTC\",\"BTC\",\"BTC\",\"BTC\",\"BTC\",\"BTC\",\"BTC\",\"BTC\",\"BTC\",\"BTC\",\"BTC\",\"BTC\",\"BTC\",\"BTC\",\"BTC\",\"BTC\",\"BTC\",\"BTC\",\"BTC\",\"BTC\",\"BTC\",\"BTC\",\"BTC\",\"BTC\",\"BTC\",\"BTC\",\"BTC\",\"BTC\",\"BTC\",\"BTC\",\"BTC\",\"BTC\",\"BTC\",\"BTC\",\"BTC\",\"BTC\",\"BTC\",\"BTC\",\"BTC\",\"BTC\",\"BTC\",\"BTC\",\"BTC\",\"BTC\",\"BTC\",\"BTC\",\"BTC\",\"BTC\",\"BTC\",\"BTC\",\"BTC\",\"BTC\",\"BTC\",\"BTC\",\"BTC\",\"BTC\",\"BTC\",\"BTC\",\"BTC\",\"BTC\",\"BTC\",\"BTC\",\"BTC\",\"BTC\",\"BTC\",\"BTC\",\"BTC\",\"BTC\",\"BTC\",\"BTC\",\"BTC\",\"BTC\",\"BTC\",\"BTC\",\"BTC\",\"BTC\",\"BTC\",\"BTC\",\"BTC\",\"BTC\",\"BTC\",\"BTC\",\"BTC\",\"BTC\",\"BTC\",\"BTC\",\"BTC\",\"BTC\",\"BTC\",\"BTC\",\"BTC\",\"BTC\",\"BTC\",\"BTC\",\"BTC\",\"BTC\",\"BTC\",\"BTC\",\"BTC\",\"BTC\",\"BTC\",\"BTC\",\"BTC\",\"BTC\",\"BTC\",\"BTC\",\"BTC\",\"BTC\",\"BTC\",\"BTC\",\"BTC\",\"BTC\",\"BTC\",\"BTC\",\"BTC\",\"BTC\",\"BTC\",\"BTC\",\"BTC\",\"BTC\",\"BTC\",\"BTC\",\"BTC\",\"BTC\",\"BTC\",\"BTC\",\"BTC\",\"BTC\",\"BTC\",\"BTC\",\"BTC\",\"BTC\",\"BTC\",\"BTC\",\"BTC\",\"BTC\",\"BTC\",\"BTC\",\"BTC\",\"BTC\",\"BTC\",\"BTC\",\"BTC\",\"BTC\",\"BTC\",\"BTC\",\"BTC\",\"BTC\",\"BTC\",\"BTC\",\"BTC\",\"BTC\",\"BTC\",\"BTC\",\"BTC\",\"BTC\",\"BTC\",\"BTC\",\"BTC\",\"BTC\",\"BTC\",\"BTC\",\"BTC\",\"BTC\",\"BTC\",\"BTC\",\"BTC\",\"BTC\",\"BTC\",\"BTC\",\"BTC\",\"BTC\",\"BTC\",\"BTC\",\"BTC\",\"BTC\",\"BTC\",\"BTC\",\"BTC\",\"BTC\",\"BTC\",\"BTC\",\"BTC\",\"BTC\",\"BTC\",\"BTC\",\"BTC\",\"BTC\",\"BTC\",\"BTC\",\"BTC\",\"BTC\",\"BTC\",\"BTC\",\"BTC\",\"BTC\",\"BTC\",\"BTC\",\"BTC\",\"BTC\",\"BTC\",\"BTC\",\"BTC\",\"BTC\",\"BTC\",\"BTC\",\"BTC\",\"BTC\",\"BTC\",\"BTC\",\"BTC\",\"BTC\",\"BTC\",\"BTC\",\"BTC\",\"BTC\",\"BTC\",\"BTC\",\"BTC\",\"BTC\",\"BTC\",\"BTC\",\"BTC\",\"BTC\",\"BTC\",\"BTC\",\"BTC\",\"BTC\",\"BTC\",\"BTC\",\"BTC\",\"BTC\",\"BTC\",\"BTC\",\"BTC\",\"BTC\",\"BTC\",\"BTC\",\"BTC\",\"BTC\",\"BTC\",\"BTC\",\"BTC\",\"BTC\",\"BTC\",\"BTC\",\"BTC\",\"BTC\",\"BTC\",\"BTC\",\"BTC\",\"BTC\",\"BTC\",\"BTC\",\"BTC\",\"BTC\",\"BTC\",\"BTC\",\"BTC\",\"BTC\",\"BTC\",\"BTC\",\"BTC\",\"BTC\",\"BTC\",\"BTC\",\"BTC\",\"BTC\",\"BTC\",\"BTC\",\"BTC\",\"BTC\",\"BTC\",\"BTC\",\"BTC\",\"BTC\",\"BTC\",\"BTC\",\"BTC\",\"BTC\",\"BTC\",\"BTC\",\"BTC\",\"BTC\",\"BTC\",\"BTC\",\"BTC\",\"BTC\",\"BTC\",\"BTC\",\"BTC\",\"BTC\",\"BTC\",\"BTC\",\"BTC\",\"BTC\",\"BTC\",\"BTC\",\"BTC\",\"BTC\",\"BTC\",\"BTC\",\"BTC\",\"BTC\",\"BTC\",\"BTC\",\"BTC\",\"BTC\",\"BTC\",\"BTC\",\"BTC\",\"BTC\",\"BTC\",\"BTC\",\"BTC\",\"BTC\",\"BTC\",\"BTC\",\"BTC\",\"BTC\",\"BTC\",\"BTC\",\"BTC\",\"BTC\",\"BTC\",\"BTC\",\"BTC\",\"BTC\",\"BTC\",\"BTC\",\"BTC\",\"BTC\",\"BTC\",\"BTC\",\"BTC\",\"BTC\",\"BTC\",\"BTC\",\"BTC\",\"BTC\",\"BTC\",\"BTC\",\"BTC\",\"BTC\",\"BTC\",\"BTC\",\"BTC\",\"BTC\",\"BTC\",\"BTC\",\"BTC\",\"BTC\",\"BTC\",\"BTC\",\"BTC\",\"BTC\",\"BTC\",\"BTC\",\"BTC\",\"BTC\",\"BTC\",\"BTC\",\"BTC\",\"BTC\",\"BTC\",\"BTC\",\"BTC\",\"BTC\",\"BTC\",\"BTC\",\"BTC\",\"BTC\",\"BTC\",\"BTC\",\"BTC\",\"BTC\",\"BTC\",\"BTC\",\"BTC\",\"BTC\",\"BTC\",\"BTC\",\"BTC\",\"BTC\",\"BTC\",\"BTC\",\"BTC\",\"BTC\",\"BTC\",\"BTC\",\"BTC\",\"BTC\",\"BTC\",\"BTC\",\"BTC\",\"BTC\",\"BTC\",\"BTC\",\"BTC\",\"BTC\",\"BTC\",\"BTC\",\"BTC\",\"BTC\",\"BTC\",\"BTC\",\"BTC\",\"BTC\",\"BTC\",\"BTC\",\"BTC\",\"BTC\",\"BTC\",\"BTC\",\"BTC\",\"BTC\",\"BTC\",\"BTC\",\"BTC\",\"BTC\",\"BTC\",\"BTC\",\"BTC\",\"BTC\",\"BTC\",\"BTC\",\"BTC\",\"BTC\",\"BTC\",\"BTC\",\"BTC\",\"BTC\",\"BTC\",\"BTC\",\"BTC\",\"BTC\",\"BTC\",\"BTC\",\"BTC\",\"BTC\",\"BTC\",\"BTC\",\"BTC\",\"BTC\",\"BTC\",\"BTC\",\"BTC\",\"BTC\",\"BTC\",\"BTC\",\"BTC\",\"BTC\",\"BTC\",\"BTC\",\"BTC\",\"BTC\",\"BTC\",\"BTC\",\"BTC\",\"BTC\",\"BTC\",\"BTC\",\"BTC\",\"BTC\",\"BTC\",\"BTC\",\"BTC\",\"BTC\",\"BTC\",\"BTC\",\"BTC\",\"BTC\",\"BTC\",\"BTC\",\"BTC\",\"BTC\",\"BTC\",\"BTC\",\"BTC\",\"BTC\",\"BTC\",\"BTC\",\"BTC\",\"BTC\",\"BTC\",\"BTC\",\"BTC\",\"BTC\",\"BTC\",\"BTC\",\"BTC\",\"BTC\",\"BTC\",\"BTC\",\"BTC\",\"BTC\",\"BTC\",\"BTC\",\"BTC\",\"BTC\",\"BTC\",\"BTC\",\"BTC\",\"BTC\",\"BTC\",\"BTC\",\"BTC\",\"BTC\",\"BTC\",\"BTC\",\"BTC\",\"BTC\",\"BTC\",\"BTC\",\"BTC\",\"BTC\",\"BTC\",\"BTC\",\"BTC\",\"BTC\",\"BTC\",\"BTC\",\"BTC\",\"BTC\",\"BTC\",\"BTC\",\"BTC\",\"BTC\",\"BTC\",\"BTC\",\"BTC\",\"BTC\",\"BTC\",\"BTC\",\"BTC\",\"BTC\",\"BTC\",\"BTC\",\"BTC\",\"BTC\",\"BTC\",\"BTC\",\"BTC\",\"BTC\",\"BTC\",\"BTC\",\"BTC\",\"BTC\",\"BTC\",\"BTC\",\"BTC\",\"BTC\",\"BTC\",\"BTC\",\"BTC\",\"BTC\",\"BTC\",\"BTC\",\"BTC\",\"BTC\",\"BTC\",\"BTC\",\"BTC\",\"BTC\",\"BTC\",\"BTC\",\"BTC\",\"BTC\",\"BTC\",\"BTC\",\"BTC\",\"BTC\",\"BTC\",\"BTC\",\"BTC\",\"BTC\",\"BTC\",\"BTC\",\"BTC\",\"BTC\",\"BTC\",\"BTC\",\"BTC\",\"BTC\",\"BTC\",\"BTC\",\"BTC\",\"BTC\",\"BTC\",\"BTC\",\"BTC\",\"BTC\",\"BTC\",\"BTC\",\"BTC\",\"BTC\",\"BTC\",\"BTC\",\"BTC\",\"BTC\",\"BTC\",\"BTC\",\"BTC\",\"BTC\",\"BTC\",\"BTC\",\"BTC\",\"BTC\",\"BTC\",\"BTC\",\"BTC\",\"BTC\",\"BTC\",\"BTC\",\"BTC\",\"BTC\",\"BTC\",\"BTC\",\"BTC\",\"BTC\",\"BTC\",\"BTC\",\"BTC\",\"BTC\",\"BTC\",\"BTC\",\"BTC\",\"BTC\",\"BTC\",\"BTC\",\"BTC\",\"BTC\",\"BTC\",\"BTC\",\"BTC\",\"BTC\",\"BTC\",\"BTC\",\"BTC\",\"BTC\",\"BTC\",\"BTC\",\"BTC\",\"BTC\",\"BTC\",\"BTC\",\"BTC\"],\"timestamp\":{\"__ndarray__\":\"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\",\"dtype\":\"float64\",\"order\":\"little\",\"shape\":[1407]},\"value\":{\"__ndarray__\":\"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\",\"dtype\":\"float64\",\"order\":\"little\",\"shape\":[1407]}},\"selected\":{\"id\":\"3582\"},\"selection_policy\":{\"id\":\"3594\"}},\"id\":\"3581\",\"type\":\"ColumnDataSource\"},{\"attributes\":{\"base\":60,\"mantissas\":[1,2,5,10,15,20,30],\"max_interval\":1800000.0,\"min_interval\":1000.0,\"num_minor_ticks\":0},\"id\":\"3596\",\"type\":\"AdaptiveTicker\"},{\"attributes\":{\"base\":24,\"mantissas\":[1,2,4,6,8,12],\"max_interval\":43200000.0,\"min_interval\":3600000.0,\"num_minor_ticks\":0},\"id\":\"3597\",\"type\":\"AdaptiveTicker\"},{\"attributes\":{\"label\":{\"value\":\"BTC\"},\"renderers\":[{\"id\":\"3587\"}]},\"id\":\"3609\",\"type\":\"LegendItem\"},{\"attributes\":{\"text\":\"Total Value Locked All\",\"text_color\":{\"value\":\"black\"},\"text_font_size\":{\"value\":\"12pt\"}},\"id\":\"3545\",\"type\":\"Title\"},{\"attributes\":{},\"id\":\"3549\",\"type\":\"LinearScale\"},{\"attributes\":{\"label\":{\"value\":\"ETH\"},\"renderers\":[{\"id\":\"3646\"}]},\"id\":\"3671\",\"type\":\"LegendItem\"},{\"attributes\":{\"click_policy\":\"mute\",\"items\":[{\"id\":\"3609\"},{\"id\":\"3639\"},{\"id\":\"3671\"},{\"id\":\"3705\"},{\"id\":\"3741\"}],\"location\":[0,0],\"title\":\"Variable\"},\"id\":\"3608\",\"type\":\"Legend\"},{\"attributes\":{\"label\":{\"value\":\"DAI\"},\"renderers\":[{\"id\":\"3616\"}]},\"id\":\"3639\",\"type\":\"LegendItem\"},{\"attributes\":{},\"id\":\"3727\",\"type\":\"UnionRenderers\"},{\"attributes\":{\"axis_label\":\"timestamp\",\"bounds\":\"auto\",\"formatter\":{\"id\":\"3575\"},\"major_label_orientation\":\"horizontal\",\"ticker\":{\"id\":\"3554\"}},\"id\":\"3553\",\"type\":\"DatetimeAxis\"},{\"attributes\":{},\"id\":\"3582\",\"type\":\"Selection\"},{\"attributes\":{\"source\":{\"id\":\"3581\"}},\"id\":\"3588\",\"type\":\"CDSView\"},{\"attributes\":{\"line_color\":\"#fc4f30\",\"line_width\":2,\"x\":{\"field\":\"timestamp\"},\"y\":{\"field\":\"value\"}},\"id\":\"3613\",\"type\":\"Line\"},{\"attributes\":{},\"id\":\"3594\",\"type\":\"UnionRenderers\"},{\"attributes\":{},\"id\":\"3606\",\"type\":\"YearsTicker\"},{\"attributes\":{\"label\":{\"value\":\"tvlUSD\"},\"renderers\":[{\"id\":\"3712\"}]},\"id\":\"3741\",\"type\":\"LegendItem\"},{\"attributes\":{\"num_minor_ticks\":5,\"tickers\":[{\"id\":\"3595\"},{\"id\":\"3596\"},{\"id\":\"3597\"},{\"id\":\"3598\"},{\"id\":\"3599\"},{\"id\":\"3600\"},{\"id\":\"3601\"},{\"id\":\"3602\"},{\"id\":\"3603\"},{\"id\":\"3604\"},{\"id\":\"3605\"},{\"id\":\"3606\"}]},\"id\":\"3554\",\"type\":\"DatetimeTicker\"},{\"attributes\":{\"axis\":{\"id\":\"3553\"},\"grid_line_color\":null,\"ticker\":null},\"id\":\"3556\",\"type\":\"Grid\"},{\"attributes\":{\"below\":[{\"id\":\"3553\"}],\"center\":[{\"id\":\"3556\"},{\"id\":\"3560\"}],\"left\":[{\"id\":\"3557\"}],\"margin\":[5,5,5,5],\"min_border_bottom\":10,\"min_border_left\":10,\"min_border_right\":10,\"min_border_top\":10,\"plot_height\":300,\"plot_width\":700,\"renderers\":[{\"id\":\"3587\"},{\"id\":\"3616\"},{\"id\":\"3646\"},{\"id\":\"3678\"},{\"id\":\"3712\"}],\"right\":[{\"id\":\"3608\"}],\"sizing_mode\":\"fixed\",\"title\":{\"id\":\"3545\"},\"toolbar\":{\"id\":\"3567\"},\"x_range\":{\"id\":\"3537\"},\"x_scale\":{\"id\":\"3549\"},\"y_range\":{\"id\":\"3538\"},\"y_scale\":{\"id\":\"3551\"}},\"id\":\"3544\",\"subtype\":\"Figure\",\"type\":\"Plot\"},{\"attributes\":{\"days\":[1,15]},\"id\":\"3601\",\"type\":\"DaysTicker\"},{\"attributes\":{\"end\":1623031200000.0,\"reset_end\":1623031200000.0,\"reset_start\":1501632000000.0,\"start\":1501632000000.0,\"tags\":[[[\"timestamp\",\"timestamp\",null]]]},\"id\":\"3537\",\"type\":\"Range1d\"},{\"attributes\":{},\"id\":\"3558\",\"type\":\"BasicTicker\"}],\"root_ids\":[\"3535\"]},\"title\":\"Bokeh Application\",\"version\":\"2.2.3\"}};\n",
       "    var render_items = [{\"docid\":\"07515f70-f9ed-4d9a-a09f-6353c9d19fbc\",\"root_ids\":[\"3535\"],\"roots\":{\"3535\":\"53505a77-735a-42cf-bf72-fb6de59a68ba\"}}];\n",
       "    root.Bokeh.embed.embed_items_notebook(docs_json, render_items);\n",
       "  }\n",
       "  if (root.Bokeh !== undefined && root.Bokeh.Panel !== undefined) {\n",
       "    embed_document(root);\n",
       "  } else {\n",
       "    var attempts = 0;\n",
       "    var timer = setInterval(function(root) {\n",
       "      if (root.Bokeh !== undefined && root.Bokeh.Panel !== undefined) {\n",
       "        clearInterval(timer);\n",
       "        embed_document(root);\n",
       "      } else if (document.readyState == \"complete\") {\n",
       "        attempts++;\n",
       "        if (attempts > 100) {\n",
       "          clearInterval(timer);\n",
       "          console.log(\"Bokeh: ERROR: Unable to run BokehJS code because BokehJS library is missing\");\n",
       "        }\n",
       "      }\n",
       "    }, 10, root)\n",
       "  }\n",
       "})(window);</script>"
      ],
      "text/plain": [
       ":NdOverlay   [Variable]\n",
       "   :Curve   [timestamp]   (value)"
      ]
     },
     "execution_count": 63,
     "metadata": {
      "application/vnd.holoviews_exec.v0+json": {
       "id": "3535"
      }
     },
     "output_type": "execute_result"
    }
   ],
   "source": [
    "tvl_hist_df.hvplot(figsize=(20,10), title = 'Total Value Locked All',yformatter='%.0f')"
   ]
  },
  {
   "cell_type": "code",
   "execution_count": null,
   "metadata": {},
   "outputs": [],
   "source": []
  },
  {
   "cell_type": "code",
   "execution_count": 28,
   "metadata": {},
   "outputs": [
    {
     "name": "stdout",
     "output_type": "stream",
     "text": [
      "2\n",
      "<class 'dict'>\n"
     ]
    }
   ],
   "source": [
    "print(len(defi_exchanges_response_data))\n",
    "print(type(defi_exchanges_response_data))"
   ]
  },
  {
   "cell_type": "code",
   "execution_count": 29,
   "metadata": {},
   "outputs": [
    {
     "data": {
      "text/plain": [
       "{'excludeEmpty': None,\n",
       " 'limit': None,\n",
       " 'offset': 0,\n",
       " 'orderBy': None,\n",
       " 'platform': None,\n",
       " 'search': None,\n",
       " 'tags': None,\n",
       " 'totalRows': 11498}"
      ]
     },
     "execution_count": 29,
     "metadata": {},
     "output_type": "execute_result"
    }
   ],
   "source": [
    "defi_exchanges_response_data[\"query\"]"
   ]
  },
  {
   "cell_type": "code",
   "execution_count": 30,
   "metadata": {},
   "outputs": [],
   "source": [
    "defi_exch_resp_list = defi_exchanges_response_data[\"results\"]"
   ]
  },
  {
   "cell_type": "markdown",
   "metadata": {},
   "source": [
    "####  Analyse the exchange JSON"
   ]
  },
  {
   "cell_type": "code",
   "execution_count": 31,
   "metadata": {
    "tags": []
   },
   "outputs": [
    {
     "data": {
      "text/plain": [
       "{'assets': [{'address': '0x35bd8472ed2da9eed980e49b8b92ccbcf625adbd',\n",
       "   'balance': 864187949903.5,\n",
       "   'name': 'Enreich',\n",
       "   'symbol': 'ENRH',\n",
       "   'weight': 0.5},\n",
       "  {'address': '0xf2bae67cc0b4642b9bc71264cc878598cb0722bd',\n",
       "   'balance': 921875377061951,\n",
       "   'name': 'Nicaragua Canal',\n",
       "   'symbol': 'NICA',\n",
       "   'weight': 0.5}],\n",
       " 'exchange': '0x1ff074ddee048d8a4cd87c35057587a75001d17e',\n",
       " 'ownershipToken': '0x1ff074ddee048d8a4cd87c35057587a75001d17e',\n",
       " 'platform': 'Uniswap-v2',\n",
       " 'poolName': 'Uniswap ENRH-NICA',\n",
       " 'roi': 1.0000000000216918,\n",
       " 'tags': [],\n",
       " 'usdLiquidity': 82234424715.74,\n",
       " 'usdVolume': 0}"
      ]
     },
     "execution_count": 31,
     "metadata": {},
     "output_type": "execute_result"
    }
   ],
   "source": [
    "defi_exch_resp_list[1]"
   ]
  },
  {
   "cell_type": "code",
   "execution_count": 32,
   "metadata": {},
   "outputs": [
    {
     "name": "stdout",
     "output_type": "stream",
     "text": [
      "{'assets': [{'address': '0x9d86f93ff837b80032e3fd7b3f8e1aacc25d3d80', 'balance': 940225734399.72, 'name': 'MIR EAEUnion', 'symbol': 'MIRU', 'weight': 0.5}, {'address': '0xb611920d44324655335b5e11ebc9c929faddfbaf', 'balance': 95990621679.6, 'name': 'Lawa USD', 'symbol': 'LAWA', 'weight': 0.5}], 'exchange': '0x245b720bf0b08a709c96580b610fdfaa4d8754cf', 'ownershipToken': '0x245b720bf0b08a709c96580b610fdfaa4d8754cf', 'platform': 'Uniswap-v2', 'poolName': 'Uniswap MIRU-LAWA', 'roi': 0.999999999993383, 'tags': [], 'usdLiquidity': 174820831140.0017, 'usdVolume': 0}\n",
      "XXX\n",
      "[{'address': '0x9d86f93ff837b80032e3fd7b3f8e1aacc25d3d80', 'balance': 940225734399.72, 'name': 'MIR EAEUnion', 'symbol': 'MIRU', 'weight': 0.5}, {'address': '0xb611920d44324655335b5e11ebc9c929faddfbaf', 'balance': 95990621679.6, 'name': 'Lawa USD', 'symbol': 'LAWA', 'weight': 0.5}]\n",
      "XXX\n",
      "MIRU\n",
      "LAWA\n",
      "0x245b720bf0b08a709c96580b610fdfaa4d8754cf\n",
      "0x245b720bf0b08a709c96580b610fdfaa4d8754cf\n",
      "Uniswap-v2\n",
      "174820831140.0017\n"
     ]
    }
   ],
   "source": [
    "print(defi_exch_resp_list[0])\n",
    "print('XXX')\n",
    "print(defi_exch_resp_list[0]['assets'])\n",
    "print('XXX')\n",
    "print(defi_exch_resp_list[0]['assets'][0]['symbol'])\n",
    "print(defi_exch_resp_list[0]['assets'][1]['symbol'])\n",
    "print(defi_exch_resp_list[0]['exchange'])\n",
    "print(defi_exch_resp_list[0]['ownershipToken'])\n",
    "print(defi_exch_resp_list[0]['platform'])\n",
    "print(defi_exch_resp_list[0]['usdLiquidity'])\n",
    "# print(defi_exch_resp_list[1])\n",
    "# print('XXX')\n",
    "# print(defi_exch_resp_list[2])\n",
    "\n",
    "total_assets = []\n",
    "for a in defi_exch_resp_list:\n",
    "    assets = []\n",
    "    #print(a)\n",
    "    assets.append(a['assets'][0]['symbol'])\n",
    "    if len(a['assets']) > 1:\n",
    "        assets.append(a['assets'][1]['symbol'])\n",
    "    assets.append(a['exchange'])\n",
    "    assets.append(a['ownershipToken'])\n",
    "    assets.append(a['platform'])\n",
    "    assets.append(a['poolName'])\n",
    "    assets.append(a['roi'])\n",
    "    assets.append(a['usdLiquidity'])\n",
    "    assets.append(a['usdVolume'])\n",
    "    total_assets.append(assets)\n"
   ]
  },
  {
   "cell_type": "markdown",
   "metadata": {},
   "source": [
    "#### Check total Token pairs with addresses"
   ]
  },
  {
   "cell_type": "code",
   "execution_count": 33,
   "metadata": {
    "tags": []
   },
   "outputs": [
    {
     "name": "stdout",
     "output_type": "stream",
     "text": [
      "11498\n"
     ]
    },
    {
     "data": {
      "text/plain": [
       "[['MIRU',\n",
       "  'LAWA',\n",
       "  '0x245b720bf0b08a709c96580b610fdfaa4d8754cf',\n",
       "  '0x245b720bf0b08a709c96580b610fdfaa4d8754cf',\n",
       "  'Uniswap-v2',\n",
       "  'Uniswap MIRU-LAWA',\n",
       "  0.999999999993383,\n",
       "  174820831140.0017,\n",
       "  0],\n",
       " ['ENRH',\n",
       "  'NICA',\n",
       "  '0x1ff074ddee048d8a4cd87c35057587a75001d17e',\n",
       "  '0x1ff074ddee048d8a4cd87c35057587a75001d17e',\n",
       "  'Uniswap-v2',\n",
       "  'Uniswap ENRH-NICA',\n",
       "  1.0000000000216918,\n",
       "  82234424715.74,\n",
       "  0],\n",
       " ['DAI',\n",
       "  'USDC',\n",
       "  '0xbebc44782c7db0a1a60cb6fe97d0b483032ff1c7',\n",
       "  '0x6c3f90f043a72fa612cbac8115ee7e52bde6e490',\n",
       "  'Curve',\n",
       "  'Curve',\n",
       "  1.0011920018290874,\n",
       "  1749622790.8846464,\n",
       "  19175896.694087982],\n",
       " ['HBTC',\n",
       "  'WBTC',\n",
       "  '0x4ca9b3063ec5866a4b82e437059d2c43d1be596f',\n",
       "  '0xb19059ebb43466c323583928285a49f558e572fd',\n",
       "  'Curve',\n",
       "  'Curve HBTC',\n",
       "  1.0003888675449932,\n",
       "  461013908.914742,\n",
       "  3269000.5648120064],\n",
       " ['WISE',\n",
       "  'WETH',\n",
       "  '0x21b8065d10f73ee2e260e5b47d3344d3ced7596e',\n",
       "  '0x21b8065d10f73ee2e260e5b47d3344d3ced7596e',\n",
       "  'Uniswap-v2',\n",
       "  'Uniswap WISE-WETH',\n",
       "  0.999971030733786,\n",
       "  284397499.1637235,\n",
       "  133137.1698833108]]"
      ]
     },
     "execution_count": 33,
     "metadata": {},
     "output_type": "execute_result"
    }
   ],
   "source": [
    "print(len(total_assets))\n",
    "total_assets[0:5]"
   ]
  },
  {
   "cell_type": "code",
   "execution_count": 14,
   "metadata": {},
   "outputs": [],
   "source": [
    "#print(len(total_assets))"
   ]
  },
  {
   "cell_type": "code",
   "execution_count": 34,
   "metadata": {
    "tags": []
   },
   "outputs": [],
   "source": [
    "total_assets_df = pd.DataFrame.from_records(total_assets)"
   ]
  },
  {
   "cell_type": "code",
   "execution_count": 35,
   "metadata": {},
   "outputs": [],
   "source": [
    "total_assets_df.columns = ['Token1pair', 'Token2pair', 'Exchange','Ownership Token', 'Platform', 'PoolName', 'Roi', 'UsdLiquidity', 'UsdVolume']"
   ]
  },
  {
   "cell_type": "code",
   "execution_count": 36,
   "metadata": {},
   "outputs": [],
   "source": [
    "#t_df = total_assets_df.rename(columns={\"0\": \"Token1 pair\", \"1\": \"Token2 pair\", \"2\": \"Exchange\", \"3\": \"Ownership Token\", \"4\": \"Platform\", \"5\": \"PoolName\", \"6\": \"Roi\", \"7\": \"UsdLiquidity\", \"8\": \"UsdVolume\"})"
   ]
  },
  {
   "cell_type": "code",
   "execution_count": 37,
   "metadata": {},
   "outputs": [],
   "source": [
    "#total_assets_df.to_csv(\"total_assets.csv\")"
   ]
  },
  {
   "cell_type": "code",
   "execution_count": 114,
   "metadata": {},
   "outputs": [
    {
     "ename": "NameError",
     "evalue": "name 'total_assets_df' is not defined",
     "output_type": "error",
     "traceback": [
      "\u001b[1;31m---------------------------------------------------------------------------\u001b[0m",
      "\u001b[1;31mNameError\u001b[0m                                 Traceback (most recent call last)",
      "\u001b[1;32m<ipython-input-114-3d9531ea9e73>\u001b[0m in \u001b[0;36m<module>\u001b[1;34m\u001b[0m\n\u001b[1;32m----> 1\u001b[1;33m \u001b[0mtotal_assets_df\u001b[0m\u001b[1;33m.\u001b[0m\u001b[0mhead\u001b[0m\u001b[1;33m(\u001b[0m\u001b[1;33m)\u001b[0m\u001b[1;33m\u001b[0m\u001b[1;33m\u001b[0m\u001b[0m\n\u001b[0m",
      "\u001b[1;31mNameError\u001b[0m: name 'total_assets_df' is not defined"
     ]
    }
   ],
   "source": [
    "total_assets_df.head()"
   ]
  },
  {
   "cell_type": "code",
   "execution_count": 38,
   "metadata": {},
   "outputs": [],
   "source": [
    "total_assets_df.sort_values(by=['UsdLiquidity'], ascending=False, inplace=True)"
   ]
  },
  {
   "cell_type": "markdown",
   "metadata": {},
   "source": [
    "#### Due to time constraints temporarily hardcoding top 10 liquidity pool addresses"
   ]
  },
  {
   "cell_type": "code",
   "execution_count": 39,
   "metadata": {},
   "outputs": [
    {
     "name": "stderr",
     "output_type": "stream",
     "text": [
      "<ipython-input-39-ed62eeeb9785>:26: SettingWithCopyWarning: \n",
      "A value is trying to be set on a copy of a slice from a DataFrame\n",
      "\n",
      "See the caveats in the documentation: https://pandas.pydata.org/pandas-docs/stable/user_guide/indexing.html#returning-a-view-versus-a-copy\n",
      "  assets_7_df.dropna(inplace=True)\n",
      "<ipython-input-39-ed62eeeb9785>:29: UserWarning: Boolean Series key will be reindexed to match DataFrame index.\n",
      "  assets_7_df = assets_7_df[is_liq0]\n"
     ]
    }
   ],
   "source": [
    "#assets_7_df = total_assets_df.head(10)\n",
    "assets_7 = ['MATIC', 'AAVE', 'COMP', 'SOL', 'MKR', 'REN', 'LINK', 'ETH', 'UNI']\n",
    "liq10 = ['0x245b720bf0b08a709c96580b610fdfaa4d8754cf', \n",
    "'0x1ff074ddee048d8a4cd87c35057587a75001d17e',\n",
    "'0xbebc44782c7db0a1a60cb6fe97d0b483032ff1c7',\n",
    "'0x4ca9b3063ec5866a4b82e437059d2c43d1be596f',\n",
    "'0x21b8065d10f73ee2e260e5b47d3344d3ced7596e',\n",
    "'0xa5407eae9ba41422680e2e00537571bcc53efbfd',\n",
    "'0x45f783cce6b7ff23b2ab2d70e416cdb7d6055f51',\n",
    "'0x0d4a11d5eeaac28ec3f61d100daf4d40471f1852',\n",
    "'0x93054188d876f558f4a66b2ef1d97d16edf0895b',\n",
    "'0x1eff8af5d577060ba4ac8a29a13525bb0ee2a3d5',\n",
    "'0x7fc77b5c7614e1533320ea6ddc2eb61fa00a9714',\n",
    "'0x59a19d8c652fa0284f44113d0ff9aba70bd46fb4'\n",
    "]\n",
    "is_assets7 = total_assets_df.Token1pair.isin(assets_7)\n",
    "is_liq10 = total_assets_df.Exchange.isin(liq10)\n",
    "#is_assets7 = total_assets_df['Token1 pair'] == 'MATIC'\n",
    "#print(is_assets7)\n",
    "assets_7_df = total_assets_df[is_assets7]\n",
    "liq10_df = total_assets_df[is_liq10]\n",
    "#print(assets_7_df.head())\n",
    "#print(assets_7_df.tail())\n",
    "len(assets_7_df)\n",
    "assets_7_df.isna().sum()\n",
    "assets_7_df.dropna(inplace=True)\n",
    "len(assets_7_df)\n",
    "is_liq0 = total_assets_df['UsdLiquidity'] != 0\n",
    "assets_7_df = assets_7_df[is_liq0]\n",
    "len(assets_7_df)\n",
    "is_vol0 = assets_7_df['UsdVolume'] != 0\n",
    "assets_7_df = assets_7_df[is_vol0]\n",
    "assets_7_df.sort_values(by=['UsdLiquidity'], ascending=False, inplace=True)"
   ]
  },
  {
   "cell_type": "code",
   "execution_count": 40,
   "metadata": {},
   "outputs": [],
   "source": [
    "#pick10_df = assets_7_df.head(10)\n",
    "pick10_df = liq10_df.head(10)"
   ]
  },
  {
   "cell_type": "markdown",
   "metadata": {},
   "source": [
    "#### Top 10 liquidity pool with addresses"
   ]
  },
  {
   "cell_type": "code",
   "execution_count": 41,
   "metadata": {
    "tags": []
   },
   "outputs": [
    {
     "name": "stdout",
     "output_type": "stream",
     "text": [
      "10\n"
     ]
    },
    {
     "data": {
      "text/html": [
       "<div>\n",
       "<style scoped>\n",
       "    .dataframe tbody tr th:only-of-type {\n",
       "        vertical-align: middle;\n",
       "    }\n",
       "\n",
       "    .dataframe tbody tr th {\n",
       "        vertical-align: top;\n",
       "    }\n",
       "\n",
       "    .dataframe thead th {\n",
       "        text-align: right;\n",
       "    }\n",
       "</style>\n",
       "<table border=\"1\" class=\"dataframe\">\n",
       "  <thead>\n",
       "    <tr style=\"text-align: right;\">\n",
       "      <th></th>\n",
       "      <th>Token1pair</th>\n",
       "      <th>Token2pair</th>\n",
       "      <th>Exchange</th>\n",
       "      <th>Ownership Token</th>\n",
       "      <th>Platform</th>\n",
       "      <th>PoolName</th>\n",
       "      <th>Roi</th>\n",
       "      <th>UsdLiquidity</th>\n",
       "      <th>UsdVolume</th>\n",
       "    </tr>\n",
       "  </thead>\n",
       "  <tbody>\n",
       "    <tr>\n",
       "      <th>0</th>\n",
       "      <td>MIRU</td>\n",
       "      <td>LAWA</td>\n",
       "      <td>0x245b720bf0b08a709c96580b610fdfaa4d8754cf</td>\n",
       "      <td>0x245b720bf0b08a709c96580b610fdfaa4d8754cf</td>\n",
       "      <td>Uniswap-v2</td>\n",
       "      <td>Uniswap MIRU-LAWA</td>\n",
       "      <td>1.000000</td>\n",
       "      <td>1.748208e+11</td>\n",
       "      <td>0.000000e+00</td>\n",
       "    </tr>\n",
       "    <tr>\n",
       "      <th>1</th>\n",
       "      <td>ENRH</td>\n",
       "      <td>NICA</td>\n",
       "      <td>0x1ff074ddee048d8a4cd87c35057587a75001d17e</td>\n",
       "      <td>0x1ff074ddee048d8a4cd87c35057587a75001d17e</td>\n",
       "      <td>Uniswap-v2</td>\n",
       "      <td>Uniswap ENRH-NICA</td>\n",
       "      <td>1.000000</td>\n",
       "      <td>8.223442e+10</td>\n",
       "      <td>0.000000e+00</td>\n",
       "    </tr>\n",
       "    <tr>\n",
       "      <th>2</th>\n",
       "      <td>DAI</td>\n",
       "      <td>USDC</td>\n",
       "      <td>0xbebc44782c7db0a1a60cb6fe97d0b483032ff1c7</td>\n",
       "      <td>0x6c3f90f043a72fa612cbac8115ee7e52bde6e490</td>\n",
       "      <td>Curve</td>\n",
       "      <td>Curve</td>\n",
       "      <td>1.001192</td>\n",
       "      <td>1.749623e+09</td>\n",
       "      <td>1.917590e+07</td>\n",
       "    </tr>\n",
       "    <tr>\n",
       "      <th>3</th>\n",
       "      <td>HBTC</td>\n",
       "      <td>WBTC</td>\n",
       "      <td>0x4ca9b3063ec5866a4b82e437059d2c43d1be596f</td>\n",
       "      <td>0xb19059ebb43466c323583928285a49f558e572fd</td>\n",
       "      <td>Curve</td>\n",
       "      <td>Curve HBTC</td>\n",
       "      <td>1.000389</td>\n",
       "      <td>4.610139e+08</td>\n",
       "      <td>3.269001e+06</td>\n",
       "    </tr>\n",
       "    <tr>\n",
       "      <th>4</th>\n",
       "      <td>WISE</td>\n",
       "      <td>WETH</td>\n",
       "      <td>0x21b8065d10f73ee2e260e5b47d3344d3ced7596e</td>\n",
       "      <td>0x21b8065d10f73ee2e260e5b47d3344d3ced7596e</td>\n",
       "      <td>Uniswap-v2</td>\n",
       "      <td>Uniswap WISE-WETH</td>\n",
       "      <td>0.999971</td>\n",
       "      <td>2.843975e+08</td>\n",
       "      <td>1.331372e+05</td>\n",
       "    </tr>\n",
       "    <tr>\n",
       "      <th>5</th>\n",
       "      <td>DAI</td>\n",
       "      <td>USDC</td>\n",
       "      <td>0xa5407eae9ba41422680e2e00537571bcc53efbfd</td>\n",
       "      <td>0xc25a3a3b969415c80451098fa907ec722572917f</td>\n",
       "      <td>Curve</td>\n",
       "      <td>Curve sUSD</td>\n",
       "      <td>1.001136</td>\n",
       "      <td>2.764301e+08</td>\n",
       "      <td>1.058772e+07</td>\n",
       "    </tr>\n",
       "    <tr>\n",
       "      <th>6</th>\n",
       "      <td>yDAI</td>\n",
       "      <td>yUSDC</td>\n",
       "      <td>0x45f783cce6b7ff23b2ab2d70e416cdb7d6055f51</td>\n",
       "      <td>0xdf5e0e81dff6faf3a7e52ba697820c5e32d806a8</td>\n",
       "      <td>Curve</td>\n",
       "      <td>Curve Y</td>\n",
       "      <td>1.005668</td>\n",
       "      <td>2.282256e+08</td>\n",
       "      <td>1.648939e+06</td>\n",
       "    </tr>\n",
       "    <tr>\n",
       "      <th>7</th>\n",
       "      <td>WETH</td>\n",
       "      <td>USDT</td>\n",
       "      <td>0x0d4a11d5eeaac28ec3f61d100daf4d40471f1852</td>\n",
       "      <td>0x0d4a11d5eeaac28ec3f61d100daf4d40471f1852</td>\n",
       "      <td>Uniswap-v2</td>\n",
       "      <td>Uniswap WETH-USDT</td>\n",
       "      <td>0.970989</td>\n",
       "      <td>2.095835e+08</td>\n",
       "      <td>5.162910e+07</td>\n",
       "    </tr>\n",
       "    <tr>\n",
       "      <th>8</th>\n",
       "      <td>renBTC</td>\n",
       "      <td>WBTC</td>\n",
       "      <td>0x93054188d876f558f4a66b2ef1d97d16edf0895b</td>\n",
       "      <td>0x49849c98ae39fff122806c06791fa73784fb3675</td>\n",
       "      <td>Curve</td>\n",
       "      <td>Curve renBTC</td>\n",
       "      <td>1.000296</td>\n",
       "      <td>2.017489e+08</td>\n",
       "      <td>1.966732e+05</td>\n",
       "    </tr>\n",
       "    <tr>\n",
       "      <th>9</th>\n",
       "      <td>WBTC</td>\n",
       "      <td>WETH</td>\n",
       "      <td>0x1eff8af5d577060ba4ac8a29a13525bb0ee2a3d5</td>\n",
       "      <td>0x1eff8af5d577060ba4ac8a29a13525bb0ee2a3d5</td>\n",
       "      <td>Balancer</td>\n",
       "      <td>Balancer WBTC-WETH</td>\n",
       "      <td>0.999444</td>\n",
       "      <td>1.990734e+08</td>\n",
       "      <td>2.208895e+06</td>\n",
       "    </tr>\n",
       "  </tbody>\n",
       "</table>\n",
       "</div>"
      ],
      "text/plain": [
       "  Token1pair Token2pair                                    Exchange  \\\n",
       "0       MIRU       LAWA  0x245b720bf0b08a709c96580b610fdfaa4d8754cf   \n",
       "1       ENRH       NICA  0x1ff074ddee048d8a4cd87c35057587a75001d17e   \n",
       "2        DAI       USDC  0xbebc44782c7db0a1a60cb6fe97d0b483032ff1c7   \n",
       "3       HBTC       WBTC  0x4ca9b3063ec5866a4b82e437059d2c43d1be596f   \n",
       "4       WISE       WETH  0x21b8065d10f73ee2e260e5b47d3344d3ced7596e   \n",
       "5        DAI       USDC  0xa5407eae9ba41422680e2e00537571bcc53efbfd   \n",
       "6       yDAI      yUSDC  0x45f783cce6b7ff23b2ab2d70e416cdb7d6055f51   \n",
       "7       WETH       USDT  0x0d4a11d5eeaac28ec3f61d100daf4d40471f1852   \n",
       "8     renBTC       WBTC  0x93054188d876f558f4a66b2ef1d97d16edf0895b   \n",
       "9       WBTC       WETH  0x1eff8af5d577060ba4ac8a29a13525bb0ee2a3d5   \n",
       "\n",
       "                              Ownership Token    Platform            PoolName  \\\n",
       "0  0x245b720bf0b08a709c96580b610fdfaa4d8754cf  Uniswap-v2   Uniswap MIRU-LAWA   \n",
       "1  0x1ff074ddee048d8a4cd87c35057587a75001d17e  Uniswap-v2   Uniswap ENRH-NICA   \n",
       "2  0x6c3f90f043a72fa612cbac8115ee7e52bde6e490       Curve               Curve   \n",
       "3  0xb19059ebb43466c323583928285a49f558e572fd       Curve          Curve HBTC   \n",
       "4  0x21b8065d10f73ee2e260e5b47d3344d3ced7596e  Uniswap-v2   Uniswap WISE-WETH   \n",
       "5  0xc25a3a3b969415c80451098fa907ec722572917f       Curve          Curve sUSD   \n",
       "6  0xdf5e0e81dff6faf3a7e52ba697820c5e32d806a8       Curve             Curve Y   \n",
       "7  0x0d4a11d5eeaac28ec3f61d100daf4d40471f1852  Uniswap-v2   Uniswap WETH-USDT   \n",
       "8  0x49849c98ae39fff122806c06791fa73784fb3675       Curve        Curve renBTC   \n",
       "9  0x1eff8af5d577060ba4ac8a29a13525bb0ee2a3d5    Balancer  Balancer WBTC-WETH   \n",
       "\n",
       "        Roi  UsdLiquidity     UsdVolume  \n",
       "0  1.000000  1.748208e+11  0.000000e+00  \n",
       "1  1.000000  8.223442e+10  0.000000e+00  \n",
       "2  1.001192  1.749623e+09  1.917590e+07  \n",
       "3  1.000389  4.610139e+08  3.269001e+06  \n",
       "4  0.999971  2.843975e+08  1.331372e+05  \n",
       "5  1.001136  2.764301e+08  1.058772e+07  \n",
       "6  1.005668  2.282256e+08  1.648939e+06  \n",
       "7  0.970989  2.095835e+08  5.162910e+07  \n",
       "8  1.000296  2.017489e+08  1.966732e+05  \n",
       "9  0.999444  1.990734e+08  2.208895e+06  "
      ]
     },
     "execution_count": 41,
     "metadata": {},
     "output_type": "execute_result"
    }
   ],
   "source": [
    "#print(len(assets_7_df))\n",
    "print(len(pick10_df ))\n",
    "pick10_df.head(10)"
   ]
  },
  {
   "cell_type": "markdown",
   "metadata": {},
   "source": [
    "#### We are able to only get data for 3 days at a time due to limit in API. So constructing a date list to be used every 3 days range"
   ]
  },
  {
   "cell_type": "code",
   "execution_count": 42,
   "metadata": {
    "tags": []
   },
   "outputs": [
    {
     "name": "stdout",
     "output_type": "stream",
     "text": [
      "2021-01-03\n"
     ]
    }
   ],
   "source": [
    "dt = pd.date_range(start='2021-01-01', end='2021-06-01')\n",
    "dt_list = []\n",
    "for i in dt:\n",
    "    idate=pd.to_datetime(i).date()\n",
    "    #print(dt.index(i))\n",
    "    #print(idate)\n",
    "for index, item in enumerate(dt):\n",
    "    idate=pd.to_datetime(item).date()\n",
    "    if index % 3 == 0:\n",
    "        dt_list.append(idate)\n",
    "        #print(index, idate)\n",
    "len(dt_list)\n",
    "dt_list_3 = dt_list[0] + timedelta(2)\n",
    "print(dt_list_3)\n",
    "#print(dt_list)"
   ]
  },
  {
   "cell_type": "code",
   "execution_count": 43,
   "metadata": {},
   "outputs": [],
   "source": [
    "master_data = pick10_df.values.tolist()"
   ]
  },
  {
   "cell_type": "code",
   "execution_count": 44,
   "metadata": {},
   "outputs": [
    {
     "data": {
      "text/plain": [
       "[['MIRU',\n",
       "  'LAWA',\n",
       "  '0x245b720bf0b08a709c96580b610fdfaa4d8754cf',\n",
       "  '0x245b720bf0b08a709c96580b610fdfaa4d8754cf',\n",
       "  'Uniswap-v2',\n",
       "  'Uniswap MIRU-LAWA',\n",
       "  0.999999999993383,\n",
       "  174820831140.0017,\n",
       "  0.0],\n",
       " ['ENRH',\n",
       "  'NICA',\n",
       "  '0x1ff074ddee048d8a4cd87c35057587a75001d17e',\n",
       "  '0x1ff074ddee048d8a4cd87c35057587a75001d17e',\n",
       "  'Uniswap-v2',\n",
       "  'Uniswap ENRH-NICA',\n",
       "  1.0000000000216918,\n",
       "  82234424715.74,\n",
       "  0.0],\n",
       " ['DAI',\n",
       "  'USDC',\n",
       "  '0xbebc44782c7db0a1a60cb6fe97d0b483032ff1c7',\n",
       "  '0x6c3f90f043a72fa612cbac8115ee7e52bde6e490',\n",
       "  'Curve',\n",
       "  'Curve',\n",
       "  1.0011920018290874,\n",
       "  1749622790.8846464,\n",
       "  19175896.694087982],\n",
       " ['HBTC',\n",
       "  'WBTC',\n",
       "  '0x4ca9b3063ec5866a4b82e437059d2c43d1be596f',\n",
       "  '0xb19059ebb43466c323583928285a49f558e572fd',\n",
       "  'Curve',\n",
       "  'Curve HBTC',\n",
       "  1.0003888675449932,\n",
       "  461013908.914742,\n",
       "  3269000.5648120064],\n",
       " ['WISE',\n",
       "  'WETH',\n",
       "  '0x21b8065d10f73ee2e260e5b47d3344d3ced7596e',\n",
       "  '0x21b8065d10f73ee2e260e5b47d3344d3ced7596e',\n",
       "  'Uniswap-v2',\n",
       "  'Uniswap WISE-WETH',\n",
       "  0.999971030733786,\n",
       "  284397499.1637235,\n",
       "  133137.1698833108],\n",
       " ['DAI',\n",
       "  'USDC',\n",
       "  '0xa5407eae9ba41422680e2e00537571bcc53efbfd',\n",
       "  '0xc25a3a3b969415c80451098fa907ec722572917f',\n",
       "  'Curve',\n",
       "  'Curve sUSD',\n",
       "  1.0011359673239828,\n",
       "  276430080.22485286,\n",
       "  10587720.710157394],\n",
       " ['yDAI',\n",
       "  'yUSDC',\n",
       "  '0x45f783cce6b7ff23b2ab2d70e416cdb7d6055f51',\n",
       "  '0xdf5e0e81dff6faf3a7e52ba697820c5e32d806a8',\n",
       "  'Curve',\n",
       "  'Curve Y',\n",
       "  1.0056675096793963,\n",
       "  228225564.01951835,\n",
       "  1648939.381526947],\n",
       " ['WETH',\n",
       "  'USDT',\n",
       "  '0x0d4a11d5eeaac28ec3f61d100daf4d40471f1852',\n",
       "  '0x0d4a11d5eeaac28ec3f61d100daf4d40471f1852',\n",
       "  'Uniswap-v2',\n",
       "  'Uniswap WETH-USDT',\n",
       "  0.9709885193404428,\n",
       "  209583541.41386342,\n",
       "  51629096.10070801],\n",
       " ['renBTC',\n",
       "  'WBTC',\n",
       "  '0x93054188d876f558f4a66b2ef1d97d16edf0895b',\n",
       "  '0x49849c98ae39fff122806c06791fa73784fb3675',\n",
       "  'Curve',\n",
       "  'Curve renBTC',\n",
       "  1.0002958192827351,\n",
       "  201748901.26394656,\n",
       "  196673.19385292244],\n",
       " ['WBTC',\n",
       "  'WETH',\n",
       "  '0x1eff8af5d577060ba4ac8a29a13525bb0ee2a3d5',\n",
       "  '0x1eff8af5d577060ba4ac8a29a13525bb0ee2a3d5',\n",
       "  'Balancer',\n",
       "  'Balancer WBTC-WETH',\n",
       "  0.9994436922862504,\n",
       "  199073440.91589636,\n",
       "  2208895.3400935507]]"
      ]
     },
     "execution_count": 44,
     "metadata": {},
     "output_type": "execute_result"
    }
   ],
   "source": [
    "master_data"
   ]
  },
  {
   "cell_type": "code",
   "execution_count": 45,
   "metadata": {},
   "outputs": [],
   "source": [
    "top10_full = []"
   ]
  },
  {
   "cell_type": "code",
   "execution_count": 46,
   "metadata": {},
   "outputs": [],
   "source": [
    "#top10_full[0]"
   ]
  },
  {
   "cell_type": "markdown",
   "metadata": {},
   "source": [
    "#### storing the return as markdown to easily refer"
   ]
  },
  {
   "cell_type": "markdown",
   "metadata": {},
   "source": [
    "##### 'results': [\n",
    "   {'fromAmount': 5075.498157408873,\n",
    "   'fromSymbol': 'KNC',\n",
    "   'fromToken': '0xdd974d5c2e2928dea5f71b9825b8b646686bd200',\n",
    "   'id': '0x0ccc9d7f2472bdccf44112a09d430a9a896aa6a7dac4103ffb4b1d3aa0a29a17-104',\n",
    "   'price': 1200.0490047243031,\n",
    "   'timestamp': '2021-01-03T22:34:25',\n",
    "   'toAmount': 4.229409080319106,\n",
    "   'toSymbol': 'WETH',\n",
    "   'toToken': '0xc02aaa39b223fe8d0a0e5c4f27ead9083c756cc2',\n",
    "   'trader': '0x00e541a6e7d9ab69e9343c9ba357d5f6e367dfc2',\n",
    "   'transaction': '0x0ccc9d7f2472bdccf44112a09d430a9a896aa6a7dac4103ffb4b1d3aa0a29a17'},"
   ]
  },
  {
   "cell_type": "markdown",
   "metadata": {},
   "source": [
    "### Commenting below code as API call is expensive and close to running out of credits. So instead stored the data in \"exchange_trades_3.csv\" and so from now will read that instead"
   ]
  },
  {
   "cell_type": "markdown",
   "metadata": {},
   "source": [
    "#### Below code for the Top10 list - take each exchange address , then loop through the multiple date range created (as we can read only 3 dates at a time. "
   ]
  },
  {
   "cell_type": "code",
   "execution_count": 47,
   "metadata": {},
   "outputs": [
    {
     "name": "stdout",
     "output_type": "stream",
     "text": [
      "loop1 =  1 Master =  ['MIRU', 'LAWA', '0x245b720bf0b08a709c96580b610fdfaa4d8754cf', '0x245b720bf0b08a709c96580b610fdfaa4d8754cf', 'Uniswap-v2', 'Uniswap MIRU-LAWA', 0.999999999993383, 174820831140.0017, 0.0]\n",
      "loop1 =  2 Master =  ['ENRH', 'NICA', '0x1ff074ddee048d8a4cd87c35057587a75001d17e', '0x1ff074ddee048d8a4cd87c35057587a75001d17e', 'Uniswap-v2', 'Uniswap ENRH-NICA', 1.0000000000216918, 82234424715.74, 0.0]\n",
      "loop1 =  3 Master =  ['DAI', 'USDC', '0xbebc44782c7db0a1a60cb6fe97d0b483032ff1c7', '0x6c3f90f043a72fa612cbac8115ee7e52bde6e490', 'Curve', 'Curve', 1.0011920018290874, 1749622790.8846464, 19175896.694087982]\n",
      "loop1 =  4 Master =  ['HBTC', 'WBTC', '0x4ca9b3063ec5866a4b82e437059d2c43d1be596f', '0xb19059ebb43466c323583928285a49f558e572fd', 'Curve', 'Curve HBTC', 1.0003888675449932, 461013908.914742, 3269000.5648120064]\n",
      "loop1 =  5 Master =  ['WISE', 'WETH', '0x21b8065d10f73ee2e260e5b47d3344d3ced7596e', '0x21b8065d10f73ee2e260e5b47d3344d3ced7596e', 'Uniswap-v2', 'Uniswap WISE-WETH', 0.999971030733786, 284397499.1637235, 133137.1698833108]\n",
      "loop1 =  6 Master =  ['DAI', 'USDC', '0xa5407eae9ba41422680e2e00537571bcc53efbfd', '0xc25a3a3b969415c80451098fa907ec722572917f', 'Curve', 'Curve sUSD', 1.0011359673239828, 276430080.22485286, 10587720.710157394]\n",
      "loop1 =  7 Master =  ['yDAI', 'yUSDC', '0x45f783cce6b7ff23b2ab2d70e416cdb7d6055f51', '0xdf5e0e81dff6faf3a7e52ba697820c5e32d806a8', 'Curve', 'Curve Y', 1.0056675096793963, 228225564.01951835, 1648939.381526947]\n",
      "loop1 =  8 Master =  ['WETH', 'USDT', '0x0d4a11d5eeaac28ec3f61d100daf4d40471f1852', '0x0d4a11d5eeaac28ec3f61d100daf4d40471f1852', 'Uniswap-v2', 'Uniswap WETH-USDT', 0.9709885193404428, 209583541.41386342, 51629096.10070801]\n",
      "loop1 =  9 Master =  ['renBTC', 'WBTC', '0x93054188d876f558f4a66b2ef1d97d16edf0895b', '0x49849c98ae39fff122806c06791fa73784fb3675', 'Curve', 'Curve renBTC', 1.0002958192827351, 201748901.26394656, 196673.19385292244]\n",
      "loop1 =  10 Master =  ['WBTC', 'WETH', '0x1eff8af5d577060ba4ac8a29a13525bb0ee2a3d5', '0x1eff8af5d577060ba4ac8a29a13525bb0ee2a3d5', 'Balancer', 'Balancer WBTC-WETH', 0.9994436922862504, 199073440.91589636, 2208895.3400935507]\n"
     ]
    }
   ],
   "source": [
    "# loop1_cnt=1\n",
    "\n",
    "# exhanges_f = []\n",
    "# pool_f = []\n",
    "# platform_f = []\n",
    "# from_amt_f = []\n",
    "# from_token_f = []\n",
    "# date_f = [] \n",
    "# to_amt_f = []\n",
    "# price_f = []\n",
    "# from_symbol_f = []\n",
    "# to_symbol_f = []\n",
    "# trades_f = []\n",
    "\n",
    "# data1 = []\n",
    "# top10_full = []\n",
    "# #for index, row in pick10_df.iterrows():\n",
    "# for master in master_data:\n",
    "#     #print(row['Exchange'])\n",
    "#     # for each pick run the API 173 times for each date range of 3 days to get data from 1/1/2020 to current.\n",
    "#     #print(index)\n",
    "#     #print(row)\n",
    "#     loop2_cnt=1\n",
    "#     #print('loop1= ', loop1_cnt)\n",
    "#     print('loop1 = ', loop1_cnt, 'Master = ', master)\n",
    "#     for dt in dt_list:\n",
    "#         from_dt = dt\n",
    "#         to_dt = dt + timedelta(2)\n",
    "#         #print(from_dt, ' --- ', to_dt)\n",
    "#         #print('Exhange = ',row['Exchange'])\n",
    "#         #trades_url = f\"https://data-api.defipulse.com/api/v1/blocklytics/pools/v1/trades/{row['Exchange']}?to={to_dt}&from={from_dt}&platform=curve&api-key={defipulse_api_key}\"\n",
    "#         trades_url = f\"https://data-api.defipulse.com/api/v1/blocklytics/pools/v1/trades/{master[2]}?to={to_dt}&from={from_dt}&platform=curve&api-key={defipulse_api_key}\"\n",
    "#         trades10_response_data = requests.get(trades_url).json()\n",
    "#         if 'results' not in trades10_response_data:\n",
    "#             break\n",
    "#         #tmp_list.append(row)\n",
    "#         #tmp_list.append(trades10_response_data['results']\n",
    "#         tmp_list = []\n",
    "#         #print(type(tmp_list))\n",
    "#         tmp_list.append(master[0])\n",
    "#         tmp_list.append(master[1])\n",
    "#         tmp_list.append(master[2])\n",
    "#         tmp_list.append(master[3])\n",
    "#         tmp_list.append(master[4])\n",
    "#         tmp_list.append(master[5])\n",
    "#         tmp_list.append(master[6])\n",
    "#         tmp_list.append(master[7])\n",
    "#         tmp_list.append(master[8])\n",
    "#         trades = len(trades10_response_data['results'])\n",
    "#         tmp_list.append(to_dt)\n",
    "#         from_amt = 0\n",
    "#         for hist in trades10_response_data['results']:\n",
    "#             from_amt = from_amt + hist['fromAmount']\n",
    "#             exhanges_f.append(master[2])\n",
    "#             platform_f.append(master[4])\n",
    "#             pool_f.append(master[5])\n",
    "#             date_f.append(to_dt)\n",
    "#             from_amt_f.append(hist['fromAmount'])\n",
    "#             to_amt_f.append(hist['toAmount'])\n",
    "#             from_symbol_f.append(hist['fromSymbol'])\n",
    "#             to_symbol_f.append(hist['toSymbol'])\n",
    "#             price_f.append(hist['price'])\n",
    "#             trades_f.append(trades)\n",
    "#         #print('amt = ' , from_amt)\n",
    "#         #tmp_list.append(amt)\n",
    "#         #top10_full.append(tmp_list)\n",
    "#         if loop2_cnt == 1:\n",
    "#             data1 = trades10_response_data\n",
    "#         #if loop2_cnt > 4:\n",
    "#             #break\n",
    "#         loop2_cnt = loop2_cnt + 1\n",
    "#     loop1_cnt = loop1_cnt + 1\n",
    "#     #if loop1_cnt > 5:\n",
    "#             #break\n",
    "# #         for hist in trades10_response_data['results']:\n",
    "# #             #print('****')\n",
    "# #             #print(hist)\n",
    "# #             tmp_list = []\n",
    "# #             #print(type(tmp_list))\n",
    "# #             tmp_list.append(master[0])\n",
    "# #             tmp_list.append(master[1])\n",
    "# #             tmp_list.append(master[2])\n",
    "# #             tmp_list.append(master[3])\n",
    "# #             tmp_list.append(master[4])\n",
    "# #             tmp_list.append(master[5])\n",
    "# #             tmp_list.append(master[6])\n",
    "# #             tmp_list.append(master[7])\n",
    "# #             tmp_list.append(master[8])\n",
    "# #             #tmp_list.append(hist)\n",
    "# #             #tmp2_list = []\n",
    "# #             #tmp2_list = list(hist.values())\n",
    "# #             #print(hist['fromAmount'])\n",
    "# #             tmp_list.append(hist['fromAmount'])\n",
    "# #             tmp_time_str = hist['timestamp']\n",
    "# #             tmp_time_str = tmp_time_str[:10] + ' ' + tmp_time_str[11:]\n",
    "# #             tmp_time = pd.to_datetime(tmp_time_str)\n",
    "# #             #top10_full[0][10][:10] + ' ' + top10_full[0][10][11:]\n",
    "# #             tmp_list.append(tmp_time)\n",
    "# #             #print(type(hist))\n",
    "# #             top10_full.append(tmp_list)\n",
    "# #             #tmp_list.clear()\n",
    "# #         print('loop2= ', loop2_cnt)\n",
    "# #         if loop2_cnt > 5:\n",
    "# #             break\n",
    "# #         loop2_cnt=loop2_cnt+1\n",
    "#         #top10_full.append(tmp_list)\n"
   ]
  },
  {
   "cell_type": "markdown",
   "metadata": {},
   "source": [
    "#### - commenting below cells out due to file read from now"
   ]
  },
  {
   "cell_type": "code",
   "execution_count": 48,
   "metadata": {},
   "outputs": [
    {
     "name": "stdout",
     "output_type": "stream",
     "text": [
      "142992\n",
      "142992\n",
      "142992\n",
      "142992\n",
      "142992\n",
      "142992\n",
      "142992\n",
      "142992\n",
      "142992\n"
     ]
    }
   ],
   "source": [
    "# print(len(platform_f))\n",
    "# print(len(pool_f))\n",
    "# print(len(date_f))\n",
    "# print(len(from_amt_f))\n",
    "# print(len(to_amt_f))\n",
    "# print(len(from_symbol_f))\n",
    "# print(len(to_symbol_f))\n",
    "# print(len(price_f))\n",
    "# print(len(trades_f))"
   ]
  },
  {
   "cell_type": "markdown",
   "metadata": {},
   "source": [
    "##### Commenting out code below as now we get this from file."
   ]
  },
  {
   "cell_type": "code",
   "execution_count": 49,
   "metadata": {},
   "outputs": [],
   "source": [
    "# exchange_trades_df = pd.DataFrame({ 'Exchange': exhanges_f,\n",
    "#             'Platform' :platform_f,\n",
    "#             'Pool' : pool_f,\n",
    "#             'date': date_f,\n",
    "#             'FromAmount': from_amt_f,\n",
    "#             'ToAmount': to_amt_f,\n",
    "#             'FromSymbol': from_symbol_f,\n",
    "#             'ToSymbol': to_symbol_f,\n",
    "#             'Price': price_f,\n",
    "#             'Trades': trades_f\n",
    "                                   \n",
    "# })"
   ]
  },
  {
   "cell_type": "markdown",
   "metadata": {},
   "source": [
    "### Write to file"
   ]
  },
  {
   "cell_type": "code",
   "execution_count": 57,
   "metadata": {
    "tags": []
   },
   "outputs": [],
   "source": [
    "#exchange_trades_df.to_csv('exchange_trades_1.csv')\n",
    "#exchange_trades_df.to_csv('exchange_trades_3.csv')"
   ]
  },
  {
   "cell_type": "code",
   "execution_count": 58,
   "metadata": {},
   "outputs": [],
   "source": [
    "#exchange_trades_df.tail()"
   ]
  },
  {
   "cell_type": "markdown",
   "metadata": {},
   "source": [
    "### Read earlier data from a file going foward. As we cannot call the API again as its too intensive and user account runs out of credit."
   ]
  },
  {
   "cell_type": "code",
   "execution_count": 18,
   "metadata": {},
   "outputs": [],
   "source": [
    "exchange_trades_file_df = pd.read_csv('exchange_trades_3.csv', parse_dates=True, infer_datetime_format=True, index_col='date')"
   ]
  },
  {
   "cell_type": "code",
   "execution_count": null,
   "metadata": {},
   "outputs": [],
   "source": [
    "import hvplot.pandas"
   ]
  },
  {
   "cell_type": "markdown",
   "metadata": {},
   "source": [
    "#### Display Automated market maker trades data in liquidity pools"
   ]
  },
  {
   "cell_type": "code",
   "execution_count": 19,
   "metadata": {},
   "outputs": [
    {
     "name": "stdout",
     "output_type": "stream",
     "text": [
      "                                              Exchange  Platform  \\\n",
      "date                                                               \n",
      "2021-01-03  0x1eff8af5d577060ba4ac8a29a13525bb0ee2a3d5  Balancer   \n",
      "2021-01-03  0x1eff8af5d577060ba4ac8a29a13525bb0ee2a3d5  Balancer   \n",
      "2021-01-03  0x1eff8af5d577060ba4ac8a29a13525bb0ee2a3d5  Balancer   \n",
      "2021-01-03  0x1eff8af5d577060ba4ac8a29a13525bb0ee2a3d5  Balancer   \n",
      "2021-01-03  0x1eff8af5d577060ba4ac8a29a13525bb0ee2a3d5  Balancer   \n",
      "\n",
      "                          Pool  FromAmount  ToAmount FromSymbol ToSymbol  \\\n",
      "date                                                                       \n",
      "2021-01-03  Balancer WBTC-WETH      34.579     1.023       WETH     WBTC   \n",
      "2021-01-03  Balancer WBTC-WETH      69.343     2.058       WETH     WBTC   \n",
      "2021-01-03  Balancer WBTC-WETH     103.188     3.057       WETH     WBTC   \n",
      "2021-01-03  Balancer WBTC-WETH     205.059     6.103       WETH     WBTC   \n",
      "2021-01-03  Balancer WBTC-WETH     101.019     2.981       WETH     WBTC   \n",
      "\n",
      "            Price  Trades  \n",
      "date                       \n",
      "2021-01-03 33.808     460  \n",
      "2021-01-03 33.697     460  \n",
      "2021-01-03 33.759     460  \n",
      "2021-01-03 33.599     460  \n",
      "2021-01-03 33.883     460  \n"
     ]
    },
    {
     "data": {
      "text/html": [
       "<div>\n",
       "<style scoped>\n",
       "    .dataframe tbody tr th:only-of-type {\n",
       "        vertical-align: middle;\n",
       "    }\n",
       "\n",
       "    .dataframe tbody tr th {\n",
       "        vertical-align: top;\n",
       "    }\n",
       "\n",
       "    .dataframe thead th {\n",
       "        text-align: right;\n",
       "    }\n",
       "</style>\n",
       "<table border=\"1\" class=\"dataframe\">\n",
       "  <thead>\n",
       "    <tr style=\"text-align: right;\">\n",
       "      <th></th>\n",
       "      <th>Exchange</th>\n",
       "      <th>Platform</th>\n",
       "      <th>Pool</th>\n",
       "      <th>FromAmount</th>\n",
       "      <th>ToAmount</th>\n",
       "      <th>FromSymbol</th>\n",
       "      <th>ToSymbol</th>\n",
       "      <th>Price</th>\n",
       "      <th>Trades</th>\n",
       "    </tr>\n",
       "    <tr>\n",
       "      <th>date</th>\n",
       "      <th></th>\n",
       "      <th></th>\n",
       "      <th></th>\n",
       "      <th></th>\n",
       "      <th></th>\n",
       "      <th></th>\n",
       "      <th></th>\n",
       "      <th></th>\n",
       "      <th></th>\n",
       "    </tr>\n",
       "  </thead>\n",
       "  <tbody>\n",
       "    <tr>\n",
       "      <th>2021-06-02</th>\n",
       "      <td>0x45f783cce6b7ff23b2ab2d70e416cdb7d6055f51</td>\n",
       "      <td>Curve</td>\n",
       "      <td>Curve Y</td>\n",
       "      <td>3556211.308</td>\n",
       "      <td>3555924.795</td>\n",
       "      <td>USDT</td>\n",
       "      <td>TUSD</td>\n",
       "      <td>1.000</td>\n",
       "      <td>33</td>\n",
       "    </tr>\n",
       "    <tr>\n",
       "      <th>2021-06-02</th>\n",
       "      <td>0x45f783cce6b7ff23b2ab2d70e416cdb7d6055f51</td>\n",
       "      <td>Curve</td>\n",
       "      <td>Curve Y</td>\n",
       "      <td>610338.766</td>\n",
       "      <td>610376.408</td>\n",
       "      <td>USDT</td>\n",
       "      <td>TUSD</td>\n",
       "      <td>1.000</td>\n",
       "      <td>33</td>\n",
       "    </tr>\n",
       "    <tr>\n",
       "      <th>2021-06-02</th>\n",
       "      <td>0x45f783cce6b7ff23b2ab2d70e416cdb7d6055f51</td>\n",
       "      <td>Curve</td>\n",
       "      <td>Curve Y</td>\n",
       "      <td>610444.680</td>\n",
       "      <td>610509.173</td>\n",
       "      <td>USDT</td>\n",
       "      <td>TUSD</td>\n",
       "      <td>1.000</td>\n",
       "      <td>33</td>\n",
       "    </tr>\n",
       "    <tr>\n",
       "      <th>2021-06-02</th>\n",
       "      <td>0x45f783cce6b7ff23b2ab2d70e416cdb7d6055f51</td>\n",
       "      <td>Curve</td>\n",
       "      <td>Curve Y</td>\n",
       "      <td>610334.908</td>\n",
       "      <td>610448.175</td>\n",
       "      <td>USDT</td>\n",
       "      <td>TUSD</td>\n",
       "      <td>1.000</td>\n",
       "      <td>33</td>\n",
       "    </tr>\n",
       "    <tr>\n",
       "      <th>2021-06-02</th>\n",
       "      <td>0x45f783cce6b7ff23b2ab2d70e416cdb7d6055f51</td>\n",
       "      <td>Curve</td>\n",
       "      <td>Curve Y</td>\n",
       "      <td>610162.120</td>\n",
       "      <td>610275.886</td>\n",
       "      <td>USDT</td>\n",
       "      <td>TUSD</td>\n",
       "      <td>1.000</td>\n",
       "      <td>33</td>\n",
       "    </tr>\n",
       "    <tr>\n",
       "      <th>2021-06-02</th>\n",
       "      <td>0x45f783cce6b7ff23b2ab2d70e416cdb7d6055f51</td>\n",
       "      <td>Curve</td>\n",
       "      <td>Curve Y</td>\n",
       "      <td>610021.004</td>\n",
       "      <td>610165.623</td>\n",
       "      <td>USDT</td>\n",
       "      <td>TUSD</td>\n",
       "      <td>1.000</td>\n",
       "      <td>33</td>\n",
       "    </tr>\n",
       "    <tr>\n",
       "      <th>2021-06-02</th>\n",
       "      <td>0x45f783cce6b7ff23b2ab2d70e416cdb7d6055f51</td>\n",
       "      <td>Curve</td>\n",
       "      <td>Curve Y</td>\n",
       "      <td>68704.668</td>\n",
       "      <td>68779.755</td>\n",
       "      <td>DAI</td>\n",
       "      <td>TUSD</td>\n",
       "      <td>1.001</td>\n",
       "      <td>33</td>\n",
       "    </tr>\n",
       "    <tr>\n",
       "      <th>2021-06-02</th>\n",
       "      <td>0x45f783cce6b7ff23b2ab2d70e416cdb7d6055f51</td>\n",
       "      <td>Curve</td>\n",
       "      <td>Curve Y</td>\n",
       "      <td>271128.122</td>\n",
       "      <td>271353.110</td>\n",
       "      <td>DAI</td>\n",
       "      <td>USDC</td>\n",
       "      <td>1.001</td>\n",
       "      <td>33</td>\n",
       "    </tr>\n",
       "    <tr>\n",
       "      <th>2021-06-02</th>\n",
       "      <td>0x45f783cce6b7ff23b2ab2d70e416cdb7d6055f51</td>\n",
       "      <td>Curve</td>\n",
       "      <td>Curve Y</td>\n",
       "      <td>40000.000</td>\n",
       "      <td>39990.113</td>\n",
       "      <td>USDT</td>\n",
       "      <td>USDC</td>\n",
       "      <td>1.000</td>\n",
       "      <td>33</td>\n",
       "    </tr>\n",
       "    <tr>\n",
       "      <th>2021-06-02</th>\n",
       "      <td>0x45f783cce6b7ff23b2ab2d70e416cdb7d6055f51</td>\n",
       "      <td>Curve</td>\n",
       "      <td>Curve Y</td>\n",
       "      <td>58953.222</td>\n",
       "      <td>59006.652</td>\n",
       "      <td>DAI</td>\n",
       "      <td>USDC</td>\n",
       "      <td>1.001</td>\n",
       "      <td>33</td>\n",
       "    </tr>\n",
       "    <tr>\n",
       "      <th>2021-06-02</th>\n",
       "      <td>0x45f783cce6b7ff23b2ab2d70e416cdb7d6055f51</td>\n",
       "      <td>Curve</td>\n",
       "      <td>Curve Y</td>\n",
       "      <td>959936.305</td>\n",
       "      <td>959288.578</td>\n",
       "      <td>TUSD</td>\n",
       "      <td>USDT</td>\n",
       "      <td>0.999</td>\n",
       "      <td>33</td>\n",
       "    </tr>\n",
       "    <tr>\n",
       "      <th>2021-06-02</th>\n",
       "      <td>0x45f783cce6b7ff23b2ab2d70e416cdb7d6055f51</td>\n",
       "      <td>Curve</td>\n",
       "      <td>Curve Y</td>\n",
       "      <td>40902.895</td>\n",
       "      <td>40876.590</td>\n",
       "      <td>TUSD</td>\n",
       "      <td>USDT</td>\n",
       "      <td>0.999</td>\n",
       "      <td>33</td>\n",
       "    </tr>\n",
       "    <tr>\n",
       "      <th>2021-06-02</th>\n",
       "      <td>0x45f783cce6b7ff23b2ab2d70e416cdb7d6055f51</td>\n",
       "      <td>Curve</td>\n",
       "      <td>Curve Y</td>\n",
       "      <td>1059250.000</td>\n",
       "      <td>1060321.235</td>\n",
       "      <td>DAI</td>\n",
       "      <td>USDT</td>\n",
       "      <td>1.001</td>\n",
       "      <td>33</td>\n",
       "    </tr>\n",
       "    <tr>\n",
       "      <th>2021-06-02</th>\n",
       "      <td>0x45f783cce6b7ff23b2ab2d70e416cdb7d6055f51</td>\n",
       "      <td>Curve</td>\n",
       "      <td>Curve Y</td>\n",
       "      <td>386529.605</td>\n",
       "      <td>386406.587</td>\n",
       "      <td>USDC</td>\n",
       "      <td>USDT</td>\n",
       "      <td>1.000</td>\n",
       "      <td>33</td>\n",
       "    </tr>\n",
       "    <tr>\n",
       "      <th>2021-06-02</th>\n",
       "      <td>0x45f783cce6b7ff23b2ab2d70e416cdb7d6055f51</td>\n",
       "      <td>Curve</td>\n",
       "      <td>Curve Y</td>\n",
       "      <td>20000.000</td>\n",
       "      <td>19993.940</td>\n",
       "      <td>USDC</td>\n",
       "      <td>USDT</td>\n",
       "      <td>1.000</td>\n",
       "      <td>33</td>\n",
       "    </tr>\n",
       "    <tr>\n",
       "      <th>2021-06-02</th>\n",
       "      <td>0x45f783cce6b7ff23b2ab2d70e416cdb7d6055f51</td>\n",
       "      <td>Curve</td>\n",
       "      <td>Curve Y</td>\n",
       "      <td>877768.361</td>\n",
       "      <td>877306.361</td>\n",
       "      <td>USDC</td>\n",
       "      <td>USDT</td>\n",
       "      <td>0.999</td>\n",
       "      <td>33</td>\n",
       "    </tr>\n",
       "    <tr>\n",
       "      <th>2021-06-02</th>\n",
       "      <td>0x45f783cce6b7ff23b2ab2d70e416cdb7d6055f51</td>\n",
       "      <td>Curve</td>\n",
       "      <td>Curve Y</td>\n",
       "      <td>287917.984</td>\n",
       "      <td>287614.600</td>\n",
       "      <td>TUSD</td>\n",
       "      <td>USDT</td>\n",
       "      <td>0.999</td>\n",
       "      <td>33</td>\n",
       "    </tr>\n",
       "    <tr>\n",
       "      <th>2021-06-02</th>\n",
       "      <td>0x45f783cce6b7ff23b2ab2d70e416cdb7d6055f51</td>\n",
       "      <td>Curve</td>\n",
       "      <td>Curve Y</td>\n",
       "      <td>46.000</td>\n",
       "      <td>45.976</td>\n",
       "      <td>USDC</td>\n",
       "      <td>USDT</td>\n",
       "      <td>0.999</td>\n",
       "      <td>33</td>\n",
       "    </tr>\n",
       "    <tr>\n",
       "      <th>2021-06-02</th>\n",
       "      <td>0x45f783cce6b7ff23b2ab2d70e416cdb7d6055f51</td>\n",
       "      <td>Curve</td>\n",
       "      <td>Curve Y</td>\n",
       "      <td>3986.508</td>\n",
       "      <td>3984.451</td>\n",
       "      <td>USDC</td>\n",
       "      <td>USDT</td>\n",
       "      <td>0.999</td>\n",
       "      <td>33</td>\n",
       "    </tr>\n",
       "    <tr>\n",
       "      <th>2021-06-02</th>\n",
       "      <td>0x45f783cce6b7ff23b2ab2d70e416cdb7d6055f51</td>\n",
       "      <td>Curve</td>\n",
       "      <td>Curve Y</td>\n",
       "      <td>432.767</td>\n",
       "      <td>437.598</td>\n",
       "      <td>yUSDT</td>\n",
       "      <td>yTUSD</td>\n",
       "      <td>1.011</td>\n",
       "      <td>33</td>\n",
       "    </tr>\n",
       "    <tr>\n",
       "      <th>2021-06-02</th>\n",
       "      <td>0x45f783cce6b7ff23b2ab2d70e416cdb7d6055f51</td>\n",
       "      <td>Curve</td>\n",
       "      <td>Curve Y</td>\n",
       "      <td>373.591</td>\n",
       "      <td>428.361</td>\n",
       "      <td>yUSDC</td>\n",
       "      <td>yTUSD</td>\n",
       "      <td>1.147</td>\n",
       "      <td>33</td>\n",
       "    </tr>\n",
       "    <tr>\n",
       "      <th>2021-06-02</th>\n",
       "      <td>0x45f783cce6b7ff23b2ab2d70e416cdb7d6055f51</td>\n",
       "      <td>Curve</td>\n",
       "      <td>Curve Y</td>\n",
       "      <td>203.981</td>\n",
       "      <td>210.193</td>\n",
       "      <td>yDAI</td>\n",
       "      <td>yTUSD</td>\n",
       "      <td>1.030</td>\n",
       "      <td>33</td>\n",
       "    </tr>\n",
       "    <tr>\n",
       "      <th>2021-06-02</th>\n",
       "      <td>0x45f783cce6b7ff23b2ab2d70e416cdb7d6055f51</td>\n",
       "      <td>Curve</td>\n",
       "      <td>Curve Y</td>\n",
       "      <td>4093.560</td>\n",
       "      <td>3567.263</td>\n",
       "      <td>yTUSD</td>\n",
       "      <td>yUSDC</td>\n",
       "      <td>0.871</td>\n",
       "      <td>33</td>\n",
       "    </tr>\n",
       "    <tr>\n",
       "      <th>2021-06-02</th>\n",
       "      <td>0x1ff074ddee048d8a4cd87c35057587a75001d17e</td>\n",
       "      <td>Uniswap-v2</td>\n",
       "      <td>Uniswap ENRH-NICA</td>\n",
       "      <td>6298.790</td>\n",
       "      <td>6699097.510</td>\n",
       "      <td>ENRH</td>\n",
       "      <td>NICA</td>\n",
       "      <td>0.001</td>\n",
       "      <td>1</td>\n",
       "    </tr>\n",
       "    <tr>\n",
       "      <th>2021-06-02</th>\n",
       "      <td>0x245b720bf0b08a709c96580b610fdfaa4d8754cf</td>\n",
       "      <td>Uniswap-v2</td>\n",
       "      <td>Uniswap MIRU-LAWA</td>\n",
       "      <td>3034.580</td>\n",
       "      <td>308.880</td>\n",
       "      <td>MIRU</td>\n",
       "      <td>LAWA</td>\n",
       "      <td>9.824</td>\n",
       "      <td>1</td>\n",
       "    </tr>\n",
       "  </tbody>\n",
       "</table>\n",
       "</div>"
      ],
      "text/plain": [
       "                                              Exchange    Platform  \\\n",
       "date                                                                 \n",
       "2021-06-02  0x45f783cce6b7ff23b2ab2d70e416cdb7d6055f51       Curve   \n",
       "2021-06-02  0x45f783cce6b7ff23b2ab2d70e416cdb7d6055f51       Curve   \n",
       "2021-06-02  0x45f783cce6b7ff23b2ab2d70e416cdb7d6055f51       Curve   \n",
       "2021-06-02  0x45f783cce6b7ff23b2ab2d70e416cdb7d6055f51       Curve   \n",
       "2021-06-02  0x45f783cce6b7ff23b2ab2d70e416cdb7d6055f51       Curve   \n",
       "2021-06-02  0x45f783cce6b7ff23b2ab2d70e416cdb7d6055f51       Curve   \n",
       "2021-06-02  0x45f783cce6b7ff23b2ab2d70e416cdb7d6055f51       Curve   \n",
       "2021-06-02  0x45f783cce6b7ff23b2ab2d70e416cdb7d6055f51       Curve   \n",
       "2021-06-02  0x45f783cce6b7ff23b2ab2d70e416cdb7d6055f51       Curve   \n",
       "2021-06-02  0x45f783cce6b7ff23b2ab2d70e416cdb7d6055f51       Curve   \n",
       "2021-06-02  0x45f783cce6b7ff23b2ab2d70e416cdb7d6055f51       Curve   \n",
       "2021-06-02  0x45f783cce6b7ff23b2ab2d70e416cdb7d6055f51       Curve   \n",
       "2021-06-02  0x45f783cce6b7ff23b2ab2d70e416cdb7d6055f51       Curve   \n",
       "2021-06-02  0x45f783cce6b7ff23b2ab2d70e416cdb7d6055f51       Curve   \n",
       "2021-06-02  0x45f783cce6b7ff23b2ab2d70e416cdb7d6055f51       Curve   \n",
       "2021-06-02  0x45f783cce6b7ff23b2ab2d70e416cdb7d6055f51       Curve   \n",
       "2021-06-02  0x45f783cce6b7ff23b2ab2d70e416cdb7d6055f51       Curve   \n",
       "2021-06-02  0x45f783cce6b7ff23b2ab2d70e416cdb7d6055f51       Curve   \n",
       "2021-06-02  0x45f783cce6b7ff23b2ab2d70e416cdb7d6055f51       Curve   \n",
       "2021-06-02  0x45f783cce6b7ff23b2ab2d70e416cdb7d6055f51       Curve   \n",
       "2021-06-02  0x45f783cce6b7ff23b2ab2d70e416cdb7d6055f51       Curve   \n",
       "2021-06-02  0x45f783cce6b7ff23b2ab2d70e416cdb7d6055f51       Curve   \n",
       "2021-06-02  0x45f783cce6b7ff23b2ab2d70e416cdb7d6055f51       Curve   \n",
       "2021-06-02  0x1ff074ddee048d8a4cd87c35057587a75001d17e  Uniswap-v2   \n",
       "2021-06-02  0x245b720bf0b08a709c96580b610fdfaa4d8754cf  Uniswap-v2   \n",
       "\n",
       "                         Pool  FromAmount    ToAmount FromSymbol ToSymbol  \\\n",
       "date                                                                        \n",
       "2021-06-02            Curve Y 3556211.308 3555924.795       USDT     TUSD   \n",
       "2021-06-02            Curve Y  610338.766  610376.408       USDT     TUSD   \n",
       "2021-06-02            Curve Y  610444.680  610509.173       USDT     TUSD   \n",
       "2021-06-02            Curve Y  610334.908  610448.175       USDT     TUSD   \n",
       "2021-06-02            Curve Y  610162.120  610275.886       USDT     TUSD   \n",
       "2021-06-02            Curve Y  610021.004  610165.623       USDT     TUSD   \n",
       "2021-06-02            Curve Y   68704.668   68779.755        DAI     TUSD   \n",
       "2021-06-02            Curve Y  271128.122  271353.110        DAI     USDC   \n",
       "2021-06-02            Curve Y   40000.000   39990.113       USDT     USDC   \n",
       "2021-06-02            Curve Y   58953.222   59006.652        DAI     USDC   \n",
       "2021-06-02            Curve Y  959936.305  959288.578       TUSD     USDT   \n",
       "2021-06-02            Curve Y   40902.895   40876.590       TUSD     USDT   \n",
       "2021-06-02            Curve Y 1059250.000 1060321.235        DAI     USDT   \n",
       "2021-06-02            Curve Y  386529.605  386406.587       USDC     USDT   \n",
       "2021-06-02            Curve Y   20000.000   19993.940       USDC     USDT   \n",
       "2021-06-02            Curve Y  877768.361  877306.361       USDC     USDT   \n",
       "2021-06-02            Curve Y  287917.984  287614.600       TUSD     USDT   \n",
       "2021-06-02            Curve Y      46.000      45.976       USDC     USDT   \n",
       "2021-06-02            Curve Y    3986.508    3984.451       USDC     USDT   \n",
       "2021-06-02            Curve Y     432.767     437.598      yUSDT    yTUSD   \n",
       "2021-06-02            Curve Y     373.591     428.361      yUSDC    yTUSD   \n",
       "2021-06-02            Curve Y     203.981     210.193       yDAI    yTUSD   \n",
       "2021-06-02            Curve Y    4093.560    3567.263      yTUSD    yUSDC   \n",
       "2021-06-02  Uniswap ENRH-NICA    6298.790 6699097.510       ENRH     NICA   \n",
       "2021-06-02  Uniswap MIRU-LAWA    3034.580     308.880       MIRU     LAWA   \n",
       "\n",
       "            Price  Trades  \n",
       "date                       \n",
       "2021-06-02  1.000      33  \n",
       "2021-06-02  1.000      33  \n",
       "2021-06-02  1.000      33  \n",
       "2021-06-02  1.000      33  \n",
       "2021-06-02  1.000      33  \n",
       "2021-06-02  1.000      33  \n",
       "2021-06-02  1.001      33  \n",
       "2021-06-02  1.001      33  \n",
       "2021-06-02  1.000      33  \n",
       "2021-06-02  1.001      33  \n",
       "2021-06-02  0.999      33  \n",
       "2021-06-02  0.999      33  \n",
       "2021-06-02  1.001      33  \n",
       "2021-06-02  1.000      33  \n",
       "2021-06-02  1.000      33  \n",
       "2021-06-02  0.999      33  \n",
       "2021-06-02  0.999      33  \n",
       "2021-06-02  0.999      33  \n",
       "2021-06-02  0.999      33  \n",
       "2021-06-02  1.011      33  \n",
       "2021-06-02  1.147      33  \n",
       "2021-06-02  1.030      33  \n",
       "2021-06-02  0.871      33  \n",
       "2021-06-02  0.001       1  \n",
       "2021-06-02  9.824       1  "
      ]
     },
     "execution_count": 19,
     "metadata": {},
     "output_type": "execute_result"
    }
   ],
   "source": [
    "pd.set_option('display.float_format', lambda x: '%.3f' % x)\n",
    "print(exchange_trades_file_df.head())\n",
    "exchange_trades_file_df.tail(25)"
   ]
  },
  {
   "cell_type": "markdown",
   "metadata": {},
   "source": [
    "### There is too many trades each day so also add Month column so we can aggregate at month level. Also for now leaving month as interger number. When there is more time we can give better display"
   ]
  },
  {
   "cell_type": "code",
   "execution_count": 20,
   "metadata": {
    "tags": []
   },
   "outputs": [
    {
     "data": {
      "text/plain": [
       "pandas.core.indexes.datetimes.DatetimeIndex"
      ]
     },
     "execution_count": 20,
     "metadata": {},
     "output_type": "execute_result"
    }
   ],
   "source": [
    "#exchange_trades_file_df.drop(columns=['Un'])\n",
    "import datetime\n",
    "exchange_trades_file_df['month'] = pd.DatetimeIndex(exchange_trades_file_df.index).month\n",
    "exchange_trades_file_df['month'] = exchange_trades_file_df['month'].astype(str)\n",
    "type(exchange_trades_file_df.index)\n",
    "#exchange_trades_file_df['month'] = pd.to_datetime(exchange_trades_file_df.index).dt.to_period('M')"
   ]
  },
  {
   "cell_type": "code",
   "execution_count": 21,
   "metadata": {},
   "outputs": [],
   "source": [
    "#exchange_trades_file_df.to_csv('exchange_trades_3_month.csv')"
   ]
  },
  {
   "cell_type": "markdown",
   "metadata": {},
   "source": [
    "#### display with month"
   ]
  },
  {
   "cell_type": "code",
   "execution_count": 22,
   "metadata": {},
   "outputs": [
    {
     "data": {
      "text/html": [
       "<div>\n",
       "<style scoped>\n",
       "    .dataframe tbody tr th:only-of-type {\n",
       "        vertical-align: middle;\n",
       "    }\n",
       "\n",
       "    .dataframe tbody tr th {\n",
       "        vertical-align: top;\n",
       "    }\n",
       "\n",
       "    .dataframe thead th {\n",
       "        text-align: right;\n",
       "    }\n",
       "</style>\n",
       "<table border=\"1\" class=\"dataframe\">\n",
       "  <thead>\n",
       "    <tr style=\"text-align: right;\">\n",
       "      <th></th>\n",
       "      <th>Exchange</th>\n",
       "      <th>Platform</th>\n",
       "      <th>Pool</th>\n",
       "      <th>FromAmount</th>\n",
       "      <th>ToAmount</th>\n",
       "      <th>FromSymbol</th>\n",
       "      <th>ToSymbol</th>\n",
       "      <th>Price</th>\n",
       "      <th>Trades</th>\n",
       "      <th>month</th>\n",
       "    </tr>\n",
       "    <tr>\n",
       "      <th>date</th>\n",
       "      <th></th>\n",
       "      <th></th>\n",
       "      <th></th>\n",
       "      <th></th>\n",
       "      <th></th>\n",
       "      <th></th>\n",
       "      <th></th>\n",
       "      <th></th>\n",
       "      <th></th>\n",
       "      <th></th>\n",
       "    </tr>\n",
       "  </thead>\n",
       "  <tbody>\n",
       "    <tr>\n",
       "      <th>2021-01-03</th>\n",
       "      <td>0x1eff8af5d577060ba4ac8a29a13525bb0ee2a3d5</td>\n",
       "      <td>Balancer</td>\n",
       "      <td>Balancer WBTC-WETH</td>\n",
       "      <td>34.579</td>\n",
       "      <td>1.023</td>\n",
       "      <td>WETH</td>\n",
       "      <td>WBTC</td>\n",
       "      <td>33.808</td>\n",
       "      <td>460</td>\n",
       "      <td>1</td>\n",
       "    </tr>\n",
       "    <tr>\n",
       "      <th>2021-01-03</th>\n",
       "      <td>0x1eff8af5d577060ba4ac8a29a13525bb0ee2a3d5</td>\n",
       "      <td>Balancer</td>\n",
       "      <td>Balancer WBTC-WETH</td>\n",
       "      <td>69.343</td>\n",
       "      <td>2.058</td>\n",
       "      <td>WETH</td>\n",
       "      <td>WBTC</td>\n",
       "      <td>33.697</td>\n",
       "      <td>460</td>\n",
       "      <td>1</td>\n",
       "    </tr>\n",
       "    <tr>\n",
       "      <th>2021-01-03</th>\n",
       "      <td>0x1eff8af5d577060ba4ac8a29a13525bb0ee2a3d5</td>\n",
       "      <td>Balancer</td>\n",
       "      <td>Balancer WBTC-WETH</td>\n",
       "      <td>103.188</td>\n",
       "      <td>3.057</td>\n",
       "      <td>WETH</td>\n",
       "      <td>WBTC</td>\n",
       "      <td>33.759</td>\n",
       "      <td>460</td>\n",
       "      <td>1</td>\n",
       "    </tr>\n",
       "    <tr>\n",
       "      <th>2021-01-03</th>\n",
       "      <td>0x1eff8af5d577060ba4ac8a29a13525bb0ee2a3d5</td>\n",
       "      <td>Balancer</td>\n",
       "      <td>Balancer WBTC-WETH</td>\n",
       "      <td>205.059</td>\n",
       "      <td>6.103</td>\n",
       "      <td>WETH</td>\n",
       "      <td>WBTC</td>\n",
       "      <td>33.599</td>\n",
       "      <td>460</td>\n",
       "      <td>1</td>\n",
       "    </tr>\n",
       "    <tr>\n",
       "      <th>2021-01-03</th>\n",
       "      <td>0x1eff8af5d577060ba4ac8a29a13525bb0ee2a3d5</td>\n",
       "      <td>Balancer</td>\n",
       "      <td>Balancer WBTC-WETH</td>\n",
       "      <td>101.019</td>\n",
       "      <td>2.981</td>\n",
       "      <td>WETH</td>\n",
       "      <td>WBTC</td>\n",
       "      <td>33.883</td>\n",
       "      <td>460</td>\n",
       "      <td>1</td>\n",
       "    </tr>\n",
       "  </tbody>\n",
       "</table>\n",
       "</div>"
      ],
      "text/plain": [
       "                                              Exchange  Platform  \\\n",
       "date                                                               \n",
       "2021-01-03  0x1eff8af5d577060ba4ac8a29a13525bb0ee2a3d5  Balancer   \n",
       "2021-01-03  0x1eff8af5d577060ba4ac8a29a13525bb0ee2a3d5  Balancer   \n",
       "2021-01-03  0x1eff8af5d577060ba4ac8a29a13525bb0ee2a3d5  Balancer   \n",
       "2021-01-03  0x1eff8af5d577060ba4ac8a29a13525bb0ee2a3d5  Balancer   \n",
       "2021-01-03  0x1eff8af5d577060ba4ac8a29a13525bb0ee2a3d5  Balancer   \n",
       "\n",
       "                          Pool  FromAmount  ToAmount FromSymbol ToSymbol  \\\n",
       "date                                                                       \n",
       "2021-01-03  Balancer WBTC-WETH      34.579     1.023       WETH     WBTC   \n",
       "2021-01-03  Balancer WBTC-WETH      69.343     2.058       WETH     WBTC   \n",
       "2021-01-03  Balancer WBTC-WETH     103.188     3.057       WETH     WBTC   \n",
       "2021-01-03  Balancer WBTC-WETH     205.059     6.103       WETH     WBTC   \n",
       "2021-01-03  Balancer WBTC-WETH     101.019     2.981       WETH     WBTC   \n",
       "\n",
       "            Price  Trades month  \n",
       "date                             \n",
       "2021-01-03 33.808     460     1  \n",
       "2021-01-03 33.697     460     1  \n",
       "2021-01-03 33.759     460     1  \n",
       "2021-01-03 33.599     460     1  \n",
       "2021-01-03 33.883     460     1  "
      ]
     },
     "execution_count": 22,
     "metadata": {},
     "output_type": "execute_result"
    }
   ],
   "source": [
    "exchange_trades_file_df.head()"
   ]
  },
  {
   "cell_type": "markdown",
   "metadata": {},
   "source": [
    "#### quick month as text but this will not work since plot will sort by alphabetical name. For now leave as integer"
   ]
  },
  {
   "cell_type": "code",
   "execution_count": 23,
   "metadata": {},
   "outputs": [],
   "source": [
    "# from time import strptime\n",
    "# exchange_trades_file_df['month'] = exchange_trades_file_df['month'].apply(lambda x: strptime(x,'%b').tm_mon) \n",
    "#look_up = {'01': 'Jan', '1': 'Jan', '02': 'Feb','2': 'Feb', '03': 'Mar', '3': 'Mar', '04': 'Apr', '4': 'Apr', '05': 'May','5': 'May',\n",
    "#            '06': 'Jun', '6': 'Jun','07': 'Jul', '08': 'Aug', '09': 'Sep', '10': 'Oct', '11': 'Nov', '12': 'Dec'}\n",
    "\n",
    "#exchange_trades_file_df['month'] = exchange_trades_file_df['month'].apply(lambda x: look_up[x])"
   ]
  },
  {
   "cell_type": "code",
   "execution_count": 24,
   "metadata": {},
   "outputs": [
    {
     "data": {
      "text/html": [
       "<div>\n",
       "<style scoped>\n",
       "    .dataframe tbody tr th:only-of-type {\n",
       "        vertical-align: middle;\n",
       "    }\n",
       "\n",
       "    .dataframe tbody tr th {\n",
       "        vertical-align: top;\n",
       "    }\n",
       "\n",
       "    .dataframe thead th {\n",
       "        text-align: right;\n",
       "    }\n",
       "</style>\n",
       "<table border=\"1\" class=\"dataframe\">\n",
       "  <thead>\n",
       "    <tr style=\"text-align: right;\">\n",
       "      <th></th>\n",
       "      <th>Exchange</th>\n",
       "      <th>Platform</th>\n",
       "      <th>Pool</th>\n",
       "      <th>FromAmount</th>\n",
       "      <th>ToAmount</th>\n",
       "      <th>FromSymbol</th>\n",
       "      <th>ToSymbol</th>\n",
       "      <th>Price</th>\n",
       "      <th>Trades</th>\n",
       "      <th>month</th>\n",
       "    </tr>\n",
       "    <tr>\n",
       "      <th>date</th>\n",
       "      <th></th>\n",
       "      <th></th>\n",
       "      <th></th>\n",
       "      <th></th>\n",
       "      <th></th>\n",
       "      <th></th>\n",
       "      <th></th>\n",
       "      <th></th>\n",
       "      <th></th>\n",
       "      <th></th>\n",
       "    </tr>\n",
       "  </thead>\n",
       "  <tbody>\n",
       "    <tr>\n",
       "      <th>2021-01-03</th>\n",
       "      <td>0x1eff8af5d577060ba4ac8a29a13525bb0ee2a3d5</td>\n",
       "      <td>Balancer</td>\n",
       "      <td>Balancer WBTC-WETH</td>\n",
       "      <td>34.579</td>\n",
       "      <td>1.023</td>\n",
       "      <td>WETH</td>\n",
       "      <td>WBTC</td>\n",
       "      <td>33.808</td>\n",
       "      <td>460</td>\n",
       "      <td>1</td>\n",
       "    </tr>\n",
       "    <tr>\n",
       "      <th>2021-01-03</th>\n",
       "      <td>0x1eff8af5d577060ba4ac8a29a13525bb0ee2a3d5</td>\n",
       "      <td>Balancer</td>\n",
       "      <td>Balancer WBTC-WETH</td>\n",
       "      <td>69.343</td>\n",
       "      <td>2.058</td>\n",
       "      <td>WETH</td>\n",
       "      <td>WBTC</td>\n",
       "      <td>33.697</td>\n",
       "      <td>460</td>\n",
       "      <td>1</td>\n",
       "    </tr>\n",
       "    <tr>\n",
       "      <th>2021-01-03</th>\n",
       "      <td>0x1eff8af5d577060ba4ac8a29a13525bb0ee2a3d5</td>\n",
       "      <td>Balancer</td>\n",
       "      <td>Balancer WBTC-WETH</td>\n",
       "      <td>103.188</td>\n",
       "      <td>3.057</td>\n",
       "      <td>WETH</td>\n",
       "      <td>WBTC</td>\n",
       "      <td>33.759</td>\n",
       "      <td>460</td>\n",
       "      <td>1</td>\n",
       "    </tr>\n",
       "    <tr>\n",
       "      <th>2021-01-03</th>\n",
       "      <td>0x1eff8af5d577060ba4ac8a29a13525bb0ee2a3d5</td>\n",
       "      <td>Balancer</td>\n",
       "      <td>Balancer WBTC-WETH</td>\n",
       "      <td>205.059</td>\n",
       "      <td>6.103</td>\n",
       "      <td>WETH</td>\n",
       "      <td>WBTC</td>\n",
       "      <td>33.599</td>\n",
       "      <td>460</td>\n",
       "      <td>1</td>\n",
       "    </tr>\n",
       "    <tr>\n",
       "      <th>2021-01-03</th>\n",
       "      <td>0x1eff8af5d577060ba4ac8a29a13525bb0ee2a3d5</td>\n",
       "      <td>Balancer</td>\n",
       "      <td>Balancer WBTC-WETH</td>\n",
       "      <td>101.019</td>\n",
       "      <td>2.981</td>\n",
       "      <td>WETH</td>\n",
       "      <td>WBTC</td>\n",
       "      <td>33.883</td>\n",
       "      <td>460</td>\n",
       "      <td>1</td>\n",
       "    </tr>\n",
       "  </tbody>\n",
       "</table>\n",
       "</div>"
      ],
      "text/plain": [
       "                                              Exchange  Platform  \\\n",
       "date                                                               \n",
       "2021-01-03  0x1eff8af5d577060ba4ac8a29a13525bb0ee2a3d5  Balancer   \n",
       "2021-01-03  0x1eff8af5d577060ba4ac8a29a13525bb0ee2a3d5  Balancer   \n",
       "2021-01-03  0x1eff8af5d577060ba4ac8a29a13525bb0ee2a3d5  Balancer   \n",
       "2021-01-03  0x1eff8af5d577060ba4ac8a29a13525bb0ee2a3d5  Balancer   \n",
       "2021-01-03  0x1eff8af5d577060ba4ac8a29a13525bb0ee2a3d5  Balancer   \n",
       "\n",
       "                          Pool  FromAmount  ToAmount FromSymbol ToSymbol  \\\n",
       "date                                                                       \n",
       "2021-01-03  Balancer WBTC-WETH      34.579     1.023       WETH     WBTC   \n",
       "2021-01-03  Balancer WBTC-WETH      69.343     2.058       WETH     WBTC   \n",
       "2021-01-03  Balancer WBTC-WETH     103.188     3.057       WETH     WBTC   \n",
       "2021-01-03  Balancer WBTC-WETH     205.059     6.103       WETH     WBTC   \n",
       "2021-01-03  Balancer WBTC-WETH     101.019     2.981       WETH     WBTC   \n",
       "\n",
       "            Price  Trades month  \n",
       "date                             \n",
       "2021-01-03 33.808     460     1  \n",
       "2021-01-03 33.697     460     1  \n",
       "2021-01-03 33.759     460     1  \n",
       "2021-01-03 33.599     460     1  \n",
       "2021-01-03 33.883     460     1  "
      ]
     },
     "execution_count": 24,
     "metadata": {},
     "output_type": "execute_result"
    }
   ],
   "source": [
    "exchange_trades_file_df.head()"
   ]
  },
  {
   "cell_type": "markdown",
   "metadata": {},
   "source": [
    "#### slice just trades"
   ]
  },
  {
   "cell_type": "code",
   "execution_count": 25,
   "metadata": {},
   "outputs": [],
   "source": [
    "trades_df = exchange_trades_file_df.drop(columns=['FromAmount', 'ToAmount', 'Price'])"
   ]
  },
  {
   "cell_type": "code",
   "execution_count": 26,
   "metadata": {},
   "outputs": [
    {
     "data": {
      "text/html": [
       "<div>\n",
       "<style scoped>\n",
       "    .dataframe tbody tr th:only-of-type {\n",
       "        vertical-align: middle;\n",
       "    }\n",
       "\n",
       "    .dataframe tbody tr th {\n",
       "        vertical-align: top;\n",
       "    }\n",
       "\n",
       "    .dataframe thead th {\n",
       "        text-align: right;\n",
       "    }\n",
       "</style>\n",
       "<table border=\"1\" class=\"dataframe\">\n",
       "  <thead>\n",
       "    <tr style=\"text-align: right;\">\n",
       "      <th></th>\n",
       "      <th>Exchange</th>\n",
       "      <th>Platform</th>\n",
       "      <th>Pool</th>\n",
       "      <th>FromSymbol</th>\n",
       "      <th>ToSymbol</th>\n",
       "      <th>Trades</th>\n",
       "      <th>month</th>\n",
       "    </tr>\n",
       "    <tr>\n",
       "      <th>date</th>\n",
       "      <th></th>\n",
       "      <th></th>\n",
       "      <th></th>\n",
       "      <th></th>\n",
       "      <th></th>\n",
       "      <th></th>\n",
       "      <th></th>\n",
       "    </tr>\n",
       "  </thead>\n",
       "  <tbody>\n",
       "    <tr>\n",
       "      <th>2021-01-03</th>\n",
       "      <td>0x1eff8af5d577060ba4ac8a29a13525bb0ee2a3d5</td>\n",
       "      <td>Balancer</td>\n",
       "      <td>Balancer WBTC-WETH</td>\n",
       "      <td>WETH</td>\n",
       "      <td>WBTC</td>\n",
       "      <td>460</td>\n",
       "      <td>1</td>\n",
       "    </tr>\n",
       "    <tr>\n",
       "      <th>2021-01-03</th>\n",
       "      <td>0x1eff8af5d577060ba4ac8a29a13525bb0ee2a3d5</td>\n",
       "      <td>Balancer</td>\n",
       "      <td>Balancer WBTC-WETH</td>\n",
       "      <td>WETH</td>\n",
       "      <td>WBTC</td>\n",
       "      <td>460</td>\n",
       "      <td>1</td>\n",
       "    </tr>\n",
       "    <tr>\n",
       "      <th>2021-01-03</th>\n",
       "      <td>0x1eff8af5d577060ba4ac8a29a13525bb0ee2a3d5</td>\n",
       "      <td>Balancer</td>\n",
       "      <td>Balancer WBTC-WETH</td>\n",
       "      <td>WETH</td>\n",
       "      <td>WBTC</td>\n",
       "      <td>460</td>\n",
       "      <td>1</td>\n",
       "    </tr>\n",
       "    <tr>\n",
       "      <th>2021-01-03</th>\n",
       "      <td>0x1eff8af5d577060ba4ac8a29a13525bb0ee2a3d5</td>\n",
       "      <td>Balancer</td>\n",
       "      <td>Balancer WBTC-WETH</td>\n",
       "      <td>WETH</td>\n",
       "      <td>WBTC</td>\n",
       "      <td>460</td>\n",
       "      <td>1</td>\n",
       "    </tr>\n",
       "    <tr>\n",
       "      <th>2021-01-03</th>\n",
       "      <td>0x1eff8af5d577060ba4ac8a29a13525bb0ee2a3d5</td>\n",
       "      <td>Balancer</td>\n",
       "      <td>Balancer WBTC-WETH</td>\n",
       "      <td>WETH</td>\n",
       "      <td>WBTC</td>\n",
       "      <td>460</td>\n",
       "      <td>1</td>\n",
       "    </tr>\n",
       "  </tbody>\n",
       "</table>\n",
       "</div>"
      ],
      "text/plain": [
       "                                              Exchange  Platform  \\\n",
       "date                                                               \n",
       "2021-01-03  0x1eff8af5d577060ba4ac8a29a13525bb0ee2a3d5  Balancer   \n",
       "2021-01-03  0x1eff8af5d577060ba4ac8a29a13525bb0ee2a3d5  Balancer   \n",
       "2021-01-03  0x1eff8af5d577060ba4ac8a29a13525bb0ee2a3d5  Balancer   \n",
       "2021-01-03  0x1eff8af5d577060ba4ac8a29a13525bb0ee2a3d5  Balancer   \n",
       "2021-01-03  0x1eff8af5d577060ba4ac8a29a13525bb0ee2a3d5  Balancer   \n",
       "\n",
       "                          Pool FromSymbol ToSymbol  Trades month  \n",
       "date                                                              \n",
       "2021-01-03  Balancer WBTC-WETH       WETH     WBTC     460     1  \n",
       "2021-01-03  Balancer WBTC-WETH       WETH     WBTC     460     1  \n",
       "2021-01-03  Balancer WBTC-WETH       WETH     WBTC     460     1  \n",
       "2021-01-03  Balancer WBTC-WETH       WETH     WBTC     460     1  \n",
       "2021-01-03  Balancer WBTC-WETH       WETH     WBTC     460     1  "
      ]
     },
     "execution_count": 26,
     "metadata": {},
     "output_type": "execute_result"
    }
   ],
   "source": [
    "#trades_df.sort_index\n",
    "trades_df.head()"
   ]
  },
  {
   "cell_type": "markdown",
   "metadata": {},
   "source": [
    "#### keep tokens separate for even compare"
   ]
  },
  {
   "cell_type": "code",
   "execution_count": 27,
   "metadata": {},
   "outputs": [],
   "source": [
    "WBTC_df = trades_df[trades_df['ToSymbol'] == 'WBTC']\n",
    "DAI_df = trades_df[trades_df['ToSymbol'] == 'DAI']\n",
    "LAWA_df = trades_df[trades_df['ToSymbol'] == 'LAWA']\n",
    "WETH_df = trades_df[trades_df['ToSymbol'] == 'WETH']\n",
    "USDT_df = trades_df[trades_df['ToSymbol'] == 'USDT']"
   ]
  },
  {
   "cell_type": "code",
   "execution_count": 28,
   "metadata": {},
   "outputs": [
    {
     "data": {
      "text/html": [
       "<div>\n",
       "<style scoped>\n",
       "    .dataframe tbody tr th:only-of-type {\n",
       "        vertical-align: middle;\n",
       "    }\n",
       "\n",
       "    .dataframe tbody tr th {\n",
       "        vertical-align: top;\n",
       "    }\n",
       "\n",
       "    .dataframe thead th {\n",
       "        text-align: right;\n",
       "    }\n",
       "</style>\n",
       "<table border=\"1\" class=\"dataframe\">\n",
       "  <thead>\n",
       "    <tr style=\"text-align: right;\">\n",
       "      <th></th>\n",
       "      <th>Exchange</th>\n",
       "      <th>Platform</th>\n",
       "      <th>Pool</th>\n",
       "      <th>FromSymbol</th>\n",
       "      <th>ToSymbol</th>\n",
       "      <th>Trades</th>\n",
       "      <th>month</th>\n",
       "    </tr>\n",
       "    <tr>\n",
       "      <th>date</th>\n",
       "      <th></th>\n",
       "      <th></th>\n",
       "      <th></th>\n",
       "      <th></th>\n",
       "      <th></th>\n",
       "      <th></th>\n",
       "      <th></th>\n",
       "    </tr>\n",
       "  </thead>\n",
       "  <tbody>\n",
       "    <tr>\n",
       "      <th>2021-01-03</th>\n",
       "      <td>0x1eff8af5d577060ba4ac8a29a13525bb0ee2a3d5</td>\n",
       "      <td>Balancer</td>\n",
       "      <td>Balancer WBTC-WETH</td>\n",
       "      <td>WETH</td>\n",
       "      <td>WBTC</td>\n",
       "      <td>460</td>\n",
       "      <td>1</td>\n",
       "    </tr>\n",
       "    <tr>\n",
       "      <th>2021-01-03</th>\n",
       "      <td>0x1eff8af5d577060ba4ac8a29a13525bb0ee2a3d5</td>\n",
       "      <td>Balancer</td>\n",
       "      <td>Balancer WBTC-WETH</td>\n",
       "      <td>WETH</td>\n",
       "      <td>WBTC</td>\n",
       "      <td>460</td>\n",
       "      <td>1</td>\n",
       "    </tr>\n",
       "    <tr>\n",
       "      <th>2021-01-03</th>\n",
       "      <td>0x1eff8af5d577060ba4ac8a29a13525bb0ee2a3d5</td>\n",
       "      <td>Balancer</td>\n",
       "      <td>Balancer WBTC-WETH</td>\n",
       "      <td>WETH</td>\n",
       "      <td>WBTC</td>\n",
       "      <td>460</td>\n",
       "      <td>1</td>\n",
       "    </tr>\n",
       "    <tr>\n",
       "      <th>2021-01-03</th>\n",
       "      <td>0x1eff8af5d577060ba4ac8a29a13525bb0ee2a3d5</td>\n",
       "      <td>Balancer</td>\n",
       "      <td>Balancer WBTC-WETH</td>\n",
       "      <td>WETH</td>\n",
       "      <td>WBTC</td>\n",
       "      <td>460</td>\n",
       "      <td>1</td>\n",
       "    </tr>\n",
       "    <tr>\n",
       "      <th>2021-01-03</th>\n",
       "      <td>0x1eff8af5d577060ba4ac8a29a13525bb0ee2a3d5</td>\n",
       "      <td>Balancer</td>\n",
       "      <td>Balancer WBTC-WETH</td>\n",
       "      <td>WETH</td>\n",
       "      <td>WBTC</td>\n",
       "      <td>460</td>\n",
       "      <td>1</td>\n",
       "    </tr>\n",
       "  </tbody>\n",
       "</table>\n",
       "</div>"
      ],
      "text/plain": [
       "                                              Exchange  Platform  \\\n",
       "date                                                               \n",
       "2021-01-03  0x1eff8af5d577060ba4ac8a29a13525bb0ee2a3d5  Balancer   \n",
       "2021-01-03  0x1eff8af5d577060ba4ac8a29a13525bb0ee2a3d5  Balancer   \n",
       "2021-01-03  0x1eff8af5d577060ba4ac8a29a13525bb0ee2a3d5  Balancer   \n",
       "2021-01-03  0x1eff8af5d577060ba4ac8a29a13525bb0ee2a3d5  Balancer   \n",
       "2021-01-03  0x1eff8af5d577060ba4ac8a29a13525bb0ee2a3d5  Balancer   \n",
       "\n",
       "                          Pool FromSymbol ToSymbol  Trades month  \n",
       "date                                                              \n",
       "2021-01-03  Balancer WBTC-WETH       WETH     WBTC     460     1  \n",
       "2021-01-03  Balancer WBTC-WETH       WETH     WBTC     460     1  \n",
       "2021-01-03  Balancer WBTC-WETH       WETH     WBTC     460     1  \n",
       "2021-01-03  Balancer WBTC-WETH       WETH     WBTC     460     1  \n",
       "2021-01-03  Balancer WBTC-WETH       WETH     WBTC     460     1  "
      ]
     },
     "execution_count": 28,
     "metadata": {},
     "output_type": "execute_result"
    }
   ],
   "source": [
    "WBTC_df.head()"
   ]
  },
  {
   "cell_type": "markdown",
   "metadata": {},
   "source": [
    "#### Create separate plots for now. These were on the project slides and will be on the Gitlab"
   ]
  },
  {
   "cell_type": "code",
   "execution_count": 34,
   "metadata": {},
   "outputs": [],
   "source": [
    "#WBTC_df.groupby(by=['ToSymbol','month']).sum().hvplot(figsize=(20,10), title='Total trades by month for 2021', yformatter='%.0f', rot=90)\n",
    "plot1 = WBTC_df.groupby(by=['month']).sum().hvplot(figsize=(20,10), title='WBTC Total trades by month for 2021', yformatter='%.0f', rot=90)\n",
    "plot2 = DAI_df.groupby(by=['month']).sum().hvplot(figsize=(20,10), title='DAI Total trades by month for 2021', yformatter='%.0f', rot=90)\n",
    "plot3 = LAWA_df.groupby(by=['month']).sum().hvplot(figsize=(20,10), title='LAWA Total trades by month for 2021', yformatter='%.0f', rot=90)\n",
    "plot4 = WETH_df.groupby(by=['month']).sum().hvplot(figsize=(20,10), title='WETH Total trades by month for 2021', yformatter='%.0f', rot=90)\n",
    "plot5 = USDT_df.groupby(by=['month']).sum().hvplot(figsize=(20,10), title='USDT Total trades by month for 2021', yformatter='%.0f', rot=90)"
   ]
  },
  {
   "cell_type": "code",
   "execution_count": 35,
   "metadata": {},
   "outputs": [
    {
     "data": {},
     "metadata": {},
     "output_type": "display_data"
    },
    {
     "data": {
      "application/vnd.holoviews_exec.v0+json": "",
      "text/html": [
       "<div id='1401'>\n",
       "\n",
       "\n",
       "\n",
       "\n",
       "\n",
       "  <div class=\"bk-root\" id=\"ddf7902d-96d9-42e6-b129-fa4a7ec2a497\" data-root-id=\"1401\"></div>\n",
       "</div>\n",
       "<script type=\"application/javascript\">(function(root) {\n",
       "  function embed_document(root) {\n",
       "    var docs_json = {\"62a826f4-7cf0-45d2-ae64-98afa6af9eca\":{\"roots\":{\"references\":[{\"attributes\":{\"bottom_units\":\"screen\",\"fill_alpha\":0.5,\"fill_color\":\"lightgrey\",\"left_units\":\"screen\",\"level\":\"overlay\",\"line_alpha\":1.0,\"line_color\":\"black\",\"line_dash\":[4,4],\"line_width\":2,\"right_units\":\"screen\",\"top_units\":\"screen\"},\"id\":\"1427\",\"type\":\"BoxAnnotation\"},{\"attributes\":{\"data_source\":{\"id\":\"1435\"},\"glyph\":{\"id\":\"1438\"},\"hover_glyph\":null,\"muted_glyph\":{\"id\":\"1440\"},\"nonselection_glyph\":{\"id\":\"1439\"},\"selection_glyph\":null,\"view\":{\"id\":\"1442\"}},\"id\":\"1441\",\"type\":\"GlyphRenderer\"},{\"attributes\":{\"source\":{\"id\":\"1435\"}},\"id\":\"1442\",\"type\":\"CDSView\"},{\"attributes\":{\"line_alpha\":0.2,\"line_color\":\"#30a2da\",\"line_width\":2,\"x\":{\"field\":\"month\"},\"y\":{\"field\":\"Trades\"}},\"id\":\"1440\",\"type\":\"Line\"},{\"attributes\":{\"margin\":[5,5,5,5],\"name\":\"HSpacer02618\",\"sizing_mode\":\"stretch_width\"},\"id\":\"1464\",\"type\":\"Spacer\"},{\"attributes\":{\"text\":\"WBTC Total trades by month for 2021\",\"text_color\":{\"value\":\"black\"},\"text_font_size\":{\"value\":\"12pt\"}},\"id\":\"1407\",\"type\":\"Title\"},{\"attributes\":{\"factors\":[\"1\",\"2\",\"3\",\"4\",\"5\",\"6\"],\"tags\":[[[\"month\",\"month\",null]]]},\"id\":\"1403\",\"type\":\"FactorRange\"},{\"attributes\":{\"callback\":null,\"renderers\":[{\"id\":\"1441\"}],\"tags\":[\"hv_created\"],\"tooltips\":[[\"month\",\"@{month}\"],[\"Trades\",\"@{Trades}\"]]},\"id\":\"1405\",\"type\":\"HoverTool\"},{\"attributes\":{},\"id\":\"1436\",\"type\":\"Selection\"},{\"attributes\":{\"below\":[{\"id\":\"1415\"}],\"center\":[{\"id\":\"1417\"},{\"id\":\"1421\"}],\"left\":[{\"id\":\"1418\"}],\"margin\":[5,5,5,5],\"min_border_bottom\":10,\"min_border_left\":10,\"min_border_right\":10,\"min_border_top\":10,\"plot_height\":300,\"plot_width\":700,\"renderers\":[{\"id\":\"1441\"}],\"sizing_mode\":\"fixed\",\"title\":{\"id\":\"1407\"},\"toolbar\":{\"id\":\"1428\"},\"x_range\":{\"id\":\"1403\"},\"x_scale\":{\"id\":\"1411\"},\"y_range\":{\"id\":\"1404\"},\"y_scale\":{\"id\":\"1413\"}},\"id\":\"1406\",\"subtype\":\"Figure\",\"type\":\"Plot\"},{\"attributes\":{\"margin\":[5,5,5,5],\"name\":\"HSpacer02617\",\"sizing_mode\":\"stretch_width\"},\"id\":\"1402\",\"type\":\"Spacer\"},{\"attributes\":{},\"id\":\"1422\",\"type\":\"SaveTool\"},{\"attributes\":{},\"id\":\"1423\",\"type\":\"PanTool\"},{\"attributes\":{\"line_color\":\"#30a2da\",\"line_width\":2,\"x\":{\"field\":\"month\"},\"y\":{\"field\":\"Trades\"}},\"id\":\"1438\",\"type\":\"Line\"},{\"attributes\":{},\"id\":\"1426\",\"type\":\"ResetTool\"},{\"attributes\":{\"format\":\"%.0f\"},\"id\":\"1443\",\"type\":\"PrintfTickFormatter\"},{\"attributes\":{},\"id\":\"1424\",\"type\":\"WheelZoomTool\"},{\"attributes\":{\"overlay\":{\"id\":\"1427\"}},\"id\":\"1425\",\"type\":\"BoxZoomTool\"},{\"attributes\":{},\"id\":\"1411\",\"type\":\"CategoricalScale\"},{\"attributes\":{\"axis\":{\"id\":\"1415\"},\"grid_line_color\":null,\"ticker\":null},\"id\":\"1417\",\"type\":\"Grid\"},{\"attributes\":{},\"id\":\"1416\",\"type\":\"CategoricalTicker\"},{\"attributes\":{},\"id\":\"1413\",\"type\":\"LinearScale\"},{\"attributes\":{\"end\":2115584.7,\"reset_end\":2115584.7,\"reset_start\":-158075.7,\"start\":-158075.7,\"tags\":[[[\"Trades\",\"Trades\",null]]]},\"id\":\"1404\",\"type\":\"Range1d\"},{\"attributes\":{\"axis_label\":\"month\",\"bounds\":\"auto\",\"formatter\":{\"id\":\"1444\"},\"major_label_orientation\":1.5707963267948966,\"ticker\":{\"id\":\"1416\"}},\"id\":\"1415\",\"type\":\"CategoricalAxis\"},{\"attributes\":{\"line_alpha\":0.1,\"line_color\":\"#30a2da\",\"line_width\":2,\"x\":{\"field\":\"month\"},\"y\":{\"field\":\"Trades\"}},\"id\":\"1439\",\"type\":\"Line\"},{\"attributes\":{},\"id\":\"1455\",\"type\":\"UnionRenderers\"},{\"attributes\":{},\"id\":\"1419\",\"type\":\"BasicTicker\"},{\"attributes\":{},\"id\":\"1444\",\"type\":\"CategoricalTickFormatter\"},{\"attributes\":{\"children\":[{\"id\":\"1402\"},{\"id\":\"1406\"},{\"id\":\"1464\"}],\"margin\":[0,0,0,0],\"name\":\"Row02613\",\"tags\":[\"embedded\"]},\"id\":\"1401\",\"type\":\"Row\"},{\"attributes\":{\"data\":{\"Trades\":[958044,392368,195645,342106,1926113,31396],\"month\":[\"1\",\"2\",\"3\",\"4\",\"5\",\"6\"]},\"selected\":{\"id\":\"1436\"},\"selection_policy\":{\"id\":\"1455\"}},\"id\":\"1435\",\"type\":\"ColumnDataSource\"},{\"attributes\":{\"axis_label\":\"Trades\",\"bounds\":\"auto\",\"formatter\":{\"id\":\"1443\"},\"major_label_orientation\":\"horizontal\",\"ticker\":{\"id\":\"1419\"}},\"id\":\"1418\",\"type\":\"LinearAxis\"},{\"attributes\":{\"active_drag\":\"auto\",\"active_inspect\":\"auto\",\"active_multi\":null,\"active_scroll\":\"auto\",\"active_tap\":\"auto\",\"tools\":[{\"id\":\"1405\"},{\"id\":\"1422\"},{\"id\":\"1423\"},{\"id\":\"1424\"},{\"id\":\"1425\"},{\"id\":\"1426\"}]},\"id\":\"1428\",\"type\":\"Toolbar\"},{\"attributes\":{\"axis\":{\"id\":\"1418\"},\"dimension\":1,\"grid_line_color\":null,\"ticker\":null},\"id\":\"1421\",\"type\":\"Grid\"}],\"root_ids\":[\"1401\"]},\"title\":\"Bokeh Application\",\"version\":\"2.2.3\"}};\n",
       "    var render_items = [{\"docid\":\"62a826f4-7cf0-45d2-ae64-98afa6af9eca\",\"root_ids\":[\"1401\"],\"roots\":{\"1401\":\"ddf7902d-96d9-42e6-b129-fa4a7ec2a497\"}}];\n",
       "    root.Bokeh.embed.embed_items_notebook(docs_json, render_items);\n",
       "  }\n",
       "  if (root.Bokeh !== undefined && root.Bokeh.Panel !== undefined) {\n",
       "    embed_document(root);\n",
       "  } else {\n",
       "    var attempts = 0;\n",
       "    var timer = setInterval(function(root) {\n",
       "      if (root.Bokeh !== undefined && root.Bokeh.Panel !== undefined) {\n",
       "        clearInterval(timer);\n",
       "        embed_document(root);\n",
       "      } else if (document.readyState == \"complete\") {\n",
       "        attempts++;\n",
       "        if (attempts > 100) {\n",
       "          clearInterval(timer);\n",
       "          console.log(\"Bokeh: ERROR: Unable to run BokehJS code because BokehJS library is missing\");\n",
       "        }\n",
       "      }\n",
       "    }, 10, root)\n",
       "  }\n",
       "})(window);</script>"
      ],
      "text/plain": [
       ":Curve   [month]   (Trades)"
      ]
     },
     "execution_count": 35,
     "metadata": {
      "application/vnd.holoviews_exec.v0+json": {
       "id": "1401"
      }
     },
     "output_type": "execute_result"
    }
   ],
   "source": [
    "plot1"
   ]
  },
  {
   "cell_type": "code",
   "execution_count": 36,
   "metadata": {},
   "outputs": [
    {
     "data": {},
     "metadata": {},
     "output_type": "display_data"
    },
    {
     "data": {
      "application/vnd.holoviews_exec.v0+json": "",
      "text/html": [
       "<div id='1501'>\n",
       "\n",
       "\n",
       "\n",
       "\n",
       "\n",
       "  <div class=\"bk-root\" id=\"917aba2a-310a-4fd6-8751-f358d7829e56\" data-root-id=\"1501\"></div>\n",
       "</div>\n",
       "<script type=\"application/javascript\">(function(root) {\n",
       "  function embed_document(root) {\n",
       "    var docs_json = {\"6aaf7720-807c-40bc-ad61-31138553be27\":{\"roots\":{\"references\":[{\"attributes\":{\"overlay\":{\"id\":\"1527\"}},\"id\":\"1525\",\"type\":\"BoxZoomTool\"},{\"attributes\":{},\"id\":\"1511\",\"type\":\"CategoricalScale\"},{\"attributes\":{},\"id\":\"1526\",\"type\":\"ResetTool\"},{\"attributes\":{\"axis\":{\"id\":\"1515\"},\"grid_line_color\":null,\"ticker\":null},\"id\":\"1517\",\"type\":\"Grid\"},{\"attributes\":{},\"id\":\"1516\",\"type\":\"CategoricalTicker\"},{\"attributes\":{},\"id\":\"1513\",\"type\":\"LinearScale\"},{\"attributes\":{\"factors\":[\"1\",\"2\",\"3\",\"4\",\"5\",\"6\"],\"tags\":[[[\"month\",\"month\",null]]]},\"id\":\"1503\",\"type\":\"FactorRange\"},{\"attributes\":{\"axis_label\":\"month\",\"bounds\":\"auto\",\"formatter\":{\"id\":\"1544\"},\"major_label_orientation\":1.5707963267948966,\"ticker\":{\"id\":\"1516\"}},\"id\":\"1515\",\"type\":\"CategoricalAxis\"},{\"attributes\":{\"data_source\":{\"id\":\"1535\"},\"glyph\":{\"id\":\"1538\"},\"hover_glyph\":null,\"muted_glyph\":{\"id\":\"1540\"},\"nonselection_glyph\":{\"id\":\"1539\"},\"selection_glyph\":null,\"view\":{\"id\":\"1542\"}},\"id\":\"1541\",\"type\":\"GlyphRenderer\"},{\"attributes\":{},\"id\":\"1519\",\"type\":\"BasicTicker\"},{\"attributes\":{\"axis\":{\"id\":\"1518\"},\"dimension\":1,\"grid_line_color\":null,\"ticker\":null},\"id\":\"1521\",\"type\":\"Grid\"},{\"attributes\":{\"callback\":null,\"renderers\":[{\"id\":\"1541\"}],\"tags\":[\"hv_created\"],\"tooltips\":[[\"month\",\"@{month}\"],[\"Trades\",\"@{Trades}\"]]},\"id\":\"1505\",\"type\":\"HoverTool\"},{\"attributes\":{\"data\":{\"Trades\":[5997026,4946957,3376986,1691805,2478363,137469],\"month\":[\"1\",\"2\",\"3\",\"4\",\"5\",\"6\"]},\"selected\":{\"id\":\"1536\"},\"selection_policy\":{\"id\":\"1555\"}},\"id\":\"1535\",\"type\":\"ColumnDataSource\"},{\"attributes\":{\"active_drag\":\"auto\",\"active_inspect\":\"auto\",\"active_multi\":null,\"active_scroll\":\"auto\",\"active_tap\":\"auto\",\"tools\":[{\"id\":\"1505\"},{\"id\":\"1522\"},{\"id\":\"1523\"},{\"id\":\"1524\"},{\"id\":\"1525\"},{\"id\":\"1526\"}]},\"id\":\"1528\",\"type\":\"Toolbar\"},{\"attributes\":{\"axis_label\":\"Trades\",\"bounds\":\"auto\",\"formatter\":{\"id\":\"1543\"},\"major_label_orientation\":\"horizontal\",\"ticker\":{\"id\":\"1519\"}},\"id\":\"1518\",\"type\":\"LinearAxis\"},{\"attributes\":{\"line_alpha\":0.2,\"line_color\":\"#30a2da\",\"line_width\":2,\"x\":{\"field\":\"month\"},\"y\":{\"field\":\"Trades\"}},\"id\":\"1540\",\"type\":\"Line\"},{\"attributes\":{\"bottom_units\":\"screen\",\"fill_alpha\":0.5,\"fill_color\":\"lightgrey\",\"left_units\":\"screen\",\"level\":\"overlay\",\"line_alpha\":1.0,\"line_color\":\"black\",\"line_dash\":[4,4],\"line_width\":2,\"right_units\":\"screen\",\"top_units\":\"screen\"},\"id\":\"1527\",\"type\":\"BoxAnnotation\"},{\"attributes\":{},\"id\":\"1544\",\"type\":\"CategoricalTickFormatter\"},{\"attributes\":{\"source\":{\"id\":\"1535\"}},\"id\":\"1542\",\"type\":\"CDSView\"},{\"attributes\":{\"text\":\"DAI Total trades by month for 2021\",\"text_color\":{\"value\":\"black\"},\"text_font_size\":{\"value\":\"12pt\"}},\"id\":\"1507\",\"type\":\"Title\"},{\"attributes\":{},\"id\":\"1555\",\"type\":\"UnionRenderers\"},{\"attributes\":{\"line_alpha\":0.1,\"line_color\":\"#30a2da\",\"line_width\":2,\"x\":{\"field\":\"month\"},\"y\":{\"field\":\"Trades\"}},\"id\":\"1539\",\"type\":\"Line\"},{\"attributes\":{\"margin\":[5,5,5,5],\"name\":\"HSpacer02724\",\"sizing_mode\":\"stretch_width\"},\"id\":\"1564\",\"type\":\"Spacer\"},{\"attributes\":{\"line_color\":\"#30a2da\",\"line_width\":2,\"x\":{\"field\":\"month\"},\"y\":{\"field\":\"Trades\"}},\"id\":\"1538\",\"type\":\"Line\"},{\"attributes\":{\"end\":6582981.7,\"reset_end\":6582981.7,\"reset_start\":-448486.70000000007,\"start\":-448486.70000000007,\"tags\":[[[\"Trades\",\"Trades\",null]]]},\"id\":\"1504\",\"type\":\"Range1d\"},{\"attributes\":{},\"id\":\"1522\",\"type\":\"SaveTool\"},{\"attributes\":{\"margin\":[5,5,5,5],\"name\":\"HSpacer02723\",\"sizing_mode\":\"stretch_width\"},\"id\":\"1502\",\"type\":\"Spacer\"},{\"attributes\":{\"below\":[{\"id\":\"1515\"}],\"center\":[{\"id\":\"1517\"},{\"id\":\"1521\"}],\"left\":[{\"id\":\"1518\"}],\"margin\":[5,5,5,5],\"min_border_bottom\":10,\"min_border_left\":10,\"min_border_right\":10,\"min_border_top\":10,\"plot_height\":300,\"plot_width\":700,\"renderers\":[{\"id\":\"1541\"}],\"sizing_mode\":\"fixed\",\"title\":{\"id\":\"1507\"},\"toolbar\":{\"id\":\"1528\"},\"x_range\":{\"id\":\"1503\"},\"x_scale\":{\"id\":\"1511\"},\"y_range\":{\"id\":\"1504\"},\"y_scale\":{\"id\":\"1513\"}},\"id\":\"1506\",\"subtype\":\"Figure\",\"type\":\"Plot\"},{\"attributes\":{},\"id\":\"1523\",\"type\":\"PanTool\"},{\"attributes\":{},\"id\":\"1536\",\"type\":\"Selection\"},{\"attributes\":{\"children\":[{\"id\":\"1502\"},{\"id\":\"1506\"},{\"id\":\"1564\"}],\"margin\":[0,0,0,0],\"name\":\"Row02719\",\"tags\":[\"embedded\"]},\"id\":\"1501\",\"type\":\"Row\"},{\"attributes\":{\"format\":\"%.0f\"},\"id\":\"1543\",\"type\":\"PrintfTickFormatter\"},{\"attributes\":{},\"id\":\"1524\",\"type\":\"WheelZoomTool\"}],\"root_ids\":[\"1501\"]},\"title\":\"Bokeh Application\",\"version\":\"2.2.3\"}};\n",
       "    var render_items = [{\"docid\":\"6aaf7720-807c-40bc-ad61-31138553be27\",\"root_ids\":[\"1501\"],\"roots\":{\"1501\":\"917aba2a-310a-4fd6-8751-f358d7829e56\"}}];\n",
       "    root.Bokeh.embed.embed_items_notebook(docs_json, render_items);\n",
       "  }\n",
       "  if (root.Bokeh !== undefined && root.Bokeh.Panel !== undefined) {\n",
       "    embed_document(root);\n",
       "  } else {\n",
       "    var attempts = 0;\n",
       "    var timer = setInterval(function(root) {\n",
       "      if (root.Bokeh !== undefined && root.Bokeh.Panel !== undefined) {\n",
       "        clearInterval(timer);\n",
       "        embed_document(root);\n",
       "      } else if (document.readyState == \"complete\") {\n",
       "        attempts++;\n",
       "        if (attempts > 100) {\n",
       "          clearInterval(timer);\n",
       "          console.log(\"Bokeh: ERROR: Unable to run BokehJS code because BokehJS library is missing\");\n",
       "        }\n",
       "      }\n",
       "    }, 10, root)\n",
       "  }\n",
       "})(window);</script>"
      ],
      "text/plain": [
       ":Curve   [month]   (Trades)"
      ]
     },
     "execution_count": 36,
     "metadata": {
      "application/vnd.holoviews_exec.v0+json": {
       "id": "1501"
      }
     },
     "output_type": "execute_result"
    }
   ],
   "source": [
    "plot2"
   ]
  },
  {
   "cell_type": "code",
   "execution_count": 37,
   "metadata": {},
   "outputs": [
    {
     "data": {},
     "metadata": {},
     "output_type": "display_data"
    },
    {
     "data": {
      "application/vnd.holoviews_exec.v0+json": "",
      "text/html": [
       "<div id='1601'>\n",
       "\n",
       "\n",
       "\n",
       "\n",
       "\n",
       "  <div class=\"bk-root\" id=\"c6fa6c74-1bae-483b-b05c-302f31e990aa\" data-root-id=\"1601\"></div>\n",
       "</div>\n",
       "<script type=\"application/javascript\">(function(root) {\n",
       "  function embed_document(root) {\n",
       "    var docs_json = {\"58eced1c-2780-4cc3-83d6-a3416c50bf35\":{\"roots\":{\"references\":[{\"attributes\":{\"axis_label\":\"month\",\"bounds\":\"auto\",\"formatter\":{\"id\":\"1644\"},\"major_label_orientation\":1.5707963267948966,\"ticker\":{\"id\":\"1616\"}},\"id\":\"1615\",\"type\":\"CategoricalAxis\"},{\"attributes\":{\"line_color\":\"#30a2da\",\"line_width\":2,\"x\":{\"field\":\"month\"},\"y\":{\"field\":\"Trades\"}},\"id\":\"1638\",\"type\":\"Line\"},{\"attributes\":{},\"id\":\"1619\",\"type\":\"BasicTicker\"},{\"attributes\":{\"callback\":null,\"renderers\":[{\"id\":\"1641\"}],\"tags\":[\"hv_created\"],\"tooltips\":[[\"month\",\"@{month}\"],[\"Trades\",\"@{Trades}\"]]},\"id\":\"1605\",\"type\":\"HoverTool\"},{\"attributes\":{\"factors\":[\"4\",\"5\",\"6\"],\"tags\":[[[\"month\",\"month\",null]]]},\"id\":\"1603\",\"type\":\"FactorRange\"},{\"attributes\":{\"axis\":{\"id\":\"1618\"},\"dimension\":1,\"grid_line_color\":null,\"ticker\":null},\"id\":\"1621\",\"type\":\"Grid\"},{\"attributes\":{\"axis_label\":\"Trades\",\"bounds\":\"auto\",\"formatter\":{\"id\":\"1643\"},\"major_label_orientation\":\"horizontal\",\"ticker\":{\"id\":\"1619\"}},\"id\":\"1618\",\"type\":\"LinearAxis\"},{\"attributes\":{\"active_drag\":\"auto\",\"active_inspect\":\"auto\",\"active_multi\":null,\"active_scroll\":\"auto\",\"active_tap\":\"auto\",\"tools\":[{\"id\":\"1605\"},{\"id\":\"1622\"},{\"id\":\"1623\"},{\"id\":\"1624\"},{\"id\":\"1625\"},{\"id\":\"1626\"}]},\"id\":\"1628\",\"type\":\"Toolbar\"},{\"attributes\":{},\"id\":\"1655\",\"type\":\"UnionRenderers\"},{\"attributes\":{\"children\":[{\"id\":\"1602\"},{\"id\":\"1606\"},{\"id\":\"1664\"}],\"margin\":[0,0,0,0],\"name\":\"Row02825\",\"tags\":[\"embedded\"]},\"id\":\"1601\",\"type\":\"Row\"},{\"attributes\":{\"data_source\":{\"id\":\"1635\"},\"glyph\":{\"id\":\"1638\"},\"hover_glyph\":null,\"muted_glyph\":{\"id\":\"1640\"},\"nonselection_glyph\":{\"id\":\"1639\"},\"selection_glyph\":null,\"view\":{\"id\":\"1642\"}},\"id\":\"1641\",\"type\":\"GlyphRenderer\"},{\"attributes\":{\"line_alpha\":0.2,\"line_color\":\"#30a2da\",\"line_width\":2,\"x\":{\"field\":\"month\"},\"y\":{\"field\":\"Trades\"}},\"id\":\"1640\",\"type\":\"Line\"},{\"attributes\":{\"bottom_units\":\"screen\",\"fill_alpha\":0.5,\"fill_color\":\"lightgrey\",\"left_units\":\"screen\",\"level\":\"overlay\",\"line_alpha\":1.0,\"line_color\":\"black\",\"line_dash\":[4,4],\"line_width\":2,\"right_units\":\"screen\",\"top_units\":\"screen\"},\"id\":\"1627\",\"type\":\"BoxAnnotation\"},{\"attributes\":{},\"id\":\"1636\",\"type\":\"Selection\"},{\"attributes\":{\"text\":\"LAWA Total trades by month for 2021\",\"text_color\":{\"value\":\"black\"},\"text_font_size\":{\"value\":\"12pt\"}},\"id\":\"1607\",\"type\":\"Title\"},{\"attributes\":{\"margin\":[5,5,5,5],\"name\":\"HSpacer02829\",\"sizing_mode\":\"stretch_width\"},\"id\":\"1602\",\"type\":\"Spacer\"},{\"attributes\":{\"line_alpha\":0.1,\"line_color\":\"#30a2da\",\"line_width\":2,\"x\":{\"field\":\"month\"},\"y\":{\"field\":\"Trades\"}},\"id\":\"1639\",\"type\":\"Line\"},{\"attributes\":{\"format\":\"%.0f\"},\"id\":\"1643\",\"type\":\"PrintfTickFormatter\"},{\"attributes\":{\"end\":9.8,\"reset_end\":9.8,\"reset_start\":0.19999999999999996,\"start\":0.19999999999999996,\"tags\":[[[\"Trades\",\"Trades\",null]]]},\"id\":\"1604\",\"type\":\"Range1d\"},{\"attributes\":{},\"id\":\"1622\",\"type\":\"SaveTool\"},{\"attributes\":{\"below\":[{\"id\":\"1615\"}],\"center\":[{\"id\":\"1617\"},{\"id\":\"1621\"}],\"left\":[{\"id\":\"1618\"}],\"margin\":[5,5,5,5],\"min_border_bottom\":10,\"min_border_left\":10,\"min_border_right\":10,\"min_border_top\":10,\"plot_height\":300,\"plot_width\":700,\"renderers\":[{\"id\":\"1641\"}],\"sizing_mode\":\"fixed\",\"title\":{\"id\":\"1607\"},\"toolbar\":{\"id\":\"1628\"},\"x_range\":{\"id\":\"1603\"},\"x_scale\":{\"id\":\"1611\"},\"y_range\":{\"id\":\"1604\"},\"y_scale\":{\"id\":\"1613\"}},\"id\":\"1606\",\"subtype\":\"Figure\",\"type\":\"Plot\"},{\"attributes\":{},\"id\":\"1623\",\"type\":\"PanTool\"},{\"attributes\":{},\"id\":\"1644\",\"type\":\"CategoricalTickFormatter\"},{\"attributes\":{},\"id\":\"1626\",\"type\":\"ResetTool\"},{\"attributes\":{\"source\":{\"id\":\"1635\"}},\"id\":\"1642\",\"type\":\"CDSView\"},{\"attributes\":{},\"id\":\"1624\",\"type\":\"WheelZoomTool\"},{\"attributes\":{\"margin\":[5,5,5,5],\"name\":\"HSpacer02830\",\"sizing_mode\":\"stretch_width\"},\"id\":\"1664\",\"type\":\"Spacer\"},{\"attributes\":{\"overlay\":{\"id\":\"1627\"}},\"id\":\"1625\",\"type\":\"BoxZoomTool\"},{\"attributes\":{\"data\":{\"Trades\":[1,9,1],\"month\":[\"4\",\"5\",\"6\"]},\"selected\":{\"id\":\"1636\"},\"selection_policy\":{\"id\":\"1655\"}},\"id\":\"1635\",\"type\":\"ColumnDataSource\"},{\"attributes\":{},\"id\":\"1611\",\"type\":\"CategoricalScale\"},{\"attributes\":{\"axis\":{\"id\":\"1615\"},\"grid_line_color\":null,\"ticker\":null},\"id\":\"1617\",\"type\":\"Grid\"},{\"attributes\":{},\"id\":\"1616\",\"type\":\"CategoricalTicker\"},{\"attributes\":{},\"id\":\"1613\",\"type\":\"LinearScale\"}],\"root_ids\":[\"1601\"]},\"title\":\"Bokeh Application\",\"version\":\"2.2.3\"}};\n",
       "    var render_items = [{\"docid\":\"58eced1c-2780-4cc3-83d6-a3416c50bf35\",\"root_ids\":[\"1601\"],\"roots\":{\"1601\":\"c6fa6c74-1bae-483b-b05c-302f31e990aa\"}}];\n",
       "    root.Bokeh.embed.embed_items_notebook(docs_json, render_items);\n",
       "  }\n",
       "  if (root.Bokeh !== undefined && root.Bokeh.Panel !== undefined) {\n",
       "    embed_document(root);\n",
       "  } else {\n",
       "    var attempts = 0;\n",
       "    var timer = setInterval(function(root) {\n",
       "      if (root.Bokeh !== undefined && root.Bokeh.Panel !== undefined) {\n",
       "        clearInterval(timer);\n",
       "        embed_document(root);\n",
       "      } else if (document.readyState == \"complete\") {\n",
       "        attempts++;\n",
       "        if (attempts > 100) {\n",
       "          clearInterval(timer);\n",
       "          console.log(\"Bokeh: ERROR: Unable to run BokehJS code because BokehJS library is missing\");\n",
       "        }\n",
       "      }\n",
       "    }, 10, root)\n",
       "  }\n",
       "})(window);</script>"
      ],
      "text/plain": [
       ":Curve   [month]   (Trades)"
      ]
     },
     "execution_count": 37,
     "metadata": {
      "application/vnd.holoviews_exec.v0+json": {
       "id": "1601"
      }
     },
     "output_type": "execute_result"
    }
   ],
   "source": [
    "plot3"
   ]
  },
  {
   "cell_type": "code",
   "execution_count": 38,
   "metadata": {},
   "outputs": [
    {
     "data": {},
     "metadata": {},
     "output_type": "display_data"
    },
    {
     "data": {
      "application/vnd.holoviews_exec.v0+json": "",
      "text/html": [
       "<div id='1701'>\n",
       "\n",
       "\n",
       "\n",
       "\n",
       "\n",
       "  <div class=\"bk-root\" id=\"3621cd3f-46ba-4401-8205-eb704be3f830\" data-root-id=\"1701\"></div>\n",
       "</div>\n",
       "<script type=\"application/javascript\">(function(root) {\n",
       "  function embed_document(root) {\n",
       "    var docs_json = {\"2e9e5e77-435b-4bc1-9d38-352f2db5c3d2\":{\"roots\":{\"references\":[{\"attributes\":{},\"id\":\"1716\",\"type\":\"CategoricalTicker\"},{\"attributes\":{\"active_drag\":\"auto\",\"active_inspect\":\"auto\",\"active_multi\":null,\"active_scroll\":\"auto\",\"active_tap\":\"auto\",\"tools\":[{\"id\":\"1705\"},{\"id\":\"1722\"},{\"id\":\"1723\"},{\"id\":\"1724\"},{\"id\":\"1725\"},{\"id\":\"1726\"}]},\"id\":\"1728\",\"type\":\"Toolbar\"},{\"attributes\":{\"margin\":[5,5,5,5],\"name\":\"HSpacer02935\",\"sizing_mode\":\"stretch_width\"},\"id\":\"1702\",\"type\":\"Spacer\"},{\"attributes\":{\"line_alpha\":0.2,\"line_color\":\"#30a2da\",\"line_width\":2,\"x\":{\"field\":\"month\"},\"y\":{\"field\":\"Trades\"}},\"id\":\"1740\",\"type\":\"Line\"},{\"attributes\":{\"factors\":[\"1\",\"2\",\"3\",\"4\",\"5\",\"6\"],\"tags\":[[[\"month\",\"month\",null]]]},\"id\":\"1703\",\"type\":\"FactorRange\"},{\"attributes\":{\"axis\":{\"id\":\"1715\"},\"grid_line_color\":null,\"ticker\":null},\"id\":\"1717\",\"type\":\"Grid\"},{\"attributes\":{\"line_alpha\":0.1,\"line_color\":\"#30a2da\",\"line_width\":2,\"x\":{\"field\":\"month\"},\"y\":{\"field\":\"Trades\"}},\"id\":\"1739\",\"type\":\"Line\"},{\"attributes\":{\"callback\":null,\"renderers\":[{\"id\":\"1741\"}],\"tags\":[\"hv_created\"],\"tooltips\":[[\"month\",\"@{month}\"],[\"Trades\",\"@{Trades}\"]]},\"id\":\"1705\",\"type\":\"HoverTool\"},{\"attributes\":{\"source\":{\"id\":\"1735\"}},\"id\":\"1742\",\"type\":\"CDSView\"},{\"attributes\":{\"bottom_units\":\"screen\",\"fill_alpha\":0.5,\"fill_color\":\"lightgrey\",\"left_units\":\"screen\",\"level\":\"overlay\",\"line_alpha\":1.0,\"line_color\":\"black\",\"line_dash\":[4,4],\"line_width\":2,\"right_units\":\"screen\",\"top_units\":\"screen\"},\"id\":\"1727\",\"type\":\"BoxAnnotation\"},{\"attributes\":{},\"id\":\"1722\",\"type\":\"SaveTool\"},{\"attributes\":{},\"id\":\"1723\",\"type\":\"PanTool\"},{\"attributes\":{\"margin\":[5,5,5,5],\"name\":\"HSpacer02936\",\"sizing_mode\":\"stretch_width\"},\"id\":\"1764\",\"type\":\"Spacer\"},{\"attributes\":{},\"id\":\"1726\",\"type\":\"ResetTool\"},{\"attributes\":{},\"id\":\"1744\",\"type\":\"CategoricalTickFormatter\"},{\"attributes\":{},\"id\":\"1724\",\"type\":\"WheelZoomTool\"},{\"attributes\":{\"axis_label\":\"month\",\"bounds\":\"auto\",\"formatter\":{\"id\":\"1744\"},\"major_label_orientation\":1.5707963267948966,\"ticker\":{\"id\":\"1716\"}},\"id\":\"1715\",\"type\":\"CategoricalAxis\"},{\"attributes\":{\"format\":\"%.0f\"},\"id\":\"1743\",\"type\":\"PrintfTickFormatter\"},{\"attributes\":{\"overlay\":{\"id\":\"1727\"}},\"id\":\"1725\",\"type\":\"BoxZoomTool\"},{\"attributes\":{},\"id\":\"1755\",\"type\":\"UnionRenderers\"},{\"attributes\":{\"end\":11391905.4,\"reset_end\":11391905.4,\"reset_start\":-984887.4,\"start\":-984887.4,\"tags\":[[[\"Trades\",\"Trades\",null]]]},\"id\":\"1704\",\"type\":\"Range1d\"},{\"attributes\":{\"line_color\":\"#30a2da\",\"line_width\":2,\"x\":{\"field\":\"month\"},\"y\":{\"field\":\"Trades\"}},\"id\":\"1738\",\"type\":\"Line\"},{\"attributes\":{\"data\":{\"Trades\":[10360506,5718845,5645904,5228373,2279825,46512],\"month\":[\"1\",\"2\",\"3\",\"4\",\"5\",\"6\"]},\"selected\":{\"id\":\"1736\"},\"selection_policy\":{\"id\":\"1755\"}},\"id\":\"1735\",\"type\":\"ColumnDataSource\"},{\"attributes\":{\"text\":\"WETH Total trades by month for 2021\",\"text_color\":{\"value\":\"black\"},\"text_font_size\":{\"value\":\"12pt\"}},\"id\":\"1707\",\"type\":\"Title\"},{\"attributes\":{\"data_source\":{\"id\":\"1735\"},\"glyph\":{\"id\":\"1738\"},\"hover_glyph\":null,\"muted_glyph\":{\"id\":\"1740\"},\"nonselection_glyph\":{\"id\":\"1739\"},\"selection_glyph\":null,\"view\":{\"id\":\"1742\"}},\"id\":\"1741\",\"type\":\"GlyphRenderer\"},{\"attributes\":{},\"id\":\"1713\",\"type\":\"LinearScale\"},{\"attributes\":{\"axis\":{\"id\":\"1718\"},\"dimension\":1,\"grid_line_color\":null,\"ticker\":null},\"id\":\"1721\",\"type\":\"Grid\"},{\"attributes\":{\"axis_label\":\"Trades\",\"bounds\":\"auto\",\"formatter\":{\"id\":\"1743\"},\"major_label_orientation\":\"horizontal\",\"ticker\":{\"id\":\"1719\"}},\"id\":\"1718\",\"type\":\"LinearAxis\"},{\"attributes\":{\"children\":[{\"id\":\"1702\"},{\"id\":\"1706\"},{\"id\":\"1764\"}],\"margin\":[0,0,0,0],\"name\":\"Row02931\",\"tags\":[\"embedded\"]},\"id\":\"1701\",\"type\":\"Row\"},{\"attributes\":{\"below\":[{\"id\":\"1715\"}],\"center\":[{\"id\":\"1717\"},{\"id\":\"1721\"}],\"left\":[{\"id\":\"1718\"}],\"margin\":[5,5,5,5],\"min_border_bottom\":10,\"min_border_left\":10,\"min_border_right\":10,\"min_border_top\":10,\"plot_height\":300,\"plot_width\":700,\"renderers\":[{\"id\":\"1741\"}],\"sizing_mode\":\"fixed\",\"title\":{\"id\":\"1707\"},\"toolbar\":{\"id\":\"1728\"},\"x_range\":{\"id\":\"1703\"},\"x_scale\":{\"id\":\"1711\"},\"y_range\":{\"id\":\"1704\"},\"y_scale\":{\"id\":\"1713\"}},\"id\":\"1706\",\"subtype\":\"Figure\",\"type\":\"Plot\"},{\"attributes\":{},\"id\":\"1736\",\"type\":\"Selection\"},{\"attributes\":{},\"id\":\"1711\",\"type\":\"CategoricalScale\"},{\"attributes\":{},\"id\":\"1719\",\"type\":\"BasicTicker\"}],\"root_ids\":[\"1701\"]},\"title\":\"Bokeh Application\",\"version\":\"2.2.3\"}};\n",
       "    var render_items = [{\"docid\":\"2e9e5e77-435b-4bc1-9d38-352f2db5c3d2\",\"root_ids\":[\"1701\"],\"roots\":{\"1701\":\"3621cd3f-46ba-4401-8205-eb704be3f830\"}}];\n",
       "    root.Bokeh.embed.embed_items_notebook(docs_json, render_items);\n",
       "  }\n",
       "  if (root.Bokeh !== undefined && root.Bokeh.Panel !== undefined) {\n",
       "    embed_document(root);\n",
       "  } else {\n",
       "    var attempts = 0;\n",
       "    var timer = setInterval(function(root) {\n",
       "      if (root.Bokeh !== undefined && root.Bokeh.Panel !== undefined) {\n",
       "        clearInterval(timer);\n",
       "        embed_document(root);\n",
       "      } else if (document.readyState == \"complete\") {\n",
       "        attempts++;\n",
       "        if (attempts > 100) {\n",
       "          clearInterval(timer);\n",
       "          console.log(\"Bokeh: ERROR: Unable to run BokehJS code because BokehJS library is missing\");\n",
       "        }\n",
       "      }\n",
       "    }, 10, root)\n",
       "  }\n",
       "})(window);</script>"
      ],
      "text/plain": [
       ":Curve   [month]   (Trades)"
      ]
     },
     "execution_count": 38,
     "metadata": {
      "application/vnd.holoviews_exec.v0+json": {
       "id": "1701"
      }
     },
     "output_type": "execute_result"
    }
   ],
   "source": [
    "plot4"
   ]
  },
  {
   "cell_type": "code",
   "execution_count": 40,
   "metadata": {},
   "outputs": [
    {
     "data": {},
     "metadata": {},
     "output_type": "display_data"
    },
    {
     "data": {
      "application/vnd.holoviews_exec.v0+json": "",
      "text/html": [
       "<div id='1801'>\n",
       "\n",
       "\n",
       "\n",
       "\n",
       "\n",
       "  <div class=\"bk-root\" id=\"64b6bca5-46a1-43b3-b4d9-aade3755be02\" data-root-id=\"1801\"></div>\n",
       "</div>\n",
       "<script type=\"application/javascript\">(function(root) {\n",
       "  function embed_document(root) {\n",
       "    var docs_json = {\"d857cf40-7dfc-43ef-94bf-b1d72b80d533\":{\"roots\":{\"references\":[{\"attributes\":{},\"id\":\"1813\",\"type\":\"LinearScale\"},{\"attributes\":{\"axis_label\":\"Trades\",\"bounds\":\"auto\",\"formatter\":{\"id\":\"1843\"},\"major_label_orientation\":\"horizontal\",\"ticker\":{\"id\":\"1819\"}},\"id\":\"1818\",\"type\":\"LinearAxis\"},{\"attributes\":{},\"id\":\"1855\",\"type\":\"UnionRenderers\"},{\"attributes\":{\"axis_label\":\"month\",\"bounds\":\"auto\",\"formatter\":{\"id\":\"1844\"},\"major_label_orientation\":1.5707963267948966,\"ticker\":{\"id\":\"1816\"}},\"id\":\"1815\",\"type\":\"CategoricalAxis\"},{\"attributes\":{\"source\":{\"id\":\"1835\"}},\"id\":\"1842\",\"type\":\"CDSView\"},{\"attributes\":{\"axis\":{\"id\":\"1815\"},\"grid_line_color\":null,\"ticker\":null},\"id\":\"1817\",\"type\":\"Grid\"},{\"attributes\":{\"children\":[{\"id\":\"1802\"},{\"id\":\"1806\"},{\"id\":\"1864\"}],\"margin\":[0,0,0,0],\"name\":\"Row03037\",\"tags\":[\"embedded\"]},\"id\":\"1801\",\"type\":\"Row\"},{\"attributes\":{\"active_drag\":\"auto\",\"active_inspect\":\"auto\",\"active_multi\":null,\"active_scroll\":\"auto\",\"active_tap\":\"auto\",\"tools\":[{\"id\":\"1805\"},{\"id\":\"1822\"},{\"id\":\"1823\"},{\"id\":\"1824\"},{\"id\":\"1825\"},{\"id\":\"1826\"}]},\"id\":\"1828\",\"type\":\"Toolbar\"},{\"attributes\":{},\"id\":\"1819\",\"type\":\"BasicTicker\"},{\"attributes\":{\"margin\":[5,5,5,5],\"name\":\"HSpacer03042\",\"sizing_mode\":\"stretch_width\"},\"id\":\"1864\",\"type\":\"Spacer\"},{\"attributes\":{\"bottom_units\":\"screen\",\"fill_alpha\":0.5,\"fill_color\":\"lightgrey\",\"left_units\":\"screen\",\"level\":\"overlay\",\"line_alpha\":1.0,\"line_color\":\"black\",\"line_dash\":[4,4],\"line_width\":2,\"right_units\":\"screen\",\"top_units\":\"screen\"},\"id\":\"1827\",\"type\":\"BoxAnnotation\"},{\"attributes\":{\"axis\":{\"id\":\"1818\"},\"dimension\":1,\"grid_line_color\":null,\"ticker\":null},\"id\":\"1821\",\"type\":\"Grid\"},{\"attributes\":{\"margin\":[5,5,5,5],\"name\":\"HSpacer03041\",\"sizing_mode\":\"stretch_width\"},\"id\":\"1802\",\"type\":\"Spacer\"},{\"attributes\":{\"line_alpha\":0.2,\"line_color\":\"#30a2da\",\"line_width\":2,\"x\":{\"field\":\"month\"},\"y\":{\"field\":\"Trades\"}},\"id\":\"1840\",\"type\":\"Line\"},{\"attributes\":{\"line_alpha\":0.1,\"line_color\":\"#30a2da\",\"line_width\":2,\"x\":{\"field\":\"month\"},\"y\":{\"field\":\"Trades\"}},\"id\":\"1839\",\"type\":\"Line\"},{\"attributes\":{\"line_color\":\"#30a2da\",\"line_width\":2,\"x\":{\"field\":\"month\"},\"y\":{\"field\":\"Trades\"}},\"id\":\"1838\",\"type\":\"Line\"},{\"attributes\":{\"text\":\"USDT Total trades by month for 2021\",\"text_color\":{\"value\":\"black\"},\"text_font_size\":{\"value\":\"12pt\"}},\"id\":\"1807\",\"type\":\"Title\"},{\"attributes\":{},\"id\":\"1836\",\"type\":\"Selection\"},{\"attributes\":{},\"id\":\"1822\",\"type\":\"SaveTool\"},{\"attributes\":{},\"id\":\"1823\",\"type\":\"PanTool\"},{\"attributes\":{\"callback\":null,\"renderers\":[{\"id\":\"1841\"}],\"tags\":[\"hv_created\"],\"tooltips\":[[\"month\",\"@{month}\"],[\"Trades\",\"@{Trades}\"]]},\"id\":\"1805\",\"type\":\"HoverTool\"},{\"attributes\":{},\"id\":\"1826\",\"type\":\"ResetTool\"},{\"attributes\":{},\"id\":\"1824\",\"type\":\"WheelZoomTool\"},{\"attributes\":{\"format\":\"%.0f\"},\"id\":\"1843\",\"type\":\"PrintfTickFormatter\"},{\"attributes\":{},\"id\":\"1811\",\"type\":\"CategoricalScale\"},{\"attributes\":{\"end\":12023943.6,\"reset_end\":12023943.6,\"reset_start\":-850527.6000000001,\"start\":-850527.6000000001,\"tags\":[[[\"Trades\",\"Trades\",null]]]},\"id\":\"1804\",\"type\":\"Range1d\"},{\"attributes\":{\"overlay\":{\"id\":\"1827\"}},\"id\":\"1825\",\"type\":\"BoxZoomTool\"},{\"attributes\":{},\"id\":\"1816\",\"type\":\"CategoricalTicker\"},{\"attributes\":{\"below\":[{\"id\":\"1815\"}],\"center\":[{\"id\":\"1817\"},{\"id\":\"1821\"}],\"left\":[{\"id\":\"1818\"}],\"margin\":[5,5,5,5],\"min_border_bottom\":10,\"min_border_left\":10,\"min_border_right\":10,\"min_border_top\":10,\"plot_height\":300,\"plot_width\":700,\"renderers\":[{\"id\":\"1841\"}],\"sizing_mode\":\"fixed\",\"title\":{\"id\":\"1807\"},\"toolbar\":{\"id\":\"1828\"},\"x_range\":{\"id\":\"1803\"},\"x_scale\":{\"id\":\"1811\"},\"y_range\":{\"id\":\"1804\"},\"y_scale\":{\"id\":\"1813\"}},\"id\":\"1806\",\"subtype\":\"Figure\",\"type\":\"Plot\"},{\"attributes\":{\"data_source\":{\"id\":\"1835\"},\"glyph\":{\"id\":\"1838\"},\"hover_glyph\":null,\"muted_glyph\":{\"id\":\"1840\"},\"nonselection_glyph\":{\"id\":\"1839\"},\"selection_glyph\":null,\"view\":{\"id\":\"1842\"}},\"id\":\"1841\",\"type\":\"GlyphRenderer\"},{\"attributes\":{\"data\":{\"Trades\":[10951071,9023778,8485554,6607491,3283386,222345],\"month\":[\"1\",\"2\",\"3\",\"4\",\"5\",\"6\"]},\"selected\":{\"id\":\"1836\"},\"selection_policy\":{\"id\":\"1855\"}},\"id\":\"1835\",\"type\":\"ColumnDataSource\"},{\"attributes\":{},\"id\":\"1844\",\"type\":\"CategoricalTickFormatter\"},{\"attributes\":{\"factors\":[\"1\",\"2\",\"3\",\"4\",\"5\",\"6\"],\"tags\":[[[\"month\",\"month\",null]]]},\"id\":\"1803\",\"type\":\"FactorRange\"}],\"root_ids\":[\"1801\"]},\"title\":\"Bokeh Application\",\"version\":\"2.2.3\"}};\n",
       "    var render_items = [{\"docid\":\"d857cf40-7dfc-43ef-94bf-b1d72b80d533\",\"root_ids\":[\"1801\"],\"roots\":{\"1801\":\"64b6bca5-46a1-43b3-b4d9-aade3755be02\"}}];\n",
       "    root.Bokeh.embed.embed_items_notebook(docs_json, render_items);\n",
       "  }\n",
       "  if (root.Bokeh !== undefined && root.Bokeh.Panel !== undefined) {\n",
       "    embed_document(root);\n",
       "  } else {\n",
       "    var attempts = 0;\n",
       "    var timer = setInterval(function(root) {\n",
       "      if (root.Bokeh !== undefined && root.Bokeh.Panel !== undefined) {\n",
       "        clearInterval(timer);\n",
       "        embed_document(root);\n",
       "      } else if (document.readyState == \"complete\") {\n",
       "        attempts++;\n",
       "        if (attempts > 100) {\n",
       "          clearInterval(timer);\n",
       "          console.log(\"Bokeh: ERROR: Unable to run BokehJS code because BokehJS library is missing\");\n",
       "        }\n",
       "      }\n",
       "    }, 10, root)\n",
       "  }\n",
       "})(window);</script>"
      ],
      "text/plain": [
       ":Curve   [month]   (Trades)"
      ]
     },
     "execution_count": 40,
     "metadata": {
      "application/vnd.holoviews_exec.v0+json": {
       "id": "1801"
      }
     },
     "output_type": "execute_result"
    }
   ],
   "source": [
    "plot5"
   ]
  },
  {
   "cell_type": "markdown",
   "metadata": {},
   "source": [
    "### Code from below here is not being used."
   ]
  },
  {
   "cell_type": "code",
   "execution_count": 39,
   "metadata": {},
   "outputs": [
    {
     "data": {
      "text/html": [
       "<div>\n",
       "<style scoped>\n",
       "    .dataframe tbody tr th:only-of-type {\n",
       "        vertical-align: middle;\n",
       "    }\n",
       "\n",
       "    .dataframe tbody tr th {\n",
       "        vertical-align: top;\n",
       "    }\n",
       "\n",
       "    .dataframe thead th {\n",
       "        text-align: right;\n",
       "    }\n",
       "</style>\n",
       "<table border=\"1\" class=\"dataframe\">\n",
       "  <thead>\n",
       "    <tr style=\"text-align: right;\">\n",
       "      <th></th>\n",
       "      <th>Exchange</th>\n",
       "      <th>Platform</th>\n",
       "      <th>Pool</th>\n",
       "      <th>FromSymbol</th>\n",
       "      <th>ToSymbol</th>\n",
       "      <th>Trades</th>\n",
       "      <th>month</th>\n",
       "    </tr>\n",
       "    <tr>\n",
       "      <th>date</th>\n",
       "      <th></th>\n",
       "      <th></th>\n",
       "      <th></th>\n",
       "      <th></th>\n",
       "      <th></th>\n",
       "      <th></th>\n",
       "      <th></th>\n",
       "    </tr>\n",
       "  </thead>\n",
       "  <tbody>\n",
       "    <tr>\n",
       "      <th>2021-06-02</th>\n",
       "      <td>0x45f783cce6b7ff23b2ab2d70e416cdb7d6055f51</td>\n",
       "      <td>Curve</td>\n",
       "      <td>Curve Y</td>\n",
       "      <td>yUSDC</td>\n",
       "      <td>yTUSD</td>\n",
       "      <td>33</td>\n",
       "      <td>6</td>\n",
       "    </tr>\n",
       "    <tr>\n",
       "      <th>2021-06-02</th>\n",
       "      <td>0x45f783cce6b7ff23b2ab2d70e416cdb7d6055f51</td>\n",
       "      <td>Curve</td>\n",
       "      <td>Curve Y</td>\n",
       "      <td>yDAI</td>\n",
       "      <td>yTUSD</td>\n",
       "      <td>33</td>\n",
       "      <td>6</td>\n",
       "    </tr>\n",
       "    <tr>\n",
       "      <th>2021-06-02</th>\n",
       "      <td>0x45f783cce6b7ff23b2ab2d70e416cdb7d6055f51</td>\n",
       "      <td>Curve</td>\n",
       "      <td>Curve Y</td>\n",
       "      <td>yTUSD</td>\n",
       "      <td>yUSDC</td>\n",
       "      <td>33</td>\n",
       "      <td>6</td>\n",
       "    </tr>\n",
       "    <tr>\n",
       "      <th>2021-06-02</th>\n",
       "      <td>0x1ff074ddee048d8a4cd87c35057587a75001d17e</td>\n",
       "      <td>Uniswap-v2</td>\n",
       "      <td>Uniswap ENRH-NICA</td>\n",
       "      <td>ENRH</td>\n",
       "      <td>NICA</td>\n",
       "      <td>1</td>\n",
       "      <td>6</td>\n",
       "    </tr>\n",
       "    <tr>\n",
       "      <th>2021-06-02</th>\n",
       "      <td>0x245b720bf0b08a709c96580b610fdfaa4d8754cf</td>\n",
       "      <td>Uniswap-v2</td>\n",
       "      <td>Uniswap MIRU-LAWA</td>\n",
       "      <td>MIRU</td>\n",
       "      <td>LAWA</td>\n",
       "      <td>1</td>\n",
       "      <td>6</td>\n",
       "    </tr>\n",
       "  </tbody>\n",
       "</table>\n",
       "</div>"
      ],
      "text/plain": [
       "                                              Exchange    Platform  \\\n",
       "date                                                                 \n",
       "2021-06-02  0x45f783cce6b7ff23b2ab2d70e416cdb7d6055f51       Curve   \n",
       "2021-06-02  0x45f783cce6b7ff23b2ab2d70e416cdb7d6055f51       Curve   \n",
       "2021-06-02  0x45f783cce6b7ff23b2ab2d70e416cdb7d6055f51       Curve   \n",
       "2021-06-02  0x1ff074ddee048d8a4cd87c35057587a75001d17e  Uniswap-v2   \n",
       "2021-06-02  0x245b720bf0b08a709c96580b610fdfaa4d8754cf  Uniswap-v2   \n",
       "\n",
       "                         Pool FromSymbol ToSymbol  Trades month  \n",
       "date                                                             \n",
       "2021-06-02            Curve Y      yUSDC    yTUSD      33     6  \n",
       "2021-06-02            Curve Y       yDAI    yTUSD      33     6  \n",
       "2021-06-02            Curve Y      yTUSD    yUSDC      33     6  \n",
       "2021-06-02  Uniswap ENRH-NICA       ENRH     NICA       1     6  \n",
       "2021-06-02  Uniswap MIRU-LAWA       MIRU     LAWA       1     6  "
      ]
     },
     "execution_count": 39,
     "metadata": {},
     "output_type": "execute_result"
    }
   ],
   "source": [
    "trades_df.tail()"
   ]
  },
  {
   "cell_type": "code",
   "execution_count": 45,
   "metadata": {},
   "outputs": [],
   "source": [
    "trade_count_df = trades_df.groupby(by=(['month'])).count()"
   ]
  },
  {
   "cell_type": "code",
   "execution_count": 50,
   "metadata": {},
   "outputs": [
    {
     "data": {},
     "metadata": {},
     "output_type": "display_data"
    },
    {
     "data": {
      "application/vnd.holoviews_exec.v0+json": "",
      "text/html": [
       "<div id='2110'>\n",
       "\n",
       "\n",
       "\n",
       "\n",
       "\n",
       "  <div class=\"bk-root\" id=\"1d977e41-ac24-4f34-a366-babc833ead82\" data-root-id=\"2110\"></div>\n",
       "</div>\n",
       "<script type=\"application/javascript\">(function(root) {\n",
       "  function embed_document(root) {\n",
       "    var docs_json = {\"b51d5274-8a73-4b7f-958b-b7881d6cc378\":{\"roots\":{\"references\":[{\"attributes\":{\"line_alpha\":0.1,\"line_color\":\"#30a2da\",\"line_width\":2,\"x\":{\"field\":\"month\"},\"y\":{\"field\":\"Trades\"}},\"id\":\"2148\",\"type\":\"Line\"},{\"attributes\":{\"margin\":[5,5,5,5],\"name\":\"HSpacer03577\",\"sizing_mode\":\"stretch_width\"},\"id\":\"2111\",\"type\":\"Spacer\"},{\"attributes\":{},\"id\":\"2152\",\"type\":\"CategoricalTickFormatter\"},{\"attributes\":{\"text\":\"Trade counts per month\",\"text_color\":{\"value\":\"black\"},\"text_font_size\":{\"value\":\"12pt\"}},\"id\":\"2116\",\"type\":\"Title\"},{\"attributes\":{\"below\":[{\"id\":\"2124\"}],\"center\":[{\"id\":\"2126\"},{\"id\":\"2130\"}],\"left\":[{\"id\":\"2127\"}],\"margin\":[5,5,5,5],\"min_border_bottom\":10,\"min_border_left\":10,\"min_border_right\":10,\"min_border_top\":10,\"plot_height\":300,\"plot_width\":700,\"renderers\":[{\"id\":\"2150\"}],\"sizing_mode\":\"fixed\",\"title\":{\"id\":\"2116\"},\"toolbar\":{\"id\":\"2137\"},\"x_range\":{\"id\":\"2112\"},\"x_scale\":{\"id\":\"2120\"},\"y_range\":{\"id\":\"2113\"},\"y_scale\":{\"id\":\"2122\"}},\"id\":\"2115\",\"subtype\":\"Figure\",\"type\":\"Plot\"},{\"attributes\":{},\"id\":\"2131\",\"type\":\"SaveTool\"},{\"attributes\":{},\"id\":\"2132\",\"type\":\"PanTool\"},{\"attributes\":{\"line_color\":\"#30a2da\",\"line_width\":2,\"x\":{\"field\":\"month\"},\"y\":{\"field\":\"Trades\"}},\"id\":\"2147\",\"type\":\"Line\"},{\"attributes\":{},\"id\":\"2135\",\"type\":\"ResetTool\"},{\"attributes\":{},\"id\":\"2133\",\"type\":\"WheelZoomTool\"},{\"attributes\":{},\"id\":\"2145\",\"type\":\"Selection\"},{\"attributes\":{\"overlay\":{\"id\":\"2136\"}},\"id\":\"2134\",\"type\":\"BoxZoomTool\"},{\"attributes\":{\"line_alpha\":0.2,\"line_color\":\"#30a2da\",\"line_width\":2,\"x\":{\"field\":\"month\"},\"y\":{\"field\":\"Trades\"}},\"id\":\"2149\",\"type\":\"Line\"},{\"attributes\":{},\"id\":\"2120\",\"type\":\"CategoricalScale\"},{\"attributes\":{\"data\":{\"Trades\":[47225,31431,26083,20131,16948,1174],\"month\":[\"1\",\"2\",\"3\",\"4\",\"5\",\"6\"]},\"selected\":{\"id\":\"2145\"},\"selection_policy\":{\"id\":\"2162\"}},\"id\":\"2144\",\"type\":\"ColumnDataSource\"},{\"attributes\":{},\"id\":\"2162\",\"type\":\"UnionRenderers\"},{\"attributes\":{\"axis\":{\"id\":\"2124\"},\"grid_line_color\":null,\"ticker\":null},\"id\":\"2126\",\"type\":\"Grid\"},{\"attributes\":{},\"id\":\"2125\",\"type\":\"CategoricalTicker\"},{\"attributes\":{},\"id\":\"2122\",\"type\":\"LinearScale\"},{\"attributes\":{},\"id\":\"2154\",\"type\":\"BasicTickFormatter\"},{\"attributes\":{\"callback\":null,\"renderers\":[{\"id\":\"2150\"}],\"tags\":[\"hv_created\"],\"tooltips\":[[\"month\",\"@{month}\"],[\"Trades\",\"@{Trades}\"]]},\"id\":\"2114\",\"type\":\"HoverTool\"},{\"attributes\":{\"axis_label\":\"month\",\"bounds\":\"auto\",\"formatter\":{\"id\":\"2152\"},\"major_label_orientation\":\"horizontal\",\"ticker\":{\"id\":\"2125\"}},\"id\":\"2124\",\"type\":\"CategoricalAxis\"},{\"attributes\":{},\"id\":\"2128\",\"type\":\"BasicTicker\"},{\"attributes\":{\"axis\":{\"id\":\"2127\"},\"dimension\":1,\"grid_line_color\":null,\"ticker\":null},\"id\":\"2130\",\"type\":\"Grid\"},{\"attributes\":{\"axis_label\":\"\",\"bounds\":\"auto\",\"formatter\":{\"id\":\"2154\"},\"major_label_orientation\":\"horizontal\",\"ticker\":{\"id\":\"2128\"}},\"id\":\"2127\",\"type\":\"LinearAxis\"},{\"attributes\":{\"active_drag\":\"auto\",\"active_inspect\":\"auto\",\"active_multi\":null,\"active_scroll\":\"auto\",\"active_tap\":\"auto\",\"tools\":[{\"id\":\"2114\"},{\"id\":\"2131\"},{\"id\":\"2132\"},{\"id\":\"2133\"},{\"id\":\"2134\"},{\"id\":\"2135\"}]},\"id\":\"2137\",\"type\":\"Toolbar\"},{\"attributes\":{\"factors\":[\"1\",\"2\",\"3\",\"4\",\"5\",\"6\"],\"tags\":[[[\"month\",\"month\",null]]]},\"id\":\"2112\",\"type\":\"FactorRange\"},{\"attributes\":{\"children\":[{\"id\":\"2111\"},{\"id\":\"2115\"},{\"id\":\"2172\"}],\"margin\":[0,0,0,0],\"name\":\"Row03573\",\"tags\":[\"embedded\"]},\"id\":\"2110\",\"type\":\"Row\"},{\"attributes\":{\"end\":51830.1,\"reset_end\":51830.1,\"reset_start\":-3431.1000000000004,\"start\":-3431.1000000000004,\"tags\":[[[\"Trades\",\"Trades\",null]]]},\"id\":\"2113\",\"type\":\"Range1d\"},{\"attributes\":{\"source\":{\"id\":\"2144\"}},\"id\":\"2151\",\"type\":\"CDSView\"},{\"attributes\":{\"margin\":[5,5,5,5],\"name\":\"HSpacer03578\",\"sizing_mode\":\"stretch_width\"},\"id\":\"2172\",\"type\":\"Spacer\"},{\"attributes\":{\"bottom_units\":\"screen\",\"fill_alpha\":0.5,\"fill_color\":\"lightgrey\",\"left_units\":\"screen\",\"level\":\"overlay\",\"line_alpha\":1.0,\"line_color\":\"black\",\"line_dash\":[4,4],\"line_width\":2,\"right_units\":\"screen\",\"top_units\":\"screen\"},\"id\":\"2136\",\"type\":\"BoxAnnotation\"},{\"attributes\":{\"data_source\":{\"id\":\"2144\"},\"glyph\":{\"id\":\"2147\"},\"hover_glyph\":null,\"muted_glyph\":{\"id\":\"2149\"},\"nonselection_glyph\":{\"id\":\"2148\"},\"selection_glyph\":null,\"view\":{\"id\":\"2151\"}},\"id\":\"2150\",\"type\":\"GlyphRenderer\"}],\"root_ids\":[\"2110\"]},\"title\":\"Bokeh Application\",\"version\":\"2.2.3\"}};\n",
       "    var render_items = [{\"docid\":\"b51d5274-8a73-4b7f-958b-b7881d6cc378\",\"root_ids\":[\"2110\"],\"roots\":{\"2110\":\"1d977e41-ac24-4f34-a366-babc833ead82\"}}];\n",
       "    root.Bokeh.embed.embed_items_notebook(docs_json, render_items);\n",
       "  }\n",
       "  if (root.Bokeh !== undefined && root.Bokeh.Panel !== undefined) {\n",
       "    embed_document(root);\n",
       "  } else {\n",
       "    var attempts = 0;\n",
       "    var timer = setInterval(function(root) {\n",
       "      if (root.Bokeh !== undefined && root.Bokeh.Panel !== undefined) {\n",
       "        clearInterval(timer);\n",
       "        embed_document(root);\n",
       "      } else if (document.readyState == \"complete\") {\n",
       "        attempts++;\n",
       "        if (attempts > 100) {\n",
       "          clearInterval(timer);\n",
       "          console.log(\"Bokeh: ERROR: Unable to run BokehJS code because BokehJS library is missing\");\n",
       "        }\n",
       "      }\n",
       "    }, 10, root)\n",
       "  }\n",
       "})(window);</script>"
      ],
      "text/plain": [
       ":Curve   [month]   (Trades)"
      ]
     },
     "execution_count": 50,
     "metadata": {
      "application/vnd.holoviews_exec.v0+json": {
       "id": "2110"
      }
     },
     "output_type": "execute_result"
    }
   ],
   "source": [
    "trade_count_df['Trades'].hvplot(title='Trade counts per month')"
   ]
  },
  {
   "cell_type": "code",
   "execution_count": 75,
   "metadata": {},
   "outputs": [
    {
     "data": {},
     "metadata": {},
     "output_type": "display_data"
    },
    {
     "data": {
      "application/vnd.holoviews_exec.v0+json": "",
      "text/html": [
       "<div id='1613'>\n",
       "\n",
       "\n",
       "\n",
       "\n",
       "\n",
       "  <div class=\"bk-root\" id=\"ddef41fd-938d-4f97-91f9-9daf3979de38\" data-root-id=\"1613\"></div>\n",
       "</div>\n",
       "<script type=\"application/javascript\">(function(root) {\n",
       "  function embed_document(root) {\n",
       "    var docs_json = {\"4e58e719-2a0f-4095-8e7f-7b9748702cf7\":{\"roots\":{\"references\":[{\"attributes\":{},\"id\":\"1638\",\"type\":\"ResetTool\"},{\"attributes\":{\"text\":\"Total trades by month for 2021\",\"text_color\":{\"value\":\"black\"},\"text_font_size\":{\"value\":\"12pt\"}},\"id\":\"1619\",\"type\":\"Title\"},{\"attributes\":{},\"id\":\"1636\",\"type\":\"WheelZoomTool\"},{\"attributes\":{\"format\":\"%.0f\"},\"id\":\"1655\",\"type\":\"PrintfTickFormatter\"},{\"attributes\":{\"overlay\":{\"id\":\"1639\"}},\"id\":\"1637\",\"type\":\"BoxZoomTool\"},{\"attributes\":{\"data\":{\"ToSymbol\":[\"DAI\",\"DAI\",\"DAI\",\"DAI\",\"DAI\",\"DAI\",\"ENRH\",\"ENRH\",\"HBTC\",\"HBTC\",\"HBTC\",\"HBTC\",\"HBTC\",\"HBTC\",\"LAWA\",\"LAWA\",\"LAWA\",\"MIRU\",\"NICA\",\"NICA\",\"NICA\",\"NICA\",\"NICA\",\"NICA\",\"TUSD\",\"TUSD\",\"TUSD\",\"TUSD\",\"TUSD\",\"TUSD\",\"USDC\",\"USDC\",\"USDC\",\"USDC\",\"USDC\",\"USDC\",\"USDT\",\"USDT\",\"USDT\",\"USDT\",\"USDT\",\"USDT\",\"WBTC\",\"WBTC\",\"WBTC\",\"WBTC\",\"WBTC\",\"WBTC\",\"WETH\",\"WETH\",\"WETH\",\"WETH\",\"WETH\",\"WETH\",\"WISE\",\"WISE\",\"renBTC\",\"renBTC\",\"renBTC\",\"renBTC\",\"renBTC\",\"renBTC\",\"sUSD\",\"sUSD\",\"sUSD\",\"yDAI\",\"yDAI\",\"yDAI\",\"yTUSD\",\"yTUSD\",\"yTUSD\",\"yTUSD\",\"yTUSD\",\"yTUSD\",\"yUSDC\",\"yUSDC\",\"yUSDC\",\"yUSDC\",\"yUSDC\",\"yUSDC\",\"yUSDT\",\"yUSDT\"],\"Trades\":[5997026,4946957,3376986,1691805,2478363,137469,33,11,6713,4541,19452,4390,11591,144,1,9,1,23,2,3,6,111,45,1,37537,4971,2686,841,2695,330,6069165,4934571,2685084,1104477,2239976,235254,10951071,9023778,8485554,6607491,3283386,222345,958044,392368,195645,342106,1926113,31396,10360506,5718845,5645904,5228373,2279825,46512,5131203,325538,124181,71268,81797,45506,53178,2340,2061817,1400500,520951,1021,62,48,3459,435,810,540,159,99,1032,190,136,107,70,33,182,112]},\"selected\":{\"id\":\"1648\"},\"selection_policy\":{\"id\":\"1668\"}},\"id\":\"1647\",\"type\":\"ColumnDataSource\"},{\"attributes\":{},\"id\":\"1668\",\"type\":\"UnionRenderers\"},{\"attributes\":{\"margin\":[5,5,5,5],\"name\":\"HSpacer02613\",\"sizing_mode\":\"stretch_width\"},\"id\":\"1676\",\"type\":\"Spacer\"},{\"attributes\":{\"data_source\":{\"id\":\"1647\"},\"glyph\":{\"id\":\"1650\"},\"hover_glyph\":null,\"muted_glyph\":{\"id\":\"1652\"},\"nonselection_glyph\":{\"id\":\"1651\"},\"selection_glyph\":null,\"view\":{\"id\":\"1654\"}},\"id\":\"1653\",\"type\":\"GlyphRenderer\"},{\"attributes\":{\"factors\":[\"DAI\",\"ENRH\",\"HBTC\",\"LAWA\",\"MIRU\",\"NICA\",\"TUSD\",\"USDC\",\"USDT\",\"WBTC\",\"WETH\",\"WISE\",\"renBTC\",\"sUSD\",\"yDAI\",\"yTUSD\",\"yUSDC\",\"yUSDT\"],\"tags\":[[[\"ToSymbol\",\"ToSymbol\",null]]]},\"id\":\"1615\",\"type\":\"FactorRange\"},{\"attributes\":{\"line_alpha\":0.2,\"line_color\":\"#30a2da\",\"line_width\":2,\"x\":{\"field\":\"ToSymbol\"},\"y\":{\"field\":\"Trades\"}},\"id\":\"1652\",\"type\":\"Line\"},{\"attributes\":{},\"id\":\"1628\",\"type\":\"CategoricalTicker\"},{\"attributes\":{},\"id\":\"1631\",\"type\":\"BasicTicker\"},{\"attributes\":{},\"id\":\"1625\",\"type\":\"LinearScale\"},{\"attributes\":{\"callback\":null,\"renderers\":[{\"id\":\"1653\"}],\"tags\":[\"hv_created\"],\"tooltips\":[[\"ToSymbol\",\"@{ToSymbol}\"],[\"Trades\",\"@{Trades}\"]]},\"id\":\"1617\",\"type\":\"HoverTool\"},{\"attributes\":{\"axis\":{\"id\":\"1630\"},\"dimension\":1,\"grid_line_color\":null,\"ticker\":null},\"id\":\"1633\",\"type\":\"Grid\"},{\"attributes\":{},\"id\":\"1623\",\"type\":\"CategoricalScale\"},{\"attributes\":{\"axis\":{\"id\":\"1627\"},\"grid_line_color\":null,\"ticker\":null},\"id\":\"1629\",\"type\":\"Grid\"},{\"attributes\":{\"axis_label\":\"Trades\",\"bounds\":\"auto\",\"formatter\":{\"id\":\"1655\"},\"major_label_orientation\":\"horizontal\",\"ticker\":{\"id\":\"1631\"}},\"id\":\"1630\",\"type\":\"LinearAxis\"},{\"attributes\":{\"active_drag\":\"auto\",\"active_inspect\":\"auto\",\"active_multi\":null,\"active_scroll\":\"auto\",\"active_tap\":\"auto\",\"tools\":[{\"id\":\"1617\"},{\"id\":\"1634\"},{\"id\":\"1635\"},{\"id\":\"1636\"},{\"id\":\"1637\"},{\"id\":\"1638\"}]},\"id\":\"1640\",\"type\":\"Toolbar\"},{\"attributes\":{\"axis_label\":\"ToSymbol\",\"bounds\":\"auto\",\"formatter\":{\"id\":\"1656\"},\"major_label_orientation\":1.5707963267948966,\"ticker\":{\"id\":\"1628\"}},\"id\":\"1627\",\"type\":\"CategoricalAxis\"},{\"attributes\":{\"children\":[{\"id\":\"1614\"},{\"id\":\"1618\"},{\"id\":\"1676\"}],\"margin\":[0,0,0,0],\"name\":\"Row02608\",\"tags\":[\"embedded\"]},\"id\":\"1613\",\"type\":\"Row\"},{\"attributes\":{\"end\":12046178.0,\"reset_end\":12046178.0,\"reset_start\":-1095106.0,\"start\":-1095106.0,\"tags\":[[[\"Trades\",\"Trades\",null]]]},\"id\":\"1616\",\"type\":\"Range1d\"},{\"attributes\":{},\"id\":\"1656\",\"type\":\"CategoricalTickFormatter\"},{\"attributes\":{\"bottom_units\":\"screen\",\"fill_alpha\":0.5,\"fill_color\":\"lightgrey\",\"left_units\":\"screen\",\"level\":\"overlay\",\"line_alpha\":1.0,\"line_color\":\"black\",\"line_dash\":[4,4],\"line_width\":2,\"right_units\":\"screen\",\"top_units\":\"screen\"},\"id\":\"1639\",\"type\":\"BoxAnnotation\"},{\"attributes\":{\"source\":{\"id\":\"1647\"}},\"id\":\"1654\",\"type\":\"CDSView\"},{\"attributes\":{\"line_alpha\":0.1,\"line_color\":\"#30a2da\",\"line_width\":2,\"x\":{\"field\":\"ToSymbol\"},\"y\":{\"field\":\"Trades\"}},\"id\":\"1651\",\"type\":\"Line\"},{\"attributes\":{},\"id\":\"1648\",\"type\":\"Selection\"},{\"attributes\":{\"below\":[{\"id\":\"1627\"}],\"center\":[{\"id\":\"1629\"},{\"id\":\"1633\"}],\"left\":[{\"id\":\"1630\"}],\"margin\":[5,5,5,5],\"min_border_bottom\":10,\"min_border_left\":10,\"min_border_right\":10,\"min_border_top\":10,\"plot_height\":300,\"plot_width\":700,\"renderers\":[{\"id\":\"1653\"}],\"sizing_mode\":\"fixed\",\"title\":{\"id\":\"1619\"},\"toolbar\":{\"id\":\"1640\"},\"x_range\":{\"id\":\"1615\"},\"x_scale\":{\"id\":\"1623\"},\"y_range\":{\"id\":\"1616\"},\"y_scale\":{\"id\":\"1625\"}},\"id\":\"1618\",\"subtype\":\"Figure\",\"type\":\"Plot\"},{\"attributes\":{\"margin\":[5,5,5,5],\"name\":\"HSpacer02612\",\"sizing_mode\":\"stretch_width\"},\"id\":\"1614\",\"type\":\"Spacer\"},{\"attributes\":{\"line_color\":\"#30a2da\",\"line_width\":2,\"x\":{\"field\":\"ToSymbol\"},\"y\":{\"field\":\"Trades\"}},\"id\":\"1650\",\"type\":\"Line\"},{\"attributes\":{},\"id\":\"1634\",\"type\":\"SaveTool\"},{\"attributes\":{},\"id\":\"1635\",\"type\":\"PanTool\"}],\"root_ids\":[\"1613\"]},\"title\":\"Bokeh Application\",\"version\":\"2.2.3\"}};\n",
       "    var render_items = [{\"docid\":\"4e58e719-2a0f-4095-8e7f-7b9748702cf7\",\"root_ids\":[\"1613\"],\"roots\":{\"1613\":\"ddef41fd-938d-4f97-91f9-9daf3979de38\"}}];\n",
       "    root.Bokeh.embed.embed_items_notebook(docs_json, render_items);\n",
       "  }\n",
       "  if (root.Bokeh !== undefined && root.Bokeh.Panel !== undefined) {\n",
       "    embed_document(root);\n",
       "  } else {\n",
       "    var attempts = 0;\n",
       "    var timer = setInterval(function(root) {\n",
       "      if (root.Bokeh !== undefined && root.Bokeh.Panel !== undefined) {\n",
       "        clearInterval(timer);\n",
       "        embed_document(root);\n",
       "      } else if (document.readyState == \"complete\") {\n",
       "        attempts++;\n",
       "        if (attempts > 100) {\n",
       "          clearInterval(timer);\n",
       "          console.log(\"Bokeh: ERROR: Unable to run BokehJS code because BokehJS library is missing\");\n",
       "        }\n",
       "      }\n",
       "    }, 10, root)\n",
       "  }\n",
       "})(window);</script>"
      ],
      "text/plain": [
       ":Curve   [ToSymbol]   (Trades)"
      ]
     },
     "execution_count": 75,
     "metadata": {
      "application/vnd.holoviews_exec.v0+json": {
       "id": "1613"
      }
     },
     "output_type": "execute_result"
    }
   ],
   "source": [
    "trades_df.groupby(by=['ToSymbol','month']).sum().hvplot(figsize=(20,10), title='Total trades by month for 2021', yformatter='%.0f', rot=90)"
   ]
  },
  {
   "cell_type": "code",
   "execution_count": null,
   "metadata": {},
   "outputs": [],
   "source": []
  },
  {
   "cell_type": "code",
   "execution_count": 84,
   "metadata": {},
   "outputs": [],
   "source": [
    "DAI_df = trades_df[trades_df['ToSymbol'] == 'NICA']"
   ]
  },
  {
   "cell_type": "code",
   "execution_count": 85,
   "metadata": {},
   "outputs": [
    {
     "data": {
      "text/html": [
       "<div>\n",
       "<style scoped>\n",
       "    .dataframe tbody tr th:only-of-type {\n",
       "        vertical-align: middle;\n",
       "    }\n",
       "\n",
       "    .dataframe tbody tr th {\n",
       "        vertical-align: top;\n",
       "    }\n",
       "\n",
       "    .dataframe thead th {\n",
       "        text-align: right;\n",
       "    }\n",
       "</style>\n",
       "<table border=\"1\" class=\"dataframe\">\n",
       "  <thead>\n",
       "    <tr style=\"text-align: right;\">\n",
       "      <th></th>\n",
       "      <th>Exchange</th>\n",
       "      <th>Platform</th>\n",
       "      <th>Pool</th>\n",
       "      <th>FromSymbol</th>\n",
       "      <th>ToSymbol</th>\n",
       "      <th>Trades</th>\n",
       "      <th>month</th>\n",
       "    </tr>\n",
       "    <tr>\n",
       "      <th>date</th>\n",
       "      <th></th>\n",
       "      <th></th>\n",
       "      <th></th>\n",
       "      <th></th>\n",
       "      <th></th>\n",
       "      <th></th>\n",
       "      <th></th>\n",
       "    </tr>\n",
       "  </thead>\n",
       "  <tbody>\n",
       "  </tbody>\n",
       "</table>\n",
       "</div>"
      ],
      "text/plain": [
       "Empty DataFrame\n",
       "Columns: [Exchange, Platform, Pool, FromSymbol, ToSymbol, Trades, month]\n",
       "Index: []"
      ]
     },
     "execution_count": 85,
     "metadata": {},
     "output_type": "execute_result"
    }
   ],
   "source": [
    "DAI_df"
   ]
  },
  {
   "cell_type": "code",
   "execution_count": 67,
   "metadata": {},
   "outputs": [],
   "source": [
    "to_amount_df = exchange_trades_file_df.drop(columns=['FromAmount', 'Trades', 'Price'])"
   ]
  },
  {
   "cell_type": "code",
   "execution_count": 68,
   "metadata": {},
   "outputs": [
    {
     "data": {
      "text/html": [
       "<div>\n",
       "<style scoped>\n",
       "    .dataframe tbody tr th:only-of-type {\n",
       "        vertical-align: middle;\n",
       "    }\n",
       "\n",
       "    .dataframe tbody tr th {\n",
       "        vertical-align: top;\n",
       "    }\n",
       "\n",
       "    .dataframe thead th {\n",
       "        text-align: right;\n",
       "    }\n",
       "</style>\n",
       "<table border=\"1\" class=\"dataframe\">\n",
       "  <thead>\n",
       "    <tr style=\"text-align: right;\">\n",
       "      <th></th>\n",
       "      <th>Exchange</th>\n",
       "      <th>Platform</th>\n",
       "      <th>Pool</th>\n",
       "      <th>ToAmount</th>\n",
       "      <th>FromSymbol</th>\n",
       "      <th>ToSymbol</th>\n",
       "      <th>month</th>\n",
       "    </tr>\n",
       "    <tr>\n",
       "      <th>date</th>\n",
       "      <th></th>\n",
       "      <th></th>\n",
       "      <th></th>\n",
       "      <th></th>\n",
       "      <th></th>\n",
       "      <th></th>\n",
       "      <th></th>\n",
       "    </tr>\n",
       "  </thead>\n",
       "  <tbody>\n",
       "    <tr>\n",
       "      <th>2021-01-03</th>\n",
       "      <td>0x1eff8af5d577060ba4ac8a29a13525bb0ee2a3d5</td>\n",
       "      <td>Balancer</td>\n",
       "      <td>Balancer WBTC-WETH</td>\n",
       "      <td>1.023</td>\n",
       "      <td>WETH</td>\n",
       "      <td>WBTC</td>\n",
       "      <td>1</td>\n",
       "    </tr>\n",
       "    <tr>\n",
       "      <th>2021-01-03</th>\n",
       "      <td>0x1eff8af5d577060ba4ac8a29a13525bb0ee2a3d5</td>\n",
       "      <td>Balancer</td>\n",
       "      <td>Balancer WBTC-WETH</td>\n",
       "      <td>2.058</td>\n",
       "      <td>WETH</td>\n",
       "      <td>WBTC</td>\n",
       "      <td>1</td>\n",
       "    </tr>\n",
       "    <tr>\n",
       "      <th>2021-01-03</th>\n",
       "      <td>0x1eff8af5d577060ba4ac8a29a13525bb0ee2a3d5</td>\n",
       "      <td>Balancer</td>\n",
       "      <td>Balancer WBTC-WETH</td>\n",
       "      <td>3.057</td>\n",
       "      <td>WETH</td>\n",
       "      <td>WBTC</td>\n",
       "      <td>1</td>\n",
       "    </tr>\n",
       "    <tr>\n",
       "      <th>2021-01-03</th>\n",
       "      <td>0x1eff8af5d577060ba4ac8a29a13525bb0ee2a3d5</td>\n",
       "      <td>Balancer</td>\n",
       "      <td>Balancer WBTC-WETH</td>\n",
       "      <td>6.103</td>\n",
       "      <td>WETH</td>\n",
       "      <td>WBTC</td>\n",
       "      <td>1</td>\n",
       "    </tr>\n",
       "    <tr>\n",
       "      <th>2021-01-03</th>\n",
       "      <td>0x1eff8af5d577060ba4ac8a29a13525bb0ee2a3d5</td>\n",
       "      <td>Balancer</td>\n",
       "      <td>Balancer WBTC-WETH</td>\n",
       "      <td>2.981</td>\n",
       "      <td>WETH</td>\n",
       "      <td>WBTC</td>\n",
       "      <td>1</td>\n",
       "    </tr>\n",
       "  </tbody>\n",
       "</table>\n",
       "</div>"
      ],
      "text/plain": [
       "                                              Exchange  Platform  \\\n",
       "date                                                               \n",
       "2021-01-03  0x1eff8af5d577060ba4ac8a29a13525bb0ee2a3d5  Balancer   \n",
       "2021-01-03  0x1eff8af5d577060ba4ac8a29a13525bb0ee2a3d5  Balancer   \n",
       "2021-01-03  0x1eff8af5d577060ba4ac8a29a13525bb0ee2a3d5  Balancer   \n",
       "2021-01-03  0x1eff8af5d577060ba4ac8a29a13525bb0ee2a3d5  Balancer   \n",
       "2021-01-03  0x1eff8af5d577060ba4ac8a29a13525bb0ee2a3d5  Balancer   \n",
       "\n",
       "                          Pool  ToAmount FromSymbol ToSymbol month  \n",
       "date                                                                \n",
       "2021-01-03  Balancer WBTC-WETH     1.023       WETH     WBTC     1  \n",
       "2021-01-03  Balancer WBTC-WETH     2.058       WETH     WBTC     1  \n",
       "2021-01-03  Balancer WBTC-WETH     3.057       WETH     WBTC     1  \n",
       "2021-01-03  Balancer WBTC-WETH     6.103       WETH     WBTC     1  \n",
       "2021-01-03  Balancer WBTC-WETH     2.981       WETH     WBTC     1  "
      ]
     },
     "execution_count": 68,
     "metadata": {},
     "output_type": "execute_result"
    }
   ],
   "source": [
    "to_amount_df.head()"
   ]
  },
  {
   "cell_type": "code",
   "execution_count": 73,
   "metadata": {},
   "outputs": [
    {
     "data": {},
     "metadata": {},
     "output_type": "display_data"
    },
    {
     "data": {
      "application/vnd.holoviews_exec.v0+json": "",
      "text/html": [
       "<div id='1413'>\n",
       "\n",
       "\n",
       "\n",
       "\n",
       "\n",
       "  <div class=\"bk-root\" id=\"4f21b250-627f-4505-abcb-b29aadf855cb\" data-root-id=\"1413\"></div>\n",
       "</div>\n",
       "<script type=\"application/javascript\">(function(root) {\n",
       "  function embed_document(root) {\n",
       "    var docs_json = {\"a44b5fc9-884d-4497-9cd0-70af104a1ab9\":{\"roots\":{\"references\":[{\"attributes\":{},\"id\":\"1456\",\"type\":\"CategoricalTickFormatter\"},{\"attributes\":{\"source\":{\"id\":\"1447\"}},\"id\":\"1454\",\"type\":\"CDSView\"},{\"attributes\":{\"line_alpha\":0.2,\"line_color\":\"#30a2da\",\"line_width\":2,\"x\":{\"field\":\"month\"},\"y\":{\"field\":\"ToAmount\"}},\"id\":\"1452\",\"type\":\"Line\"},{\"attributes\":{\"data\":{\"ToAmount\":{\"__ndarray__\":\"lcSlFQDJx0KkoMIqG0TpQYdRyIKhFfBBo0g/afkYvULzgGCZjeC0QoyM7laXUK9B\",\"dtype\":\"float64\",\"order\":\"little\",\"shape\":[6]},\"month\":[\"1\",\"2\",\"3\",\"4\",\"5\",\"6\"]},\"selected\":{\"id\":\"1448\"},\"selection_policy\":{\"id\":\"1468\"}},\"id\":\"1447\",\"type\":\"ColumnDataSource\"},{\"attributes\":{},\"id\":\"1448\",\"type\":\"Selection\"},{\"attributes\":{\"text\":\"Total To Amount by month for 2021\",\"text_color\":{\"value\":\"black\"},\"text_font_size\":{\"value\":\"12pt\"}},\"id\":\"1419\",\"type\":\"Title\"},{\"attributes\":{},\"id\":\"1434\",\"type\":\"SaveTool\"},{\"attributes\":{},\"id\":\"1435\",\"type\":\"PanTool\"},{\"attributes\":{\"line_color\":\"#30a2da\",\"line_width\":2,\"x\":{\"field\":\"month\"},\"y\":{\"field\":\"ToAmount\"}},\"id\":\"1450\",\"type\":\"Line\"},{\"attributes\":{},\"id\":\"1438\",\"type\":\"ResetTool\"},{\"attributes\":{\"factors\":[\"1\",\"2\",\"3\",\"4\",\"5\",\"6\"],\"tags\":[[[\"month\",\"month\",null]]]},\"id\":\"1415\",\"type\":\"FactorRange\"},{\"attributes\":{},\"id\":\"1436\",\"type\":\"WheelZoomTool\"},{\"attributes\":{\"format\":\"%.0f\"},\"id\":\"1455\",\"type\":\"PrintfTickFormatter\"},{\"attributes\":{\"overlay\":{\"id\":\"1439\"}},\"id\":\"1437\",\"type\":\"BoxZoomTool\"},{\"attributes\":{\"data_source\":{\"id\":\"1447\"},\"glyph\":{\"id\":\"1450\"},\"hover_glyph\":null,\"muted_glyph\":{\"id\":\"1452\"},\"nonselection_glyph\":{\"id\":\"1451\"},\"selection_glyph\":null,\"view\":{\"id\":\"1454\"}},\"id\":\"1453\",\"type\":\"GlyphRenderer\"},{\"attributes\":{},\"id\":\"1425\",\"type\":\"LinearScale\"},{\"attributes\":{\"callback\":null,\"renderers\":[{\"id\":\"1453\"}],\"tags\":[\"hv_created\"],\"tooltips\":[[\"month\",\"@{month}\"],[\"ToAmount\",\"@{ToAmount}\"]]},\"id\":\"1417\",\"type\":\"HoverTool\"},{\"attributes\":{},\"id\":\"1428\",\"type\":\"CategoricalTicker\"},{\"attributes\":{\"axis_label\":\"month\",\"bounds\":\"auto\",\"formatter\":{\"id\":\"1456\"},\"major_label_orientation\":\"horizontal\",\"ticker\":{\"id\":\"1428\"}},\"id\":\"1427\",\"type\":\"CategoricalAxis\"},{\"attributes\":{},\"id\":\"1468\",\"type\":\"UnionRenderers\"},{\"attributes\":{\"margin\":[5,5,5,5],\"name\":\"HSpacer02253\",\"sizing_mode\":\"stretch_width\"},\"id\":\"1476\",\"type\":\"Spacer\"},{\"attributes\":{\"axis\":{\"id\":\"1427\"},\"grid_line_color\":null,\"ticker\":null},\"id\":\"1429\",\"type\":\"Grid\"},{\"attributes\":{},\"id\":\"1423\",\"type\":\"CategoricalScale\"},{\"attributes\":{\"axis_label\":\"ToAmount\",\"bounds\":\"auto\",\"formatter\":{\"id\":\"1455\"},\"major_label_orientation\":\"horizontal\",\"ticker\":{\"id\":\"1431\"}},\"id\":\"1430\",\"type\":\"LinearAxis\"},{\"attributes\":{},\"id\":\"1431\",\"type\":\"BasicTicker\"},{\"attributes\":{\"children\":[{\"id\":\"1414\"},{\"id\":\"1418\"},{\"id\":\"1476\"}],\"margin\":[0,0,0,0],\"name\":\"Row02248\",\"tags\":[\"embedded\"]},\"id\":\"1413\",\"type\":\"Row\"},{\"attributes\":{\"end\":57534499756114.53,\"reset_end\":57534499756114.53,\"reset_start\":-5230122500381.904,\"start\":-5230122500381.904,\"tags\":[[[\"ToAmount\",\"ToAmount\",null]]]},\"id\":\"1416\",\"type\":\"Range1d\"},{\"attributes\":{\"axis\":{\"id\":\"1430\"},\"dimension\":1,\"grid_line_color\":null,\"ticker\":null},\"id\":\"1433\",\"type\":\"Grid\"},{\"attributes\":{\"active_drag\":\"auto\",\"active_inspect\":\"auto\",\"active_multi\":null,\"active_scroll\":\"auto\",\"active_tap\":\"auto\",\"tools\":[{\"id\":\"1417\"},{\"id\":\"1434\"},{\"id\":\"1435\"},{\"id\":\"1436\"},{\"id\":\"1437\"},{\"id\":\"1438\"}]},\"id\":\"1440\",\"type\":\"Toolbar\"},{\"attributes\":{\"below\":[{\"id\":\"1427\"}],\"center\":[{\"id\":\"1429\"},{\"id\":\"1433\"}],\"left\":[{\"id\":\"1430\"}],\"margin\":[5,5,5,5],\"min_border_bottom\":10,\"min_border_left\":10,\"min_border_right\":10,\"min_border_top\":10,\"plot_height\":300,\"plot_width\":700,\"renderers\":[{\"id\":\"1453\"}],\"sizing_mode\":\"fixed\",\"title\":{\"id\":\"1419\"},\"toolbar\":{\"id\":\"1440\"},\"x_range\":{\"id\":\"1415\"},\"x_scale\":{\"id\":\"1423\"},\"y_range\":{\"id\":\"1416\"},\"y_scale\":{\"id\":\"1425\"}},\"id\":\"1418\",\"subtype\":\"Figure\",\"type\":\"Plot\"},{\"attributes\":{\"bottom_units\":\"screen\",\"fill_alpha\":0.5,\"fill_color\":\"lightgrey\",\"left_units\":\"screen\",\"level\":\"overlay\",\"line_alpha\":1.0,\"line_color\":\"black\",\"line_dash\":[4,4],\"line_width\":2,\"right_units\":\"screen\",\"top_units\":\"screen\"},\"id\":\"1439\",\"type\":\"BoxAnnotation\"},{\"attributes\":{\"margin\":[5,5,5,5],\"name\":\"HSpacer02252\",\"sizing_mode\":\"stretch_width\"},\"id\":\"1414\",\"type\":\"Spacer\"},{\"attributes\":{\"line_alpha\":0.1,\"line_color\":\"#30a2da\",\"line_width\":2,\"x\":{\"field\":\"month\"},\"y\":{\"field\":\"ToAmount\"}},\"id\":\"1451\",\"type\":\"Line\"}],\"root_ids\":[\"1413\"]},\"title\":\"Bokeh Application\",\"version\":\"2.2.3\"}};\n",
       "    var render_items = [{\"docid\":\"a44b5fc9-884d-4497-9cd0-70af104a1ab9\",\"root_ids\":[\"1413\"],\"roots\":{\"1413\":\"4f21b250-627f-4505-abcb-b29aadf855cb\"}}];\n",
       "    root.Bokeh.embed.embed_items_notebook(docs_json, render_items);\n",
       "  }\n",
       "  if (root.Bokeh !== undefined && root.Bokeh.Panel !== undefined) {\n",
       "    embed_document(root);\n",
       "  } else {\n",
       "    var attempts = 0;\n",
       "    var timer = setInterval(function(root) {\n",
       "      if (root.Bokeh !== undefined && root.Bokeh.Panel !== undefined) {\n",
       "        clearInterval(timer);\n",
       "        embed_document(root);\n",
       "      } else if (document.readyState == \"complete\") {\n",
       "        attempts++;\n",
       "        if (attempts > 100) {\n",
       "          clearInterval(timer);\n",
       "          console.log(\"Bokeh: ERROR: Unable to run BokehJS code because BokehJS library is missing\");\n",
       "        }\n",
       "      }\n",
       "    }, 10, root)\n",
       "  }\n",
       "})(window);</script>"
      ],
      "text/plain": [
       ":Curve   [month]   (ToAmount)"
      ]
     },
     "execution_count": 73,
     "metadata": {
      "application/vnd.holoviews_exec.v0+json": {
       "id": "1413"
      }
     },
     "output_type": "execute_result"
    }
   ],
   "source": [
    "to_amount_df.groupby(by=['month']).sum().hvplot(figsize=(20,10), title='Total To Amount by month for 2021', yformatter='%.0f')"
   ]
  },
  {
   "cell_type": "code",
   "execution_count": 65,
   "metadata": {},
   "outputs": [],
   "source": [
    "pool_sum_df = exchange_trades_file_df.groupby(by=['Pool']).sum()"
   ]
  },
  {
   "cell_type": "code",
   "execution_count": 66,
   "metadata": {},
   "outputs": [
    {
     "data": {
      "text/html": [
       "<div>\n",
       "<style scoped>\n",
       "    .dataframe tbody tr th:only-of-type {\n",
       "        vertical-align: middle;\n",
       "    }\n",
       "\n",
       "    .dataframe tbody tr th {\n",
       "        vertical-align: top;\n",
       "    }\n",
       "\n",
       "    .dataframe thead th {\n",
       "        text-align: right;\n",
       "    }\n",
       "</style>\n",
       "<table border=\"1\" class=\"dataframe\">\n",
       "  <thead>\n",
       "    <tr style=\"text-align: right;\">\n",
       "      <th></th>\n",
       "      <th>FromAmount</th>\n",
       "      <th>ToAmount</th>\n",
       "      <th>Price</th>\n",
       "      <th>Trades</th>\n",
       "    </tr>\n",
       "    <tr>\n",
       "      <th>Pool</th>\n",
       "      <th></th>\n",
       "      <th></th>\n",
       "      <th></th>\n",
       "      <th></th>\n",
       "    </tr>\n",
       "  </thead>\n",
       "  <tbody>\n",
       "    <tr>\n",
       "      <th>Balancer WBTC-WETH</th>\n",
       "      <td>403860.141</td>\n",
       "      <td>440724.118</td>\n",
       "      <td>164437.859</td>\n",
       "      <td>6342805</td>\n",
       "    </tr>\n",
       "    <tr>\n",
       "      <th>Curve</th>\n",
       "      <td>14964261525.446</td>\n",
       "      <td>14958092996.132</td>\n",
       "      <td>41295.783</td>\n",
       "      <td>35434359</td>\n",
       "    </tr>\n",
       "    <tr>\n",
       "      <th>Curve HBTC</th>\n",
       "      <td>35227.689</td>\n",
       "      <td>35219.091</td>\n",
       "      <td>2074.556</td>\n",
       "      <td>106031</td>\n",
       "    </tr>\n",
       "    <tr>\n",
       "      <th>Curve Y</th>\n",
       "      <td>1884596144.571</td>\n",
       "      <td>1884450532.378</td>\n",
       "      <td>2675.450</td>\n",
       "      <td>288699</td>\n",
       "    </tr>\n",
       "    <tr>\n",
       "      <th>Curve renBTC</th>\n",
       "      <td>64271.790</td>\n",
       "      <td>64259.841</td>\n",
       "      <td>6807.061</td>\n",
       "      <td>1056863</td>\n",
       "    </tr>\n",
       "    <tr>\n",
       "      <th>Curve sUSD</th>\n",
       "      <td>2013167943.534</td>\n",
       "      <td>2012554202.524</td>\n",
       "      <td>22634.708</td>\n",
       "      <td>22331523</td>\n",
       "    </tr>\n",
       "    <tr>\n",
       "      <th>Uniswap ENRH-NICA</th>\n",
       "      <td>87541732919710.984</td>\n",
       "      <td>107225930949838.234</td>\n",
       "      <td>12460.356</td>\n",
       "      <td>212</td>\n",
       "    </tr>\n",
       "    <tr>\n",
       "      <th>Uniswap MIRU-LAWA</th>\n",
       "      <td>1103012865.290</td>\n",
       "      <td>9886657714.120</td>\n",
       "      <td>59.969</td>\n",
       "      <td>34</td>\n",
       "    </tr>\n",
       "    <tr>\n",
       "      <th>Uniswap WETH-USDT</th>\n",
       "      <td>227091527.157</td>\n",
       "      <td>217422363.476</td>\n",
       "      <td>36495434.699</td>\n",
       "      <td>41000000</td>\n",
       "    </tr>\n",
       "    <tr>\n",
       "      <th>Uniswap WISE-WETH</th>\n",
       "      <td>82109061.526</td>\n",
       "      <td>56101110.954</td>\n",
       "      <td>14830365.267</td>\n",
       "      <td>10958780</td>\n",
       "    </tr>\n",
       "  </tbody>\n",
       "</table>\n",
       "</div>"
      ],
      "text/plain": [
       "                           FromAmount            ToAmount        Price  \\\n",
       "Pool                                                                     \n",
       "Balancer WBTC-WETH         403860.141          440724.118   164437.859   \n",
       "Curve                 14964261525.446     14958092996.132    41295.783   \n",
       "Curve HBTC                  35227.689           35219.091     2074.556   \n",
       "Curve Y                1884596144.571      1884450532.378     2675.450   \n",
       "Curve renBTC                64271.790           64259.841     6807.061   \n",
       "Curve sUSD             2013167943.534      2012554202.524    22634.708   \n",
       "Uniswap ENRH-NICA  87541732919710.984 107225930949838.234    12460.356   \n",
       "Uniswap MIRU-LAWA      1103012865.290      9886657714.120       59.969   \n",
       "Uniswap WETH-USDT       227091527.157       217422363.476 36495434.699   \n",
       "Uniswap WISE-WETH        82109061.526        56101110.954 14830365.267   \n",
       "\n",
       "                      Trades  \n",
       "Pool                          \n",
       "Balancer WBTC-WETH   6342805  \n",
       "Curve               35434359  \n",
       "Curve HBTC            106031  \n",
       "Curve Y               288699  \n",
       "Curve renBTC         1056863  \n",
       "Curve sUSD          22331523  \n",
       "Uniswap ENRH-NICA        212  \n",
       "Uniswap MIRU-LAWA         34  \n",
       "Uniswap WETH-USDT   41000000  \n",
       "Uniswap WISE-WETH   10958780  "
      ]
     },
     "execution_count": 66,
     "metadata": {},
     "output_type": "execute_result"
    }
   ],
   "source": [
    "pool_sum_df.round(2)\n",
    "pool_sum_df"
   ]
  },
  {
   "cell_type": "code",
   "execution_count": 67,
   "metadata": {},
   "outputs": [],
   "source": [
    "platform_sum_df = exchange_trades_file_df.groupby(by=['Platform']).sum()"
   ]
  },
  {
   "cell_type": "code",
   "execution_count": 68,
   "metadata": {},
   "outputs": [
    {
     "data": {
      "text/html": [
       "<div>\n",
       "<style scoped>\n",
       "    .dataframe tbody tr th:only-of-type {\n",
       "        vertical-align: middle;\n",
       "    }\n",
       "\n",
       "    .dataframe tbody tr th {\n",
       "        vertical-align: top;\n",
       "    }\n",
       "\n",
       "    .dataframe thead th {\n",
       "        text-align: right;\n",
       "    }\n",
       "</style>\n",
       "<table border=\"1\" class=\"dataframe\">\n",
       "  <thead>\n",
       "    <tr style=\"text-align: right;\">\n",
       "      <th></th>\n",
       "      <th>FromAmount</th>\n",
       "      <th>ToAmount</th>\n",
       "      <th>Price</th>\n",
       "      <th>Trades</th>\n",
       "    </tr>\n",
       "    <tr>\n",
       "      <th>Platform</th>\n",
       "      <th></th>\n",
       "      <th></th>\n",
       "      <th></th>\n",
       "      <th></th>\n",
       "    </tr>\n",
       "  </thead>\n",
       "  <tbody>\n",
       "    <tr>\n",
       "      <th>Balancer</th>\n",
       "      <td>403860.141</td>\n",
       "      <td>440724.118</td>\n",
       "      <td>164437.859</td>\n",
       "      <td>6342805</td>\n",
       "    </tr>\n",
       "    <tr>\n",
       "      <th>Curve</th>\n",
       "      <td>18862125113.031</td>\n",
       "      <td>18855197209.966</td>\n",
       "      <td>75487.557</td>\n",
       "      <td>59217475</td>\n",
       "    </tr>\n",
       "    <tr>\n",
       "      <th>Uniswap-v2</th>\n",
       "      <td>87543145133165.094</td>\n",
       "      <td>107236091131026.281</td>\n",
       "      <td>51338320.291</td>\n",
       "      <td>51959026</td>\n",
       "    </tr>\n",
       "  </tbody>\n",
       "</table>\n",
       "</div>"
      ],
      "text/plain": [
       "                   FromAmount            ToAmount        Price    Trades\n",
       "Platform                                                                \n",
       "Balancer           403860.141          440724.118   164437.859   6342805\n",
       "Curve         18862125113.031     18855197209.966    75487.557  59217475\n",
       "Uniswap-v2 87543145133165.094 107236091131026.281 51338320.291  51959026"
      ]
     },
     "execution_count": 68,
     "metadata": {},
     "output_type": "execute_result"
    }
   ],
   "source": [
    "platform_sum_df.round(2)\n",
    "platform_sum_df"
   ]
  },
  {
   "cell_type": "code",
   "execution_count": 69,
   "metadata": {},
   "outputs": [],
   "source": [
    "to_symbol_sum_df = exchange_trades_file_df.groupby(by=['date', 'ToSymbol']).sum()"
   ]
  },
  {
   "cell_type": "code",
   "execution_count": 70,
   "metadata": {},
   "outputs": [
    {
     "data": {
      "text/html": [
       "<div>\n",
       "<style scoped>\n",
       "    .dataframe tbody tr th:only-of-type {\n",
       "        vertical-align: middle;\n",
       "    }\n",
       "\n",
       "    .dataframe tbody tr th {\n",
       "        vertical-align: top;\n",
       "    }\n",
       "\n",
       "    .dataframe thead th {\n",
       "        text-align: right;\n",
       "    }\n",
       "</style>\n",
       "<table border=\"1\" class=\"dataframe\">\n",
       "  <thead>\n",
       "    <tr style=\"text-align: right;\">\n",
       "      <th></th>\n",
       "      <th></th>\n",
       "      <th>FromAmount</th>\n",
       "      <th>ToAmount</th>\n",
       "      <th>Price</th>\n",
       "      <th>Trades</th>\n",
       "    </tr>\n",
       "    <tr>\n",
       "      <th>date</th>\n",
       "      <th>ToSymbol</th>\n",
       "      <th></th>\n",
       "      <th></th>\n",
       "      <th></th>\n",
       "      <th></th>\n",
       "    </tr>\n",
       "  </thead>\n",
       "  <tbody>\n",
       "    <tr>\n",
       "      <th rowspan=\"5\" valign=\"top\">2021-01-03</th>\n",
       "      <th>DAI</th>\n",
       "      <td>239413202.770</td>\n",
       "      <td>239458450.764</td>\n",
       "      <td>953.297</td>\n",
       "      <td>888128</td>\n",
       "    </tr>\n",
       "    <tr>\n",
       "      <th>HBTC</th>\n",
       "      <td>360.954</td>\n",
       "      <td>360.871</td>\n",
       "      <td>29.993</td>\n",
       "      <td>1470</td>\n",
       "    </tr>\n",
       "    <tr>\n",
       "      <th>TUSD</th>\n",
       "      <td>10794545.640</td>\n",
       "      <td>10794625.872</td>\n",
       "      <td>18.003</td>\n",
       "      <td>5112</td>\n",
       "    </tr>\n",
       "    <tr>\n",
       "      <th>USDC</th>\n",
       "      <td>244714262.014</td>\n",
       "      <td>244556153.578</td>\n",
       "      <td>504.576</td>\n",
       "      <td>468200</td>\n",
       "    </tr>\n",
       "    <tr>\n",
       "      <th>USDT</th>\n",
       "      <td>99588890.829</td>\n",
       "      <td>110667950.370</td>\n",
       "      <td>605.683</td>\n",
       "      <td>1081216</td>\n",
       "    </tr>\n",
       "    <tr>\n",
       "      <th>...</th>\n",
       "      <th>...</th>\n",
       "      <td>...</td>\n",
       "      <td>...</td>\n",
       "      <td>...</td>\n",
       "      <td>...</td>\n",
       "    </tr>\n",
       "    <tr>\n",
       "      <th rowspan=\"5\" valign=\"top\">2021-06-02</th>\n",
       "      <th>WBTC</th>\n",
       "      <td>2746.643</td>\n",
       "      <td>1143.358</td>\n",
       "      <td>1497.375</td>\n",
       "      <td>31396</td>\n",
       "    </tr>\n",
       "    <tr>\n",
       "      <th>WETH</th>\n",
       "      <td>223.696</td>\n",
       "      <td>3173.847</td>\n",
       "      <td>12.033</td>\n",
       "      <td>46512</td>\n",
       "    </tr>\n",
       "    <tr>\n",
       "      <th>renBTC</th>\n",
       "      <td>591.657</td>\n",
       "      <td>591.287</td>\n",
       "      <td>29.971</td>\n",
       "      <td>2340</td>\n",
       "    </tr>\n",
       "    <tr>\n",
       "      <th>yTUSD</th>\n",
       "      <td>1010.339</td>\n",
       "      <td>1076.152</td>\n",
       "      <td>3.188</td>\n",
       "      <td>99</td>\n",
       "    </tr>\n",
       "    <tr>\n",
       "      <th>yUSDC</th>\n",
       "      <td>4093.560</td>\n",
       "      <td>3567.263</td>\n",
       "      <td>0.871</td>\n",
       "      <td>33</td>\n",
       "    </tr>\n",
       "  </tbody>\n",
       "</table>\n",
       "<p>535 rows × 4 columns</p>\n",
       "</div>"
      ],
      "text/plain": [
       "                       FromAmount      ToAmount    Price   Trades\n",
       "date       ToSymbol                                              \n",
       "2021-01-03 DAI      239413202.770 239458450.764  953.297   888128\n",
       "           HBTC           360.954       360.871   29.993     1470\n",
       "           TUSD      10794545.640  10794625.872   18.003     5112\n",
       "           USDC     244714262.014 244556153.578  504.576   468200\n",
       "           USDT      99588890.829 110667950.370  605.683  1081216\n",
       "...                           ...           ...      ...      ...\n",
       "2021-06-02 WBTC          2746.643      1143.358 1497.375    31396\n",
       "           WETH           223.696      3173.847   12.033    46512\n",
       "           renBTC         591.657       591.287   29.971     2340\n",
       "           yTUSD         1010.339      1076.152    3.188       99\n",
       "           yUSDC         4093.560      3567.263    0.871       33\n",
       "\n",
       "[535 rows x 4 columns]"
      ]
     },
     "execution_count": 70,
     "metadata": {},
     "output_type": "execute_result"
    }
   ],
   "source": [
    "to_symbol_sum_df"
   ]
  },
  {
   "cell_type": "code",
   "execution_count": 71,
   "metadata": {},
   "outputs": [
    {
     "data": {
      "text/plain": [
       "<matplotlib.axes._subplots.AxesSubplot at 0x22ae6fb5280>"
      ]
     },
     "execution_count": 71,
     "metadata": {},
     "output_type": "execute_result"
    },
    {
     "data": {
      "image/png": "[encoded data removed]",
      "text/plain": [
       "<Figure size 1440x720 with 1 Axes>"
      ]
     },
     "metadata": {
      "needs_background": "light"
     },
     "output_type": "display_data"
    }
   ],
   "source": [
    "to_symbol_sum_df.plot(rot=90,  figsize=(20,10))"
   ]
  },
  {
   "cell_type": "code",
   "execution_count": 145,
   "metadata": {},
   "outputs": [],
   "source": [
    "to_symbols = exchange_trades_file_df.ToSymbol.unique()"
   ]
  },
  {
   "cell_type": "code",
   "execution_count": 81,
   "metadata": {},
   "outputs": [
    {
     "data": {
      "text/plain": [
       "array(['MIRU', 'LAWA', 'ENRH', 'NICA', 'USDC', 'DAI', 'USDT', 'HBTC',\n",
       "       'WBTC', 'WISE', 'WETH', 'sUSD', 'TUSD', 'yTUSD', 'yUSDC', 'yUSDT',\n",
       "       'yDAI', 'renBTC'], dtype=object)"
      ]
     },
     "execution_count": 81,
     "metadata": {},
     "output_type": "execute_result"
    }
   ],
   "source": [
    "exchange_trades_file_df.FromSymbol.unique()"
   ]
  },
  {
   "cell_type": "code",
   "execution_count": 146,
   "metadata": {},
   "outputs": [
    {
     "data": {
      "text/plain": [
       "array(['LAWA', 'MIRU', 'NICA', 'ENRH', 'DAI', 'USDT', 'USDC', 'WBTC',\n",
       "       'HBTC', 'WETH', 'WISE', 'sUSD', 'TUSD', 'yUSDC', 'yDAI', 'yTUSD',\n",
       "       'yUSDT', 'renBTC'], dtype=object)"
      ]
     },
     "execution_count": 146,
     "metadata": {},
     "output_type": "execute_result"
    }
   ],
   "source": [
    "to_symbols"
   ]
  },
  {
   "cell_type": "code",
   "execution_count": 153,
   "metadata": {},
   "outputs": [],
   "source": [
    "# set scraper for each Coin\n",
    "scraper=CmcScraper('renBTC',\"05-06-2021\", \"05-06-2021\")\n",
    "scraper=CmcScraper('BTC')\n",
    "# scrapereth=CmcScraper('ETH')\n",
    "# scraperada=CmcScraper('ADA')\n",
    "# scraperlink=CmcScraper('LINK')\n",
    "# scraperxrp=CmcScraper('XRP')\n",
    "# for tos in to_symbols:\n",
    "#     scraper = CmcScraper({tos})\n",
    "#     scraper.get_dataframe()"
   ]
  },
  {
   "cell_type": "code",
   "execution_count": 154,
   "metadata": {},
   "outputs": [],
   "source": [
    "#extract the data\n",
    "btcdata=scraper.get_dataframe()\n",
    "#headers, data = scraper.get_data()\n",
    "# ethdata=scrapereth.get_dataframe()\n",
    "# adadata=scraperada.get_dataframe()\n",
    "# linkdata=scraperlink.get_dataframe()\n",
    "# xrpdata=scraperxrp.get_dataframe()"
   ]
  },
  {
   "cell_type": "code",
   "execution_count": 155,
   "metadata": {},
   "outputs": [
    {
     "data": {
      "text/plain": [
       "[['05-06-2021',\n",
       "  36951.63609805,\n",
       "  37936.26857252,\n",
       "  34979.00689334,\n",
       "  35555.44558792,\n",
       "  614614.71,\n",
       "  353086904.76]]"
      ]
     },
     "execution_count": 155,
     "metadata": {},
     "output_type": "execute_result"
    }
   ],
   "source": [
    "data"
   ]
  },
  {
   "cell_type": "code",
   "execution_count": 152,
   "metadata": {},
   "outputs": [
    {
     "data": {
      "text/plain": [
       "[['05-06-2021',\n",
       "  36910.07078411,\n",
       "  37939.41000999,\n",
       "  34971.3563788,\n",
       "  35579.82810664,\n",
       "  79434803.15,\n",
       "  6678679878.93]]"
      ]
     },
     "execution_count": 152,
     "metadata": {},
     "output_type": "execute_result"
    }
   ],
   "source": []
  },
  {
   "cell_type": "code",
   "execution_count": 1,
   "metadata": {},
   "outputs": [
    {
     "ename": "NameError",
     "evalue": "name 'exchange_trades_file_df' is not defined",
     "output_type": "error",
     "traceback": [
      "\u001b[1;31m---------------------------------------------------------------------------\u001b[0m",
      "\u001b[1;31mNameError\u001b[0m                                 Traceback (most recent call last)",
      "\u001b[1;32m<ipython-input-1-38b9fef37029>\u001b[0m in \u001b[0;36m<module>\u001b[1;34m\u001b[0m\n\u001b[1;32m----> 1\u001b[1;33m \u001b[0mexchange_trades_file_df\u001b[0m\u001b[1;33m.\u001b[0m\u001b[0mhead\u001b[0m\u001b[1;33m(\u001b[0m\u001b[1;36m10\u001b[0m\u001b[1;33m)\u001b[0m\u001b[1;33m\u001b[0m\u001b[1;33m\u001b[0m\u001b[0m\n\u001b[0m",
      "\u001b[1;31mNameError\u001b[0m: name 'exchange_trades_file_df' is not defined"
     ]
    }
   ],
   "source": [
    "exchange_trades_file_df.head(10)"
   ]
  },
  {
   "cell_type": "code",
   "execution_count": 137,
   "metadata": {},
   "outputs": [],
   "source": [
    "#from tradingview_ta import TA_Handler, Interval, Exchange"
   ]
  },
  {
   "cell_type": "code",
   "execution_count": 138,
   "metadata": {},
   "outputs": [],
   "source": [
    "# tesla = TA_Handler(\n",
    "#     symbol=\"BTC\",\n",
    "#     screener=\"CRYPTO\",\n",
    "#     exchange=\"UNISWAP\",\n",
    "#     interval=Interval.INTERVAL_1_DAY\n",
    "# )\n",
    "# #print(tesla.get_analysis().summary)\n",
    "# print(type(tesla.get_analysis().indicators))\n",
    "# print(tesla.get_analysis().indicators['close'])"
   ]
  },
  {
   "cell_type": "code",
   "execution_count": 119,
   "metadata": {},
   "outputs": [
    {
     "name": "stdout",
     "output_type": "stream",
     "text": [
      "99699.89\n",
      "LAWA\n",
      "2021-04-30 00:00:00\n",
      "30-04-2021\n",
      "[['30-04-2021', 1.3061959, 1.36904107, 1.28783689, 1.35244901, 2691072833.45, 43208459367.04]]\n",
      "1.35244901\n"
     ]
    },
    {
     "ename": "IndexError",
     "evalue": "list index out of range",
     "output_type": "error",
     "traceback": [
      "\u001b[1;31m---------------------------------------------------------------------------\u001b[0m",
      "\u001b[1;31mIndexError\u001b[0m                                Traceback (most recent call last)",
      "\u001b[1;32m<ipython-input-119-b2ed37ae939e>\u001b[0m in \u001b[0;36m<module>\u001b[1;34m\u001b[0m\n\u001b[0;32m     10\u001b[0m     \u001b[0mprint\u001b[0m\u001b[1;33m(\u001b[0m\u001b[0mscr_data\u001b[0m\u001b[1;33m)\u001b[0m\u001b[1;33m\u001b[0m\u001b[1;33m\u001b[0m\u001b[0m\n\u001b[0;32m     11\u001b[0m     \u001b[0mprint\u001b[0m\u001b[1;33m(\u001b[0m\u001b[0mscr_data\u001b[0m\u001b[1;33m[\u001b[0m\u001b[1;36m0\u001b[0m\u001b[1;33m]\u001b[0m\u001b[1;33m[\u001b[0m\u001b[1;36m4\u001b[0m\u001b[1;33m]\u001b[0m\u001b[1;33m)\u001b[0m\u001b[1;33m\u001b[0m\u001b[1;33m\u001b[0m\u001b[0m\n\u001b[1;32m---> 12\u001b[1;33m     \u001b[0musdprice\u001b[0m\u001b[1;33m=\u001b[0m\u001b[0mscr_data\u001b[0m\u001b[1;33m[\u001b[0m\u001b[1;36m4\u001b[0m\u001b[1;33m]\u001b[0m\u001b[1;33m*\u001b[0m\u001b[0mrow\u001b[0m\u001b[1;33m[\u001b[0m\u001b[1;34m'ToAmount'\u001b[0m\u001b[1;33m]\u001b[0m\u001b[1;33m\u001b[0m\u001b[1;33m\u001b[0m\u001b[0m\n\u001b[0m\u001b[0;32m     13\u001b[0m     \u001b[0mprint\u001b[0m\u001b[1;33m(\u001b[0m\u001b[0musdprice\u001b[0m\u001b[1;33m)\u001b[0m\u001b[1;33m\u001b[0m\u001b[1;33m\u001b[0m\u001b[0m\n\u001b[0;32m     14\u001b[0m     \u001b[1;32mbreak\u001b[0m\u001b[1;33m\u001b[0m\u001b[1;33m\u001b[0m\u001b[0m\n",
      "\u001b[1;31mIndexError\u001b[0m: list index out of range"
     ]
    }
   ],
   "source": [
    "for index, row in exchange_trades_file_df.iterrows():\n",
    "    print(row['ToAmount'])\n",
    "    print(row['ToSymbol'])\n",
    "    print(index)\n",
    "    timestampStr = index.strftime(\"%d-%m-%Y\")\n",
    "    print(timestampStr)\n",
    "    #scraper=CmcScraper('BTC',\"05-06-2021\", \"05-06-2021\")\n",
    "    scraper=CmcScraper('ADA',timestampStr, timestampStr)\n",
    "    scr_headers, scr_data = scraper.get_data()\n",
    "    print(scr_data)\n",
    "    print(scr_data[0][4])\n",
    "    usdprice=scr_data[4]*row['ToAmount']\n",
    "    print(usdprice)\n",
    "    break"
   ]
  },
  {
   "cell_type": "code",
   "execution_count": null,
   "metadata": {
    "tags": []
   },
   "outputs": [],
   "source": [
    "# loop1_cnt=1\n",
    "\n",
    "# top10_full = []\n",
    "# #for index, row in pick10_df.iterrows():\n",
    "# for master in master_data:\n",
    "#     #print(row['Exchange'])\n",
    "#     # for each pick run the API 173 times for each date range of 3 days to get data from 1/1/2020 to current.\n",
    "#     #print(index)\n",
    "#     #print(row)\n",
    "#     loop2_cnt=1\n",
    "#     print('loop1= ', loop1_cnt)\n",
    "#     print(master)\n",
    "#     for dt in dt_list:\n",
    "#         from_dt = dt\n",
    "#         to_dt = dt + timedelta(2)\n",
    "#         #print(from_dt, ' --- ', to_dt)\n",
    "#         #print('Exhange = ',row['Exchange'])\n",
    "#         #trades_url = f\"https://data-api.defipulse.com/api/v1/blocklytics/pools/v1/trades/{row['Exchange']}?to={to_dt}&from={from_dt}&platform=curve&api-key={defipulse_api_key}\"\n",
    "#         trades_url = f\"https://data-api.defipulse.com/api/v1/blocklytics/pools/v1/trades/{master[2]}?to={to_dt}&from={from_dt}&platform=curve&api-key={defipulse_api_key}\"\n",
    "#         trades10_response_data = requests.get(trades_url).json()\n",
    "#         #tmp_list.append(row)\n",
    "#         #tmp_list.append(trades10_response_data['results'])\n",
    "#         for hist in trades10_response_data['results']:\n",
    "#             #print('****')\n",
    "#             #print(hist)\n",
    "#             tmp_list = []\n",
    "#             #print(type(tmp_list))\n",
    "#             tmp_list.append(master[0])\n",
    "#             tmp_list.append(master[1])\n",
    "#             tmp_list.append(master[2])\n",
    "#             tmp_list.append(master[3])\n",
    "#             tmp_list.append(master[4])\n",
    "#             tmp_list.append(master[5])\n",
    "#             tmp_list.append(master[6])\n",
    "#             tmp_list.append(master[7])\n",
    "#             tmp_list.append(master[8])\n",
    "#             #tmp_list.append(hist)\n",
    "#             #tmp2_list = []\n",
    "#             #tmp2_list = list(hist.values())\n",
    "#             #print(hist['fromAmount'])\n",
    "#             tmp_list.append(hist['fromAmount'])\n",
    "#             tmp_time_str = hist['timestamp']\n",
    "#             tmp_time_str = tmp_time_str[:10] + ' ' + tmp_time_str[11:]\n",
    "#             tmp_time = pd.to_datetime(tmp_time_str)\n",
    "#             #top10_full[0][10][:10] + ' ' + top10_full[0][10][11:]\n",
    "#             tmp_list.append(tmp_time)\n",
    "#             #print(type(hist))\n",
    "#             top10_full.append(tmp_list)\n",
    "#             #tmp_list.clear()\n",
    "#         print('loop2= ', loop2_cnt)\n",
    "#         if loop2_cnt > 5:\n",
    "#             break\n",
    "#         loop2_cnt=loop2_cnt+1\n",
    "#     #top10_full.append(tmp_list)\n",
    "#     if loop1_cnt > 4:\n",
    "#         break\n",
    "#     loop1_cnt = loop1_cnt + 1"
   ]
  },
  {
   "cell_type": "code",
   "execution_count": null,
   "metadata": {},
   "outputs": [],
   "source": [
    "#top10_full[1]"
   ]
  },
  {
   "cell_type": "code",
   "execution_count": null,
   "metadata": {},
   "outputs": [],
   "source": [
    "#data1"
   ]
  },
  {
   "cell_type": "markdown",
   "metadata": {},
   "source": [
    "##### Issue - ValueError: view limit minimum -1331468.8145 is less than 1 and is an invalid Matplotlib date value. This often happens if you pass a non-datetime value to an axis that has datetime units"
   ]
  },
  {
   "cell_type": "markdown",
   "metadata": {},
   "source": [
    "##### Issue - we have data like every few seconds. "
   ]
  }
 ],
 "metadata": {
  "kernelspec": {
   "display_name": "Python [conda env:fintech]",
   "language": "python",
   "name": "conda-env-fintech-py"
  },
  "language_info": {
   "codemirror_mode": {
    "name": "ipython",
    "version": 3
   },
   "file_extension": ".py",
   "mimetype": "text/x-python",
   "name": "python",
   "nbconvert_exporter": "python",
   "pygments_lexer": "ipython3",
   "version": "3.8.5"
  },
  "nteract": {
   "version": "0.28.0"
  }
 },
 "nbformat": 4,
 "nbformat_minor": 4
}
